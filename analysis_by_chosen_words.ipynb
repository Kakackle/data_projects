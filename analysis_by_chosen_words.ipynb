{
 "cells": [
  {
   "cell_type": "code",
   "execution_count": 1,
   "id": "fe5b399a-6721-402a-b9e3-4634805486b8",
   "metadata": {},
   "outputs": [],
   "source": [
    "import pandas as pd\n",
    "import re\n",
    "import os\n",
    "import plotly\n",
    "import plotly.express as px"
   ]
  },
  {
   "cell_type": "code",
   "execution_count": 2,
   "id": "dc3143e7-6149-428e-9e44-1dd259d3272a",
   "metadata": {},
   "outputs": [],
   "source": [
    "artists_df = pd.read_csv('artists_10_cleaned.csv', index_col=0)"
   ]
  },
  {
   "cell_type": "code",
   "execution_count": 14,
   "id": "7470d4df-4308-45d1-89ae-67e18b73f733",
   "metadata": {},
   "outputs": [
    {
     "data": {
      "text/html": [
       "<div>\n",
       "<style scoped>\n",
       "    .dataframe tbody tr th:only-of-type {\n",
       "        vertical-align: middle;\n",
       "    }\n",
       "\n",
       "    .dataframe tbody tr th {\n",
       "        vertical-align: top;\n",
       "    }\n",
       "\n",
       "    .dataframe thead th {\n",
       "        text-align: right;\n",
       "    }\n",
       "</style>\n",
       "<table border=\"1\" class=\"dataframe\">\n",
       "  <thead>\n",
       "    <tr style=\"text-align: right;\">\n",
       "      <th></th>\n",
       "      <th>Artist</th>\n",
       "      <th>Song Title</th>\n",
       "      <th>Song Lyrics</th>\n",
       "      <th>Artist Image</th>\n",
       "    </tr>\n",
       "  </thead>\n",
       "  <tbody>\n",
       "    <tr>\n",
       "      <th>55</th>\n",
       "      <td>Ice Cube</td>\n",
       "      <td>Smoke Some Weed</td>\n",
       "      <td>43 contributorssmoke some weed lyrics ice cube...</td>\n",
       "      <td>https://images.genius.com/ad69cae78eaa818e5728...</td>\n",
       "    </tr>\n",
       "    <tr>\n",
       "      <th>74</th>\n",
       "      <td>JAY-Z</td>\n",
       "      <td>Family Feud</td>\n",
       "      <td>ha-ya my nigga got on ha-ya my nigga got on al...</td>\n",
       "      <td>https://images.genius.com/dab4680bbb0569024ef3...</td>\n",
       "    </tr>\n",
       "    <tr>\n",
       "      <th>83</th>\n",
       "      <td>Kanye West</td>\n",
       "      <td>Ultralight Beam</td>\n",
       "      <td>yes, god we don't want no devils in the house,...</td>\n",
       "      <td>https://images.genius.com/6554f35f985155695946...</td>\n",
       "    </tr>\n",
       "    <tr>\n",
       "      <th>135</th>\n",
       "      <td>MF DOOM</td>\n",
       "      <td>Kon Queso</td>\n",
       "      <td>128 contributorskon queso lyrics give it a sec...</td>\n",
       "      <td>https://images.genius.com/263743633b6e58854e75...</td>\n",
       "    </tr>\n",
       "    <tr>\n",
       "      <th>126</th>\n",
       "      <td>MF DOOM</td>\n",
       "      <td>Rhymes Like Dimes</td>\n",
       "      <td>ayo, yo, y'all can't stand right here in his r...</td>\n",
       "      <td>https://images.genius.com/263743633b6e58854e75...</td>\n",
       "    </tr>\n",
       "  </tbody>\n",
       "</table>\n",
       "</div>"
      ],
      "text/plain": [
       "         Artist         Song Title  \\\n",
       "55     Ice Cube    Smoke Some Weed   \n",
       "74        JAY-Z        Family Feud   \n",
       "83   Kanye West    Ultralight Beam   \n",
       "135     MF DOOM          Kon Queso   \n",
       "126     MF DOOM  Rhymes Like Dimes   \n",
       "\n",
       "                                           Song Lyrics  \\\n",
       "55   43 contributorssmoke some weed lyrics ice cube...   \n",
       "74   ha-ya my nigga got on ha-ya my nigga got on al...   \n",
       "83   yes, god we don't want no devils in the house,...   \n",
       "135  128 contributorskon queso lyrics give it a sec...   \n",
       "126  ayo, yo, y'all can't stand right here in his r...   \n",
       "\n",
       "                                          Artist Image  \n",
       "55   https://images.genius.com/ad69cae78eaa818e5728...  \n",
       "74   https://images.genius.com/dab4680bbb0569024ef3...  \n",
       "83   https://images.genius.com/6554f35f985155695946...  \n",
       "135  https://images.genius.com/263743633b6e58854e75...  \n",
       "126  https://images.genius.com/263743633b6e58854e75...  "
      ]
     },
     "execution_count": 14,
     "metadata": {},
     "output_type": "execute_result"
    }
   ],
   "source": [
    "artists_df.sample(5)"
   ]
  },
  {
   "cell_type": "code",
   "execution_count": 16,
   "id": "5ca468bc-7d26-469e-bfcf-a5570107b36d",
   "metadata": {
    "scrolled": true
   },
   "outputs": [],
   "source": [
    "to_count = ['money', 'shoot', 'god', 'heart', 'hard', 'nigga', 'fuck', 'party', 'weed', 'devil']\n",
    "for i in artists_df.index:\n",
    "    lyrics = artists_df['Song Lyrics'].str\n",
    "    for word in to_count:\n",
    "        word_count = lyrics.count(word)\n",
    "        artists_df[word] = word_count\n",
    "    # artists_df['you'][i]"
   ]
  },
  {
   "cell_type": "code",
   "execution_count": 17,
   "id": "030f20e8-a45a-49a2-9b87-0f844fa2bc27",
   "metadata": {},
   "outputs": [
    {
     "data": {
      "text/plain": [
       "Index(['Artist', 'Song Title', 'Song Lyrics', 'Artist Image', 'money', 'shoot',\n",
       "       'god', 'heart', 'hard', 'nigga', 'fuck', 'party', 'weed', 'devil'],\n",
       "      dtype='object')"
      ]
     },
     "execution_count": 17,
     "metadata": {},
     "output_type": "execute_result"
    }
   ],
   "source": [
    "artists_df.columns"
   ]
  },
  {
   "cell_type": "code",
   "execution_count": null,
   "id": "dc513a53-c45b-47ff-95d3-59fafbc4360b",
   "metadata": {},
   "outputs": [],
   "source": [
    "fig = px.bar(artists_df, "
   ]
  }
 ],
 "metadata": {
  "kernelspec": {
   "display_name": "data_venv",
   "language": "python",
   "name": "data_venv"
  },
  "language_info": {
   "codemirror_mode": {
    "name": "ipython",
    "version": 3
   },
   "file_extension": ".py",
   "mimetype": "text/x-python",
   "name": "python",
   "nbconvert_exporter": "python",
   "pygments_lexer": "ipython3",
   "version": "3.10.9"
  }
 },
 "nbformat": 4,
 "nbformat_minor": 5
}
