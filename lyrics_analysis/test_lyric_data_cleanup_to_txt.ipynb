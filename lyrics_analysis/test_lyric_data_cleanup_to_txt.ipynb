{
 "cells": [
  {
   "cell_type": "code",
   "execution_count": null,
   "id": "2a440651-8449-423c-be5c-1595fbd9b3b9",
   "metadata": {},
   "outputs": [],
   "source": [
    "# words = open(artist_lyrics_song_path).read()\n",
    "#     words = list(set(words.strip().replace('\\n',' ').lower().split()))\n",
    "#     songs.append((title, words))\n",
    "\n",
    "# for index, (title, word_list) in enumerate(songs):"
   ]
  },
  {
   "cell_type": "code",
   "execution_count": null,
   "id": "c8223047-1646-4cb6-97d8-b5fb8a321e72",
   "metadata": {},
   "outputs": [],
   "source": [
    "# import json\n",
    "# json_file = open(f'{file_name}.json')\n",
    "# song_obj = json.load(json_file)\n",
    "# json_file.close()"
   ]
  },
  {
   "cell_type": "code",
   "execution_count": null,
   "id": "0d8785d0-a76a-40fa-8f86-6b871b38d831",
   "metadata": {},
   "outputs": [],
   "source": [
    "# with open(f'{file_name}.txt', \"w\", encoding=\"utf-8\") as file:\n",
    "#     for song in song_obj.get('songs'):\n",
    "#         lyrics = song.get(\"lyrics\")\n",
    "#         file.write(lyrics)\n",
    "#         file.write(\"\\n============================\\n\")\n",
    "#         file.write(\"\\n\")"
   ]
  },
  {
   "cell_type": "code",
   "execution_count": 18,
   "id": "f32879b6-be67-4c4e-b191-9c08f95bec1a",
   "metadata": {},
   "outputs": [],
   "source": [
    "import json\n",
    "import re\n",
    "import os"
   ]
  },
  {
   "cell_type": "markdown",
   "id": "ce179174-63b2-49e7-ad81-cfc2b82111fc",
   "metadata": {},
   "source": [
    "### Find saved json files, create folders for artist songs, save song lyrics to files"
   ]
  },
  {
   "cell_type": "code",
   "execution_count": 64,
   "id": "5886b1cd-2939-4f05-8d84-636b49ef92b8",
   "metadata": {},
   "outputs": [],
   "source": [
    "artist_regex = re.compile(r'Lyrics_(\\w*)\\.json')"
   ]
  },
  {
   "cell_type": "code",
   "execution_count": 26,
   "id": "da23fca9-c26e-44cf-8c5d-1ee4af3c4b4b",
   "metadata": {},
   "outputs": [],
   "source": [
    "# dirty_filename = 'jayz_test_dirty.json'\n",
    "json_filename = 'Lyrics_JAYZ.json'"
   ]
  },
  {
   "cell_type": "code",
   "execution_count": 27,
   "id": "a487bb6d-a1d6-4da5-90a7-8eb434f811aa",
   "metadata": {},
   "outputs": [],
   "source": [
    "artist_match = artist_regex.findall(json_filename)"
   ]
  },
  {
   "cell_type": "code",
   "execution_count": 28,
   "id": "1656d334-3faa-450d-a10c-217ffe31e3cd",
   "metadata": {},
   "outputs": [],
   "source": [
    "artist_name = artist_match[0].lower()\n",
    "folder_name = f'songs/{artist_name}'\n",
    "if not os.path.exists(folder_name):\n",
    "    os.makedirs(folder_name)"
   ]
  },
  {
   "cell_type": "code",
   "execution_count": 33,
   "id": "03364c76-f1b6-407d-8afb-e6a9c00987dc",
   "metadata": {},
   "outputs": [],
   "source": [
    "with open(json_filename, 'r') as json_file:\n",
    "    song_json = json.load(json_file)\n",
    "    songs_file = open(f'{folder_name}/combined.txt', 'w', encoding='utf-8')\n",
    "    for song in song_json.get('songs'):\n",
    "        song_title = song['title'].lower().replace(' ', '_')\n",
    "        song_file = open(f'{folder_name}/{song_title}.txt', 'w', encoding='utf-8')\n",
    "        lyrics = song.get('lyrics')\n",
    "        song_file.write(lyrics)\n",
    "        song_file.close()\n",
    "        songs_file.write(lyrics)\n",
    "        songs_file.write('\\n')\n",
    "    songs_file.close()"
   ]
  },
  {
   "cell_type": "markdown",
   "id": "6d9138d6-edcb-4b31-9638-fa0d2dae88b0",
   "metadata": {},
   "source": [
    "### Cleaning genius impurities from lyrics files"
   ]
  },
  {
   "cell_type": "code",
   "execution_count": 58,
   "id": "a6308256-1938-4f82-b69c-595381b19753",
   "metadata": {},
   "outputs": [],
   "source": [
    "genius_regex = re.compile(r'(\\d*.*)ContributorsTranslations(.*)Lyrics\\n((.|\\n|\\r)*)\\n*(\\d*Embed)')"
   ]
  },
  {
   "cell_type": "code",
   "execution_count": 62,
   "id": "500be1e6-65e2-4c2b-a871-5c5ff23b69e9",
   "metadata": {},
   "outputs": [],
   "source": [
    "for file in os.listdir(folder_name):\n",
    "    if not file.endswith('.txt'):\n",
    "        continue\n",
    "    with open(f'{folder_name}/{file}', 'r+', encoding='utf-8') as text_file:\n",
    "        lyrics = text_file.read()\n",
    "        lyrics_groups = genius_regex.findall(lyrics)\n",
    "    with open(f'{folder_name}/{file}', 'w', encoding='utf-8') as text_file:\n",
    "        text_file.write(lyrics_groups[0][2])"
   ]
  },
  {
   "cell_type": "code",
   "execution_count": 63,
   "id": "27caebab-735f-44c0-83e0-8afb36b5792f",
   "metadata": {},
   "outputs": [],
   "source": [
    "# with open(f'{folder_name}/empire_state_of_mind.txt', 'r+', encoding='utf-8') as grail:\n",
    "#     lyrics = grail.read()\n",
    "#     # print(lyrics)\n",
    "#     lyrics_groups = genius_regex.findall(lyrics)\n",
    "#     print(lyrics_groups[0][1])\n",
    "#     # print(lyrics_groups)"
   ]
  },
  {
   "cell_type": "markdown",
   "id": "ed470e9b-de37-4f6a-b934-31e9b41c2fd3",
   "metadata": {},
   "source": [
    "### Create combined lyrics files"
   ]
  },
  {
   "cell_type": "code",
   "execution_count": 67,
   "id": "47b79806-c20d-4a77-9af6-67fe05cc7f26",
   "metadata": {},
   "outputs": [],
   "source": [
    "for artist in os.listdir('songs'):\n",
    "    if artist == '.ipynb_checkpoints':\n",
    "        continue\n",
    "    artist_lyrics = ''\n",
    "    for song in os.listdir(f'songs/{artist}'):\n",
    "        if song == '.ipynb_checkpoints':\n",
    "            continue\n",
    "        with open(f'songs/{artist}/{song}', 'r+', encoding='utf-8') as song_file:\n",
    "            song_lyrics = song_file.read()\n",
    "            artist_lyrics += song_lyrics\n",
    "    combined_file = open(f'songs/{artist}/combined.txt', 'w', encoding='utf-8')\n",
    "    combined_file.write(artist_lyrics)"
   ]
  },
  {
   "cell_type": "code",
   "execution_count": null,
   "id": "6a5576f0-ce20-4572-a5ae-8d8ea51e10ad",
   "metadata": {},
   "outputs": [],
   "source": []
  }
 ],
 "metadata": {
  "kernelspec": {
   "display_name": "data_venv",
   "language": "python",
   "name": "data_venv"
  },
  "language_info": {
   "codemirror_mode": {
    "name": "ipython",
    "version": 3
   },
   "file_extension": ".py",
   "mimetype": "text/x-python",
   "name": "python",
   "nbconvert_exporter": "python",
   "pygments_lexer": "ipython3",
   "version": "3.10.9"
  }
 },
 "nbformat": 4,
 "nbformat_minor": 5
}
