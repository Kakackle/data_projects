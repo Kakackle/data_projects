{
 "cells": [
  {
   "cell_type": "code",
   "execution_count": 17,
   "id": "7e15b1ff-bfd9-4c5e-be24-d6e921adbe41",
   "metadata": {},
   "outputs": [],
   "source": [
    "import pandas as pd\n",
    "import re\n",
    "import os\n",
    "import plotly\n",
    "import plotly.express as px"
   ]
  },
  {
   "cell_type": "code",
   "execution_count": 18,
   "id": "58126daa-2a13-402e-882a-e781cf68fb74",
   "metadata": {},
   "outputs": [],
   "source": [
    "artists_df = pd.read_csv('artists_10_cleaned.csv', index_col=0)"
   ]
  },
  {
   "cell_type": "code",
   "execution_count": 19,
   "id": "76236f72-5815-4a87-b0f9-649413d1f397",
   "metadata": {},
   "outputs": [
    {
     "data": {
      "text/html": [
       "<div>\n",
       "<style scoped>\n",
       "    .dataframe tbody tr th:only-of-type {\n",
       "        vertical-align: middle;\n",
       "    }\n",
       "\n",
       "    .dataframe tbody tr th {\n",
       "        vertical-align: top;\n",
       "    }\n",
       "\n",
       "    .dataframe thead th {\n",
       "        text-align: right;\n",
       "    }\n",
       "</style>\n",
       "<table border=\"1\" class=\"dataframe\">\n",
       "  <thead>\n",
       "    <tr style=\"text-align: right;\">\n",
       "      <th></th>\n",
       "      <th>Artist</th>\n",
       "      <th>Song Title</th>\n",
       "      <th>Song Lyrics</th>\n",
       "      <th>Artist Image</th>\n",
       "    </tr>\n",
       "  </thead>\n",
       "  <tbody>\n",
       "    <tr>\n",
       "      <th>113</th>\n",
       "      <td>Kendrick Lamar</td>\n",
       "      <td>The Blacker the Berry</td>\n",
       "      <td>everything black, i don't want black they want...</td>\n",
       "      <td>https://images.genius.com/d6d96651b423fa5a83c3...</td>\n",
       "    </tr>\n",
       "    <tr>\n",
       "      <th>155</th>\n",
       "      <td>Nas</td>\n",
       "      <td>Daughters</td>\n",
       "      <td>92 contributorsdaughters lyrics  check it out ...</td>\n",
       "      <td>https://images.genius.com/23061dd2dc7e863127db...</td>\n",
       "    </tr>\n",
       "    <tr>\n",
       "      <th>11</th>\n",
       "      <td>2Pac</td>\n",
       "      <td>I Ain’t Mad At Cha</td>\n",
       "      <td>change, shit i guess change is good for any of...</td>\n",
       "      <td>https://images.genius.com/46cb64bfbd6e4b6e247a...</td>\n",
       "    </tr>\n",
       "    <tr>\n",
       "      <th>42</th>\n",
       "      <td>Ice Cube</td>\n",
       "      <td>Gangsta Rap Made Me Do It</td>\n",
       "      <td>92 contributorsgangsta rap made me do it lyric...</td>\n",
       "      <td>https://images.genius.com/ad69cae78eaa818e5728...</td>\n",
       "    </tr>\n",
       "    <tr>\n",
       "      <th>77</th>\n",
       "      <td>JAY-Z</td>\n",
       "      <td>Song Cry</td>\n",
       "      <td>102 contributorssong cry lyrics picture all th...</td>\n",
       "      <td>https://images.genius.com/dab4680bbb0569024ef3...</td>\n",
       "    </tr>\n",
       "  </tbody>\n",
       "</table>\n",
       "</div>"
      ],
      "text/plain": [
       "             Artist                 Song Title  \\\n",
       "113  Kendrick Lamar      The Blacker the Berry   \n",
       "155             Nas                  Daughters   \n",
       "11             2Pac         I Ain’t Mad At Cha   \n",
       "42         Ice Cube  Gangsta Rap Made Me Do It   \n",
       "77            JAY-Z                   Song Cry   \n",
       "\n",
       "                                           Song Lyrics  \\\n",
       "113  everything black, i don't want black they want...   \n",
       "155  92 contributorsdaughters lyrics  check it out ...   \n",
       "11   change, shit i guess change is good for any of...   \n",
       "42   92 contributorsgangsta rap made me do it lyric...   \n",
       "77   102 contributorssong cry lyrics picture all th...   \n",
       "\n",
       "                                          Artist Image  \n",
       "113  https://images.genius.com/d6d96651b423fa5a83c3...  \n",
       "155  https://images.genius.com/23061dd2dc7e863127db...  \n",
       "11   https://images.genius.com/46cb64bfbd6e4b6e247a...  \n",
       "42   https://images.genius.com/ad69cae78eaa818e5728...  \n",
       "77   https://images.genius.com/dab4680bbb0569024ef3...  "
      ]
     },
     "execution_count": 19,
     "metadata": {},
     "output_type": "execute_result"
    }
   ],
   "source": [
    "artists_df.sample(5)"
   ]
  },
  {
   "cell_type": "code",
   "execution_count": 20,
   "id": "07b1966d-a113-4a9c-81ea-7d7d8b320737",
   "metadata": {},
   "outputs": [],
   "source": [
    "artists_df_grouped = artists_df.groupby(['Artist'])"
   ]
  },
  {
   "cell_type": "code",
   "execution_count": 21,
   "id": "39bcf662-3597-40ef-87e3-99a56e1b1496",
   "metadata": {
    "scrolled": true
   },
   "outputs": [],
   "source": [
    "tupac_df = artists_df_grouped.get_group('2Pac').head()"
   ]
  },
  {
   "cell_type": "code",
   "execution_count": 22,
   "id": "fc389ba7-2d52-4d4d-a74d-f15e6a9c631b",
   "metadata": {},
   "outputs": [
    {
     "data": {
      "text/html": [
       "<div>\n",
       "<style scoped>\n",
       "    .dataframe tbody tr th:only-of-type {\n",
       "        vertical-align: middle;\n",
       "    }\n",
       "\n",
       "    .dataframe tbody tr th {\n",
       "        vertical-align: top;\n",
       "    }\n",
       "\n",
       "    .dataframe thead th {\n",
       "        text-align: right;\n",
       "    }\n",
       "</style>\n",
       "<table border=\"1\" class=\"dataframe\">\n",
       "  <thead>\n",
       "    <tr style=\"text-align: right;\">\n",
       "      <th></th>\n",
       "      <th>Artist</th>\n",
       "      <th>Song Title</th>\n",
       "      <th>Song Lyrics</th>\n",
       "      <th>Artist Image</th>\n",
       "    </tr>\n",
       "  </thead>\n",
       "  <tbody>\n",
       "    <tr>\n",
       "      <th>0</th>\n",
       "      <td>2Pac</td>\n",
       "      <td>Hit ’Em Up</td>\n",
       "      <td>sucka-ass i ain't got no mothafuckin' friends ...</td>\n",
       "      <td>https://images.genius.com/46cb64bfbd6e4b6e247a...</td>\n",
       "    </tr>\n",
       "    <tr>\n",
       "      <th>1</th>\n",
       "      <td>2Pac</td>\n",
       "      <td>Changes</td>\n",
       "      <td>ooh, yeah ooh come on, come on  i see no chang...</td>\n",
       "      <td>https://images.genius.com/46cb64bfbd6e4b6e247a...</td>\n",
       "    </tr>\n",
       "    <tr>\n",
       "      <th>2</th>\n",
       "      <td>2Pac</td>\n",
       "      <td>Keep Ya Head Up</td>\n",
       "      <td>257 contributorskeep ya head up lyrics little ...</td>\n",
       "      <td>https://images.genius.com/46cb64bfbd6e4b6e247a...</td>\n",
       "    </tr>\n",
       "    <tr>\n",
       "      <th>3</th>\n",
       "      <td>2Pac</td>\n",
       "      <td>Hail Mary</td>\n",
       "      <td>makaveli in this, killuminati all through your...</td>\n",
       "      <td>https://images.genius.com/46cb64bfbd6e4b6e247a...</td>\n",
       "    </tr>\n",
       "    <tr>\n",
       "      <th>4</th>\n",
       "      <td>2Pac</td>\n",
       "      <td>Dear Mama</td>\n",
       "      <td>you are appreciated  when i was young, me and ...</td>\n",
       "      <td>https://images.genius.com/46cb64bfbd6e4b6e247a...</td>\n",
       "    </tr>\n",
       "  </tbody>\n",
       "</table>\n",
       "</div>"
      ],
      "text/plain": [
       "  Artist       Song Title                                        Song Lyrics  \\\n",
       "0   2Pac       Hit ’Em Up  sucka-ass i ain't got no mothafuckin' friends ...   \n",
       "1   2Pac          Changes  ooh, yeah ooh come on, come on  i see no chang...   \n",
       "2   2Pac  Keep Ya Head Up  257 contributorskeep ya head up lyrics little ...   \n",
       "3   2Pac        Hail Mary  makaveli in this, killuminati all through your...   \n",
       "4   2Pac        Dear Mama  you are appreciated  when i was young, me and ...   \n",
       "\n",
       "                                        Artist Image  \n",
       "0  https://images.genius.com/46cb64bfbd6e4b6e247a...  \n",
       "1  https://images.genius.com/46cb64bfbd6e4b6e247a...  \n",
       "2  https://images.genius.com/46cb64bfbd6e4b6e247a...  \n",
       "3  https://images.genius.com/46cb64bfbd6e4b6e247a...  \n",
       "4  https://images.genius.com/46cb64bfbd6e4b6e247a...  "
      ]
     },
     "execution_count": 22,
     "metadata": {},
     "output_type": "execute_result"
    }
   ],
   "source": [
    "tupac_df.head()"
   ]
  },
  {
   "cell_type": "code",
   "execution_count": 23,
   "id": "c94307ac-88da-4f1d-af89-a9cb5e28bb7f",
   "metadata": {
    "scrolled": true
   },
   "outputs": [
    {
     "name": "stderr",
     "output_type": "stream",
     "text": [
      "C:\\Users\\User\\AppData\\Local\\Temp\\ipykernel_24956\\1254807709.py:1: FutureWarning: pandas.value_counts is deprecated and will be removed in a future version. Use pd.Series(obj).value_counts() instead.\n",
      "  tupac_word_counts = tupac_df['Song Lyrics'].apply(lambda x: pd.value_counts(x.split())).sum(axis=0)\n",
      "C:\\Users\\User\\AppData\\Local\\Temp\\ipykernel_24956\\1254807709.py:1: FutureWarning: value_counts with argument that is not not a Series, Index, ExtensionArray, or np.ndarray is deprecated and will raise in a future version.\n",
      "  tupac_word_counts = tupac_df['Song Lyrics'].apply(lambda x: pd.value_counts(x.split())).sum(axis=0)\n",
      "C:\\Users\\User\\AppData\\Local\\Temp\\ipykernel_24956\\1254807709.py:1: FutureWarning: pandas.value_counts is deprecated and will be removed in a future version. Use pd.Series(obj).value_counts() instead.\n",
      "  tupac_word_counts = tupac_df['Song Lyrics'].apply(lambda x: pd.value_counts(x.split())).sum(axis=0)\n",
      "C:\\Users\\User\\AppData\\Local\\Temp\\ipykernel_24956\\1254807709.py:1: FutureWarning: value_counts with argument that is not not a Series, Index, ExtensionArray, or np.ndarray is deprecated and will raise in a future version.\n",
      "  tupac_word_counts = tupac_df['Song Lyrics'].apply(lambda x: pd.value_counts(x.split())).sum(axis=0)\n",
      "C:\\Users\\User\\AppData\\Local\\Temp\\ipykernel_24956\\1254807709.py:1: FutureWarning: pandas.value_counts is deprecated and will be removed in a future version. Use pd.Series(obj).value_counts() instead.\n",
      "  tupac_word_counts = tupac_df['Song Lyrics'].apply(lambda x: pd.value_counts(x.split())).sum(axis=0)\n",
      "C:\\Users\\User\\AppData\\Local\\Temp\\ipykernel_24956\\1254807709.py:1: FutureWarning: value_counts with argument that is not not a Series, Index, ExtensionArray, or np.ndarray is deprecated and will raise in a future version.\n",
      "  tupac_word_counts = tupac_df['Song Lyrics'].apply(lambda x: pd.value_counts(x.split())).sum(axis=0)\n",
      "C:\\Users\\User\\AppData\\Local\\Temp\\ipykernel_24956\\1254807709.py:1: FutureWarning: pandas.value_counts is deprecated and will be removed in a future version. Use pd.Series(obj).value_counts() instead.\n",
      "  tupac_word_counts = tupac_df['Song Lyrics'].apply(lambda x: pd.value_counts(x.split())).sum(axis=0)\n",
      "C:\\Users\\User\\AppData\\Local\\Temp\\ipykernel_24956\\1254807709.py:1: FutureWarning: value_counts with argument that is not not a Series, Index, ExtensionArray, or np.ndarray is deprecated and will raise in a future version.\n",
      "  tupac_word_counts = tupac_df['Song Lyrics'].apply(lambda x: pd.value_counts(x.split())).sum(axis=0)\n",
      "C:\\Users\\User\\AppData\\Local\\Temp\\ipykernel_24956\\1254807709.py:1: FutureWarning: pandas.value_counts is deprecated and will be removed in a future version. Use pd.Series(obj).value_counts() instead.\n",
      "  tupac_word_counts = tupac_df['Song Lyrics'].apply(lambda x: pd.value_counts(x.split())).sum(axis=0)\n",
      "C:\\Users\\User\\AppData\\Local\\Temp\\ipykernel_24956\\1254807709.py:1: FutureWarning: value_counts with argument that is not not a Series, Index, ExtensionArray, or np.ndarray is deprecated and will raise in a future version.\n",
      "  tupac_word_counts = tupac_df['Song Lyrics'].apply(lambda x: pd.value_counts(x.split())).sum(axis=0)\n"
     ]
    }
   ],
   "source": [
    "tupac_word_counts = tupac_df['Song Lyrics'].apply(lambda x: pd.value_counts(x.split())).sum(axis=0)"
   ]
  },
  {
   "cell_type": "code",
   "execution_count": 27,
   "id": "662eb102-8ede-4ba0-9d78-c5f21b720ee2",
   "metadata": {
    "scrolled": true
   },
   "outputs": [
    {
     "data": {
      "text/plain": [
       "you              148.0\n",
       "the              194.0\n",
       "we                74.0\n",
       "and              101.0\n",
       "take              29.0\n",
       "a                 90.0\n",
       "i                114.0\n",
       "fuck              20.0\n",
       "money             21.0\n",
       "to               104.0\n",
       "your              30.0\n",
       "with              37.0\n",
       "on                43.0\n",
       "in                41.0\n",
       "when              33.0\n",
       "of                27.0\n",
       "niggas            14.0\n",
       "all               26.0\n",
       "but               31.0\n",
       "ain't             28.0\n",
       "it                64.0\n",
       "my                53.0\n",
       "know              20.0\n",
       "i'm               24.0\n",
       "up                34.0\n",
       "see               27.0\n",
       "get               24.0\n",
       "be                28.0\n",
       "they              25.0\n",
       "bad                8.0\n",
       "now               16.0\n",
       "is                45.0\n",
       "'em               14.0\n",
       "for               29.0\n",
       "don't             30.0\n",
       "let               13.0\n",
       "how               13.0\n",
       "hit                6.0\n",
       "little            11.0\n",
       "motherfuckin'      6.0\n",
       "dtype: float64"
      ]
     },
     "execution_count": 27,
     "metadata": {},
     "output_type": "execute_result"
    }
   ],
   "source": [
    "tupac_word_counts[:40]"
   ]
  },
  {
   "cell_type": "code",
   "execution_count": 25,
   "id": "294bf31c-7488-4f5d-b1c3-b13da3ffb411",
   "metadata": {},
   "outputs": [
    {
     "data": {
      "text/plain": [
       "pandas.core.series.Series"
      ]
     },
     "execution_count": 25,
     "metadata": {},
     "output_type": "execute_result"
    }
   ],
   "source": [
    "type(tupac_word_counts)"
   ]
  },
  {
   "cell_type": "code",
   "execution_count": 33,
   "id": "b50fcdd3-42d5-43ff-8bf8-730bc6f2ee58",
   "metadata": {},
   "outputs": [],
   "source": [
    "COMMON_WORDS = ['the', 'and', 'a', 'to', 'with',\n",
    "                'on', 'in', 'when', 'of', 'but',\n",
    "                'it', 'is', 'for', 'it\\'s']\n",
    "# 'we', 'you', 'i' could give us some unsights into who the lyrics are focused on"
   ]
  },
  {
   "cell_type": "code",
   "execution_count": 46,
   "id": "27a3f118-c655-47e5-9f74-80a91d5ed1bb",
   "metadata": {},
   "outputs": [],
   "source": [
    "exclude_words = tupac_word_counts.index.isin(COMMON_WORDS)\n",
    "tupac_word_counts_uncommon = tupac_word_counts[~exclude_words]"
   ]
  },
  {
   "cell_type": "code",
   "execution_count": 35,
   "id": "87596dd3-05e2-4e30-bd1b-905c09404bd9",
   "metadata": {
    "scrolled": true
   },
   "outputs": [
    {
     "data": {
      "text/plain": [
       "you              148.0\n",
       "we                74.0\n",
       "take              29.0\n",
       "i                114.0\n",
       "fuck              20.0\n",
       "money             21.0\n",
       "your              30.0\n",
       "niggas            14.0\n",
       "all               26.0\n",
       "ain't             28.0\n",
       "my                53.0\n",
       "know              20.0\n",
       "i'm               24.0\n",
       "up                34.0\n",
       "see               27.0\n",
       "get               24.0\n",
       "be                28.0\n",
       "they              25.0\n",
       "bad                8.0\n",
       "now               16.0\n",
       "'em               14.0\n",
       "don't             30.0\n",
       "let               13.0\n",
       "how               13.0\n",
       "hit                6.0\n",
       "little            11.0\n",
       "motherfuckin'      6.0\n",
       "nigga,            13.0\n",
       "ya                21.0\n",
       "as                14.0\n",
       "got               20.0\n",
       "out               14.0\n",
       "boy                5.0\n",
       "no                24.0\n",
       "up!                5.0\n",
       "our               14.0\n",
       "this              21.0\n",
       "do                23.0\n",
       "us                 9.0\n",
       "or                13.0\n",
       "dtype: float64"
      ]
     },
     "execution_count": 35,
     "metadata": {},
     "output_type": "execute_result"
    }
   ],
   "source": [
    "tupac_word_counts_uncommon[:40]"
   ]
  },
  {
   "cell_type": "code",
   "execution_count": 48,
   "id": "0631fa80-edba-442e-93b3-e3ac1031cf04",
   "metadata": {},
   "outputs": [],
   "source": [
    "tupac_word_counts_common = tupac_word_counts_uncommon[tupac_word_counts_uncommon>5]"
   ]
  },
  {
   "cell_type": "code",
   "execution_count": 49,
   "id": "3307d3d0-2c19-4c4a-bb5c-146ccaf92098",
   "metadata": {},
   "outputs": [
    {
     "data": {
      "text/plain": [
       "132"
      ]
     },
     "execution_count": 49,
     "metadata": {},
     "output_type": "execute_result"
    }
   ],
   "source": [
    "len(tupac_word_counts_common)"
   ]
  },
  {
   "cell_type": "code",
   "execution_count": 58,
   "id": "bdf2db98-dc07-47b2-b229-b67b8c1a531b",
   "metadata": {},
   "outputs": [],
   "source": [
    "word_counts_df = pd.DataFrame(columns=tupac_word_counts_common.index)"
   ]
  },
  {
   "cell_type": "code",
   "execution_count": 59,
   "id": "737c2c5c-3b7b-4594-9c3d-5ae25242ecc6",
   "metadata": {},
   "outputs": [
    {
     "data": {
      "text/html": [
       "<div>\n",
       "<style scoped>\n",
       "    .dataframe tbody tr th:only-of-type {\n",
       "        vertical-align: middle;\n",
       "    }\n",
       "\n",
       "    .dataframe tbody tr th {\n",
       "        vertical-align: top;\n",
       "    }\n",
       "\n",
       "    .dataframe thead th {\n",
       "        text-align: right;\n",
       "    }\n",
       "</style>\n",
       "<table border=\"1\" class=\"dataframe\">\n",
       "  <thead>\n",
       "    <tr style=\"text-align: right;\">\n",
       "      <th></th>\n",
       "      <th>you</th>\n",
       "      <th>we</th>\n",
       "      <th>take</th>\n",
       "      <th>i</th>\n",
       "      <th>fuck</th>\n",
       "      <th>money</th>\n",
       "      <th>your</th>\n",
       "      <th>niggas</th>\n",
       "      <th>all</th>\n",
       "      <th>ain't</th>\n",
       "      <th>...</th>\n",
       "      <th>da-da,</th>\n",
       "      <th>da,</th>\n",
       "      <th>now?</th>\n",
       "      <th>die?</th>\n",
       "      <th>quick,</th>\n",
       "      <th>la,</th>\n",
       "      <th>lady,</th>\n",
       "      <th>sweet</th>\n",
       "      <th>appreciated</th>\n",
       "      <th>ya?</th>\n",
       "    </tr>\n",
       "  </thead>\n",
       "  <tbody>\n",
       "  </tbody>\n",
       "</table>\n",
       "<p>0 rows × 132 columns</p>\n",
       "</div>"
      ],
      "text/plain": [
       "Empty DataFrame\n",
       "Columns: [you, we, take, i, fuck, money, your, niggas, all, ain't, my, know, i'm, up, see, get, be, they, bad, now, 'em, don't, let, how, hit, little, motherfuckin', nigga,, ya, as, got, out, no, our, this, do, us, or, feel, me, wanna, thug, me,, keep, back, real, life, like, didn't, even, what, gettin', shit, tell, that, from, gonna, 'cause, just, way, go, can't, come, why, that's, around, then, ride, was, had, through, have, you're, one, if, kill, yeah,, oh, here, gotta, make, kids, always, time, yeah, so, never, him, up,, some, love, aww,, is,, things'll, change, each, on,, other, same, brother, ...]\n",
       "Index: []\n",
       "\n",
       "[0 rows x 132 columns]"
      ]
     },
     "execution_count": 59,
     "metadata": {},
     "output_type": "execute_result"
    }
   ],
   "source": [
    "word_counts_df"
   ]
  },
  {
   "cell_type": "code",
   "execution_count": 62,
   "id": "8ed41061-fd62-4c66-9c8e-3d29affa79a4",
   "metadata": {},
   "outputs": [
    {
     "data": {
      "text/plain": [
       "array([148.,  74.,  29., 114.,  20.,  21.,  30.,  14.,  26.,  28.,  53.,\n",
       "        20.,  24.,  34.,  27.,  24.,  28.,  25.,   8.,  16.,  14.,  30.,\n",
       "        13.,  13.,   6.,  11.,   6.,  13.,  21.,  14.,  20.,  14.,  24.,\n",
       "        14.,  21.,  23.,   9.,  13.,   9.,  36.,  11.,   6.,   8.,  14.,\n",
       "        16.,   8.,   9.,  15.,   6.,  10.,  14.,   6.,   9.,   7.,  18.,\n",
       "        13.,   7.,  13.,  21.,  41.,   7.,   9.,  23.,   6.,  27.,   6.,\n",
       "         6.,  10.,  19.,   9.,   6.,  10.,  13.,  12.,  15.,   6.,  13.,\n",
       "        10.,   8.,  12.,  12.,   7.,   7.,  10.,  21.,   7.,  25.,   6.,\n",
       "         7.,  10.,  15.,  10.,   7.,  11.,   7.,   6.,  10.,   7.,   7.,\n",
       "         7.,   6.,  16.,   6.,  12.,   7.,  10.,  17.,   6.,  14.,  17.,\n",
       "         8.,   6.,   6.,   8.,   6.,   7.,   7.,   6.,  15.,  11.,   8.,\n",
       "         8.,   8.,   8.,   7.,   7.,   7.,   6.,  11.,   8.,   7.,   6.])"
      ]
     },
     "execution_count": 62,
     "metadata": {},
     "output_type": "execute_result"
    }
   ],
   "source": [
    "tupac_word_counts_common.values"
   ]
  },
  {
   "cell_type": "code",
   "execution_count": 63,
   "id": "9b680032-ae8c-4bf8-94ce-7b7d39526859",
   "metadata": {},
   "outputs": [],
   "source": [
    "word_counts_df.loc['2Pac'] = tupac_word_counts_common.values"
   ]
  },
  {
   "cell_type": "code",
   "execution_count": 64,
   "id": "ec59d4e8-0060-43ec-8a7e-ebe383e3a286",
   "metadata": {},
   "outputs": [
    {
     "data": {
      "text/html": [
       "<div>\n",
       "<style scoped>\n",
       "    .dataframe tbody tr th:only-of-type {\n",
       "        vertical-align: middle;\n",
       "    }\n",
       "\n",
       "    .dataframe tbody tr th {\n",
       "        vertical-align: top;\n",
       "    }\n",
       "\n",
       "    .dataframe thead th {\n",
       "        text-align: right;\n",
       "    }\n",
       "</style>\n",
       "<table border=\"1\" class=\"dataframe\">\n",
       "  <thead>\n",
       "    <tr style=\"text-align: right;\">\n",
       "      <th></th>\n",
       "      <th>you</th>\n",
       "      <th>we</th>\n",
       "      <th>take</th>\n",
       "      <th>i</th>\n",
       "      <th>fuck</th>\n",
       "      <th>money</th>\n",
       "      <th>your</th>\n",
       "      <th>niggas</th>\n",
       "      <th>all</th>\n",
       "      <th>ain't</th>\n",
       "      <th>...</th>\n",
       "      <th>da-da,</th>\n",
       "      <th>da,</th>\n",
       "      <th>now?</th>\n",
       "      <th>die?</th>\n",
       "      <th>quick,</th>\n",
       "      <th>la,</th>\n",
       "      <th>lady,</th>\n",
       "      <th>sweet</th>\n",
       "      <th>appreciated</th>\n",
       "      <th>ya?</th>\n",
       "    </tr>\n",
       "  </thead>\n",
       "  <tbody>\n",
       "    <tr>\n",
       "      <th>2Pac</th>\n",
       "      <td>148.0</td>\n",
       "      <td>74.0</td>\n",
       "      <td>29.0</td>\n",
       "      <td>114.0</td>\n",
       "      <td>20.0</td>\n",
       "      <td>21.0</td>\n",
       "      <td>30.0</td>\n",
       "      <td>14.0</td>\n",
       "      <td>26.0</td>\n",
       "      <td>28.0</td>\n",
       "      <td>...</td>\n",
       "      <td>8.0</td>\n",
       "      <td>8.0</td>\n",
       "      <td>7.0</td>\n",
       "      <td>7.0</td>\n",
       "      <td>7.0</td>\n",
       "      <td>6.0</td>\n",
       "      <td>11.0</td>\n",
       "      <td>8.0</td>\n",
       "      <td>7.0</td>\n",
       "      <td>6.0</td>\n",
       "    </tr>\n",
       "  </tbody>\n",
       "</table>\n",
       "<p>1 rows × 132 columns</p>\n",
       "</div>"
      ],
      "text/plain": [
       "        you    we  take      i  fuck  money  your  niggas   all  ain't  ...  \\\n",
       "2Pac  148.0  74.0  29.0  114.0  20.0   21.0  30.0    14.0  26.0   28.0  ...   \n",
       "\n",
       "      da-da,  da,  now?  die?  quick,  la,  lady,  sweet  appreciated  ya?  \n",
       "2Pac     8.0  8.0   7.0   7.0     7.0  6.0   11.0    8.0          7.0  6.0  \n",
       "\n",
       "[1 rows x 132 columns]"
      ]
     },
     "execution_count": 64,
     "metadata": {},
     "output_type": "execute_result"
    }
   ],
   "source": [
    "word_counts_df"
   ]
  },
  {
   "cell_type": "code",
   "execution_count": 65,
   "id": "25270958-937a-4f66-99fb-1629b416ded2",
   "metadata": {
    "scrolled": true
   },
   "outputs": [
    {
     "name": "stderr",
     "output_type": "stream",
     "text": [
      "C:\\Users\\User\\AppData\\Local\\Temp\\ipykernel_24956\\1122348535.py:2: FutureWarning: pandas.value_counts is deprecated and will be removed in a future version. Use pd.Series(obj).value_counts() instead.\n",
      "  nas_count = nas_df['Song Lyrics'].apply(lambda x: pd.value_counts(x.split())).sum(axis=0)\n",
      "C:\\Users\\User\\AppData\\Local\\Temp\\ipykernel_24956\\1122348535.py:2: FutureWarning: value_counts with argument that is not not a Series, Index, ExtensionArray, or np.ndarray is deprecated and will raise in a future version.\n",
      "  nas_count = nas_df['Song Lyrics'].apply(lambda x: pd.value_counts(x.split())).sum(axis=0)\n",
      "C:\\Users\\User\\AppData\\Local\\Temp\\ipykernel_24956\\1122348535.py:2: FutureWarning: pandas.value_counts is deprecated and will be removed in a future version. Use pd.Series(obj).value_counts() instead.\n",
      "  nas_count = nas_df['Song Lyrics'].apply(lambda x: pd.value_counts(x.split())).sum(axis=0)\n",
      "C:\\Users\\User\\AppData\\Local\\Temp\\ipykernel_24956\\1122348535.py:2: FutureWarning: value_counts with argument that is not not a Series, Index, ExtensionArray, or np.ndarray is deprecated and will raise in a future version.\n",
      "  nas_count = nas_df['Song Lyrics'].apply(lambda x: pd.value_counts(x.split())).sum(axis=0)\n",
      "C:\\Users\\User\\AppData\\Local\\Temp\\ipykernel_24956\\1122348535.py:2: FutureWarning: pandas.value_counts is deprecated and will be removed in a future version. Use pd.Series(obj).value_counts() instead.\n",
      "  nas_count = nas_df['Song Lyrics'].apply(lambda x: pd.value_counts(x.split())).sum(axis=0)\n",
      "C:\\Users\\User\\AppData\\Local\\Temp\\ipykernel_24956\\1122348535.py:2: FutureWarning: value_counts with argument that is not not a Series, Index, ExtensionArray, or np.ndarray is deprecated and will raise in a future version.\n",
      "  nas_count = nas_df['Song Lyrics'].apply(lambda x: pd.value_counts(x.split())).sum(axis=0)\n",
      "C:\\Users\\User\\AppData\\Local\\Temp\\ipykernel_24956\\1122348535.py:2: FutureWarning: pandas.value_counts is deprecated and will be removed in a future version. Use pd.Series(obj).value_counts() instead.\n",
      "  nas_count = nas_df['Song Lyrics'].apply(lambda x: pd.value_counts(x.split())).sum(axis=0)\n",
      "C:\\Users\\User\\AppData\\Local\\Temp\\ipykernel_24956\\1122348535.py:2: FutureWarning: value_counts with argument that is not not a Series, Index, ExtensionArray, or np.ndarray is deprecated and will raise in a future version.\n",
      "  nas_count = nas_df['Song Lyrics'].apply(lambda x: pd.value_counts(x.split())).sum(axis=0)\n",
      "C:\\Users\\User\\AppData\\Local\\Temp\\ipykernel_24956\\1122348535.py:2: FutureWarning: pandas.value_counts is deprecated and will be removed in a future version. Use pd.Series(obj).value_counts() instead.\n",
      "  nas_count = nas_df['Song Lyrics'].apply(lambda x: pd.value_counts(x.split())).sum(axis=0)\n",
      "C:\\Users\\User\\AppData\\Local\\Temp\\ipykernel_24956\\1122348535.py:2: FutureWarning: value_counts with argument that is not not a Series, Index, ExtensionArray, or np.ndarray is deprecated and will raise in a future version.\n",
      "  nas_count = nas_df['Song Lyrics'].apply(lambda x: pd.value_counts(x.split())).sum(axis=0)\n"
     ]
    }
   ],
   "source": [
    "nas_df = artists_df_grouped.get_group('Nas').head()\n",
    "nas_count = nas_df['Song Lyrics'].apply(lambda x: pd.value_counts(x.split())).sum(axis=0)\n",
    "exclude_words = nas_count.index.isin(COMMON_WORDS)\n",
    "nas_uncommon = nas_count[~exclude_words]\n",
    "nas_common = nas_uncommon[nas_uncommon>5]"
   ]
  },
  {
   "cell_type": "code",
   "execution_count": 66,
   "id": "1817f210-78f3-4f6f-b7e3-92815437d84d",
   "metadata": {},
   "outputs": [
    {
     "data": {
      "text/plain": [
       "i         88.0\n",
       "new       13.0\n",
       "my        73.0\n",
       "i'm       32.0\n",
       "state     10.0\n",
       "york      11.0\n",
       "mind      11.0\n",
       "like      25.0\n",
       "niggas    18.0\n",
       "you       97.0\n",
       "be        17.0\n",
       "up        19.0\n",
       "was       18.0\n",
       "never     17.0\n",
       "as        11.0\n",
       "your      28.0\n",
       "back      10.0\n",
       "just       7.0\n",
       "me        19.0\n",
       "some       9.0\n",
       "dtype: float64"
      ]
     },
     "execution_count": 66,
     "metadata": {},
     "output_type": "execute_result"
    }
   ],
   "source": [
    "nas_common[:20]"
   ]
  },
  {
   "cell_type": "code",
   "execution_count": 67,
   "id": "85b90910-3133-44a4-8473-705b82963618",
   "metadata": {},
   "outputs": [
    {
     "ename": "ValueError",
     "evalue": "cannot set a row with mismatched columns",
     "output_type": "error",
     "traceback": [
      "\u001b[1;31m---------------------------------------------------------------------------\u001b[0m",
      "\u001b[1;31mValueError\u001b[0m                                Traceback (most recent call last)",
      "Cell \u001b[1;32mIn[67], line 1\u001b[0m\n\u001b[1;32m----> 1\u001b[0m \u001b[43mword_counts_df\u001b[49m\u001b[38;5;241;43m.\u001b[39;49m\u001b[43mloc\u001b[49m\u001b[43m[\u001b[49m\u001b[38;5;124;43m'\u001b[39;49m\u001b[38;5;124;43mNas\u001b[39;49m\u001b[38;5;124;43m'\u001b[39;49m\u001b[43m]\u001b[49m \u001b[38;5;241m=\u001b[39m nas_common\u001b[38;5;241m.\u001b[39mvalues\n",
      "File \u001b[1;32m~\\Desktop\\programowanie_web_etc\\python_projects\\data_projects\\venv\\lib\\site-packages\\pandas\\core\\indexing.py:885\u001b[0m, in \u001b[0;36m_LocationIndexer.__setitem__\u001b[1;34m(self, key, value)\u001b[0m\n\u001b[0;32m    882\u001b[0m \u001b[38;5;28mself\u001b[39m\u001b[38;5;241m.\u001b[39m_has_valid_setitem_indexer(key)\n\u001b[0;32m    884\u001b[0m iloc \u001b[38;5;241m=\u001b[39m \u001b[38;5;28mself\u001b[39m \u001b[38;5;28;01mif\u001b[39;00m \u001b[38;5;28mself\u001b[39m\u001b[38;5;241m.\u001b[39mname \u001b[38;5;241m==\u001b[39m \u001b[38;5;124m\"\u001b[39m\u001b[38;5;124miloc\u001b[39m\u001b[38;5;124m\"\u001b[39m \u001b[38;5;28;01melse\u001b[39;00m \u001b[38;5;28mself\u001b[39m\u001b[38;5;241m.\u001b[39mobj\u001b[38;5;241m.\u001b[39miloc\n\u001b[1;32m--> 885\u001b[0m \u001b[43miloc\u001b[49m\u001b[38;5;241;43m.\u001b[39;49m\u001b[43m_setitem_with_indexer\u001b[49m\u001b[43m(\u001b[49m\u001b[43mindexer\u001b[49m\u001b[43m,\u001b[49m\u001b[43m \u001b[49m\u001b[43mvalue\u001b[49m\u001b[43m,\u001b[49m\u001b[43m \u001b[49m\u001b[38;5;28;43mself\u001b[39;49m\u001b[38;5;241;43m.\u001b[39;49m\u001b[43mname\u001b[49m\u001b[43m)\u001b[49m\n",
      "File \u001b[1;32m~\\Desktop\\programowanie_web_etc\\python_projects\\data_projects\\venv\\lib\\site-packages\\pandas\\core\\indexing.py:1883\u001b[0m, in \u001b[0;36m_iLocIndexer._setitem_with_indexer\u001b[1;34m(self, indexer, value, name)\u001b[0m\n\u001b[0;32m   1880\u001b[0m     indexer, missing \u001b[38;5;241m=\u001b[39m convert_missing_indexer(indexer)\n\u001b[0;32m   1882\u001b[0m     \u001b[38;5;28;01mif\u001b[39;00m missing:\n\u001b[1;32m-> 1883\u001b[0m         \u001b[38;5;28;43mself\u001b[39;49m\u001b[38;5;241;43m.\u001b[39;49m\u001b[43m_setitem_with_indexer_missing\u001b[49m\u001b[43m(\u001b[49m\u001b[43mindexer\u001b[49m\u001b[43m,\u001b[49m\u001b[43m \u001b[49m\u001b[43mvalue\u001b[49m\u001b[43m)\u001b[49m\n\u001b[0;32m   1884\u001b[0m         \u001b[38;5;28;01mreturn\u001b[39;00m\n\u001b[0;32m   1886\u001b[0m \u001b[38;5;28;01mif\u001b[39;00m name \u001b[38;5;241m==\u001b[39m \u001b[38;5;124m\"\u001b[39m\u001b[38;5;124mloc\u001b[39m\u001b[38;5;124m\"\u001b[39m:\n\u001b[0;32m   1887\u001b[0m     \u001b[38;5;66;03m# must come after setting of missing\u001b[39;00m\n",
      "File \u001b[1;32m~\\Desktop\\programowanie_web_etc\\python_projects\\data_projects\\venv\\lib\\site-packages\\pandas\\core\\indexing.py:2219\u001b[0m, in \u001b[0;36m_iLocIndexer._setitem_with_indexer_missing\u001b[1;34m(self, indexer, value)\u001b[0m\n\u001b[0;32m   2216\u001b[0m     \u001b[38;5;28;01mif\u001b[39;00m is_list_like_indexer(value):\n\u001b[0;32m   2217\u001b[0m         \u001b[38;5;66;03m# must have conforming columns\u001b[39;00m\n\u001b[0;32m   2218\u001b[0m         \u001b[38;5;28;01mif\u001b[39;00m \u001b[38;5;28mlen\u001b[39m(value) \u001b[38;5;241m!=\u001b[39m \u001b[38;5;28mlen\u001b[39m(\u001b[38;5;28mself\u001b[39m\u001b[38;5;241m.\u001b[39mobj\u001b[38;5;241m.\u001b[39mcolumns):\n\u001b[1;32m-> 2219\u001b[0m             \u001b[38;5;28;01mraise\u001b[39;00m \u001b[38;5;167;01mValueError\u001b[39;00m(\u001b[38;5;124m\"\u001b[39m\u001b[38;5;124mcannot set a row with mismatched columns\u001b[39m\u001b[38;5;124m\"\u001b[39m)\n\u001b[0;32m   2221\u001b[0m     value \u001b[38;5;241m=\u001b[39m Series(value, index\u001b[38;5;241m=\u001b[39m\u001b[38;5;28mself\u001b[39m\u001b[38;5;241m.\u001b[39mobj\u001b[38;5;241m.\u001b[39mcolumns, name\u001b[38;5;241m=\u001b[39mindexer)\n\u001b[0;32m   2223\u001b[0m \u001b[38;5;28;01mif\u001b[39;00m \u001b[38;5;129;01mnot\u001b[39;00m \u001b[38;5;28mlen\u001b[39m(\u001b[38;5;28mself\u001b[39m\u001b[38;5;241m.\u001b[39mobj):\n\u001b[0;32m   2224\u001b[0m     \u001b[38;5;66;03m# We will ignore the existing dtypes instead of using\u001b[39;00m\n\u001b[0;32m   2225\u001b[0m     \u001b[38;5;66;03m#  internals.concat logic\u001b[39;00m\n",
      "\u001b[1;31mValueError\u001b[0m: cannot set a row with mismatched columns"
     ]
    }
   ],
   "source": [
    "word_counts_df.loc['Nas'] = nas_common.values"
   ]
  },
  {
   "cell_type": "code",
   "execution_count": 70,
   "id": "b1afc1a4-378f-49fc-bb7f-249fa7b33728",
   "metadata": {},
   "outputs": [],
   "source": [
    "nas_common_df = nas_common.to_frame().T"
   ]
  },
  {
   "cell_type": "code",
   "execution_count": 74,
   "id": "925eb98d-8532-4c9e-b114-33f08e1de456",
   "metadata": {},
   "outputs": [],
   "source": [
    "nas_common_df.index = ['Nas']"
   ]
  },
  {
   "cell_type": "code",
   "execution_count": 76,
   "id": "e75e64ca-925f-4019-8f98-e14ef10edebb",
   "metadata": {},
   "outputs": [],
   "source": [
    "word_counts_df = pd.concat([word_counts_df, nas_common_df], axis=0)"
   ]
  },
  {
   "cell_type": "code",
   "execution_count": 78,
   "id": "58a2d707-b4a1-4aed-a230-31cb96de91a3",
   "metadata": {},
   "outputs": [
    {
     "data": {
      "text/html": [
       "<div>\n",
       "<style scoped>\n",
       "    .dataframe tbody tr th:only-of-type {\n",
       "        vertical-align: middle;\n",
       "    }\n",
       "\n",
       "    .dataframe tbody tr th {\n",
       "        vertical-align: top;\n",
       "    }\n",
       "\n",
       "    .dataframe thead th {\n",
       "        text-align: right;\n",
       "    }\n",
       "</style>\n",
       "<table border=\"1\" class=\"dataframe\">\n",
       "  <thead>\n",
       "    <tr style=\"text-align: right;\">\n",
       "      <th></th>\n",
       "      <th>you</th>\n",
       "      <th>we</th>\n",
       "      <th>take</th>\n",
       "      <th>i</th>\n",
       "      <th>fuck</th>\n",
       "      <th>money</th>\n",
       "      <th>your</th>\n",
       "      <th>niggas</th>\n",
       "      <th>all</th>\n",
       "      <th>ain't</th>\n",
       "      <th>...</th>\n",
       "      <th>across</th>\n",
       "      <th>bitch</th>\n",
       "      <th>life's</th>\n",
       "      <th>die,</th>\n",
       "      <th>world</th>\n",
       "      <th>yours</th>\n",
       "      <th>mine,</th>\n",
       "      <th>this?</th>\n",
       "      <th>mine—whose</th>\n",
       "      <th>yours,</th>\n",
       "    </tr>\n",
       "  </thead>\n",
       "  <tbody>\n",
       "    <tr>\n",
       "      <th>2Pac</th>\n",
       "      <td>148.0</td>\n",
       "      <td>74.0</td>\n",
       "      <td>29.0</td>\n",
       "      <td>114.0</td>\n",
       "      <td>20.0</td>\n",
       "      <td>21.0</td>\n",
       "      <td>30.0</td>\n",
       "      <td>14.0</td>\n",
       "      <td>26.0</td>\n",
       "      <td>28.0</td>\n",
       "      <td>...</td>\n",
       "      <td>0.0</td>\n",
       "      <td>0.0</td>\n",
       "      <td>0.0</td>\n",
       "      <td>0.0</td>\n",
       "      <td>0.0</td>\n",
       "      <td>0.0</td>\n",
       "      <td>0.0</td>\n",
       "      <td>0.0</td>\n",
       "      <td>0.0</td>\n",
       "      <td>0.0</td>\n",
       "    </tr>\n",
       "    <tr>\n",
       "      <th>Nas</th>\n",
       "      <td>97.0</td>\n",
       "      <td>18.0</td>\n",
       "      <td>0.0</td>\n",
       "      <td>88.0</td>\n",
       "      <td>11.0</td>\n",
       "      <td>0.0</td>\n",
       "      <td>28.0</td>\n",
       "      <td>18.0</td>\n",
       "      <td>13.0</td>\n",
       "      <td>16.0</td>\n",
       "      <td>...</td>\n",
       "      <td>6.0</td>\n",
       "      <td>11.0</td>\n",
       "      <td>10.0</td>\n",
       "      <td>8.0</td>\n",
       "      <td>45.0</td>\n",
       "      <td>38.0</td>\n",
       "      <td>30.0</td>\n",
       "      <td>17.0</td>\n",
       "      <td>15.0</td>\n",
       "      <td>11.0</td>\n",
       "    </tr>\n",
       "  </tbody>\n",
       "</table>\n",
       "<p>2 rows × 171 columns</p>\n",
       "</div>"
      ],
      "text/plain": [
       "        you    we  take      i  fuck  money  your  niggas   all  ain't  ...  \\\n",
       "2Pac  148.0  74.0  29.0  114.0  20.0   21.0  30.0    14.0  26.0   28.0  ...   \n",
       "Nas    97.0  18.0   0.0   88.0  11.0    0.0  28.0    18.0  13.0   16.0  ...   \n",
       "\n",
       "      across  bitch  life's  die,  world  yours  mine,  this?  mine—whose  \\\n",
       "2Pac     0.0    0.0     0.0   0.0    0.0    0.0    0.0    0.0         0.0   \n",
       "Nas      6.0   11.0    10.0   8.0   45.0   38.0   30.0   17.0        15.0   \n",
       "\n",
       "      yours,  \n",
       "2Pac     0.0  \n",
       "Nas     11.0  \n",
       "\n",
       "[2 rows x 171 columns]"
      ]
     },
     "execution_count": 78,
     "metadata": {},
     "output_type": "execute_result"
    }
   ],
   "source": [
    "word_counts_df.fillna(0)"
   ]
  },
  {
   "cell_type": "markdown",
   "id": "ae0baade-3881-4cbd-828b-3d654a65ce43",
   "metadata": {},
   "source": [
    "### TODO: Do this process for every group / artist and create new DF of all artists and ther most common words with counts"
   ]
  },
  {
   "cell_type": "code",
   "execution_count": 79,
   "id": "d1a0614e-c8c7-4c11-8d66-8d9c584c64a6",
   "metadata": {},
   "outputs": [],
   "source": [
    "import plotly.express as px"
   ]
  },
  {
   "cell_type": "code",
   "execution_count": 90,
   "id": "d89a8e70-2180-4ef1-88bc-9163efb4c5e4",
   "metadata": {},
   "outputs": [],
   "source": [
    "fig = px.bar(word_counts_df.iloc[:, :10], y=word_counts_df.iloc[:, :10].columns)"
   ]
  },
  {
   "cell_type": "code",
   "execution_count": 88,
   "id": "21837985-296d-4636-a3e3-88efd019c1a2",
   "metadata": {},
   "outputs": [
    {
     "data": {
      "application/vnd.plotly.v1+json": {
       "config": {
        "plotlyServerURL": "https://plot.ly"
       },
       "data": [
        {
         "alignmentgroup": "True",
         "hovertemplate": "variable=you<br>index=%{x}<br>value=%{y}<extra></extra>",
         "legendgroup": "you",
         "marker": {
          "color": "#636efa",
          "pattern": {
           "shape": ""
          }
         },
         "name": "you",
         "offsetgroup": "you",
         "orientation": "v",
         "showlegend": true,
         "textposition": "auto",
         "type": "bar",
         "x": [
          "2Pac",
          "Nas"
         ],
         "xaxis": "x",
         "y": [
          148,
          97
         ],
         "yaxis": "y"
        },
        {
         "alignmentgroup": "True",
         "hovertemplate": "variable=we<br>index=%{x}<br>value=%{y}<extra></extra>",
         "legendgroup": "we",
         "marker": {
          "color": "#EF553B",
          "pattern": {
           "shape": ""
          }
         },
         "name": "we",
         "offsetgroup": "we",
         "orientation": "v",
         "showlegend": true,
         "textposition": "auto",
         "type": "bar",
         "x": [
          "2Pac",
          "Nas"
         ],
         "xaxis": "x",
         "y": [
          74,
          18
         ],
         "yaxis": "y"
        },
        {
         "alignmentgroup": "True",
         "hovertemplate": "variable=take<br>index=%{x}<br>value=%{y}<extra></extra>",
         "legendgroup": "take",
         "marker": {
          "color": "#00cc96",
          "pattern": {
           "shape": ""
          }
         },
         "name": "take",
         "offsetgroup": "take",
         "orientation": "v",
         "showlegend": true,
         "textposition": "auto",
         "type": "bar",
         "x": [
          "2Pac",
          "Nas"
         ],
         "xaxis": "x",
         "y": [
          29,
          null
         ],
         "yaxis": "y"
        },
        {
         "alignmentgroup": "True",
         "hovertemplate": "variable=i<br>index=%{x}<br>value=%{y}<extra></extra>",
         "legendgroup": "i",
         "marker": {
          "color": "#ab63fa",
          "pattern": {
           "shape": ""
          }
         },
         "name": "i",
         "offsetgroup": "i",
         "orientation": "v",
         "showlegend": true,
         "textposition": "auto",
         "type": "bar",
         "x": [
          "2Pac",
          "Nas"
         ],
         "xaxis": "x",
         "y": [
          114,
          88
         ],
         "yaxis": "y"
        },
        {
         "alignmentgroup": "True",
         "hovertemplate": "variable=fuck<br>index=%{x}<br>value=%{y}<extra></extra>",
         "legendgroup": "fuck",
         "marker": {
          "color": "#FFA15A",
          "pattern": {
           "shape": ""
          }
         },
         "name": "fuck",
         "offsetgroup": "fuck",
         "orientation": "v",
         "showlegend": true,
         "textposition": "auto",
         "type": "bar",
         "x": [
          "2Pac",
          "Nas"
         ],
         "xaxis": "x",
         "y": [
          20,
          11
         ],
         "yaxis": "y"
        },
        {
         "alignmentgroup": "True",
         "hovertemplate": "variable=money<br>index=%{x}<br>value=%{y}<extra></extra>",
         "legendgroup": "money",
         "marker": {
          "color": "#19d3f3",
          "pattern": {
           "shape": ""
          }
         },
         "name": "money",
         "offsetgroup": "money",
         "orientation": "v",
         "showlegend": true,
         "textposition": "auto",
         "type": "bar",
         "x": [
          "2Pac",
          "Nas"
         ],
         "xaxis": "x",
         "y": [
          21,
          null
         ],
         "yaxis": "y"
        },
        {
         "alignmentgroup": "True",
         "hovertemplate": "variable=your<br>index=%{x}<br>value=%{y}<extra></extra>",
         "legendgroup": "your",
         "marker": {
          "color": "#FF6692",
          "pattern": {
           "shape": ""
          }
         },
         "name": "your",
         "offsetgroup": "your",
         "orientation": "v",
         "showlegend": true,
         "textposition": "auto",
         "type": "bar",
         "x": [
          "2Pac",
          "Nas"
         ],
         "xaxis": "x",
         "y": [
          30,
          28
         ],
         "yaxis": "y"
        },
        {
         "alignmentgroup": "True",
         "hovertemplate": "variable=niggas<br>index=%{x}<br>value=%{y}<extra></extra>",
         "legendgroup": "niggas",
         "marker": {
          "color": "#B6E880",
          "pattern": {
           "shape": ""
          }
         },
         "name": "niggas",
         "offsetgroup": "niggas",
         "orientation": "v",
         "showlegend": true,
         "textposition": "auto",
         "type": "bar",
         "x": [
          "2Pac",
          "Nas"
         ],
         "xaxis": "x",
         "y": [
          14,
          18
         ],
         "yaxis": "y"
        },
        {
         "alignmentgroup": "True",
         "hovertemplate": "variable=all<br>index=%{x}<br>value=%{y}<extra></extra>",
         "legendgroup": "all",
         "marker": {
          "color": "#FF97FF",
          "pattern": {
           "shape": ""
          }
         },
         "name": "all",
         "offsetgroup": "all",
         "orientation": "v",
         "showlegend": true,
         "textposition": "auto",
         "type": "bar",
         "x": [
          "2Pac",
          "Nas"
         ],
         "xaxis": "x",
         "y": [
          26,
          13
         ],
         "yaxis": "y"
        },
        {
         "alignmentgroup": "True",
         "hovertemplate": "variable=ain't<br>index=%{x}<br>value=%{y}<extra></extra>",
         "legendgroup": "ain't",
         "marker": {
          "color": "#FECB52",
          "pattern": {
           "shape": ""
          }
         },
         "name": "ain't",
         "offsetgroup": "ain't",
         "orientation": "v",
         "showlegend": true,
         "textposition": "auto",
         "type": "bar",
         "x": [
          "2Pac",
          "Nas"
         ],
         "xaxis": "x",
         "y": [
          28,
          16
         ],
         "yaxis": "y"
        }
       ],
       "layout": {
        "autosize": true,
        "barmode": "relative",
        "legend": {
         "title": {
          "text": "variable"
         },
         "tracegroupgap": 0
        },
        "margin": {
         "t": 60
        },
        "template": {
         "data": {
          "bar": [
           {
            "error_x": {
             "color": "#2a3f5f"
            },
            "error_y": {
             "color": "#2a3f5f"
            },
            "marker": {
             "line": {
              "color": "#E5ECF6",
              "width": 0.5
             },
             "pattern": {
              "fillmode": "overlay",
              "size": 10,
              "solidity": 0.2
             }
            },
            "type": "bar"
           }
          ],
          "barpolar": [
           {
            "marker": {
             "line": {
              "color": "#E5ECF6",
              "width": 0.5
             },
             "pattern": {
              "fillmode": "overlay",
              "size": 10,
              "solidity": 0.2
             }
            },
            "type": "barpolar"
           }
          ],
          "carpet": [
           {
            "aaxis": {
             "endlinecolor": "#2a3f5f",
             "gridcolor": "white",
             "linecolor": "white",
             "minorgridcolor": "white",
             "startlinecolor": "#2a3f5f"
            },
            "baxis": {
             "endlinecolor": "#2a3f5f",
             "gridcolor": "white",
             "linecolor": "white",
             "minorgridcolor": "white",
             "startlinecolor": "#2a3f5f"
            },
            "type": "carpet"
           }
          ],
          "choropleth": [
           {
            "colorbar": {
             "outlinewidth": 0,
             "ticks": ""
            },
            "type": "choropleth"
           }
          ],
          "contour": [
           {
            "colorbar": {
             "outlinewidth": 0,
             "ticks": ""
            },
            "colorscale": [
             [
              0,
              "#0d0887"
             ],
             [
              0.1111111111111111,
              "#46039f"
             ],
             [
              0.2222222222222222,
              "#7201a8"
             ],
             [
              0.3333333333333333,
              "#9c179e"
             ],
             [
              0.4444444444444444,
              "#bd3786"
             ],
             [
              0.5555555555555556,
              "#d8576b"
             ],
             [
              0.6666666666666666,
              "#ed7953"
             ],
             [
              0.7777777777777778,
              "#fb9f3a"
             ],
             [
              0.8888888888888888,
              "#fdca26"
             ],
             [
              1,
              "#f0f921"
             ]
            ],
            "type": "contour"
           }
          ],
          "contourcarpet": [
           {
            "colorbar": {
             "outlinewidth": 0,
             "ticks": ""
            },
            "type": "contourcarpet"
           }
          ],
          "heatmap": [
           {
            "colorbar": {
             "outlinewidth": 0,
             "ticks": ""
            },
            "colorscale": [
             [
              0,
              "#0d0887"
             ],
             [
              0.1111111111111111,
              "#46039f"
             ],
             [
              0.2222222222222222,
              "#7201a8"
             ],
             [
              0.3333333333333333,
              "#9c179e"
             ],
             [
              0.4444444444444444,
              "#bd3786"
             ],
             [
              0.5555555555555556,
              "#d8576b"
             ],
             [
              0.6666666666666666,
              "#ed7953"
             ],
             [
              0.7777777777777778,
              "#fb9f3a"
             ],
             [
              0.8888888888888888,
              "#fdca26"
             ],
             [
              1,
              "#f0f921"
             ]
            ],
            "type": "heatmap"
           }
          ],
          "heatmapgl": [
           {
            "colorbar": {
             "outlinewidth": 0,
             "ticks": ""
            },
            "colorscale": [
             [
              0,
              "#0d0887"
             ],
             [
              0.1111111111111111,
              "#46039f"
             ],
             [
              0.2222222222222222,
              "#7201a8"
             ],
             [
              0.3333333333333333,
              "#9c179e"
             ],
             [
              0.4444444444444444,
              "#bd3786"
             ],
             [
              0.5555555555555556,
              "#d8576b"
             ],
             [
              0.6666666666666666,
              "#ed7953"
             ],
             [
              0.7777777777777778,
              "#fb9f3a"
             ],
             [
              0.8888888888888888,
              "#fdca26"
             ],
             [
              1,
              "#f0f921"
             ]
            ],
            "type": "heatmapgl"
           }
          ],
          "histogram": [
           {
            "marker": {
             "pattern": {
              "fillmode": "overlay",
              "size": 10,
              "solidity": 0.2
             }
            },
            "type": "histogram"
           }
          ],
          "histogram2d": [
           {
            "colorbar": {
             "outlinewidth": 0,
             "ticks": ""
            },
            "colorscale": [
             [
              0,
              "#0d0887"
             ],
             [
              0.1111111111111111,
              "#46039f"
             ],
             [
              0.2222222222222222,
              "#7201a8"
             ],
             [
              0.3333333333333333,
              "#9c179e"
             ],
             [
              0.4444444444444444,
              "#bd3786"
             ],
             [
              0.5555555555555556,
              "#d8576b"
             ],
             [
              0.6666666666666666,
              "#ed7953"
             ],
             [
              0.7777777777777778,
              "#fb9f3a"
             ],
             [
              0.8888888888888888,
              "#fdca26"
             ],
             [
              1,
              "#f0f921"
             ]
            ],
            "type": "histogram2d"
           }
          ],
          "histogram2dcontour": [
           {
            "colorbar": {
             "outlinewidth": 0,
             "ticks": ""
            },
            "colorscale": [
             [
              0,
              "#0d0887"
             ],
             [
              0.1111111111111111,
              "#46039f"
             ],
             [
              0.2222222222222222,
              "#7201a8"
             ],
             [
              0.3333333333333333,
              "#9c179e"
             ],
             [
              0.4444444444444444,
              "#bd3786"
             ],
             [
              0.5555555555555556,
              "#d8576b"
             ],
             [
              0.6666666666666666,
              "#ed7953"
             ],
             [
              0.7777777777777778,
              "#fb9f3a"
             ],
             [
              0.8888888888888888,
              "#fdca26"
             ],
             [
              1,
              "#f0f921"
             ]
            ],
            "type": "histogram2dcontour"
           }
          ],
          "mesh3d": [
           {
            "colorbar": {
             "outlinewidth": 0,
             "ticks": ""
            },
            "type": "mesh3d"
           }
          ],
          "parcoords": [
           {
            "line": {
             "colorbar": {
              "outlinewidth": 0,
              "ticks": ""
             }
            },
            "type": "parcoords"
           }
          ],
          "pie": [
           {
            "automargin": true,
            "type": "pie"
           }
          ],
          "scatter": [
           {
            "fillpattern": {
             "fillmode": "overlay",
             "size": 10,
             "solidity": 0.2
            },
            "type": "scatter"
           }
          ],
          "scatter3d": [
           {
            "line": {
             "colorbar": {
              "outlinewidth": 0,
              "ticks": ""
             }
            },
            "marker": {
             "colorbar": {
              "outlinewidth": 0,
              "ticks": ""
             }
            },
            "type": "scatter3d"
           }
          ],
          "scattercarpet": [
           {
            "marker": {
             "colorbar": {
              "outlinewidth": 0,
              "ticks": ""
             }
            },
            "type": "scattercarpet"
           }
          ],
          "scattergeo": [
           {
            "marker": {
             "colorbar": {
              "outlinewidth": 0,
              "ticks": ""
             }
            },
            "type": "scattergeo"
           }
          ],
          "scattergl": [
           {
            "marker": {
             "colorbar": {
              "outlinewidth": 0,
              "ticks": ""
             }
            },
            "type": "scattergl"
           }
          ],
          "scattermapbox": [
           {
            "marker": {
             "colorbar": {
              "outlinewidth": 0,
              "ticks": ""
             }
            },
            "type": "scattermapbox"
           }
          ],
          "scatterpolar": [
           {
            "marker": {
             "colorbar": {
              "outlinewidth": 0,
              "ticks": ""
             }
            },
            "type": "scatterpolar"
           }
          ],
          "scatterpolargl": [
           {
            "marker": {
             "colorbar": {
              "outlinewidth": 0,
              "ticks": ""
             }
            },
            "type": "scatterpolargl"
           }
          ],
          "scatterternary": [
           {
            "marker": {
             "colorbar": {
              "outlinewidth": 0,
              "ticks": ""
             }
            },
            "type": "scatterternary"
           }
          ],
          "surface": [
           {
            "colorbar": {
             "outlinewidth": 0,
             "ticks": ""
            },
            "colorscale": [
             [
              0,
              "#0d0887"
             ],
             [
              0.1111111111111111,
              "#46039f"
             ],
             [
              0.2222222222222222,
              "#7201a8"
             ],
             [
              0.3333333333333333,
              "#9c179e"
             ],
             [
              0.4444444444444444,
              "#bd3786"
             ],
             [
              0.5555555555555556,
              "#d8576b"
             ],
             [
              0.6666666666666666,
              "#ed7953"
             ],
             [
              0.7777777777777778,
              "#fb9f3a"
             ],
             [
              0.8888888888888888,
              "#fdca26"
             ],
             [
              1,
              "#f0f921"
             ]
            ],
            "type": "surface"
           }
          ],
          "table": [
           {
            "cells": {
             "fill": {
              "color": "#EBF0F8"
             },
             "line": {
              "color": "white"
             }
            },
            "header": {
             "fill": {
              "color": "#C8D4E3"
             },
             "line": {
              "color": "white"
             }
            },
            "type": "table"
           }
          ]
         },
         "layout": {
          "annotationdefaults": {
           "arrowcolor": "#2a3f5f",
           "arrowhead": 0,
           "arrowwidth": 1
          },
          "autotypenumbers": "strict",
          "coloraxis": {
           "colorbar": {
            "outlinewidth": 0,
            "ticks": ""
           }
          },
          "colorscale": {
           "diverging": [
            [
             0,
             "#8e0152"
            ],
            [
             0.1,
             "#c51b7d"
            ],
            [
             0.2,
             "#de77ae"
            ],
            [
             0.3,
             "#f1b6da"
            ],
            [
             0.4,
             "#fde0ef"
            ],
            [
             0.5,
             "#f7f7f7"
            ],
            [
             0.6,
             "#e6f5d0"
            ],
            [
             0.7,
             "#b8e186"
            ],
            [
             0.8,
             "#7fbc41"
            ],
            [
             0.9,
             "#4d9221"
            ],
            [
             1,
             "#276419"
            ]
           ],
           "sequential": [
            [
             0,
             "#0d0887"
            ],
            [
             0.1111111111111111,
             "#46039f"
            ],
            [
             0.2222222222222222,
             "#7201a8"
            ],
            [
             0.3333333333333333,
             "#9c179e"
            ],
            [
             0.4444444444444444,
             "#bd3786"
            ],
            [
             0.5555555555555556,
             "#d8576b"
            ],
            [
             0.6666666666666666,
             "#ed7953"
            ],
            [
             0.7777777777777778,
             "#fb9f3a"
            ],
            [
             0.8888888888888888,
             "#fdca26"
            ],
            [
             1,
             "#f0f921"
            ]
           ],
           "sequentialminus": [
            [
             0,
             "#0d0887"
            ],
            [
             0.1111111111111111,
             "#46039f"
            ],
            [
             0.2222222222222222,
             "#7201a8"
            ],
            [
             0.3333333333333333,
             "#9c179e"
            ],
            [
             0.4444444444444444,
             "#bd3786"
            ],
            [
             0.5555555555555556,
             "#d8576b"
            ],
            [
             0.6666666666666666,
             "#ed7953"
            ],
            [
             0.7777777777777778,
             "#fb9f3a"
            ],
            [
             0.8888888888888888,
             "#fdca26"
            ],
            [
             1,
             "#f0f921"
            ]
           ]
          },
          "colorway": [
           "#636efa",
           "#EF553B",
           "#00cc96",
           "#ab63fa",
           "#FFA15A",
           "#19d3f3",
           "#FF6692",
           "#B6E880",
           "#FF97FF",
           "#FECB52"
          ],
          "font": {
           "color": "#2a3f5f"
          },
          "geo": {
           "bgcolor": "white",
           "lakecolor": "white",
           "landcolor": "#E5ECF6",
           "showlakes": true,
           "showland": true,
           "subunitcolor": "white"
          },
          "hoverlabel": {
           "align": "left"
          },
          "hovermode": "closest",
          "mapbox": {
           "style": "light"
          },
          "paper_bgcolor": "white",
          "plot_bgcolor": "#E5ECF6",
          "polar": {
           "angularaxis": {
            "gridcolor": "white",
            "linecolor": "white",
            "ticks": ""
           },
           "bgcolor": "#E5ECF6",
           "radialaxis": {
            "gridcolor": "white",
            "linecolor": "white",
            "ticks": ""
           }
          },
          "scene": {
           "xaxis": {
            "backgroundcolor": "#E5ECF6",
            "gridcolor": "white",
            "gridwidth": 2,
            "linecolor": "white",
            "showbackground": true,
            "ticks": "",
            "zerolinecolor": "white"
           },
           "yaxis": {
            "backgroundcolor": "#E5ECF6",
            "gridcolor": "white",
            "gridwidth": 2,
            "linecolor": "white",
            "showbackground": true,
            "ticks": "",
            "zerolinecolor": "white"
           },
           "zaxis": {
            "backgroundcolor": "#E5ECF6",
            "gridcolor": "white",
            "gridwidth": 2,
            "linecolor": "white",
            "showbackground": true,
            "ticks": "",
            "zerolinecolor": "white"
           }
          },
          "shapedefaults": {
           "line": {
            "color": "#2a3f5f"
           }
          },
          "ternary": {
           "aaxis": {
            "gridcolor": "white",
            "linecolor": "white",
            "ticks": ""
           },
           "baxis": {
            "gridcolor": "white",
            "linecolor": "white",
            "ticks": ""
           },
           "bgcolor": "#E5ECF6",
           "caxis": {
            "gridcolor": "white",
            "linecolor": "white",
            "ticks": ""
           }
          },
          "title": {
           "x": 0.05
          },
          "xaxis": {
           "automargin": true,
           "gridcolor": "white",
           "linecolor": "white",
           "ticks": "",
           "title": {
            "standoff": 15
           },
           "zerolinecolor": "white",
           "zerolinewidth": 2
          },
          "yaxis": {
           "automargin": true,
           "gridcolor": "white",
           "linecolor": "white",
           "ticks": "",
           "title": {
            "standoff": 15
           },
           "zerolinecolor": "white",
           "zerolinewidth": 2
          }
         }
        },
        "xaxis": {
         "anchor": "y",
         "autorange": true,
         "domain": [
          0,
          1
         ],
         "range": [
          -0.5,
          1.5
         ],
         "title": {
          "text": "index"
         },
         "type": "category"
        },
        "yaxis": {
         "anchor": "x",
         "autorange": true,
         "domain": [
          0,
          1
         ],
         "range": [
          0,
          530.5263157894736
         ],
         "title": {
          "text": "value"
         },
         "type": "linear"
        }
       }
      },
      "image/png": "[encoded data removed]",
      "text/html": [
       "<div>                            <div id=\"cda525e5-b5f8-4cc7-af59-7847bb5acb40\" class=\"plotly-graph-div\" style=\"height:525px; width:100%;\"></div>            <script type=\"text/javascript\">                require([\"plotly\"], function(Plotly) {                    window.PLOTLYENV=window.PLOTLYENV || {};                                    if (document.getElementById(\"cda525e5-b5f8-4cc7-af59-7847bb5acb40\")) {                    Plotly.newPlot(                        \"cda525e5-b5f8-4cc7-af59-7847bb5acb40\",                        [{\"alignmentgroup\":\"True\",\"hovertemplate\":\"variable=you\\u003cbr\\u003eindex=%{x}\\u003cbr\\u003evalue=%{y}\\u003cextra\\u003e\\u003c\\u002fextra\\u003e\",\"legendgroup\":\"you\",\"marker\":{\"color\":\"#636efa\",\"pattern\":{\"shape\":\"\"}},\"name\":\"you\",\"offsetgroup\":\"you\",\"orientation\":\"v\",\"showlegend\":true,\"textposition\":\"auto\",\"x\":[\"2Pac\",\"Nas\"],\"xaxis\":\"x\",\"y\":[148.0,97.0],\"yaxis\":\"y\",\"type\":\"bar\"},{\"alignmentgroup\":\"True\",\"hovertemplate\":\"variable=we\\u003cbr\\u003eindex=%{x}\\u003cbr\\u003evalue=%{y}\\u003cextra\\u003e\\u003c\\u002fextra\\u003e\",\"legendgroup\":\"we\",\"marker\":{\"color\":\"#EF553B\",\"pattern\":{\"shape\":\"\"}},\"name\":\"we\",\"offsetgroup\":\"we\",\"orientation\":\"v\",\"showlegend\":true,\"textposition\":\"auto\",\"x\":[\"2Pac\",\"Nas\"],\"xaxis\":\"x\",\"y\":[74.0,18.0],\"yaxis\":\"y\",\"type\":\"bar\"},{\"alignmentgroup\":\"True\",\"hovertemplate\":\"variable=take\\u003cbr\\u003eindex=%{x}\\u003cbr\\u003evalue=%{y}\\u003cextra\\u003e\\u003c\\u002fextra\\u003e\",\"legendgroup\":\"take\",\"marker\":{\"color\":\"#00cc96\",\"pattern\":{\"shape\":\"\"}},\"name\":\"take\",\"offsetgroup\":\"take\",\"orientation\":\"v\",\"showlegend\":true,\"textposition\":\"auto\",\"x\":[\"2Pac\",\"Nas\"],\"xaxis\":\"x\",\"y\":[29.0,null],\"yaxis\":\"y\",\"type\":\"bar\"},{\"alignmentgroup\":\"True\",\"hovertemplate\":\"variable=i\\u003cbr\\u003eindex=%{x}\\u003cbr\\u003evalue=%{y}\\u003cextra\\u003e\\u003c\\u002fextra\\u003e\",\"legendgroup\":\"i\",\"marker\":{\"color\":\"#ab63fa\",\"pattern\":{\"shape\":\"\"}},\"name\":\"i\",\"offsetgroup\":\"i\",\"orientation\":\"v\",\"showlegend\":true,\"textposition\":\"auto\",\"x\":[\"2Pac\",\"Nas\"],\"xaxis\":\"x\",\"y\":[114.0,88.0],\"yaxis\":\"y\",\"type\":\"bar\"},{\"alignmentgroup\":\"True\",\"hovertemplate\":\"variable=fuck\\u003cbr\\u003eindex=%{x}\\u003cbr\\u003evalue=%{y}\\u003cextra\\u003e\\u003c\\u002fextra\\u003e\",\"legendgroup\":\"fuck\",\"marker\":{\"color\":\"#FFA15A\",\"pattern\":{\"shape\":\"\"}},\"name\":\"fuck\",\"offsetgroup\":\"fuck\",\"orientation\":\"v\",\"showlegend\":true,\"textposition\":\"auto\",\"x\":[\"2Pac\",\"Nas\"],\"xaxis\":\"x\",\"y\":[20.0,11.0],\"yaxis\":\"y\",\"type\":\"bar\"},{\"alignmentgroup\":\"True\",\"hovertemplate\":\"variable=money\\u003cbr\\u003eindex=%{x}\\u003cbr\\u003evalue=%{y}\\u003cextra\\u003e\\u003c\\u002fextra\\u003e\",\"legendgroup\":\"money\",\"marker\":{\"color\":\"#19d3f3\",\"pattern\":{\"shape\":\"\"}},\"name\":\"money\",\"offsetgroup\":\"money\",\"orientation\":\"v\",\"showlegend\":true,\"textposition\":\"auto\",\"x\":[\"2Pac\",\"Nas\"],\"xaxis\":\"x\",\"y\":[21.0,null],\"yaxis\":\"y\",\"type\":\"bar\"},{\"alignmentgroup\":\"True\",\"hovertemplate\":\"variable=your\\u003cbr\\u003eindex=%{x}\\u003cbr\\u003evalue=%{y}\\u003cextra\\u003e\\u003c\\u002fextra\\u003e\",\"legendgroup\":\"your\",\"marker\":{\"color\":\"#FF6692\",\"pattern\":{\"shape\":\"\"}},\"name\":\"your\",\"offsetgroup\":\"your\",\"orientation\":\"v\",\"showlegend\":true,\"textposition\":\"auto\",\"x\":[\"2Pac\",\"Nas\"],\"xaxis\":\"x\",\"y\":[30.0,28.0],\"yaxis\":\"y\",\"type\":\"bar\"},{\"alignmentgroup\":\"True\",\"hovertemplate\":\"variable=niggas\\u003cbr\\u003eindex=%{x}\\u003cbr\\u003evalue=%{y}\\u003cextra\\u003e\\u003c\\u002fextra\\u003e\",\"legendgroup\":\"niggas\",\"marker\":{\"color\":\"#B6E880\",\"pattern\":{\"shape\":\"\"}},\"name\":\"niggas\",\"offsetgroup\":\"niggas\",\"orientation\":\"v\",\"showlegend\":true,\"textposition\":\"auto\",\"x\":[\"2Pac\",\"Nas\"],\"xaxis\":\"x\",\"y\":[14.0,18.0],\"yaxis\":\"y\",\"type\":\"bar\"},{\"alignmentgroup\":\"True\",\"hovertemplate\":\"variable=all\\u003cbr\\u003eindex=%{x}\\u003cbr\\u003evalue=%{y}\\u003cextra\\u003e\\u003c\\u002fextra\\u003e\",\"legendgroup\":\"all\",\"marker\":{\"color\":\"#FF97FF\",\"pattern\":{\"shape\":\"\"}},\"name\":\"all\",\"offsetgroup\":\"all\",\"orientation\":\"v\",\"showlegend\":true,\"textposition\":\"auto\",\"x\":[\"2Pac\",\"Nas\"],\"xaxis\":\"x\",\"y\":[26.0,13.0],\"yaxis\":\"y\",\"type\":\"bar\"},{\"alignmentgroup\":\"True\",\"hovertemplate\":\"variable=ain't\\u003cbr\\u003eindex=%{x}\\u003cbr\\u003evalue=%{y}\\u003cextra\\u003e\\u003c\\u002fextra\\u003e\",\"legendgroup\":\"ain't\",\"marker\":{\"color\":\"#FECB52\",\"pattern\":{\"shape\":\"\"}},\"name\":\"ain't\",\"offsetgroup\":\"ain't\",\"orientation\":\"v\",\"showlegend\":true,\"textposition\":\"auto\",\"x\":[\"2Pac\",\"Nas\"],\"xaxis\":\"x\",\"y\":[28.0,16.0],\"yaxis\":\"y\",\"type\":\"bar\"}],                        {\"template\":{\"data\":{\"histogram2dcontour\":[{\"type\":\"histogram2dcontour\",\"colorbar\":{\"outlinewidth\":0,\"ticks\":\"\"},\"colorscale\":[[0.0,\"#0d0887\"],[0.1111111111111111,\"#46039f\"],[0.2222222222222222,\"#7201a8\"],[0.3333333333333333,\"#9c179e\"],[0.4444444444444444,\"#bd3786\"],[0.5555555555555556,\"#d8576b\"],[0.6666666666666666,\"#ed7953\"],[0.7777777777777778,\"#fb9f3a\"],[0.8888888888888888,\"#fdca26\"],[1.0,\"#f0f921\"]]}],\"choropleth\":[{\"type\":\"choropleth\",\"colorbar\":{\"outlinewidth\":0,\"ticks\":\"\"}}],\"histogram2d\":[{\"type\":\"histogram2d\",\"colorbar\":{\"outlinewidth\":0,\"ticks\":\"\"},\"colorscale\":[[0.0,\"#0d0887\"],[0.1111111111111111,\"#46039f\"],[0.2222222222222222,\"#7201a8\"],[0.3333333333333333,\"#9c179e\"],[0.4444444444444444,\"#bd3786\"],[0.5555555555555556,\"#d8576b\"],[0.6666666666666666,\"#ed7953\"],[0.7777777777777778,\"#fb9f3a\"],[0.8888888888888888,\"#fdca26\"],[1.0,\"#f0f921\"]]}],\"heatmap\":[{\"type\":\"heatmap\",\"colorbar\":{\"outlinewidth\":0,\"ticks\":\"\"},\"colorscale\":[[0.0,\"#0d0887\"],[0.1111111111111111,\"#46039f\"],[0.2222222222222222,\"#7201a8\"],[0.3333333333333333,\"#9c179e\"],[0.4444444444444444,\"#bd3786\"],[0.5555555555555556,\"#d8576b\"],[0.6666666666666666,\"#ed7953\"],[0.7777777777777778,\"#fb9f3a\"],[0.8888888888888888,\"#fdca26\"],[1.0,\"#f0f921\"]]}],\"heatmapgl\":[{\"type\":\"heatmapgl\",\"colorbar\":{\"outlinewidth\":0,\"ticks\":\"\"},\"colorscale\":[[0.0,\"#0d0887\"],[0.1111111111111111,\"#46039f\"],[0.2222222222222222,\"#7201a8\"],[0.3333333333333333,\"#9c179e\"],[0.4444444444444444,\"#bd3786\"],[0.5555555555555556,\"#d8576b\"],[0.6666666666666666,\"#ed7953\"],[0.7777777777777778,\"#fb9f3a\"],[0.8888888888888888,\"#fdca26\"],[1.0,\"#f0f921\"]]}],\"contourcarpet\":[{\"type\":\"contourcarpet\",\"colorbar\":{\"outlinewidth\":0,\"ticks\":\"\"}}],\"contour\":[{\"type\":\"contour\",\"colorbar\":{\"outlinewidth\":0,\"ticks\":\"\"},\"colorscale\":[[0.0,\"#0d0887\"],[0.1111111111111111,\"#46039f\"],[0.2222222222222222,\"#7201a8\"],[0.3333333333333333,\"#9c179e\"],[0.4444444444444444,\"#bd3786\"],[0.5555555555555556,\"#d8576b\"],[0.6666666666666666,\"#ed7953\"],[0.7777777777777778,\"#fb9f3a\"],[0.8888888888888888,\"#fdca26\"],[1.0,\"#f0f921\"]]}],\"surface\":[{\"type\":\"surface\",\"colorbar\":{\"outlinewidth\":0,\"ticks\":\"\"},\"colorscale\":[[0.0,\"#0d0887\"],[0.1111111111111111,\"#46039f\"],[0.2222222222222222,\"#7201a8\"],[0.3333333333333333,\"#9c179e\"],[0.4444444444444444,\"#bd3786\"],[0.5555555555555556,\"#d8576b\"],[0.6666666666666666,\"#ed7953\"],[0.7777777777777778,\"#fb9f3a\"],[0.8888888888888888,\"#fdca26\"],[1.0,\"#f0f921\"]]}],\"mesh3d\":[{\"type\":\"mesh3d\",\"colorbar\":{\"outlinewidth\":0,\"ticks\":\"\"}}],\"scatter\":[{\"fillpattern\":{\"fillmode\":\"overlay\",\"size\":10,\"solidity\":0.2},\"type\":\"scatter\"}],\"parcoords\":[{\"type\":\"parcoords\",\"line\":{\"colorbar\":{\"outlinewidth\":0,\"ticks\":\"\"}}}],\"scatterpolargl\":[{\"type\":\"scatterpolargl\",\"marker\":{\"colorbar\":{\"outlinewidth\":0,\"ticks\":\"\"}}}],\"bar\":[{\"error_x\":{\"color\":\"#2a3f5f\"},\"error_y\":{\"color\":\"#2a3f5f\"},\"marker\":{\"line\":{\"color\":\"#E5ECF6\",\"width\":0.5},\"pattern\":{\"fillmode\":\"overlay\",\"size\":10,\"solidity\":0.2}},\"type\":\"bar\"}],\"scattergeo\":[{\"type\":\"scattergeo\",\"marker\":{\"colorbar\":{\"outlinewidth\":0,\"ticks\":\"\"}}}],\"scatterpolar\":[{\"type\":\"scatterpolar\",\"marker\":{\"colorbar\":{\"outlinewidth\":0,\"ticks\":\"\"}}}],\"histogram\":[{\"marker\":{\"pattern\":{\"fillmode\":\"overlay\",\"size\":10,\"solidity\":0.2}},\"type\":\"histogram\"}],\"scattergl\":[{\"type\":\"scattergl\",\"marker\":{\"colorbar\":{\"outlinewidth\":0,\"ticks\":\"\"}}}],\"scatter3d\":[{\"type\":\"scatter3d\",\"line\":{\"colorbar\":{\"outlinewidth\":0,\"ticks\":\"\"}},\"marker\":{\"colorbar\":{\"outlinewidth\":0,\"ticks\":\"\"}}}],\"scattermapbox\":[{\"type\":\"scattermapbox\",\"marker\":{\"colorbar\":{\"outlinewidth\":0,\"ticks\":\"\"}}}],\"scatterternary\":[{\"type\":\"scatterternary\",\"marker\":{\"colorbar\":{\"outlinewidth\":0,\"ticks\":\"\"}}}],\"scattercarpet\":[{\"type\":\"scattercarpet\",\"marker\":{\"colorbar\":{\"outlinewidth\":0,\"ticks\":\"\"}}}],\"carpet\":[{\"aaxis\":{\"endlinecolor\":\"#2a3f5f\",\"gridcolor\":\"white\",\"linecolor\":\"white\",\"minorgridcolor\":\"white\",\"startlinecolor\":\"#2a3f5f\"},\"baxis\":{\"endlinecolor\":\"#2a3f5f\",\"gridcolor\":\"white\",\"linecolor\":\"white\",\"minorgridcolor\":\"white\",\"startlinecolor\":\"#2a3f5f\"},\"type\":\"carpet\"}],\"table\":[{\"cells\":{\"fill\":{\"color\":\"#EBF0F8\"},\"line\":{\"color\":\"white\"}},\"header\":{\"fill\":{\"color\":\"#C8D4E3\"},\"line\":{\"color\":\"white\"}},\"type\":\"table\"}],\"barpolar\":[{\"marker\":{\"line\":{\"color\":\"#E5ECF6\",\"width\":0.5},\"pattern\":{\"fillmode\":\"overlay\",\"size\":10,\"solidity\":0.2}},\"type\":\"barpolar\"}],\"pie\":[{\"automargin\":true,\"type\":\"pie\"}]},\"layout\":{\"autotypenumbers\":\"strict\",\"colorway\":[\"#636efa\",\"#EF553B\",\"#00cc96\",\"#ab63fa\",\"#FFA15A\",\"#19d3f3\",\"#FF6692\",\"#B6E880\",\"#FF97FF\",\"#FECB52\"],\"font\":{\"color\":\"#2a3f5f\"},\"hovermode\":\"closest\",\"hoverlabel\":{\"align\":\"left\"},\"paper_bgcolor\":\"white\",\"plot_bgcolor\":\"#E5ECF6\",\"polar\":{\"bgcolor\":\"#E5ECF6\",\"angularaxis\":{\"gridcolor\":\"white\",\"linecolor\":\"white\",\"ticks\":\"\"},\"radialaxis\":{\"gridcolor\":\"white\",\"linecolor\":\"white\",\"ticks\":\"\"}},\"ternary\":{\"bgcolor\":\"#E5ECF6\",\"aaxis\":{\"gridcolor\":\"white\",\"linecolor\":\"white\",\"ticks\":\"\"},\"baxis\":{\"gridcolor\":\"white\",\"linecolor\":\"white\",\"ticks\":\"\"},\"caxis\":{\"gridcolor\":\"white\",\"linecolor\":\"white\",\"ticks\":\"\"}},\"coloraxis\":{\"colorbar\":{\"outlinewidth\":0,\"ticks\":\"\"}},\"colorscale\":{\"sequential\":[[0.0,\"#0d0887\"],[0.1111111111111111,\"#46039f\"],[0.2222222222222222,\"#7201a8\"],[0.3333333333333333,\"#9c179e\"],[0.4444444444444444,\"#bd3786\"],[0.5555555555555556,\"#d8576b\"],[0.6666666666666666,\"#ed7953\"],[0.7777777777777778,\"#fb9f3a\"],[0.8888888888888888,\"#fdca26\"],[1.0,\"#f0f921\"]],\"sequentialminus\":[[0.0,\"#0d0887\"],[0.1111111111111111,\"#46039f\"],[0.2222222222222222,\"#7201a8\"],[0.3333333333333333,\"#9c179e\"],[0.4444444444444444,\"#bd3786\"],[0.5555555555555556,\"#d8576b\"],[0.6666666666666666,\"#ed7953\"],[0.7777777777777778,\"#fb9f3a\"],[0.8888888888888888,\"#fdca26\"],[1.0,\"#f0f921\"]],\"diverging\":[[0,\"#8e0152\"],[0.1,\"#c51b7d\"],[0.2,\"#de77ae\"],[0.3,\"#f1b6da\"],[0.4,\"#fde0ef\"],[0.5,\"#f7f7f7\"],[0.6,\"#e6f5d0\"],[0.7,\"#b8e186\"],[0.8,\"#7fbc41\"],[0.9,\"#4d9221\"],[1,\"#276419\"]]},\"xaxis\":{\"gridcolor\":\"white\",\"linecolor\":\"white\",\"ticks\":\"\",\"title\":{\"standoff\":15},\"zerolinecolor\":\"white\",\"automargin\":true,\"zerolinewidth\":2},\"yaxis\":{\"gridcolor\":\"white\",\"linecolor\":\"white\",\"ticks\":\"\",\"title\":{\"standoff\":15},\"zerolinecolor\":\"white\",\"automargin\":true,\"zerolinewidth\":2},\"scene\":{\"xaxis\":{\"backgroundcolor\":\"#E5ECF6\",\"gridcolor\":\"white\",\"linecolor\":\"white\",\"showbackground\":true,\"ticks\":\"\",\"zerolinecolor\":\"white\",\"gridwidth\":2},\"yaxis\":{\"backgroundcolor\":\"#E5ECF6\",\"gridcolor\":\"white\",\"linecolor\":\"white\",\"showbackground\":true,\"ticks\":\"\",\"zerolinecolor\":\"white\",\"gridwidth\":2},\"zaxis\":{\"backgroundcolor\":\"#E5ECF6\",\"gridcolor\":\"white\",\"linecolor\":\"white\",\"showbackground\":true,\"ticks\":\"\",\"zerolinecolor\":\"white\",\"gridwidth\":2}},\"shapedefaults\":{\"line\":{\"color\":\"#2a3f5f\"}},\"annotationdefaults\":{\"arrowcolor\":\"#2a3f5f\",\"arrowhead\":0,\"arrowwidth\":1},\"geo\":{\"bgcolor\":\"white\",\"landcolor\":\"#E5ECF6\",\"subunitcolor\":\"white\",\"showland\":true,\"showlakes\":true,\"lakecolor\":\"white\"},\"title\":{\"x\":0.05},\"mapbox\":{\"style\":\"light\"}}},\"xaxis\":{\"anchor\":\"y\",\"domain\":[0.0,1.0],\"title\":{\"text\":\"index\"}},\"yaxis\":{\"anchor\":\"x\",\"domain\":[0.0,1.0],\"title\":{\"text\":\"value\"}},\"legend\":{\"title\":{\"text\":\"variable\"},\"tracegroupgap\":0},\"margin\":{\"t\":60},\"barmode\":\"relative\"},                        {\"responsive\": true}                    ).then(function(){\n",
       "                            \n",
       "var gd = document.getElementById('cda525e5-b5f8-4cc7-af59-7847bb5acb40');\n",
       "var x = new MutationObserver(function (mutations, observer) {{\n",
       "        var display = window.getComputedStyle(gd).display;\n",
       "        if (!display || display === 'none') {{\n",
       "            console.log([gd, 'removed!']);\n",
       "            Plotly.purge(gd);\n",
       "            observer.disconnect();\n",
       "        }}\n",
       "}});\n",
       "\n",
       "// Listen for the removal of the full notebook cells\n",
       "var notebookContainer = gd.closest('#notebook-container');\n",
       "if (notebookContainer) {{\n",
       "    x.observe(notebookContainer, {childList: true});\n",
       "}}\n",
       "\n",
       "// Listen for the clearing of the current output cell\n",
       "var outputEl = gd.closest('.output');\n",
       "if (outputEl) {{\n",
       "    x.observe(outputEl, {childList: true});\n",
       "}}\n",
       "\n",
       "                        })                };                });            </script>        </div>"
      ]
     },
     "metadata": {},
     "output_type": "display_data"
    }
   ],
   "source": [
    "fig.show()"
   ]
  }
 ],
 "metadata": {
  "kernelspec": {
   "display_name": "data_venv",
   "language": "python",
   "name": "data_venv"
  },
  "language_info": {
   "codemirror_mode": {
    "name": "ipython",
    "version": 3
   },
   "file_extension": ".py",
   "mimetype": "text/x-python",
   "name": "python",
   "nbconvert_exporter": "python",
   "pygments_lexer": "ipython3",
   "version": "3.10.9"
  }
 },
 "nbformat": 4,
 "nbformat_minor": 5
}
