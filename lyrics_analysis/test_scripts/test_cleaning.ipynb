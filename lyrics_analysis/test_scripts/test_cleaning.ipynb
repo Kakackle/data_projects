{
 "cells": [
  {
   "cell_type": "code",
   "execution_count": 2,
   "id": "d920b798-c79d-4ef5-b94a-870630b843ae",
   "metadata": {},
   "outputs": [],
   "source": [
    "import os\n",
    "import pandas as pd"
   ]
  },
  {
   "cell_type": "code",
   "execution_count": 5,
   "id": "72470225-7800-4d60-903c-d64b740618b1",
   "metadata": {},
   "outputs": [],
   "source": [
    "df = pd.read_csv('dataframes/soul_10.csv', index_col=0)"
   ]
  },
  {
   "cell_type": "code",
   "execution_count": 49,
   "id": "a6080294-7275-4a31-ad36-f97a7d82496f",
   "metadata": {},
   "outputs": [],
   "source": [
    "lyrics = df['Song Lyrics'][0].replace('\\n', ' ')"
   ]
  },
  {
   "cell_type": "code",
   "execution_count": 50,
   "id": "c28f7372-47a7-4d88-83be-4412677cb550",
   "metadata": {},
   "outputs": [
    {
     "data": {
      "text/plain": [
       "\"39 ContributorsLet’s Stay Together Lyrics Let's stay together  I, I'm so in love with you Whatever you want to do is alright with me 'Cause you make me feel so brand new And I want to spend my life with you  Let me say that since, baby, since we've been together Ooh, loving you forever is what I need Let me be the one you come running to I'll never be untrue  Ooh, baby, let's, let's stay together Lovin' you whether Whether times are good or bad, happy or sad Ooh, yeah Whether times are good or bad, happy or sad  Why somebody, why people break up Turn around and make up, I just can't see You'd never do that to me, would you baby? Just being around you is all I see, it's what I want to do You might also like Let's, we ought to stay together Lovin' you whether Whether times are good or bad, happy or sad  C'mon, let's, let's stay together I'll keep on lovin' you whether Whether times are, oh times are good or times are bad19Embed\""
      ]
     },
     "execution_count": 50,
     "metadata": {},
     "output_type": "execute_result"
    }
   ],
   "source": [
    "lyrics"
   ]
  },
  {
   "cell_type": "code",
   "execution_count": 51,
   "id": "8ae7f8b0-503c-4f60-96ce-93b254201af6",
   "metadata": {},
   "outputs": [],
   "source": [
    "import re"
   ]
  },
  {
   "cell_type": "code",
   "execution_count": 106,
   "id": "f18dc25d-9314-4358-aba2-7a0b0261d99e",
   "metadata": {},
   "outputs": [],
   "source": [
    "regex_text = r\"\"\"\n",
    "\\d*.*             # number of contributors\n",
    "contributors      # 'contributors'\n",
    ".*                # translators and otherwise\n",
    "lyrics            # 'lyrics'\n",
    "(.*)              # everything including newline characters\n",
    "\\d*embed          # optional numbers then 'embed'\n",
    "\"\"\"\n",
    "regex_text = r'\\d*.*contributors.*lyrics(.*)\\d*embed'\n",
    "regex = re.compile(regex_text, flags = re.VERBOSE)"
   ]
  },
  {
   "cell_type": "code",
   "execution_count": 93,
   "id": "47883b50-755c-4878-b101-331b76ff9a10",
   "metadata": {},
   "outputs": [],
   "source": [
    "matches = re.finditer(regex_text, lyrics.lower(), re.MULTILINE)"
   ]
  },
  {
   "cell_type": "code",
   "execution_count": 94,
   "id": "3a2a6bb7-6880-4922-a162-4a311365f589",
   "metadata": {},
   "outputs": [
    {
     "data": {
      "text/plain": [
       "<callable_iterator at 0x154d20100a0>"
      ]
     },
     "execution_count": 94,
     "metadata": {},
     "output_type": "execute_result"
    }
   ],
   "source": [
    "matches"
   ]
  },
  {
   "cell_type": "code",
   "execution_count": 95,
   "id": "82b4ea6b-e00e-49c1-b4c9-3147d721fcae",
   "metadata": {},
   "outputs": [],
   "source": [
    "match = regex.findall(lyrics.lower())"
   ]
  },
  {
   "cell_type": "code",
   "execution_count": 96,
   "id": "da4a1030-c3bb-410c-ba64-602ddc568331",
   "metadata": {},
   "outputs": [
    {
     "data": {
      "text/plain": [
       "[\" let's stay together  i, i'm so in love with you whatever you want to do is alright with me 'cause you make me feel so brand new and i want to spend my life with you  let me say that since, baby, since we've been together ooh, loving you forever is what i need let me be the one you come running to i'll never be untrue  ooh, baby, let's, let's stay together lovin' you whether whether times are good or bad, happy or sad ooh, yeah whether times are good or bad, happy or sad  why somebody, why people break up turn around and make up, i just can't see you'd never do that to me, would you baby? just being around you is all i see, it's what i want to do you might also like let's, we ought to stay together lovin' you whether whether times are good or bad, happy or sad  c'mon, let's, let's stay together i'll keep on lovin' you whether whether times are, oh times are good or times are bad19\"]"
      ]
     },
     "execution_count": 96,
     "metadata": {},
     "output_type": "execute_result"
    }
   ],
   "source": [
    "match"
   ]
  },
  {
   "cell_type": "code",
   "execution_count": 103,
   "id": "af606d49-878b-4fad-af2f-b18c542e2c2f",
   "metadata": {},
   "outputs": [
    {
     "data": {
      "text/plain": [
       "\"let's stay together  i, i'm so in love with you whatever you want to do is alright with me 'cause you make me feel so brand new and i want to spend my life with you  let me say that since, baby, since we've been together ooh, loving you forever is what i need let me be the one you come running to i'll never be untrue  ooh, baby, let's, let's stay together lovin' you whether whether times are good or bad, happy or sad ooh, yeah whether times are good or bad, happy or sad  why somebody, why people break up turn around and make up, i just can't see you'd never do that to me, would you baby? just being around you is all i see, it's what i want to do you might also like let's, we ought to stay together lovin' you whether whether times are good or bad, happy or sad  c'mon, let's, let's stay together i'll keep on lovin' you whether whether times are, oh times are good or times are bad19\""
      ]
     },
     "execution_count": 103,
     "metadata": {},
     "output_type": "execute_result"
    }
   ],
   "source": [
    "match = match[0].strip()\n",
    "match"
   ]
  },
  {
   "cell_type": "code",
   "execution_count": 104,
   "id": "ce5cc36c-75bb-49ef-b775-ec10d4e7b267",
   "metadata": {},
   "outputs": [],
   "source": [
    "remove_number = re.sub('(\\d+)(?!.*\\d)', '', match)"
   ]
  },
  {
   "cell_type": "code",
   "execution_count": 105,
   "id": "7cfe0224-6f55-4715-82db-65d58548a973",
   "metadata": {},
   "outputs": [
    {
     "data": {
      "text/plain": [
       "\"let's stay together  i, i'm so in love with you whatever you want to do is alright with me 'cause you make me feel so brand new and i want to spend my life with you  let me say that since, baby, since we've been together ooh, loving you forever is what i need let me be the one you come running to i'll never be untrue  ooh, baby, let's, let's stay together lovin' you whether whether times are good or bad, happy or sad ooh, yeah whether times are good or bad, happy or sad  why somebody, why people break up turn around and make up, i just can't see you'd never do that to me, would you baby? just being around you is all i see, it's what i want to do you might also like let's, we ought to stay together lovin' you whether whether times are good or bad, happy or sad  c'mon, let's, let's stay together i'll keep on lovin' you whether whether times are, oh times are good or times are bad\""
      ]
     },
     "execution_count": 105,
     "metadata": {},
     "output_type": "execute_result"
    }
   ],
   "source": [
    "remove_number"
   ]
  },
  {
   "cell_type": "code",
   "execution_count": 102,
   "id": "200eaf64-8859-4e89-b1c4-b8b8be05777d",
   "metadata": {},
   "outputs": [],
   "source": [
    "# lyrics_lower = lyrics.lower()"
   ]
  },
  {
   "cell_type": "code",
   "execution_count": 101,
   "id": "3f70b0b2-0631-47bc-8241-3f68d2fd345a",
   "metadata": {},
   "outputs": [],
   "source": [
    "# lyrics_lower"
   ]
  },
  {
   "cell_type": "code",
   "execution_count": 100,
   "id": "f284a179-f7fb-47fe-bc1b-825c6d1860f9",
   "metadata": {},
   "outputs": [],
   "source": [
    "# test_text = '99 bitches is 77 yeah'"
   ]
  },
  {
   "cell_type": "code",
   "execution_count": 99,
   "id": "410c0f50-a565-4ff2-9d5a-c3cb328efff9",
   "metadata": {},
   "outputs": [],
   "source": [
    "# test_regex_text = '''\n",
    "# (\\d*)\n",
    "# .*\n",
    "# bitches\n",
    "# .*\n",
    "# (\\d*)\n",
    "# (.*)\n",
    "# '''"
   ]
  },
  {
   "cell_type": "code",
   "execution_count": 98,
   "id": "26c61230-b7aa-4452-9daa-c6cb975051f7",
   "metadata": {},
   "outputs": [],
   "source": [
    "# test_regex = re.compile(test_regex_text)"
   ]
  },
  {
   "cell_type": "code",
   "execution_count": 97,
   "id": "ef287d72-c4c2-4094-ba5c-059599b27bb3",
   "metadata": {},
   "outputs": [],
   "source": [
    "# test_regex.findall(test_text)"
   ]
  },
  {
   "cell_type": "code",
   "execution_count": 112,
   "id": "da6a6ca0-6019-48a1-a498-611a854a8377",
   "metadata": {},
   "outputs": [],
   "source": [
    "df['Song Lyrics'] = df['Song Lyrics'].str.lower()\n",
    "\n",
    "df['Song Lyrics'] = df['Song Lyrics'].str.strip()\n",
    "\n",
    "df['Song Lyrics'] = df['Song Lyrics'].str.replace('\\n', ' ')"
   ]
  },
  {
   "cell_type": "code",
   "execution_count": 113,
   "id": "ac357d81-db02-49b1-9da5-ef7cdd88a6d9",
   "metadata": {},
   "outputs": [],
   "source": [
    "df['Song Lyrics'].replace({regex_text: r'\\1'}, inplace=True, regex=True)\n",
    "# df['Song Lyrics'].replace({genius_regex_text : r'\\3'}, inplace=True, regex=True)"
   ]
  },
  {
   "cell_type": "code",
   "execution_count": 114,
   "id": "210effc2-0be7-46eb-9ad1-480f01875c7c",
   "metadata": {},
   "outputs": [
    {
     "data": {
      "text/plain": [
       "0       let's stay together  i, i'm so in love with y...\n",
       "1       love and happiness yeah something that can ma...\n",
       "2       i can think of younger days when living for m...\n",
       "3       sweet baby  i'm so tired of being alone i'm s...\n",
       "4       i'd like to dedicate this song to little juni...\n",
       "                             ...                        \n",
       "195     oh so long for this night i prayed that a sta...\n",
       "196     call up, ring once, hang up the phone to let ...\n",
       "197     la-la, la, la, la, la la-la, la, la, la, la  ...\n",
       "198     you made my soul a burning fire you're gettin...\n",
       "199     good morn' or evening, friends here's your fr...\n",
       "Name: Song Lyrics, Length: 200, dtype: object"
      ]
     },
     "execution_count": 114,
     "metadata": {},
     "output_type": "execute_result"
    }
   ],
   "source": [
    "df['Song Lyrics']"
   ]
  }
 ],
 "metadata": {
  "kernelspec": {
   "display_name": "data_venv",
   "language": "python",
   "name": "data_venv"
  },
  "language_info": {
   "codemirror_mode": {
    "name": "ipython",
    "version": 3
   },
   "file_extension": ".py",
   "mimetype": "text/x-python",
   "name": "python",
   "nbconvert_exporter": "python",
   "pygments_lexer": "ipython3",
   "version": "3.10.9"
  }
 },
 "nbformat": 4,
 "nbformat_minor": 5
}
