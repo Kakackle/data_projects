{
 "cells": [
  {
   "cell_type": "markdown",
   "id": "5fdebcb2-c448-4cfa-866e-6a7610e79ca2",
   "metadata": {},
   "source": [
    "Analyzing saved lyrics by NOTING (not counting) the occurences of words or topics within songs within artists withing genres\n",
    "\n",
    "eg. if 'Are you that somebody' by Aaliyah includes words about love or just 'baby', add a column for each song that will count the occurences and/or a column just marking whether the occurence happened (which is basically >0)\n",
    "\n",
    "then use the count / occurence and plot it's relation with the writer / producer / featured counts and year etc"
   ]
  },
  {
   "cell_type": "code",
   "execution_count": null,
   "id": "80650581-e0be-4b78-9095-e9b51b17b34a",
   "metadata": {},
   "outputs": [],
   "source": [
    "import pandas as pd\n",
    "import re\n",
    "import os\n",
    "import plotly\n",
    "import plotly.express as px\n",
    "\n",
    "import plotly.graph_objects as graph_objects\n",
    "from plotly.subplots import make_subplots"
   ]
  },
  {
   "cell_type": "code",
   "execution_count": null,
   "id": "25eb0d9e-099f-4b6f-a855-262d351e1ef8",
   "metadata": {},
   "outputs": [],
   "source": [
    "genre = 'pop'\n",
    "\n",
    "df_path = f'dataframes/with_counts/{genre}_count.csv'\n",
    "\n",
    "df = pd.read_csv(df_path, index_col=0)"
   ]
  },
  {
   "cell_type": "code",
   "execution_count": null,
   "id": "b6eada0a-8e6d-417a-93ea-18a893e69861",
   "metadata": {},
   "outputs": [],
   "source": [
    "df.head()"
   ]
  },
  {
   "cell_type": "code",
   "execution_count": null,
   "id": "75358753-4c80-4f68-98fa-c0f440c964b7",
   "metadata": {},
   "outputs": [],
   "source": [
    "aaliyah_df = df[df['Artist'] == 'Aaliyah']"
   ]
  },
  {
   "cell_type": "code",
   "execution_count": null,
   "id": "139dde68-e35d-49f4-a735-1169264d6cd8",
   "metadata": {},
   "outputs": [],
   "source": [
    "len(aaliyah_df)"
   ]
  },
  {
   "cell_type": "code",
   "execution_count": null,
   "id": "4dec2f16-4cbe-4390-88e1-aae862d9c94a",
   "metadata": {},
   "outputs": [],
   "source": [
    "set(df['Artist'])"
   ]
  },
  {
   "cell_type": "code",
   "execution_count": null,
   "id": "ccf375c9-b18f-4200-a32c-9c4245ec7bf0",
   "metadata": {},
   "outputs": [],
   "source": [
    "love_bar = px.bar(df[df['Artist'] == 'Beyoncé'], x='Month', y='love')\n",
    "love_bar.show()"
   ]
  },
  {
   "cell_type": "markdown",
   "id": "ff41d293-3c2b-4709-800d-8a71e6a7266b",
   "metadata": {},
   "source": [
    "### try to get some correlations"
   ]
  },
  {
   "cell_type": "code",
   "execution_count": null,
   "id": "701c54df-1082-4b5d-95c4-eaaa669e1d0d",
   "metadata": {},
   "outputs": [],
   "source": [
    "import plotly.io as pio\n",
    "import plotly.express as px\n",
    "import plotly.graph_objects as go\n",
    "\n",
    "pio.templates.default = \"plotly_white\"\n",
    "\n",
    "to_corr = ['Year', 'Month', 'Day', 'Pageviews', 'featured_count', 'writer_count',\n",
    "          'producer_count', 'love', 'money', 'violence', 'drugs', 'gendered']\n",
    "\n",
    "corr = df[to_corr].corr()\n",
    "\n",
    "corr_map = go.Heatmap(\n",
    "    z = corr,\n",
    "    x=corr.columns,\n",
    "    y=corr.columns,\n",
    "    colorscale=px.colors.diverging.RdBu,\n",
    "    zmin=-1,\n",
    "    zmax=1\n",
    ")\n",
    "\n",
    "fig = go.Figure()\n",
    "fig.add_trace(corr_map)\n",
    "fig.show()"
   ]
  }
 ],
 "metadata": {
  "kernelspec": {
   "display_name": "data_venv",
   "language": "python",
   "name": "data_venv"
  },
  "language_info": {
   "codemirror_mode": {
    "name": "ipython",
    "version": 3
   },
   "file_extension": ".py",
   "mimetype": "text/x-python",
   "name": "python",
   "nbconvert_exporter": "python",
   "pygments_lexer": "ipython3",
   "version": "3.10.9"
  }
 },
 "nbformat": 4,
 "nbformat_minor": 5
}
