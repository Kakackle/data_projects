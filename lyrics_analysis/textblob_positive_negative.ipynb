{
 "cells": [
  {
   "cell_type": "code",
   "execution_count": 1,
   "id": "b0ac31b4-8435-4aea-92a2-5d0110ace232",
   "metadata": {},
   "outputs": [],
   "source": [
    "from textblob import TextBlob"
   ]
  },
  {
   "cell_type": "code",
   "execution_count": 2,
   "id": "da1c8784-2544-4933-900f-44951745bd4e",
   "metadata": {},
   "outputs": [],
   "source": [
    "import pandas as pd"
   ]
  },
  {
   "cell_type": "code",
   "execution_count": 3,
   "id": "337c9130-689f-4312-8d16-2c121d5dc8ae",
   "metadata": {},
   "outputs": [],
   "source": [
    "df_path = 'dataframes/with_counts/combined_count.csv'"
   ]
  },
  {
   "cell_type": "code",
   "execution_count": 7,
   "id": "1a7387a8-7aca-4321-a4bb-1a5540679db3",
   "metadata": {},
   "outputs": [],
   "source": [
    "df = pd.read_csv(df_path, index_col = 0)"
   ]
  },
  {
   "cell_type": "code",
   "execution_count": 8,
   "id": "3d28a5b1-525a-4763-817c-d172283ec05c",
   "metadata": {},
   "outputs": [],
   "source": [
    "sample_lyrics = df.sample(5)['Song Lyrics'].str.lower()"
   ]
  },
  {
   "cell_type": "code",
   "execution_count": 9,
   "id": "04b868bb-ee5a-4f08-b134-9a06699cddca",
   "metadata": {
    "scrolled": true
   },
   "outputs": [
    {
     "name": "stdout",
     "output_type": "stream",
     "text": [
      "song:\n",
      " waking up next to you every morning how did we get this far it came without a warning and in the nighttime you tell me your whole life you and me get too real but all i feel is alright  my hearts a secret mmm i think im coming alive yeah i think im coming alive with you tell me youll keep it mmm i think im coming alive yeah i come alive with you  dont give it up dont say it hurts cause theres nothing like this feeling baby now that i found you i want it all no theres nothing like this feeling baby now that i found you now that i found you now that i found you  give me the words i want baby just say it you know me way too well to keep it complicated i dont wanna hide my love i dont wanna waste it i dont wanna waste it but i cant deny the moment when i taste it you might also like my hearts a secret mmm i think im coming alive yeah i think im coming alive with you tell me youll keep it mmm i think im coming alive yeah i come alive with you  dont give it up dont give it up dont say it hurts dont say it hurts cause theres nothing like this feeling baby now that i found you i want it all i want it all no theres nothing like this feeling baby now that i found you now that i found you now that i found you  thought it was impossible its just like a miracle say nothings impossible now now that i found now that i found you now that i found now that i found you dont say it hurts dont say it hurts cause theres nothing like this feeling baby now that i found you i want it all i want it all no theres nothing like this feeling baby now that i found you oh now that i found you now that i found you oh now that i found you now that i found you\n",
      "===================================\n",
      "sentiment:\n",
      "-0.06166666666666667\n",
      "positivity:  Negative\n",
      "===================================\n",
      "===================================\n",
      "song:\n",
      " close the door put out the light you know they wont be home tonight oh oh the snow falls hard and dont you know the winds of thor are blowing cold theyre wearing steel thats bright and true they carry news that must get through  they choose the path where no one goes they hold no quarter they hold no quarter aaaahh  walking side by side with death the devil mocks their every step ooh the snow drives back the foot thats slow the dogs of doom are howling more oh they carry news that must get through to build a dream for me and you oh  they choose the path where no one goes they hold no quarter they ask no quarter they hold no quarter they ask no quarter you might also like oh the pain the pain without quarter oh yeah they ask no quarter without quarter quarter quarter they give no quarter giving me giving me no oh i hear the dogs of doom are howling more\n",
      "===================================\n",
      "sentiment:\n",
      "0.1398148148148148\n",
      "positivity:  Positive\n",
      "===================================\n",
      "===================================\n",
      "song:\n",
      " you better think think think about what youre trying to do to me think think think let your mind go let yourself be free  lets go back lets go back lets go way on to way back when i didnt even know you you couldnt have been too much more than ten just a child i aint no psychiatrist i aint no doctor with degrees but it dont take too much high iq to see what youre doing to me  you better think think think about what youre trying to do to me yeah think think think let your mind go let yourself be free  cause freedom freedom stands for freedom freedom oh freedom yeah freedom right now freedom freedom oh freedom freedom give me some freedom oh freedom oh right now you might also like yeah think about it you think about it  there aint nothing you could ask i could answer you but i wont i wont but i was gonna change but im not if you keep doing things i dont  you better think think think about what youre trying to do to me oh ohohoh think what youre tryna to do to me think let your mind go let yourself be free  people walking around everyday playing games and taking scores trying to make other people lose their minds well be careful you dont lose yours  oh think think think about what youre trying to do to me wooh think think let your mind go let yourself be free you need me need me and i need you dont you know without each other there aint nothing neither can do  oh yeah think about it baby what youre tryin do to me when im gone baby think about it right now yeah right now to the bone for deepness oh right now to the bone for deepness yeah right now to the bone for deepness you think about it baby baby baby to the bone for deepness oh to the bone baby to the bone for deepness yeah ooh to the bone for deepness\n",
      "===================================\n",
      "sentiment:\n",
      "0.21409937888198752\n",
      "positivity:  Positive\n",
      "===================================\n",
      "===================================\n",
      "song:\n",
      " i miss you now whats come over me were hostages of geography the wait is long and heavy too despite what youre accustomed to i know that life moves on thats what scares me so have no intentions of letting go only us no one in the world only us no one in the world  i better do something move earth and sky and patiently sweetly with all of my might i sing only for you to the beat of my footsteps in the night  close your eyes and dream me home forever mine ill be forever yours always evermore and on and on always evermore and on and on always evermore and on and on always evermore  theres no magic bullet no cure for pain whats done is done until you do it again life in pursuit of a nameless prey ive been so close im so far away its so hard to explain so easy to feel i need you now nothing is real save me from the villains of circumstance before i lose my place you might also like close your eyes and dream me home forever mine ill be forever yours ill be forever yours ill be forever yours always evermore and on and on always evermore and on and on always evermore and on and on always evermore\n",
      "===================================\n",
      "sentiment:\n",
      "-0.10049019607843138\n",
      "positivity:  Negative\n",
      "===================================\n",
      "===================================\n",
      "song:\n",
      " passion instant sweat beads feel me cupids shot me my heartbeats racin tempt me tempt me try me try me feels so exciting thought of highly its yours entirely  ill be ill be more than a lover more than a woman more than your other ill be ill be more than a lover more than a woman more than enough for you ill be ill ill be more than a lover more than a woman even more under covers ill be more ill be more than a lover more than a woman more than enough for you  midnight grindin heart rates climbin you go you go i go cause we share we share pillows pillows chase me leave me theres still no separatin mornin massages with new bones in your closet you might also like ill be ill be more than a lover more than a woman more than your other i said ill be ill be more than a lover more than a woman more than enough for you ill be more ill ill be more than a lover more more than a woman even more under covers im gonna be more ill be more than a lover yeah more than a woman more than enough for you  i dont think youre ready i dont think youre ready for this thing for this thing i dont think youre ready for this thing youre not ready no no i dont think youre ready for this thing this thing this thing i dont think youre ready for this thing  constant pleasures no scale can measure secrets treasures keeps on gettin better yeah do you wanna roll with me we can go to foreign lands with your hand in my hand do you wanna ride with me we can be like bonnie and clyde be by your side ill be more than a lover more than a woman more than your other ill be more than a lover more than a woman more than enough for you ill ill be more than a lover more than a woman even more under covers ill be more than a lover more than a woman more than enough for you\n",
      "===================================\n",
      "sentiment:\n",
      "0.12495670995670996\n",
      "positivity:  Positive\n",
      "===================================\n",
      "===================================\n"
     ]
    }
   ],
   "source": [
    "for song in sample_lyrics:\n",
    "    blob = TextBlob(song)\n",
    "    sentiment = blob.sentiment.polarity\n",
    "    print('song:')\n",
    "    print(song)\n",
    "    print('===================================')\n",
    "    print('sentiment:')\n",
    "    print(sentiment)\n",
    "    if sentiment > 0:\n",
    "        positivity = 'Positive'\n",
    "    if sentiment == 0:\n",
    "        positivity = 'Neutral'\n",
    "    if sentiment < 0:\n",
    "        positivity = 'Negative'\n",
    "    print('positivity: ', positivity)\n",
    "    \n",
    "    print('===================================')\n",
    "    print('===================================')"
   ]
  },
  {
   "cell_type": "code",
   "execution_count": 10,
   "id": "bc5b4612-9a75-4a22-a2c5-8e83efa9313d",
   "metadata": {},
   "outputs": [],
   "source": [
    "def assign_sentiment(row):\n",
    "    lyrics = row['Song Lyrics']\n",
    "    blob = TextBlob(song)\n",
    "    sentiment = blob.sentiment.polarity\n",
    "    if sentiment > 0:\n",
    "        positivity = 'Positive'\n",
    "    if sentiment == 0:\n",
    "        positivity = 'Neutral'\n",
    "    if sentiment < 0:\n",
    "        positivity = 'Negative'\n",
    "    return positivity"
   ]
  },
  {
   "cell_type": "code",
   "execution_count": 11,
   "id": "c0a614a8-257b-455a-9d94-6ea7d288231c",
   "metadata": {},
   "outputs": [],
   "source": [
    "def apply_sentiment(df):\n",
    "    df['sentiment'] = df.apply(\n",
    "        lambda row: assign_sentiment(row),\n",
    "        axis = 1\n",
    "    )\n",
    "    return df"
   ]
  },
  {
   "cell_type": "code",
   "execution_count": 12,
   "id": "52e5987c-6714-4438-aa3f-4598262f3b54",
   "metadata": {},
   "outputs": [],
   "source": [
    "df = apply_sentiment(df)"
   ]
  },
  {
   "cell_type": "code",
   "execution_count": 13,
   "id": "2e6f7172-1889-4845-8d42-b1eeac1a18c7",
   "metadata": {},
   "outputs": [
    {
     "data": {
      "text/html": [
       "<div>\n",
       "<style scoped>\n",
       "    .dataframe tbody tr th:only-of-type {\n",
       "        vertical-align: middle;\n",
       "    }\n",
       "\n",
       "    .dataframe tbody tr th {\n",
       "        vertical-align: top;\n",
       "    }\n",
       "\n",
       "    .dataframe thead th {\n",
       "        text-align: right;\n",
       "    }\n",
       "</style>\n",
       "<table border=\"1\" class=\"dataframe\">\n",
       "  <thead>\n",
       "    <tr style=\"text-align: right;\">\n",
       "      <th></th>\n",
       "      <th>Song Title</th>\n",
       "      <th>sentiment</th>\n",
       "    </tr>\n",
       "  </thead>\n",
       "  <tbody>\n",
       "    <tr>\n",
       "      <th>237</th>\n",
       "      <td>Oh My God</td>\n",
       "      <td>Positive</td>\n",
       "    </tr>\n",
       "    <tr>\n",
       "      <th>692</th>\n",
       "      <td>Distant Lover</td>\n",
       "      <td>Positive</td>\n",
       "    </tr>\n",
       "    <tr>\n",
       "      <th>413</th>\n",
       "      <td>Hand of Doom</td>\n",
       "      <td>Positive</td>\n",
       "    </tr>\n",
       "    <tr>\n",
       "      <th>127</th>\n",
       "      <td>Bitch I’m Madonna</td>\n",
       "      <td>Positive</td>\n",
       "    </tr>\n",
       "    <tr>\n",
       "      <th>762</th>\n",
       "      <td>Bring It on Home to Me</td>\n",
       "      <td>Positive</td>\n",
       "    </tr>\n",
       "  </tbody>\n",
       "</table>\n",
       "</div>"
      ],
      "text/plain": [
       "                 Song Title sentiment\n",
       "237               Oh My God  Positive\n",
       "692           Distant Lover  Positive\n",
       "413            Hand of Doom  Positive\n",
       "127       Bitch I’m Madonna  Positive\n",
       "762  Bring It on Home to Me  Positive"
      ]
     },
     "execution_count": 13,
     "metadata": {},
     "output_type": "execute_result"
    }
   ],
   "source": [
    "df.sample(5)[['Song Title', 'sentiment']]"
   ]
  },
  {
   "cell_type": "code",
   "execution_count": 14,
   "id": "03b0233f-4fa5-4277-86e8-6de8ce43971f",
   "metadata": {},
   "outputs": [],
   "source": [
    "df.to_csv('dataframes/with_counts/combined_count.csv')"
   ]
  }
 ],
 "metadata": {
  "kernelspec": {
   "display_name": "data_venv",
   "language": "python",
   "name": "data_venv"
  },
  "language_info": {
   "codemirror_mode": {
    "name": "ipython",
    "version": 3
   },
   "file_extension": ".py",
   "mimetype": "text/x-python",
   "name": "python",
   "nbconvert_exporter": "python",
   "pygments_lexer": "ipython3",
   "version": "3.10.9"
  }
 },
 "nbformat": 4,
 "nbformat_minor": 5
}
