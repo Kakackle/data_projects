{
 "cells": [
  {
   "cell_type": "code",
   "execution_count": null,
   "id": "b0ac31b4-8435-4aea-92a2-5d0110ace232",
   "metadata": {},
   "outputs": [],
   "source": [
    "from textblob import TextBlob"
   ]
  },
  {
   "cell_type": "code",
   "execution_count": null,
   "id": "da1c8784-2544-4933-900f-44951745bd4e",
   "metadata": {},
   "outputs": [],
   "source": [
    "import pandas as pd"
   ]
  },
  {
   "cell_type": "code",
   "execution_count": null,
   "id": "337c9130-689f-4312-8d16-2c121d5dc8ae",
   "metadata": {},
   "outputs": [],
   "source": [
    "df_path = 'dataframes/with_counts/combined_count.csv'"
   ]
  },
  {
   "cell_type": "code",
   "execution_count": null,
   "id": "1a7387a8-7aca-4321-a4bb-1a5540679db3",
   "metadata": {},
   "outputs": [],
   "source": [
    "df = pd.read_csv(df_path, index_col = 0)"
   ]
  },
  {
   "cell_type": "code",
   "execution_count": null,
   "id": "3d28a5b1-525a-4763-817c-d172283ec05c",
   "metadata": {},
   "outputs": [],
   "source": [
    "sample_lyrics = df.sample(5)['Song Lyrics'].str.lower()"
   ]
  },
  {
   "cell_type": "code",
   "execution_count": null,
   "id": "04b868bb-ee5a-4f08-b134-9a06699cddca",
   "metadata": {
    "scrolled": true
   },
   "outputs": [],
   "source": [
    "for song in sample_lyrics:\n",
    "    blob = TextBlob(song)\n",
    "    sentiment = blob.sentiment.polarity\n",
    "    print('song:')\n",
    "    print(song)\n",
    "    print('===================================')\n",
    "    print('sentiment:')\n",
    "    print(sentiment)\n",
    "    if sentiment > 0:\n",
    "        positivity = 'Positive'\n",
    "    if sentiment == 0:\n",
    "        positivity = 'Neutral'\n",
    "    if sentiment < 0:\n",
    "        positivity = 'Negative'\n",
    "    print('positivity: ', positivity)\n",
    "    \n",
    "    print('===================================')\n",
    "    print('===================================')"
   ]
  },
  {
   "cell_type": "code",
   "execution_count": null,
   "id": "bc5b4612-9a75-4a22-a2c5-8e83efa9313d",
   "metadata": {},
   "outputs": [],
   "source": [
    "import math\n",
    "\n",
    "neutral_tolerance = 0.05\n",
    "\n",
    "def assign_sentiment(row):\n",
    "    lyrics = row['Song Lyrics'].lower()\n",
    "    blob = TextBlob(lyrics)\n",
    "    sentiment = blob.sentiment.polarity\n",
    "    if sentiment > neutral_tolerance:\n",
    "        positivity = 'Positive'\n",
    "    if math.isclose(sentiment, 0, abs_tol = neutral_tolerance):\n",
    "        positivity = 'Neutral'\n",
    "    if sentiment < -neutral_tolerance:\n",
    "        positivity = 'Negative'\n",
    "    return positivity"
   ]
  },
  {
   "cell_type": "code",
   "execution_count": null,
   "id": "c0a614a8-257b-455a-9d94-6ea7d288231c",
   "metadata": {},
   "outputs": [],
   "source": [
    "def apply_sentiment(df):\n",
    "    df['sentiment'] = df.apply(\n",
    "        lambda row: assign_sentiment(row),\n",
    "        axis = 1\n",
    "    )\n",
    "    return df"
   ]
  },
  {
   "cell_type": "code",
   "execution_count": null,
   "id": "52e5987c-6714-4438-aa3f-4598262f3b54",
   "metadata": {},
   "outputs": [],
   "source": [
    "df = apply_sentiment(df)"
   ]
  },
  {
   "cell_type": "code",
   "execution_count": null,
   "id": "2e6f7172-1889-4845-8d42-b1eeac1a18c7",
   "metadata": {},
   "outputs": [],
   "source": [
    "df.sample(5)[['Song Title', 'sentiment']]"
   ]
  },
  {
   "cell_type": "code",
   "execution_count": null,
   "id": "03b0233f-4fa5-4277-86e8-6de8ce43971f",
   "metadata": {},
   "outputs": [],
   "source": [
    "df.to_csv('dataframes/with_counts/combined_count.csv')"
   ]
  },
  {
   "cell_type": "markdown",
   "id": "2ee7111b-5f6a-4373-82a4-c33a11009563",
   "metadata": {},
   "source": [
    "### Calculate some statistics on the positive / negative distribution"
   ]
  },
  {
   "cell_type": "code",
   "execution_count": null,
   "id": "e090f30c-0d39-4b2d-8bbc-b296818aee35",
   "metadata": {},
   "outputs": [],
   "source": [
    "genres_df = df.groupby(by=['genre'])"
   ]
  },
  {
   "cell_type": "code",
   "execution_count": null,
   "id": "7ef79eb6-ac2b-4ea7-a775-977b249d36ba",
   "metadata": {},
   "outputs": [],
   "source": [
    "genres_df.head()"
   ]
  },
  {
   "cell_type": "code",
   "execution_count": null,
   "id": "9d3c6a7a-49c4-4460-9652-19e53c9960e2",
   "metadata": {
    "scrolled": true
   },
   "outputs": [],
   "source": [
    "# positive = genres_df[genres_df['sentiment'] == 'Positive'].count()\n",
    "# negative = genres_df[genres_df['sentiment'] == 'Negative'].count()\n",
    "# neutral = genres_df[genres_df['sentiment'] == 'Neutral'].count()\n",
    "positive = (df['sentiment'] == 'Positive').sum()\n",
    "negative = (df['sentiment'] == 'Negative').sum()\n",
    "neutral = (df['sentiment'] == 'Neutral').sum()\n",
    "print(positive, negative, neutral)"
   ]
  },
  {
   "cell_type": "code",
   "execution_count": null,
   "id": "61b53c71-e70e-4ab5-a7a5-0d968798b768",
   "metadata": {},
   "outputs": [],
   "source": [
    "genres = list(df['genre'].unique())"
   ]
  },
  {
   "cell_type": "code",
   "execution_count": null,
   "id": "85e7fec0-94ca-4cfc-93a0-285ce68b1423",
   "metadata": {},
   "outputs": [],
   "source": [
    "genres"
   ]
  },
  {
   "cell_type": "code",
   "execution_count": null,
   "id": "06b3909c-b1a6-4918-9ff4-dac36ad5f42c",
   "metadata": {},
   "outputs": [],
   "source": [
    "emotions = list(df['emotion'].unique())\n",
    "emotions"
   ]
  },
  {
   "cell_type": "code",
   "execution_count": null,
   "id": "fb930845-1aeb-4747-854e-e7ddcfafd64e",
   "metadata": {},
   "outputs": [],
   "source": [
    "cols = ['positive', 'negative', 'neutral', *emotions]\n",
    "cols"
   ]
  },
  {
   "cell_type": "code",
   "execution_count": null,
   "id": "3b338616-e191-41ba-87eb-6a756d9faa4f",
   "metadata": {},
   "outputs": [],
   "source": [
    "sentiment_counts_df = pd.DataFrame(columns=cols)"
   ]
  },
  {
   "cell_type": "code",
   "execution_count": null,
   "id": "57122c95-643c-4fa0-8b1f-161023c2d799",
   "metadata": {},
   "outputs": [],
   "source": [
    "for genre in genres:\n",
    "    genre_df = df[df['genre'] == genre]\n",
    "    positive = (genre_df['sentiment'] == 'Positive').sum()\n",
    "    negative = (genre_df['sentiment'] == 'Negative').sum()\n",
    "    neutral = (genre_df['sentiment'] == 'Neutral').sum()\n",
    "    new_row = {\n",
    "        'positive': positive,\n",
    "        'negative': negative,\n",
    "        'neutral': neutral,\n",
    "    }\n",
    "    for emotion in emotions:\n",
    "        emotion_count = (genre_df['emotion'] == emotion).sum()\n",
    "        new_row[emotion] = emotion_count\n",
    "    new_row_df = pd.DataFrame([new_row])\n",
    "    new_row_df.index = [genre]\n",
    "\n",
    "    sentiment_counts_df = pd.concat([sentiment_counts_df, new_row_df])\n",
    "    "
   ]
  },
  {
   "cell_type": "code",
   "execution_count": null,
   "id": "e68e849a-478f-4e20-81b1-0982a1020386",
   "metadata": {},
   "outputs": [],
   "source": [
    "sentiment_counts_df"
   ]
  },
  {
   "cell_type": "code",
   "execution_count": null,
   "id": "f63d5247-3693-4f4d-a57a-63d953fe41e3",
   "metadata": {},
   "outputs": [],
   "source": [
    "sentiment_counts_df.to_csv('dataframes/genre_sentiment_counts.csv')"
   ]
  },
  {
   "cell_type": "code",
   "execution_count": null,
   "id": "8b95902e-03df-42b8-9013-97fd372d7d1b",
   "metadata": {
    "scrolled": true
   },
   "outputs": [],
   "source": [
    "artists = list(df['Artist'].unique())\n",
    "artists"
   ]
  },
  {
   "cell_type": "code",
   "execution_count": null,
   "id": "a45bcd00-c380-4eed-a7ab-e8ce101342f2",
   "metadata": {},
   "outputs": [],
   "source": [
    "artist_sentiment_counts_df = pd.DataFrame(columns=cols)"
   ]
  },
  {
   "cell_type": "code",
   "execution_count": null,
   "id": "aee64bf8-2212-4285-a402-a9130303c196",
   "metadata": {},
   "outputs": [],
   "source": [
    "for artist in artists:\n",
    "    artist_df = df[df['Artist'] == artist]\n",
    "    positive = (artist_df['sentiment'] == 'Positive').sum()\n",
    "    negative = (artist_df['sentiment'] == 'Negative').sum()\n",
    "    neutral = (artist_df['sentiment'] == 'Neutral').sum()\n",
    "    new_row = {\n",
    "        'positive': positive,\n",
    "        'negative': negative,\n",
    "        'neutral': neutral,\n",
    "    }\n",
    "    for emotion in emotions:\n",
    "        emotion_count = (artist_df['emotion'] == emotion).sum()\n",
    "        new_row[emotion] = emotion_count\n",
    "    new_row_df = pd.DataFrame([new_row])\n",
    "    new_row_df.index = [artist]\n",
    "\n",
    "    artist_sentiment_counts_df = pd.concat([artist_sentiment_counts_df, new_row_df])"
   ]
  },
  {
   "cell_type": "code",
   "execution_count": null,
   "id": "4781bbe0-00cb-46ae-a874-73ca387456c5",
   "metadata": {},
   "outputs": [],
   "source": [
    "artist_sentiment_counts_df.head()"
   ]
  },
  {
   "cell_type": "code",
   "execution_count": null,
   "id": "f282c2f5-ff51-4250-9138-93243762a8b9",
   "metadata": {},
   "outputs": [],
   "source": [
    "artist_sentiment_counts_df.to_csv('dataframes/artist_sentiment_counts.csv')"
   ]
  },
  {
   "cell_type": "code",
   "execution_count": null,
   "id": "248655ee-bc5c-4855-811d-e221e4acd0cb",
   "metadata": {},
   "outputs": [],
   "source": [
    "import plotly.graph_objects as graph_objects\n",
    "import plotly.express as px"
   ]
  },
  {
   "cell_type": "code",
   "execution_count": null,
   "id": "b068e7a3-ae64-4495-b837-a90549e4740e",
   "metadata": {},
   "outputs": [],
   "source": [
    "genre_positives = list(sentiment_counts_df['positive'])\n",
    "genre_negatives = list(sentiment_counts_df['negative'])"
   ]
  },
  {
   "cell_type": "code",
   "execution_count": null,
   "id": "c59a92bb-5b9a-47fc-85a6-e09039b51c16",
   "metadata": {},
   "outputs": [],
   "source": [
    "genre_negatives = [-1 * neg for neg in genre_negatives]"
   ]
  },
  {
   "cell_type": "code",
   "execution_count": null,
   "id": "3bb2e6c0-4855-45b7-822b-ccd133cb8374",
   "metadata": {},
   "outputs": [],
   "source": [
    "genre_neutrals_negative = [-1 * neutral/2 for neutral in sentiment_counts_df['neutral']]\n",
    "genre_neutrals_positive = [neutral/2 for neutral in sentiment_counts_df['neutral']]"
   ]
  },
  {
   "cell_type": "code",
   "execution_count": null,
   "id": "eefbc11e-196a-469a-b9d1-85f575749861",
   "metadata": {},
   "outputs": [],
   "source": [
    "genre_spine_fig = graph_objects.Figure(\n",
    "    data = [\n",
    "        graph_objects.Bar(name='Neutral',\n",
    "                          y=genres,\n",
    "                          x = genre_neutrals_positive,\n",
    "                          orientation='h',\n",
    "                          marker=dict(color='#DDDD55',\n",
    "                                     line=dict(\n",
    "                                     color='rgba(0,0,0,1.0)', width=0.5)),\n",
    "                          hoverinfo='none'\n",
    "                         ),\n",
    "        graph_objects.Bar(showlegend=False,\n",
    "                          y=genres,\n",
    "                          x = genre_neutrals_negative,\n",
    "                          orientation='h',\n",
    "                          marker=dict(color='#DDDD55',\n",
    "                                     line=dict(\n",
    "                                     color='rgba(0,0,0,1.0)', width=0.5)),\n",
    "                          hoverinfo='none'\n",
    "                         ),\n",
    "        graph_objects.Bar(name='Positive',\n",
    "                          y=genres,\n",
    "                          x = genre_positives,\n",
    "                          orientation='h',\n",
    "                          marker=dict(color='#DD5555',\n",
    "                                     line=dict(\n",
    "                                     color='rgba(0,0,0,1.0)', width=0.5)),\n",
    "                          hoverinfo='none'\n",
    "                         ),\n",
    "        graph_objects.Bar(name='Negative',\n",
    "                  y=genres,\n",
    "                  x = genre_negatives,\n",
    "                  orientation='h',\n",
    "                  marker=dict(color='#5555DD',\n",
    "                             line=dict(\n",
    "                             color='rgba(0,0,0,1.0)', width=0.5)),\n",
    "                  hoverinfo='none'\n",
    "                 ),\n",
    "        \n",
    "    ],\n",
    ")"
   ]
  },
  {
   "cell_type": "code",
   "execution_count": null,
   "id": "5f30225b-51b8-4598-83f8-c6757643d887",
   "metadata": {},
   "outputs": [],
   "source": [
    "genre_spine_fig.update_layout(barmode='relative')"
   ]
  }
 ],
 "metadata": {
  "kernelspec": {
   "display_name": "data_venv",
   "language": "python",
   "name": "data_venv"
  },
  "language_info": {
   "codemirror_mode": {
    "name": "ipython",
    "version": 3
   },
   "file_extension": ".py",
   "mimetype": "text/x-python",
   "name": "python",
   "nbconvert_exporter": "python",
   "pygments_lexer": "ipython3",
   "version": "3.10.9"
  }
 },
 "nbformat": 4,
 "nbformat_minor": 5
}
