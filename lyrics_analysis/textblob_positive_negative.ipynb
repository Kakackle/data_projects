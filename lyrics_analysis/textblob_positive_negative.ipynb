{
 "cells": [
  {
   "cell_type": "code",
   "execution_count": 1,
   "id": "b0ac31b4-8435-4aea-92a2-5d0110ace232",
   "metadata": {},
   "outputs": [],
   "source": [
    "from textblob import TextBlob"
   ]
  },
  {
   "cell_type": "code",
   "execution_count": 2,
   "id": "da1c8784-2544-4933-900f-44951745bd4e",
   "metadata": {},
   "outputs": [],
   "source": [
    "import pandas as pd"
   ]
  },
  {
   "cell_type": "code",
   "execution_count": 3,
   "id": "337c9130-689f-4312-8d16-2c121d5dc8ae",
   "metadata": {},
   "outputs": [],
   "source": [
    "df_path = 'dataframes/with_counts/combined_count.csv'"
   ]
  },
  {
   "cell_type": "code",
   "execution_count": 4,
   "id": "1a7387a8-7aca-4321-a4bb-1a5540679db3",
   "metadata": {},
   "outputs": [],
   "source": [
    "df = pd.read_csv(df_path, index_col = 0)"
   ]
  },
  {
   "cell_type": "code",
   "execution_count": 5,
   "id": "3d28a5b1-525a-4763-817c-d172283ec05c",
   "metadata": {},
   "outputs": [],
   "source": [
    "sample_lyrics = df.sample(5)['Song Lyrics'].str.lower()"
   ]
  },
  {
   "cell_type": "code",
   "execution_count": 6,
   "id": "04b868bb-ee5a-4f08-b134-9a06699cddca",
   "metadata": {
    "scrolled": true
   },
   "outputs": [
    {
     "name": "stdout",
     "output_type": "stream",
     "text": [
      "song:\n",
      " babe baby baby im gonna leave you i said baby you know im gonna leave you ill leave you when the summertime leave you when the summer comes arollin leave you when the summer comes along babe babe babe babe babe babe baby baby i wanna leave you i aint joking woman ive got to ramble oh yeah baby baby i believin we really got to ramble i can hear it callin me i can hear it callin me the way it used to do i can hear it callin me back home oh babe im gonna leave you oh baby you know ive really got to leave you oh i can hear it callin me i said dont you hear it callin me the way it used to do ooohh  i know i know i know i never never never never never gonna leave you babe but i got to go away from this place ive got to quit you yeah oh baby baby baby baby baby baby baby oh dont you hear it callin me woman woman i know i know it feels good to have you back again and i know that one day baby its gonna really grow yes it is we gonna go walkin through the park every day come what may every day oh my my my my my my babe im gonna leave you go away you might also like oh i miss you baby it was really really good you made me happy every single day but now ive got to go away ooh oh oh  baby baby baby thats when its callin me i said thats when its callin me back home\n",
      "===================================\n",
      "sentiment:\n",
      "0.20259740259740255\n",
      "positivity:  Positive\n",
      "===================================\n",
      "===================================\n",
      "song:\n",
      " hey hey haha say what say what haha hahaha bust it yo sometimes i feel like i dont have a partner sometimes i feel like my only friend is the city i live in this beautiful brooklyn long as i live here believe im on fire hey  cause its the bthertheotheok lyn is the place where i stay the btothertheotheok best in the world and all usa its the btothertheotheok lyn is the place where i stay the btothertheotheok place where i rest is on my born day  bust it sometimes i sit back and just reflect watch the world go by and my thought connect i think about the time past and the time to come reminisce on bedstuy when i was spry and young i used to try and come to the neighborhood function throw on my izod say a little somethin when i was just a youngin before the days of thuggin how me and charlie chims and yo what im only buggin fast forward — 9 now i gotta team my seed i must proceed at gods speed to perform my deed livin the now space and time round the ninetofive for as long as im alive pah i gotta strive i aint sittin roadside that aint part of the plan im out here for my fam doin all that i can i love my city sweet and gritty inland to outskirts nickname bucktown cause we prone to outburst philosophy redefine us touch mine i touch back walk the streets like ya sweet and get beat like drum tracks catch no shakes over jakes woopwoop we bust back bring the marty to your face with no place to run back im from the slums that created the bass that thump back this aint a game clown play ya james brown and jump back what you want jack young cats stash they jums at draw they guns back momma screams where she sons at tryin to hunt that recurrin dream of high stakes the fourth largest first hardest brooklyn is the place settled by the dutch many years ago three million strong and here we go you might also like good morning vietnam we live in brooklyn baby wake up wake up we live in brooklyn baby wake up wake up  yo sometimes i sit back reflect on the place that i live at unlike any place i ever been at the home of big gats deepdish hammer rim caps have a mishap push your wig back where you go to get the fresh trim at fulton and jay got the timb rack blue collars metro cardin it thugs mobbin it form partnership increase armament street pharmacists — deep consequence when you seek sleek ornaments you get caught rode the white horse and cant get off big dogs that trick off just get sent off they shoebox stash is all they seeds gotta live off its real yo but still yo its love here and its felt by anybody that come here outtatowners take the train plane and bus here must be somethin that they really want here one year as a resident deeper sentiment they shout out \"go brooklyn\" — they representin it sittin on they front stoop sippin guinnesss usin native dialect in they sentences from the treeline blocks to the tenements to the mom and pop local shop businesses we travel all around the world in great distances and aint a place that i know that bear resemblance thats why we call it the planet not a borough or a province our style is uncommon from sumner to tompkins to lafayette gardens wyckoff gowanus in they army jacket linings yo this goes out to my cats in coney isle friday night out in front the himalaya goin wild this goes out to crown heights and smurv village the 90s and all my yarda trini brownsvillers parkside tennis courts 30s 40s and the 50s the cats out in starrett city gettin busy to the hook to the east to the stuy bushwick and canarsie farragut fort greene and marcy my flatbush posse generals and armies when its time to form just call me and let this song be playin loud and long b if you love bucktown strongly raze it up brooklyn — my habitat the place where it happen at lives sway in the sharp balance of the battle axe irons is brandished at thugs draw they hammer back its where you find the news two crew cameras at its where my fam is at the summertime jam is at they play big and get you open like a sandal back hotter than candle wax hustlin you cant relax the crack babies tryin to find where they mamas at its off the handle black with big police scandals that turn into action screenplays sold to miramax the type of place where they check your appearance at and cats who know where all the hot lo gear is at the stompin grounds where you find the pound smokers that be blazin john that have your wave cap floatin back the doorstep where the dispossessed posted at dope fiends out on franklin ave sellin zovirax you big ballin better keep your money folded back cause once the young guns notice that its over black \"brooklyn keep on takin it\" — worldwide we known for that flossy cats get it snatched like the local tax the place i sharpen up my baritone vocals at where one of the greatest mcs was a local cat\n",
      "===================================\n",
      "sentiment:\n",
      "0.13873768939393943\n",
      "positivity:  Positive\n",
      "===================================\n",
      "===================================\n",
      "song:\n",
      " good morn or evening friends heres your friendly announcer i have serious news to pass on to everybody what im about to say could mean the worlds disaster could change your joy and laughter to tears and pain  its that loves in need of love today dont delay send yours in right away hates goin round breaking many hearts stop it please before its gone too far  the force of evil plans to make you its possession and it will if we let it destroy everybody we all must take precautionary measures if love and peace you treasure then youll hear me when i say woahoh  that loves in need of love today dont delay send yours in right away hates goin round breaking many hearts stop it please before its gone too far people you know that loves in need of love today dont delay send yours in right away hey you know that hates hates goin round breaking many hearts stop stop it please before its gone too far its up to you cause loves in need of love today dont delay send yours in right away you know that hates hates goin round breaking hates tried to break my heart many times dont youve got to stop it please before before before loves in need of love today dont delay send yours in right away you know that hates goin round hates goin round hates goin around and it tried breaking up many hearts youve got to ive got to theyve got to weve got to theyve got to weve got to stop it before its gone too far loves loves in need of love did you ever think that love would be in need of love today dont delay send yours in right away oohoh hey bring it down a little love is very peaceful so bring it down a little yeah yeah yeah yeah yeah yeah yeah you might also like the world is not love love love love just give the world love\n",
      "===================================\n",
      "sentiment:\n",
      "0.2048404431216931\n",
      "positivity:  Positive\n",
      "===================================\n",
      "===================================\n",
      "song:\n",
      " rolling along rolling along rolling along mmm old man river that old man river he dont say nothing but he must know something for old man river he just keeps rolling along  mmm he dont plant taters he dont plant cotton and them that buy some theyre soon forgotten while old man river he just keeps rolling along  mmm you and me we sweat and strain body all aching and racked with pain tote that barge and lift that bale get a little drunk and you land in jail  i get weary and sick of trying im tired of living but afraid of dying while old man river he just keeps rolling along rolling along rolling along rolling along  you and me we sweat and strain body all aching and racked with pain tote that barge lift that bale get a little drunk and you land in jail you might also like i get weary and sick of trying im tired of living but afraid of dying while old man river he just keeps rolling along rolling along rolling along rolling along\n",
      "===================================\n",
      "sentiment:\n",
      "-0.24464285714285713\n",
      "positivity:  Negative\n",
      "===================================\n",
      "===================================\n",
      "song:\n",
      " dont let this world mislead you dont you ever go astray trust in gods word and believe it cause itll never pass away we will see him in his glory riding on the clouds of joy greeting us with open arms and peace forevermore  i know that everything is gonna be alright hes coming back like he said he would yeah yeah its gonna be alright hes coming back for the true and good  now when the sky is darkened there will be no moonlight well know the time has finally come and hell change the wrong to right so if youre always searching trying to find the bottom line just give your love and life to god hell give you a peace of mind  i know that everything gonna be alright hes coming back like he said he would i said yeah yeah its gonna be alright hes coming back for the true and good play it everything is gonna be alright hes coming back just like he said he would yeah yeah its gonna be alright hes coming back for the true and good you might also like i wanna be ready i gotta be ready i wanna be ready gotta be ready for the peace love and happiness hes coming back like he said he would get ready for peace love and happiness hes coming back for the true and good  we know hes the beginning and we know that he is the end theres no one better if you really need a friend so dont you ever worry cause he gave the guarantee that hell return to take us home and fulfill the prophecy  i know that everything is gonna be alright hes coming back like he said he would get ready for peace love and happiness i know hes coming back just like he said he would peace and love and happiness i know hes coming back for the true and good everything gonna be alright hes coming back like he said he would yeah yeah its gonna be alright hes coming back for the true and good\n",
      "===================================\n",
      "sentiment:\n",
      "0.29969604863221877\n",
      "positivity:  Positive\n",
      "===================================\n",
      "===================================\n"
     ]
    }
   ],
   "source": [
    "for song in sample_lyrics:\n",
    "    blob = TextBlob(song)\n",
    "    sentiment = blob.sentiment.polarity\n",
    "    print('song:')\n",
    "    print(song)\n",
    "    print('===================================')\n",
    "    print('sentiment:')\n",
    "    print(sentiment)\n",
    "    if sentiment > 0:\n",
    "        positivity = 'Positive'\n",
    "    if sentiment == 0:\n",
    "        positivity = 'Neutral'\n",
    "    if sentiment < 0:\n",
    "        positivity = 'Negative'\n",
    "    print('positivity: ', positivity)\n",
    "    \n",
    "    print('===================================')\n",
    "    print('===================================')"
   ]
  },
  {
   "cell_type": "code",
   "execution_count": 7,
   "id": "bc5b4612-9a75-4a22-a2c5-8e83efa9313d",
   "metadata": {},
   "outputs": [],
   "source": [
    "def assign_sentiment(row):\n",
    "    lyrics = row['Song Lyrics']\n",
    "    blob = TextBlob(song)\n",
    "    sentiment = blob.sentiment.polarity\n",
    "    if sentiment > 0:\n",
    "        positivity = 'Positive'\n",
    "    if sentiment == 0:\n",
    "        positivity = 'Neutral'\n",
    "    if sentiment < 0:\n",
    "        positivity = 'Negative'\n",
    "    return positivity"
   ]
  },
  {
   "cell_type": "code",
   "execution_count": 8,
   "id": "c0a614a8-257b-455a-9d94-6ea7d288231c",
   "metadata": {},
   "outputs": [],
   "source": [
    "def apply_sentiment(df):\n",
    "    df['sentiment'] = df.apply(\n",
    "        lambda row: assign_sentiment(row),\n",
    "        axis = 1\n",
    "    )\n",
    "    return df"
   ]
  },
  {
   "cell_type": "code",
   "execution_count": 9,
   "id": "52e5987c-6714-4438-aa3f-4598262f3b54",
   "metadata": {},
   "outputs": [],
   "source": [
    "df = apply_sentiment(df)"
   ]
  },
  {
   "cell_type": "code",
   "execution_count": 10,
   "id": "2e6f7172-1889-4845-8d42-b1eeac1a18c7",
   "metadata": {},
   "outputs": [
    {
     "data": {
      "text/html": [
       "<div>\n",
       "<style scoped>\n",
       "    .dataframe tbody tr th:only-of-type {\n",
       "        vertical-align: middle;\n",
       "    }\n",
       "\n",
       "    .dataframe tbody tr th {\n",
       "        vertical-align: top;\n",
       "    }\n",
       "\n",
       "    .dataframe thead th {\n",
       "        text-align: right;\n",
       "    }\n",
       "</style>\n",
       "<table border=\"1\" class=\"dataframe\">\n",
       "  <thead>\n",
       "    <tr style=\"text-align: right;\">\n",
       "      <th></th>\n",
       "      <th>Song Title</th>\n",
       "      <th>sentiment</th>\n",
       "    </tr>\n",
       "  </thead>\n",
       "  <tbody>\n",
       "    <tr>\n",
       "      <th>417</th>\n",
       "      <td>Solitude</td>\n",
       "      <td>Positive</td>\n",
       "    </tr>\n",
       "    <tr>\n",
       "      <th>129</th>\n",
       "      <td>Into the Groove</td>\n",
       "      <td>Positive</td>\n",
       "    </tr>\n",
       "    <tr>\n",
       "      <th>335</th>\n",
       "      <td>LOYALTY.</td>\n",
       "      <td>Positive</td>\n",
       "    </tr>\n",
       "    <tr>\n",
       "      <th>491</th>\n",
       "      <td>Babe I’m Gonna Leave You</td>\n",
       "      <td>Positive</td>\n",
       "    </tr>\n",
       "    <tr>\n",
       "      <th>719</th>\n",
       "      <td>Close Your Eyes and Remember</td>\n",
       "      <td>Positive</td>\n",
       "    </tr>\n",
       "  </tbody>\n",
       "</table>\n",
       "</div>"
      ],
      "text/plain": [
       "                       Song Title sentiment\n",
       "417                      Solitude  Positive\n",
       "129               Into the Groove  Positive\n",
       "335                      LOYALTY.  Positive\n",
       "491      Babe I’m Gonna Leave You  Positive\n",
       "719  Close Your Eyes and Remember  Positive"
      ]
     },
     "execution_count": 10,
     "metadata": {},
     "output_type": "execute_result"
    }
   ],
   "source": [
    "df.sample(5)[['Song Title', 'sentiment']]"
   ]
  },
  {
   "cell_type": "code",
   "execution_count": 11,
   "id": "03b0233f-4fa5-4277-86e8-6de8ce43971f",
   "metadata": {},
   "outputs": [],
   "source": [
    "df.to_csv('dataframes/with_counts/combined_count.csv')"
   ]
  }
 ],
 "metadata": {
  "kernelspec": {
   "display_name": "data_venv",
   "language": "python",
   "name": "data_venv"
  },
  "language_info": {
   "codemirror_mode": {
    "name": "ipython",
    "version": 3
   },
   "file_extension": ".py",
   "mimetype": "text/x-python",
   "name": "python",
   "nbconvert_exporter": "python",
   "pygments_lexer": "ipython3",
   "version": "3.10.9"
  }
 },
 "nbformat": 4,
 "nbformat_minor": 5
}
