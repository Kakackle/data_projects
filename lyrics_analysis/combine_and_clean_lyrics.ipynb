{
 "cells": [
  {
   "cell_type": "code",
   "execution_count": 1,
   "id": "3539f4e3-2d09-4155-930e-bc05e8173b0b",
   "metadata": {},
   "outputs": [],
   "source": [
    "import json\n",
    "import re\n",
    "import os"
   ]
  },
  {
   "cell_type": "markdown",
   "id": "df07b14c-9849-4910-b607-ef36586e4edb",
   "metadata": {},
   "source": [
    "### Find saved lyrics files"
   ]
  },
  {
   "cell_type": "code",
   "execution_count": 2,
   "id": "33b3aa2c-a1e7-4782-84df-24cdfee6c16c",
   "metadata": {},
   "outputs": [],
   "source": [
    "artist_regex = re.compile(r'Lyrics_(\\w*)\\.json')"
   ]
  },
  {
   "cell_type": "code",
   "execution_count": 3,
   "id": "c2786a7e-9f5d-4b3d-8273-f4caa625e726",
   "metadata": {},
   "outputs": [],
   "source": [
    "lyrics_path = 'lyrics'"
   ]
  },
  {
   "cell_type": "code",
   "execution_count": 3,
   "id": "6bc5e6cd-fe4a-4445-a848-a2f44a8bd8e5",
   "metadata": {},
   "outputs": [],
   "source": [
    "def merge_json_files(filenames: list, newfilename: str):\n",
    "    \"\"\"\n",
    "    Parameters:\n",
    "    -----------\n",
    "    filenames: list of str\n",
    "        list of sub file names with artist lyrics\n",
    "    newfilename: str\n",
    "        name of new combined json file\n",
    "    \"\"\"\n",
    "    result = list()\n",
    "    for fname in filenames:\n",
    "        with open(fname, 'r') as subfile:\n",
    "            result.append(json.load(subfile))\n",
    "            \n",
    "    with open(f'{newfilename}.json', 'w') as output_file:\n",
    "        json.dump(result, output_file)"
   ]
  },
  {
   "cell_type": "code",
   "execution_count": 10,
   "id": "0387cf5d-b3da-460d-9088-4620f7e3903a",
   "metadata": {},
   "outputs": [],
   "source": [
    "filenames = []\n",
    "\n",
    "for lyrics_file in os.listdir(lyrics_path):\n",
    "    if lyrics_file == '.ipynb_checkpoints':\n",
    "        continue\n",
    "    filenames.append(f'lyrics/{lyrics_file}')"
   ]
  },
  {
   "cell_type": "code",
   "execution_count": 11,
   "id": "dc4e6ad0-354b-4618-89a1-becf3a7e6f74",
   "metadata": {},
   "outputs": [
    {
     "data": {
      "text/plain": [
       "['lyrics/Lyrics_2Pac.json',\n",
       " 'lyrics/Lyrics_Eminem.json',\n",
       " 'lyrics/Lyrics_IceCube.json',\n",
       " 'lyrics/Lyrics_JAYZ.json',\n",
       " 'lyrics/Lyrics_KanyeWest.json',\n",
       " 'lyrics/Lyrics_KendrickLamar.json',\n",
       " 'lyrics/Lyrics_MFDOOM.json',\n",
       " 'lyrics/Lyrics_Nas.json']"
      ]
     },
     "execution_count": 11,
     "metadata": {},
     "output_type": "execute_result"
    }
   ],
   "source": [
    "filenames"
   ]
  },
  {
   "cell_type": "code",
   "execution_count": 12,
   "id": "feb7fe74-7dd9-4b11-9564-59208121e04e",
   "metadata": {},
   "outputs": [],
   "source": [
    "newfilename = 'rap_10_combined'"
   ]
  },
  {
   "cell_type": "code",
   "execution_count": 13,
   "id": "81ea43c6-1ec1-4149-b572-b93028d08a9c",
   "metadata": {},
   "outputs": [],
   "source": [
    "merge_json_files(filenames = filenames,\n",
    "                 newfilename = newfilename)"
   ]
  },
  {
   "cell_type": "markdown",
   "id": "3651e63c-628a-4a1e-9f68-a7b400bcdf5e",
   "metadata": {},
   "source": [
    "### Open combined file, create multi-artist dataframe"
   ]
  },
  {
   "cell_type": "code",
   "execution_count": 14,
   "id": "1a12ab47-e487-4106-897b-ef2ce3592843",
   "metadata": {},
   "outputs": [],
   "source": [
    "json_file = open(f'{newfilename}.json')\n",
    "artists_obj = json.load(json_file)\n",
    "json_file.close()"
   ]
  },
  {
   "cell_type": "code",
   "execution_count": 16,
   "id": "2c8c6f26-d12b-4b3f-8f52-602c94e5f011",
   "metadata": {},
   "outputs": [
    {
     "data": {
      "text/plain": [
       "'2Pac'"
      ]
     },
     "execution_count": 16,
     "metadata": {},
     "output_type": "execute_result"
    }
   ],
   "source": [
    "artists_obj[0]['name']"
   ]
  },
  {
   "cell_type": "code",
   "execution_count": 47,
   "id": "f8274684-d689-4fda-a613-f405438247fb",
   "metadata": {},
   "outputs": [],
   "source": [
    "import pandas as pd"
   ]
  },
  {
   "cell_type": "code",
   "execution_count": 56,
   "id": "825cd262-4fc7-443d-91ed-da2975d96087",
   "metadata": {},
   "outputs": [],
   "source": [
    "artists_df = pd.DataFrame(columns=['Artist', 'Song Title', 'Song Lyrics', 'Artist Image'])"
   ]
  },
  {
   "cell_type": "code",
   "execution_count": 57,
   "id": "0bc66484-2dba-4c8d-8b98-7ff4283dc318",
   "metadata": {},
   "outputs": [
    {
     "data": {
      "text/html": [
       "<div>\n",
       "<style scoped>\n",
       "    .dataframe tbody tr th:only-of-type {\n",
       "        vertical-align: middle;\n",
       "    }\n",
       "\n",
       "    .dataframe tbody tr th {\n",
       "        vertical-align: top;\n",
       "    }\n",
       "\n",
       "    .dataframe thead th {\n",
       "        text-align: right;\n",
       "    }\n",
       "</style>\n",
       "<table border=\"1\" class=\"dataframe\">\n",
       "  <thead>\n",
       "    <tr style=\"text-align: right;\">\n",
       "      <th></th>\n",
       "      <th>Artist</th>\n",
       "      <th>Song Title</th>\n",
       "      <th>Song Lyrics</th>\n",
       "      <th>Artist Image</th>\n",
       "    </tr>\n",
       "  </thead>\n",
       "  <tbody>\n",
       "  </tbody>\n",
       "</table>\n",
       "</div>"
      ],
      "text/plain": [
       "Empty DataFrame\n",
       "Columns: [Artist, Song Title, Song Lyrics, Artist Image]\n",
       "Index: []"
      ]
     },
     "execution_count": 57,
     "metadata": {},
     "output_type": "execute_result"
    }
   ],
   "source": [
    "artists_df"
   ]
  },
  {
   "cell_type": "code",
   "execution_count": 58,
   "id": "fdb6029b-b5af-4ecf-b7f7-c4805775f188",
   "metadata": {},
   "outputs": [],
   "source": [
    "for artist in artists_obj:\n",
    "    artist_name = artist['name']\n",
    "    for song in artist['songs']:\n",
    "        new_row = {\n",
    "            'Artist': artist_name,\n",
    "            'Song Title': song['title'],\n",
    "            'Song Lyrics': song['lyrics'],\n",
    "            'Artist Image': artist['image_url']\n",
    "        }\n",
    "        artists_df = pd.concat([artists_df, pd.DataFrame([new_row])], ignore_index=True)"
   ]
  },
  {
   "cell_type": "code",
   "execution_count": 59,
   "id": "275b493f-cd18-46a8-8b03-bd685945c386",
   "metadata": {
    "collapsed": true,
    "jupyter": {
     "outputs_hidden": true
    },
    "scrolled": true
   },
   "outputs": [
    {
     "data": {
      "text/html": [
       "<div>\n",
       "<style scoped>\n",
       "    .dataframe tbody tr th:only-of-type {\n",
       "        vertical-align: middle;\n",
       "    }\n",
       "\n",
       "    .dataframe tbody tr th {\n",
       "        vertical-align: top;\n",
       "    }\n",
       "\n",
       "    .dataframe thead th {\n",
       "        text-align: right;\n",
       "    }\n",
       "</style>\n",
       "<table border=\"1\" class=\"dataframe\">\n",
       "  <thead>\n",
       "    <tr style=\"text-align: right;\">\n",
       "      <th></th>\n",
       "      <th>Artist</th>\n",
       "      <th>Song Title</th>\n",
       "      <th>Song Lyrics</th>\n",
       "      <th>Artist Image</th>\n",
       "    </tr>\n",
       "  </thead>\n",
       "  <tbody>\n",
       "    <tr>\n",
       "      <th>0</th>\n",
       "      <td>2Pac</td>\n",
       "      <td>Hit ’Em Up</td>\n",
       "      <td>460 ContributorsTranslationsFrançaisAzərbaycan...</td>\n",
       "      <td>https://images.genius.com/46cb64bfbd6e4b6e247a...</td>\n",
       "    </tr>\n",
       "    <tr>\n",
       "      <th>1</th>\n",
       "      <td>2Pac</td>\n",
       "      <td>Changes</td>\n",
       "      <td>323 ContributorsTranslationsالعربيةChanges Lyr...</td>\n",
       "      <td>https://images.genius.com/46cb64bfbd6e4b6e247a...</td>\n",
       "    </tr>\n",
       "    <tr>\n",
       "      <th>2</th>\n",
       "      <td>2Pac</td>\n",
       "      <td>Keep Ya Head Up</td>\n",
       "      <td>257 ContributorsKeep Ya Head Up Lyrics\\nLittle...</td>\n",
       "      <td>https://images.genius.com/46cb64bfbd6e4b6e247a...</td>\n",
       "    </tr>\n",
       "    <tr>\n",
       "      <th>3</th>\n",
       "      <td>2Pac</td>\n",
       "      <td>Hail Mary</td>\n",
       "      <td>294 ContributorsTranslationsEnglishAzərbaycanc...</td>\n",
       "      <td>https://images.genius.com/46cb64bfbd6e4b6e247a...</td>\n",
       "    </tr>\n",
       "    <tr>\n",
       "      <th>4</th>\n",
       "      <td>2Pac</td>\n",
       "      <td>Dear Mama</td>\n",
       "      <td>217 ContributorsTranslationsPortuguêsDeutschEn...</td>\n",
       "      <td>https://images.genius.com/46cb64bfbd6e4b6e247a...</td>\n",
       "    </tr>\n",
       "  </tbody>\n",
       "</table>\n",
       "</div>"
      ],
      "text/plain": [
       "  Artist       Song Title                                        Song Lyrics  \\\n",
       "0   2Pac       Hit ’Em Up  460 ContributorsTranslationsFrançaisAzərbaycan...   \n",
       "1   2Pac          Changes  323 ContributorsTranslationsالعربيةChanges Lyr...   \n",
       "2   2Pac  Keep Ya Head Up  257 ContributorsKeep Ya Head Up Lyrics\\nLittle...   \n",
       "3   2Pac        Hail Mary  294 ContributorsTranslationsEnglishAzərbaycanc...   \n",
       "4   2Pac        Dear Mama  217 ContributorsTranslationsPortuguêsDeutschEn...   \n",
       "\n",
       "                                        Artist Image  \n",
       "0  https://images.genius.com/46cb64bfbd6e4b6e247a...  \n",
       "1  https://images.genius.com/46cb64bfbd6e4b6e247a...  \n",
       "2  https://images.genius.com/46cb64bfbd6e4b6e247a...  \n",
       "3  https://images.genius.com/46cb64bfbd6e4b6e247a...  \n",
       "4  https://images.genius.com/46cb64bfbd6e4b6e247a...  "
      ]
     },
     "execution_count": 59,
     "metadata": {},
     "output_type": "execute_result"
    }
   ],
   "source": [
    "artists_df.head()"
   ]
  },
  {
   "cell_type": "markdown",
   "id": "329cdd33-374d-447f-91f5-95834d5d53b4",
   "metadata": {},
   "source": [
    "#### Cleanup genius metadata"
   ]
  },
  {
   "cell_type": "code",
   "execution_count": 52,
   "id": "b4f0a885-4be1-423a-8464-dbc8498bc6e0",
   "metadata": {},
   "outputs": [],
   "source": [
    "genius_regex_text = r'(\\d*.*)ContributorsTranslations(.*)Lyrics\\n((.|\\n|\\r)*)\\n*(\\d*Embed)'\n",
    "genius_regex = re.compile(genius_regex_text)"
   ]
  },
  {
   "cell_type": "code",
   "execution_count": 34,
   "id": "981a4b0a-4d77-4bd9-95b4-c0dd1872ae15",
   "metadata": {},
   "outputs": [],
   "source": [
    "# artists_df['Song Lyrics'] = artists_df['Song Lyrics'].str.lower()"
   ]
  },
  {
   "cell_type": "code",
   "execution_count": 60,
   "id": "a2a23d4b-653f-4f54-abf7-93d89ea3dbee",
   "metadata": {},
   "outputs": [],
   "source": [
    "artists_df['Song Lyrics'].replace({genius_regex_text : r'\\3'}, inplace=True, regex=True)"
   ]
  },
  {
   "cell_type": "code",
   "execution_count": 61,
   "id": "0ae71872-9e7e-4cc8-bc86-2d6bd3797e88",
   "metadata": {
    "collapsed": true,
    "jupyter": {
     "outputs_hidden": true
    },
    "scrolled": true
   },
   "outputs": [
    {
     "data": {
      "text/html": [
       "<div>\n",
       "<style scoped>\n",
       "    .dataframe tbody tr th:only-of-type {\n",
       "        vertical-align: middle;\n",
       "    }\n",
       "\n",
       "    .dataframe tbody tr th {\n",
       "        vertical-align: top;\n",
       "    }\n",
       "\n",
       "    .dataframe thead th {\n",
       "        text-align: right;\n",
       "    }\n",
       "</style>\n",
       "<table border=\"1\" class=\"dataframe\">\n",
       "  <thead>\n",
       "    <tr style=\"text-align: right;\">\n",
       "      <th></th>\n",
       "      <th>Artist</th>\n",
       "      <th>Song Title</th>\n",
       "      <th>Song Lyrics</th>\n",
       "      <th>Artist Image</th>\n",
       "    </tr>\n",
       "  </thead>\n",
       "  <tbody>\n",
       "    <tr>\n",
       "      <th>0</th>\n",
       "      <td>2Pac</td>\n",
       "      <td>Hit ’Em Up</td>\n",
       "      <td>(Sucka-ass)\\nI ain't got no mothafuckin' frien...</td>\n",
       "      <td>https://images.genius.com/46cb64bfbd6e4b6e247a...</td>\n",
       "    </tr>\n",
       "    <tr>\n",
       "      <th>1</th>\n",
       "      <td>2Pac</td>\n",
       "      <td>Changes</td>\n",
       "      <td>Ooh, yeah (Ooh)\\n(Come on, come on)\\n\\nI see n...</td>\n",
       "      <td>https://images.genius.com/46cb64bfbd6e4b6e247a...</td>\n",
       "    </tr>\n",
       "    <tr>\n",
       "      <th>2</th>\n",
       "      <td>2Pac</td>\n",
       "      <td>Keep Ya Head Up</td>\n",
       "      <td>257 ContributorsKeep Ya Head Up Lyrics\\nLittle...</td>\n",
       "      <td>https://images.genius.com/46cb64bfbd6e4b6e247a...</td>\n",
       "    </tr>\n",
       "    <tr>\n",
       "      <th>3</th>\n",
       "      <td>2Pac</td>\n",
       "      <td>Hail Mary</td>\n",
       "      <td>\\nMakaveli in this, Killuminati\\nAll through y...</td>\n",
       "      <td>https://images.genius.com/46cb64bfbd6e4b6e247a...</td>\n",
       "    </tr>\n",
       "    <tr>\n",
       "      <th>4</th>\n",
       "      <td>2Pac</td>\n",
       "      <td>Dear Mama</td>\n",
       "      <td>You are appreciated\\n\\nWhen I was young, me an...</td>\n",
       "      <td>https://images.genius.com/46cb64bfbd6e4b6e247a...</td>\n",
       "    </tr>\n",
       "  </tbody>\n",
       "</table>\n",
       "</div>"
      ],
      "text/plain": [
       "  Artist       Song Title                                        Song Lyrics  \\\n",
       "0   2Pac       Hit ’Em Up  (Sucka-ass)\\nI ain't got no mothafuckin' frien...   \n",
       "1   2Pac          Changes  Ooh, yeah (Ooh)\\n(Come on, come on)\\n\\nI see n...   \n",
       "2   2Pac  Keep Ya Head Up  257 ContributorsKeep Ya Head Up Lyrics\\nLittle...   \n",
       "3   2Pac        Hail Mary  \\nMakaveli in this, Killuminati\\nAll through y...   \n",
       "4   2Pac        Dear Mama  You are appreciated\\n\\nWhen I was young, me an...   \n",
       "\n",
       "                                        Artist Image  \n",
       "0  https://images.genius.com/46cb64bfbd6e4b6e247a...  \n",
       "1  https://images.genius.com/46cb64bfbd6e4b6e247a...  \n",
       "2  https://images.genius.com/46cb64bfbd6e4b6e247a...  \n",
       "3  https://images.genius.com/46cb64bfbd6e4b6e247a...  \n",
       "4  https://images.genius.com/46cb64bfbd6e4b6e247a...  "
      ]
     },
     "execution_count": 61,
     "metadata": {},
     "output_type": "execute_result"
    }
   ],
   "source": [
    "artists_df.head()"
   ]
  },
  {
   "cell_type": "code",
   "execution_count": 62,
   "id": "29583761-4824-4bf5-b6dd-163b9a899a22",
   "metadata": {
    "collapsed": true,
    "jupyter": {
     "outputs_hidden": true
    },
    "scrolled": true
   },
   "outputs": [
    {
     "name": "stdout",
     "output_type": "stream",
     "text": [
      "(Sucka-ass)\n",
      "I ain't got no mothafuckin' friends\n",
      "That's why I fucked yo' bitch, you fat mothafucka!\n",
      "(Take money) Westside, Bad Boy killas\n",
      "(Take money) (You know) You know who the realest is\n",
      "(Take money) Niggas, we bring it too\n",
      "That's a'ight, haha\n",
      "(Take money) Haha\n",
      "First off, fuck yo' bitch and the clique you claim\n",
      "Westside when we ride, come equipped with game\n",
      "You claim to be a player, but I fucked your wife\n",
      "We bust on Bad Boys, niggas fucked for life\n",
      "Plus, Puffy tryna see me, weak hearts I rip\n",
      "Biggie Smalls and Junior M.A.F.I.A., some mark-ass bitches\n",
      "We keep on comin' while we runnin' for your jewels\n",
      "Steady gunnin', keep on bustin' at them fools, you know the rules\n",
      "Lil' Caesar, go ask your homie how I'll leave ya\n",
      "Cut your young-ass up, leave you in pieces, now be deceased\n",
      "Lil' Kim, don't fuck around with real G's\n",
      "Quick to snatch yo' ugly ass off the streets, so fuck peace!\n",
      "I'll let them niggas know it's on for life\n",
      "Don't let the Westside ride tonight (Hahaha)\n",
      "Bad Boy murdered on wax and killed\n",
      "Fuck with me and get yo' caps peeled, you know\n",
      "You might also like\n",
      "See, grab your Glocks when you see 2Pac\n",
      "Call the cops when you see 2Pac, uh\n",
      "Who shot me? But you punks didn't finish\n",
      "Now you 'bout to feel the wrath of a menace\n",
      "Nigga, I hit 'em up! (Yeah)\n",
      "\n",
      "Check this out (Take money)\n",
      "You motherfuckers know what time it is\n",
      "I don't even know why I'm on this track (Take money)\n",
      "Y'all niggas ain't even on my level\n",
      "I'ma let my lil' homies ride on you bitch-made ass (Take money)\n",
      "Bad Ay ay ayo hold the fuck up\n",
      "Boy bitches, feel it! (Take money)\n",
      "Get out the way yo, get out the way yo\n",
      "Biggie Smalls just got dropped\n",
      "Little Mu', pass the MAC and let me hit him in his back\n",
      "Frank White needs to get spanked right for settin' traps\n",
      "Little accident murderer, and I ain't never heard of ya\n",
      "Poisonous gats attack when I'm servin' ya\n",
      "Spank ya, shank ya whole style when I gank\n",
      "Guard your rank 'cause I'ma slam your ass in the paint\n",
      "Puffy weaker than the fuckin' block I'm runnin' through, nigga\n",
      "And I'm smokin' Junior M.A.F.I.A. in front of you, nigga\n",
      "With the ready power tucked in my Guess under my Eddie Bauer\n",
      "Your clout petty/sour, I push packages every hour; I hit 'em up!\n",
      "Grab your Glocks when you see 2Pac\n",
      "Call the cops when you see 2Pac, uh\n",
      "Who shot me? But you punks didn't finish\n",
      "Now you 'bout to feel the wrath of a menace\n",
      "Nigga, we hit 'em up!\n",
      "\n",
      "Peep how we do it, keep it real as penitentiary steel\n",
      "This ain't no freestyle battle\n",
      "All you niggas gettin' killed with your mouths open\n",
      "Tryna come up off of me, you in the clouds hopin'\n",
      "Smokin' dope, it's like a sherm high\n",
      "Niggas think they learned to fly\n",
      "But they burn, mothafucka, you deserve to die\n",
      "Talkin' about you gettin' money, but it's funny to me\n",
      "All you niggas livin' bummy while you fuckin' with me\n",
      "I'm a self-made millionaire\n",
      "Thug livin', out of prison, pistols in the air (Haha)\n",
      "Biggie, remember when I used to let you sleep on the couch\n",
      "And beg a bitch to let you sleep in the house?\n",
      "Now it's all about Versace, you copied my style\n",
      "Five shots couldn't drop me, I took it and smiled\n",
      "Now I'm back to set the record straight\n",
      "With my AK, I'm still the thug that you love to hate\n",
      "Mothafucka, I hit 'em up!\n",
      "I'm from N-E-W Jers' where plenty of murders occurs\n",
      "No points or commas, we bring the drama to all you herbs\n",
      "Now go check the scenario: Little Cease\n",
      "I'll bring you fake G's to your knees, coppin' pleas in de Janeiro\n",
      "Little Kim, is you coked up or doped up?\n",
      "Get your little Junior Whopper click smoked up\n",
      "What the fuck, is you stupid?\n",
      "I take money, crash and mash through Brooklyn\n",
      "With my click lootin', shootin' and pollutin' your block\n",
      "With a 15-shot cocked Glock to your knot\n",
      "Outlaw MAFIA clique movin' up another notch\n",
      "And your pop stars popped and get mopped and dropped\n",
      "All your fake-ass East Coast props brainstormed and locked\n",
      "\n",
      "You's a beat biter, a Pac style taker\n",
      "I'll tell you to your face, you ain't shit but a faker\n",
      "Softer than Alizé with a chaser\n",
      "'Bout to get murdered for the paper\n",
      "E.D.I. Mean approach the scene of the caper\n",
      "Like a loc, with Lil' Caesar in a choke\n",
      "Gun totin' smoke, we ain't no motherfuckin' joke\n",
      "Thug Life, niggas better be knowin'\n",
      "We approachin' in the wide open, gun smokin'\n",
      "No need for hopin', it's a battle lost\n",
      "I got 'em crossed as soon as the funk is boppin' off\n",
      "Nigga, I hit 'em up!\n",
      "\n",
      "Now you tell me who won\n",
      "I see them, they run, hahahaha\n",
      "They don't wanna see us (Take money)\n",
      "Whole Junior M.A.F.I.A. clique dressin' up tryna be us (Take money)\n",
      "How the fuck they gonna be the mob\n",
      "When we always on our job? (Take money)\n",
      "We millionaires\n",
      "Killin' ain't fair, but somebody gotta do it (Take money)\n",
      "Oh yeah, Mobb Deep, huh, you wanna fuck with us? (Take money)\n",
      "You little young-ass mothafuckas (Take money)\n",
      "Don't one of you niggas got sickle-cell or somethin'? (Take money)\n",
      "You're fuckin' with me, nigga\n",
      "You fuck around and have a seizure or a heart attack (Take money)\n",
      "You better back the fuck up\n",
      "Before you get smacked the fuck up\n",
      "This is how we do it on our side\n",
      "Any of you niggas from New York that wanna bring it, bring it!\n",
      "But we ain't singin', we bringin' drama\n",
      "Fuck you and yo' motherfuckin' mama!\n",
      "We gon' kill all you motherfuckers!\n",
      "Now, when I came out, I told you it was just about Biggie\n",
      "Then everybody had to open their mouth with a motherfuckin' opinion\n",
      "Well, this is how we gonna do this: Fuck Mobb Deep! Fuck Biggie!\n",
      "Fuck Bad Boy as a staff, record label, and as a motherfuckin' crew!\n",
      "And if you wanna be down with Bad Boy, then fuck you too!\n",
      "Chino XL, fuck you too!\n",
      "All you motherfuckers, fuck you too!\n",
      "(Take money, take money)\n",
      "All of y'all motherfuckers, fuck you, die slow!\n",
      "Motherfucker, my .44 make sho' all y'all kids don't grow!\n",
      "You motherfuckers can't be us or see us\n",
      "We motherfuckin' Thug Life ridas\n",
      "Westside 'til we die!\n",
      "Out here in California, nigga, we warned ya\n",
      "We'll bomb on you motherfuckers! We do our job!\n",
      "You think you mob? Nigga, we the motherfuckin' mob!\n",
      "Ain't nothin' but killas\n",
      "And the real niggas, all you motherfuckers feel us\n",
      "Our shit goes triple and 4-quadruple (Take money)\n",
      "You niggas laugh 'cause our staff got guns under they motherfuckas belts\n",
      "You know how it is: when we drop records, they felt\n",
      "You niggas can't feel it, we the realest\n",
      "Fuck 'em, we Bad Boy killas!463\n"
     ]
    }
   ],
   "source": [
    "test_lyrics = artists_df['Song Lyrics'][0]\n",
    "print(test_lyrics)"
   ]
  },
  {
   "cell_type": "markdown",
   "id": "a73a7a1e-a1d9-4837-a966-0e1534f732ed",
   "metadata": {},
   "source": [
    "#### Cleanup numbers, newlines and others"
   ]
  },
  {
   "cell_type": "code",
   "execution_count": 64,
   "id": "dbd74e13-caee-4c8f-80a2-044b6b006476",
   "metadata": {},
   "outputs": [],
   "source": [
    "artists_df['Song Lyrics'] = artists_df['Song Lyrics'].str.lower()"
   ]
  },
  {
   "cell_type": "code",
   "execution_count": 67,
   "id": "2b358849-c73f-4318-a31c-ff08f3a1e398",
   "metadata": {},
   "outputs": [],
   "source": [
    "artists_df['Song Lyrics'] = artists_df['Song Lyrics'].str.strip()"
   ]
  },
  {
   "cell_type": "code",
   "execution_count": 68,
   "id": "1dbfacca-1671-4fe9-b623-6a078a9615ef",
   "metadata": {},
   "outputs": [],
   "source": [
    "artists_df['Song Lyrics'] = artists_df['Song Lyrics'].str.replace('\\n', ' ')"
   ]
  },
  {
   "cell_type": "code",
   "execution_count": 74,
   "id": "0747232e-65be-4608-b0bc-8533a51720b9",
   "metadata": {},
   "outputs": [],
   "source": [
    "artists_df['Song Lyrics'] = artists_df['Song Lyrics'].str.replace('(', '')\n",
    "artists_df['Song Lyrics'] = artists_df['Song Lyrics'].str.replace(')', '')"
   ]
  },
  {
   "cell_type": "code",
   "execution_count": 75,
   "id": "03abd4ab-9283-4590-b02a-80b0c398cdf3",
   "metadata": {
    "collapsed": true,
    "jupyter": {
     "outputs_hidden": true
    },
    "scrolled": true
   },
   "outputs": [
    {
     "data": {
      "text/plain": [
       "\"sucka-ass i ain't got no mothafuckin' friends that's why i fucked yo' bitch, you fat mothafucka! take money westside, bad boy killas take money you know you know who the realest is take money niggas, we bring it too that's a'ight, haha take money haha first off, fuck yo' bitch and the clique you claim westside when we ride, come equipped with game you claim to be a player, but i fucked your wife we bust on bad boys, niggas fucked for life plus, puffy tryna see me, weak hearts i rip biggie smalls and junior m.a.f.i.a., some mark-ass bitches we keep on comin' while we runnin' for your jewels steady gunnin', keep on bustin' at them fools, you know the rules lil' caesar, go ask your homie how i'll leave ya cut your young-ass up, leave you in pieces, now be deceased lil' kim, don't fuck around with real g's quick to snatch yo' ugly ass off the streets, so fuck peace! i'll let them niggas know it's on for life don't let the westside ride tonight hahaha bad boy murdered on wax and killed fuck with me and get yo' caps peeled, you know you might also like see, grab your glocks when you see 2pac call the cops when you see 2pac, uh who shot me? but you punks didn't finish now you 'bout to feel the wrath of a menace nigga, i hit 'em up! yeah  check this out take money you motherfuckers know what time it is i don't even know why i'm on this track take money y'all niggas ain't even on my level i'ma let my lil' homies ride on you bitch-made ass take money bad ay ay ayo hold the fuck up boy bitches, feel it! take money get out the way yo, get out the way yo biggie smalls just got dropped little mu', pass the mac and let me hit him in his back frank white needs to get spanked right for settin' traps little accident murderer, and i ain't never heard of ya poisonous gats attack when i'm servin' ya spank ya, shank ya whole style when i gank guard your rank 'cause i'ma slam your ass in the paint puffy weaker than the fuckin' block i'm runnin' through, nigga and i'm smokin' junior m.a.f.i.a. in front of you, nigga with the ready power tucked in my guess under my eddie bauer your clout petty/sour, i push packages every hour; i hit 'em up! grab your glocks when you see 2pac call the cops when you see 2pac, uh who shot me? but you punks didn't finish now you 'bout to feel the wrath of a menace nigga, we hit 'em up!  peep how we do it, keep it real as penitentiary steel this ain't no freestyle battle all you niggas gettin' killed with your mouths open tryna come up off of me, you in the clouds hopin' smokin' dope, it's like a sherm high niggas think they learned to fly but they burn, mothafucka, you deserve to die talkin' about you gettin' money, but it's funny to me all you niggas livin' bummy while you fuckin' with me i'm a self-made millionaire thug livin', out of prison, pistols in the air haha biggie, remember when i used to let you sleep on the couch and beg a bitch to let you sleep in the house? now it's all about versace, you copied my style five shots couldn't drop me, i took it and smiled now i'm back to set the record straight with my ak, i'm still the thug that you love to hate mothafucka, i hit 'em up! i'm from n-e-w jers' where plenty of murders occurs no points or commas, we bring the drama to all you herbs now go check the scenario: little cease i'll bring you fake g's to your knees, coppin' pleas in de janeiro little kim, is you coked up or doped up? get your little junior whopper click smoked up what the fuck, is you stupid? i take money, crash and mash through brooklyn with my click lootin', shootin' and pollutin' your block with a 15-shot cocked glock to your knot outlaw mafia clique movin' up another notch and your pop stars popped and get mopped and dropped all your fake-ass east coast props brainstormed and locked  you's a beat biter, a pac style taker i'll tell you to your face, you ain't shit but a faker softer than alizé with a chaser 'bout to get murdered for the paper e.d.i. mean approach the scene of the caper like a loc, with lil' caesar in a choke gun totin' smoke, we ain't no motherfuckin' joke thug life, niggas better be knowin' we approachin' in the wide open, gun smokin' no need for hopin', it's a battle lost i got 'em crossed as soon as the funk is boppin' off nigga, i hit 'em up!  now you tell me who won i see them, they run, hahahaha they don't wanna see us take money whole junior m.a.f.i.a. clique dressin' up tryna be us take money how the fuck they gonna be the mob when we always on our job? take money we millionaires killin' ain't fair, but somebody gotta do it take money oh yeah, mobb deep, huh, you wanna fuck with us? take money you little young-ass mothafuckas take money don't one of you niggas got sickle-cell or somethin'? take money you're fuckin' with me, nigga you fuck around and have a seizure or a heart attack take money you better back the fuck up before you get smacked the fuck up this is how we do it on our side any of you niggas from new york that wanna bring it, bring it! but we ain't singin', we bringin' drama fuck you and yo' motherfuckin' mama! we gon' kill all you motherfuckers! now, when i came out, i told you it was just about biggie then everybody had to open their mouth with a motherfuckin' opinion well, this is how we gonna do this: fuck mobb deep! fuck biggie! fuck bad boy as a staff, record label, and as a motherfuckin' crew! and if you wanna be down with bad boy, then fuck you too! chino xl, fuck you too! all you motherfuckers, fuck you too! take money, take money all of y'all motherfuckers, fuck you, die slow! motherfucker, my .44 make sho' all y'all kids don't grow! you motherfuckers can't be us or see us we motherfuckin' thug life ridas westside 'til we die! out here in california, nigga, we warned ya we'll bomb on you motherfuckers! we do our job! you think you mob? nigga, we the motherfuckin' mob! ain't nothin' but killas and the real niggas, all you motherfuckers feel us our shit goes triple and 4-quadruple take money you niggas laugh 'cause our staff got guns under they motherfuckas belts you know how it is: when we drop records, they felt you niggas can't feel it, we the realest fuck 'em, we bad boy killas!463\""
      ]
     },
     "execution_count": 75,
     "metadata": {},
     "output_type": "execute_result"
    }
   ],
   "source": [
    "artists_df['Song Lyrics'][0]"
   ]
  },
  {
   "cell_type": "markdown",
   "id": "e93d4e66-03c5-452a-a91d-cf10aae07978",
   "metadata": {},
   "source": [
    "### Save df to file"
   ]
  },
  {
   "cell_type": "code",
   "execution_count": 76,
   "id": "5c775aad-45cc-424c-a5aa-c2a89d554cc2",
   "metadata": {},
   "outputs": [],
   "source": [
    "artists_df.to_csv('artists_10_cleaned.csv')"
   ]
  },
  {
   "cell_type": "code",
   "execution_count": 77,
   "id": "4116cb02-c396-42f9-b7b8-42f90b1e085a",
   "metadata": {},
   "outputs": [],
   "source": [
    "artists_df_loaded = pd.read_csv('artists_10_cleaned.csv', index_col=0)"
   ]
  },
  {
   "cell_type": "code",
   "execution_count": 78,
   "id": "b096caf8-7a89-4000-9e17-28fc6862e992",
   "metadata": {},
   "outputs": [
    {
     "data": {
      "text/html": [
       "<div>\n",
       "<style scoped>\n",
       "    .dataframe tbody tr th:only-of-type {\n",
       "        vertical-align: middle;\n",
       "    }\n",
       "\n",
       "    .dataframe tbody tr th {\n",
       "        vertical-align: top;\n",
       "    }\n",
       "\n",
       "    .dataframe thead th {\n",
       "        text-align: right;\n",
       "    }\n",
       "</style>\n",
       "<table border=\"1\" class=\"dataframe\">\n",
       "  <thead>\n",
       "    <tr style=\"text-align: right;\">\n",
       "      <th></th>\n",
       "      <th>Artist</th>\n",
       "      <th>Song Title</th>\n",
       "      <th>Song Lyrics</th>\n",
       "      <th>Artist Image</th>\n",
       "    </tr>\n",
       "  </thead>\n",
       "  <tbody>\n",
       "    <tr>\n",
       "      <th>155</th>\n",
       "      <td>Nas</td>\n",
       "      <td>Daughters</td>\n",
       "      <td>92 contributorsdaughters lyrics  check it out ...</td>\n",
       "      <td>https://images.genius.com/23061dd2dc7e863127db...</td>\n",
       "    </tr>\n",
       "    <tr>\n",
       "      <th>156</th>\n",
       "      <td>Nas</td>\n",
       "      <td>Cherry Wine</td>\n",
       "      <td>87 contributorscherry wine lyrics where is he,...</td>\n",
       "      <td>https://images.genius.com/23061dd2dc7e863127db...</td>\n",
       "    </tr>\n",
       "    <tr>\n",
       "      <th>157</th>\n",
       "      <td>Nas</td>\n",
       "      <td>Hate Me Now</td>\n",
       "      <td>117 contributorshate me now lyrics  escobar se...</td>\n",
       "      <td>https://images.genius.com/23061dd2dc7e863127db...</td>\n",
       "    </tr>\n",
       "    <tr>\n",
       "      <th>158</th>\n",
       "      <td>Nas</td>\n",
       "      <td>EPMD 2</td>\n",
       "      <td>respectfully  bucket on low like erick and par...</td>\n",
       "      <td>https://images.genius.com/23061dd2dc7e863127db...</td>\n",
       "    </tr>\n",
       "    <tr>\n",
       "      <th>159</th>\n",
       "      <td>Nas</td>\n",
       "      <td>The Don</td>\n",
       "      <td>95 contributorsthe don lyrics he's the heartbe...</td>\n",
       "      <td>https://images.genius.com/23061dd2dc7e863127db...</td>\n",
       "    </tr>\n",
       "  </tbody>\n",
       "</table>\n",
       "</div>"
      ],
      "text/plain": [
       "    Artist   Song Title                                        Song Lyrics  \\\n",
       "155    Nas    Daughters  92 contributorsdaughters lyrics  check it out ...   \n",
       "156    Nas  Cherry Wine  87 contributorscherry wine lyrics where is he,...   \n",
       "157    Nas  Hate Me Now  117 contributorshate me now lyrics  escobar se...   \n",
       "158    Nas       EPMD 2  respectfully  bucket on low like erick and par...   \n",
       "159    Nas      The Don  95 contributorsthe don lyrics he's the heartbe...   \n",
       "\n",
       "                                          Artist Image  \n",
       "155  https://images.genius.com/23061dd2dc7e863127db...  \n",
       "156  https://images.genius.com/23061dd2dc7e863127db...  \n",
       "157  https://images.genius.com/23061dd2dc7e863127db...  \n",
       "158  https://images.genius.com/23061dd2dc7e863127db...  \n",
       "159  https://images.genius.com/23061dd2dc7e863127db...  "
      ]
     },
     "execution_count": 78,
     "metadata": {},
     "output_type": "execute_result"
    }
   ],
   "source": [
    "artists_df_loaded.tail()"
   ]
  },
  {
   "cell_type": "markdown",
   "id": "411ff3ad-046f-42fc-acbd-6e080362a9ac",
   "metadata": {},
   "source": [
    "## Merge files genre by genre"
   ]
  },
  {
   "cell_type": "code",
   "execution_count": 4,
   "id": "e6367422-8670-430b-8b96-0bc3ae98576f",
   "metadata": {},
   "outputs": [],
   "source": [
    "artist_regex = re.compile(r'Lyrics_(\\w*)\\.json')\n",
    "\n",
    "lyrics_path = 'lyrics'"
   ]
  },
  {
   "cell_type": "code",
   "execution_count": null,
   "id": "40a6717d-9039-4ca6-ade7-366e78c90b8b",
   "metadata": {},
   "outputs": [],
   "source": [
    "# newfilename = 'rap_10_combined'"
   ]
  },
  {
   "cell_type": "markdown",
   "id": "0c53961b-509c-45c3-8b97-552c4451cb1c",
   "metadata": {},
   "source": [
    "get genre folder names"
   ]
  },
  {
   "cell_type": "code",
   "execution_count": 5,
   "id": "4680e4cd-c2f1-4b1a-a464-7beca5e3957e",
   "metadata": {},
   "outputs": [],
   "source": [
    "folder_name_regex = re.compile(r'.*/(.*)')"
   ]
  },
  {
   "cell_type": "code",
   "execution_count": 6,
   "id": "6483b075-4c2e-4fe1-af0c-0cf38cbdc5d0",
   "metadata": {},
   "outputs": [
    {
     "data": {
      "text/plain": [
       "'C:\\\\Users\\\\User\\\\Desktop\\\\programowanie_web_etc\\\\python_projects\\\\data_projects\\\\lyrics_analysis'"
      ]
     },
     "execution_count": 6,
     "metadata": {},
     "output_type": "execute_result"
    }
   ],
   "source": [
    "os.getcwd()"
   ]
  },
  {
   "cell_type": "code",
   "execution_count": 9,
   "id": "9f16003b-fde3-4776-be0e-ab6cb668c0a1",
   "metadata": {},
   "outputs": [],
   "source": [
    "folder_paths = []\n",
    "folder_names = []\n",
    "\n",
    "for lyrics_folder in os.listdir(lyrics_path):\n",
    "    if lyrics_folder == '.ipynb_checkpoints':\n",
    "        continue\n",
    "    folder_paths.append(f'{lyrics_path}/{lyrics_folder}')\n",
    "    folder_names.append(lyrics_folder)"
   ]
  },
  {
   "cell_type": "code",
   "execution_count": 11,
   "id": "a502e5b7-198b-4280-b5a8-fbf9389e4def",
   "metadata": {},
   "outputs": [
    {
     "data": {
      "text/plain": [
       "['pop', 'rap', 'rock', 'soul']"
      ]
     },
     "execution_count": 11,
     "metadata": {},
     "output_type": "execute_result"
    }
   ],
   "source": [
    "folder_names"
   ]
  },
  {
   "cell_type": "code",
   "execution_count": 15,
   "id": "55719e3a-11a9-4ee3-8941-f25e83c0fa5a",
   "metadata": {},
   "outputs": [],
   "source": [
    "for folder_index, folder in enumerate(folder_paths):\n",
    "    filenames = []\n",
    "    \n",
    "    for lyrics_file in os.listdir(folder):\n",
    "        if lyrics_file == '.ipynb_checkpoints':\n",
    "            continue\n",
    "        filenames.append(f'{folder}/{lyrics_file}')\n",
    "\n",
    "    file_len = len(filenames)\n",
    "    newfilename = f'{folder}/{folder_names[folder_index]}_combined_{file_len}'\n",
    "    \n",
    "    merge_json_files(filenames = filenames,\n",
    "                    newfilename = newfilename )"
   ]
  },
  {
   "cell_type": "code",
   "execution_count": 12,
   "id": "4f6f7922-44e7-4624-b649-0cb9a868ac31",
   "metadata": {},
   "outputs": [],
   "source": [
    "# test_folder_name = 'lyrics/rap'\n",
    "# folder_name_regex = re.compile(r'.*/(.*)')\n",
    "# folder_name_regex.findall(test_folder_name)[0]"
   ]
  },
  {
   "cell_type": "markdown",
   "id": "453ec359-7c7d-46f2-9a06-53a621eee6eb",
   "metadata": {},
   "source": [
    "### Function to create dataframes from genre folders"
   ]
  },
  {
   "cell_type": "code",
   "execution_count": 23,
   "id": "05a7fc8e-3170-41ce-ac08-657403b18b79",
   "metadata": {},
   "outputs": [],
   "source": [
    "import pandas as pd\n",
    "\n",
    "combined_path = 'lyrics/combined'\n",
    "\n",
    "# artists_df = pd.DataFrame(columns=['Artist', 'Song Title', 'Song Lyrics', 'Artist Image'])"
   ]
  },
  {
   "cell_type": "code",
   "execution_count": 27,
   "id": "679d5959-2292-4162-82a0-5d1a9982ae0d",
   "metadata": {},
   "outputs": [
    {
     "data": {
      "text/plain": [
       "'C:\\\\Users\\\\User\\\\Desktop\\\\programowanie_web_etc\\\\python_projects\\\\data_projects\\\\lyrics_analysis'"
      ]
     },
     "execution_count": 27,
     "metadata": {},
     "output_type": "execute_result"
    }
   ],
   "source": [
    "os.getcwd()"
   ]
  },
  {
   "cell_type": "code",
   "execution_count": 38,
   "id": "187df8d7-80dc-4a25-aee3-581fc33b1ad0",
   "metadata": {},
   "outputs": [],
   "source": [
    "def create_dataframes_from_combined(combined_path):\n",
    "    for genre in os.listdir(combined_path):\n",
    "        genre_path = f'{combined_path}/{genre}'\n",
    "        json_file = open(genre_path)\n",
    "        genre_obj = json.load(json_file)\n",
    "        json_file.close()\n",
    "\n",
    "        genre_df = pd.DataFrame(columns=['Artist', 'Song Title', 'Full Title',\n",
    "                                         'Release Date', 'Year', 'Month', 'Day',\n",
    "                                         'Pageviews', 'url', 'featured_count',\n",
    "                                         'producer_count', 'writer_count',\n",
    "                                         'Song Lyrics', 'Artist Image'])\n",
    "        \n",
    "        for artist in genre_obj:\n",
    "            artist_name = artist['name']\n",
    "            for song in artist['songs']:\n",
    "                release_date = song.get('release_date_components', None)\n",
    "                year = None\n",
    "                month = None\n",
    "                day = None\n",
    "                if release_date:\n",
    "                    year = release_date.get('year', None)\n",
    "                    month = release_date.get('month', None)\n",
    "                    day = release_date.get('day', None)\n",
    "                \n",
    "                stats = song['stats']\n",
    "                \n",
    "                if song.get('producer_artists'):\n",
    "                    producer_count = len(song.get('producer_artists'))\n",
    "                else:\n",
    "                    producer_count = 0\n",
    "\n",
    "                if song.get('writer_artists'):\n",
    "                    writer_count = len(song.get('writer_artists'))\n",
    "                else:\n",
    "                    writer_count = 0\n",
    "\n",
    "                if song.get('featured_artists'):\n",
    "                    featured_count = len(song.get('featured_artists'))\n",
    "                else:\n",
    "                    featured_count = 0\n",
    "                \n",
    "                new_row = {\n",
    "                    'Artist': artist_name,\n",
    "                    'Song Title': song['title'],\n",
    "                    'Full Title': song['full_title'],\n",
    "                    'Release Date': song['release_date'],\n",
    "                    'Year': year,\n",
    "                    'Month': month,\n",
    "                    'Day': day,\n",
    "                    'Pageviews': stats.get('pageviews', 0),\n",
    "                    'url': song['url'],\n",
    "                    'featured_count': featured_count,\n",
    "                    'producer_count': producer_count,\n",
    "                    'writer_count': writer_count,\n",
    "                    'Song Lyrics': song['lyrics'],\n",
    "                    'Artist Image': artist['image_url']\n",
    "                }\n",
    "                \n",
    "                genre_df = pd.concat([genre_df, pd.DataFrame([new_row])],\n",
    "                                    ignore_index=True)\n",
    "        genre_len = len(genre_obj)\n",
    "        genre_df.to_csv(f'{genre}_{genre_len}.csv')"
   ]
  },
  {
   "cell_type": "code",
   "execution_count": 39,
   "id": "2a71b5f3-f8d5-40c7-ba79-233289957eab",
   "metadata": {},
   "outputs": [],
   "source": [
    "create_dataframes_from_combined(combined_path)"
   ]
  },
  {
   "cell_type": "markdown",
   "id": "faef0bc4-c1e3-48eb-9540-9c7619ea7591",
   "metadata": {},
   "source": [
    "### Function to cleanup the saved dataframes"
   ]
  },
  {
   "cell_type": "code",
   "execution_count": 40,
   "id": "774b0059-d1f8-4f2b-93c2-0b05e14353dd",
   "metadata": {},
   "outputs": [],
   "source": [
    "genius_regex_text = r'(\\d*.*)ContributorsTranslations(.*)Lyrics\\n((.|\\n|\\r)*)\\n*(\\d*Embed)'\n",
    "genius_regex = re.compile(genius_regex_text)\n",
    "\n",
    "genius_regex_lowercase_text = r'(\\d*.*)contributorstranslations(.*)lyrics\\n((.|\\n|\\r)*)\\n*(\\d*embed)'\n",
    "genius_regex_lowercase = re.compile(genius_regex_lowercase_text)"
   ]
  },
  {
   "cell_type": "code",
   "execution_count": null,
   "id": "cde84ba9-f5f9-4c93-97dc-6d768b5b497e",
   "metadata": {},
   "outputs": [],
   "source": [
    "# artists_df['Song Lyrics'].replace({genius_regex_text : r'\\3'}, inplace=True, regex=True)"
   ]
  },
  {
   "cell_type": "code",
   "execution_count": 43,
   "id": "70d2b5f9-7c4f-48c9-a192-a0d48465a708",
   "metadata": {},
   "outputs": [],
   "source": [
    "def cleanup_genius_lyrics(df, genius_regex, remove_newlines=True,\n",
    "                         remove_question=True, remove_interp=True,\n",
    "                         remove_dollar=True):\n",
    "    df['Song Lyrics'] = df['Song Lyrics'].str.lower()\n",
    "\n",
    "    df['Song Lyrics'].replace({genius_regex : r'\\3'}, inplace=True, regex=True)\n",
    "    \n",
    "    df['Song Lyrics'] = df['Song Lyrics'].str.strip()\n",
    "\n",
    "    if remove_newlines:\n",
    "        df['Song Lyrics'] = df['Song Lyrics'].str.replace('\\n', ' ')\n",
    "    \n",
    "    df['Song Lyrics'] = df['Song Lyrics'].str.replace('(', '')\n",
    "    df['Song Lyrics'] = df['Song Lyrics'].str.replace(')', '')\n",
    "    df['Song Lyrics'] = df['Song Lyrics'].str.replace('-', '')\n",
    "\n",
    "    if remove_question:\n",
    "        df['Song Lyrics'] = df['Song Lyrics'].str.replace('?', '')\n",
    "    \n",
    "    if remove_dollar:\n",
    "        df['Song Lyrics'] = df['Song Lyrics'].str.replace('$', '')\n",
    "\n",
    "    if remove_interp:\n",
    "        df['Song Lyrics'] = df['Song Lyrics'].str.replace(',', '')\n",
    "        df['Song Lyrics'] = df['Song Lyrics'].str.replace('.', '')\n",
    "        df['Song Lyrics'] = df['Song Lyrics'].str.replace('!', '')\n",
    "        df['Song Lyrics'] = df['Song Lyrics'].str.replace(':', '')\n",
    "        df['Song Lyrics'] = df['Song Lyrics'].str.replace(';', '')\n",
    "    \n",
    "    return df"
   ]
  },
  {
   "cell_type": "code",
   "execution_count": 42,
   "id": "7387b01e-412b-4fd8-ba9a-52e1073ca3fa",
   "metadata": {},
   "outputs": [],
   "source": [
    "dataframes_path = 'dataframes'"
   ]
  },
  {
   "cell_type": "code",
   "execution_count": 45,
   "id": "c822a1fa-49b8-446c-b96d-790f561236de",
   "metadata": {},
   "outputs": [],
   "source": [
    "for frame in os.listdir(dataframes_path):\n",
    "    if frame == '.ipynb_checkpoints':\n",
    "        continue\n",
    "    frame_path = f'{dataframes_path}/{frame}'\n",
    "    dataframe = pd.read_csv(frame_path, index_col=0)\n",
    "    \n",
    "    df = cleanup_genius_lyrics(dataframe, genius_regex_lowercase_text)\n",
    "    df.to_csv(f'{dataframes_path}/cleaned_{frame}')"
   ]
  },
  {
   "cell_type": "code",
   "execution_count": null,
   "id": "5d585bc0-0414-4ff3-9307-c47769fadcda",
   "metadata": {},
   "outputs": [],
   "source": []
  }
 ],
 "metadata": {
  "kernelspec": {
   "display_name": "data_venv",
   "language": "python",
   "name": "data_venv"
  },
  "language_info": {
   "codemirror_mode": {
    "name": "ipython",
    "version": 3
   },
   "file_extension": ".py",
   "mimetype": "text/x-python",
   "name": "python",
   "nbconvert_exporter": "python",
   "pygments_lexer": "ipython3",
   "version": "3.10.9"
  }
 },
 "nbformat": 4,
 "nbformat_minor": 5
}
