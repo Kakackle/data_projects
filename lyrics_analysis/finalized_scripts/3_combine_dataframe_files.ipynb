{
 "cells": [
  {
   "cell_type": "markdown",
   "id": "0ab91e33-7f24-4aaf-99ad-66b297baf466",
   "metadata": {},
   "source": [
    "## Combine genre files\n",
    "#### This notebook:\n",
    "* combines found dataframe / csv files within the **dataframes_path** folder into one big dataframe for ease of analysis\n",
    "* "
   ]
  },
  {
   "cell_type": "code",
   "execution_count": 4,
   "id": "1641847e-bf74-4e04-85e3-e7ad95524d39",
   "metadata": {},
   "outputs": [],
   "source": [
    "import pandas as pd\n",
    "import os\n",
    "import re"
   ]
  },
  {
   "cell_type": "code",
   "execution_count": 2,
   "id": "c1aaa236-66ec-4e66-a270-ea0d6be32a09",
   "metadata": {},
   "outputs": [],
   "source": [
    "### Combine genre files to one combined one"
   ]
  },
  {
   "cell_type": "code",
   "execution_count": 2,
   "id": "53703623-bfc7-4948-8532-d42805daaa31",
   "metadata": {},
   "outputs": [],
   "source": [
    "# genres = ['pop', 'rock', 'rap', 'soul']"
   ]
  },
  {
   "cell_type": "code",
   "execution_count": 3,
   "id": "0ce5d86e-985f-4380-b2bc-339c3ad46997",
   "metadata": {},
   "outputs": [],
   "source": [
    "dataframes_path = '../decade_dataframes/decades'"
   ]
  },
  {
   "cell_type": "code",
   "execution_count": 13,
   "id": "40e63781-d79a-4eec-ab9c-5d76e2245b6e",
   "metadata": {},
   "outputs": [],
   "source": [
    "df_paths = []\n",
    "for file in os.listdir(dataframes_path):\n",
    "    # df_paths.append(os.path.join(dataframes_path, file))\n",
    "    if file == '.ipynb_checkpoints':\n",
    "        continue\n",
    "    df_paths.append(os.path.join(dataframes_path + '/' + file))"
   ]
  },
  {
   "cell_type": "code",
   "execution_count": 14,
   "id": "ea1cf355-8a91-4c75-adf1-fbf4cb9b9f21",
   "metadata": {},
   "outputs": [
    {
     "data": {
      "text/plain": [
       "['../decade_dataframes/decades/rap_1980s_combined_10.csv',\n",
       " '../decade_dataframes/decades/rap_1990s_combined_9.csv',\n",
       " '../decade_dataframes/decades/rap_2000s_combined_10.csv',\n",
       " '../decade_dataframes/decades/rap_2010s_combined_9.csv',\n",
       " '../decade_dataframes/decades/rap_2020s_combined_10.csv']"
      ]
     },
     "execution_count": 14,
     "metadata": {},
     "output_type": "execute_result"
    }
   ],
   "source": [
    "df_paths"
   ]
  },
  {
   "cell_type": "code",
   "execution_count": 17,
   "id": "643f85ba-6d71-4a29-806f-f7f55997c12c",
   "metadata": {},
   "outputs": [],
   "source": [
    "combined_df = pd.DataFrame() \n",
    "\n",
    "# dirty\n",
    "for path in df_paths:\n",
    "    # df_path = f'{dataframes_path}/{genre}_10.csv'\n",
    "    df = pd.read_csv(path, index_col=0)\n",
    "    combined_df = pd.concat([combined_df, df], ignore_index=True)\n",
    "    combined_df.to_csv(f'{dataframes_path}/combined.csv')"
   ]
  },
  {
   "cell_type": "markdown",
   "id": "d2d3f622-d3b6-4397-8d7f-8376a5110454",
   "metadata": {},
   "source": [
    "##### old separation for cleaned (transformed lyrics) and dirty files"
   ]
  },
  {
   "cell_type": "code",
   "execution_count": 8,
   "id": "546ad745-c854-4276-8911-2276416c69a2",
   "metadata": {},
   "outputs": [],
   "source": [
    "combined_df = pd.DataFrame()\n",
    "\n",
    "# clean\n",
    "for genre in genres:\n",
    "    df_path = f'{dataframes_path}/cleaned_{genre}_10.csv'\n",
    "    df = pd.read_csv(df_path, index_col=0)\n",
    "    combined_df = pd.concat([combined_df, df], ignore_index=True)\n",
    "    combined_df.to_csv(f'{dataframes_path}/cleaned_combined.csv')"
   ]
  },
  {
   "cell_type": "code",
   "execution_count": null,
   "id": "04f44367-30a8-4b45-a4f9-acaedd62f864",
   "metadata": {},
   "outputs": [],
   "source": []
  }
 ],
 "metadata": {
  "kernelspec": {
   "display_name": "data_venv",
   "language": "python",
   "name": "data_venv"
  },
  "language_info": {
   "codemirror_mode": {
    "name": "ipython",
    "version": 3
   },
   "file_extension": ".py",
   "mimetype": "text/x-python",
   "name": "python",
   "nbconvert_exporter": "python",
   "pygments_lexer": "ipython3",
   "version": "3.10.9"
  }
 },
 "nbformat": 4,
 "nbformat_minor": 5
}
