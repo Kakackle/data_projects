{
 "cells": [
  {
   "cell_type": "code",
   "execution_count": 1,
   "id": "1641847e-bf74-4e04-85e3-e7ad95524d39",
   "metadata": {},
   "outputs": [],
   "source": [
    "import pandas as pd"
   ]
  },
  {
   "cell_type": "code",
   "execution_count": 2,
   "id": "c1aaa236-66ec-4e66-a270-ea0d6be32a09",
   "metadata": {},
   "outputs": [],
   "source": [
    "### Combine genre files to one combined one"
   ]
  },
  {
   "cell_type": "code",
   "execution_count": 3,
   "id": "53703623-bfc7-4948-8532-d42805daaa31",
   "metadata": {},
   "outputs": [],
   "source": [
    "genres = ['pop', 'rock', 'rap', 'soul']"
   ]
  },
  {
   "cell_type": "code",
   "execution_count": 6,
   "id": "0ce5d86e-985f-4380-b2bc-339c3ad46997",
   "metadata": {},
   "outputs": [],
   "source": [
    "dataframes_path = '../dataframes/genres'"
   ]
  },
  {
   "cell_type": "code",
   "execution_count": 7,
   "id": "643f85ba-6d71-4a29-806f-f7f55997c12c",
   "metadata": {},
   "outputs": [],
   "source": [
    "combined_df = pd.DataFrame() \n",
    "\n",
    "# dirty\n",
    "for genre in genres:\n",
    "    df_path = f'{dataframes_path}/{genre}_10.csv'\n",
    "    df = pd.read_csv(df_path, index_col=0)\n",
    "    combined_df = pd.concat([combined_df, df], ignore_index=True)\n",
    "    combined_df.to_csv(f'{dataframes_path}/combined.csv')"
   ]
  },
  {
   "cell_type": "code",
   "execution_count": 8,
   "id": "546ad745-c854-4276-8911-2276416c69a2",
   "metadata": {},
   "outputs": [],
   "source": [
    "combined_df = pd.DataFrame()\n",
    "\n",
    "# clean\n",
    "for genre in genres:\n",
    "    df_path = f'{dataframes_path}/cleaned_{genre}_10.csv'\n",
    "    df = pd.read_csv(df_path, index_col=0)\n",
    "    combined_df = pd.concat([combined_df, df], ignore_index=True)\n",
    "    combined_df.to_csv(f'{dataframes_path}/cleaned_combined.csv')"
   ]
  }
 ],
 "metadata": {
  "kernelspec": {
   "display_name": "data_venv",
   "language": "python",
   "name": "data_venv"
  },
  "language_info": {
   "codemirror_mode": {
    "name": "ipython",
    "version": 3
   },
   "file_extension": ".py",
   "mimetype": "text/x-python",
   "name": "python",
   "nbconvert_exporter": "python",
   "pygments_lexer": "ipython3",
   "version": "3.10.9"
  }
 },
 "nbformat": 4,
 "nbformat_minor": 5
}
