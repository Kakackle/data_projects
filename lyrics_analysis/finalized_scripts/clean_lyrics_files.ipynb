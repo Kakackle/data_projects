{
 "cells": [
  {
   "cell_type": "code",
   "execution_count": 4,
   "id": "d45269a5-b161-40e0-b1e2-cfd7150ad27e",
   "metadata": {},
   "outputs": [],
   "source": [
    "import json\n",
    "import re\n",
    "import os\n",
    "import pandas as pd"
   ]
  },
  {
   "cell_type": "markdown",
   "id": "69a9cb31-95ab-450a-937f-af6433ef3133",
   "metadata": {},
   "source": [
    "### Cleanup saved genre dataframes"
   ]
  },
  {
   "cell_type": "markdown",
   "id": "c1c29599-de07-4d30-a81f-01a7edeebfce",
   "metadata": {},
   "source": [
    "#### genius metadata regex"
   ]
  },
  {
   "cell_type": "code",
   "execution_count": 14,
   "id": "8461f90e-8936-410c-9b33-a7670e9aec2c",
   "metadata": {},
   "outputs": [],
   "source": [
    "genius_regex_text = r\"\"\"\n",
    "\\d*.*             # number of contributors\n",
    "contributors      # 'contributors'\n",
    ".*                # translators and otherwise\n",
    "lyrics            # 'lyrics'\n",
    "(.*)              # everything including newline characters\n",
    "\\d*embed          # optional numbers then 'embed'\n",
    "\"\"\"\n",
    "genius_regex_text = r'\\d*.*contributors.*lyrics(.*)\\d*embed'\n",
    "# genius_regex = re.compile(regex_text, flags = re.VERBOSE)\n",
    "genius_regex = re.compile(genius_regex_text)\n",
    "\n",
    "# removal of last number left after the regex\n",
    "number_removal_regex = r'(\\d+)(?!.*\\d)'"
   ]
  },
  {
   "cell_type": "code",
   "execution_count": null,
   "id": "ba3b9db6-b10f-4b65-988e-8dde8d47b34b",
   "metadata": {},
   "outputs": [],
   "source": []
  },
  {
   "cell_type": "code",
   "execution_count": 16,
   "id": "fc791a08-657a-46f0-a688-532405be6437",
   "metadata": {},
   "outputs": [],
   "source": [
    "def cleanup_genius_lyrics(df, genius_regex, number_removal_regex = None,\n",
    "                         remove_newlines=True,\n",
    "                         remove_question=True, remove_interp=True,\n",
    "                         remove_dollar=True):\n",
    "    \"\"\"\n",
    "    Clean up dataframes with text lyrics in 'Song Lyrics' Column\n",
    "    genius_regex - for genius metadata\n",
    "    number_removal_regex - optional if genius regex doesnt remove them\n",
    "    \"\"\"\n",
    "    # lowercase first for easier regex application\n",
    "    df['Song Lyrics'] = df['Song Lyrics'].str.lower()\n",
    "\n",
    "    df['Song Lyrics'] = df['Song Lyrics'].str.strip()\n",
    "\n",
    "    # removing newlines before regex makes it supremely easier to apply\n",
    "    if remove_newlines:\n",
    "        df['Song Lyrics'] = df['Song Lyrics'].str.replace('\\n', ' ')\n",
    "\n",
    "    # remove genius metadata\n",
    "    df['Song Lyrics'].replace({genius_regex: r'\\1'}, inplace=True, regex=True)\n",
    "\n",
    "    # leftover number removal\n",
    "    if number_removal_regex:\n",
    "        df['Song Lyrics'].replace({number_removal_regex: ''}, inplace=True, regex=True)\n",
    "     \n",
    "    df['Song Lyrics'] = df['Song Lyrics'].str.replace('(', '')\n",
    "    df['Song Lyrics'] = df['Song Lyrics'].str.replace(')', '')\n",
    "    df['Song Lyrics'] = df['Song Lyrics'].str.replace('-', '')\n",
    "\n",
    "    # remove single apostrophe for improved word counting / uniformity\n",
    "    df['Song Lyrics'] = df['Song Lyrics'].str.replace(\"'\", '')\n",
    "\n",
    "    if remove_question:\n",
    "        df['Song Lyrics'] = df['Song Lyrics'].str.replace('?', '')\n",
    "    \n",
    "    if remove_dollar:\n",
    "        df['Song Lyrics'] = df['Song Lyrics'].str.replace('$', '')\n",
    "\n",
    "    if remove_interp:\n",
    "        df['Song Lyrics'] = df['Song Lyrics'].str.replace(',', '')\n",
    "        df['Song Lyrics'] = df['Song Lyrics'].str.replace('.', '')\n",
    "        df['Song Lyrics'] = df['Song Lyrics'].str.replace('!', '')\n",
    "        df['Song Lyrics'] = df['Song Lyrics'].str.replace(':', '')\n",
    "        df['Song Lyrics'] = df['Song Lyrics'].str.replace(';', '')\n",
    "    \n",
    "    return df"
   ]
  },
  {
   "cell_type": "code",
   "execution_count": 17,
   "id": "a83beeac-a75f-45c4-89ea-a24f649e5b87",
   "metadata": {},
   "outputs": [],
   "source": [
    "dataframes_path = '../dataframes/genres'"
   ]
  },
  {
   "cell_type": "markdown",
   "id": "fa437684-7fea-4b78-aa13-76cd708ec34c",
   "metadata": {},
   "source": [
    "### Clean all genre dataframes, save to new ones"
   ]
  },
  {
   "cell_type": "code",
   "execution_count": 19,
   "id": "95404f8a-ad8c-428d-870f-16bd004b2b7c",
   "metadata": {},
   "outputs": [],
   "source": [
    "for frame in os.listdir(dataframes_path):\n",
    "    if frame == '.ipynb_checkpoints':\n",
    "        continue\n",
    "    if frame.startswith('cleaned'):\n",
    "        continue\n",
    "    frame_path = f'{dataframes_path}/{frame}'\n",
    "    dataframe = pd.read_csv(frame_path, index_col=0)\n",
    "    \n",
    "    df = cleanup_genius_lyrics(dataframe, genius_regex_text, number_removal_regex)\n",
    "    df.to_csv(f'{dataframes_path}/cleaned_{frame}')"
   ]
  }
 ],
 "metadata": {
  "kernelspec": {
   "display_name": "data_venv",
   "language": "python",
   "name": "data_venv"
  },
  "language_info": {
   "codemirror_mode": {
    "name": "ipython",
    "version": 3
   },
   "file_extension": ".py",
   "mimetype": "text/x-python",
   "name": "python",
   "nbconvert_exporter": "python",
   "pygments_lexer": "ipython3",
   "version": "3.10.9"
  }
 },
 "nbformat": 4,
 "nbformat_minor": 5
}
