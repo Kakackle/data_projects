{
 "cells": [
  {
   "cell_type": "code",
   "execution_count": 1,
   "id": "46b1321d-70af-4fd7-a0f6-8c856d634a11",
   "metadata": {},
   "outputs": [],
   "source": [
    "import pandas as pd\n",
    "import re\n",
    "import os\n",
    "import plotly\n",
    "import plotly.express as px\n",
    "\n",
    "import plotly.graph_objects as graph_objects\n",
    "from plotly.subplots import make_subplots"
   ]
  },
  {
   "cell_type": "markdown",
   "id": "ac20229a-e0ea-43c1-b3be-4bb608e493ff",
   "metadata": {},
   "source": [
    "1. percentages etc"
   ]
  },
  {
   "cell_type": "code",
   "execution_count": 2,
   "id": "e03d1e9e-4c93-422b-b8f2-72c00c88ea45",
   "metadata": {},
   "outputs": [],
   "source": [
    "# x = 'love_percent'\n",
    "# y = 'money_percent'\n",
    "\n",
    "# compare_fig = px.scatter(loaded, x=x, y=y, color='genre')\n",
    "# compare_fig.show()"
   ]
  },
  {
   "cell_type": "markdown",
   "id": "71593b10-b0fc-4200-a4c9-0b17b10ab9d3",
   "metadata": {},
   "source": [
    "2. occurences for genre"
   ]
  },
  {
   "cell_type": "code",
   "execution_count": 3,
   "id": "076fc942-1d9b-4e8f-8094-4ce6d81c1fe0",
   "metadata": {},
   "outputs": [],
   "source": [
    "### Create a subplot graph for group occurences for genre\n",
    "\n",
    "# fig_groups = ['love', 'money', 'violence', 'drugs', 'gendered', 'sadness', 'joy', 'yes', 'no']\n",
    "\n",
    "# group_len = len(fig_groups)\n",
    "\n",
    "# pop_group_fig = make_subplots(rows=group_len, cols=1, subplot_titles=fig_groups,\n",
    "#                               # vertical_spacing = 0.25)\n",
    "#                              )\n",
    "\n",
    "# for row, fig_group in enumerate(fig_groups):\n",
    "#     # fig = px.bar(df, x='Artist', y=fig_group, color=\"Song Title\")\n",
    "#     # fig.update_layout(showlegend=False)\n",
    "#     fig = graph_objects.Bar(x=df['Artist'], y=df[fig_group],\n",
    "#                          showlegend=False, base=\"stack\",\n",
    "#                          )\n",
    "#     # fig.update_layout(yaxis_range=[0, 175])\n",
    "#     pop_group_fig.append_trace(\n",
    "#         fig,\n",
    "#         row=row+1, col=1\n",
    "#     )\n",
    "\n",
    "# pop_group_fig.update_layout(height=250*group_len, title_text=\"Stacked group mentions for pop songs\",\n",
    "#                            yaxis=dict(range=[0,175]))\n",
    "# pop_group_fig.show()"
   ]
  },
  {
   "cell_type": "markdown",
   "id": "b5792e4b-8d2f-48cc-9e06-dfb7693c7926",
   "metadata": {},
   "source": [
    "3. comparing between genres"
   ]
  },
  {
   "cell_type": "code",
   "execution_count": 4,
   "id": "62f673c5-8965-4fe0-87f8-09ed978661d7",
   "metadata": {},
   "outputs": [],
   "source": [
    "# side_fig = graph_objects.Figure()\n",
    "# side_fig.add_trace(graph_objects.Bar(y=loaded_sum_df['love'].values, x=loaded_sum_df.index, name='love'))\n",
    "# side_fig.add_trace(graph_objects.Bar(y=loaded_sum_df['money'].values, x=loaded_sum_df.index, name='money'))\n",
    "# side_fig.add_trace(graph_objects.Bar(y=loaded_sum_df['violence'].values, x=loaded_sum_df.index, name='violence'))\n",
    "# side_fig.add_trace(graph_objects.Bar(y=loaded_sum_df['drugs'].values, x=loaded_sum_df.index, name='drugs'))\n",
    "# side_fig.show()"
   ]
  },
  {
   "cell_type": "markdown",
   "id": "3489c34d-0e76-4609-b7c0-4a73a1a81603",
   "metadata": {},
   "source": [
    "4. some correlations"
   ]
  },
  {
   "cell_type": "code",
   "execution_count": 6,
   "id": "21594dc3-4cbf-46db-934d-a15afa4bdfb5",
   "metadata": {},
   "outputs": [],
   "source": [
    "# import plotly.io as pio\n",
    "# import plotly.express as px\n",
    "# import plotly.graph_objects as go\n",
    "\n",
    "# pio.templates.default = \"plotly_white\"\n",
    "\n",
    "# to_corr = ['Year', 'Month', 'Day', 'Pageviews', 'featured_count', 'writer_count',\n",
    "#           'producer_count', 'love', 'money', 'violence', 'drugs', 'gendered']\n",
    "\n",
    "# corr = df[to_corr].corr()\n",
    "\n",
    "# corr_map = go.Heatmap(\n",
    "#     z = corr,\n",
    "#     x=corr.columns,\n",
    "#     y=corr.columns,\n",
    "#     colorscale=px.colors.diverging.RdBu,\n",
    "#     zmin=-1,\n",
    "#     zmax=1\n",
    "# )\n",
    "\n",
    "# fig = go.Figure()\n",
    "# fig.add_trace(corr_map)\n",
    "# fig.show()"
   ]
  },
  {
   "cell_type": "markdown",
   "id": "bc3ccdf3-80f5-47a5-8f0a-b49fae749e9f",
   "metadata": {},
   "source": [
    "5. wordclouds etc"
   ]
  },
  {
   "cell_type": "code",
   "execution_count": 8,
   "id": "b477a333-2cdc-4b8f-a0b6-539dec3e33f3",
   "metadata": {},
   "outputs": [],
   "source": [
    "# import wordcloud\n",
    "# from wordcloud import WordCloud, STOPWORDS\n",
    "\n",
    "# import pandas as pd\n",
    "\n",
    "# import matplotlib.pyplot as plt\n",
    "# import seaborn as sns\n",
    "\n",
    "# import plotly.express as px"
   ]
  },
  {
   "cell_type": "code",
   "execution_count": 9,
   "id": "8d4174c0-a077-4914-8637-305ade8861d8",
   "metadata": {},
   "outputs": [],
   "source": [
    "# extra_words = ['']\n",
    "# stopwords_extra = STOPWORDS.update(extra_words)"
   ]
  },
  {
   "cell_type": "code",
   "execution_count": 10,
   "id": "129ce9aa-f828-4671-b0f2-691f84c38e6e",
   "metadata": {},
   "outputs": [],
   "source": [
    "def get_top_15_words_by_frequency(row):\n",
    "    lyrics = row['Song Lyrics']\n",
    "    wc = WordCloud(background_color=\"white\", stopwords=STOPWORDS, max_words=15,\n",
    "              width=800, height=400, collocations=False)\n",
    "    wc.generate(lyrics)\n",
    "    words_fc = pd.Series(wc.words_)\n",
    "    top_15_words = list(words_fc[:15].index)\n",
    "    top_15_string = ' '.join(top_15_words)\n",
    "    return top_15_string"
   ]
  },
  {
   "cell_type": "code",
   "execution_count": 11,
   "id": "ce29557a-94e4-4ef4-b94c-224e7a66f9ca",
   "metadata": {},
   "outputs": [],
   "source": [
    "def apply_top_15_words(df):\n",
    "    df['top15'] = df.apply(\n",
    "        lambda row: get_top_15_words_by_frequency(row),\n",
    "        axis = 1\n",
    "    )"
   ]
  },
  {
   "cell_type": "code",
   "execution_count": null,
   "id": "8b6436f8-9f31-4c92-aa82-88e371381536",
   "metadata": {},
   "outputs": [],
   "source": [
    "# sum_string = ' '.join(df['top15'].str.lower())\n",
    "\n",
    "# sum_wc = WordCloud(background_color=\"white\", stopwords=STOPWORDS, max_words=150,\n",
    "#               width=800, height=400, collocations=False)\n",
    "# sum_wc.generate(sum_string)\n",
    "# plt.imshow(sum_wc, interpolation='bilinear')\n",
    "# plt.axis('off')\n",
    "# plt.title('Soul wc')"
   ]
  },
  {
   "cell_type": "code",
   "execution_count": null,
   "id": "7f7ab7e3-bd47-4fb9-8ad1-fb866ffe6f23",
   "metadata": {},
   "outputs": [],
   "source": [
    "# sum_words_fc = pd.Series(sum_wc.words_)\n",
    "# # sum_words_fc =  np.ceil(sum_words_fc * len(skills_clean))\n",
    "# sum_words_fc[:25].plot.bar()\n",
    "# plt.title('soul frequency bar chart')"
   ]
  },
  {
   "cell_type": "markdown",
   "id": "aea50711-8d5b-4e0a-97e7-0fe2dbc3cfcc",
   "metadata": {},
   "source": [
    "6. ngrams"
   ]
  },
  {
   "cell_type": "code",
   "execution_count": 12,
   "id": "8ecbe1a0-8a0c-44b1-95e2-e868186f5430",
   "metadata": {},
   "outputs": [],
   "source": [
    "# Import library\n",
    "import spacy\n",
    "# Load the language model\n",
    "nlp = spacy.load(\"en_core_web_sm\")"
   ]
  },
  {
   "cell_type": "code",
   "execution_count": null,
   "id": "320fdeb0-2c5d-434b-b283-2b3bbd1ad824",
   "metadata": {},
   "outputs": [],
   "source": [
    "# all_lyrics = ' '.join(df['Song Lyrics'].str.lower())"
   ]
  },
  {
   "cell_type": "code",
   "execution_count": null,
   "id": "cd49e410-a6b6-4399-b10e-dbc23550e6a8",
   "metadata": {},
   "outputs": [],
   "source": [
    "# doc = nlp(all_lyrics)\n",
    "\n",
    "# # optionally, emove stop words\n",
    "# # filtered_tokens = [token.text for token in doc if not token.is_stop]"
   ]
  },
  {
   "cell_type": "code",
   "execution_count": 14,
   "id": "8672a847-c50a-4b98-966d-57651b1fd28d",
   "metadata": {},
   "outputs": [],
   "source": [
    "# from collections import Counter\n",
    "# from nltk import ngrams"
   ]
  },
  {
   "cell_type": "code",
   "execution_count": null,
   "id": "10fe9376-5b80-4af5-a12a-b7ba652ee977",
   "metadata": {},
   "outputs": [],
   "source": [
    "# ngram_counts_4 = Counter(ngrams(all_lyrics.split(), 4))\n",
    "# ngrams_4_common = ngram_counts_4.most_common(25)"
   ]
  },
  {
   "cell_type": "code",
   "execution_count": null,
   "id": "e988d08f-777e-448b-a738-b93f7bacf725",
   "metadata": {},
   "outputs": [],
   "source": [
    "# ngrams_4_connected = [' '.join(gram[0]) for gram in ngrams_4_common]"
   ]
  },
  {
   "cell_type": "code",
   "execution_count": null,
   "id": "85831659-2e62-4314-962e-4c897656334c",
   "metadata": {},
   "outputs": [],
   "source": [
    "# ngram_4_bar = px.bar(x=ngrams_4_connected, y=ngram_4_counts)\n",
    "# ngram_4_bar.show()"
   ]
  },
  {
   "cell_type": "code",
   "execution_count": null,
   "id": "73dc3ace-9536-4ac9-9386-254faecb805e",
   "metadata": {},
   "outputs": [],
   "source": []
  }
 ],
 "metadata": {
  "kernelspec": {
   "display_name": "data_venv",
   "language": "python",
   "name": "data_venv"
  },
  "language_info": {
   "codemirror_mode": {
    "name": "ipython",
    "version": 3
   },
   "file_extension": ".py",
   "mimetype": "text/x-python",
   "name": "python",
   "nbconvert_exporter": "python",
   "pygments_lexer": "ipython3",
   "version": "3.10.9"
  }
 },
 "nbformat": 4,
 "nbformat_minor": 5
}
