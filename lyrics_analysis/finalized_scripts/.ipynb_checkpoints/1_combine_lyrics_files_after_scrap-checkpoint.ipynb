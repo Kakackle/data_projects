{
 "cells": [
  {
   "cell_type": "markdown",
   "id": "0b37932b-5a95-40c9-881c-c3193991453d",
   "metadata": {},
   "source": [
    "## Combine lyrics files after scrap\n",
    "#### This notebook:\n",
    "* finds json files in specified **lyrics_path** by specified folder regex, within specified **lyrics_path** location,\n",
    "* creates folder_paths and folder_names lists\n",
    "* finds files in folder_paths and combines the files from within each path to a single file named after the respective folder_names name and saves this new json file  to current location (?)\n",
    "\n",
    "**params**:\n",
    "* lyrics_path - path to folders with json files after lyricsgenius scrap\n",
    "* folder_name_regex - folder structure regex used to extract the paths and names of folders containing files\n",
    "* "
   ]
  },
  {
   "cell_type": "code",
   "execution_count": 2,
   "id": "185a3849-9aab-4777-96b0-3e7401b815d5",
   "metadata": {},
   "outputs": [],
   "source": [
    "import json\n",
    "import re\n",
    "import os"
   ]
  },
  {
   "cell_type": "markdown",
   "id": "208f5405-563b-40c3-9c9b-0f9161bdec07",
   "metadata": {},
   "source": [
    "### Find saved lyrics json files in genre folders"
   ]
  },
  {
   "cell_type": "code",
   "execution_count": 1,
   "id": "4a936f09-a817-4ff9-a54d-c199a95cb9c3",
   "metadata": {},
   "outputs": [],
   "source": [
    "# artist_regex = re.compile(r'Lyrics_(\\w*)\\.json')"
   ]
  },
  {
   "cell_type": "code",
   "execution_count": 3,
   "id": "ec6e42a2-b69c-44e0-9d36-f28a859e9395",
   "metadata": {},
   "outputs": [
    {
     "data": {
      "text/plain": [
       "'C:\\\\Users\\\\User\\\\Desktop\\\\programowanie_web_etc\\\\python_projects\\\\data_projects\\\\lyrics_analysis\\\\finalized_scripts'"
      ]
     },
     "execution_count": 3,
     "metadata": {},
     "output_type": "execute_result"
    }
   ],
   "source": [
    "os.getcwd()"
   ]
  },
  {
   "cell_type": "code",
   "execution_count": 4,
   "id": "0955df92-d144-42c6-be64-46e5dd498310",
   "metadata": {},
   "outputs": [],
   "source": [
    "lyrics_path = '../decade_lyrics'"
   ]
  },
  {
   "cell_type": "code",
   "execution_count": 5,
   "id": "ac65c029-4529-4279-b6f2-c130416b6f98",
   "metadata": {},
   "outputs": [],
   "source": [
    "def merge_json_files(filenames: list, newfilename: str):\n",
    "    \"\"\"\n",
    "    get individual artist files and combine into genres json files\n",
    "    Parameters:\n",
    "    -----------\n",
    "    filenames: list of str\n",
    "        list of sub file names with artist lyrics\n",
    "    newfilename: str\n",
    "        name of new combined json file\n",
    "    \"\"\"\n",
    "    result = list()\n",
    "    for fname in filenames:\n",
    "        with open(fname, 'r') as subfile:\n",
    "            result.append(json.load(subfile))\n",
    "            \n",
    "    with open(f'{newfilename}.json', 'w') as output_file:\n",
    "        json.dump(result, output_file)"
   ]
  },
  {
   "cell_type": "markdown",
   "id": "5e4c60b6-15d5-4821-ab58-e27d90cf8e72",
   "metadata": {},
   "source": [
    "#### Find genre folder names"
   ]
  },
  {
   "cell_type": "code",
   "execution_count": 6,
   "id": "8335b707-0ffc-48c1-b062-d30b3351f52d",
   "metadata": {},
   "outputs": [],
   "source": [
    "folder_name_regex = re.compile(r'.*/(.*)')"
   ]
  },
  {
   "cell_type": "code",
   "execution_count": 7,
   "id": "613bb96e-7fb2-4a42-b6bd-303c7c192c62",
   "metadata": {},
   "outputs": [],
   "source": [
    "folder_paths = []\n",
    "folder_names = []\n",
    "\n",
    "for lyrics_folder in os.listdir(lyrics_path):\n",
    "    if lyrics_folder == '.ipynb_checkpoints':\n",
    "        continue\n",
    "    if lyrics_folder == 'combined':\n",
    "        continue\n",
    "    folder_paths.append(f'{lyrics_path}/{lyrics_folder}')\n",
    "    folder_names.append(lyrics_folder)"
   ]
  },
  {
   "cell_type": "code",
   "execution_count": 8,
   "id": "84b9ea36-9105-44e2-88ce-c1b7e6429299",
   "metadata": {},
   "outputs": [
    {
     "data": {
      "text/plain": [
       "['../decade_lyrics/rap_1980s',\n",
       " '../decade_lyrics/rap_1990s',\n",
       " '../decade_lyrics/rap_2000s',\n",
       " '../decade_lyrics/rap_2010s',\n",
       " '../decade_lyrics/rap_2020s']"
      ]
     },
     "execution_count": 8,
     "metadata": {},
     "output_type": "execute_result"
    }
   ],
   "source": [
    "folder_paths"
   ]
  },
  {
   "cell_type": "code",
   "execution_count": 9,
   "id": "3ce6e15f-63b4-4cef-99d1-9b1a0ec308fd",
   "metadata": {},
   "outputs": [
    {
     "data": {
      "text/plain": [
       "['rap_1980s', 'rap_1990s', 'rap_2000s', 'rap_2010s', 'rap_2020s']"
      ]
     },
     "execution_count": 9,
     "metadata": {},
     "output_type": "execute_result"
    }
   ],
   "source": [
    "folder_names"
   ]
  },
  {
   "cell_type": "markdown",
   "id": "2479402c-1d68-4845-8010-098551c1b475",
   "metadata": {},
   "source": [
    "#### Find artist lyrics files and merge into combined genre (folder name) files"
   ]
  },
  {
   "cell_type": "code",
   "execution_count": 11,
   "id": "7af727de-04cc-49bd-b065-d1f8a6e6a8a8",
   "metadata": {},
   "outputs": [],
   "source": [
    "for folder_index, folder in enumerate(folder_paths):\n",
    "    filenames = []\n",
    "    \n",
    "    for lyrics_file in os.listdir(folder):\n",
    "        if lyrics_file == '.ipynb_checkpoints':\n",
    "            continue\n",
    "        filenames.append(f'{folder}/{lyrics_file}')\n",
    "\n",
    "    file_len = len(filenames)\n",
    "    newfilename = f'{folder}/{folder_names[folder_index]}_combined_{file_len}'\n",
    "    \n",
    "    merge_json_files(filenames = filenames,\n",
    "                    newfilename = newfilename )"
   ]
  }
 ],
 "metadata": {
  "kernelspec": {
   "display_name": "data_venv",
   "language": "python",
   "name": "data_venv"
  },
  "language_info": {
   "codemirror_mode": {
    "name": "ipython",
    "version": 3
   },
   "file_extension": ".py",
   "mimetype": "text/x-python",
   "name": "python",
   "nbconvert_exporter": "python",
   "pygments_lexer": "ipython3",
   "version": "3.10.9"
  }
 },
 "nbformat": 4,
 "nbformat_minor": 5
}
