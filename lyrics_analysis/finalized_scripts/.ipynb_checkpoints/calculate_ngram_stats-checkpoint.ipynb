{
 "cells": [
  {
   "cell_type": "code",
   "execution_count": 1,
   "id": "ffa1aa9e-605e-4e63-b662-9bf194feb277",
   "metadata": {},
   "outputs": [],
   "source": [
    "import pandas as pd\n",
    "\n",
    "# Import library\n",
    "import spacy\n",
    "# Load the language model\n",
    "nlp = spacy.load(\"en_core_web_sm\")\n",
    "\n",
    "from collections import Counter\n",
    "from nltk import ngrams"
   ]
  },
  {
   "cell_type": "code",
   "execution_count": 2,
   "id": "69d76215-ecbe-4557-b63c-5c1cf4050760",
   "metadata": {},
   "outputs": [],
   "source": [
    "genres = ['pop', 'rock', 'rap', 'soul']"
   ]
  },
  {
   "cell_type": "code",
   "execution_count": 3,
   "id": "eb54e76a-026e-464b-b927-394f677cd9d7",
   "metadata": {},
   "outputs": [],
   "source": [
    "ngram_lens = [2, 3, 4]"
   ]
  },
  {
   "cell_type": "code",
   "execution_count": 25,
   "id": "fc5e220e-fa24-4106-8deb-bcdad1644683",
   "metadata": {},
   "outputs": [],
   "source": [
    "def calculate_ngrams(df, ngram_lens):\n",
    "    \"\"\"\n",
    "    Will return a row with ngrams for artist\n",
    "    Accepts a portion of df with songs by one artist only\n",
    "    and array of ngram lenghts to consider\n",
    "    \"\"\"\n",
    "    all_lyrics = ' '.join(df['Song Lyrics'].str.lower())\n",
    "\n",
    "    # ngrams_row = pd.DataFrame()\n",
    "    ngrams_row = []\n",
    "    \n",
    "    for n in ngram_lens:\n",
    "        ngram_count = Counter(ngrams(all_lyrics.split(), n))\n",
    "        ngram_count_common = ngram_count.most_common(20)\n",
    "        # col_name = f'ngram_count_{n}'\n",
    "        # ngram_row[col_name] = None\n",
    "        # ngrams_row[col_name] = ngram_count_common\n",
    "        ngrams_row.append(ngram_count_common)\n",
    "    # ngrams_row.index = [artist]\n",
    "    \n",
    "    return ngrams_row"
   ]
  },
  {
   "cell_type": "markdown",
   "id": "8608336e-f20a-4d44-85e9-ec93bff42313",
   "metadata": {},
   "source": [
    "### Apply to artists"
   ]
  },
  {
   "cell_type": "code",
   "execution_count": 31,
   "id": "e87824a5-2198-453d-ad0a-d02c24f80407",
   "metadata": {},
   "outputs": [],
   "source": [
    "source_path = '../dataframes/genres/cleaned_combined.csv'"
   ]
  },
  {
   "cell_type": "code",
   "execution_count": 32,
   "id": "62b9c202-96ae-4caa-a28b-29f789eefe57",
   "metadata": {},
   "outputs": [],
   "source": [
    "source_df = pd.read_csv(source_path, index_col=0)"
   ]
  },
  {
   "cell_type": "code",
   "execution_count": 33,
   "id": "5e460b3e-247e-4811-9615-1f95393b151d",
   "metadata": {},
   "outputs": [],
   "source": [
    "artists = list(source_df['Artist'].unique())"
   ]
  },
  {
   "cell_type": "code",
   "execution_count": 34,
   "id": "c13df28e-99ec-465f-8723-bff2d1fcab90",
   "metadata": {
    "scrolled": true
   },
   "outputs": [
    {
     "data": {
      "text/plain": [
       "['Aaliyah',\n",
       " 'Beyoncé',\n",
       " 'Britney Spears',\n",
       " 'Carly Rae Jepsen',\n",
       " 'Charli XCX',\n",
       " 'Dua Lipa',\n",
       " 'Madonna',\n",
       " 'Michael Jackson',\n",
       " 'Olivia Rodrigo',\n",
       " 'Taylor Swift',\n",
       " 'Black Sabbath',\n",
       " 'Deep Purple',\n",
       " 'Foo Fighters',\n",
       " 'Fugazi',\n",
       " 'Led Zeppelin',\n",
       " 'Nirvana',\n",
       " 'Queens of the Stone Age',\n",
       " 'The Rolling Stones',\n",
       " 'The Strokes',\n",
       " 'The White Stripes',\n",
       " '2Pac',\n",
       " 'A Tribe Called Quest',\n",
       " 'Eminem',\n",
       " 'Ice Cube',\n",
       " 'JAY-Z',\n",
       " 'Kanye West',\n",
       " 'Kendrick Lamar',\n",
       " 'MF DOOM',\n",
       " 'Nas',\n",
       " 'Yasiin Bey',\n",
       " 'Al Green',\n",
       " 'Aretha Franklin',\n",
       " 'Clarence Carter',\n",
       " 'Curtis Mayfield',\n",
       " 'Marvin Gaye',\n",
       " 'Minnie Riperton',\n",
       " 'Nina Simone',\n",
       " 'Otis Redding',\n",
       " 'Sam Cooke',\n",
       " 'Stevie Wonder']"
      ]
     },
     "execution_count": 34,
     "metadata": {},
     "output_type": "execute_result"
    }
   ],
   "source": [
    "artists"
   ]
  },
  {
   "cell_type": "markdown",
   "id": "73ed2922-b8cb-4be9-b5cd-78b353c2ca58",
   "metadata": {},
   "source": [
    "#### ========== Tests =========="
   ]
  },
  {
   "cell_type": "code",
   "execution_count": 94,
   "id": "c42858f5-9946-4c6b-9c44-37b1a86d0705",
   "metadata": {},
   "outputs": [],
   "source": [
    "# test_df = source_df[source_df['Artist'] == artists[0]]"
   ]
  },
  {
   "cell_type": "code",
   "execution_count": 95,
   "id": "918f2982-7671-4975-8d80-7a15b3bbe481",
   "metadata": {},
   "outputs": [],
   "source": [
    "# test_df.shape"
   ]
  },
  {
   "cell_type": "code",
   "execution_count": 96,
   "id": "5c45a660-2da9-4c1f-9dc8-2c89c7df5e2b",
   "metadata": {},
   "outputs": [],
   "source": [
    "# ngram_row = calculate_ngrams(test_df, ngram_lens)"
   ]
  },
  {
   "cell_type": "code",
   "execution_count": 97,
   "id": "79634947-897c-44f1-a849-3f58fa8f0044",
   "metadata": {
    "scrolled": true
   },
   "outputs": [],
   "source": [
    "# ngram_row"
   ]
  },
  {
   "cell_type": "code",
   "execution_count": 99,
   "id": "28c3fd8c-f84f-45a2-9356-c98ae5232350",
   "metadata": {},
   "outputs": [],
   "source": [
    "# ngram_cols = [f'ngram_{n}' for n in ngram_lens]\n",
    "# cols = ['Artist', 'genre', 'gender', *ngram_cols]\n",
    "\n",
    "# ngrams_df = pd.DataFrame(columns=cols)\n",
    "# ngrams_df"
   ]
  },
  {
   "cell_type": "code",
   "execution_count": 100,
   "id": "1e40040a-7afa-45d6-bca8-c178a7465768",
   "metadata": {},
   "outputs": [],
   "source": [
    "# new_row = {\n",
    "#     'Artist': artists[0],\n",
    "#     'genre': test_df['genre'][0],\n",
    "#     'gender': test_df['gender'][0],\n",
    "# }\n",
    "\n",
    "# for ngram_index, ngram_count in enumerate(ngrams_row):\n",
    "#     print(f'ngram_index: {ngram_index}, col_name: {ngram_cols[ngram_index]}')\n",
    "\n",
    "#     new_row[ngram_cols[ngram_index]] = str(ngram_count)\n",
    "    \n",
    "#     # ngrams_df[ngram_cols[ngram_index]][artist_index] = ngram_count\n",
    "#     # ngrams_df['Artist'][artist_index] = artist\n",
    "# # new_row\n",
    "# row_df = pd.DataFrame([new_row])\n",
    "# ngrams_df = pd.concat([ngrams_df, row_df], ignore_index = True)"
   ]
  },
  {
   "cell_type": "code",
   "execution_count": 101,
   "id": "96af8697-fa96-4d36-b7f3-04357f714961",
   "metadata": {},
   "outputs": [],
   "source": [
    "# ngrams_df"
   ]
  },
  {
   "cell_type": "markdown",
   "id": "050deb0f-7db0-4c5a-9b55-ca1ea97ec23b",
   "metadata": {},
   "source": [
    "#### ======= End tests ========="
   ]
  },
  {
   "cell_type": "code",
   "execution_count": 106,
   "id": "aeebb7d1-33f9-49e6-b0ec-d724aecc7f83",
   "metadata": {},
   "outputs": [
    {
     "name": "stdout",
     "output_type": "stream",
     "text": [
      "Aaliyah\n",
      "Beyoncé\n",
      "Britney Spears\n",
      "Carly Rae Jepsen\n",
      "Charli XCX\n",
      "Dua Lipa\n",
      "Madonna\n",
      "Michael Jackson\n",
      "Olivia Rodrigo\n",
      "Taylor Swift\n",
      "Black Sabbath\n",
      "Deep Purple\n",
      "Foo Fighters\n",
      "Fugazi\n",
      "Led Zeppelin\n",
      "Nirvana\n",
      "Queens of the Stone Age\n",
      "The Rolling Stones\n",
      "The Strokes\n",
      "The White Stripes\n",
      "2Pac\n",
      "A Tribe Called Quest\n",
      "Eminem\n",
      "Ice Cube\n",
      "JAY-Z\n",
      "Kanye West\n",
      "Kendrick Lamar\n",
      "MF DOOM\n",
      "Nas\n",
      "Yasiin Bey\n",
      "Al Green\n",
      "Aretha Franklin\n",
      "Clarence Carter\n",
      "Curtis Mayfield\n",
      "Marvin Gaye\n",
      "Minnie Riperton\n",
      "Nina Simone\n",
      "Otis Redding\n",
      "Sam Cooke\n",
      "Stevie Wonder\n"
     ]
    }
   ],
   "source": [
    "ngram_cols = [f'ngram_{n}' for n in ngram_lens]\n",
    "cols = ['Artist', 'genre', 'gender', *ngram_cols]\n",
    "\n",
    "ngrams_df = pd.DataFrame(columns=cols)\n",
    "ngrams_df.columns\n",
    "\n",
    "ngrams_df[[*ngram_cols]] = None\n",
    "\n",
    "for artist_index, artist in enumerate(artists):\n",
    "    # stupid fucking hack for genres and genders what the fuck man it doesnt make a lick of sense what the fuck\n",
    "    genre = source_df[source_df['Artist'] == artist]['genre'].values[0]\n",
    "    gender = source_df[source_df['Artist'] == artist]['gender'].values[0]\n",
    "\n",
    "    print(artist)\n",
    "    \n",
    "    artist_df = source_df[source_df['Artist'] == artist]\n",
    "    # print(df)\n",
    "    ngrams_row = calculate_ngrams(artist_df, ngram_lens)\n",
    "\n",
    "    new_row = {\n",
    "        'Artist': artist,\n",
    "        'genre': genre,\n",
    "        'gender': gender,\n",
    "    }\n",
    "    \n",
    "    for ngram_index, ngram_count in enumerate(ngrams_row):\n",
    "         new_row[ngram_cols[ngram_index]] = str(ngram_count)\n",
    "\n",
    "    row_df = pd.DataFrame([new_row])\n",
    "    ngrams_df = pd.concat([ngrams_df, row_df], ignore_index = True)"
   ]
  },
  {
   "cell_type": "code",
   "execution_count": 107,
   "id": "93a77b87-5e20-4d5d-87cc-fb2b5e64e527",
   "metadata": {},
   "outputs": [
    {
     "data": {
      "text/html": [
       "<div>\n",
       "<style scoped>\n",
       "    .dataframe tbody tr th:only-of-type {\n",
       "        vertical-align: middle;\n",
       "    }\n",
       "\n",
       "    .dataframe tbody tr th {\n",
       "        vertical-align: top;\n",
       "    }\n",
       "\n",
       "    .dataframe thead th {\n",
       "        text-align: right;\n",
       "    }\n",
       "</style>\n",
       "<table border=\"1\" class=\"dataframe\">\n",
       "  <thead>\n",
       "    <tr style=\"text-align: right;\">\n",
       "      <th></th>\n",
       "      <th>Artist</th>\n",
       "      <th>genre</th>\n",
       "      <th>gender</th>\n",
       "      <th>ngram_2</th>\n",
       "      <th>ngram_3</th>\n",
       "      <th>ngram_4</th>\n",
       "    </tr>\n",
       "  </thead>\n",
       "  <tbody>\n",
       "    <tr>\n",
       "      <th>0</th>\n",
       "      <td>Aaliyah</td>\n",
       "      <td>pop</td>\n",
       "      <td>female</td>\n",
       "      <td>[(('let', 'me'), 80), (('without', 'you'), 76)...</td>\n",
       "      <td>[(('let', 'me', 'see'), 42), (('me', 'see', 'y...</td>\n",
       "      <td>[(('let', 'me', 'see', 'you'), 41), (('baby', ...</td>\n",
       "    </tr>\n",
       "    <tr>\n",
       "      <th>1</th>\n",
       "      <td>Beyoncé</td>\n",
       "      <td>pop</td>\n",
       "      <td>female</td>\n",
       "      <td>[(('in', 'the'), 51), (('love', 'you'), 49), (...</td>\n",
       "      <td>[(('you', 'like', 'i'), 27), (('sorry', 'i', '...</td>\n",
       "      <td>[(('they', 'dont', 'love', 'you'), 24), (('don...</td>\n",
       "    </tr>\n",
       "    <tr>\n",
       "      <th>2</th>\n",
       "      <td>Britney Spears</td>\n",
       "      <td>pop</td>\n",
       "      <td>female</td>\n",
       "      <td>[(('get', 'it'), 49), (('you', 'want'), 47), (...</td>\n",
       "      <td>[(('it', 'get', 'it'), 38), (('get', 'it', 'ge...</td>\n",
       "      <td>[(('get', 'it', 'get', 'it'), 36), (('you', 'w...</td>\n",
       "    </tr>\n",
       "    <tr>\n",
       "      <th>3</th>\n",
       "      <td>Carly Rae Jepsen</td>\n",
       "      <td>pop</td>\n",
       "      <td>female</td>\n",
       "      <td>[(('gimmie', 'love'), 75), (('love', 'gimmie')...</td>\n",
       "      <td>[(('gimmie', 'love', 'gimmie'), 69), (('love',...</td>\n",
       "      <td>[(('gimmie', 'love', 'gimmie', 'love'), 63), (...</td>\n",
       "    </tr>\n",
       "    <tr>\n",
       "      <th>4</th>\n",
       "      <td>Charli XCX</td>\n",
       "      <td>pop</td>\n",
       "      <td>female</td>\n",
       "      <td>[(('it', 'i'), 273), (('i', 'got'), 192), (('g...</td>\n",
       "      <td>[(('i', 'got', 'it'), 186), (('got', 'it', 'i'...</td>\n",
       "      <td>[(('got', 'it', 'i', 'got'), 177), (('i', 'got...</td>\n",
       "    </tr>\n",
       "  </tbody>\n",
       "</table>\n",
       "</div>"
      ],
      "text/plain": [
       "             Artist genre  gender  \\\n",
       "0           Aaliyah   pop  female   \n",
       "1           Beyoncé   pop  female   \n",
       "2    Britney Spears   pop  female   \n",
       "3  Carly Rae Jepsen   pop  female   \n",
       "4        Charli XCX   pop  female   \n",
       "\n",
       "                                             ngram_2  \\\n",
       "0  [(('let', 'me'), 80), (('without', 'you'), 76)...   \n",
       "1  [(('in', 'the'), 51), (('love', 'you'), 49), (...   \n",
       "2  [(('get', 'it'), 49), (('you', 'want'), 47), (...   \n",
       "3  [(('gimmie', 'love'), 75), (('love', 'gimmie')...   \n",
       "4  [(('it', 'i'), 273), (('i', 'got'), 192), (('g...   \n",
       "\n",
       "                                             ngram_3  \\\n",
       "0  [(('let', 'me', 'see'), 42), (('me', 'see', 'y...   \n",
       "1  [(('you', 'like', 'i'), 27), (('sorry', 'i', '...   \n",
       "2  [(('it', 'get', 'it'), 38), (('get', 'it', 'ge...   \n",
       "3  [(('gimmie', 'love', 'gimmie'), 69), (('love',...   \n",
       "4  [(('i', 'got', 'it'), 186), (('got', 'it', 'i'...   \n",
       "\n",
       "                                             ngram_4  \n",
       "0  [(('let', 'me', 'see', 'you'), 41), (('baby', ...  \n",
       "1  [(('they', 'dont', 'love', 'you'), 24), (('don...  \n",
       "2  [(('get', 'it', 'get', 'it'), 36), (('you', 'w...  \n",
       "3  [(('gimmie', 'love', 'gimmie', 'love'), 63), (...  \n",
       "4  [(('got', 'it', 'i', 'got'), 177), (('i', 'got...  "
      ]
     },
     "execution_count": 107,
     "metadata": {},
     "output_type": "execute_result"
    }
   ],
   "source": [
    "ngrams_df.head()"
   ]
  },
  {
   "cell_type": "code",
   "execution_count": 109,
   "id": "ff3cdd61-ba29-4a01-94ef-140545cc6ed5",
   "metadata": {},
   "outputs": [],
   "source": [
    "ngrams_df.to_csv(f'../dataframes/group_stats/artist_ngrams.csv')"
   ]
  }
 ],
 "metadata": {
  "kernelspec": {
   "display_name": "data_venv",
   "language": "python",
   "name": "data_venv"
  },
  "language_info": {
   "codemirror_mode": {
    "name": "ipython",
    "version": 3
   },
   "file_extension": ".py",
   "mimetype": "text/x-python",
   "name": "python",
   "nbconvert_exporter": "python",
   "pygments_lexer": "ipython3",
   "version": "3.10.9"
  }
 },
 "nbformat": 4,
 "nbformat_minor": 5
}
