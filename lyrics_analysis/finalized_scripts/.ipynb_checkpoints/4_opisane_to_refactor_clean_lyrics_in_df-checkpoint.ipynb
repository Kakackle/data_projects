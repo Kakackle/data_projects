{
 "cells": [
  {
   "cell_type": "markdown",
   "id": "2a9925d1-5e94-4731-ae78-bce688af08e8",
   "metadata": {},
   "source": [
    "## Clean lyrics files\n",
    "#### This notebook:\n",
    "* defines a function with arguments to clean a supplied dataframe with a **'Song Lyrics'** columns, also expects a regex supposed to remove extra genius metadata\n",
    "* function usable on single dataframes, but also does so for each dataframe in specified **dataframes_path**"
   ]
  },
  {
   "cell_type": "code",
   "execution_count": 2,
   "id": "d45269a5-b161-40e0-b1e2-cfd7150ad27e",
   "metadata": {},
   "outputs": [],
   "source": [
    "import json\n",
    "import re\n",
    "import os\n",
    "import pandas as pd"
   ]
  },
  {
   "cell_type": "markdown",
   "id": "69a9cb31-95ab-450a-937f-af6433ef3133",
   "metadata": {},
   "source": [
    "### Cleanup saved genre dataframes"
   ]
  },
  {
   "cell_type": "markdown",
   "id": "c1c29599-de07-4d30-a81f-01a7edeebfce",
   "metadata": {},
   "source": [
    "#### genius metadata regex"
   ]
  },
  {
   "cell_type": "code",
   "execution_count": 3,
   "id": "8461f90e-8936-410c-9b33-a7670e9aec2c",
   "metadata": {},
   "outputs": [],
   "source": [
    "genius_regex_text = r\"\"\"\n",
    "\\d*.*             # number of contributors\n",
    "contributors      # 'contributors'\n",
    ".*                # translators and otherwise\n",
    "lyrics            # 'lyrics'\n",
    "(.*)              # everything including newline characters\n",
    "\\d*embed          # optional numbers then 'embed'\n",
    "\"\"\"\n",
    "# overwritten to work, aboce is for demonstration purposes\n",
    "genius_regex_text = r'\\d*.*contributors.*lyrics(.*)\\d*embed'\n",
    "# genius_regex = re.compile(regex_text, flags = re.VERBOSE)\n",
    "genius_regex = re.compile(genius_regex_text)\n",
    "\n",
    "# removal of last number left after the regex\n",
    "number_removal_regex = r'(\\d+)(?!.*\\d)'"
   ]
  },
  {
   "cell_type": "code",
   "execution_count": 6,
   "id": "fc791a08-657a-46f0-a688-532405be6437",
   "metadata": {},
   "outputs": [],
   "source": [
    "def cleanup_genius_lyrics(df, genius_regex, number_removal_regex = None,\n",
    "                         remove_newlines=True,\n",
    "                         remove_question=True, remove_interp=True,\n",
    "                         remove_dollar=True):\n",
    "    \"\"\"\n",
    "    Clean up dataframes with text lyrics in 'Song Lyrics' Column\n",
    "    genius_regex - for genius metadata\n",
    "    number_removal_regex - optional if genius regex doesnt remove them\n",
    "    \"\"\"\n",
    "    # lowercase first for easier regex application\n",
    "    df['Song Lyrics'] = df['Song Lyrics'].str.lower()\n",
    "\n",
    "    df['Song Lyrics'] = df['Song Lyrics'].str.strip()\n",
    "\n",
    "    # removing newlines before regex makes it supremely easier to apply\n",
    "    if remove_newlines:\n",
    "        df['Song Lyrics'] = df['Song Lyrics'].str.replace('\\n', ' ')\n",
    "\n",
    "    # remove genius metadata\n",
    "    df['Song Lyrics'].replace({genius_regex: r'\\1'}, inplace=True, regex=True)\n",
    "\n",
    "    # leftover number removal\n",
    "    if number_removal_regex:\n",
    "        df['Song Lyrics'].replace({number_removal_regex: ''}, inplace=True, regex=True)\n",
    "     \n",
    "    df['Song Lyrics'] = df['Song Lyrics'].str.replace('(', '')\n",
    "    df['Song Lyrics'] = df['Song Lyrics'].str.replace(')', '')\n",
    "    df['Song Lyrics'] = df['Song Lyrics'].str.replace('-', '')\n",
    "\n",
    "    # remove single apostrophe for improved word counting / uniformity\n",
    "    df['Song Lyrics'] = df['Song Lyrics'].str.replace(\"'\", '')\n",
    "\n",
    "    if remove_question:\n",
    "        df['Song Lyrics'] = df['Song Lyrics'].str.replace('?', '')\n",
    "    \n",
    "    if remove_dollar:\n",
    "        df['Song Lyrics'] = df['Song Lyrics'].str.replace('$', '')\n",
    "\n",
    "    if remove_interp:\n",
    "        df['Song Lyrics'] = df['Song Lyrics'].str.replace(',', '')\n",
    "        df['Song Lyrics'] = df['Song Lyrics'].str.replace('.', '')\n",
    "        df['Song Lyrics'] = df['Song Lyrics'].str.replace('!', '')\n",
    "        df['Song Lyrics'] = df['Song Lyrics'].str.replace(':', '')\n",
    "        df['Song Lyrics'] = df['Song Lyrics'].str.replace(';', '')\n",
    "    \n",
    "    return df"
   ]
  },
  {
   "cell_type": "code",
   "execution_count": 6,
   "id": "a83beeac-a75f-45c4-89ea-a24f649e5b87",
   "metadata": {},
   "outputs": [],
   "source": [
    "dataframes_path = '../dataframes/genres'"
   ]
  },
  {
   "cell_type": "markdown",
   "id": "fa437684-7fea-4b78-aa13-76cd708ec34c",
   "metadata": {},
   "source": [
    "### Clean all genre (multiple) dataframes, save to new ones"
   ]
  },
  {
   "cell_type": "code",
   "execution_count": 19,
   "id": "95404f8a-ad8c-428d-870f-16bd004b2b7c",
   "metadata": {},
   "outputs": [],
   "source": [
    "for frame in os.listdir(dataframes_path):\n",
    "    if frame == '.ipynb_checkpoints':\n",
    "        continue\n",
    "    if frame.startswith('cleaned'):\n",
    "        continue\n",
    "    frame_path = f'{dataframes_path}/{frame}'\n",
    "    dataframe = pd.read_csv(frame_path, index_col=0)\n",
    "    \n",
    "    df = cleanup_genius_lyrics(dataframe, genius_regex_text, number_removal_regex)\n",
    "    df.to_csv(f'{dataframes_path}/cleaned_{frame}')"
   ]
  },
  {
   "cell_type": "markdown",
   "id": "c0fa34f9-ac67-4ff8-abdb-b8425aba42f2",
   "metadata": {},
   "source": [
    "### Or clean just a single df file"
   ]
  },
  {
   "cell_type": "code",
   "execution_count": 4,
   "id": "69e739fc-22f1-4d77-b014-2180e3460855",
   "metadata": {},
   "outputs": [],
   "source": [
    "combined_df = pd.read_csv('../decade_dataframes/decades/combined.csv', index_col=0)"
   ]
  },
  {
   "cell_type": "code",
   "execution_count": 7,
   "id": "824ff139-ee84-4973-a622-355efc979a95",
   "metadata": {},
   "outputs": [],
   "source": [
    "df = cleanup_genius_lyrics(combined_df, genius_regex_text, number_removal_regex)"
   ]
  },
  {
   "cell_type": "code",
   "execution_count": 8,
   "id": "c50ceb49-7f0c-43d6-a9b7-aeda04fb0be9",
   "metadata": {},
   "outputs": [],
   "source": [
    "df.to_csv(f'../decade_dataframes/cleaned_df.csv')"
   ]
  },
  {
   "cell_type": "markdown",
   "id": "780c5b68-0147-4623-bc6d-7a9ce3da14d9",
   "metadata": {},
   "source": [
    "### Moved to separate file: Combine genre files to one combined one"
   ]
  },
  {
   "cell_type": "code",
   "execution_count": 7,
   "id": "f96a8274-bd2a-4616-b706-be7e1a2096e1",
   "metadata": {},
   "outputs": [],
   "source": [
    "genres = ['pop', 'rock', 'rap', 'soul']"
   ]
  },
  {
   "cell_type": "code",
   "execution_count": 8,
   "id": "36036f88-d415-4ee0-aca9-ed475639baae",
   "metadata": {},
   "outputs": [],
   "source": [
    "combined_df = pd.DataFrame() \n",
    "\n",
    "# dirty\n",
    "for genre in genres:\n",
    "    df_path = f'{dataframes_path}/{genre}_10.csv'\n",
    "    df = pd.read_csv(df_path, index_col=0)\n",
    "    combined_df = pd.concat([combined_df, df], ignore_index=True)\n",
    "    combined_df.to_csv(f'{dataframes_path}/combined.csv')"
   ]
  },
  {
   "cell_type": "code",
   "execution_count": 10,
   "id": "ee92badb-9890-46a3-9118-4bf0dbcdf782",
   "metadata": {},
   "outputs": [],
   "source": [
    "combined_df = pd.DataFrame()\n",
    "\n",
    "# clean\n",
    "for genre in genres:\n",
    "    df_path = f'{dataframes_path}/cleaned_{genre}_10.csv'\n",
    "    df = pd.read_csv(df_path, index_col=0)\n",
    "    combined_df = pd.concat([combined_df, df], ignore_index=True)\n",
    "    combined_df.to_csv(f'{dataframes_path}/cleaned_combined.csv')"
   ]
  }
 ],
 "metadata": {
  "kernelspec": {
   "display_name": "data_venv",
   "language": "python",
   "name": "data_venv"
  },
  "language_info": {
   "codemirror_mode": {
    "name": "ipython",
    "version": 3
   },
   "file_extension": ".py",
   "mimetype": "text/x-python",
   "name": "python",
   "nbconvert_exporter": "python",
   "pygments_lexer": "ipython3",
   "version": "3.10.9"
  }
 },
 "nbformat": 4,
 "nbformat_minor": 5
}
