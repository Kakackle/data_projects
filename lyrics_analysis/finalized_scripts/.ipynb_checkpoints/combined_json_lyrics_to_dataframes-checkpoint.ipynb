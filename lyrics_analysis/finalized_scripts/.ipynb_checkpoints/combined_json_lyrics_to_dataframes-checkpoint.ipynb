{
 "cells": [
  {
   "cell_type": "code",
   "execution_count": 1,
   "id": "e84e9a59-12af-459f-af6a-ee95a059ed9b",
   "metadata": {},
   "outputs": [],
   "source": [
    "import json\n",
    "import re\n",
    "import os\n",
    "import pandas as pd"
   ]
  },
  {
   "cell_type": "code",
   "execution_count": 11,
   "id": "912d6677-9e45-4e61-8c3a-0d6aa0d4770d",
   "metadata": {},
   "outputs": [],
   "source": [
    "combined_path = '../lyrics/combined'\n",
    "dataframes_path = '../dataframes'"
   ]
  },
  {
   "cell_type": "code",
   "execution_count": 3,
   "id": "01397687-326b-4538-af63-4138367781c6",
   "metadata": {},
   "outputs": [
    {
     "data": {
      "text/plain": [
       "'C:\\\\Users\\\\User\\\\Desktop\\\\programowanie_web_etc\\\\python_projects\\\\data_projects\\\\lyrics_analysis\\\\finalized_scripts'"
      ]
     },
     "execution_count": 3,
     "metadata": {},
     "output_type": "execute_result"
    }
   ],
   "source": [
    "os.getcwd()"
   ]
  },
  {
   "cell_type": "code",
   "execution_count": 12,
   "id": "937c73e0-2e9f-4b6e-af26-5ff0c586aeeb",
   "metadata": {},
   "outputs": [],
   "source": [
    "def create_dataframes_from_combined(combined_path, dataframes_path):\n",
    "    \"\"\"\n",
    "    Parameters:\n",
    "    combined_path: str\n",
    "        path to json with combined lyrics json files, with artist as top level\n",
    "    dataframes_path: str\n",
    "        path to save the created genre dataframes\n",
    "    \"\"\"\n",
    "    for genre in os.listdir(combined_path):\n",
    "        if genre == '.ipynb_checkpoints':\n",
    "            continue\n",
    "        genre_path = f'{combined_path}/{genre}'\n",
    "        json_file = open(genre_path)\n",
    "        genre_obj = json.load(json_file)\n",
    "        json_file.close()\n",
    "\n",
    "        # select columns for the new dataframe from available data\n",
    "        # can be extended for more metadata information from genius\n",
    "        genre_df = pd.DataFrame(columns=['Artist', 'Song Title', 'Full Title',\n",
    "                                         'Release Date', 'Year', 'Month', 'Day',\n",
    "                                         'Pageviews', 'url', 'featured_count',\n",
    "                                         'producer_count', 'writer_count',\n",
    "                                         'Song Lyrics', 'Artist Image'])\n",
    "        \n",
    "        for artist in genre_obj:\n",
    "            artist_name = artist['name']\n",
    "            for song in artist['songs']:\n",
    "                release_date = song.get('release_date_components', None)\n",
    "                year = None\n",
    "                month = None\n",
    "                day = None\n",
    "                if release_date:\n",
    "                    year = release_date.get('year', None)\n",
    "                    month = release_date.get('month', None)\n",
    "                    day = release_date.get('day', None)\n",
    "                \n",
    "                stats = song['stats']\n",
    "                \n",
    "                if song.get('producer_artists'):\n",
    "                    producer_count = len(song.get('producer_artists'))\n",
    "                else:\n",
    "                    producer_count = 0\n",
    "\n",
    "                if song.get('writer_artists'):\n",
    "                    writer_count = len(song.get('writer_artists'))\n",
    "                else:\n",
    "                    writer_count = 0\n",
    "\n",
    "                if song.get('featured_artists'):\n",
    "                    featured_count = len(song.get('featured_artists'))\n",
    "                else:\n",
    "                    featured_count = 0\n",
    "                \n",
    "                new_row = {\n",
    "                    'Artist': artist_name,\n",
    "                    'Song Title': song['title'],\n",
    "                    'Full Title': song['full_title'],\n",
    "                    'Release Date': song['release_date'],\n",
    "                    'Year': year,\n",
    "                    'Month': month,\n",
    "                    'Day': day,\n",
    "                    'Pageviews': stats.get('pageviews', 0),\n",
    "                    'url': song['url'],\n",
    "                    'featured_count': featured_count,\n",
    "                    'producer_count': producer_count,\n",
    "                    'writer_count': writer_count,\n",
    "                    'Song Lyrics': song['lyrics'],\n",
    "                    'Artist Image': artist['image_url']\n",
    "                }\n",
    "                \n",
    "                genre_df = pd.concat([genre_df, pd.DataFrame([new_row])],\n",
    "                                    ignore_index=True)\n",
    "        genre_len = len(genre_obj)\n",
    "\n",
    "        genre_regex = re.compile(r'(\\w*)\\.json')\n",
    "\n",
    "        genre_name = genre_regex.findall(genre)[0]\n",
    "        \n",
    "        genre_df.to_csv(f'{dataframes_path}/{genre_name}_{genre_len}.csv')"
   ]
  },
  {
   "cell_type": "code",
   "execution_count": 14,
   "id": "0bc1b6bf-713e-4cf4-89b2-014d05d70fd5",
   "metadata": {},
   "outputs": [],
   "source": [
    "create_dataframes_from_combined(combined_path, dataframes_path)"
   ]
  }
 ],
 "metadata": {
  "kernelspec": {
   "display_name": "data_venv",
   "language": "python",
   "name": "data_venv"
  },
  "language_info": {
   "codemirror_mode": {
    "name": "ipython",
    "version": 3
   },
   "file_extension": ".py",
   "mimetype": "text/x-python",
   "name": "python",
   "nbconvert_exporter": "python",
   "pygments_lexer": "ipython3",
   "version": "3.10.9"
  }
 },
 "nbformat": 4,
 "nbformat_minor": 5
}
