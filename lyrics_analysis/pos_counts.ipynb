{
 "cells": [
  {
   "cell_type": "code",
   "execution_count": 1,
   "id": "7679060e-2e70-43a4-ae29-08953bb0822f",
   "metadata": {},
   "outputs": [],
   "source": [
    "from textblob import TextBlob\n",
    "import pandas as pd"
   ]
  },
  {
   "cell_type": "code",
   "execution_count": 2,
   "id": "b2387c14-c724-4c70-898f-7a6dde438091",
   "metadata": {},
   "outputs": [],
   "source": [
    "df_path = 'dataframes/with_counts/combined_count.csv'"
   ]
  },
  {
   "cell_type": "code",
   "execution_count": 3,
   "id": "163a1087-9742-4e6e-810e-76c6a13a1463",
   "metadata": {},
   "outputs": [],
   "source": [
    "df = pd.read_csv(df_path, index_col = 0)"
   ]
  },
  {
   "cell_type": "code",
   "execution_count": 4,
   "id": "c8858bfb-e1f6-4f65-b706-408a59e755d7",
   "metadata": {},
   "outputs": [],
   "source": [
    "sample_lyrics = df.sample(5)['Song Lyrics'].str.lower()"
   ]
  },
  {
   "cell_type": "code",
   "execution_count": 5,
   "id": "96cba9c5-00de-438b-a58e-53b0d8410d1c",
   "metadata": {},
   "outputs": [],
   "source": [
    "from collections import Counter"
   ]
  },
  {
   "cell_type": "code",
   "execution_count": 6,
   "id": "2a2b79aa-b8b1-4d4a-9e40-48935eddfffb",
   "metadata": {
    "scrolled": true
   },
   "outputs": [
    {
     "name": "stdout",
     "output_type": "stream",
     "text": [
      "[208, 188, 182, 180, 75, 62, 53, 37, 17, 14, 9, 9, 8, 7, 5, 5, 4, 4, 3, 3, 2, 2, 2, 2, 2, 1]\n",
      "[130, 42, 27, 24, 22, 17, 12, 11, 10, 10, 9, 8, 8, 8, 5, 5, 3, 3, 3, 3, 2, 2, 1, 1, 1]\n",
      "[81, 44, 39, 34, 34, 29, 26, 23, 22, 22, 19, 19, 13, 12, 10, 9, 7, 4, 3, 3, 2, 2, 2, 1]\n",
      "[115, 46, 40, 39, 38, 33, 31, 19, 15, 15, 15, 8, 6, 5, 3, 2, 2, 2, 1]\n",
      "[150, 76, 71, 59, 57, 44, 41, 40, 34, 25, 21, 16, 15, 12, 12, 11, 9, 3, 3, 2, 2, 2, 1]\n"
     ]
    }
   ],
   "source": [
    "for song in sample_lyrics:\n",
    "    blob = TextBlob(song)\n",
    "    tags = blob.tags\n",
    "    # print(tags)\n",
    "    tags_list = []\n",
    "    for tag in tags:\n",
    "        tags_list.append(tag[1])\n",
    "    tags_counter = Counter(tags_list)\n",
    "    common_tags = tags_counter.most_common()\n",
    "\n",
    "    common_words = [tag[0] for tag in common_tags]\n",
    "    common_counts = [tag[1] for tag in common_tags]\n",
    "    \n",
    "    print(common_counts)"
   ]
  },
  {
   "cell_type": "code",
   "execution_count": 7,
   "id": "dcae091f-88d2-4bd8-a563-823796b5c12c",
   "metadata": {},
   "outputs": [],
   "source": [
    "tag_cols = [\n",
    "'CC', 'CD', 'DT', 'EX', 'FW', 'IN', 'JJ', 'JJR', 'JJS', 'LS','MD',\n",
    "'NN','NNS','NNP','NNPS','PDT','POS','PRP','PRP$','RB','RBR','RBS',\n",
    "'RP','TO','UH','VB','VBD','VBG','VBN','VBP','VBZ','WDT','WP','WP$','WRB'\n",
    "]"
   ]
  },
  {
   "cell_type": "code",
   "execution_count": 8,
   "id": "90cfc136-3a93-4b2f-bb47-bebb58fca88f",
   "metadata": {},
   "outputs": [
    {
     "data": {
      "text/plain": [
       "35"
      ]
     },
     "execution_count": 8,
     "metadata": {},
     "output_type": "execute_result"
    }
   ],
   "source": [
    "len(tag_cols)"
   ]
  },
  {
   "cell_type": "markdown",
   "id": "0598f06c-36b2-45f1-84c5-23275a5f9be4",
   "metadata": {},
   "source": [
    "add column for each tag"
   ]
  },
  {
   "cell_type": "code",
   "execution_count": 9,
   "id": "7d004b25-66ab-45a1-8aa6-bbd94f0363c1",
   "metadata": {},
   "outputs": [],
   "source": [
    "for tag in tag_cols:\n",
    "    df[tag] = 0"
   ]
  },
  {
   "cell_type": "code",
   "execution_count": 10,
   "id": "73815049-b6b2-44f0-a615-a3e01376d022",
   "metadata": {},
   "outputs": [
    {
     "data": {
      "text/plain": [
       "Index(['Artist', 'Song Title', 'Full Title', 'Release Date', 'Year', 'Month',\n",
       "       'Day', 'Pageviews', 'url', 'featured_count', 'producer_count',\n",
       "       'writer_count', 'Song Lyrics', 'Artist Image', 'gender', 'genre',\n",
       "       'unique_words', 'total_words', 'manual_love_count',\n",
       "       'manual_money_count', 'manual_violence_count', 'manual_drugs_count',\n",
       "       'manual_gendered_count', 'manual_sadness_count', 'manual_joy_count',\n",
       "       'manual_yes_count', 'manual_no_count', 'manual_love_word_percent',\n",
       "       'manual_money_word_percent', 'manual_violence_word_percent',\n",
       "       'manual_drugs_word_percent', 'manual_gendered_word_percent',\n",
       "       'manual_sadness_word_percent', 'manual_joy_word_percent',\n",
       "       'manual_yes_word_percent', 'manual_no_word_percent', 'sentiment', 'CC',\n",
       "       'CD', 'DT', 'EX', 'FW', 'IN', 'JJ', 'JJR', 'JJS', 'LS', 'MD', 'NN',\n",
       "       'NNS', 'NNP', 'NNPS', 'PDT', 'POS', 'PRP', 'PRP$', 'RB', 'RBR', 'RBS',\n",
       "       'RP', 'TO', 'UH', 'VB', 'VBD', 'VBG', 'VBN', 'VBP', 'VBZ', 'WDT', 'WP',\n",
       "       'WP$', 'WRB'],\n",
       "      dtype='object')"
      ]
     },
     "execution_count": 10,
     "metadata": {},
     "output_type": "execute_result"
    }
   ],
   "source": [
    "df.columns"
   ]
  },
  {
   "cell_type": "markdown",
   "id": "4cb95492-1c6e-42d8-8cf6-69e8beac8f95",
   "metadata": {},
   "source": [
    "### add counts to df"
   ]
  },
  {
   "cell_type": "code",
   "execution_count": 11,
   "id": "43b4c2b3-bf71-4763-9b00-4e119ad1d89b",
   "metadata": {},
   "outputs": [],
   "source": [
    "for index in df.index:\n",
    "    song = df['Song Lyrics'][index]\n",
    "    blob = TextBlob(song)\n",
    "    tags = blob.tags\n",
    "    # print(tags)\n",
    "    tags_list = []\n",
    "    for tag in tags:\n",
    "        tags_list.append(tag[1])\n",
    "    tags_counter = Counter(tags_list)\n",
    "    common_tags = tags_counter.most_common()\n",
    "\n",
    "    common_words = [tag[0] for tag in common_tags]\n",
    "    common_counts = [tag[1] for tag in common_tags]\n",
    "\n",
    "    for tag_index, tag in enumerate(common_words):\n",
    "        df[tag] = common_counts[tag_index]\n",
    "    \n",
    "    # print(common_counts)"
   ]
  },
  {
   "cell_type": "code",
   "execution_count": 12,
   "id": "e29f7302-a0dc-428d-9de4-09ad56ea188c",
   "metadata": {},
   "outputs": [
    {
     "data": {
      "text/html": [
       "<div>\n",
       "<style scoped>\n",
       "    .dataframe tbody tr th:only-of-type {\n",
       "        vertical-align: middle;\n",
       "    }\n",
       "\n",
       "    .dataframe tbody tr th {\n",
       "        vertical-align: top;\n",
       "    }\n",
       "\n",
       "    .dataframe thead th {\n",
       "        text-align: right;\n",
       "    }\n",
       "</style>\n",
       "<table border=\"1\" class=\"dataframe\">\n",
       "  <thead>\n",
       "    <tr style=\"text-align: right;\">\n",
       "      <th></th>\n",
       "      <th>Artist</th>\n",
       "      <th>Song Title</th>\n",
       "      <th>Full Title</th>\n",
       "      <th>Release Date</th>\n",
       "      <th>Year</th>\n",
       "      <th>Month</th>\n",
       "      <th>Day</th>\n",
       "      <th>Pageviews</th>\n",
       "      <th>url</th>\n",
       "      <th>featured_count</th>\n",
       "      <th>...</th>\n",
       "      <th>VB</th>\n",
       "      <th>VBD</th>\n",
       "      <th>VBG</th>\n",
       "      <th>VBN</th>\n",
       "      <th>VBP</th>\n",
       "      <th>VBZ</th>\n",
       "      <th>WDT</th>\n",
       "      <th>WP</th>\n",
       "      <th>WP$</th>\n",
       "      <th>WRB</th>\n",
       "    </tr>\n",
       "  </thead>\n",
       "  <tbody>\n",
       "    <tr>\n",
       "      <th>758</th>\n",
       "      <td>Otis Redding</td>\n",
       "      <td>I Love You More Than Words Can Say</td>\n",
       "      <td>I Love You More Than Words Can Say by Otis Red...</td>\n",
       "      <td>1968-02-23</td>\n",
       "      <td>1968.0</td>\n",
       "      <td>2.0</td>\n",
       "      <td>23.0</td>\n",
       "      <td>6156</td>\n",
       "      <td>https://genius.com/Otis-redding-i-love-you-mor...</td>\n",
       "      <td>0</td>\n",
       "      <td>...</td>\n",
       "      <td>33</td>\n",
       "      <td>5</td>\n",
       "      <td>5</td>\n",
       "      <td>4</td>\n",
       "      <td>26</td>\n",
       "      <td>14</td>\n",
       "      <td>1</td>\n",
       "      <td>1</td>\n",
       "      <td>1</td>\n",
       "      <td>1</td>\n",
       "    </tr>\n",
       "    <tr>\n",
       "      <th>574</th>\n",
       "      <td>The Strokes</td>\n",
       "      <td>Brooklyn Bridge to Chorus</td>\n",
       "      <td>Brooklyn Bridge to Chorus by The Strokes</td>\n",
       "      <td>2020-04-10</td>\n",
       "      <td>2020.0</td>\n",
       "      <td>4.0</td>\n",
       "      <td>10.0</td>\n",
       "      <td>203058</td>\n",
       "      <td>https://genius.com/The-strokes-brooklyn-bridge...</td>\n",
       "      <td>0</td>\n",
       "      <td>...</td>\n",
       "      <td>33</td>\n",
       "      <td>5</td>\n",
       "      <td>5</td>\n",
       "      <td>4</td>\n",
       "      <td>26</td>\n",
       "      <td>14</td>\n",
       "      <td>1</td>\n",
       "      <td>1</td>\n",
       "      <td>1</td>\n",
       "      <td>1</td>\n",
       "    </tr>\n",
       "    <tr>\n",
       "      <th>403</th>\n",
       "      <td>Black Sabbath</td>\n",
       "      <td>N.I.B.</td>\n",
       "      <td>N.I.B. by Black Sabbath</td>\n",
       "      <td>1970-02-13</td>\n",
       "      <td>1970.0</td>\n",
       "      <td>2.0</td>\n",
       "      <td>13.0</td>\n",
       "      <td>206571</td>\n",
       "      <td>https://genius.com/Black-sabbath-nib-lyrics</td>\n",
       "      <td>0</td>\n",
       "      <td>...</td>\n",
       "      <td>33</td>\n",
       "      <td>5</td>\n",
       "      <td>5</td>\n",
       "      <td>4</td>\n",
       "      <td>26</td>\n",
       "      <td>14</td>\n",
       "      <td>1</td>\n",
       "      <td>1</td>\n",
       "      <td>1</td>\n",
       "      <td>1</td>\n",
       "    </tr>\n",
       "    <tr>\n",
       "      <th>680</th>\n",
       "      <td>Marvin Gaye</td>\n",
       "      <td>What’s Going On</td>\n",
       "      <td>What's Going On by Marvin Gaye</td>\n",
       "      <td>1971-01-17</td>\n",
       "      <td>1971.0</td>\n",
       "      <td>1.0</td>\n",
       "      <td>17.0</td>\n",
       "      <td>638644</td>\n",
       "      <td>https://genius.com/Marvin-gaye-whats-going-on-...</td>\n",
       "      <td>0</td>\n",
       "      <td>...</td>\n",
       "      <td>33</td>\n",
       "      <td>5</td>\n",
       "      <td>5</td>\n",
       "      <td>4</td>\n",
       "      <td>26</td>\n",
       "      <td>14</td>\n",
       "      <td>1</td>\n",
       "      <td>1</td>\n",
       "      <td>1</td>\n",
       "      <td>1</td>\n",
       "    </tr>\n",
       "    <tr>\n",
       "      <th>762</th>\n",
       "      <td>Sam Cooke</td>\n",
       "      <td>Bring It on Home to Me</td>\n",
       "      <td>Bring It on Home to Me by Sam Cooke</td>\n",
       "      <td>NaN</td>\n",
       "      <td>1962.0</td>\n",
       "      <td>4.0</td>\n",
       "      <td>NaN</td>\n",
       "      <td>96472</td>\n",
       "      <td>https://genius.com/Sam-cooke-bring-it-on-home-...</td>\n",
       "      <td>0</td>\n",
       "      <td>...</td>\n",
       "      <td>33</td>\n",
       "      <td>5</td>\n",
       "      <td>5</td>\n",
       "      <td>4</td>\n",
       "      <td>26</td>\n",
       "      <td>14</td>\n",
       "      <td>1</td>\n",
       "      <td>1</td>\n",
       "      <td>1</td>\n",
       "      <td>1</td>\n",
       "    </tr>\n",
       "  </tbody>\n",
       "</table>\n",
       "<p>5 rows × 72 columns</p>\n",
       "</div>"
      ],
      "text/plain": [
       "            Artist                          Song Title  \\\n",
       "758   Otis Redding  I Love You More Than Words Can Say   \n",
       "574    The Strokes           Brooklyn Bridge to Chorus   \n",
       "403  Black Sabbath                              N.I.B.   \n",
       "680    Marvin Gaye                     What’s Going On   \n",
       "762      Sam Cooke              Bring It on Home to Me   \n",
       "\n",
       "                                            Full Title Release Date    Year  \\\n",
       "758  I Love You More Than Words Can Say by Otis Red...   1968-02-23  1968.0   \n",
       "574           Brooklyn Bridge to Chorus by The Strokes   2020-04-10  2020.0   \n",
       "403                            N.I.B. by Black Sabbath   1970-02-13  1970.0   \n",
       "680                     What's Going On by Marvin Gaye   1971-01-17  1971.0   \n",
       "762                Bring It on Home to Me by Sam Cooke          NaN  1962.0   \n",
       "\n",
       "     Month   Day  Pageviews  \\\n",
       "758    2.0  23.0       6156   \n",
       "574    4.0  10.0     203058   \n",
       "403    2.0  13.0     206571   \n",
       "680    1.0  17.0     638644   \n",
       "762    4.0   NaN      96472   \n",
       "\n",
       "                                                   url  featured_count  ...  \\\n",
       "758  https://genius.com/Otis-redding-i-love-you-mor...               0  ...   \n",
       "574  https://genius.com/The-strokes-brooklyn-bridge...               0  ...   \n",
       "403        https://genius.com/Black-sabbath-nib-lyrics               0  ...   \n",
       "680  https://genius.com/Marvin-gaye-whats-going-on-...               0  ...   \n",
       "762  https://genius.com/Sam-cooke-bring-it-on-home-...               0  ...   \n",
       "\n",
       "     VB  VBD VBG VBN VBP VBZ  WDT  WP  WP$  WRB  \n",
       "758  33    5   5   4  26  14    1   1    1    1  \n",
       "574  33    5   5   4  26  14    1   1    1    1  \n",
       "403  33    5   5   4  26  14    1   1    1    1  \n",
       "680  33    5   5   4  26  14    1   1    1    1  \n",
       "762  33    5   5   4  26  14    1   1    1    1  \n",
       "\n",
       "[5 rows x 72 columns]"
      ]
     },
     "execution_count": 12,
     "metadata": {},
     "output_type": "execute_result"
    }
   ],
   "source": [
    "df.sample(5)"
   ]
  },
  {
   "cell_type": "code",
   "execution_count": 13,
   "id": "dd398de4-3a29-4311-ad56-a80754911550",
   "metadata": {},
   "outputs": [],
   "source": [
    "df.to_csv(df_path)"
   ]
  },
  {
   "cell_type": "code",
   "execution_count": null,
   "id": "5014bf10-194d-422a-8e40-92c9652ec4d3",
   "metadata": {},
   "outputs": [],
   "source": []
  },
  {
   "cell_type": "markdown",
   "id": "32a1c0f7-0a17-4307-b696-d1108469e485",
   "metadata": {},
   "source": [
    "tags reference:```\n",
    "```"
   ]
  }
 ],
 "metadata": {
  "kernelspec": {
   "display_name": "data_venv",
   "language": "python",
   "name": "data_venv"
  },
  "language_info": {
   "codemirror_mode": {
    "name": "ipython",
    "version": 3
   },
   "file_extension": ".py",
   "mimetype": "text/x-python",
   "name": "python",
   "nbconvert_exporter": "python",
   "pygments_lexer": "ipython3",
   "version": "3.10.9"
  }
 },
 "nbformat": 4,
 "nbformat_minor": 5
}
