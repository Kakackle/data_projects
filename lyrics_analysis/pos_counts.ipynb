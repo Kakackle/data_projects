{
 "cells": [
  {
   "cell_type": "code",
   "execution_count": 1,
   "id": "7679060e-2e70-43a4-ae29-08953bb0822f",
   "metadata": {},
   "outputs": [],
   "source": [
    "from textblob import TextBlob\n",
    "import pandas as pd"
   ]
  },
  {
   "cell_type": "code",
   "execution_count": 2,
   "id": "b2387c14-c724-4c70-898f-7a6dde438091",
   "metadata": {},
   "outputs": [],
   "source": [
    "df_path = 'dataframes/with_counts/combined_count.csv'"
   ]
  },
  {
   "cell_type": "code",
   "execution_count": 3,
   "id": "163a1087-9742-4e6e-810e-76c6a13a1463",
   "metadata": {},
   "outputs": [],
   "source": [
    "df = pd.read_csv(df_path, index_col = 0)"
   ]
  },
  {
   "cell_type": "code",
   "execution_count": 4,
   "id": "c8858bfb-e1f6-4f65-b706-408a59e755d7",
   "metadata": {},
   "outputs": [],
   "source": [
    "sample_lyrics = df.sample(5)['Song Lyrics'].str.lower()"
   ]
  },
  {
   "cell_type": "code",
   "execution_count": 8,
   "id": "96cba9c5-00de-438b-a58e-53b0d8410d1c",
   "metadata": {},
   "outputs": [],
   "source": [
    "from collections import Counter"
   ]
  },
  {
   "cell_type": "code",
   "execution_count": 11,
   "id": "2a2b79aa-b8b1-4d4a-9e40-48935eddfffb",
   "metadata": {
    "scrolled": true
   },
   "outputs": [
    {
     "name": "stdout",
     "output_type": "stream",
     "text": [
      "[15, 14, 14, 14, 13, 12, 11, 11, 9, 8, 7, 7, 6, 2, 2, 2, 2, 1, 1, 1, 1, 1]\n",
      "[107, 38, 35, 31, 30, 28, 23, 20, 17, 14, 12, 10, 8, 6, 5, 4, 4, 3, 3, 3, 2, 1, 1, 1]\n",
      "[137, 75, 69, 61, 58, 33, 33, 31, 30, 20, 13, 13, 12, 9, 8, 6, 4, 3, 3, 2, 2, 1, 1]\n",
      "[46, 33, 28, 23, 20, 20, 16, 16, 13, 12, 9, 8, 8, 7, 4, 2, 2, 1, 1, 1, 1]\n",
      "[32, 26, 22, 21, 19, 18, 17, 11, 11, 9, 8, 8, 5, 5, 5, 3, 3, 3, 1, 1]\n"
     ]
    }
   ],
   "source": [
    "for song in sample_lyrics:\n",
    "    blob = TextBlob(song)\n",
    "    tags = blob.tags\n",
    "    # print(tags)\n",
    "    tags_list = []\n",
    "    for tag in tags:\n",
    "        tags_list.append(tag[1])\n",
    "    tags_counter = Counter(tags_list)\n",
    "    common_tags = tags_counter.most_common()\n",
    "\n",
    "    common_words = [tag[0] for tag in common_tags]\n",
    "    common_counts = [tag[1] for tag in common_tags]\n",
    "    \n",
    "    print(common_counts)"
   ]
  },
  {
   "cell_type": "code",
   "execution_count": 15,
   "id": "dcae091f-88d2-4bd8-a563-823796b5c12c",
   "metadata": {},
   "outputs": [],
   "source": [
    "tag_cols = [\n",
    "'CC', 'CD', 'DT', 'EX', 'FW', 'IN', 'JJ', 'JJR', 'JJS', 'LS','MD',\n",
    "'NN','NNS','NNP','NNPS','PDT','POS','PRP','PRP$','RB','RBR','RBS',\n",
    "'RP','TO','UH','VB','VBD','VBG','VBN','VBP','VBZ','WDT','WP','WP$','WRB'\n",
    "]"
   ]
  },
  {
   "cell_type": "code",
   "execution_count": 16,
   "id": "90cfc136-3a93-4b2f-bb47-bebb58fca88f",
   "metadata": {},
   "outputs": [
    {
     "data": {
      "text/plain": [
       "35"
      ]
     },
     "execution_count": 16,
     "metadata": {},
     "output_type": "execute_result"
    }
   ],
   "source": [
    "len(tag_cols)"
   ]
  },
  {
   "cell_type": "markdown",
   "id": "0598f06c-36b2-45f1-84c5-23275a5f9be4",
   "metadata": {},
   "source": [
    "add column for each tag"
   ]
  },
  {
   "cell_type": "code",
   "execution_count": 17,
   "id": "7d004b25-66ab-45a1-8aa6-bbd94f0363c1",
   "metadata": {},
   "outputs": [],
   "source": [
    "for tag in tag_cols:\n",
    "    df[tag] = 0"
   ]
  },
  {
   "cell_type": "code",
   "execution_count": 18,
   "id": "73815049-b6b2-44f0-a615-a3e01376d022",
   "metadata": {},
   "outputs": [
    {
     "data": {
      "text/plain": [
       "Index(['Artist', 'Song Title', 'Full Title', 'Release Date', 'Year', 'Month',\n",
       "       'Day', 'Pageviews', 'url', 'featured_count', 'producer_count',\n",
       "       'writer_count', 'Song Lyrics', 'Artist Image', 'gender', 'unique_words',\n",
       "       'total_words', 'manual_love_count', 'manual_money_count',\n",
       "       'manual_violence_count', 'manual_drugs_count', 'manual_gendered_count',\n",
       "       'manual_sadness_count', 'manual_joy_count', 'manual_yes_count',\n",
       "       'manual_no_count', 'manual_love_word_percent',\n",
       "       'manual_money_word_percent', 'manual_violence_word_percent',\n",
       "       'manual_drugs_word_percent', 'manual_gendered_word_percent',\n",
       "       'manual_sadness_word_percent', 'manual_joy_word_percent',\n",
       "       'manual_yes_word_percent', 'manual_no_word_percent', 'sentiment', 'CC',\n",
       "       'CD', 'DT', 'EX', 'FW', 'IN', 'JJ', 'JJR', 'JJS', 'LS', 'MD', 'NN',\n",
       "       'NNS', 'NNP', 'NNPS', 'PDT', 'POS', 'PRP', 'PRP$', 'RB', 'RBR', 'RBS',\n",
       "       'RP', 'TO', 'UH', 'VB', 'VBD', 'VBG', 'VBN', 'VBP', 'VBZ', 'WDT', 'WP',\n",
       "       'WP$', 'WRB'],\n",
       "      dtype='object')"
      ]
     },
     "execution_count": 18,
     "metadata": {},
     "output_type": "execute_result"
    }
   ],
   "source": [
    "df.columns"
   ]
  },
  {
   "cell_type": "markdown",
   "id": "4cb95492-1c6e-42d8-8cf6-69e8beac8f95",
   "metadata": {},
   "source": [
    "### add counts to df"
   ]
  },
  {
   "cell_type": "code",
   "execution_count": 19,
   "id": "43b4c2b3-bf71-4763-9b00-4e119ad1d89b",
   "metadata": {},
   "outputs": [],
   "source": [
    "for index in df.index:\n",
    "    song = df['Song Lyrics'][index]\n",
    "    blob = TextBlob(song)\n",
    "    tags = blob.tags\n",
    "    # print(tags)\n",
    "    tags_list = []\n",
    "    for tag in tags:\n",
    "        tags_list.append(tag[1])\n",
    "    tags_counter = Counter(tags_list)\n",
    "    common_tags = tags_counter.most_common()\n",
    "\n",
    "    common_words = [tag[0] for tag in common_tags]\n",
    "    common_counts = [tag[1] for tag in common_tags]\n",
    "\n",
    "    for tag_index, tag in enumerate(common_words):\n",
    "        df[tag] = common_counts[tag_index]\n",
    "    \n",
    "    # print(common_counts)"
   ]
  },
  {
   "cell_type": "code",
   "execution_count": 20,
   "id": "e29f7302-a0dc-428d-9de4-09ad56ea188c",
   "metadata": {},
   "outputs": [
    {
     "data": {
      "text/html": [
       "<div>\n",
       "<style scoped>\n",
       "    .dataframe tbody tr th:only-of-type {\n",
       "        vertical-align: middle;\n",
       "    }\n",
       "\n",
       "    .dataframe tbody tr th {\n",
       "        vertical-align: top;\n",
       "    }\n",
       "\n",
       "    .dataframe thead th {\n",
       "        text-align: right;\n",
       "    }\n",
       "</style>\n",
       "<table border=\"1\" class=\"dataframe\">\n",
       "  <thead>\n",
       "    <tr style=\"text-align: right;\">\n",
       "      <th></th>\n",
       "      <th>Artist</th>\n",
       "      <th>Song Title</th>\n",
       "      <th>Full Title</th>\n",
       "      <th>Release Date</th>\n",
       "      <th>Year</th>\n",
       "      <th>Month</th>\n",
       "      <th>Day</th>\n",
       "      <th>Pageviews</th>\n",
       "      <th>url</th>\n",
       "      <th>featured_count</th>\n",
       "      <th>...</th>\n",
       "      <th>VB</th>\n",
       "      <th>VBD</th>\n",
       "      <th>VBG</th>\n",
       "      <th>VBN</th>\n",
       "      <th>VBP</th>\n",
       "      <th>VBZ</th>\n",
       "      <th>WDT</th>\n",
       "      <th>WP</th>\n",
       "      <th>WP$</th>\n",
       "      <th>WRB</th>\n",
       "    </tr>\n",
       "  </thead>\n",
       "  <tbody>\n",
       "    <tr>\n",
       "      <th>315</th>\n",
       "      <td>Kanye West</td>\n",
       "      <td>Gold Digger</td>\n",
       "      <td>Gold Digger by Kanye West (Ft. Jamie Foxx)</td>\n",
       "      <td>2005-07-05</td>\n",
       "      <td>2005.0</td>\n",
       "      <td>7.0</td>\n",
       "      <td>5.0</td>\n",
       "      <td>2261162</td>\n",
       "      <td>https://genius.com/Kanye-west-gold-digger-lyrics</td>\n",
       "      <td>1</td>\n",
       "      <td>...</td>\n",
       "      <td>33</td>\n",
       "      <td>5</td>\n",
       "      <td>5</td>\n",
       "      <td>4</td>\n",
       "      <td>26</td>\n",
       "      <td>14</td>\n",
       "      <td>1</td>\n",
       "      <td>1</td>\n",
       "      <td>1</td>\n",
       "      <td>1</td>\n",
       "    </tr>\n",
       "    <tr>\n",
       "      <th>477</th>\n",
       "      <td>Fugazi</td>\n",
       "      <td>Do You Like Me</td>\n",
       "      <td>Do You Like Me by Fugazi</td>\n",
       "      <td>1995-06-12</td>\n",
       "      <td>1995.0</td>\n",
       "      <td>6.0</td>\n",
       "      <td>12.0</td>\n",
       "      <td>9888</td>\n",
       "      <td>https://genius.com/Fugazi-do-you-like-me-lyrics</td>\n",
       "      <td>0</td>\n",
       "      <td>...</td>\n",
       "      <td>33</td>\n",
       "      <td>5</td>\n",
       "      <td>5</td>\n",
       "      <td>4</td>\n",
       "      <td>26</td>\n",
       "      <td>14</td>\n",
       "      <td>1</td>\n",
       "      <td>1</td>\n",
       "      <td>1</td>\n",
       "      <td>1</td>\n",
       "    </tr>\n",
       "    <tr>\n",
       "      <th>797</th>\n",
       "      <td>Stevie Wonder</td>\n",
       "      <td>My Cherie Amour</td>\n",
       "      <td>My Cherie Amour by Stevie Wonder</td>\n",
       "      <td>1969-01-28</td>\n",
       "      <td>1969.0</td>\n",
       "      <td>1.0</td>\n",
       "      <td>28.0</td>\n",
       "      <td>86077</td>\n",
       "      <td>https://genius.com/Stevie-wonder-my-cherie-amo...</td>\n",
       "      <td>0</td>\n",
       "      <td>...</td>\n",
       "      <td>33</td>\n",
       "      <td>5</td>\n",
       "      <td>5</td>\n",
       "      <td>4</td>\n",
       "      <td>26</td>\n",
       "      <td>14</td>\n",
       "      <td>1</td>\n",
       "      <td>1</td>\n",
       "      <td>1</td>\n",
       "      <td>1</td>\n",
       "    </tr>\n",
       "    <tr>\n",
       "      <th>250</th>\n",
       "      <td>Eminem</td>\n",
       "      <td>Mockingbird</td>\n",
       "      <td>Mockingbird by Eminem</td>\n",
       "      <td>2004-11-12</td>\n",
       "      <td>2004.0</td>\n",
       "      <td>11.0</td>\n",
       "      <td>12.0</td>\n",
       "      <td>4246222</td>\n",
       "      <td>https://genius.com/Eminem-mockingbird-lyrics</td>\n",
       "      <td>0</td>\n",
       "      <td>...</td>\n",
       "      <td>33</td>\n",
       "      <td>5</td>\n",
       "      <td>5</td>\n",
       "      <td>4</td>\n",
       "      <td>26</td>\n",
       "      <td>14</td>\n",
       "      <td>1</td>\n",
       "      <td>1</td>\n",
       "      <td>1</td>\n",
       "      <td>1</td>\n",
       "    </tr>\n",
       "    <tr>\n",
       "      <th>624</th>\n",
       "      <td>Aretha Franklin</td>\n",
       "      <td>Chain of Fools</td>\n",
       "      <td>Chain of Fools by Aretha Franklin</td>\n",
       "      <td>1967-11-22</td>\n",
       "      <td>1967.0</td>\n",
       "      <td>11.0</td>\n",
       "      <td>22.0</td>\n",
       "      <td>56882</td>\n",
       "      <td>https://genius.com/Aretha-franklin-chain-of-fo...</td>\n",
       "      <td>0</td>\n",
       "      <td>...</td>\n",
       "      <td>33</td>\n",
       "      <td>5</td>\n",
       "      <td>5</td>\n",
       "      <td>4</td>\n",
       "      <td>26</td>\n",
       "      <td>14</td>\n",
       "      <td>1</td>\n",
       "      <td>1</td>\n",
       "      <td>1</td>\n",
       "      <td>1</td>\n",
       "    </tr>\n",
       "  </tbody>\n",
       "</table>\n",
       "<p>5 rows × 71 columns</p>\n",
       "</div>"
      ],
      "text/plain": [
       "              Artist       Song Title  \\\n",
       "315       Kanye West      Gold Digger   \n",
       "477           Fugazi   Do You Like Me   \n",
       "797    Stevie Wonder  My Cherie Amour   \n",
       "250           Eminem      Mockingbird   \n",
       "624  Aretha Franklin   Chain of Fools   \n",
       "\n",
       "                                     Full Title Release Date    Year  Month  \\\n",
       "315  Gold Digger by Kanye West (Ft. Jamie Foxx)   2005-07-05  2005.0    7.0   \n",
       "477                    Do You Like Me by Fugazi   1995-06-12  1995.0    6.0   \n",
       "797            My Cherie Amour by Stevie Wonder   1969-01-28  1969.0    1.0   \n",
       "250                       Mockingbird by Eminem   2004-11-12  2004.0   11.0   \n",
       "624           Chain of Fools by Aretha Franklin   1967-11-22  1967.0   11.0   \n",
       "\n",
       "      Day  Pageviews                                                url  \\\n",
       "315   5.0    2261162   https://genius.com/Kanye-west-gold-digger-lyrics   \n",
       "477  12.0       9888    https://genius.com/Fugazi-do-you-like-me-lyrics   \n",
       "797  28.0      86077  https://genius.com/Stevie-wonder-my-cherie-amo...   \n",
       "250  12.0    4246222       https://genius.com/Eminem-mockingbird-lyrics   \n",
       "624  22.0      56882  https://genius.com/Aretha-franklin-chain-of-fo...   \n",
       "\n",
       "     featured_count  ...  VB  VBD VBG VBN VBP  VBZ  WDT  WP  WP$  WRB  \n",
       "315               1  ...  33    5   5   4  26   14    1   1    1    1  \n",
       "477               0  ...  33    5   5   4  26   14    1   1    1    1  \n",
       "797               0  ...  33    5   5   4  26   14    1   1    1    1  \n",
       "250               0  ...  33    5   5   4  26   14    1   1    1    1  \n",
       "624               0  ...  33    5   5   4  26   14    1   1    1    1  \n",
       "\n",
       "[5 rows x 71 columns]"
      ]
     },
     "execution_count": 20,
     "metadata": {},
     "output_type": "execute_result"
    }
   ],
   "source": [
    "df.sample(5)"
   ]
  },
  {
   "cell_type": "code",
   "execution_count": 21,
   "id": "dd398de4-3a29-4311-ad56-a80754911550",
   "metadata": {},
   "outputs": [],
   "source": [
    "df.to_csv(df_path)"
   ]
  },
  {
   "cell_type": "code",
   "execution_count": null,
   "id": "5014bf10-194d-422a-8e40-92c9652ec4d3",
   "metadata": {},
   "outputs": [],
   "source": []
  },
  {
   "cell_type": "markdown",
   "id": "32a1c0f7-0a17-4307-b696-d1108469e485",
   "metadata": {},
   "source": [
    "tags reference:```\n",
    "```"
   ]
  }
 ],
 "metadata": {
  "kernelspec": {
   "display_name": "data_venv",
   "language": "python",
   "name": "data_venv"
  },
  "language_info": {
   "codemirror_mode": {
    "name": "ipython",
    "version": 3
   },
   "file_extension": ".py",
   "mimetype": "text/x-python",
   "name": "python",
   "nbconvert_exporter": "python",
   "pygments_lexer": "ipython3",
   "version": "3.10.9"
  }
 },
 "nbformat": 4,
 "nbformat_minor": 5
}
