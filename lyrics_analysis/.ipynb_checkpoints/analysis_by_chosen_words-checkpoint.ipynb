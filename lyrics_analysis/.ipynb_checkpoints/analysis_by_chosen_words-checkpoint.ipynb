{
 "cells": [
  {
   "cell_type": "markdown",
   "id": "38a35b63-d1b5-4d4f-9239-d8989a1d8f5c",
   "metadata": {},
   "source": [
    "Analyzing saved lyrics dataframes by counting occurences of words of topcis within songs within genres\n",
    "\n",
    "Then sum the occurences for each artist and for each genre\n",
    "\n",
    "Then use bar plots to visualize the differences\n",
    "\n",
    "Only uses genre, artists and lyrics here"
   ]
  },
  {
   "cell_type": "code",
   "execution_count": 2,
   "id": "fe5b399a-6721-402a-b9e3-4634805486b8",
   "metadata": {},
   "outputs": [],
   "source": [
    "import pandas as pd\n",
    "import re\n",
    "import os\n",
    "import plotly\n",
    "import plotly.express as px"
   ]
  },
  {
   "cell_type": "code",
   "execution_count": 3,
   "id": "d753b65e-5f9b-4769-b371-8e222e50f474",
   "metadata": {},
   "outputs": [],
   "source": [
    "genre = 'pop'"
   ]
  },
  {
   "cell_type": "code",
   "execution_count": 4,
   "id": "0d04fc73-d20a-49ef-80c2-0bda7b4c7066",
   "metadata": {},
   "outputs": [],
   "source": [
    "df_path = f'dataframes/cleaned_{genre}_10.csv'"
   ]
  },
  {
   "cell_type": "code",
   "execution_count": 5,
   "id": "dc3143e7-6149-428e-9e44-1dd259d3272a",
   "metadata": {},
   "outputs": [],
   "source": [
    "df = pd.read_csv(df_path, index_col=0)"
   ]
  },
  {
   "cell_type": "code",
   "execution_count": 6,
   "id": "7470d4df-4308-45d1-89ae-67e18b73f733",
   "metadata": {},
   "outputs": [
    {
     "data": {
      "text/html": [
       "<div>\n",
       "<style scoped>\n",
       "    .dataframe tbody tr th:only-of-type {\n",
       "        vertical-align: middle;\n",
       "    }\n",
       "\n",
       "    .dataframe tbody tr th {\n",
       "        vertical-align: top;\n",
       "    }\n",
       "\n",
       "    .dataframe thead th {\n",
       "        text-align: right;\n",
       "    }\n",
       "</style>\n",
       "<table border=\"1\" class=\"dataframe\">\n",
       "  <thead>\n",
       "    <tr style=\"text-align: right;\">\n",
       "      <th></th>\n",
       "      <th>Artist</th>\n",
       "      <th>Song Title</th>\n",
       "      <th>Full Title</th>\n",
       "      <th>Release Date</th>\n",
       "      <th>Year</th>\n",
       "      <th>Month</th>\n",
       "      <th>Day</th>\n",
       "      <th>Pageviews</th>\n",
       "      <th>url</th>\n",
       "      <th>featured_count</th>\n",
       "      <th>producer_count</th>\n",
       "      <th>writer_count</th>\n",
       "      <th>Song Lyrics</th>\n",
       "      <th>Artist Image</th>\n",
       "    </tr>\n",
       "  </thead>\n",
       "  <tbody>\n",
       "    <tr>\n",
       "      <th>116</th>\n",
       "      <td>Dua Lipa</td>\n",
       "      <td>Genesis</td>\n",
       "      <td>Genesis by Dua Lipa</td>\n",
       "      <td>2017-06-02</td>\n",
       "      <td>2017.0</td>\n",
       "      <td>6.0</td>\n",
       "      <td>2.0</td>\n",
       "      <td>215182</td>\n",
       "      <td>https://genius.com/Dua-lipa-genesis-lyrics</td>\n",
       "      <td>0</td>\n",
       "      <td>4</td>\n",
       "      <td>6</td>\n",
       "      <td>in the beginning god created heaven and earth ...</td>\n",
       "      <td>https://images.genius.com/6dd7902577d2e9ac6096...</td>\n",
       "    </tr>\n",
       "    <tr>\n",
       "      <th>127</th>\n",
       "      <td>Madonna</td>\n",
       "      <td>Bitch I’m Madonna</td>\n",
       "      <td>Bitch I'm Madonna by Madonna (Ft. Nicki Minaj)</td>\n",
       "      <td>2015-06-15</td>\n",
       "      <td>2015.0</td>\n",
       "      <td>6.0</td>\n",
       "      <td>15.0</td>\n",
       "      <td>123119</td>\n",
       "      <td>https://genius.com/Madonna-bitch-im-madonna-ly...</td>\n",
       "      <td>1</td>\n",
       "      <td>2</td>\n",
       "      <td>7</td>\n",
       "      <td>oohoohoohoohooh oohoohoohoohooh love this you'...</td>\n",
       "      <td>https://images.genius.com/b34e29b946e7b5893d8c...</td>\n",
       "    </tr>\n",
       "    <tr>\n",
       "      <th>183</th>\n",
       "      <td>Taylor Swift</td>\n",
       "      <td>Lover</td>\n",
       "      <td>Lover by Taylor Swift</td>\n",
       "      <td>2019-08-16</td>\n",
       "      <td>2019.0</td>\n",
       "      <td>8.0</td>\n",
       "      <td>16.0</td>\n",
       "      <td>2466432</td>\n",
       "      <td>https://genius.com/Taylor-swift-lover-lyrics</td>\n",
       "      <td>0</td>\n",
       "      <td>2</td>\n",
       "      <td>1</td>\n",
       "      <td>we could leave the christmas lights up 'til ja...</td>\n",
       "      <td>https://images.genius.com/e57a74fef86ec2fd253a...</td>\n",
       "    </tr>\n",
       "    <tr>\n",
       "      <th>57</th>\n",
       "      <td>Britney Spears</td>\n",
       "      <td>Man On The Moon</td>\n",
       "      <td>Man On The Moon by Britney Spears</td>\n",
       "      <td>2016-08-26</td>\n",
       "      <td>2016.0</td>\n",
       "      <td>8.0</td>\n",
       "      <td>26.0</td>\n",
       "      <td>60204</td>\n",
       "      <td>https://genius.com/Britney-spears-man-on-the-m...</td>\n",
       "      <td>0</td>\n",
       "      <td>1</td>\n",
       "      <td>5</td>\n",
       "      <td>64 contributorsman on the moon lyrics dark mas...</td>\n",
       "      <td>https://images.genius.com/da43b98169ffc7cfff48...</td>\n",
       "    </tr>\n",
       "    <tr>\n",
       "      <th>128</th>\n",
       "      <td>Madonna</td>\n",
       "      <td>Papa Don’t Preach</td>\n",
       "      <td>Papa Don't Preach by Madonna</td>\n",
       "      <td>1986-06-11</td>\n",
       "      <td>1986.0</td>\n",
       "      <td>6.0</td>\n",
       "      <td>11.0</td>\n",
       "      <td>99193</td>\n",
       "      <td>https://genius.com/Madonna-papa-dont-preach-ly...</td>\n",
       "      <td>0</td>\n",
       "      <td>2</td>\n",
       "      <td>2</td>\n",
       "      <td>papa i know you're going to be upset 'cause i ...</td>\n",
       "      <td>https://images.genius.com/b34e29b946e7b5893d8c...</td>\n",
       "    </tr>\n",
       "  </tbody>\n",
       "</table>\n",
       "</div>"
      ],
      "text/plain": [
       "             Artist         Song Title  \\\n",
       "116        Dua Lipa            Genesis   \n",
       "127         Madonna  Bitch I’m Madonna   \n",
       "183    Taylor Swift              Lover   \n",
       "57   Britney Spears    Man On The Moon   \n",
       "128         Madonna  Papa Don’t Preach   \n",
       "\n",
       "                                         Full Title Release Date    Year  \\\n",
       "116                             Genesis by Dua Lipa   2017-06-02  2017.0   \n",
       "127  Bitch I'm Madonna by Madonna (Ft. Nicki Minaj)   2015-06-15  2015.0   \n",
       "183                           Lover by Taylor Swift   2019-08-16  2019.0   \n",
       "57                Man On The Moon by Britney Spears   2016-08-26  2016.0   \n",
       "128                    Papa Don't Preach by Madonna   1986-06-11  1986.0   \n",
       "\n",
       "     Month   Day  Pageviews  \\\n",
       "116    6.0   2.0     215182   \n",
       "127    6.0  15.0     123119   \n",
       "183    8.0  16.0    2466432   \n",
       "57     8.0  26.0      60204   \n",
       "128    6.0  11.0      99193   \n",
       "\n",
       "                                                   url  featured_count  \\\n",
       "116         https://genius.com/Dua-lipa-genesis-lyrics               0   \n",
       "127  https://genius.com/Madonna-bitch-im-madonna-ly...               1   \n",
       "183       https://genius.com/Taylor-swift-lover-lyrics               0   \n",
       "57   https://genius.com/Britney-spears-man-on-the-m...               0   \n",
       "128  https://genius.com/Madonna-papa-dont-preach-ly...               0   \n",
       "\n",
       "     producer_count  writer_count  \\\n",
       "116               4             6   \n",
       "127               2             7   \n",
       "183               2             1   \n",
       "57                1             5   \n",
       "128               2             2   \n",
       "\n",
       "                                           Song Lyrics  \\\n",
       "116  in the beginning god created heaven and earth ...   \n",
       "127  oohoohoohoohooh oohoohoohoohooh love this you'...   \n",
       "183  we could leave the christmas lights up 'til ja...   \n",
       "57   64 contributorsman on the moon lyrics dark mas...   \n",
       "128  papa i know you're going to be upset 'cause i ...   \n",
       "\n",
       "                                          Artist Image  \n",
       "116  https://images.genius.com/6dd7902577d2e9ac6096...  \n",
       "127  https://images.genius.com/b34e29b946e7b5893d8c...  \n",
       "183  https://images.genius.com/e57a74fef86ec2fd253a...  \n",
       "57   https://images.genius.com/da43b98169ffc7cfff48...  \n",
       "128  https://images.genius.com/b34e29b946e7b5893d8c...  "
      ]
     },
     "execution_count": 6,
     "metadata": {},
     "output_type": "execute_result"
    }
   ],
   "source": [
    "df.sample(5)"
   ]
  },
  {
   "cell_type": "code",
   "execution_count": 15,
   "id": "5ca468bc-7d26-469e-bfcf-a5570107b36d",
   "metadata": {
    "scrolled": true
   },
   "outputs": [],
   "source": [
    "# to_count = ['money', 'shoot', 'god', 'heart', 'hard', 'nigga', 'fuck', 'party', 'weed', 'devil']\n",
    "# for i in df.index:\n",
    "#     lyrics = df['Song Lyrics'].str\n",
    "#     for word in to_count:\n",
    "#         word_count = lyrics.count(word)\n",
    "#         df[word] = word_count\n",
    "#     # artists_df['you'][i]"
   ]
  },
  {
   "cell_type": "markdown",
   "id": "ebdeac3c-ab45-448d-9696-7d8870b1613a",
   "metadata": {},
   "source": [
    "### Specify thematic word groups"
   ]
  },
  {
   "cell_type": "code",
   "execution_count": 7,
   "id": "d53e4701-33af-4cd7-905b-6554c9e51deb",
   "metadata": {},
   "outputs": [],
   "source": [
    "to_count_groups = [\n",
    "    {\n",
    "        'group': 'love',\n",
    "        'group_words': ['love', 'lover', 'honey', 'baby', 'heart',\n",
    "                      'sweetheart', 'loverboy', 'babygirl']\n",
    "    },\n",
    "    {\n",
    "        'group': 'money',\n",
    "        'group_words': ['money', 'cash', 'gold', 'bill', 'check', 'checks',\n",
    "                     'dolla', 'bag', 'bags']\n",
    "    },\n",
    "    {\n",
    "        'group': 'violence',\n",
    "        'group_words': ['shoot', 'kill', 'kills', 'victim', 'whack', 'murder',\n",
    "                      'gun', 'rob', 'robbin', 'steal', 'stole', 'whacked',\n",
    "                      'killed', 'shot', 'robbed']\n",
    "    },\n",
    "    {\n",
    "        'group': 'drugs',\n",
    "        'group_words': ['drugs', 'weed', 'kush', 'mary jane',\n",
    "                      'perc', 'cocaine', 'molly',]\n",
    "    },\n",
    "    {\n",
    "        'group': 'gendered',\n",
    "        'group_words': ['girl', 'boy', 'man', 'woman', 'him', 'her', 'he', 'she']\n",
    "    }\n",
    "]"
   ]
  },
  {
   "cell_type": "markdown",
   "id": "4efdcec1-3999-4ad9-9444-dd8eeb7363fa",
   "metadata": {},
   "source": [
    "### Count occurences"
   ]
  },
  {
   "cell_type": "code",
   "execution_count": 8,
   "id": "c40dfd72-1401-4c40-8d38-3e57a6605a60",
   "metadata": {},
   "outputs": [],
   "source": [
    "for i in df.index:\n",
    "    lyrics = df['Song Lyrics'].str\n",
    "    for group in to_count_groups:\n",
    "        group_count_total = 0\n",
    "        for group_word in group['group_words']:\n",
    "            group_word_count = lyrics.count(group_word)\n",
    "            group_count_total += group_word_count\n",
    "        df[group['group']] = group_count_total\n",
    "    # artists_df['you'][i]"
   ]
  },
  {
   "cell_type": "code",
   "execution_count": 9,
   "id": "030f20e8-a45a-49a2-9b87-0f844fa2bc27",
   "metadata": {},
   "outputs": [
    {
     "data": {
      "text/plain": [
       "Index(['Artist', 'Song Title', 'Full Title', 'Release Date', 'Year', 'Month',\n",
       "       'Day', 'Pageviews', 'url', 'featured_count', 'producer_count',\n",
       "       'writer_count', 'Song Lyrics', 'Artist Image', 'love', 'money',\n",
       "       'violence', 'drugs', 'gendered'],\n",
       "      dtype='object')"
      ]
     },
     "execution_count": 9,
     "metadata": {},
     "output_type": "execute_result"
    }
   ],
   "source": [
    "df.columns"
   ]
  },
  {
   "cell_type": "markdown",
   "id": "7b538cf5-cc2e-4c20-9f8c-7036a5d48104",
   "metadata": {},
   "source": [
    "### Create a subplot graph for group occurences for genre"
   ]
  },
  {
   "cell_type": "code",
   "execution_count": 18,
   "id": "4f99b085-2c99-4293-a06b-412f53e129d6",
   "metadata": {},
   "outputs": [],
   "source": [
    "import plotly.graph_objects as graph_objects\n",
    "from plotly.subplots import make_subplots"
   ]
  },
  {
   "cell_type": "code",
   "execution_count": 54,
   "id": "0c65f65c-33bb-4b5e-b1a6-651974f80908",
   "metadata": {
    "scrolled": true
   },
   "outputs": [
    {
     "data": {
      "application/vnd.plotly.v1+json": {
       "config": {
        "plotlyServerURL": "https://plot.ly"
       },
       "data": [
        {
         "base": "stack",
         "showlegend": false,
         "type": "bar",
         "x": [
          "Aaliyah",
          "Aaliyah",
          "Aaliyah",
          "Aaliyah",
          "Aaliyah",
          "Aaliyah",
          "Aaliyah",
          "Aaliyah",
          "Aaliyah",
          "Aaliyah",
          "Aaliyah",
          "Aaliyah",
          "Aaliyah",
          "Aaliyah",
          "Aaliyah",
          "Aaliyah",
          "Aaliyah",
          "Aaliyah",
          "Aaliyah",
          "Aaliyah",
          "Beyoncé",
          "Beyoncé",
          "Beyoncé",
          "Beyoncé",
          "Beyoncé",
          "Beyoncé",
          "Beyoncé",
          "Beyoncé",
          "Beyoncé",
          "Beyoncé",
          "Beyoncé",
          "Beyoncé",
          "Beyoncé",
          "Beyoncé",
          "Beyoncé",
          "Beyoncé",
          "Beyoncé",
          "Beyoncé",
          "Beyoncé",
          "Beyoncé",
          "Britney Spears",
          "Britney Spears",
          "Britney Spears",
          "Britney Spears",
          "Britney Spears",
          "Britney Spears",
          "Britney Spears",
          "Britney Spears",
          "Britney Spears",
          "Britney Spears",
          "Britney Spears",
          "Britney Spears",
          "Britney Spears",
          "Britney Spears",
          "Britney Spears",
          "Britney Spears",
          "Britney Spears",
          "Britney Spears",
          "Britney Spears",
          "Britney Spears",
          "Carly Rae Jepsen",
          "Carly Rae Jepsen",
          "Carly Rae Jepsen",
          "Carly Rae Jepsen",
          "Carly Rae Jepsen",
          "Carly Rae Jepsen",
          "Carly Rae Jepsen",
          "Carly Rae Jepsen",
          "Carly Rae Jepsen",
          "Carly Rae Jepsen",
          "Carly Rae Jepsen",
          "Carly Rae Jepsen",
          "Carly Rae Jepsen",
          "Carly Rae Jepsen",
          "Carly Rae Jepsen",
          "Carly Rae Jepsen",
          "Carly Rae Jepsen",
          "Carly Rae Jepsen",
          "Carly Rae Jepsen",
          "Carly Rae Jepsen",
          "Charli XCX",
          "Charli XCX",
          "Charli XCX",
          "Charli XCX",
          "Charli XCX",
          "Charli XCX",
          "Charli XCX",
          "Charli XCX",
          "Charli XCX",
          "Charli XCX",
          "Charli XCX",
          "Charli XCX",
          "Charli XCX",
          "Charli XCX",
          "Charli XCX",
          "Charli XCX",
          "Charli XCX",
          "Charli XCX",
          "Charli XCX",
          "Charli XCX",
          "Dua Lipa",
          "Dua Lipa",
          "Dua Lipa",
          "Dua Lipa",
          "Dua Lipa",
          "Dua Lipa",
          "Dua Lipa",
          "Dua Lipa",
          "Dua Lipa",
          "Dua Lipa",
          "Dua Lipa",
          "Dua Lipa",
          "Dua Lipa",
          "Dua Lipa",
          "Dua Lipa",
          "Dua Lipa",
          "Dua Lipa",
          "Dua Lipa",
          "Dua Lipa",
          "Dua Lipa",
          "Madonna",
          "Madonna",
          "Madonna",
          "Madonna",
          "Madonna",
          "Madonna",
          "Madonna",
          "Madonna",
          "Madonna",
          "Madonna",
          "Madonna",
          "Madonna",
          "Madonna",
          "Madonna",
          "Madonna",
          "Madonna",
          "Madonna",
          "Madonna",
          "Madonna",
          "Madonna",
          "Michael Jackson",
          "Michael Jackson",
          "Michael Jackson",
          "Michael Jackson",
          "Michael Jackson",
          "Michael Jackson",
          "Michael Jackson",
          "Michael Jackson",
          "Michael Jackson",
          "Michael Jackson",
          "Michael Jackson",
          "Michael Jackson",
          "Michael Jackson",
          "Michael Jackson",
          "Michael Jackson",
          "Michael Jackson",
          "Michael Jackson",
          "Michael Jackson",
          "Michael Jackson",
          "Michael Jackson",
          "Olivia Rodrigo",
          "Olivia Rodrigo",
          "Olivia Rodrigo",
          "Olivia Rodrigo",
          "Olivia Rodrigo",
          "Olivia Rodrigo",
          "Olivia Rodrigo",
          "Olivia Rodrigo",
          "Olivia Rodrigo",
          "Olivia Rodrigo",
          "Olivia Rodrigo",
          "Olivia Rodrigo",
          "Olivia Rodrigo",
          "Olivia Rodrigo",
          "Olivia Rodrigo",
          "Olivia Rodrigo",
          "Olivia Rodrigo",
          "Olivia Rodrigo",
          "Olivia Rodrigo",
          "Olivia Rodrigo",
          "Taylor Swift",
          "Taylor Swift",
          "Taylor Swift",
          "Taylor Swift",
          "Taylor Swift",
          "Taylor Swift",
          "Taylor Swift",
          "Taylor Swift",
          "Taylor Swift",
          "Taylor Swift",
          "Taylor Swift",
          "Taylor Swift",
          "Taylor Swift",
          "Taylor Swift",
          "Taylor Swift",
          "Taylor Swift",
          "Taylor Swift",
          "Taylor Swift",
          "Taylor Swift",
          "Taylor Swift"
         ],
         "xaxis": "x",
         "y": [
          3,
          7,
          6,
          13,
          3,
          86,
          16,
          3,
          26,
          3,
          0,
          13,
          3,
          9,
          3,
          4,
          5,
          22,
          3,
          11,
          27,
          5,
          5,
          7,
          3,
          4,
          53,
          1,
          1,
          19,
          2,
          2,
          11,
          4,
          32,
          2,
          4,
          0,
          6,
          4,
          25,
          4,
          0,
          26,
          27,
          7,
          7,
          0,
          4,
          9,
          7,
          2,
          14,
          0,
          6,
          2,
          4,
          6,
          3,
          0,
          5,
          5,
          7,
          2,
          0,
          2,
          10,
          8,
          11,
          5,
          10,
          1,
          5,
          1,
          17,
          14,
          10,
          0,
          8,
          77,
          1,
          11,
          0,
          13,
          6,
          48,
          0,
          1,
          1,
          24,
          0,
          8,
          50,
          2,
          7,
          3,
          13,
          9,
          1,
          4,
          7,
          1,
          5,
          10,
          3,
          21,
          9,
          7,
          0,
          2,
          28,
          1,
          0,
          0,
          8,
          6,
          6,
          0,
          17,
          2,
          0,
          0,
          3,
          2,
          11,
          11,
          7,
          3,
          13,
          11,
          0,
          3,
          23,
          1,
          1,
          0,
          2,
          3,
          14,
          0,
          31,
          5,
          10,
          1,
          3,
          3,
          1,
          0,
          5,
          9,
          6,
          1,
          21,
          1,
          4,
          18,
          16,
          7,
          13,
          24,
          3,
          2,
          4,
          4,
          6,
          4,
          5,
          5,
          3,
          0,
          2,
          5,
          1,
          0,
          7,
          0,
          2,
          0,
          11,
          2,
          7,
          2,
          3,
          15,
          2,
          4,
          1,
          2,
          1,
          4,
          3,
          2,
          26,
          0,
          7,
          4,
          3,
          6,
          0,
          11
         ],
         "yaxis": "y"
        },
        {
         "base": "stack",
         "showlegend": false,
         "type": "bar",
         "x": [
          "Aaliyah",
          "Aaliyah",
          "Aaliyah",
          "Aaliyah",
          "Aaliyah",
          "Aaliyah",
          "Aaliyah",
          "Aaliyah",
          "Aaliyah",
          "Aaliyah",
          "Aaliyah",
          "Aaliyah",
          "Aaliyah",
          "Aaliyah",
          "Aaliyah",
          "Aaliyah",
          "Aaliyah",
          "Aaliyah",
          "Aaliyah",
          "Aaliyah",
          "Beyoncé",
          "Beyoncé",
          "Beyoncé",
          "Beyoncé",
          "Beyoncé",
          "Beyoncé",
          "Beyoncé",
          "Beyoncé",
          "Beyoncé",
          "Beyoncé",
          "Beyoncé",
          "Beyoncé",
          "Beyoncé",
          "Beyoncé",
          "Beyoncé",
          "Beyoncé",
          "Beyoncé",
          "Beyoncé",
          "Beyoncé",
          "Beyoncé",
          "Britney Spears",
          "Britney Spears",
          "Britney Spears",
          "Britney Spears",
          "Britney Spears",
          "Britney Spears",
          "Britney Spears",
          "Britney Spears",
          "Britney Spears",
          "Britney Spears",
          "Britney Spears",
          "Britney Spears",
          "Britney Spears",
          "Britney Spears",
          "Britney Spears",
          "Britney Spears",
          "Britney Spears",
          "Britney Spears",
          "Britney Spears",
          "Britney Spears",
          "Carly Rae Jepsen",
          "Carly Rae Jepsen",
          "Carly Rae Jepsen",
          "Carly Rae Jepsen",
          "Carly Rae Jepsen",
          "Carly Rae Jepsen",
          "Carly Rae Jepsen",
          "Carly Rae Jepsen",
          "Carly Rae Jepsen",
          "Carly Rae Jepsen",
          "Carly Rae Jepsen",
          "Carly Rae Jepsen",
          "Carly Rae Jepsen",
          "Carly Rae Jepsen",
          "Carly Rae Jepsen",
          "Carly Rae Jepsen",
          "Carly Rae Jepsen",
          "Carly Rae Jepsen",
          "Carly Rae Jepsen",
          "Carly Rae Jepsen",
          "Charli XCX",
          "Charli XCX",
          "Charli XCX",
          "Charli XCX",
          "Charli XCX",
          "Charli XCX",
          "Charli XCX",
          "Charli XCX",
          "Charli XCX",
          "Charli XCX",
          "Charli XCX",
          "Charli XCX",
          "Charli XCX",
          "Charli XCX",
          "Charli XCX",
          "Charli XCX",
          "Charli XCX",
          "Charli XCX",
          "Charli XCX",
          "Charli XCX",
          "Dua Lipa",
          "Dua Lipa",
          "Dua Lipa",
          "Dua Lipa",
          "Dua Lipa",
          "Dua Lipa",
          "Dua Lipa",
          "Dua Lipa",
          "Dua Lipa",
          "Dua Lipa",
          "Dua Lipa",
          "Dua Lipa",
          "Dua Lipa",
          "Dua Lipa",
          "Dua Lipa",
          "Dua Lipa",
          "Dua Lipa",
          "Dua Lipa",
          "Dua Lipa",
          "Dua Lipa",
          "Madonna",
          "Madonna",
          "Madonna",
          "Madonna",
          "Madonna",
          "Madonna",
          "Madonna",
          "Madonna",
          "Madonna",
          "Madonna",
          "Madonna",
          "Madonna",
          "Madonna",
          "Madonna",
          "Madonna",
          "Madonna",
          "Madonna",
          "Madonna",
          "Madonna",
          "Madonna",
          "Michael Jackson",
          "Michael Jackson",
          "Michael Jackson",
          "Michael Jackson",
          "Michael Jackson",
          "Michael Jackson",
          "Michael Jackson",
          "Michael Jackson",
          "Michael Jackson",
          "Michael Jackson",
          "Michael Jackson",
          "Michael Jackson",
          "Michael Jackson",
          "Michael Jackson",
          "Michael Jackson",
          "Michael Jackson",
          "Michael Jackson",
          "Michael Jackson",
          "Michael Jackson",
          "Michael Jackson",
          "Olivia Rodrigo",
          "Olivia Rodrigo",
          "Olivia Rodrigo",
          "Olivia Rodrigo",
          "Olivia Rodrigo",
          "Olivia Rodrigo",
          "Olivia Rodrigo",
          "Olivia Rodrigo",
          "Olivia Rodrigo",
          "Olivia Rodrigo",
          "Olivia Rodrigo",
          "Olivia Rodrigo",
          "Olivia Rodrigo",
          "Olivia Rodrigo",
          "Olivia Rodrigo",
          "Olivia Rodrigo",
          "Olivia Rodrigo",
          "Olivia Rodrigo",
          "Olivia Rodrigo",
          "Olivia Rodrigo",
          "Taylor Swift",
          "Taylor Swift",
          "Taylor Swift",
          "Taylor Swift",
          "Taylor Swift",
          "Taylor Swift",
          "Taylor Swift",
          "Taylor Swift",
          "Taylor Swift",
          "Taylor Swift",
          "Taylor Swift",
          "Taylor Swift",
          "Taylor Swift",
          "Taylor Swift",
          "Taylor Swift",
          "Taylor Swift",
          "Taylor Swift",
          "Taylor Swift",
          "Taylor Swift",
          "Taylor Swift"
         ],
         "xaxis": "x2",
         "y": [
          0,
          0,
          0,
          0,
          0,
          0,
          0,
          0,
          0,
          0,
          26,
          0,
          0,
          2,
          0,
          0,
          2,
          0,
          0,
          0,
          0,
          6,
          0,
          0,
          0,
          0,
          0,
          0,
          0,
          0,
          0,
          0,
          1,
          0,
          0,
          0,
          0,
          0,
          20,
          0,
          0,
          0,
          0,
          0,
          0,
          0,
          0,
          0,
          0,
          0,
          0,
          0,
          0,
          0,
          0,
          0,
          0,
          0,
          0,
          0,
          0,
          0,
          4,
          0,
          0,
          0,
          0,
          0,
          0,
          0,
          0,
          0,
          0,
          1,
          1,
          0,
          0,
          7,
          0,
          0,
          0,
          1,
          0,
          0,
          4,
          0,
          0,
          4,
          8,
          0,
          0,
          0,
          0,
          0,
          0,
          1,
          0,
          0,
          0,
          0,
          0,
          0,
          0,
          0,
          9,
          0,
          0,
          0,
          0,
          0,
          0,
          0,
          0,
          0,
          0,
          0,
          0,
          0,
          3,
          0,
          0,
          1,
          0,
          0,
          0,
          0,
          0,
          0,
          0,
          0,
          0,
          0,
          1,
          0,
          0,
          0,
          3,
          0,
          0,
          0,
          13,
          0,
          1,
          1,
          0,
          0,
          0,
          0,
          0,
          0,
          0,
          0,
          0,
          0,
          0,
          0,
          0,
          0,
          0,
          0,
          0,
          2,
          0,
          0,
          0,
          0,
          0,
          0,
          0,
          0,
          2,
          0,
          0,
          0,
          0,
          0,
          0,
          0,
          0,
          0,
          1,
          0,
          0,
          0,
          0,
          0,
          0,
          4,
          0,
          0,
          1,
          1,
          1,
          0,
          0,
          0,
          0,
          1,
          0,
          0
         ],
         "yaxis": "y2"
        },
        {
         "base": "stack",
         "showlegend": false,
         "type": "bar",
         "x": [
          "Aaliyah",
          "Aaliyah",
          "Aaliyah",
          "Aaliyah",
          "Aaliyah",
          "Aaliyah",
          "Aaliyah",
          "Aaliyah",
          "Aaliyah",
          "Aaliyah",
          "Aaliyah",
          "Aaliyah",
          "Aaliyah",
          "Aaliyah",
          "Aaliyah",
          "Aaliyah",
          "Aaliyah",
          "Aaliyah",
          "Aaliyah",
          "Aaliyah",
          "Beyoncé",
          "Beyoncé",
          "Beyoncé",
          "Beyoncé",
          "Beyoncé",
          "Beyoncé",
          "Beyoncé",
          "Beyoncé",
          "Beyoncé",
          "Beyoncé",
          "Beyoncé",
          "Beyoncé",
          "Beyoncé",
          "Beyoncé",
          "Beyoncé",
          "Beyoncé",
          "Beyoncé",
          "Beyoncé",
          "Beyoncé",
          "Beyoncé",
          "Britney Spears",
          "Britney Spears",
          "Britney Spears",
          "Britney Spears",
          "Britney Spears",
          "Britney Spears",
          "Britney Spears",
          "Britney Spears",
          "Britney Spears",
          "Britney Spears",
          "Britney Spears",
          "Britney Spears",
          "Britney Spears",
          "Britney Spears",
          "Britney Spears",
          "Britney Spears",
          "Britney Spears",
          "Britney Spears",
          "Britney Spears",
          "Britney Spears",
          "Carly Rae Jepsen",
          "Carly Rae Jepsen",
          "Carly Rae Jepsen",
          "Carly Rae Jepsen",
          "Carly Rae Jepsen",
          "Carly Rae Jepsen",
          "Carly Rae Jepsen",
          "Carly Rae Jepsen",
          "Carly Rae Jepsen",
          "Carly Rae Jepsen",
          "Carly Rae Jepsen",
          "Carly Rae Jepsen",
          "Carly Rae Jepsen",
          "Carly Rae Jepsen",
          "Carly Rae Jepsen",
          "Carly Rae Jepsen",
          "Carly Rae Jepsen",
          "Carly Rae Jepsen",
          "Carly Rae Jepsen",
          "Carly Rae Jepsen",
          "Charli XCX",
          "Charli XCX",
          "Charli XCX",
          "Charli XCX",
          "Charli XCX",
          "Charli XCX",
          "Charli XCX",
          "Charli XCX",
          "Charli XCX",
          "Charli XCX",
          "Charli XCX",
          "Charli XCX",
          "Charli XCX",
          "Charli XCX",
          "Charli XCX",
          "Charli XCX",
          "Charli XCX",
          "Charli XCX",
          "Charli XCX",
          "Charli XCX",
          "Dua Lipa",
          "Dua Lipa",
          "Dua Lipa",
          "Dua Lipa",
          "Dua Lipa",
          "Dua Lipa",
          "Dua Lipa",
          "Dua Lipa",
          "Dua Lipa",
          "Dua Lipa",
          "Dua Lipa",
          "Dua Lipa",
          "Dua Lipa",
          "Dua Lipa",
          "Dua Lipa",
          "Dua Lipa",
          "Dua Lipa",
          "Dua Lipa",
          "Dua Lipa",
          "Dua Lipa",
          "Madonna",
          "Madonna",
          "Madonna",
          "Madonna",
          "Madonna",
          "Madonna",
          "Madonna",
          "Madonna",
          "Madonna",
          "Madonna",
          "Madonna",
          "Madonna",
          "Madonna",
          "Madonna",
          "Madonna",
          "Madonna",
          "Madonna",
          "Madonna",
          "Madonna",
          "Madonna",
          "Michael Jackson",
          "Michael Jackson",
          "Michael Jackson",
          "Michael Jackson",
          "Michael Jackson",
          "Michael Jackson",
          "Michael Jackson",
          "Michael Jackson",
          "Michael Jackson",
          "Michael Jackson",
          "Michael Jackson",
          "Michael Jackson",
          "Michael Jackson",
          "Michael Jackson",
          "Michael Jackson",
          "Michael Jackson",
          "Michael Jackson",
          "Michael Jackson",
          "Michael Jackson",
          "Michael Jackson",
          "Olivia Rodrigo",
          "Olivia Rodrigo",
          "Olivia Rodrigo",
          "Olivia Rodrigo",
          "Olivia Rodrigo",
          "Olivia Rodrigo",
          "Olivia Rodrigo",
          "Olivia Rodrigo",
          "Olivia Rodrigo",
          "Olivia Rodrigo",
          "Olivia Rodrigo",
          "Olivia Rodrigo",
          "Olivia Rodrigo",
          "Olivia Rodrigo",
          "Olivia Rodrigo",
          "Olivia Rodrigo",
          "Olivia Rodrigo",
          "Olivia Rodrigo",
          "Olivia Rodrigo",
          "Olivia Rodrigo",
          "Taylor Swift",
          "Taylor Swift",
          "Taylor Swift",
          "Taylor Swift",
          "Taylor Swift",
          "Taylor Swift",
          "Taylor Swift",
          "Taylor Swift",
          "Taylor Swift",
          "Taylor Swift",
          "Taylor Swift",
          "Taylor Swift",
          "Taylor Swift",
          "Taylor Swift",
          "Taylor Swift",
          "Taylor Swift",
          "Taylor Swift",
          "Taylor Swift",
          "Taylor Swift",
          "Taylor Swift"
         ],
         "xaxis": "x3",
         "y": [
          2,
          0,
          0,
          1,
          0,
          0,
          0,
          0,
          1,
          0,
          0,
          0,
          0,
          0,
          1,
          1,
          12,
          0,
          2,
          0,
          0,
          0,
          0,
          0,
          0,
          1,
          0,
          0,
          0,
          0,
          0,
          1,
          0,
          0,
          0,
          0,
          0,
          0,
          4,
          2,
          6,
          0,
          0,
          1,
          0,
          0,
          0,
          0,
          1,
          1,
          0,
          4,
          5,
          0,
          0,
          0,
          0,
          1,
          0,
          0,
          1,
          0,
          0,
          0,
          0,
          17,
          1,
          0,
          0,
          0,
          0,
          0,
          0,
          12,
          0,
          0,
          0,
          0,
          0,
          0,
          0,
          0,
          0,
          0,
          0,
          0,
          0,
          0,
          0,
          0,
          1,
          1,
          0,
          0,
          0,
          0,
          1,
          0,
          0,
          0,
          0,
          0,
          1,
          0,
          0,
          0,
          0,
          0,
          0,
          0,
          0,
          1,
          1,
          0,
          1,
          0,
          0,
          0,
          0,
          0,
          0,
          0,
          0,
          0,
          0,
          0,
          0,
          0,
          0,
          0,
          0,
          0,
          0,
          0,
          3,
          0,
          4,
          0,
          1,
          0,
          0,
          0,
          1,
          5,
          4,
          1,
          0,
          0,
          0,
          1,
          0,
          2,
          0,
          1,
          0,
          0,
          0,
          0,
          0,
          0,
          1,
          0,
          0,
          0,
          1,
          0,
          0,
          0,
          0,
          0,
          0,
          0,
          0,
          3,
          0,
          0,
          2,
          10,
          1,
          0,
          0,
          0,
          1,
          0,
          0,
          1,
          0,
          1,
          0,
          2,
          7,
          11,
          1,
          0,
          0,
          0,
          4,
          0,
          2,
          3
         ],
         "yaxis": "y3"
        },
        {
         "base": "stack",
         "showlegend": false,
         "type": "bar",
         "x": [
          "Aaliyah",
          "Aaliyah",
          "Aaliyah",
          "Aaliyah",
          "Aaliyah",
          "Aaliyah",
          "Aaliyah",
          "Aaliyah",
          "Aaliyah",
          "Aaliyah",
          "Aaliyah",
          "Aaliyah",
          "Aaliyah",
          "Aaliyah",
          "Aaliyah",
          "Aaliyah",
          "Aaliyah",
          "Aaliyah",
          "Aaliyah",
          "Aaliyah",
          "Beyoncé",
          "Beyoncé",
          "Beyoncé",
          "Beyoncé",
          "Beyoncé",
          "Beyoncé",
          "Beyoncé",
          "Beyoncé",
          "Beyoncé",
          "Beyoncé",
          "Beyoncé",
          "Beyoncé",
          "Beyoncé",
          "Beyoncé",
          "Beyoncé",
          "Beyoncé",
          "Beyoncé",
          "Beyoncé",
          "Beyoncé",
          "Beyoncé",
          "Britney Spears",
          "Britney Spears",
          "Britney Spears",
          "Britney Spears",
          "Britney Spears",
          "Britney Spears",
          "Britney Spears",
          "Britney Spears",
          "Britney Spears",
          "Britney Spears",
          "Britney Spears",
          "Britney Spears",
          "Britney Spears",
          "Britney Spears",
          "Britney Spears",
          "Britney Spears",
          "Britney Spears",
          "Britney Spears",
          "Britney Spears",
          "Britney Spears",
          "Carly Rae Jepsen",
          "Carly Rae Jepsen",
          "Carly Rae Jepsen",
          "Carly Rae Jepsen",
          "Carly Rae Jepsen",
          "Carly Rae Jepsen",
          "Carly Rae Jepsen",
          "Carly Rae Jepsen",
          "Carly Rae Jepsen",
          "Carly Rae Jepsen",
          "Carly Rae Jepsen",
          "Carly Rae Jepsen",
          "Carly Rae Jepsen",
          "Carly Rae Jepsen",
          "Carly Rae Jepsen",
          "Carly Rae Jepsen",
          "Carly Rae Jepsen",
          "Carly Rae Jepsen",
          "Carly Rae Jepsen",
          "Carly Rae Jepsen",
          "Charli XCX",
          "Charli XCX",
          "Charli XCX",
          "Charli XCX",
          "Charli XCX",
          "Charli XCX",
          "Charli XCX",
          "Charli XCX",
          "Charli XCX",
          "Charli XCX",
          "Charli XCX",
          "Charli XCX",
          "Charli XCX",
          "Charli XCX",
          "Charli XCX",
          "Charli XCX",
          "Charli XCX",
          "Charli XCX",
          "Charli XCX",
          "Charli XCX",
          "Dua Lipa",
          "Dua Lipa",
          "Dua Lipa",
          "Dua Lipa",
          "Dua Lipa",
          "Dua Lipa",
          "Dua Lipa",
          "Dua Lipa",
          "Dua Lipa",
          "Dua Lipa",
          "Dua Lipa",
          "Dua Lipa",
          "Dua Lipa",
          "Dua Lipa",
          "Dua Lipa",
          "Dua Lipa",
          "Dua Lipa",
          "Dua Lipa",
          "Dua Lipa",
          "Dua Lipa",
          "Madonna",
          "Madonna",
          "Madonna",
          "Madonna",
          "Madonna",
          "Madonna",
          "Madonna",
          "Madonna",
          "Madonna",
          "Madonna",
          "Madonna",
          "Madonna",
          "Madonna",
          "Madonna",
          "Madonna",
          "Madonna",
          "Madonna",
          "Madonna",
          "Madonna",
          "Madonna",
          "Michael Jackson",
          "Michael Jackson",
          "Michael Jackson",
          "Michael Jackson",
          "Michael Jackson",
          "Michael Jackson",
          "Michael Jackson",
          "Michael Jackson",
          "Michael Jackson",
          "Michael Jackson",
          "Michael Jackson",
          "Michael Jackson",
          "Michael Jackson",
          "Michael Jackson",
          "Michael Jackson",
          "Michael Jackson",
          "Michael Jackson",
          "Michael Jackson",
          "Michael Jackson",
          "Michael Jackson",
          "Olivia Rodrigo",
          "Olivia Rodrigo",
          "Olivia Rodrigo",
          "Olivia Rodrigo",
          "Olivia Rodrigo",
          "Olivia Rodrigo",
          "Olivia Rodrigo",
          "Olivia Rodrigo",
          "Olivia Rodrigo",
          "Olivia Rodrigo",
          "Olivia Rodrigo",
          "Olivia Rodrigo",
          "Olivia Rodrigo",
          "Olivia Rodrigo",
          "Olivia Rodrigo",
          "Olivia Rodrigo",
          "Olivia Rodrigo",
          "Olivia Rodrigo",
          "Olivia Rodrigo",
          "Olivia Rodrigo",
          "Taylor Swift",
          "Taylor Swift",
          "Taylor Swift",
          "Taylor Swift",
          "Taylor Swift",
          "Taylor Swift",
          "Taylor Swift",
          "Taylor Swift",
          "Taylor Swift",
          "Taylor Swift",
          "Taylor Swift",
          "Taylor Swift",
          "Taylor Swift",
          "Taylor Swift",
          "Taylor Swift",
          "Taylor Swift",
          "Taylor Swift",
          "Taylor Swift",
          "Taylor Swift",
          "Taylor Swift"
         ],
         "xaxis": "x4",
         "y": [
          0,
          0,
          0,
          0,
          0,
          0,
          0,
          0,
          0,
          0,
          0,
          0,
          0,
          0,
          0,
          0,
          0,
          0,
          0,
          0,
          0,
          0,
          0,
          0,
          0,
          0,
          0,
          0,
          0,
          0,
          0,
          0,
          0,
          0,
          0,
          0,
          0,
          0,
          0,
          0,
          0,
          0,
          0,
          0,
          0,
          0,
          0,
          0,
          0,
          0,
          0,
          0,
          0,
          0,
          0,
          0,
          0,
          0,
          0,
          0,
          0,
          0,
          0,
          0,
          0,
          0,
          0,
          0,
          0,
          0,
          0,
          0,
          0,
          0,
          0,
          0,
          0,
          0,
          0,
          0,
          0,
          0,
          0,
          0,
          0,
          0,
          0,
          0,
          0,
          0,
          0,
          1,
          0,
          0,
          0,
          0,
          0,
          0,
          0,
          0,
          0,
          0,
          0,
          0,
          0,
          0,
          0,
          0,
          4,
          0,
          0,
          0,
          0,
          1,
          0,
          0,
          0,
          0,
          0,
          0,
          0,
          0,
          0,
          0,
          0,
          0,
          0,
          0,
          0,
          0,
          0,
          0,
          0,
          0,
          0,
          0,
          0,
          0,
          0,
          0,
          0,
          0,
          0,
          0,
          0,
          0,
          0,
          0,
          0,
          0,
          0,
          0,
          0,
          0,
          0,
          0,
          0,
          0,
          0,
          0,
          0,
          0,
          0,
          0,
          0,
          0,
          0,
          2,
          0,
          0,
          1,
          0,
          0,
          0,
          0,
          0,
          0,
          0,
          0,
          0,
          0,
          0,
          0,
          0,
          0,
          0,
          0,
          0,
          0,
          0,
          0,
          0,
          0,
          0,
          0,
          0,
          0,
          0,
          0,
          0
         ],
         "yaxis": "y4"
        },
        {
         "base": "stack",
         "showlegend": false,
         "type": "bar",
         "x": [
          "Aaliyah",
          "Aaliyah",
          "Aaliyah",
          "Aaliyah",
          "Aaliyah",
          "Aaliyah",
          "Aaliyah",
          "Aaliyah",
          "Aaliyah",
          "Aaliyah",
          "Aaliyah",
          "Aaliyah",
          "Aaliyah",
          "Aaliyah",
          "Aaliyah",
          "Aaliyah",
          "Aaliyah",
          "Aaliyah",
          "Aaliyah",
          "Aaliyah",
          "Beyoncé",
          "Beyoncé",
          "Beyoncé",
          "Beyoncé",
          "Beyoncé",
          "Beyoncé",
          "Beyoncé",
          "Beyoncé",
          "Beyoncé",
          "Beyoncé",
          "Beyoncé",
          "Beyoncé",
          "Beyoncé",
          "Beyoncé",
          "Beyoncé",
          "Beyoncé",
          "Beyoncé",
          "Beyoncé",
          "Beyoncé",
          "Beyoncé",
          "Britney Spears",
          "Britney Spears",
          "Britney Spears",
          "Britney Spears",
          "Britney Spears",
          "Britney Spears",
          "Britney Spears",
          "Britney Spears",
          "Britney Spears",
          "Britney Spears",
          "Britney Spears",
          "Britney Spears",
          "Britney Spears",
          "Britney Spears",
          "Britney Spears",
          "Britney Spears",
          "Britney Spears",
          "Britney Spears",
          "Britney Spears",
          "Britney Spears",
          "Carly Rae Jepsen",
          "Carly Rae Jepsen",
          "Carly Rae Jepsen",
          "Carly Rae Jepsen",
          "Carly Rae Jepsen",
          "Carly Rae Jepsen",
          "Carly Rae Jepsen",
          "Carly Rae Jepsen",
          "Carly Rae Jepsen",
          "Carly Rae Jepsen",
          "Carly Rae Jepsen",
          "Carly Rae Jepsen",
          "Carly Rae Jepsen",
          "Carly Rae Jepsen",
          "Carly Rae Jepsen",
          "Carly Rae Jepsen",
          "Carly Rae Jepsen",
          "Carly Rae Jepsen",
          "Carly Rae Jepsen",
          "Carly Rae Jepsen",
          "Charli XCX",
          "Charli XCX",
          "Charli XCX",
          "Charli XCX",
          "Charli XCX",
          "Charli XCX",
          "Charli XCX",
          "Charli XCX",
          "Charli XCX",
          "Charli XCX",
          "Charli XCX",
          "Charli XCX",
          "Charli XCX",
          "Charli XCX",
          "Charli XCX",
          "Charli XCX",
          "Charli XCX",
          "Charli XCX",
          "Charli XCX",
          "Charli XCX",
          "Dua Lipa",
          "Dua Lipa",
          "Dua Lipa",
          "Dua Lipa",
          "Dua Lipa",
          "Dua Lipa",
          "Dua Lipa",
          "Dua Lipa",
          "Dua Lipa",
          "Dua Lipa",
          "Dua Lipa",
          "Dua Lipa",
          "Dua Lipa",
          "Dua Lipa",
          "Dua Lipa",
          "Dua Lipa",
          "Dua Lipa",
          "Dua Lipa",
          "Dua Lipa",
          "Dua Lipa",
          "Madonna",
          "Madonna",
          "Madonna",
          "Madonna",
          "Madonna",
          "Madonna",
          "Madonna",
          "Madonna",
          "Madonna",
          "Madonna",
          "Madonna",
          "Madonna",
          "Madonna",
          "Madonna",
          "Madonna",
          "Madonna",
          "Madonna",
          "Madonna",
          "Madonna",
          "Madonna",
          "Michael Jackson",
          "Michael Jackson",
          "Michael Jackson",
          "Michael Jackson",
          "Michael Jackson",
          "Michael Jackson",
          "Michael Jackson",
          "Michael Jackson",
          "Michael Jackson",
          "Michael Jackson",
          "Michael Jackson",
          "Michael Jackson",
          "Michael Jackson",
          "Michael Jackson",
          "Michael Jackson",
          "Michael Jackson",
          "Michael Jackson",
          "Michael Jackson",
          "Michael Jackson",
          "Michael Jackson",
          "Olivia Rodrigo",
          "Olivia Rodrigo",
          "Olivia Rodrigo",
          "Olivia Rodrigo",
          "Olivia Rodrigo",
          "Olivia Rodrigo",
          "Olivia Rodrigo",
          "Olivia Rodrigo",
          "Olivia Rodrigo",
          "Olivia Rodrigo",
          "Olivia Rodrigo",
          "Olivia Rodrigo",
          "Olivia Rodrigo",
          "Olivia Rodrigo",
          "Olivia Rodrigo",
          "Olivia Rodrigo",
          "Olivia Rodrigo",
          "Olivia Rodrigo",
          "Olivia Rodrigo",
          "Olivia Rodrigo",
          "Taylor Swift",
          "Taylor Swift",
          "Taylor Swift",
          "Taylor Swift",
          "Taylor Swift",
          "Taylor Swift",
          "Taylor Swift",
          "Taylor Swift",
          "Taylor Swift",
          "Taylor Swift",
          "Taylor Swift",
          "Taylor Swift",
          "Taylor Swift",
          "Taylor Swift",
          "Taylor Swift",
          "Taylor Swift",
          "Taylor Swift",
          "Taylor Swift",
          "Taylor Swift",
          "Taylor Swift"
         ],
         "xaxis": "x5",
         "y": [
          28,
          27,
          17,
          28,
          14,
          3,
          69,
          18,
          34,
          13,
          55,
          14,
          35,
          7,
          38,
          53,
          98,
          36,
          35,
          26,
          42,
          33,
          86,
          14,
          36,
          68,
          79,
          38,
          7,
          24,
          43,
          45,
          33,
          85,
          34,
          27,
          13,
          57,
          175,
          18,
          16,
          4,
          53,
          20,
          87,
          4,
          95,
          23,
          36,
          133,
          10,
          45,
          30,
          41,
          18,
          18,
          12,
          34,
          63,
          18,
          46,
          16,
          56,
          56,
          20,
          62,
          37,
          9,
          48,
          32,
          34,
          41,
          38,
          30,
          79,
          39,
          18,
          32,
          97,
          17,
          55,
          33,
          26,
          41,
          58,
          82,
          4,
          23,
          51,
          25,
          21,
          31,
          16,
          11,
          20,
          18,
          16,
          65,
          34,
          67,
          49,
          16,
          16,
          19,
          24,
          55,
          60,
          9,
          12,
          32,
          27,
          73,
          84,
          4,
          56,
          29,
          30,
          22,
          20,
          32,
          68,
          35,
          43,
          62,
          20,
          25,
          7,
          18,
          8,
          59,
          35,
          26,
          73,
          16,
          29,
          44,
          41,
          9,
          20,
          55,
          139,
          64,
          83,
          55,
          54,
          80,
          63,
          24,
          35,
          58,
          93,
          17,
          47,
          36,
          29,
          40,
          49,
          53,
          66,
          74,
          17,
          59,
          30,
          21,
          37,
          25,
          50,
          135,
          16,
          10,
          25,
          13,
          20,
          35,
          12,
          14,
          71,
          32,
          21,
          41,
          140,
          25,
          28,
          14,
          26,
          35,
          40,
          34,
          38,
          38,
          33,
          51,
          40,
          28,
          25,
          25,
          34,
          53,
          16,
          52
         ],
         "yaxis": "y5"
        }
       ],
       "layout": {
        "annotations": [
         {
          "font": {
           "size": 16
          },
          "showarrow": false,
          "text": "love",
          "x": 0.5,
          "xanchor": "center",
          "xref": "paper",
          "y": 1,
          "yanchor": "bottom",
          "yref": "paper"
         },
         {
          "font": {
           "size": 16
          },
          "showarrow": false,
          "text": "money",
          "x": 0.5,
          "xanchor": "center",
          "xref": "paper",
          "y": 0.78,
          "yanchor": "bottom",
          "yref": "paper"
         },
         {
          "font": {
           "size": 16
          },
          "showarrow": false,
          "text": "violence",
          "x": 0.5,
          "xanchor": "center",
          "xref": "paper",
          "y": 0.56,
          "yanchor": "bottom",
          "yref": "paper"
         },
         {
          "font": {
           "size": 16
          },
          "showarrow": false,
          "text": "drugs",
          "x": 0.5,
          "xanchor": "center",
          "xref": "paper",
          "y": 0.33999999999999997,
          "yanchor": "bottom",
          "yref": "paper"
         },
         {
          "font": {
           "size": 16
          },
          "showarrow": false,
          "text": "gendered",
          "x": 0.5,
          "xanchor": "center",
          "xref": "paper",
          "y": 0.12,
          "yanchor": "bottom",
          "yref": "paper"
         }
        ],
        "autosize": true,
        "template": {
         "data": {
          "bar": [
           {
            "error_x": {
             "color": "#2a3f5f"
            },
            "error_y": {
             "color": "#2a3f5f"
            },
            "marker": {
             "line": {
              "color": "#E5ECF6",
              "width": 0.5
             },
             "pattern": {
              "fillmode": "overlay",
              "size": 10,
              "solidity": 0.2
             }
            },
            "type": "bar"
           }
          ],
          "barpolar": [
           {
            "marker": {
             "line": {
              "color": "#E5ECF6",
              "width": 0.5
             },
             "pattern": {
              "fillmode": "overlay",
              "size": 10,
              "solidity": 0.2
             }
            },
            "type": "barpolar"
           }
          ],
          "carpet": [
           {
            "aaxis": {
             "endlinecolor": "#2a3f5f",
             "gridcolor": "white",
             "linecolor": "white",
             "minorgridcolor": "white",
             "startlinecolor": "#2a3f5f"
            },
            "baxis": {
             "endlinecolor": "#2a3f5f",
             "gridcolor": "white",
             "linecolor": "white",
             "minorgridcolor": "white",
             "startlinecolor": "#2a3f5f"
            },
            "type": "carpet"
           }
          ],
          "choropleth": [
           {
            "colorbar": {
             "outlinewidth": 0,
             "ticks": ""
            },
            "type": "choropleth"
           }
          ],
          "contour": [
           {
            "colorbar": {
             "outlinewidth": 0,
             "ticks": ""
            },
            "colorscale": [
             [
              0,
              "#0d0887"
             ],
             [
              0.1111111111111111,
              "#46039f"
             ],
             [
              0.2222222222222222,
              "#7201a8"
             ],
             [
              0.3333333333333333,
              "#9c179e"
             ],
             [
              0.4444444444444444,
              "#bd3786"
             ],
             [
              0.5555555555555556,
              "#d8576b"
             ],
             [
              0.6666666666666666,
              "#ed7953"
             ],
             [
              0.7777777777777778,
              "#fb9f3a"
             ],
             [
              0.8888888888888888,
              "#fdca26"
             ],
             [
              1,
              "#f0f921"
             ]
            ],
            "type": "contour"
           }
          ],
          "contourcarpet": [
           {
            "colorbar": {
             "outlinewidth": 0,
             "ticks": ""
            },
            "type": "contourcarpet"
           }
          ],
          "heatmap": [
           {
            "colorbar": {
             "outlinewidth": 0,
             "ticks": ""
            },
            "colorscale": [
             [
              0,
              "#0d0887"
             ],
             [
              0.1111111111111111,
              "#46039f"
             ],
             [
              0.2222222222222222,
              "#7201a8"
             ],
             [
              0.3333333333333333,
              "#9c179e"
             ],
             [
              0.4444444444444444,
              "#bd3786"
             ],
             [
              0.5555555555555556,
              "#d8576b"
             ],
             [
              0.6666666666666666,
              "#ed7953"
             ],
             [
              0.7777777777777778,
              "#fb9f3a"
             ],
             [
              0.8888888888888888,
              "#fdca26"
             ],
             [
              1,
              "#f0f921"
             ]
            ],
            "type": "heatmap"
           }
          ],
          "heatmapgl": [
           {
            "colorbar": {
             "outlinewidth": 0,
             "ticks": ""
            },
            "colorscale": [
             [
              0,
              "#0d0887"
             ],
             [
              0.1111111111111111,
              "#46039f"
             ],
             [
              0.2222222222222222,
              "#7201a8"
             ],
             [
              0.3333333333333333,
              "#9c179e"
             ],
             [
              0.4444444444444444,
              "#bd3786"
             ],
             [
              0.5555555555555556,
              "#d8576b"
             ],
             [
              0.6666666666666666,
              "#ed7953"
             ],
             [
              0.7777777777777778,
              "#fb9f3a"
             ],
             [
              0.8888888888888888,
              "#fdca26"
             ],
             [
              1,
              "#f0f921"
             ]
            ],
            "type": "heatmapgl"
           }
          ],
          "histogram": [
           {
            "marker": {
             "pattern": {
              "fillmode": "overlay",
              "size": 10,
              "solidity": 0.2
             }
            },
            "type": "histogram"
           }
          ],
          "histogram2d": [
           {
            "colorbar": {
             "outlinewidth": 0,
             "ticks": ""
            },
            "colorscale": [
             [
              0,
              "#0d0887"
             ],
             [
              0.1111111111111111,
              "#46039f"
             ],
             [
              0.2222222222222222,
              "#7201a8"
             ],
             [
              0.3333333333333333,
              "#9c179e"
             ],
             [
              0.4444444444444444,
              "#bd3786"
             ],
             [
              0.5555555555555556,
              "#d8576b"
             ],
             [
              0.6666666666666666,
              "#ed7953"
             ],
             [
              0.7777777777777778,
              "#fb9f3a"
             ],
             [
              0.8888888888888888,
              "#fdca26"
             ],
             [
              1,
              "#f0f921"
             ]
            ],
            "type": "histogram2d"
           }
          ],
          "histogram2dcontour": [
           {
            "colorbar": {
             "outlinewidth": 0,
             "ticks": ""
            },
            "colorscale": [
             [
              0,
              "#0d0887"
             ],
             [
              0.1111111111111111,
              "#46039f"
             ],
             [
              0.2222222222222222,
              "#7201a8"
             ],
             [
              0.3333333333333333,
              "#9c179e"
             ],
             [
              0.4444444444444444,
              "#bd3786"
             ],
             [
              0.5555555555555556,
              "#d8576b"
             ],
             [
              0.6666666666666666,
              "#ed7953"
             ],
             [
              0.7777777777777778,
              "#fb9f3a"
             ],
             [
              0.8888888888888888,
              "#fdca26"
             ],
             [
              1,
              "#f0f921"
             ]
            ],
            "type": "histogram2dcontour"
           }
          ],
          "mesh3d": [
           {
            "colorbar": {
             "outlinewidth": 0,
             "ticks": ""
            },
            "type": "mesh3d"
           }
          ],
          "parcoords": [
           {
            "line": {
             "colorbar": {
              "outlinewidth": 0,
              "ticks": ""
             }
            },
            "type": "parcoords"
           }
          ],
          "pie": [
           {
            "automargin": true,
            "type": "pie"
           }
          ],
          "scatter": [
           {
            "fillpattern": {
             "fillmode": "overlay",
             "size": 10,
             "solidity": 0.2
            },
            "type": "scatter"
           }
          ],
          "scatter3d": [
           {
            "line": {
             "colorbar": {
              "outlinewidth": 0,
              "ticks": ""
             }
            },
            "marker": {
             "colorbar": {
              "outlinewidth": 0,
              "ticks": ""
             }
            },
            "type": "scatter3d"
           }
          ],
          "scattercarpet": [
           {
            "marker": {
             "colorbar": {
              "outlinewidth": 0,
              "ticks": ""
             }
            },
            "type": "scattercarpet"
           }
          ],
          "scattergeo": [
           {
            "marker": {
             "colorbar": {
              "outlinewidth": 0,
              "ticks": ""
             }
            },
            "type": "scattergeo"
           }
          ],
          "scattergl": [
           {
            "marker": {
             "colorbar": {
              "outlinewidth": 0,
              "ticks": ""
             }
            },
            "type": "scattergl"
           }
          ],
          "scattermapbox": [
           {
            "marker": {
             "colorbar": {
              "outlinewidth": 0,
              "ticks": ""
             }
            },
            "type": "scattermapbox"
           }
          ],
          "scatterpolar": [
           {
            "marker": {
             "colorbar": {
              "outlinewidth": 0,
              "ticks": ""
             }
            },
            "type": "scatterpolar"
           }
          ],
          "scatterpolargl": [
           {
            "marker": {
             "colorbar": {
              "outlinewidth": 0,
              "ticks": ""
             }
            },
            "type": "scatterpolargl"
           }
          ],
          "scatterternary": [
           {
            "marker": {
             "colorbar": {
              "outlinewidth": 0,
              "ticks": ""
             }
            },
            "type": "scatterternary"
           }
          ],
          "surface": [
           {
            "colorbar": {
             "outlinewidth": 0,
             "ticks": ""
            },
            "colorscale": [
             [
              0,
              "#0d0887"
             ],
             [
              0.1111111111111111,
              "#46039f"
             ],
             [
              0.2222222222222222,
              "#7201a8"
             ],
             [
              0.3333333333333333,
              "#9c179e"
             ],
             [
              0.4444444444444444,
              "#bd3786"
             ],
             [
              0.5555555555555556,
              "#d8576b"
             ],
             [
              0.6666666666666666,
              "#ed7953"
             ],
             [
              0.7777777777777778,
              "#fb9f3a"
             ],
             [
              0.8888888888888888,
              "#fdca26"
             ],
             [
              1,
              "#f0f921"
             ]
            ],
            "type": "surface"
           }
          ],
          "table": [
           {
            "cells": {
             "fill": {
              "color": "#EBF0F8"
             },
             "line": {
              "color": "white"
             }
            },
            "header": {
             "fill": {
              "color": "#C8D4E3"
             },
             "line": {
              "color": "white"
             }
            },
            "type": "table"
           }
          ]
         },
         "layout": {
          "annotationdefaults": {
           "arrowcolor": "#2a3f5f",
           "arrowhead": 0,
           "arrowwidth": 1
          },
          "autotypenumbers": "strict",
          "coloraxis": {
           "colorbar": {
            "outlinewidth": 0,
            "ticks": ""
           }
          },
          "colorscale": {
           "diverging": [
            [
             0,
             "#8e0152"
            ],
            [
             0.1,
             "#c51b7d"
            ],
            [
             0.2,
             "#de77ae"
            ],
            [
             0.3,
             "#f1b6da"
            ],
            [
             0.4,
             "#fde0ef"
            ],
            [
             0.5,
             "#f7f7f7"
            ],
            [
             0.6,
             "#e6f5d0"
            ],
            [
             0.7,
             "#b8e186"
            ],
            [
             0.8,
             "#7fbc41"
            ],
            [
             0.9,
             "#4d9221"
            ],
            [
             1,
             "#276419"
            ]
           ],
           "sequential": [
            [
             0,
             "#0d0887"
            ],
            [
             0.1111111111111111,
             "#46039f"
            ],
            [
             0.2222222222222222,
             "#7201a8"
            ],
            [
             0.3333333333333333,
             "#9c179e"
            ],
            [
             0.4444444444444444,
             "#bd3786"
            ],
            [
             0.5555555555555556,
             "#d8576b"
            ],
            [
             0.6666666666666666,
             "#ed7953"
            ],
            [
             0.7777777777777778,
             "#fb9f3a"
            ],
            [
             0.8888888888888888,
             "#fdca26"
            ],
            [
             1,
             "#f0f921"
            ]
           ],
           "sequentialminus": [
            [
             0,
             "#0d0887"
            ],
            [
             0.1111111111111111,
             "#46039f"
            ],
            [
             0.2222222222222222,
             "#7201a8"
            ],
            [
             0.3333333333333333,
             "#9c179e"
            ],
            [
             0.4444444444444444,
             "#bd3786"
            ],
            [
             0.5555555555555556,
             "#d8576b"
            ],
            [
             0.6666666666666666,
             "#ed7953"
            ],
            [
             0.7777777777777778,
             "#fb9f3a"
            ],
            [
             0.8888888888888888,
             "#fdca26"
            ],
            [
             1,
             "#f0f921"
            ]
           ]
          },
          "colorway": [
           "#636efa",
           "#EF553B",
           "#00cc96",
           "#ab63fa",
           "#FFA15A",
           "#19d3f3",
           "#FF6692",
           "#B6E880",
           "#FF97FF",
           "#FECB52"
          ],
          "font": {
           "color": "#2a3f5f"
          },
          "geo": {
           "bgcolor": "white",
           "lakecolor": "white",
           "landcolor": "#E5ECF6",
           "showlakes": true,
           "showland": true,
           "subunitcolor": "white"
          },
          "hoverlabel": {
           "align": "left"
          },
          "hovermode": "closest",
          "mapbox": {
           "style": "light"
          },
          "paper_bgcolor": "white",
          "plot_bgcolor": "#E5ECF6",
          "polar": {
           "angularaxis": {
            "gridcolor": "white",
            "linecolor": "white",
            "ticks": ""
           },
           "bgcolor": "#E5ECF6",
           "radialaxis": {
            "gridcolor": "white",
            "linecolor": "white",
            "ticks": ""
           }
          },
          "scene": {
           "xaxis": {
            "backgroundcolor": "#E5ECF6",
            "gridcolor": "white",
            "gridwidth": 2,
            "linecolor": "white",
            "showbackground": true,
            "ticks": "",
            "zerolinecolor": "white"
           },
           "yaxis": {
            "backgroundcolor": "#E5ECF6",
            "gridcolor": "white",
            "gridwidth": 2,
            "linecolor": "white",
            "showbackground": true,
            "ticks": "",
            "zerolinecolor": "white"
           },
           "zaxis": {
            "backgroundcolor": "#E5ECF6",
            "gridcolor": "white",
            "gridwidth": 2,
            "linecolor": "white",
            "showbackground": true,
            "ticks": "",
            "zerolinecolor": "white"
           }
          },
          "shapedefaults": {
           "line": {
            "color": "#2a3f5f"
           }
          },
          "ternary": {
           "aaxis": {
            "gridcolor": "white",
            "linecolor": "white",
            "ticks": ""
           },
           "baxis": {
            "gridcolor": "white",
            "linecolor": "white",
            "ticks": ""
           },
           "bgcolor": "#E5ECF6",
           "caxis": {
            "gridcolor": "white",
            "linecolor": "white",
            "ticks": ""
           }
          },
          "title": {
           "x": 0.05
          },
          "xaxis": {
           "automargin": true,
           "gridcolor": "white",
           "linecolor": "white",
           "ticks": "",
           "title": {
            "standoff": 15
           },
           "zerolinecolor": "white",
           "zerolinewidth": 2
          },
          "yaxis": {
           "automargin": true,
           "gridcolor": "white",
           "linecolor": "white",
           "ticks": "",
           "title": {
            "standoff": 15
           },
           "zerolinecolor": "white",
           "zerolinewidth": 2
          }
         }
        },
        "title": {
         "text": "Stacked group mentions for pop songs"
        },
        "xaxis": {
         "anchor": "y",
         "autorange": true,
         "domain": [
          0,
          1
         ],
         "range": [
          -0.5,
          9.5
         ],
         "type": "category"
        },
        "xaxis2": {
         "anchor": "y2",
         "autorange": true,
         "domain": [
          0,
          1
         ],
         "range": [
          -0.5,
          9.5
         ],
         "type": "category"
        },
        "xaxis3": {
         "anchor": "y3",
         "autorange": true,
         "domain": [
          0,
          1
         ],
         "range": [
          -0.5,
          9.5
         ],
         "type": "category"
        },
        "xaxis4": {
         "anchor": "y4",
         "autorange": true,
         "domain": [
          0,
          1
         ],
         "range": [
          -0.5,
          9.5
         ],
         "type": "category"
        },
        "xaxis5": {
         "anchor": "y5",
         "autorange": true,
         "domain": [
          0,
          1
         ],
         "range": [
          -0.5,
          9.5
         ],
         "type": "category"
        },
        "yaxis": {
         "anchor": "x",
         "domain": [
          0.88,
          1
         ],
         "range": [
          0,
          175
         ],
         "type": "linear"
        },
        "yaxis2": {
         "anchor": "x2",
         "autorange": true,
         "domain": [
          0.66,
          0.78
         ],
         "range": [
          0,
          27.36842105263158
         ],
         "type": "linear"
        },
        "yaxis3": {
         "anchor": "x3",
         "autorange": true,
         "domain": [
          0.44,
          0.56
         ],
         "range": [
          0,
          17.894736842105264
         ],
         "type": "linear"
        },
        "yaxis4": {
         "anchor": "x4",
         "autorange": true,
         "domain": [
          0.22,
          0.33999999999999997
         ],
         "range": [
          0,
          4.2105263157894735
         ],
         "type": "linear"
        },
        "yaxis5": {
         "anchor": "x5",
         "autorange": true,
         "domain": [
          0,
          0.12
         ],
         "range": [
          0,
          184.21052631578948
         ],
         "type": "linear"
        }
       }
      },
      "image/png": "[encoded data removed]",
      "text/html": [
       "<div>                            <div id=\"950e3ba2-621f-4d93-9715-ce80ff2787f7\" class=\"plotly-graph-div\" style=\"height:1250px; width:100%;\"></div>            <script type=\"text/javascript\">                require([\"plotly\"], function(Plotly) {                    window.PLOTLYENV=window.PLOTLYENV || {};                                    if (document.getElementById(\"950e3ba2-621f-4d93-9715-ce80ff2787f7\")) {                    Plotly.newPlot(                        \"950e3ba2-621f-4d93-9715-ce80ff2787f7\",                        [{\"base\":\"stack\",\"showlegend\":false,\"x\":[\"Aaliyah\",\"Aaliyah\",\"Aaliyah\",\"Aaliyah\",\"Aaliyah\",\"Aaliyah\",\"Aaliyah\",\"Aaliyah\",\"Aaliyah\",\"Aaliyah\",\"Aaliyah\",\"Aaliyah\",\"Aaliyah\",\"Aaliyah\",\"Aaliyah\",\"Aaliyah\",\"Aaliyah\",\"Aaliyah\",\"Aaliyah\",\"Aaliyah\",\"Beyonc\\u00e9\",\"Beyonc\\u00e9\",\"Beyonc\\u00e9\",\"Beyonc\\u00e9\",\"Beyonc\\u00e9\",\"Beyonc\\u00e9\",\"Beyonc\\u00e9\",\"Beyonc\\u00e9\",\"Beyonc\\u00e9\",\"Beyonc\\u00e9\",\"Beyonc\\u00e9\",\"Beyonc\\u00e9\",\"Beyonc\\u00e9\",\"Beyonc\\u00e9\",\"Beyonc\\u00e9\",\"Beyonc\\u00e9\",\"Beyonc\\u00e9\",\"Beyonc\\u00e9\",\"Beyonc\\u00e9\",\"Beyonc\\u00e9\",\"Britney Spears\",\"Britney Spears\",\"Britney Spears\",\"Britney Spears\",\"Britney Spears\",\"Britney Spears\",\"Britney Spears\",\"Britney Spears\",\"Britney Spears\",\"Britney Spears\",\"Britney Spears\",\"Britney Spears\",\"Britney Spears\",\"Britney Spears\",\"Britney Spears\",\"Britney Spears\",\"Britney Spears\",\"Britney Spears\",\"Britney Spears\",\"Britney Spears\",\"Carly Rae Jepsen\",\"Carly Rae Jepsen\",\"Carly Rae Jepsen\",\"Carly Rae Jepsen\",\"Carly Rae Jepsen\",\"Carly Rae Jepsen\",\"Carly Rae Jepsen\",\"Carly Rae Jepsen\",\"Carly Rae Jepsen\",\"Carly Rae Jepsen\",\"Carly Rae Jepsen\",\"Carly Rae Jepsen\",\"Carly Rae Jepsen\",\"Carly Rae Jepsen\",\"Carly Rae Jepsen\",\"Carly Rae Jepsen\",\"Carly Rae Jepsen\",\"Carly Rae Jepsen\",\"Carly Rae Jepsen\",\"Carly Rae Jepsen\",\"Charli XCX\",\"Charli XCX\",\"Charli XCX\",\"Charli XCX\",\"Charli XCX\",\"Charli XCX\",\"Charli XCX\",\"Charli XCX\",\"Charli XCX\",\"Charli XCX\",\"Charli XCX\",\"Charli XCX\",\"Charli XCX\",\"Charli XCX\",\"Charli XCX\",\"Charli XCX\",\"Charli XCX\",\"Charli XCX\",\"Charli XCX\",\"Charli XCX\",\"Dua Lipa\",\"Dua Lipa\",\"Dua Lipa\",\"Dua Lipa\",\"Dua Lipa\",\"Dua Lipa\",\"Dua Lipa\",\"Dua Lipa\",\"Dua Lipa\",\"Dua Lipa\",\"Dua Lipa\",\"Dua Lipa\",\"Dua Lipa\",\"Dua Lipa\",\"Dua Lipa\",\"Dua Lipa\",\"Dua Lipa\",\"Dua Lipa\",\"Dua Lipa\",\"Dua Lipa\",\"Madonna\",\"Madonna\",\"Madonna\",\"Madonna\",\"Madonna\",\"Madonna\",\"Madonna\",\"Madonna\",\"Madonna\",\"Madonna\",\"Madonna\",\"Madonna\",\"Madonna\",\"Madonna\",\"Madonna\",\"Madonna\",\"Madonna\",\"Madonna\",\"Madonna\",\"Madonna\",\"Michael Jackson\",\"Michael Jackson\",\"Michael Jackson\",\"Michael Jackson\",\"Michael Jackson\",\"Michael Jackson\",\"Michael Jackson\",\"Michael Jackson\",\"Michael Jackson\",\"Michael Jackson\",\"Michael Jackson\",\"Michael Jackson\",\"Michael Jackson\",\"Michael Jackson\",\"Michael Jackson\",\"Michael Jackson\",\"Michael Jackson\",\"Michael Jackson\",\"Michael Jackson\",\"Michael Jackson\",\"Olivia Rodrigo\",\"Olivia Rodrigo\",\"Olivia Rodrigo\",\"Olivia Rodrigo\",\"Olivia Rodrigo\",\"Olivia Rodrigo\",\"Olivia Rodrigo\",\"Olivia Rodrigo\",\"Olivia Rodrigo\",\"Olivia Rodrigo\",\"Olivia Rodrigo\",\"Olivia Rodrigo\",\"Olivia Rodrigo\",\"Olivia Rodrigo\",\"Olivia Rodrigo\",\"Olivia Rodrigo\",\"Olivia Rodrigo\",\"Olivia Rodrigo\",\"Olivia Rodrigo\",\"Olivia Rodrigo\",\"Taylor Swift\",\"Taylor Swift\",\"Taylor Swift\",\"Taylor Swift\",\"Taylor Swift\",\"Taylor Swift\",\"Taylor Swift\",\"Taylor Swift\",\"Taylor Swift\",\"Taylor Swift\",\"Taylor Swift\",\"Taylor Swift\",\"Taylor Swift\",\"Taylor Swift\",\"Taylor Swift\",\"Taylor Swift\",\"Taylor Swift\",\"Taylor Swift\",\"Taylor Swift\",\"Taylor Swift\"],\"y\":[3,7,6,13,3,86,16,3,26,3,0,13,3,9,3,4,5,22,3,11,27,5,5,7,3,4,53,1,1,19,2,2,11,4,32,2,4,0,6,4,25,4,0,26,27,7,7,0,4,9,7,2,14,0,6,2,4,6,3,0,5,5,7,2,0,2,10,8,11,5,10,1,5,1,17,14,10,0,8,77,1,11,0,13,6,48,0,1,1,24,0,8,50,2,7,3,13,9,1,4,7,1,5,10,3,21,9,7,0,2,28,1,0,0,8,6,6,0,17,2,0,0,3,2,11,11,7,3,13,11,0,3,23,1,1,0,2,3,14,0,31,5,10,1,3,3,1,0,5,9,6,1,21,1,4,18,16,7,13,24,3,2,4,4,6,4,5,5,3,0,2,5,1,0,7,0,2,0,11,2,7,2,3,15,2,4,1,2,1,4,3,2,26,0,7,4,3,6,0,11],\"type\":\"bar\",\"xaxis\":\"x\",\"yaxis\":\"y\"},{\"base\":\"stack\",\"showlegend\":false,\"x\":[\"Aaliyah\",\"Aaliyah\",\"Aaliyah\",\"Aaliyah\",\"Aaliyah\",\"Aaliyah\",\"Aaliyah\",\"Aaliyah\",\"Aaliyah\",\"Aaliyah\",\"Aaliyah\",\"Aaliyah\",\"Aaliyah\",\"Aaliyah\",\"Aaliyah\",\"Aaliyah\",\"Aaliyah\",\"Aaliyah\",\"Aaliyah\",\"Aaliyah\",\"Beyonc\\u00e9\",\"Beyonc\\u00e9\",\"Beyonc\\u00e9\",\"Beyonc\\u00e9\",\"Beyonc\\u00e9\",\"Beyonc\\u00e9\",\"Beyonc\\u00e9\",\"Beyonc\\u00e9\",\"Beyonc\\u00e9\",\"Beyonc\\u00e9\",\"Beyonc\\u00e9\",\"Beyonc\\u00e9\",\"Beyonc\\u00e9\",\"Beyonc\\u00e9\",\"Beyonc\\u00e9\",\"Beyonc\\u00e9\",\"Beyonc\\u00e9\",\"Beyonc\\u00e9\",\"Beyonc\\u00e9\",\"Beyonc\\u00e9\",\"Britney Spears\",\"Britney Spears\",\"Britney Spears\",\"Britney Spears\",\"Britney Spears\",\"Britney Spears\",\"Britney Spears\",\"Britney Spears\",\"Britney Spears\",\"Britney Spears\",\"Britney Spears\",\"Britney Spears\",\"Britney Spears\",\"Britney Spears\",\"Britney Spears\",\"Britney Spears\",\"Britney Spears\",\"Britney Spears\",\"Britney Spears\",\"Britney Spears\",\"Carly Rae Jepsen\",\"Carly Rae Jepsen\",\"Carly Rae Jepsen\",\"Carly Rae Jepsen\",\"Carly Rae Jepsen\",\"Carly Rae Jepsen\",\"Carly Rae Jepsen\",\"Carly Rae Jepsen\",\"Carly Rae Jepsen\",\"Carly Rae Jepsen\",\"Carly Rae Jepsen\",\"Carly Rae Jepsen\",\"Carly Rae Jepsen\",\"Carly Rae Jepsen\",\"Carly Rae Jepsen\",\"Carly Rae Jepsen\",\"Carly Rae Jepsen\",\"Carly Rae Jepsen\",\"Carly Rae Jepsen\",\"Carly Rae Jepsen\",\"Charli XCX\",\"Charli XCX\",\"Charli XCX\",\"Charli XCX\",\"Charli XCX\",\"Charli XCX\",\"Charli XCX\",\"Charli XCX\",\"Charli XCX\",\"Charli XCX\",\"Charli XCX\",\"Charli XCX\",\"Charli XCX\",\"Charli XCX\",\"Charli XCX\",\"Charli XCX\",\"Charli XCX\",\"Charli XCX\",\"Charli XCX\",\"Charli XCX\",\"Dua Lipa\",\"Dua Lipa\",\"Dua Lipa\",\"Dua Lipa\",\"Dua Lipa\",\"Dua Lipa\",\"Dua Lipa\",\"Dua Lipa\",\"Dua Lipa\",\"Dua Lipa\",\"Dua Lipa\",\"Dua Lipa\",\"Dua Lipa\",\"Dua Lipa\",\"Dua Lipa\",\"Dua Lipa\",\"Dua Lipa\",\"Dua Lipa\",\"Dua Lipa\",\"Dua Lipa\",\"Madonna\",\"Madonna\",\"Madonna\",\"Madonna\",\"Madonna\",\"Madonna\",\"Madonna\",\"Madonna\",\"Madonna\",\"Madonna\",\"Madonna\",\"Madonna\",\"Madonna\",\"Madonna\",\"Madonna\",\"Madonna\",\"Madonna\",\"Madonna\",\"Madonna\",\"Madonna\",\"Michael Jackson\",\"Michael Jackson\",\"Michael Jackson\",\"Michael Jackson\",\"Michael Jackson\",\"Michael Jackson\",\"Michael Jackson\",\"Michael Jackson\",\"Michael Jackson\",\"Michael Jackson\",\"Michael Jackson\",\"Michael Jackson\",\"Michael Jackson\",\"Michael Jackson\",\"Michael Jackson\",\"Michael Jackson\",\"Michael Jackson\",\"Michael Jackson\",\"Michael Jackson\",\"Michael Jackson\",\"Olivia Rodrigo\",\"Olivia Rodrigo\",\"Olivia Rodrigo\",\"Olivia Rodrigo\",\"Olivia Rodrigo\",\"Olivia Rodrigo\",\"Olivia Rodrigo\",\"Olivia Rodrigo\",\"Olivia Rodrigo\",\"Olivia Rodrigo\",\"Olivia Rodrigo\",\"Olivia Rodrigo\",\"Olivia Rodrigo\",\"Olivia Rodrigo\",\"Olivia Rodrigo\",\"Olivia Rodrigo\",\"Olivia Rodrigo\",\"Olivia Rodrigo\",\"Olivia Rodrigo\",\"Olivia Rodrigo\",\"Taylor Swift\",\"Taylor Swift\",\"Taylor Swift\",\"Taylor Swift\",\"Taylor Swift\",\"Taylor Swift\",\"Taylor Swift\",\"Taylor Swift\",\"Taylor Swift\",\"Taylor Swift\",\"Taylor Swift\",\"Taylor Swift\",\"Taylor Swift\",\"Taylor Swift\",\"Taylor Swift\",\"Taylor Swift\",\"Taylor Swift\",\"Taylor Swift\",\"Taylor Swift\",\"Taylor Swift\"],\"y\":[0,0,0,0,0,0,0,0,0,0,26,0,0,2,0,0,2,0,0,0,0,6,0,0,0,0,0,0,0,0,0,0,1,0,0,0,0,0,20,0,0,0,0,0,0,0,0,0,0,0,0,0,0,0,0,0,0,0,0,0,0,0,4,0,0,0,0,0,0,0,0,0,0,1,1,0,0,7,0,0,0,1,0,0,4,0,0,4,8,0,0,0,0,0,0,1,0,0,0,0,0,0,0,0,9,0,0,0,0,0,0,0,0,0,0,0,0,0,3,0,0,1,0,0,0,0,0,0,0,0,0,0,1,0,0,0,3,0,0,0,13,0,1,1,0,0,0,0,0,0,0,0,0,0,0,0,0,0,0,0,0,2,0,0,0,0,0,0,0,0,2,0,0,0,0,0,0,0,0,0,1,0,0,0,0,0,0,4,0,0,1,1,1,0,0,0,0,1,0,0],\"type\":\"bar\",\"xaxis\":\"x2\",\"yaxis\":\"y2\"},{\"base\":\"stack\",\"showlegend\":false,\"x\":[\"Aaliyah\",\"Aaliyah\",\"Aaliyah\",\"Aaliyah\",\"Aaliyah\",\"Aaliyah\",\"Aaliyah\",\"Aaliyah\",\"Aaliyah\",\"Aaliyah\",\"Aaliyah\",\"Aaliyah\",\"Aaliyah\",\"Aaliyah\",\"Aaliyah\",\"Aaliyah\",\"Aaliyah\",\"Aaliyah\",\"Aaliyah\",\"Aaliyah\",\"Beyonc\\u00e9\",\"Beyonc\\u00e9\",\"Beyonc\\u00e9\",\"Beyonc\\u00e9\",\"Beyonc\\u00e9\",\"Beyonc\\u00e9\",\"Beyonc\\u00e9\",\"Beyonc\\u00e9\",\"Beyonc\\u00e9\",\"Beyonc\\u00e9\",\"Beyonc\\u00e9\",\"Beyonc\\u00e9\",\"Beyonc\\u00e9\",\"Beyonc\\u00e9\",\"Beyonc\\u00e9\",\"Beyonc\\u00e9\",\"Beyonc\\u00e9\",\"Beyonc\\u00e9\",\"Beyonc\\u00e9\",\"Beyonc\\u00e9\",\"Britney Spears\",\"Britney Spears\",\"Britney Spears\",\"Britney Spears\",\"Britney Spears\",\"Britney Spears\",\"Britney Spears\",\"Britney Spears\",\"Britney Spears\",\"Britney Spears\",\"Britney Spears\",\"Britney Spears\",\"Britney Spears\",\"Britney Spears\",\"Britney Spears\",\"Britney Spears\",\"Britney Spears\",\"Britney Spears\",\"Britney Spears\",\"Britney Spears\",\"Carly Rae Jepsen\",\"Carly Rae Jepsen\",\"Carly Rae Jepsen\",\"Carly Rae Jepsen\",\"Carly Rae Jepsen\",\"Carly Rae Jepsen\",\"Carly Rae Jepsen\",\"Carly Rae Jepsen\",\"Carly Rae Jepsen\",\"Carly Rae Jepsen\",\"Carly Rae Jepsen\",\"Carly Rae Jepsen\",\"Carly Rae Jepsen\",\"Carly Rae Jepsen\",\"Carly Rae Jepsen\",\"Carly Rae Jepsen\",\"Carly Rae Jepsen\",\"Carly Rae Jepsen\",\"Carly Rae Jepsen\",\"Carly Rae Jepsen\",\"Charli XCX\",\"Charli XCX\",\"Charli XCX\",\"Charli XCX\",\"Charli XCX\",\"Charli XCX\",\"Charli XCX\",\"Charli XCX\",\"Charli XCX\",\"Charli XCX\",\"Charli XCX\",\"Charli XCX\",\"Charli XCX\",\"Charli XCX\",\"Charli XCX\",\"Charli XCX\",\"Charli XCX\",\"Charli XCX\",\"Charli XCX\",\"Charli XCX\",\"Dua Lipa\",\"Dua Lipa\",\"Dua Lipa\",\"Dua Lipa\",\"Dua Lipa\",\"Dua Lipa\",\"Dua Lipa\",\"Dua Lipa\",\"Dua Lipa\",\"Dua Lipa\",\"Dua Lipa\",\"Dua Lipa\",\"Dua Lipa\",\"Dua Lipa\",\"Dua Lipa\",\"Dua Lipa\",\"Dua Lipa\",\"Dua Lipa\",\"Dua Lipa\",\"Dua Lipa\",\"Madonna\",\"Madonna\",\"Madonna\",\"Madonna\",\"Madonna\",\"Madonna\",\"Madonna\",\"Madonna\",\"Madonna\",\"Madonna\",\"Madonna\",\"Madonna\",\"Madonna\",\"Madonna\",\"Madonna\",\"Madonna\",\"Madonna\",\"Madonna\",\"Madonna\",\"Madonna\",\"Michael Jackson\",\"Michael Jackson\",\"Michael Jackson\",\"Michael Jackson\",\"Michael Jackson\",\"Michael Jackson\",\"Michael Jackson\",\"Michael Jackson\",\"Michael Jackson\",\"Michael Jackson\",\"Michael Jackson\",\"Michael Jackson\",\"Michael Jackson\",\"Michael Jackson\",\"Michael Jackson\",\"Michael Jackson\",\"Michael Jackson\",\"Michael Jackson\",\"Michael Jackson\",\"Michael Jackson\",\"Olivia Rodrigo\",\"Olivia Rodrigo\",\"Olivia Rodrigo\",\"Olivia Rodrigo\",\"Olivia Rodrigo\",\"Olivia Rodrigo\",\"Olivia Rodrigo\",\"Olivia Rodrigo\",\"Olivia Rodrigo\",\"Olivia Rodrigo\",\"Olivia Rodrigo\",\"Olivia Rodrigo\",\"Olivia Rodrigo\",\"Olivia Rodrigo\",\"Olivia Rodrigo\",\"Olivia Rodrigo\",\"Olivia Rodrigo\",\"Olivia Rodrigo\",\"Olivia Rodrigo\",\"Olivia Rodrigo\",\"Taylor Swift\",\"Taylor Swift\",\"Taylor Swift\",\"Taylor Swift\",\"Taylor Swift\",\"Taylor Swift\",\"Taylor Swift\",\"Taylor Swift\",\"Taylor Swift\",\"Taylor Swift\",\"Taylor Swift\",\"Taylor Swift\",\"Taylor Swift\",\"Taylor Swift\",\"Taylor Swift\",\"Taylor Swift\",\"Taylor Swift\",\"Taylor Swift\",\"Taylor Swift\",\"Taylor Swift\"],\"y\":[2,0,0,1,0,0,0,0,1,0,0,0,0,0,1,1,12,0,2,0,0,0,0,0,0,1,0,0,0,0,0,1,0,0,0,0,0,0,4,2,6,0,0,1,0,0,0,0,1,1,0,4,5,0,0,0,0,1,0,0,1,0,0,0,0,17,1,0,0,0,0,0,0,12,0,0,0,0,0,0,0,0,0,0,0,0,0,0,0,0,1,1,0,0,0,0,1,0,0,0,0,0,1,0,0,0,0,0,0,0,0,1,1,0,1,0,0,0,0,0,0,0,0,0,0,0,0,0,0,0,0,0,0,0,3,0,4,0,1,0,0,0,1,5,4,1,0,0,0,1,0,2,0,1,0,0,0,0,0,0,1,0,0,0,1,0,0,0,0,0,0,0,0,3,0,0,2,10,1,0,0,0,1,0,0,1,0,1,0,2,7,11,1,0,0,0,4,0,2,3],\"type\":\"bar\",\"xaxis\":\"x3\",\"yaxis\":\"y3\"},{\"base\":\"stack\",\"showlegend\":false,\"x\":[\"Aaliyah\",\"Aaliyah\",\"Aaliyah\",\"Aaliyah\",\"Aaliyah\",\"Aaliyah\",\"Aaliyah\",\"Aaliyah\",\"Aaliyah\",\"Aaliyah\",\"Aaliyah\",\"Aaliyah\",\"Aaliyah\",\"Aaliyah\",\"Aaliyah\",\"Aaliyah\",\"Aaliyah\",\"Aaliyah\",\"Aaliyah\",\"Aaliyah\",\"Beyonc\\u00e9\",\"Beyonc\\u00e9\",\"Beyonc\\u00e9\",\"Beyonc\\u00e9\",\"Beyonc\\u00e9\",\"Beyonc\\u00e9\",\"Beyonc\\u00e9\",\"Beyonc\\u00e9\",\"Beyonc\\u00e9\",\"Beyonc\\u00e9\",\"Beyonc\\u00e9\",\"Beyonc\\u00e9\",\"Beyonc\\u00e9\",\"Beyonc\\u00e9\",\"Beyonc\\u00e9\",\"Beyonc\\u00e9\",\"Beyonc\\u00e9\",\"Beyonc\\u00e9\",\"Beyonc\\u00e9\",\"Beyonc\\u00e9\",\"Britney Spears\",\"Britney Spears\",\"Britney Spears\",\"Britney Spears\",\"Britney Spears\",\"Britney Spears\",\"Britney Spears\",\"Britney Spears\",\"Britney Spears\",\"Britney Spears\",\"Britney Spears\",\"Britney Spears\",\"Britney Spears\",\"Britney Spears\",\"Britney Spears\",\"Britney Spears\",\"Britney Spears\",\"Britney Spears\",\"Britney Spears\",\"Britney Spears\",\"Carly Rae Jepsen\",\"Carly Rae Jepsen\",\"Carly Rae Jepsen\",\"Carly Rae Jepsen\",\"Carly Rae Jepsen\",\"Carly Rae Jepsen\",\"Carly Rae Jepsen\",\"Carly Rae Jepsen\",\"Carly Rae Jepsen\",\"Carly Rae Jepsen\",\"Carly Rae Jepsen\",\"Carly Rae Jepsen\",\"Carly Rae Jepsen\",\"Carly Rae Jepsen\",\"Carly Rae Jepsen\",\"Carly Rae Jepsen\",\"Carly Rae Jepsen\",\"Carly Rae Jepsen\",\"Carly Rae Jepsen\",\"Carly Rae Jepsen\",\"Charli XCX\",\"Charli XCX\",\"Charli XCX\",\"Charli XCX\",\"Charli XCX\",\"Charli XCX\",\"Charli XCX\",\"Charli XCX\",\"Charli XCX\",\"Charli XCX\",\"Charli XCX\",\"Charli XCX\",\"Charli XCX\",\"Charli XCX\",\"Charli XCX\",\"Charli XCX\",\"Charli XCX\",\"Charli XCX\",\"Charli XCX\",\"Charli XCX\",\"Dua Lipa\",\"Dua Lipa\",\"Dua Lipa\",\"Dua Lipa\",\"Dua Lipa\",\"Dua Lipa\",\"Dua Lipa\",\"Dua Lipa\",\"Dua Lipa\",\"Dua Lipa\",\"Dua Lipa\",\"Dua Lipa\",\"Dua Lipa\",\"Dua Lipa\",\"Dua Lipa\",\"Dua Lipa\",\"Dua Lipa\",\"Dua Lipa\",\"Dua Lipa\",\"Dua Lipa\",\"Madonna\",\"Madonna\",\"Madonna\",\"Madonna\",\"Madonna\",\"Madonna\",\"Madonna\",\"Madonna\",\"Madonna\",\"Madonna\",\"Madonna\",\"Madonna\",\"Madonna\",\"Madonna\",\"Madonna\",\"Madonna\",\"Madonna\",\"Madonna\",\"Madonna\",\"Madonna\",\"Michael Jackson\",\"Michael Jackson\",\"Michael Jackson\",\"Michael Jackson\",\"Michael Jackson\",\"Michael Jackson\",\"Michael Jackson\",\"Michael Jackson\",\"Michael Jackson\",\"Michael Jackson\",\"Michael Jackson\",\"Michael Jackson\",\"Michael Jackson\",\"Michael Jackson\",\"Michael Jackson\",\"Michael Jackson\",\"Michael Jackson\",\"Michael Jackson\",\"Michael Jackson\",\"Michael Jackson\",\"Olivia Rodrigo\",\"Olivia Rodrigo\",\"Olivia Rodrigo\",\"Olivia Rodrigo\",\"Olivia Rodrigo\",\"Olivia Rodrigo\",\"Olivia Rodrigo\",\"Olivia Rodrigo\",\"Olivia Rodrigo\",\"Olivia Rodrigo\",\"Olivia Rodrigo\",\"Olivia Rodrigo\",\"Olivia Rodrigo\",\"Olivia Rodrigo\",\"Olivia Rodrigo\",\"Olivia Rodrigo\",\"Olivia Rodrigo\",\"Olivia Rodrigo\",\"Olivia Rodrigo\",\"Olivia Rodrigo\",\"Taylor Swift\",\"Taylor Swift\",\"Taylor Swift\",\"Taylor Swift\",\"Taylor Swift\",\"Taylor Swift\",\"Taylor Swift\",\"Taylor Swift\",\"Taylor Swift\",\"Taylor Swift\",\"Taylor Swift\",\"Taylor Swift\",\"Taylor Swift\",\"Taylor Swift\",\"Taylor Swift\",\"Taylor Swift\",\"Taylor Swift\",\"Taylor Swift\",\"Taylor Swift\",\"Taylor Swift\"],\"y\":[0,0,0,0,0,0,0,0,0,0,0,0,0,0,0,0,0,0,0,0,0,0,0,0,0,0,0,0,0,0,0,0,0,0,0,0,0,0,0,0,0,0,0,0,0,0,0,0,0,0,0,0,0,0,0,0,0,0,0,0,0,0,0,0,0,0,0,0,0,0,0,0,0,0,0,0,0,0,0,0,0,0,0,0,0,0,0,0,0,0,0,1,0,0,0,0,0,0,0,0,0,0,0,0,0,0,0,0,4,0,0,0,0,1,0,0,0,0,0,0,0,0,0,0,0,0,0,0,0,0,0,0,0,0,0,0,0,0,0,0,0,0,0,0,0,0,0,0,0,0,0,0,0,0,0,0,0,0,0,0,0,0,0,0,0,0,0,2,0,0,1,0,0,0,0,0,0,0,0,0,0,0,0,0,0,0,0,0,0,0,0,0,0,0,0,0,0,0,0,0],\"type\":\"bar\",\"xaxis\":\"x4\",\"yaxis\":\"y4\"},{\"base\":\"stack\",\"showlegend\":false,\"x\":[\"Aaliyah\",\"Aaliyah\",\"Aaliyah\",\"Aaliyah\",\"Aaliyah\",\"Aaliyah\",\"Aaliyah\",\"Aaliyah\",\"Aaliyah\",\"Aaliyah\",\"Aaliyah\",\"Aaliyah\",\"Aaliyah\",\"Aaliyah\",\"Aaliyah\",\"Aaliyah\",\"Aaliyah\",\"Aaliyah\",\"Aaliyah\",\"Aaliyah\",\"Beyonc\\u00e9\",\"Beyonc\\u00e9\",\"Beyonc\\u00e9\",\"Beyonc\\u00e9\",\"Beyonc\\u00e9\",\"Beyonc\\u00e9\",\"Beyonc\\u00e9\",\"Beyonc\\u00e9\",\"Beyonc\\u00e9\",\"Beyonc\\u00e9\",\"Beyonc\\u00e9\",\"Beyonc\\u00e9\",\"Beyonc\\u00e9\",\"Beyonc\\u00e9\",\"Beyonc\\u00e9\",\"Beyonc\\u00e9\",\"Beyonc\\u00e9\",\"Beyonc\\u00e9\",\"Beyonc\\u00e9\",\"Beyonc\\u00e9\",\"Britney Spears\",\"Britney Spears\",\"Britney Spears\",\"Britney Spears\",\"Britney Spears\",\"Britney Spears\",\"Britney Spears\",\"Britney Spears\",\"Britney Spears\",\"Britney Spears\",\"Britney Spears\",\"Britney Spears\",\"Britney Spears\",\"Britney Spears\",\"Britney Spears\",\"Britney Spears\",\"Britney Spears\",\"Britney Spears\",\"Britney Spears\",\"Britney Spears\",\"Carly Rae Jepsen\",\"Carly Rae Jepsen\",\"Carly Rae Jepsen\",\"Carly Rae Jepsen\",\"Carly Rae Jepsen\",\"Carly Rae Jepsen\",\"Carly Rae Jepsen\",\"Carly Rae Jepsen\",\"Carly Rae Jepsen\",\"Carly Rae Jepsen\",\"Carly Rae Jepsen\",\"Carly Rae Jepsen\",\"Carly Rae Jepsen\",\"Carly Rae Jepsen\",\"Carly Rae Jepsen\",\"Carly Rae Jepsen\",\"Carly Rae Jepsen\",\"Carly Rae Jepsen\",\"Carly Rae Jepsen\",\"Carly Rae Jepsen\",\"Charli XCX\",\"Charli XCX\",\"Charli XCX\",\"Charli XCX\",\"Charli XCX\",\"Charli XCX\",\"Charli XCX\",\"Charli XCX\",\"Charli XCX\",\"Charli XCX\",\"Charli XCX\",\"Charli XCX\",\"Charli XCX\",\"Charli XCX\",\"Charli XCX\",\"Charli XCX\",\"Charli XCX\",\"Charli XCX\",\"Charli XCX\",\"Charli XCX\",\"Dua Lipa\",\"Dua Lipa\",\"Dua Lipa\",\"Dua Lipa\",\"Dua Lipa\",\"Dua Lipa\",\"Dua Lipa\",\"Dua Lipa\",\"Dua Lipa\",\"Dua Lipa\",\"Dua Lipa\",\"Dua Lipa\",\"Dua Lipa\",\"Dua Lipa\",\"Dua Lipa\",\"Dua Lipa\",\"Dua Lipa\",\"Dua Lipa\",\"Dua Lipa\",\"Dua Lipa\",\"Madonna\",\"Madonna\",\"Madonna\",\"Madonna\",\"Madonna\",\"Madonna\",\"Madonna\",\"Madonna\",\"Madonna\",\"Madonna\",\"Madonna\",\"Madonna\",\"Madonna\",\"Madonna\",\"Madonna\",\"Madonna\",\"Madonna\",\"Madonna\",\"Madonna\",\"Madonna\",\"Michael Jackson\",\"Michael Jackson\",\"Michael Jackson\",\"Michael Jackson\",\"Michael Jackson\",\"Michael Jackson\",\"Michael Jackson\",\"Michael Jackson\",\"Michael Jackson\",\"Michael Jackson\",\"Michael Jackson\",\"Michael Jackson\",\"Michael Jackson\",\"Michael Jackson\",\"Michael Jackson\",\"Michael Jackson\",\"Michael Jackson\",\"Michael Jackson\",\"Michael Jackson\",\"Michael Jackson\",\"Olivia Rodrigo\",\"Olivia Rodrigo\",\"Olivia Rodrigo\",\"Olivia Rodrigo\",\"Olivia Rodrigo\",\"Olivia Rodrigo\",\"Olivia Rodrigo\",\"Olivia Rodrigo\",\"Olivia Rodrigo\",\"Olivia Rodrigo\",\"Olivia Rodrigo\",\"Olivia Rodrigo\",\"Olivia Rodrigo\",\"Olivia Rodrigo\",\"Olivia Rodrigo\",\"Olivia Rodrigo\",\"Olivia Rodrigo\",\"Olivia Rodrigo\",\"Olivia Rodrigo\",\"Olivia Rodrigo\",\"Taylor Swift\",\"Taylor Swift\",\"Taylor Swift\",\"Taylor Swift\",\"Taylor Swift\",\"Taylor Swift\",\"Taylor Swift\",\"Taylor Swift\",\"Taylor Swift\",\"Taylor Swift\",\"Taylor Swift\",\"Taylor Swift\",\"Taylor Swift\",\"Taylor Swift\",\"Taylor Swift\",\"Taylor Swift\",\"Taylor Swift\",\"Taylor Swift\",\"Taylor Swift\",\"Taylor Swift\"],\"y\":[28,27,17,28,14,3,69,18,34,13,55,14,35,7,38,53,98,36,35,26,42,33,86,14,36,68,79,38,7,24,43,45,33,85,34,27,13,57,175,18,16,4,53,20,87,4,95,23,36,133,10,45,30,41,18,18,12,34,63,18,46,16,56,56,20,62,37,9,48,32,34,41,38,30,79,39,18,32,97,17,55,33,26,41,58,82,4,23,51,25,21,31,16,11,20,18,16,65,34,67,49,16,16,19,24,55,60,9,12,32,27,73,84,4,56,29,30,22,20,32,68,35,43,62,20,25,7,18,8,59,35,26,73,16,29,44,41,9,20,55,139,64,83,55,54,80,63,24,35,58,93,17,47,36,29,40,49,53,66,74,17,59,30,21,37,25,50,135,16,10,25,13,20,35,12,14,71,32,21,41,140,25,28,14,26,35,40,34,38,38,33,51,40,28,25,25,34,53,16,52],\"type\":\"bar\",\"xaxis\":\"x5\",\"yaxis\":\"y5\"}],                        {\"template\":{\"data\":{\"histogram2dcontour\":[{\"type\":\"histogram2dcontour\",\"colorbar\":{\"outlinewidth\":0,\"ticks\":\"\"},\"colorscale\":[[0.0,\"#0d0887\"],[0.1111111111111111,\"#46039f\"],[0.2222222222222222,\"#7201a8\"],[0.3333333333333333,\"#9c179e\"],[0.4444444444444444,\"#bd3786\"],[0.5555555555555556,\"#d8576b\"],[0.6666666666666666,\"#ed7953\"],[0.7777777777777778,\"#fb9f3a\"],[0.8888888888888888,\"#fdca26\"],[1.0,\"#f0f921\"]]}],\"choropleth\":[{\"type\":\"choropleth\",\"colorbar\":{\"outlinewidth\":0,\"ticks\":\"\"}}],\"histogram2d\":[{\"type\":\"histogram2d\",\"colorbar\":{\"outlinewidth\":0,\"ticks\":\"\"},\"colorscale\":[[0.0,\"#0d0887\"],[0.1111111111111111,\"#46039f\"],[0.2222222222222222,\"#7201a8\"],[0.3333333333333333,\"#9c179e\"],[0.4444444444444444,\"#bd3786\"],[0.5555555555555556,\"#d8576b\"],[0.6666666666666666,\"#ed7953\"],[0.7777777777777778,\"#fb9f3a\"],[0.8888888888888888,\"#fdca26\"],[1.0,\"#f0f921\"]]}],\"heatmap\":[{\"type\":\"heatmap\",\"colorbar\":{\"outlinewidth\":0,\"ticks\":\"\"},\"colorscale\":[[0.0,\"#0d0887\"],[0.1111111111111111,\"#46039f\"],[0.2222222222222222,\"#7201a8\"],[0.3333333333333333,\"#9c179e\"],[0.4444444444444444,\"#bd3786\"],[0.5555555555555556,\"#d8576b\"],[0.6666666666666666,\"#ed7953\"],[0.7777777777777778,\"#fb9f3a\"],[0.8888888888888888,\"#fdca26\"],[1.0,\"#f0f921\"]]}],\"heatmapgl\":[{\"type\":\"heatmapgl\",\"colorbar\":{\"outlinewidth\":0,\"ticks\":\"\"},\"colorscale\":[[0.0,\"#0d0887\"],[0.1111111111111111,\"#46039f\"],[0.2222222222222222,\"#7201a8\"],[0.3333333333333333,\"#9c179e\"],[0.4444444444444444,\"#bd3786\"],[0.5555555555555556,\"#d8576b\"],[0.6666666666666666,\"#ed7953\"],[0.7777777777777778,\"#fb9f3a\"],[0.8888888888888888,\"#fdca26\"],[1.0,\"#f0f921\"]]}],\"contourcarpet\":[{\"type\":\"contourcarpet\",\"colorbar\":{\"outlinewidth\":0,\"ticks\":\"\"}}],\"contour\":[{\"type\":\"contour\",\"colorbar\":{\"outlinewidth\":0,\"ticks\":\"\"},\"colorscale\":[[0.0,\"#0d0887\"],[0.1111111111111111,\"#46039f\"],[0.2222222222222222,\"#7201a8\"],[0.3333333333333333,\"#9c179e\"],[0.4444444444444444,\"#bd3786\"],[0.5555555555555556,\"#d8576b\"],[0.6666666666666666,\"#ed7953\"],[0.7777777777777778,\"#fb9f3a\"],[0.8888888888888888,\"#fdca26\"],[1.0,\"#f0f921\"]]}],\"surface\":[{\"type\":\"surface\",\"colorbar\":{\"outlinewidth\":0,\"ticks\":\"\"},\"colorscale\":[[0.0,\"#0d0887\"],[0.1111111111111111,\"#46039f\"],[0.2222222222222222,\"#7201a8\"],[0.3333333333333333,\"#9c179e\"],[0.4444444444444444,\"#bd3786\"],[0.5555555555555556,\"#d8576b\"],[0.6666666666666666,\"#ed7953\"],[0.7777777777777778,\"#fb9f3a\"],[0.8888888888888888,\"#fdca26\"],[1.0,\"#f0f921\"]]}],\"mesh3d\":[{\"type\":\"mesh3d\",\"colorbar\":{\"outlinewidth\":0,\"ticks\":\"\"}}],\"scatter\":[{\"fillpattern\":{\"fillmode\":\"overlay\",\"size\":10,\"solidity\":0.2},\"type\":\"scatter\"}],\"parcoords\":[{\"type\":\"parcoords\",\"line\":{\"colorbar\":{\"outlinewidth\":0,\"ticks\":\"\"}}}],\"scatterpolargl\":[{\"type\":\"scatterpolargl\",\"marker\":{\"colorbar\":{\"outlinewidth\":0,\"ticks\":\"\"}}}],\"bar\":[{\"error_x\":{\"color\":\"#2a3f5f\"},\"error_y\":{\"color\":\"#2a3f5f\"},\"marker\":{\"line\":{\"color\":\"#E5ECF6\",\"width\":0.5},\"pattern\":{\"fillmode\":\"overlay\",\"size\":10,\"solidity\":0.2}},\"type\":\"bar\"}],\"scattergeo\":[{\"type\":\"scattergeo\",\"marker\":{\"colorbar\":{\"outlinewidth\":0,\"ticks\":\"\"}}}],\"scatterpolar\":[{\"type\":\"scatterpolar\",\"marker\":{\"colorbar\":{\"outlinewidth\":0,\"ticks\":\"\"}}}],\"histogram\":[{\"marker\":{\"pattern\":{\"fillmode\":\"overlay\",\"size\":10,\"solidity\":0.2}},\"type\":\"histogram\"}],\"scattergl\":[{\"type\":\"scattergl\",\"marker\":{\"colorbar\":{\"outlinewidth\":0,\"ticks\":\"\"}}}],\"scatter3d\":[{\"type\":\"scatter3d\",\"line\":{\"colorbar\":{\"outlinewidth\":0,\"ticks\":\"\"}},\"marker\":{\"colorbar\":{\"outlinewidth\":0,\"ticks\":\"\"}}}],\"scattermapbox\":[{\"type\":\"scattermapbox\",\"marker\":{\"colorbar\":{\"outlinewidth\":0,\"ticks\":\"\"}}}],\"scatterternary\":[{\"type\":\"scatterternary\",\"marker\":{\"colorbar\":{\"outlinewidth\":0,\"ticks\":\"\"}}}],\"scattercarpet\":[{\"type\":\"scattercarpet\",\"marker\":{\"colorbar\":{\"outlinewidth\":0,\"ticks\":\"\"}}}],\"carpet\":[{\"aaxis\":{\"endlinecolor\":\"#2a3f5f\",\"gridcolor\":\"white\",\"linecolor\":\"white\",\"minorgridcolor\":\"white\",\"startlinecolor\":\"#2a3f5f\"},\"baxis\":{\"endlinecolor\":\"#2a3f5f\",\"gridcolor\":\"white\",\"linecolor\":\"white\",\"minorgridcolor\":\"white\",\"startlinecolor\":\"#2a3f5f\"},\"type\":\"carpet\"}],\"table\":[{\"cells\":{\"fill\":{\"color\":\"#EBF0F8\"},\"line\":{\"color\":\"white\"}},\"header\":{\"fill\":{\"color\":\"#C8D4E3\"},\"line\":{\"color\":\"white\"}},\"type\":\"table\"}],\"barpolar\":[{\"marker\":{\"line\":{\"color\":\"#E5ECF6\",\"width\":0.5},\"pattern\":{\"fillmode\":\"overlay\",\"size\":10,\"solidity\":0.2}},\"type\":\"barpolar\"}],\"pie\":[{\"automargin\":true,\"type\":\"pie\"}]},\"layout\":{\"autotypenumbers\":\"strict\",\"colorway\":[\"#636efa\",\"#EF553B\",\"#00cc96\",\"#ab63fa\",\"#FFA15A\",\"#19d3f3\",\"#FF6692\",\"#B6E880\",\"#FF97FF\",\"#FECB52\"],\"font\":{\"color\":\"#2a3f5f\"},\"hovermode\":\"closest\",\"hoverlabel\":{\"align\":\"left\"},\"paper_bgcolor\":\"white\",\"plot_bgcolor\":\"#E5ECF6\",\"polar\":{\"bgcolor\":\"#E5ECF6\",\"angularaxis\":{\"gridcolor\":\"white\",\"linecolor\":\"white\",\"ticks\":\"\"},\"radialaxis\":{\"gridcolor\":\"white\",\"linecolor\":\"white\",\"ticks\":\"\"}},\"ternary\":{\"bgcolor\":\"#E5ECF6\",\"aaxis\":{\"gridcolor\":\"white\",\"linecolor\":\"white\",\"ticks\":\"\"},\"baxis\":{\"gridcolor\":\"white\",\"linecolor\":\"white\",\"ticks\":\"\"},\"caxis\":{\"gridcolor\":\"white\",\"linecolor\":\"white\",\"ticks\":\"\"}},\"coloraxis\":{\"colorbar\":{\"outlinewidth\":0,\"ticks\":\"\"}},\"colorscale\":{\"sequential\":[[0.0,\"#0d0887\"],[0.1111111111111111,\"#46039f\"],[0.2222222222222222,\"#7201a8\"],[0.3333333333333333,\"#9c179e\"],[0.4444444444444444,\"#bd3786\"],[0.5555555555555556,\"#d8576b\"],[0.6666666666666666,\"#ed7953\"],[0.7777777777777778,\"#fb9f3a\"],[0.8888888888888888,\"#fdca26\"],[1.0,\"#f0f921\"]],\"sequentialminus\":[[0.0,\"#0d0887\"],[0.1111111111111111,\"#46039f\"],[0.2222222222222222,\"#7201a8\"],[0.3333333333333333,\"#9c179e\"],[0.4444444444444444,\"#bd3786\"],[0.5555555555555556,\"#d8576b\"],[0.6666666666666666,\"#ed7953\"],[0.7777777777777778,\"#fb9f3a\"],[0.8888888888888888,\"#fdca26\"],[1.0,\"#f0f921\"]],\"diverging\":[[0,\"#8e0152\"],[0.1,\"#c51b7d\"],[0.2,\"#de77ae\"],[0.3,\"#f1b6da\"],[0.4,\"#fde0ef\"],[0.5,\"#f7f7f7\"],[0.6,\"#e6f5d0\"],[0.7,\"#b8e186\"],[0.8,\"#7fbc41\"],[0.9,\"#4d9221\"],[1,\"#276419\"]]},\"xaxis\":{\"gridcolor\":\"white\",\"linecolor\":\"white\",\"ticks\":\"\",\"title\":{\"standoff\":15},\"zerolinecolor\":\"white\",\"automargin\":true,\"zerolinewidth\":2},\"yaxis\":{\"gridcolor\":\"white\",\"linecolor\":\"white\",\"ticks\":\"\",\"title\":{\"standoff\":15},\"zerolinecolor\":\"white\",\"automargin\":true,\"zerolinewidth\":2},\"scene\":{\"xaxis\":{\"backgroundcolor\":\"#E5ECF6\",\"gridcolor\":\"white\",\"linecolor\":\"white\",\"showbackground\":true,\"ticks\":\"\",\"zerolinecolor\":\"white\",\"gridwidth\":2},\"yaxis\":{\"backgroundcolor\":\"#E5ECF6\",\"gridcolor\":\"white\",\"linecolor\":\"white\",\"showbackground\":true,\"ticks\":\"\",\"zerolinecolor\":\"white\",\"gridwidth\":2},\"zaxis\":{\"backgroundcolor\":\"#E5ECF6\",\"gridcolor\":\"white\",\"linecolor\":\"white\",\"showbackground\":true,\"ticks\":\"\",\"zerolinecolor\":\"white\",\"gridwidth\":2}},\"shapedefaults\":{\"line\":{\"color\":\"#2a3f5f\"}},\"annotationdefaults\":{\"arrowcolor\":\"#2a3f5f\",\"arrowhead\":0,\"arrowwidth\":1},\"geo\":{\"bgcolor\":\"white\",\"landcolor\":\"#E5ECF6\",\"subunitcolor\":\"white\",\"showland\":true,\"showlakes\":true,\"lakecolor\":\"white\"},\"title\":{\"x\":0.05},\"mapbox\":{\"style\":\"light\"}}},\"xaxis\":{\"anchor\":\"y\",\"domain\":[0.0,1.0]},\"yaxis\":{\"anchor\":\"x\",\"domain\":[0.88,1.0],\"range\":[0,175]},\"xaxis2\":{\"anchor\":\"y2\",\"domain\":[0.0,1.0]},\"yaxis2\":{\"anchor\":\"x2\",\"domain\":[0.66,0.78]},\"xaxis3\":{\"anchor\":\"y3\",\"domain\":[0.0,1.0]},\"yaxis3\":{\"anchor\":\"x3\",\"domain\":[0.44,0.56]},\"xaxis4\":{\"anchor\":\"y4\",\"domain\":[0.0,1.0]},\"yaxis4\":{\"anchor\":\"x4\",\"domain\":[0.22,0.33999999999999997]},\"xaxis5\":{\"anchor\":\"y5\",\"domain\":[0.0,1.0]},\"yaxis5\":{\"anchor\":\"x5\",\"domain\":[0.0,0.12]},\"annotations\":[{\"font\":{\"size\":16},\"showarrow\":false,\"text\":\"love\",\"x\":0.5,\"xanchor\":\"center\",\"xref\":\"paper\",\"y\":1.0,\"yanchor\":\"bottom\",\"yref\":\"paper\"},{\"font\":{\"size\":16},\"showarrow\":false,\"text\":\"money\",\"x\":0.5,\"xanchor\":\"center\",\"xref\":\"paper\",\"y\":0.78,\"yanchor\":\"bottom\",\"yref\":\"paper\"},{\"font\":{\"size\":16},\"showarrow\":false,\"text\":\"violence\",\"x\":0.5,\"xanchor\":\"center\",\"xref\":\"paper\",\"y\":0.56,\"yanchor\":\"bottom\",\"yref\":\"paper\"},{\"font\":{\"size\":16},\"showarrow\":false,\"text\":\"drugs\",\"x\":0.5,\"xanchor\":\"center\",\"xref\":\"paper\",\"y\":0.33999999999999997,\"yanchor\":\"bottom\",\"yref\":\"paper\"},{\"font\":{\"size\":16},\"showarrow\":false,\"text\":\"gendered\",\"x\":0.5,\"xanchor\":\"center\",\"xref\":\"paper\",\"y\":0.12,\"yanchor\":\"bottom\",\"yref\":\"paper\"}],\"title\":{\"text\":\"Stacked group mentions for pop songs\"},\"height\":1250},                        {\"responsive\": true}                    ).then(function(){\n",
       "                            \n",
       "var gd = document.getElementById('950e3ba2-621f-4d93-9715-ce80ff2787f7');\n",
       "var x = new MutationObserver(function (mutations, observer) {{\n",
       "        var display = window.getComputedStyle(gd).display;\n",
       "        if (!display || display === 'none') {{\n",
       "            console.log([gd, 'removed!']);\n",
       "            Plotly.purge(gd);\n",
       "            observer.disconnect();\n",
       "        }}\n",
       "}});\n",
       "\n",
       "// Listen for the removal of the full notebook cells\n",
       "var notebookContainer = gd.closest('#notebook-container');\n",
       "if (notebookContainer) {{\n",
       "    x.observe(notebookContainer, {childList: true});\n",
       "}}\n",
       "\n",
       "// Listen for the clearing of the current output cell\n",
       "var outputEl = gd.closest('.output');\n",
       "if (outputEl) {{\n",
       "    x.observe(outputEl, {childList: true});\n",
       "}}\n",
       "\n",
       "                        })                };                });            </script>        </div>"
      ]
     },
     "metadata": {},
     "output_type": "display_data"
    }
   ],
   "source": [
    "fig_groups = ['love', 'money', 'violence', 'drugs', 'gendered']\n",
    "\n",
    "group_len = len(fig_groups)\n",
    "\n",
    "pop_group_fig = make_subplots(rows=5, cols=1, subplot_titles=fig_groups,\n",
    "                              # vertical_spacing = 0.25)\n",
    "                             )\n",
    "\n",
    "for row, fig_group in enumerate(fig_groups):\n",
    "    # fig = px.bar(df, x='Artist', y=fig_group, color=\"Song Title\")\n",
    "    # fig.update_layout(showlegend=False)\n",
    "    fig = graph_objects.Bar(x=df['Artist'], y=df[fig_group],\n",
    "                         showlegend=False, base=\"stack\",\n",
    "                         )\n",
    "    # fig.update_layout(yaxis_range=[0, 175])\n",
    "    pop_group_fig.append_trace(\n",
    "        fig,\n",
    "        row=row+1, col=1\n",
    "    )\n",
    "\n",
    "pop_group_fig.update_layout(height=250*group_len, title_text=\"Stacked group mentions for pop songs\",\n",
    "                           yaxis=dict(range=[0,175]))\n",
    "pop_group_fig.show()"
   ]
  },
  {
   "cell_type": "markdown",
   "id": "a8c39d95-d93d-49e2-8e60-11678f62f6f3",
   "metadata": {},
   "source": [
    "### Single group, colored by songs"
   ]
  },
  {
   "cell_type": "code",
   "execution_count": null,
   "id": "24a0ed9a-c861-47a2-9b0d-3f3bc8ecc214",
   "metadata": {},
   "outputs": [],
   "source": [
    "# fig = px.bar(df, x='Artist', y='love', color=\"Song Title\")\n",
    "# fig.update_layout(showlegend=False)\n",
    "# fig.show()"
   ]
  },
  {
   "cell_type": "markdown",
   "id": "4ae6fc27-7f56-4cb7-8e71-1ac349463f6d",
   "metadata": {},
   "source": [
    "### Compare genres, create a new df for comparing?"
   ]
  },
  {
   "cell_type": "code",
   "execution_count": 57,
   "id": "91c0c224-e266-4bd1-af60-443d4edb6e3c",
   "metadata": {},
   "outputs": [
    {
     "data": {
      "text/html": [
       "<div>\n",
       "<style scoped>\n",
       "    .dataframe tbody tr th:only-of-type {\n",
       "        vertical-align: middle;\n",
       "    }\n",
       "\n",
       "    .dataframe tbody tr th {\n",
       "        vertical-align: top;\n",
       "    }\n",
       "\n",
       "    .dataframe thead th {\n",
       "        text-align: right;\n",
       "    }\n",
       "</style>\n",
       "<table border=\"1\" class=\"dataframe\">\n",
       "  <thead>\n",
       "    <tr style=\"text-align: right;\">\n",
       "      <th></th>\n",
       "      <th>Artist</th>\n",
       "      <th>Song Title</th>\n",
       "      <th>Full Title</th>\n",
       "      <th>Release Date</th>\n",
       "      <th>Year</th>\n",
       "      <th>Month</th>\n",
       "      <th>Day</th>\n",
       "      <th>Pageviews</th>\n",
       "      <th>url</th>\n",
       "      <th>featured_count</th>\n",
       "      <th>producer_count</th>\n",
       "      <th>writer_count</th>\n",
       "      <th>Song Lyrics</th>\n",
       "      <th>Artist Image</th>\n",
       "      <th>love</th>\n",
       "      <th>money</th>\n",
       "      <th>violence</th>\n",
       "      <th>drugs</th>\n",
       "      <th>gendered</th>\n",
       "    </tr>\n",
       "  </thead>\n",
       "  <tbody>\n",
       "    <tr>\n",
       "      <th>48</th>\n",
       "      <td>Britney Spears</td>\n",
       "      <td>Make Me...</td>\n",
       "      <td>Make Me... by Britney Spears (Ft. G-Eazy)</td>\n",
       "      <td>2016-07-14</td>\n",
       "      <td>2016.0</td>\n",
       "      <td>7.0</td>\n",
       "      <td>14.0</td>\n",
       "      <td>165578</td>\n",
       "      <td>https://genius.com/Britney-spears-make-me-lyrics</td>\n",
       "      <td>1</td>\n",
       "      <td>1</td>\n",
       "      <td>4</td>\n",
       "      <td>83 contributorsmake me lyrics friday i'm dream...</td>\n",
       "      <td>https://images.genius.com/da43b98169ffc7cfff48...</td>\n",
       "      <td>4</td>\n",
       "      <td>0</td>\n",
       "      <td>1</td>\n",
       "      <td>0</td>\n",
       "      <td>36</td>\n",
       "    </tr>\n",
       "    <tr>\n",
       "      <th>99</th>\n",
       "      <td>Charli XCX</td>\n",
       "      <td>Out of My Head</td>\n",
       "      <td>Out of My Head by Charli XCX (Ft. ALMA &amp; Tove Lo)</td>\n",
       "      <td>2017-12-08</td>\n",
       "      <td>2017.0</td>\n",
       "      <td>12.0</td>\n",
       "      <td>8.0</td>\n",
       "      <td>74316</td>\n",
       "      <td>https://genius.com/Charli-xcx-out-of-my-head-l...</td>\n",
       "      <td>2</td>\n",
       "      <td>2</td>\n",
       "      <td>5</td>\n",
       "      <td>38 contributorsout of my head lyrics ehehxcx  ...</td>\n",
       "      <td>https://images.genius.com/be4e9b6974830837af31...</td>\n",
       "      <td>4</td>\n",
       "      <td>0</td>\n",
       "      <td>0</td>\n",
       "      <td>0</td>\n",
       "      <td>67</td>\n",
       "    </tr>\n",
       "    <tr>\n",
       "      <th>47</th>\n",
       "      <td>Britney Spears</td>\n",
       "      <td>Gimme More</td>\n",
       "      <td>Gimme More by Britney Spears</td>\n",
       "      <td>2007-08-31</td>\n",
       "      <td>2007.0</td>\n",
       "      <td>8.0</td>\n",
       "      <td>31.0</td>\n",
       "      <td>168894</td>\n",
       "      <td>https://genius.com/Britney-spears-gimme-more-l...</td>\n",
       "      <td>0</td>\n",
       "      <td>1</td>\n",
       "      <td>4</td>\n",
       "      <td>it's britney bitch i see you and i just wanna ...</td>\n",
       "      <td>https://images.genius.com/da43b98169ffc7cfff48...</td>\n",
       "      <td>0</td>\n",
       "      <td>0</td>\n",
       "      <td>0</td>\n",
       "      <td>0</td>\n",
       "      <td>23</td>\n",
       "    </tr>\n",
       "    <tr>\n",
       "      <th>178</th>\n",
       "      <td>Olivia Rodrigo</td>\n",
       "      <td>​logical</td>\n",
       "      <td>​logical by Olivia Rodrigo</td>\n",
       "      <td>2023-09-08</td>\n",
       "      <td>2023.0</td>\n",
       "      <td>9.0</td>\n",
       "      <td>8.0</td>\n",
       "      <td>776598</td>\n",
       "      <td>https://genius.com/Olivia-rodrigo-logical-lyrics</td>\n",
       "      <td>0</td>\n",
       "      <td>2</td>\n",
       "      <td>3</td>\n",
       "      <td>master manipulator god you're so good at what ...</td>\n",
       "      <td>https://images.genius.com/69fb560dfa6184da4b62...</td>\n",
       "      <td>11</td>\n",
       "      <td>0</td>\n",
       "      <td>1</td>\n",
       "      <td>0</td>\n",
       "      <td>21</td>\n",
       "    </tr>\n",
       "    <tr>\n",
       "      <th>107</th>\n",
       "      <td>Dua Lipa</td>\n",
       "      <td>Physical</td>\n",
       "      <td>Physical by Dua Lipa</td>\n",
       "      <td>2020-01-30</td>\n",
       "      <td>2020.0</td>\n",
       "      <td>1.0</td>\n",
       "      <td>30.0</td>\n",
       "      <td>520815</td>\n",
       "      <td>https://genius.com/Dua-lipa-physical-lyrics</td>\n",
       "      <td>0</td>\n",
       "      <td>4</td>\n",
       "      <td>4</td>\n",
       "      <td>common love isn't for us we created something ...</td>\n",
       "      <td>https://images.genius.com/6dd7902577d2e9ac6096...</td>\n",
       "      <td>7</td>\n",
       "      <td>0</td>\n",
       "      <td>0</td>\n",
       "      <td>0</td>\n",
       "      <td>9</td>\n",
       "    </tr>\n",
       "  </tbody>\n",
       "</table>\n",
       "</div>"
      ],
      "text/plain": [
       "             Artist      Song Title  \\\n",
       "48   Britney Spears      Make Me...   \n",
       "99       Charli XCX  Out of My Head   \n",
       "47   Britney Spears      Gimme More   \n",
       "178  Olivia Rodrigo        ​logical   \n",
       "107        Dua Lipa        Physical   \n",
       "\n",
       "                                            Full Title Release Date    Year  \\\n",
       "48           Make Me... by Britney Spears (Ft. G-Eazy)   2016-07-14  2016.0   \n",
       "99   Out of My Head by Charli XCX (Ft. ALMA & Tove Lo)   2017-12-08  2017.0   \n",
       "47                        Gimme More by Britney Spears   2007-08-31  2007.0   \n",
       "178                         ​logical by Olivia Rodrigo   2023-09-08  2023.0   \n",
       "107                               Physical by Dua Lipa   2020-01-30  2020.0   \n",
       "\n",
       "     Month   Day  Pageviews  \\\n",
       "48     7.0  14.0     165578   \n",
       "99    12.0   8.0      74316   \n",
       "47     8.0  31.0     168894   \n",
       "178    9.0   8.0     776598   \n",
       "107    1.0  30.0     520815   \n",
       "\n",
       "                                                   url  featured_count  \\\n",
       "48    https://genius.com/Britney-spears-make-me-lyrics               1   \n",
       "99   https://genius.com/Charli-xcx-out-of-my-head-l...               2   \n",
       "47   https://genius.com/Britney-spears-gimme-more-l...               0   \n",
       "178   https://genius.com/Olivia-rodrigo-logical-lyrics               0   \n",
       "107        https://genius.com/Dua-lipa-physical-lyrics               0   \n",
       "\n",
       "     producer_count  writer_count  \\\n",
       "48                1             4   \n",
       "99                2             5   \n",
       "47                1             4   \n",
       "178               2             3   \n",
       "107               4             4   \n",
       "\n",
       "                                           Song Lyrics  \\\n",
       "48   83 contributorsmake me lyrics friday i'm dream...   \n",
       "99   38 contributorsout of my head lyrics ehehxcx  ...   \n",
       "47   it's britney bitch i see you and i just wanna ...   \n",
       "178  master manipulator god you're so good at what ...   \n",
       "107  common love isn't for us we created something ...   \n",
       "\n",
       "                                          Artist Image  love  money  violence  \\\n",
       "48   https://images.genius.com/da43b98169ffc7cfff48...     4      0         1   \n",
       "99   https://images.genius.com/be4e9b6974830837af31...     4      0         0   \n",
       "47   https://images.genius.com/da43b98169ffc7cfff48...     0      0         0   \n",
       "178  https://images.genius.com/69fb560dfa6184da4b62...    11      0         1   \n",
       "107  https://images.genius.com/6dd7902577d2e9ac6096...     7      0         0   \n",
       "\n",
       "     drugs  gendered  \n",
       "48       0        36  \n",
       "99       0        67  \n",
       "47       0        23  \n",
       "178      0        21  \n",
       "107      0         9  "
      ]
     },
     "execution_count": 57,
     "metadata": {},
     "output_type": "execute_result"
    }
   ],
   "source": [
    "df.sample(5)"
   ]
  },
  {
   "cell_type": "code",
   "execution_count": 100,
   "id": "a12e283d-9be6-4b3e-9817-69997b1610be",
   "metadata": {},
   "outputs": [],
   "source": [
    "genre_count_df = pd.DataFrame(columns=[*fig_groups, 'featured_count',\n",
    "                              'producer_count', 'writer_count'])"
   ]
  },
  {
   "cell_type": "code",
   "execution_count": 67,
   "id": "ba0875a7-2d3e-4734-b23f-0a992bde9742",
   "metadata": {},
   "outputs": [
    {
     "data": {
      "text/plain": [
       "['love', 'money', 'violence', 'drugs', 'gendered']"
      ]
     },
     "execution_count": 67,
     "metadata": {},
     "output_type": "execute_result"
    }
   ],
   "source": [
    "fig_groups"
   ]
  },
  {
   "cell_type": "code",
   "execution_count": 72,
   "id": "18812ca4-f776-48c7-98b0-63a08076fe54",
   "metadata": {},
   "outputs": [],
   "source": [
    "df_grouped = df.groupby(['Artist']).sum()"
   ]
  },
  {
   "cell_type": "code",
   "execution_count": 89,
   "id": "7397d52a-af84-49b3-ad20-cdb70addd590",
   "metadata": {},
   "outputs": [],
   "source": [
    "df_cutout = df_grouped[['love', 'money', 'violence', 'drugs', 'gendered', 'featured_count','producer_count', 'writer_count']]"
   ]
  },
  {
   "cell_type": "code",
   "execution_count": 90,
   "id": "1e4ab606-74f5-43b9-aec5-09c94d08b9b2",
   "metadata": {},
   "outputs": [],
   "source": [
    "df_cutout = pd.DataFrame(df_cutout.sum())"
   ]
  },
  {
   "cell_type": "code",
   "execution_count": 92,
   "id": "07c1f2ab-745c-4d12-b417-d1c8546a8d6e",
   "metadata": {},
   "outputs": [],
   "source": [
    "df_cutout = df_cutout.T"
   ]
  },
  {
   "cell_type": "code",
   "execution_count": 96,
   "id": "62937569-b1b4-45f1-8b1d-e44a4136ed57",
   "metadata": {},
   "outputs": [
    {
     "data": {
      "text/html": [
       "<div>\n",
       "<style scoped>\n",
       "    .dataframe tbody tr th:only-of-type {\n",
       "        vertical-align: middle;\n",
       "    }\n",
       "\n",
       "    .dataframe tbody tr th {\n",
       "        vertical-align: top;\n",
       "    }\n",
       "\n",
       "    .dataframe thead th {\n",
       "        text-align: right;\n",
       "    }\n",
       "</style>\n",
       "<table border=\"1\" class=\"dataframe\">\n",
       "  <thead>\n",
       "    <tr style=\"text-align: right;\">\n",
       "      <th></th>\n",
       "      <th>love</th>\n",
       "      <th>money</th>\n",
       "      <th>violence</th>\n",
       "      <th>drugs</th>\n",
       "      <th>gendered</th>\n",
       "      <th>featured_count</th>\n",
       "      <th>producer_count</th>\n",
       "      <th>writer_count</th>\n",
       "    </tr>\n",
       "  </thead>\n",
       "  <tbody>\n",
       "    <tr>\n",
       "      <th>pop</th>\n",
       "      <td>1573</td>\n",
       "      <td>133</td>\n",
       "      <td>159</td>\n",
       "      <td>9</td>\n",
       "      <td>7849</td>\n",
       "      <td>47</td>\n",
       "      <td>369</td>\n",
       "      <td>706</td>\n",
       "    </tr>\n",
       "  </tbody>\n",
       "</table>\n",
       "</div>"
      ],
      "text/plain": [
       "     love  money  violence  drugs  gendered  featured_count  producer_count  \\\n",
       "pop  1573    133       159      9      7849              47             369   \n",
       "\n",
       "     writer_count  \n",
       "pop           706  "
      ]
     },
     "execution_count": 96,
     "metadata": {},
     "output_type": "execute_result"
    }
   ],
   "source": [
    "df_cutout.index = ['pop']\n",
    "df_cutout"
   ]
  },
  {
   "cell_type": "code",
   "execution_count": 101,
   "id": "1768cba7-0305-43bf-b212-4b831af5857e",
   "metadata": {},
   "outputs": [],
   "source": [
    "genre_count_df = pd.concat([genre_count_df, df_cutout], axis=0)"
   ]
  },
  {
   "cell_type": "code",
   "execution_count": 102,
   "id": "0afec2a2-1afd-43c1-b4d4-1c7bd63614ca",
   "metadata": {},
   "outputs": [
    {
     "data": {
      "text/html": [
       "<div>\n",
       "<style scoped>\n",
       "    .dataframe tbody tr th:only-of-type {\n",
       "        vertical-align: middle;\n",
       "    }\n",
       "\n",
       "    .dataframe tbody tr th {\n",
       "        vertical-align: top;\n",
       "    }\n",
       "\n",
       "    .dataframe thead th {\n",
       "        text-align: right;\n",
       "    }\n",
       "</style>\n",
       "<table border=\"1\" class=\"dataframe\">\n",
       "  <thead>\n",
       "    <tr style=\"text-align: right;\">\n",
       "      <th></th>\n",
       "      <th>love</th>\n",
       "      <th>money</th>\n",
       "      <th>violence</th>\n",
       "      <th>drugs</th>\n",
       "      <th>gendered</th>\n",
       "      <th>featured_count</th>\n",
       "      <th>producer_count</th>\n",
       "      <th>writer_count</th>\n",
       "    </tr>\n",
       "  </thead>\n",
       "  <tbody>\n",
       "    <tr>\n",
       "      <th>pop</th>\n",
       "      <td>1573</td>\n",
       "      <td>133</td>\n",
       "      <td>159</td>\n",
       "      <td>9</td>\n",
       "      <td>7849</td>\n",
       "      <td>47</td>\n",
       "      <td>369</td>\n",
       "      <td>706</td>\n",
       "    </tr>\n",
       "  </tbody>\n",
       "</table>\n",
       "</div>"
      ],
      "text/plain": [
       "     love money violence drugs gendered featured_count producer_count  \\\n",
       "pop  1573   133      159     9     7849             47            369   \n",
       "\n",
       "    writer_count  \n",
       "pop          706  "
      ]
     },
     "execution_count": 102,
     "metadata": {},
     "output_type": "execute_result"
    }
   ],
   "source": [
    "genre_count_df"
   ]
  },
  {
   "cell_type": "markdown",
   "id": "0e6aac55-0aad-4080-85ac-dfea8487c35a",
   "metadata": {},
   "source": [
    "### Do the above for all genres\n",
    "plus save intermediate within-genre summaries"
   ]
  },
  {
   "cell_type": "code",
   "execution_count": 103,
   "id": "5dcdf3c8-1b45-43c6-a594-cfeefe30b292",
   "metadata": {},
   "outputs": [],
   "source": [
    "genres = ['pop', 'rap', 'rock', 'soul']\n",
    "\n",
    "to_count_groups = [\n",
    "    {\n",
    "        'group': 'love',\n",
    "        'group_words': ['love', 'lover', 'honey', 'baby', 'heart',\n",
    "                      'sweetheart', 'loverboy', 'babygirl']\n",
    "    },\n",
    "    {\n",
    "        'group': 'money',\n",
    "        'group_words': ['money', 'cash', 'gold', 'bill', 'check', 'checks',\n",
    "                     'dolla', 'bag', 'bags']\n",
    "    },\n",
    "    {\n",
    "        'group': 'violence',\n",
    "        'group_words': ['shoot', 'kill', 'kills', 'victim', 'whack', 'murder',\n",
    "                      'gun', 'rob', 'robbin', 'steal', 'stole', 'whacked',\n",
    "                      'killed', 'shot', 'robbed']\n",
    "    },\n",
    "    {\n",
    "        'group': 'drugs',\n",
    "        'group_words': ['drugs', 'weed', 'kush', 'mary jane',\n",
    "                      'perc', 'cocaine', 'molly',]\n",
    "    },\n",
    "    {\n",
    "        'group': 'gendered',\n",
    "        'group_words': ['girl', 'boy', 'man', 'woman', 'him', 'her', 'he', 'she']\n",
    "    }\n",
    "]\n",
    "\n",
    "word_groups = ['love', 'money', 'violence', 'drugs', 'gendered']\n",
    "group_len = group_len = len(word_groups)"
   ]
  },
  {
   "cell_type": "code",
   "execution_count": 107,
   "id": "82ae4970-d3c1-4ab6-aec9-b13fb1879ccd",
   "metadata": {},
   "outputs": [],
   "source": [
    "# dataframes for genre comparing\n",
    "genre_sum_df = pd.DataFrame(columns=[*fig_groups, 'featured_count',\n",
    "                                  'producer_count', 'writer_count'])\n",
    "genre_mean_df = pd.DataFrame(columns=[*fig_groups, 'featured_count',\n",
    "                                  'producer_count', 'writer_count'])\n",
    "\n",
    "for genre in genres:\n",
    "    df_path = f'dataframes/cleaned_{genre}_10.csv'\n",
    "    df = pd.read_csv(df_path, index_col=0)\n",
    "\n",
    "    # count occurences\n",
    "    for i in df.index:\n",
    "        lyrics = df['Song Lyrics'].str\n",
    "        for group in to_count_groups:\n",
    "            group_count_total = 0\n",
    "            for group_word in group['group_words']:\n",
    "                group_word_count = lyrics.count(group_word)\n",
    "                group_count_total += group_word_count\n",
    "            df[group['group']] = group_count_total\n",
    "\n",
    "    # group by artists and select only columns with value to us\n",
    "    df_summed = df.groupby(['Artist']).sum()\n",
    "    df_summed_cutout = df_summed[['love', 'money', 'violence', 'drugs', 'gendered', 'featured_count','producer_count', 'writer_count']]\n",
    "\n",
    "    df_mean = df.groupby(['Artist'])[['love', 'money', 'violence', 'drugs', 'gendered', 'featured_count','producer_count', 'writer_count']].mean()\n",
    "    df_mean_cutout = df_mean[['love', 'money', 'violence', 'drugs', 'gendered', 'featured_count','producer_count', 'writer_count']]\n",
    "    \n",
    "    # save within-genre df summed for each artist\n",
    "    df_len = len(df_summed)\n",
    "    df_summed_cutout.to_csv(f'dataframes/group_stats/sum/{genre}_{df_len}.csv')\n",
    "    df_mean_cutout.to_csv(f'dataframes/group_stats/mean/{genre}_{df_len}.csv')\n",
    "    \n",
    "    genre_sum = pd.DataFrame(df_summed_cutout.sum())\n",
    "    genre_sum = genre_sum.T\n",
    "    genre_sum.index = [genre]\n",
    "\n",
    "    genre_mean = pd.DataFrame(df_mean_cutout.mean())\n",
    "    genre_mean = genre_mean.T\n",
    "    genre_mean.index = [genre]\n",
    "\n",
    "    # add to all genres df\n",
    "    genre_sum_df = pd.concat([genre_sum_df, genre_sum], axis=0)\n",
    "    genre_mean_df = pd.concat([genre_mean_df, genre_sum], axis=0)\n",
    "\n",
    "genre_sum_df.to_csv(f'dataframes/group_stats/genre_sum_df.csv')\n",
    "genre_mean_df.to_csv(f'dataframes/group_stats/genre_mean_df.csv')"
   ]
  },
  {
   "cell_type": "markdown",
   "id": "d97cb2ab-1a6c-44bd-8d56-680f9f413a4c",
   "metadata": {},
   "source": [
    "### Analyze the combined dfs"
   ]
  },
  {
   "cell_type": "code",
   "execution_count": 110,
   "id": "b7ef3d84-ea7f-4378-a5ab-d61640830ce1",
   "metadata": {},
   "outputs": [],
   "source": [
    "loaded_sum_df = pd.read_csv('dataframes/group_stats/genre_sum_df.csv', index_col = 0)"
   ]
  },
  {
   "cell_type": "code",
   "execution_count": 111,
   "id": "7e35fac9-e69a-42b2-bf27-985909000cd4",
   "metadata": {},
   "outputs": [
    {
     "data": {
      "text/html": [
       "<div>\n",
       "<style scoped>\n",
       "    .dataframe tbody tr th:only-of-type {\n",
       "        vertical-align: middle;\n",
       "    }\n",
       "\n",
       "    .dataframe tbody tr th {\n",
       "        vertical-align: top;\n",
       "    }\n",
       "\n",
       "    .dataframe thead th {\n",
       "        text-align: right;\n",
       "    }\n",
       "</style>\n",
       "<table border=\"1\" class=\"dataframe\">\n",
       "  <thead>\n",
       "    <tr style=\"text-align: right;\">\n",
       "      <th></th>\n",
       "      <th>love</th>\n",
       "      <th>money</th>\n",
       "      <th>violence</th>\n",
       "      <th>drugs</th>\n",
       "      <th>gendered</th>\n",
       "      <th>featured_count</th>\n",
       "      <th>producer_count</th>\n",
       "      <th>writer_count</th>\n",
       "    </tr>\n",
       "  </thead>\n",
       "  <tbody>\n",
       "    <tr>\n",
       "      <th>pop</th>\n",
       "      <td>1573</td>\n",
       "      <td>133</td>\n",
       "      <td>159</td>\n",
       "      <td>9</td>\n",
       "      <td>7849</td>\n",
       "      <td>47</td>\n",
       "      <td>369</td>\n",
       "      <td>706</td>\n",
       "    </tr>\n",
       "    <tr>\n",
       "      <th>rap</th>\n",
       "      <td>790</td>\n",
       "      <td>634</td>\n",
       "      <td>649</td>\n",
       "      <td>97</td>\n",
       "      <td>15813</td>\n",
       "      <td>119</td>\n",
       "      <td>396</td>\n",
       "      <td>1010</td>\n",
       "    </tr>\n",
       "    <tr>\n",
       "      <th>rock</th>\n",
       "      <td>447</td>\n",
       "      <td>46</td>\n",
       "      <td>145</td>\n",
       "      <td>18</td>\n",
       "      <td>5073</td>\n",
       "      <td>6</td>\n",
       "      <td>273</td>\n",
       "      <td>530</td>\n",
       "    </tr>\n",
       "    <tr>\n",
       "      <th>soul</th>\n",
       "      <td>1661</td>\n",
       "      <td>52</td>\n",
       "      <td>33</td>\n",
       "      <td>4</td>\n",
       "      <td>5334</td>\n",
       "      <td>9</td>\n",
       "      <td>271</td>\n",
       "      <td>342</td>\n",
       "    </tr>\n",
       "  </tbody>\n",
       "</table>\n",
       "</div>"
      ],
      "text/plain": [
       "      love  money  violence  drugs  gendered  featured_count  producer_count  \\\n",
       "pop   1573    133       159      9      7849              47             369   \n",
       "rap    790    634       649     97     15813             119             396   \n",
       "rock   447     46       145     18      5073               6             273   \n",
       "soul  1661     52        33      4      5334               9             271   \n",
       "\n",
       "      writer_count  \n",
       "pop            706  \n",
       "rap           1010  \n",
       "rock           530  \n",
       "soul           342  "
      ]
     },
     "execution_count": 111,
     "metadata": {},
     "output_type": "execute_result"
    }
   ],
   "source": [
    "loaded_sum_df.head()"
   ]
  },
  {
   "cell_type": "code",
   "execution_count": 133,
   "id": "81ca961e-ee8d-4671-9037-2babb2ee9e05",
   "metadata": {},
   "outputs": [
    {
     "data": {
      "application/vnd.plotly.v1+json": {
       "config": {
        "plotlyServerURL": "https://plot.ly"
       },
       "data": [
        {
         "alignmentgroup": "True",
         "bingroup": "x",
         "histfunc": "sum",
         "hovertemplate": "variable=love<br>index=%{x}<br>sum of value=%{y}<extra></extra>",
         "legendgroup": "love",
         "marker": {
          "color": "#636efa",
          "pattern": {
           "shape": ""
          }
         },
         "name": "love",
         "offsetgroup": "love",
         "orientation": "v",
         "showlegend": true,
         "type": "histogram",
         "x": [
          "pop",
          "rap",
          "rock",
          "soul"
         ],
         "xaxis": "x",
         "y": [
          1573,
          790,
          447,
          1661
         ],
         "yaxis": "y"
        },
        {
         "alignmentgroup": "True",
         "bingroup": "x",
         "histfunc": "sum",
         "hovertemplate": "variable=money<br>index=%{x}<br>sum of value=%{y}<extra></extra>",
         "legendgroup": "money",
         "marker": {
          "color": "#EF553B",
          "pattern": {
           "shape": ""
          }
         },
         "name": "money",
         "offsetgroup": "money",
         "orientation": "v",
         "showlegend": true,
         "type": "histogram",
         "x": [
          "pop",
          "rap",
          "rock",
          "soul"
         ],
         "xaxis": "x",
         "y": [
          133,
          634,
          46,
          52
         ],
         "yaxis": "y"
        },
        {
         "type": "histogram",
         "x": [
          "pop",
          "rap",
          "rock",
          "soul"
         ],
         "y": [
          133,
          634,
          46,
          52
         ]
        }
       ],
       "layout": {
        "autosize": true,
        "barmode": "relative",
        "legend": {
         "title": {
          "text": "variable"
         },
         "tracegroupgap": 0
        },
        "margin": {
         "t": 60
        },
        "template": {
         "data": {
          "bar": [
           {
            "error_x": {
             "color": "#2a3f5f"
            },
            "error_y": {
             "color": "#2a3f5f"
            },
            "marker": {
             "line": {
              "color": "#E5ECF6",
              "width": 0.5
             },
             "pattern": {
              "fillmode": "overlay",
              "size": 10,
              "solidity": 0.2
             }
            },
            "type": "bar"
           }
          ],
          "barpolar": [
           {
            "marker": {
             "line": {
              "color": "#E5ECF6",
              "width": 0.5
             },
             "pattern": {
              "fillmode": "overlay",
              "size": 10,
              "solidity": 0.2
             }
            },
            "type": "barpolar"
           }
          ],
          "carpet": [
           {
            "aaxis": {
             "endlinecolor": "#2a3f5f",
             "gridcolor": "white",
             "linecolor": "white",
             "minorgridcolor": "white",
             "startlinecolor": "#2a3f5f"
            },
            "baxis": {
             "endlinecolor": "#2a3f5f",
             "gridcolor": "white",
             "linecolor": "white",
             "minorgridcolor": "white",
             "startlinecolor": "#2a3f5f"
            },
            "type": "carpet"
           }
          ],
          "choropleth": [
           {
            "colorbar": {
             "outlinewidth": 0,
             "ticks": ""
            },
            "type": "choropleth"
           }
          ],
          "contour": [
           {
            "colorbar": {
             "outlinewidth": 0,
             "ticks": ""
            },
            "colorscale": [
             [
              0,
              "#0d0887"
             ],
             [
              0.1111111111111111,
              "#46039f"
             ],
             [
              0.2222222222222222,
              "#7201a8"
             ],
             [
              0.3333333333333333,
              "#9c179e"
             ],
             [
              0.4444444444444444,
              "#bd3786"
             ],
             [
              0.5555555555555556,
              "#d8576b"
             ],
             [
              0.6666666666666666,
              "#ed7953"
             ],
             [
              0.7777777777777778,
              "#fb9f3a"
             ],
             [
              0.8888888888888888,
              "#fdca26"
             ],
             [
              1,
              "#f0f921"
             ]
            ],
            "type": "contour"
           }
          ],
          "contourcarpet": [
           {
            "colorbar": {
             "outlinewidth": 0,
             "ticks": ""
            },
            "type": "contourcarpet"
           }
          ],
          "heatmap": [
           {
            "colorbar": {
             "outlinewidth": 0,
             "ticks": ""
            },
            "colorscale": [
             [
              0,
              "#0d0887"
             ],
             [
              0.1111111111111111,
              "#46039f"
             ],
             [
              0.2222222222222222,
              "#7201a8"
             ],
             [
              0.3333333333333333,
              "#9c179e"
             ],
             [
              0.4444444444444444,
              "#bd3786"
             ],
             [
              0.5555555555555556,
              "#d8576b"
             ],
             [
              0.6666666666666666,
              "#ed7953"
             ],
             [
              0.7777777777777778,
              "#fb9f3a"
             ],
             [
              0.8888888888888888,
              "#fdca26"
             ],
             [
              1,
              "#f0f921"
             ]
            ],
            "type": "heatmap"
           }
          ],
          "heatmapgl": [
           {
            "colorbar": {
             "outlinewidth": 0,
             "ticks": ""
            },
            "colorscale": [
             [
              0,
              "#0d0887"
             ],
             [
              0.1111111111111111,
              "#46039f"
             ],
             [
              0.2222222222222222,
              "#7201a8"
             ],
             [
              0.3333333333333333,
              "#9c179e"
             ],
             [
              0.4444444444444444,
              "#bd3786"
             ],
             [
              0.5555555555555556,
              "#d8576b"
             ],
             [
              0.6666666666666666,
              "#ed7953"
             ],
             [
              0.7777777777777778,
              "#fb9f3a"
             ],
             [
              0.8888888888888888,
              "#fdca26"
             ],
             [
              1,
              "#f0f921"
             ]
            ],
            "type": "heatmapgl"
           }
          ],
          "histogram": [
           {
            "marker": {
             "pattern": {
              "fillmode": "overlay",
              "size": 10,
              "solidity": 0.2
             }
            },
            "type": "histogram"
           }
          ],
          "histogram2d": [
           {
            "colorbar": {
             "outlinewidth": 0,
             "ticks": ""
            },
            "colorscale": [
             [
              0,
              "#0d0887"
             ],
             [
              0.1111111111111111,
              "#46039f"
             ],
             [
              0.2222222222222222,
              "#7201a8"
             ],
             [
              0.3333333333333333,
              "#9c179e"
             ],
             [
              0.4444444444444444,
              "#bd3786"
             ],
             [
              0.5555555555555556,
              "#d8576b"
             ],
             [
              0.6666666666666666,
              "#ed7953"
             ],
             [
              0.7777777777777778,
              "#fb9f3a"
             ],
             [
              0.8888888888888888,
              "#fdca26"
             ],
             [
              1,
              "#f0f921"
             ]
            ],
            "type": "histogram2d"
           }
          ],
          "histogram2dcontour": [
           {
            "colorbar": {
             "outlinewidth": 0,
             "ticks": ""
            },
            "colorscale": [
             [
              0,
              "#0d0887"
             ],
             [
              0.1111111111111111,
              "#46039f"
             ],
             [
              0.2222222222222222,
              "#7201a8"
             ],
             [
              0.3333333333333333,
              "#9c179e"
             ],
             [
              0.4444444444444444,
              "#bd3786"
             ],
             [
              0.5555555555555556,
              "#d8576b"
             ],
             [
              0.6666666666666666,
              "#ed7953"
             ],
             [
              0.7777777777777778,
              "#fb9f3a"
             ],
             [
              0.8888888888888888,
              "#fdca26"
             ],
             [
              1,
              "#f0f921"
             ]
            ],
            "type": "histogram2dcontour"
           }
          ],
          "mesh3d": [
           {
            "colorbar": {
             "outlinewidth": 0,
             "ticks": ""
            },
            "type": "mesh3d"
           }
          ],
          "parcoords": [
           {
            "line": {
             "colorbar": {
              "outlinewidth": 0,
              "ticks": ""
             }
            },
            "type": "parcoords"
           }
          ],
          "pie": [
           {
            "automargin": true,
            "type": "pie"
           }
          ],
          "scatter": [
           {
            "fillpattern": {
             "fillmode": "overlay",
             "size": 10,
             "solidity": 0.2
            },
            "type": "scatter"
           }
          ],
          "scatter3d": [
           {
            "line": {
             "colorbar": {
              "outlinewidth": 0,
              "ticks": ""
             }
            },
            "marker": {
             "colorbar": {
              "outlinewidth": 0,
              "ticks": ""
             }
            },
            "type": "scatter3d"
           }
          ],
          "scattercarpet": [
           {
            "marker": {
             "colorbar": {
              "outlinewidth": 0,
              "ticks": ""
             }
            },
            "type": "scattercarpet"
           }
          ],
          "scattergeo": [
           {
            "marker": {
             "colorbar": {
              "outlinewidth": 0,
              "ticks": ""
             }
            },
            "type": "scattergeo"
           }
          ],
          "scattergl": [
           {
            "marker": {
             "colorbar": {
              "outlinewidth": 0,
              "ticks": ""
             }
            },
            "type": "scattergl"
           }
          ],
          "scattermapbox": [
           {
            "marker": {
             "colorbar": {
              "outlinewidth": 0,
              "ticks": ""
             }
            },
            "type": "scattermapbox"
           }
          ],
          "scatterpolar": [
           {
            "marker": {
             "colorbar": {
              "outlinewidth": 0,
              "ticks": ""
             }
            },
            "type": "scatterpolar"
           }
          ],
          "scatterpolargl": [
           {
            "marker": {
             "colorbar": {
              "outlinewidth": 0,
              "ticks": ""
             }
            },
            "type": "scatterpolargl"
           }
          ],
          "scatterternary": [
           {
            "marker": {
             "colorbar": {
              "outlinewidth": 0,
              "ticks": ""
             }
            },
            "type": "scatterternary"
           }
          ],
          "surface": [
           {
            "colorbar": {
             "outlinewidth": 0,
             "ticks": ""
            },
            "colorscale": [
             [
              0,
              "#0d0887"
             ],
             [
              0.1111111111111111,
              "#46039f"
             ],
             [
              0.2222222222222222,
              "#7201a8"
             ],
             [
              0.3333333333333333,
              "#9c179e"
             ],
             [
              0.4444444444444444,
              "#bd3786"
             ],
             [
              0.5555555555555556,
              "#d8576b"
             ],
             [
              0.6666666666666666,
              "#ed7953"
             ],
             [
              0.7777777777777778,
              "#fb9f3a"
             ],
             [
              0.8888888888888888,
              "#fdca26"
             ],
             [
              1,
              "#f0f921"
             ]
            ],
            "type": "surface"
           }
          ],
          "table": [
           {
            "cells": {
             "fill": {
              "color": "#EBF0F8"
             },
             "line": {
              "color": "white"
             }
            },
            "header": {
             "fill": {
              "color": "#C8D4E3"
             },
             "line": {
              "color": "white"
             }
            },
            "type": "table"
           }
          ]
         },
         "layout": {
          "annotationdefaults": {
           "arrowcolor": "#2a3f5f",
           "arrowhead": 0,
           "arrowwidth": 1
          },
          "autotypenumbers": "strict",
          "coloraxis": {
           "colorbar": {
            "outlinewidth": 0,
            "ticks": ""
           }
          },
          "colorscale": {
           "diverging": [
            [
             0,
             "#8e0152"
            ],
            [
             0.1,
             "#c51b7d"
            ],
            [
             0.2,
             "#de77ae"
            ],
            [
             0.3,
             "#f1b6da"
            ],
            [
             0.4,
             "#fde0ef"
            ],
            [
             0.5,
             "#f7f7f7"
            ],
            [
             0.6,
             "#e6f5d0"
            ],
            [
             0.7,
             "#b8e186"
            ],
            [
             0.8,
             "#7fbc41"
            ],
            [
             0.9,
             "#4d9221"
            ],
            [
             1,
             "#276419"
            ]
           ],
           "sequential": [
            [
             0,
             "#0d0887"
            ],
            [
             0.1111111111111111,
             "#46039f"
            ],
            [
             0.2222222222222222,
             "#7201a8"
            ],
            [
             0.3333333333333333,
             "#9c179e"
            ],
            [
             0.4444444444444444,
             "#bd3786"
            ],
            [
             0.5555555555555556,
             "#d8576b"
            ],
            [
             0.6666666666666666,
             "#ed7953"
            ],
            [
             0.7777777777777778,
             "#fb9f3a"
            ],
            [
             0.8888888888888888,
             "#fdca26"
            ],
            [
             1,
             "#f0f921"
            ]
           ],
           "sequentialminus": [
            [
             0,
             "#0d0887"
            ],
            [
             0.1111111111111111,
             "#46039f"
            ],
            [
             0.2222222222222222,
             "#7201a8"
            ],
            [
             0.3333333333333333,
             "#9c179e"
            ],
            [
             0.4444444444444444,
             "#bd3786"
            ],
            [
             0.5555555555555556,
             "#d8576b"
            ],
            [
             0.6666666666666666,
             "#ed7953"
            ],
            [
             0.7777777777777778,
             "#fb9f3a"
            ],
            [
             0.8888888888888888,
             "#fdca26"
            ],
            [
             1,
             "#f0f921"
            ]
           ]
          },
          "colorway": [
           "#636efa",
           "#EF553B",
           "#00cc96",
           "#ab63fa",
           "#FFA15A",
           "#19d3f3",
           "#FF6692",
           "#B6E880",
           "#FF97FF",
           "#FECB52"
          ],
          "font": {
           "color": "#2a3f5f"
          },
          "geo": {
           "bgcolor": "white",
           "lakecolor": "white",
           "landcolor": "#E5ECF6",
           "showlakes": true,
           "showland": true,
           "subunitcolor": "white"
          },
          "hoverlabel": {
           "align": "left"
          },
          "hovermode": "closest",
          "mapbox": {
           "style": "light"
          },
          "paper_bgcolor": "white",
          "plot_bgcolor": "#E5ECF6",
          "polar": {
           "angularaxis": {
            "gridcolor": "white",
            "linecolor": "white",
            "ticks": ""
           },
           "bgcolor": "#E5ECF6",
           "radialaxis": {
            "gridcolor": "white",
            "linecolor": "white",
            "ticks": ""
           }
          },
          "scene": {
           "xaxis": {
            "backgroundcolor": "#E5ECF6",
            "gridcolor": "white",
            "gridwidth": 2,
            "linecolor": "white",
            "showbackground": true,
            "ticks": "",
            "zerolinecolor": "white"
           },
           "yaxis": {
            "backgroundcolor": "#E5ECF6",
            "gridcolor": "white",
            "gridwidth": 2,
            "linecolor": "white",
            "showbackground": true,
            "ticks": "",
            "zerolinecolor": "white"
           },
           "zaxis": {
            "backgroundcolor": "#E5ECF6",
            "gridcolor": "white",
            "gridwidth": 2,
            "linecolor": "white",
            "showbackground": true,
            "ticks": "",
            "zerolinecolor": "white"
           }
          },
          "shapedefaults": {
           "line": {
            "color": "#2a3f5f"
           }
          },
          "ternary": {
           "aaxis": {
            "gridcolor": "white",
            "linecolor": "white",
            "ticks": ""
           },
           "baxis": {
            "gridcolor": "white",
            "linecolor": "white",
            "ticks": ""
           },
           "bgcolor": "#E5ECF6",
           "caxis": {
            "gridcolor": "white",
            "linecolor": "white",
            "ticks": ""
           }
          },
          "title": {
           "x": 0.05
          },
          "xaxis": {
           "automargin": true,
           "gridcolor": "white",
           "linecolor": "white",
           "ticks": "",
           "title": {
            "standoff": 15
           },
           "zerolinecolor": "white",
           "zerolinewidth": 2
          },
          "yaxis": {
           "automargin": true,
           "gridcolor": "white",
           "linecolor": "white",
           "ticks": "",
           "title": {
            "standoff": 15
           },
           "zerolinecolor": "white",
           "zerolinewidth": 2
          }
         }
        },
        "xaxis": {
         "anchor": "y",
         "autorange": true,
         "domain": [
          0,
          1
         ],
         "range": [
          -0.5,
          3.5
         ],
         "title": {
          "text": "index"
         },
         "type": "category"
        },
        "yaxis": {
         "anchor": "x",
         "autorange": true,
         "domain": [
          0,
          1
         ],
         "range": [
          0,
          1804.2105263157896
         ],
         "title": {
          "text": "sum of value"
         },
         "type": "linear"
        }
       }
      },
      "image/png": "[encoded data removed]",
      "text/html": [
       "<div>                            <div id=\"c9830877-2953-4e5c-8fed-a5b5641995e4\" class=\"plotly-graph-div\" style=\"height:525px; width:100%;\"></div>            <script type=\"text/javascript\">                require([\"plotly\"], function(Plotly) {                    window.PLOTLYENV=window.PLOTLYENV || {};                                    if (document.getElementById(\"c9830877-2953-4e5c-8fed-a5b5641995e4\")) {                    Plotly.newPlot(                        \"c9830877-2953-4e5c-8fed-a5b5641995e4\",                        [{\"alignmentgroup\":\"True\",\"bingroup\":\"x\",\"histfunc\":\"sum\",\"hovertemplate\":\"variable=love\\u003cbr\\u003eindex=%{x}\\u003cbr\\u003esum of value=%{y}\\u003cextra\\u003e\\u003c\\u002fextra\\u003e\",\"legendgroup\":\"love\",\"marker\":{\"color\":\"#636efa\",\"pattern\":{\"shape\":\"\"}},\"name\":\"love\",\"offsetgroup\":\"love\",\"orientation\":\"v\",\"showlegend\":true,\"x\":[\"pop\",\"rap\",\"rock\",\"soul\"],\"xaxis\":\"x\",\"y\":[1573,790,447,1661],\"yaxis\":\"y\",\"type\":\"histogram\"},{\"alignmentgroup\":\"True\",\"bingroup\":\"x\",\"histfunc\":\"sum\",\"hovertemplate\":\"variable=money\\u003cbr\\u003eindex=%{x}\\u003cbr\\u003esum of value=%{y}\\u003cextra\\u003e\\u003c\\u002fextra\\u003e\",\"legendgroup\":\"money\",\"marker\":{\"color\":\"#EF553B\",\"pattern\":{\"shape\":\"\"}},\"name\":\"money\",\"offsetgroup\":\"money\",\"orientation\":\"v\",\"showlegend\":true,\"x\":[\"pop\",\"rap\",\"rock\",\"soul\"],\"xaxis\":\"x\",\"y\":[133,634,46,52],\"yaxis\":\"y\",\"type\":\"histogram\"},{\"x\":[\"pop\",\"rap\",\"rock\",\"soul\"],\"y\":[133,634,46,52],\"type\":\"histogram\"}],                        {\"template\":{\"data\":{\"histogram2dcontour\":[{\"type\":\"histogram2dcontour\",\"colorbar\":{\"outlinewidth\":0,\"ticks\":\"\"},\"colorscale\":[[0.0,\"#0d0887\"],[0.1111111111111111,\"#46039f\"],[0.2222222222222222,\"#7201a8\"],[0.3333333333333333,\"#9c179e\"],[0.4444444444444444,\"#bd3786\"],[0.5555555555555556,\"#d8576b\"],[0.6666666666666666,\"#ed7953\"],[0.7777777777777778,\"#fb9f3a\"],[0.8888888888888888,\"#fdca26\"],[1.0,\"#f0f921\"]]}],\"choropleth\":[{\"type\":\"choropleth\",\"colorbar\":{\"outlinewidth\":0,\"ticks\":\"\"}}],\"histogram2d\":[{\"type\":\"histogram2d\",\"colorbar\":{\"outlinewidth\":0,\"ticks\":\"\"},\"colorscale\":[[0.0,\"#0d0887\"],[0.1111111111111111,\"#46039f\"],[0.2222222222222222,\"#7201a8\"],[0.3333333333333333,\"#9c179e\"],[0.4444444444444444,\"#bd3786\"],[0.5555555555555556,\"#d8576b\"],[0.6666666666666666,\"#ed7953\"],[0.7777777777777778,\"#fb9f3a\"],[0.8888888888888888,\"#fdca26\"],[1.0,\"#f0f921\"]]}],\"heatmap\":[{\"type\":\"heatmap\",\"colorbar\":{\"outlinewidth\":0,\"ticks\":\"\"},\"colorscale\":[[0.0,\"#0d0887\"],[0.1111111111111111,\"#46039f\"],[0.2222222222222222,\"#7201a8\"],[0.3333333333333333,\"#9c179e\"],[0.4444444444444444,\"#bd3786\"],[0.5555555555555556,\"#d8576b\"],[0.6666666666666666,\"#ed7953\"],[0.7777777777777778,\"#fb9f3a\"],[0.8888888888888888,\"#fdca26\"],[1.0,\"#f0f921\"]]}],\"heatmapgl\":[{\"type\":\"heatmapgl\",\"colorbar\":{\"outlinewidth\":0,\"ticks\":\"\"},\"colorscale\":[[0.0,\"#0d0887\"],[0.1111111111111111,\"#46039f\"],[0.2222222222222222,\"#7201a8\"],[0.3333333333333333,\"#9c179e\"],[0.4444444444444444,\"#bd3786\"],[0.5555555555555556,\"#d8576b\"],[0.6666666666666666,\"#ed7953\"],[0.7777777777777778,\"#fb9f3a\"],[0.8888888888888888,\"#fdca26\"],[1.0,\"#f0f921\"]]}],\"contourcarpet\":[{\"type\":\"contourcarpet\",\"colorbar\":{\"outlinewidth\":0,\"ticks\":\"\"}}],\"contour\":[{\"type\":\"contour\",\"colorbar\":{\"outlinewidth\":0,\"ticks\":\"\"},\"colorscale\":[[0.0,\"#0d0887\"],[0.1111111111111111,\"#46039f\"],[0.2222222222222222,\"#7201a8\"],[0.3333333333333333,\"#9c179e\"],[0.4444444444444444,\"#bd3786\"],[0.5555555555555556,\"#d8576b\"],[0.6666666666666666,\"#ed7953\"],[0.7777777777777778,\"#fb9f3a\"],[0.8888888888888888,\"#fdca26\"],[1.0,\"#f0f921\"]]}],\"surface\":[{\"type\":\"surface\",\"colorbar\":{\"outlinewidth\":0,\"ticks\":\"\"},\"colorscale\":[[0.0,\"#0d0887\"],[0.1111111111111111,\"#46039f\"],[0.2222222222222222,\"#7201a8\"],[0.3333333333333333,\"#9c179e\"],[0.4444444444444444,\"#bd3786\"],[0.5555555555555556,\"#d8576b\"],[0.6666666666666666,\"#ed7953\"],[0.7777777777777778,\"#fb9f3a\"],[0.8888888888888888,\"#fdca26\"],[1.0,\"#f0f921\"]]}],\"mesh3d\":[{\"type\":\"mesh3d\",\"colorbar\":{\"outlinewidth\":0,\"ticks\":\"\"}}],\"scatter\":[{\"fillpattern\":{\"fillmode\":\"overlay\",\"size\":10,\"solidity\":0.2},\"type\":\"scatter\"}],\"parcoords\":[{\"type\":\"parcoords\",\"line\":{\"colorbar\":{\"outlinewidth\":0,\"ticks\":\"\"}}}],\"scatterpolargl\":[{\"type\":\"scatterpolargl\",\"marker\":{\"colorbar\":{\"outlinewidth\":0,\"ticks\":\"\"}}}],\"bar\":[{\"error_x\":{\"color\":\"#2a3f5f\"},\"error_y\":{\"color\":\"#2a3f5f\"},\"marker\":{\"line\":{\"color\":\"#E5ECF6\",\"width\":0.5},\"pattern\":{\"fillmode\":\"overlay\",\"size\":10,\"solidity\":0.2}},\"type\":\"bar\"}],\"scattergeo\":[{\"type\":\"scattergeo\",\"marker\":{\"colorbar\":{\"outlinewidth\":0,\"ticks\":\"\"}}}],\"scatterpolar\":[{\"type\":\"scatterpolar\",\"marker\":{\"colorbar\":{\"outlinewidth\":0,\"ticks\":\"\"}}}],\"histogram\":[{\"marker\":{\"pattern\":{\"fillmode\":\"overlay\",\"size\":10,\"solidity\":0.2}},\"type\":\"histogram\"}],\"scattergl\":[{\"type\":\"scattergl\",\"marker\":{\"colorbar\":{\"outlinewidth\":0,\"ticks\":\"\"}}}],\"scatter3d\":[{\"type\":\"scatter3d\",\"line\":{\"colorbar\":{\"outlinewidth\":0,\"ticks\":\"\"}},\"marker\":{\"colorbar\":{\"outlinewidth\":0,\"ticks\":\"\"}}}],\"scattermapbox\":[{\"type\":\"scattermapbox\",\"marker\":{\"colorbar\":{\"outlinewidth\":0,\"ticks\":\"\"}}}],\"scatterternary\":[{\"type\":\"scatterternary\",\"marker\":{\"colorbar\":{\"outlinewidth\":0,\"ticks\":\"\"}}}],\"scattercarpet\":[{\"type\":\"scattercarpet\",\"marker\":{\"colorbar\":{\"outlinewidth\":0,\"ticks\":\"\"}}}],\"carpet\":[{\"aaxis\":{\"endlinecolor\":\"#2a3f5f\",\"gridcolor\":\"white\",\"linecolor\":\"white\",\"minorgridcolor\":\"white\",\"startlinecolor\":\"#2a3f5f\"},\"baxis\":{\"endlinecolor\":\"#2a3f5f\",\"gridcolor\":\"white\",\"linecolor\":\"white\",\"minorgridcolor\":\"white\",\"startlinecolor\":\"#2a3f5f\"},\"type\":\"carpet\"}],\"table\":[{\"cells\":{\"fill\":{\"color\":\"#EBF0F8\"},\"line\":{\"color\":\"white\"}},\"header\":{\"fill\":{\"color\":\"#C8D4E3\"},\"line\":{\"color\":\"white\"}},\"type\":\"table\"}],\"barpolar\":[{\"marker\":{\"line\":{\"color\":\"#E5ECF6\",\"width\":0.5},\"pattern\":{\"fillmode\":\"overlay\",\"size\":10,\"solidity\":0.2}},\"type\":\"barpolar\"}],\"pie\":[{\"automargin\":true,\"type\":\"pie\"}]},\"layout\":{\"autotypenumbers\":\"strict\",\"colorway\":[\"#636efa\",\"#EF553B\",\"#00cc96\",\"#ab63fa\",\"#FFA15A\",\"#19d3f3\",\"#FF6692\",\"#B6E880\",\"#FF97FF\",\"#FECB52\"],\"font\":{\"color\":\"#2a3f5f\"},\"hovermode\":\"closest\",\"hoverlabel\":{\"align\":\"left\"},\"paper_bgcolor\":\"white\",\"plot_bgcolor\":\"#E5ECF6\",\"polar\":{\"bgcolor\":\"#E5ECF6\",\"angularaxis\":{\"gridcolor\":\"white\",\"linecolor\":\"white\",\"ticks\":\"\"},\"radialaxis\":{\"gridcolor\":\"white\",\"linecolor\":\"white\",\"ticks\":\"\"}},\"ternary\":{\"bgcolor\":\"#E5ECF6\",\"aaxis\":{\"gridcolor\":\"white\",\"linecolor\":\"white\",\"ticks\":\"\"},\"baxis\":{\"gridcolor\":\"white\",\"linecolor\":\"white\",\"ticks\":\"\"},\"caxis\":{\"gridcolor\":\"white\",\"linecolor\":\"white\",\"ticks\":\"\"}},\"coloraxis\":{\"colorbar\":{\"outlinewidth\":0,\"ticks\":\"\"}},\"colorscale\":{\"sequential\":[[0.0,\"#0d0887\"],[0.1111111111111111,\"#46039f\"],[0.2222222222222222,\"#7201a8\"],[0.3333333333333333,\"#9c179e\"],[0.4444444444444444,\"#bd3786\"],[0.5555555555555556,\"#d8576b\"],[0.6666666666666666,\"#ed7953\"],[0.7777777777777778,\"#fb9f3a\"],[0.8888888888888888,\"#fdca26\"],[1.0,\"#f0f921\"]],\"sequentialminus\":[[0.0,\"#0d0887\"],[0.1111111111111111,\"#46039f\"],[0.2222222222222222,\"#7201a8\"],[0.3333333333333333,\"#9c179e\"],[0.4444444444444444,\"#bd3786\"],[0.5555555555555556,\"#d8576b\"],[0.6666666666666666,\"#ed7953\"],[0.7777777777777778,\"#fb9f3a\"],[0.8888888888888888,\"#fdca26\"],[1.0,\"#f0f921\"]],\"diverging\":[[0,\"#8e0152\"],[0.1,\"#c51b7d\"],[0.2,\"#de77ae\"],[0.3,\"#f1b6da\"],[0.4,\"#fde0ef\"],[0.5,\"#f7f7f7\"],[0.6,\"#e6f5d0\"],[0.7,\"#b8e186\"],[0.8,\"#7fbc41\"],[0.9,\"#4d9221\"],[1,\"#276419\"]]},\"xaxis\":{\"gridcolor\":\"white\",\"linecolor\":\"white\",\"ticks\":\"\",\"title\":{\"standoff\":15},\"zerolinecolor\":\"white\",\"automargin\":true,\"zerolinewidth\":2},\"yaxis\":{\"gridcolor\":\"white\",\"linecolor\":\"white\",\"ticks\":\"\",\"title\":{\"standoff\":15},\"zerolinecolor\":\"white\",\"automargin\":true,\"zerolinewidth\":2},\"scene\":{\"xaxis\":{\"backgroundcolor\":\"#E5ECF6\",\"gridcolor\":\"white\",\"linecolor\":\"white\",\"showbackground\":true,\"ticks\":\"\",\"zerolinecolor\":\"white\",\"gridwidth\":2},\"yaxis\":{\"backgroundcolor\":\"#E5ECF6\",\"gridcolor\":\"white\",\"linecolor\":\"white\",\"showbackground\":true,\"ticks\":\"\",\"zerolinecolor\":\"white\",\"gridwidth\":2},\"zaxis\":{\"backgroundcolor\":\"#E5ECF6\",\"gridcolor\":\"white\",\"linecolor\":\"white\",\"showbackground\":true,\"ticks\":\"\",\"zerolinecolor\":\"white\",\"gridwidth\":2}},\"shapedefaults\":{\"line\":{\"color\":\"#2a3f5f\"}},\"annotationdefaults\":{\"arrowcolor\":\"#2a3f5f\",\"arrowhead\":0,\"arrowwidth\":1},\"geo\":{\"bgcolor\":\"white\",\"landcolor\":\"#E5ECF6\",\"subunitcolor\":\"white\",\"showland\":true,\"showlakes\":true,\"lakecolor\":\"white\"},\"title\":{\"x\":0.05},\"mapbox\":{\"style\":\"light\"}}},\"xaxis\":{\"anchor\":\"y\",\"domain\":[0.0,1.0],\"title\":{\"text\":\"index\"}},\"yaxis\":{\"anchor\":\"x\",\"domain\":[0.0,1.0],\"title\":{\"text\":\"sum of value\"}},\"legend\":{\"title\":{\"text\":\"variable\"},\"tracegroupgap\":0},\"margin\":{\"t\":60},\"barmode\":\"relative\"},                        {\"responsive\": true}                    ).then(function(){\n",
       "                            \n",
       "var gd = document.getElementById('c9830877-2953-4e5c-8fed-a5b5641995e4');\n",
       "var x = new MutationObserver(function (mutations, observer) {{\n",
       "        var display = window.getComputedStyle(gd).display;\n",
       "        if (!display || display === 'none') {{\n",
       "            console.log([gd, 'removed!']);\n",
       "            Plotly.purge(gd);\n",
       "            observer.disconnect();\n",
       "        }}\n",
       "}});\n",
       "\n",
       "// Listen for the removal of the full notebook cells\n",
       "var notebookContainer = gd.closest('#notebook-container');\n",
       "if (notebookContainer) {{\n",
       "    x.observe(notebookContainer, {childList: true});\n",
       "}}\n",
       "\n",
       "// Listen for the clearing of the current output cell\n",
       "var outputEl = gd.closest('.output');\n",
       "if (outputEl) {{\n",
       "    x.observe(outputEl, {childList: true});\n",
       "}}\n",
       "\n",
       "                        })                };                });            </script>        </div>"
      ]
     },
     "metadata": {},
     "output_type": "display_data"
    }
   ],
   "source": [
    "summed_fig = px.histogram(loaded_sum_df, y=['love', 'money'], x=loaded_sum_df.index,\n",
    "                         # barmode='group')\n",
    "                         )\n",
    "money_fig = graph_objects.Histogram(\n",
    "    x=loaded_sum_df.index,\n",
    "    y=loaded_sum_df['money'].values\n",
    ")\n",
    "\n",
    "summed_fig.add_trace(money_fig)\n",
    "\n",
    "# fig.update_layout(showlegend=False)\n",
    "summed_fig.show()"
   ]
  },
  {
   "cell_type": "code",
   "execution_count": 129,
   "id": "539a6845-e928-4496-96a6-d31d5cabc1d6",
   "metadata": {},
   "outputs": [
    {
     "data": {
      "text/plain": [
       "array([133, 634,  46,  52], dtype=int64)"
      ]
     },
     "execution_count": 129,
     "metadata": {},
     "output_type": "execute_result"
    }
   ],
   "source": [
    "loaded_sum_df['money'].values"
   ]
  },
  {
   "cell_type": "code",
   "execution_count": 132,
   "id": "872a50e8-d098-4dc0-9cf1-cd0b0965fd55",
   "metadata": {
    "scrolled": true
   },
   "outputs": [
    {
     "data": {
      "application/vnd.plotly.v1+json": {
       "config": {
        "plotlyServerURL": "https://plot.ly"
       },
       "data": [
        {
         "type": "histogram",
         "x": [
          "pop",
          "rap",
          "rock",
          "soul"
         ],
         "y": [
          133,
          634,
          46,
          52
         ]
        }
       ],
       "layout": {
        "autosize": true,
        "template": {
         "data": {
          "bar": [
           {
            "error_x": {
             "color": "#2a3f5f"
            },
            "error_y": {
             "color": "#2a3f5f"
            },
            "marker": {
             "line": {
              "color": "#E5ECF6",
              "width": 0.5
             },
             "pattern": {
              "fillmode": "overlay",
              "size": 10,
              "solidity": 0.2
             }
            },
            "type": "bar"
           }
          ],
          "barpolar": [
           {
            "marker": {
             "line": {
              "color": "#E5ECF6",
              "width": 0.5
             },
             "pattern": {
              "fillmode": "overlay",
              "size": 10,
              "solidity": 0.2
             }
            },
            "type": "barpolar"
           }
          ],
          "carpet": [
           {
            "aaxis": {
             "endlinecolor": "#2a3f5f",
             "gridcolor": "white",
             "linecolor": "white",
             "minorgridcolor": "white",
             "startlinecolor": "#2a3f5f"
            },
            "baxis": {
             "endlinecolor": "#2a3f5f",
             "gridcolor": "white",
             "linecolor": "white",
             "minorgridcolor": "white",
             "startlinecolor": "#2a3f5f"
            },
            "type": "carpet"
           }
          ],
          "choropleth": [
           {
            "colorbar": {
             "outlinewidth": 0,
             "ticks": ""
            },
            "type": "choropleth"
           }
          ],
          "contour": [
           {
            "colorbar": {
             "outlinewidth": 0,
             "ticks": ""
            },
            "colorscale": [
             [
              0,
              "#0d0887"
             ],
             [
              0.1111111111111111,
              "#46039f"
             ],
             [
              0.2222222222222222,
              "#7201a8"
             ],
             [
              0.3333333333333333,
              "#9c179e"
             ],
             [
              0.4444444444444444,
              "#bd3786"
             ],
             [
              0.5555555555555556,
              "#d8576b"
             ],
             [
              0.6666666666666666,
              "#ed7953"
             ],
             [
              0.7777777777777778,
              "#fb9f3a"
             ],
             [
              0.8888888888888888,
              "#fdca26"
             ],
             [
              1,
              "#f0f921"
             ]
            ],
            "type": "contour"
           }
          ],
          "contourcarpet": [
           {
            "colorbar": {
             "outlinewidth": 0,
             "ticks": ""
            },
            "type": "contourcarpet"
           }
          ],
          "heatmap": [
           {
            "colorbar": {
             "outlinewidth": 0,
             "ticks": ""
            },
            "colorscale": [
             [
              0,
              "#0d0887"
             ],
             [
              0.1111111111111111,
              "#46039f"
             ],
             [
              0.2222222222222222,
              "#7201a8"
             ],
             [
              0.3333333333333333,
              "#9c179e"
             ],
             [
              0.4444444444444444,
              "#bd3786"
             ],
             [
              0.5555555555555556,
              "#d8576b"
             ],
             [
              0.6666666666666666,
              "#ed7953"
             ],
             [
              0.7777777777777778,
              "#fb9f3a"
             ],
             [
              0.8888888888888888,
              "#fdca26"
             ],
             [
              1,
              "#f0f921"
             ]
            ],
            "type": "heatmap"
           }
          ],
          "heatmapgl": [
           {
            "colorbar": {
             "outlinewidth": 0,
             "ticks": ""
            },
            "colorscale": [
             [
              0,
              "#0d0887"
             ],
             [
              0.1111111111111111,
              "#46039f"
             ],
             [
              0.2222222222222222,
              "#7201a8"
             ],
             [
              0.3333333333333333,
              "#9c179e"
             ],
             [
              0.4444444444444444,
              "#bd3786"
             ],
             [
              0.5555555555555556,
              "#d8576b"
             ],
             [
              0.6666666666666666,
              "#ed7953"
             ],
             [
              0.7777777777777778,
              "#fb9f3a"
             ],
             [
              0.8888888888888888,
              "#fdca26"
             ],
             [
              1,
              "#f0f921"
             ]
            ],
            "type": "heatmapgl"
           }
          ],
          "histogram": [
           {
            "marker": {
             "pattern": {
              "fillmode": "overlay",
              "size": 10,
              "solidity": 0.2
             }
            },
            "type": "histogram"
           }
          ],
          "histogram2d": [
           {
            "colorbar": {
             "outlinewidth": 0,
             "ticks": ""
            },
            "colorscale": [
             [
              0,
              "#0d0887"
             ],
             [
              0.1111111111111111,
              "#46039f"
             ],
             [
              0.2222222222222222,
              "#7201a8"
             ],
             [
              0.3333333333333333,
              "#9c179e"
             ],
             [
              0.4444444444444444,
              "#bd3786"
             ],
             [
              0.5555555555555556,
              "#d8576b"
             ],
             [
              0.6666666666666666,
              "#ed7953"
             ],
             [
              0.7777777777777778,
              "#fb9f3a"
             ],
             [
              0.8888888888888888,
              "#fdca26"
             ],
             [
              1,
              "#f0f921"
             ]
            ],
            "type": "histogram2d"
           }
          ],
          "histogram2dcontour": [
           {
            "colorbar": {
             "outlinewidth": 0,
             "ticks": ""
            },
            "colorscale": [
             [
              0,
              "#0d0887"
             ],
             [
              0.1111111111111111,
              "#46039f"
             ],
             [
              0.2222222222222222,
              "#7201a8"
             ],
             [
              0.3333333333333333,
              "#9c179e"
             ],
             [
              0.4444444444444444,
              "#bd3786"
             ],
             [
              0.5555555555555556,
              "#d8576b"
             ],
             [
              0.6666666666666666,
              "#ed7953"
             ],
             [
              0.7777777777777778,
              "#fb9f3a"
             ],
             [
              0.8888888888888888,
              "#fdca26"
             ],
             [
              1,
              "#f0f921"
             ]
            ],
            "type": "histogram2dcontour"
           }
          ],
          "mesh3d": [
           {
            "colorbar": {
             "outlinewidth": 0,
             "ticks": ""
            },
            "type": "mesh3d"
           }
          ],
          "parcoords": [
           {
            "line": {
             "colorbar": {
              "outlinewidth": 0,
              "ticks": ""
             }
            },
            "type": "parcoords"
           }
          ],
          "pie": [
           {
            "automargin": true,
            "type": "pie"
           }
          ],
          "scatter": [
           {
            "fillpattern": {
             "fillmode": "overlay",
             "size": 10,
             "solidity": 0.2
            },
            "type": "scatter"
           }
          ],
          "scatter3d": [
           {
            "line": {
             "colorbar": {
              "outlinewidth": 0,
              "ticks": ""
             }
            },
            "marker": {
             "colorbar": {
              "outlinewidth": 0,
              "ticks": ""
             }
            },
            "type": "scatter3d"
           }
          ],
          "scattercarpet": [
           {
            "marker": {
             "colorbar": {
              "outlinewidth": 0,
              "ticks": ""
             }
            },
            "type": "scattercarpet"
           }
          ],
          "scattergeo": [
           {
            "marker": {
             "colorbar": {
              "outlinewidth": 0,
              "ticks": ""
             }
            },
            "type": "scattergeo"
           }
          ],
          "scattergl": [
           {
            "marker": {
             "colorbar": {
              "outlinewidth": 0,
              "ticks": ""
             }
            },
            "type": "scattergl"
           }
          ],
          "scattermapbox": [
           {
            "marker": {
             "colorbar": {
              "outlinewidth": 0,
              "ticks": ""
             }
            },
            "type": "scattermapbox"
           }
          ],
          "scatterpolar": [
           {
            "marker": {
             "colorbar": {
              "outlinewidth": 0,
              "ticks": ""
             }
            },
            "type": "scatterpolar"
           }
          ],
          "scatterpolargl": [
           {
            "marker": {
             "colorbar": {
              "outlinewidth": 0,
              "ticks": ""
             }
            },
            "type": "scatterpolargl"
           }
          ],
          "scatterternary": [
           {
            "marker": {
             "colorbar": {
              "outlinewidth": 0,
              "ticks": ""
             }
            },
            "type": "scatterternary"
           }
          ],
          "surface": [
           {
            "colorbar": {
             "outlinewidth": 0,
             "ticks": ""
            },
            "colorscale": [
             [
              0,
              "#0d0887"
             ],
             [
              0.1111111111111111,
              "#46039f"
             ],
             [
              0.2222222222222222,
              "#7201a8"
             ],
             [
              0.3333333333333333,
              "#9c179e"
             ],
             [
              0.4444444444444444,
              "#bd3786"
             ],
             [
              0.5555555555555556,
              "#d8576b"
             ],
             [
              0.6666666666666666,
              "#ed7953"
             ],
             [
              0.7777777777777778,
              "#fb9f3a"
             ],
             [
              0.8888888888888888,
              "#fdca26"
             ],
             [
              1,
              "#f0f921"
             ]
            ],
            "type": "surface"
           }
          ],
          "table": [
           {
            "cells": {
             "fill": {
              "color": "#EBF0F8"
             },
             "line": {
              "color": "white"
             }
            },
            "header": {
             "fill": {
              "color": "#C8D4E3"
             },
             "line": {
              "color": "white"
             }
            },
            "type": "table"
           }
          ]
         },
         "layout": {
          "annotationdefaults": {
           "arrowcolor": "#2a3f5f",
           "arrowhead": 0,
           "arrowwidth": 1
          },
          "autotypenumbers": "strict",
          "coloraxis": {
           "colorbar": {
            "outlinewidth": 0,
            "ticks": ""
           }
          },
          "colorscale": {
           "diverging": [
            [
             0,
             "#8e0152"
            ],
            [
             0.1,
             "#c51b7d"
            ],
            [
             0.2,
             "#de77ae"
            ],
            [
             0.3,
             "#f1b6da"
            ],
            [
             0.4,
             "#fde0ef"
            ],
            [
             0.5,
             "#f7f7f7"
            ],
            [
             0.6,
             "#e6f5d0"
            ],
            [
             0.7,
             "#b8e186"
            ],
            [
             0.8,
             "#7fbc41"
            ],
            [
             0.9,
             "#4d9221"
            ],
            [
             1,
             "#276419"
            ]
           ],
           "sequential": [
            [
             0,
             "#0d0887"
            ],
            [
             0.1111111111111111,
             "#46039f"
            ],
            [
             0.2222222222222222,
             "#7201a8"
            ],
            [
             0.3333333333333333,
             "#9c179e"
            ],
            [
             0.4444444444444444,
             "#bd3786"
            ],
            [
             0.5555555555555556,
             "#d8576b"
            ],
            [
             0.6666666666666666,
             "#ed7953"
            ],
            [
             0.7777777777777778,
             "#fb9f3a"
            ],
            [
             0.8888888888888888,
             "#fdca26"
            ],
            [
             1,
             "#f0f921"
            ]
           ],
           "sequentialminus": [
            [
             0,
             "#0d0887"
            ],
            [
             0.1111111111111111,
             "#46039f"
            ],
            [
             0.2222222222222222,
             "#7201a8"
            ],
            [
             0.3333333333333333,
             "#9c179e"
            ],
            [
             0.4444444444444444,
             "#bd3786"
            ],
            [
             0.5555555555555556,
             "#d8576b"
            ],
            [
             0.6666666666666666,
             "#ed7953"
            ],
            [
             0.7777777777777778,
             "#fb9f3a"
            ],
            [
             0.8888888888888888,
             "#fdca26"
            ],
            [
             1,
             "#f0f921"
            ]
           ]
          },
          "colorway": [
           "#636efa",
           "#EF553B",
           "#00cc96",
           "#ab63fa",
           "#FFA15A",
           "#19d3f3",
           "#FF6692",
           "#B6E880",
           "#FF97FF",
           "#FECB52"
          ],
          "font": {
           "color": "#2a3f5f"
          },
          "geo": {
           "bgcolor": "white",
           "lakecolor": "white",
           "landcolor": "#E5ECF6",
           "showlakes": true,
           "showland": true,
           "subunitcolor": "white"
          },
          "hoverlabel": {
           "align": "left"
          },
          "hovermode": "closest",
          "mapbox": {
           "style": "light"
          },
          "paper_bgcolor": "white",
          "plot_bgcolor": "#E5ECF6",
          "polar": {
           "angularaxis": {
            "gridcolor": "white",
            "linecolor": "white",
            "ticks": ""
           },
           "bgcolor": "#E5ECF6",
           "radialaxis": {
            "gridcolor": "white",
            "linecolor": "white",
            "ticks": ""
           }
          },
          "scene": {
           "xaxis": {
            "backgroundcolor": "#E5ECF6",
            "gridcolor": "white",
            "gridwidth": 2,
            "linecolor": "white",
            "showbackground": true,
            "ticks": "",
            "zerolinecolor": "white"
           },
           "yaxis": {
            "backgroundcolor": "#E5ECF6",
            "gridcolor": "white",
            "gridwidth": 2,
            "linecolor": "white",
            "showbackground": true,
            "ticks": "",
            "zerolinecolor": "white"
           },
           "zaxis": {
            "backgroundcolor": "#E5ECF6",
            "gridcolor": "white",
            "gridwidth": 2,
            "linecolor": "white",
            "showbackground": true,
            "ticks": "",
            "zerolinecolor": "white"
           }
          },
          "shapedefaults": {
           "line": {
            "color": "#2a3f5f"
           }
          },
          "ternary": {
           "aaxis": {
            "gridcolor": "white",
            "linecolor": "white",
            "ticks": ""
           },
           "baxis": {
            "gridcolor": "white",
            "linecolor": "white",
            "ticks": ""
           },
           "bgcolor": "#E5ECF6",
           "caxis": {
            "gridcolor": "white",
            "linecolor": "white",
            "ticks": ""
           }
          },
          "title": {
           "x": 0.05
          },
          "xaxis": {
           "automargin": true,
           "gridcolor": "white",
           "linecolor": "white",
           "ticks": "",
           "title": {
            "standoff": 15
           },
           "zerolinecolor": "white",
           "zerolinewidth": 2
          },
          "yaxis": {
           "automargin": true,
           "gridcolor": "white",
           "linecolor": "white",
           "ticks": "",
           "title": {
            "standoff": 15
           },
           "zerolinecolor": "white",
           "zerolinewidth": 2
          }
         }
        },
        "xaxis": {
         "anchor": "y",
         "autorange": true,
         "domain": [
          0,
          0.45
         ],
         "range": [
          -0.5,
          3.5
         ],
         "type": "category"
        },
        "xaxis2": {
         "anchor": "y2",
         "domain": [
          0.55,
          1
         ]
        },
        "yaxis": {
         "anchor": "x",
         "autorange": true,
         "domain": [
          0,
          1
         ],
         "range": [
          0,
          1.0526315789473684
         ],
         "type": "linear"
        },
        "yaxis2": {
         "anchor": "x2",
         "domain": [
          0,
          1
         ]
        }
       }
      },
      "image/png": "[encoded data removed]",
      "text/html": [
       "<div>                            <div id=\"53acc429-c56a-4558-bb52-adf326caefd5\" class=\"plotly-graph-div\" style=\"height:525px; width:100%;\"></div>            <script type=\"text/javascript\">                require([\"plotly\"], function(Plotly) {                    window.PLOTLYENV=window.PLOTLYENV || {};                                    if (document.getElementById(\"53acc429-c56a-4558-bb52-adf326caefd5\")) {                    Plotly.newPlot(                        \"53acc429-c56a-4558-bb52-adf326caefd5\",                        [{\"x\":[\"pop\",\"rap\",\"rock\",\"soul\"],\"y\":[133,634,46,52],\"type\":\"histogram\"}],                        {\"template\":{\"data\":{\"histogram2dcontour\":[{\"type\":\"histogram2dcontour\",\"colorbar\":{\"outlinewidth\":0,\"ticks\":\"\"},\"colorscale\":[[0.0,\"#0d0887\"],[0.1111111111111111,\"#46039f\"],[0.2222222222222222,\"#7201a8\"],[0.3333333333333333,\"#9c179e\"],[0.4444444444444444,\"#bd3786\"],[0.5555555555555556,\"#d8576b\"],[0.6666666666666666,\"#ed7953\"],[0.7777777777777778,\"#fb9f3a\"],[0.8888888888888888,\"#fdca26\"],[1.0,\"#f0f921\"]]}],\"choropleth\":[{\"type\":\"choropleth\",\"colorbar\":{\"outlinewidth\":0,\"ticks\":\"\"}}],\"histogram2d\":[{\"type\":\"histogram2d\",\"colorbar\":{\"outlinewidth\":0,\"ticks\":\"\"},\"colorscale\":[[0.0,\"#0d0887\"],[0.1111111111111111,\"#46039f\"],[0.2222222222222222,\"#7201a8\"],[0.3333333333333333,\"#9c179e\"],[0.4444444444444444,\"#bd3786\"],[0.5555555555555556,\"#d8576b\"],[0.6666666666666666,\"#ed7953\"],[0.7777777777777778,\"#fb9f3a\"],[0.8888888888888888,\"#fdca26\"],[1.0,\"#f0f921\"]]}],\"heatmap\":[{\"type\":\"heatmap\",\"colorbar\":{\"outlinewidth\":0,\"ticks\":\"\"},\"colorscale\":[[0.0,\"#0d0887\"],[0.1111111111111111,\"#46039f\"],[0.2222222222222222,\"#7201a8\"],[0.3333333333333333,\"#9c179e\"],[0.4444444444444444,\"#bd3786\"],[0.5555555555555556,\"#d8576b\"],[0.6666666666666666,\"#ed7953\"],[0.7777777777777778,\"#fb9f3a\"],[0.8888888888888888,\"#fdca26\"],[1.0,\"#f0f921\"]]}],\"heatmapgl\":[{\"type\":\"heatmapgl\",\"colorbar\":{\"outlinewidth\":0,\"ticks\":\"\"},\"colorscale\":[[0.0,\"#0d0887\"],[0.1111111111111111,\"#46039f\"],[0.2222222222222222,\"#7201a8\"],[0.3333333333333333,\"#9c179e\"],[0.4444444444444444,\"#bd3786\"],[0.5555555555555556,\"#d8576b\"],[0.6666666666666666,\"#ed7953\"],[0.7777777777777778,\"#fb9f3a\"],[0.8888888888888888,\"#fdca26\"],[1.0,\"#f0f921\"]]}],\"contourcarpet\":[{\"type\":\"contourcarpet\",\"colorbar\":{\"outlinewidth\":0,\"ticks\":\"\"}}],\"contour\":[{\"type\":\"contour\",\"colorbar\":{\"outlinewidth\":0,\"ticks\":\"\"},\"colorscale\":[[0.0,\"#0d0887\"],[0.1111111111111111,\"#46039f\"],[0.2222222222222222,\"#7201a8\"],[0.3333333333333333,\"#9c179e\"],[0.4444444444444444,\"#bd3786\"],[0.5555555555555556,\"#d8576b\"],[0.6666666666666666,\"#ed7953\"],[0.7777777777777778,\"#fb9f3a\"],[0.8888888888888888,\"#fdca26\"],[1.0,\"#f0f921\"]]}],\"surface\":[{\"type\":\"surface\",\"colorbar\":{\"outlinewidth\":0,\"ticks\":\"\"},\"colorscale\":[[0.0,\"#0d0887\"],[0.1111111111111111,\"#46039f\"],[0.2222222222222222,\"#7201a8\"],[0.3333333333333333,\"#9c179e\"],[0.4444444444444444,\"#bd3786\"],[0.5555555555555556,\"#d8576b\"],[0.6666666666666666,\"#ed7953\"],[0.7777777777777778,\"#fb9f3a\"],[0.8888888888888888,\"#fdca26\"],[1.0,\"#f0f921\"]]}],\"mesh3d\":[{\"type\":\"mesh3d\",\"colorbar\":{\"outlinewidth\":0,\"ticks\":\"\"}}],\"scatter\":[{\"fillpattern\":{\"fillmode\":\"overlay\",\"size\":10,\"solidity\":0.2},\"type\":\"scatter\"}],\"parcoords\":[{\"type\":\"parcoords\",\"line\":{\"colorbar\":{\"outlinewidth\":0,\"ticks\":\"\"}}}],\"scatterpolargl\":[{\"type\":\"scatterpolargl\",\"marker\":{\"colorbar\":{\"outlinewidth\":0,\"ticks\":\"\"}}}],\"bar\":[{\"error_x\":{\"color\":\"#2a3f5f\"},\"error_y\":{\"color\":\"#2a3f5f\"},\"marker\":{\"line\":{\"color\":\"#E5ECF6\",\"width\":0.5},\"pattern\":{\"fillmode\":\"overlay\",\"size\":10,\"solidity\":0.2}},\"type\":\"bar\"}],\"scattergeo\":[{\"type\":\"scattergeo\",\"marker\":{\"colorbar\":{\"outlinewidth\":0,\"ticks\":\"\"}}}],\"scatterpolar\":[{\"type\":\"scatterpolar\",\"marker\":{\"colorbar\":{\"outlinewidth\":0,\"ticks\":\"\"}}}],\"histogram\":[{\"marker\":{\"pattern\":{\"fillmode\":\"overlay\",\"size\":10,\"solidity\":0.2}},\"type\":\"histogram\"}],\"scattergl\":[{\"type\":\"scattergl\",\"marker\":{\"colorbar\":{\"outlinewidth\":0,\"ticks\":\"\"}}}],\"scatter3d\":[{\"type\":\"scatter3d\",\"line\":{\"colorbar\":{\"outlinewidth\":0,\"ticks\":\"\"}},\"marker\":{\"colorbar\":{\"outlinewidth\":0,\"ticks\":\"\"}}}],\"scattermapbox\":[{\"type\":\"scattermapbox\",\"marker\":{\"colorbar\":{\"outlinewidth\":0,\"ticks\":\"\"}}}],\"scatterternary\":[{\"type\":\"scatterternary\",\"marker\":{\"colorbar\":{\"outlinewidth\":0,\"ticks\":\"\"}}}],\"scattercarpet\":[{\"type\":\"scattercarpet\",\"marker\":{\"colorbar\":{\"outlinewidth\":0,\"ticks\":\"\"}}}],\"carpet\":[{\"aaxis\":{\"endlinecolor\":\"#2a3f5f\",\"gridcolor\":\"white\",\"linecolor\":\"white\",\"minorgridcolor\":\"white\",\"startlinecolor\":\"#2a3f5f\"},\"baxis\":{\"endlinecolor\":\"#2a3f5f\",\"gridcolor\":\"white\",\"linecolor\":\"white\",\"minorgridcolor\":\"white\",\"startlinecolor\":\"#2a3f5f\"},\"type\":\"carpet\"}],\"table\":[{\"cells\":{\"fill\":{\"color\":\"#EBF0F8\"},\"line\":{\"color\":\"white\"}},\"header\":{\"fill\":{\"color\":\"#C8D4E3\"},\"line\":{\"color\":\"white\"}},\"type\":\"table\"}],\"barpolar\":[{\"marker\":{\"line\":{\"color\":\"#E5ECF6\",\"width\":0.5},\"pattern\":{\"fillmode\":\"overlay\",\"size\":10,\"solidity\":0.2}},\"type\":\"barpolar\"}],\"pie\":[{\"automargin\":true,\"type\":\"pie\"}]},\"layout\":{\"autotypenumbers\":\"strict\",\"colorway\":[\"#636efa\",\"#EF553B\",\"#00cc96\",\"#ab63fa\",\"#FFA15A\",\"#19d3f3\",\"#FF6692\",\"#B6E880\",\"#FF97FF\",\"#FECB52\"],\"font\":{\"color\":\"#2a3f5f\"},\"hovermode\":\"closest\",\"hoverlabel\":{\"align\":\"left\"},\"paper_bgcolor\":\"white\",\"plot_bgcolor\":\"#E5ECF6\",\"polar\":{\"bgcolor\":\"#E5ECF6\",\"angularaxis\":{\"gridcolor\":\"white\",\"linecolor\":\"white\",\"ticks\":\"\"},\"radialaxis\":{\"gridcolor\":\"white\",\"linecolor\":\"white\",\"ticks\":\"\"}},\"ternary\":{\"bgcolor\":\"#E5ECF6\",\"aaxis\":{\"gridcolor\":\"white\",\"linecolor\":\"white\",\"ticks\":\"\"},\"baxis\":{\"gridcolor\":\"white\",\"linecolor\":\"white\",\"ticks\":\"\"},\"caxis\":{\"gridcolor\":\"white\",\"linecolor\":\"white\",\"ticks\":\"\"}},\"coloraxis\":{\"colorbar\":{\"outlinewidth\":0,\"ticks\":\"\"}},\"colorscale\":{\"sequential\":[[0.0,\"#0d0887\"],[0.1111111111111111,\"#46039f\"],[0.2222222222222222,\"#7201a8\"],[0.3333333333333333,\"#9c179e\"],[0.4444444444444444,\"#bd3786\"],[0.5555555555555556,\"#d8576b\"],[0.6666666666666666,\"#ed7953\"],[0.7777777777777778,\"#fb9f3a\"],[0.8888888888888888,\"#fdca26\"],[1.0,\"#f0f921\"]],\"sequentialminus\":[[0.0,\"#0d0887\"],[0.1111111111111111,\"#46039f\"],[0.2222222222222222,\"#7201a8\"],[0.3333333333333333,\"#9c179e\"],[0.4444444444444444,\"#bd3786\"],[0.5555555555555556,\"#d8576b\"],[0.6666666666666666,\"#ed7953\"],[0.7777777777777778,\"#fb9f3a\"],[0.8888888888888888,\"#fdca26\"],[1.0,\"#f0f921\"]],\"diverging\":[[0,\"#8e0152\"],[0.1,\"#c51b7d\"],[0.2,\"#de77ae\"],[0.3,\"#f1b6da\"],[0.4,\"#fde0ef\"],[0.5,\"#f7f7f7\"],[0.6,\"#e6f5d0\"],[0.7,\"#b8e186\"],[0.8,\"#7fbc41\"],[0.9,\"#4d9221\"],[1,\"#276419\"]]},\"xaxis\":{\"gridcolor\":\"white\",\"linecolor\":\"white\",\"ticks\":\"\",\"title\":{\"standoff\":15},\"zerolinecolor\":\"white\",\"automargin\":true,\"zerolinewidth\":2},\"yaxis\":{\"gridcolor\":\"white\",\"linecolor\":\"white\",\"ticks\":\"\",\"title\":{\"standoff\":15},\"zerolinecolor\":\"white\",\"automargin\":true,\"zerolinewidth\":2},\"scene\":{\"xaxis\":{\"backgroundcolor\":\"#E5ECF6\",\"gridcolor\":\"white\",\"linecolor\":\"white\",\"showbackground\":true,\"ticks\":\"\",\"zerolinecolor\":\"white\",\"gridwidth\":2},\"yaxis\":{\"backgroundcolor\":\"#E5ECF6\",\"gridcolor\":\"white\",\"linecolor\":\"white\",\"showbackground\":true,\"ticks\":\"\",\"zerolinecolor\":\"white\",\"gridwidth\":2},\"zaxis\":{\"backgroundcolor\":\"#E5ECF6\",\"gridcolor\":\"white\",\"linecolor\":\"white\",\"showbackground\":true,\"ticks\":\"\",\"zerolinecolor\":\"white\",\"gridwidth\":2}},\"shapedefaults\":{\"line\":{\"color\":\"#2a3f5f\"}},\"annotationdefaults\":{\"arrowcolor\":\"#2a3f5f\",\"arrowhead\":0,\"arrowwidth\":1},\"geo\":{\"bgcolor\":\"white\",\"landcolor\":\"#E5ECF6\",\"subunitcolor\":\"white\",\"showland\":true,\"showlakes\":true,\"lakecolor\":\"white\"},\"title\":{\"x\":0.05},\"mapbox\":{\"style\":\"light\"}}},\"xaxis\":{\"anchor\":\"y\",\"domain\":[0.0,0.45]},\"yaxis\":{\"anchor\":\"x\",\"domain\":[0.0,1.0]},\"xaxis2\":{\"anchor\":\"y2\",\"domain\":[0.55,1.0]},\"yaxis2\":{\"anchor\":\"x2\",\"domain\":[0.0,1.0]}},                        {\"responsive\": true}                    ).then(function(){\n",
       "                            \n",
       "var gd = document.getElementById('53acc429-c56a-4558-bb52-adf326caefd5');\n",
       "var x = new MutationObserver(function (mutations, observer) {{\n",
       "        var display = window.getComputedStyle(gd).display;\n",
       "        if (!display || display === 'none') {{\n",
       "            console.log([gd, 'removed!']);\n",
       "            Plotly.purge(gd);\n",
       "            observer.disconnect();\n",
       "        }}\n",
       "}});\n",
       "\n",
       "// Listen for the removal of the full notebook cells\n",
       "var notebookContainer = gd.closest('#notebook-container');\n",
       "if (notebookContainer) {{\n",
       "    x.observe(notebookContainer, {childList: true});\n",
       "}}\n",
       "\n",
       "// Listen for the clearing of the current output cell\n",
       "var outputEl = gd.closest('.output');\n",
       "if (outputEl) {{\n",
       "    x.observe(outputEl, {childList: true});\n",
       "}}\n",
       "\n",
       "                        })                };                });            </script>        </div>"
      ]
     },
     "metadata": {},
     "output_type": "display_data"
    }
   ],
   "source": [
    "money_fig = graph_objects.Histogram(\n",
    "    x=loaded_sum_df.index,\n",
    "    y=loaded_sum_df['money'].values\n",
    ")\n",
    "test_fig = make_subplots(rows=1, cols=2)\n",
    "test_fig.add_trace(money_fig)\n",
    "test_fig.show()"
   ]
  },
  {
   "cell_type": "code",
   "execution_count": 137,
   "id": "ba4ebdd4-3d5b-43d9-b7ee-337d061d3f14",
   "metadata": {},
   "outputs": [
    {
     "data": {
      "application/vnd.plotly.v1+json": {
       "config": {
        "plotlyServerURL": "https://plot.ly"
       },
       "data": [
        {
         "name": "love",
         "type": "bar",
         "x": [
          "pop",
          "rap",
          "rock",
          "soul"
         ],
         "y": [
          1573,
          790,
          447,
          1661
         ]
        },
        {
         "name": "money",
         "type": "bar",
         "x": [
          "pop",
          "rap",
          "rock",
          "soul"
         ],
         "y": [
          133,
          634,
          46,
          52
         ]
        },
        {
         "name": "violence",
         "type": "bar",
         "x": [
          "pop",
          "rap",
          "rock",
          "soul"
         ],
         "y": [
          159,
          649,
          145,
          33
         ]
        },
        {
         "name": "drugs",
         "type": "bar",
         "x": [
          "pop",
          "rap",
          "rock",
          "soul"
         ],
         "y": [
          9,
          97,
          18,
          4
         ]
        }
       ],
       "layout": {
        "autosize": true,
        "template": {
         "data": {
          "bar": [
           {
            "error_x": {
             "color": "#2a3f5f"
            },
            "error_y": {
             "color": "#2a3f5f"
            },
            "marker": {
             "line": {
              "color": "#E5ECF6",
              "width": 0.5
             },
             "pattern": {
              "fillmode": "overlay",
              "size": 10,
              "solidity": 0.2
             }
            },
            "type": "bar"
           }
          ],
          "barpolar": [
           {
            "marker": {
             "line": {
              "color": "#E5ECF6",
              "width": 0.5
             },
             "pattern": {
              "fillmode": "overlay",
              "size": 10,
              "solidity": 0.2
             }
            },
            "type": "barpolar"
           }
          ],
          "carpet": [
           {
            "aaxis": {
             "endlinecolor": "#2a3f5f",
             "gridcolor": "white",
             "linecolor": "white",
             "minorgridcolor": "white",
             "startlinecolor": "#2a3f5f"
            },
            "baxis": {
             "endlinecolor": "#2a3f5f",
             "gridcolor": "white",
             "linecolor": "white",
             "minorgridcolor": "white",
             "startlinecolor": "#2a3f5f"
            },
            "type": "carpet"
           }
          ],
          "choropleth": [
           {
            "colorbar": {
             "outlinewidth": 0,
             "ticks": ""
            },
            "type": "choropleth"
           }
          ],
          "contour": [
           {
            "colorbar": {
             "outlinewidth": 0,
             "ticks": ""
            },
            "colorscale": [
             [
              0,
              "#0d0887"
             ],
             [
              0.1111111111111111,
              "#46039f"
             ],
             [
              0.2222222222222222,
              "#7201a8"
             ],
             [
              0.3333333333333333,
              "#9c179e"
             ],
             [
              0.4444444444444444,
              "#bd3786"
             ],
             [
              0.5555555555555556,
              "#d8576b"
             ],
             [
              0.6666666666666666,
              "#ed7953"
             ],
             [
              0.7777777777777778,
              "#fb9f3a"
             ],
             [
              0.8888888888888888,
              "#fdca26"
             ],
             [
              1,
              "#f0f921"
             ]
            ],
            "type": "contour"
           }
          ],
          "contourcarpet": [
           {
            "colorbar": {
             "outlinewidth": 0,
             "ticks": ""
            },
            "type": "contourcarpet"
           }
          ],
          "heatmap": [
           {
            "colorbar": {
             "outlinewidth": 0,
             "ticks": ""
            },
            "colorscale": [
             [
              0,
              "#0d0887"
             ],
             [
              0.1111111111111111,
              "#46039f"
             ],
             [
              0.2222222222222222,
              "#7201a8"
             ],
             [
              0.3333333333333333,
              "#9c179e"
             ],
             [
              0.4444444444444444,
              "#bd3786"
             ],
             [
              0.5555555555555556,
              "#d8576b"
             ],
             [
              0.6666666666666666,
              "#ed7953"
             ],
             [
              0.7777777777777778,
              "#fb9f3a"
             ],
             [
              0.8888888888888888,
              "#fdca26"
             ],
             [
              1,
              "#f0f921"
             ]
            ],
            "type": "heatmap"
           }
          ],
          "heatmapgl": [
           {
            "colorbar": {
             "outlinewidth": 0,
             "ticks": ""
            },
            "colorscale": [
             [
              0,
              "#0d0887"
             ],
             [
              0.1111111111111111,
              "#46039f"
             ],
             [
              0.2222222222222222,
              "#7201a8"
             ],
             [
              0.3333333333333333,
              "#9c179e"
             ],
             [
              0.4444444444444444,
              "#bd3786"
             ],
             [
              0.5555555555555556,
              "#d8576b"
             ],
             [
              0.6666666666666666,
              "#ed7953"
             ],
             [
              0.7777777777777778,
              "#fb9f3a"
             ],
             [
              0.8888888888888888,
              "#fdca26"
             ],
             [
              1,
              "#f0f921"
             ]
            ],
            "type": "heatmapgl"
           }
          ],
          "histogram": [
           {
            "marker": {
             "pattern": {
              "fillmode": "overlay",
              "size": 10,
              "solidity": 0.2
             }
            },
            "type": "histogram"
           }
          ],
          "histogram2d": [
           {
            "colorbar": {
             "outlinewidth": 0,
             "ticks": ""
            },
            "colorscale": [
             [
              0,
              "#0d0887"
             ],
             [
              0.1111111111111111,
              "#46039f"
             ],
             [
              0.2222222222222222,
              "#7201a8"
             ],
             [
              0.3333333333333333,
              "#9c179e"
             ],
             [
              0.4444444444444444,
              "#bd3786"
             ],
             [
              0.5555555555555556,
              "#d8576b"
             ],
             [
              0.6666666666666666,
              "#ed7953"
             ],
             [
              0.7777777777777778,
              "#fb9f3a"
             ],
             [
              0.8888888888888888,
              "#fdca26"
             ],
             [
              1,
              "#f0f921"
             ]
            ],
            "type": "histogram2d"
           }
          ],
          "histogram2dcontour": [
           {
            "colorbar": {
             "outlinewidth": 0,
             "ticks": ""
            },
            "colorscale": [
             [
              0,
              "#0d0887"
             ],
             [
              0.1111111111111111,
              "#46039f"
             ],
             [
              0.2222222222222222,
              "#7201a8"
             ],
             [
              0.3333333333333333,
              "#9c179e"
             ],
             [
              0.4444444444444444,
              "#bd3786"
             ],
             [
              0.5555555555555556,
              "#d8576b"
             ],
             [
              0.6666666666666666,
              "#ed7953"
             ],
             [
              0.7777777777777778,
              "#fb9f3a"
             ],
             [
              0.8888888888888888,
              "#fdca26"
             ],
             [
              1,
              "#f0f921"
             ]
            ],
            "type": "histogram2dcontour"
           }
          ],
          "mesh3d": [
           {
            "colorbar": {
             "outlinewidth": 0,
             "ticks": ""
            },
            "type": "mesh3d"
           }
          ],
          "parcoords": [
           {
            "line": {
             "colorbar": {
              "outlinewidth": 0,
              "ticks": ""
             }
            },
            "type": "parcoords"
           }
          ],
          "pie": [
           {
            "automargin": true,
            "type": "pie"
           }
          ],
          "scatter": [
           {
            "fillpattern": {
             "fillmode": "overlay",
             "size": 10,
             "solidity": 0.2
            },
            "type": "scatter"
           }
          ],
          "scatter3d": [
           {
            "line": {
             "colorbar": {
              "outlinewidth": 0,
              "ticks": ""
             }
            },
            "marker": {
             "colorbar": {
              "outlinewidth": 0,
              "ticks": ""
             }
            },
            "type": "scatter3d"
           }
          ],
          "scattercarpet": [
           {
            "marker": {
             "colorbar": {
              "outlinewidth": 0,
              "ticks": ""
             }
            },
            "type": "scattercarpet"
           }
          ],
          "scattergeo": [
           {
            "marker": {
             "colorbar": {
              "outlinewidth": 0,
              "ticks": ""
             }
            },
            "type": "scattergeo"
           }
          ],
          "scattergl": [
           {
            "marker": {
             "colorbar": {
              "outlinewidth": 0,
              "ticks": ""
             }
            },
            "type": "scattergl"
           }
          ],
          "scattermapbox": [
           {
            "marker": {
             "colorbar": {
              "outlinewidth": 0,
              "ticks": ""
             }
            },
            "type": "scattermapbox"
           }
          ],
          "scatterpolar": [
           {
            "marker": {
             "colorbar": {
              "outlinewidth": 0,
              "ticks": ""
             }
            },
            "type": "scatterpolar"
           }
          ],
          "scatterpolargl": [
           {
            "marker": {
             "colorbar": {
              "outlinewidth": 0,
              "ticks": ""
             }
            },
            "type": "scatterpolargl"
           }
          ],
          "scatterternary": [
           {
            "marker": {
             "colorbar": {
              "outlinewidth": 0,
              "ticks": ""
             }
            },
            "type": "scatterternary"
           }
          ],
          "surface": [
           {
            "colorbar": {
             "outlinewidth": 0,
             "ticks": ""
            },
            "colorscale": [
             [
              0,
              "#0d0887"
             ],
             [
              0.1111111111111111,
              "#46039f"
             ],
             [
              0.2222222222222222,
              "#7201a8"
             ],
             [
              0.3333333333333333,
              "#9c179e"
             ],
             [
              0.4444444444444444,
              "#bd3786"
             ],
             [
              0.5555555555555556,
              "#d8576b"
             ],
             [
              0.6666666666666666,
              "#ed7953"
             ],
             [
              0.7777777777777778,
              "#fb9f3a"
             ],
             [
              0.8888888888888888,
              "#fdca26"
             ],
             [
              1,
              "#f0f921"
             ]
            ],
            "type": "surface"
           }
          ],
          "table": [
           {
            "cells": {
             "fill": {
              "color": "#EBF0F8"
             },
             "line": {
              "color": "white"
             }
            },
            "header": {
             "fill": {
              "color": "#C8D4E3"
             },
             "line": {
              "color": "white"
             }
            },
            "type": "table"
           }
          ]
         },
         "layout": {
          "annotationdefaults": {
           "arrowcolor": "#2a3f5f",
           "arrowhead": 0,
           "arrowwidth": 1
          },
          "autotypenumbers": "strict",
          "coloraxis": {
           "colorbar": {
            "outlinewidth": 0,
            "ticks": ""
           }
          },
          "colorscale": {
           "diverging": [
            [
             0,
             "#8e0152"
            ],
            [
             0.1,
             "#c51b7d"
            ],
            [
             0.2,
             "#de77ae"
            ],
            [
             0.3,
             "#f1b6da"
            ],
            [
             0.4,
             "#fde0ef"
            ],
            [
             0.5,
             "#f7f7f7"
            ],
            [
             0.6,
             "#e6f5d0"
            ],
            [
             0.7,
             "#b8e186"
            ],
            [
             0.8,
             "#7fbc41"
            ],
            [
             0.9,
             "#4d9221"
            ],
            [
             1,
             "#276419"
            ]
           ],
           "sequential": [
            [
             0,
             "#0d0887"
            ],
            [
             0.1111111111111111,
             "#46039f"
            ],
            [
             0.2222222222222222,
             "#7201a8"
            ],
            [
             0.3333333333333333,
             "#9c179e"
            ],
            [
             0.4444444444444444,
             "#bd3786"
            ],
            [
             0.5555555555555556,
             "#d8576b"
            ],
            [
             0.6666666666666666,
             "#ed7953"
            ],
            [
             0.7777777777777778,
             "#fb9f3a"
            ],
            [
             0.8888888888888888,
             "#fdca26"
            ],
            [
             1,
             "#f0f921"
            ]
           ],
           "sequentialminus": [
            [
             0,
             "#0d0887"
            ],
            [
             0.1111111111111111,
             "#46039f"
            ],
            [
             0.2222222222222222,
             "#7201a8"
            ],
            [
             0.3333333333333333,
             "#9c179e"
            ],
            [
             0.4444444444444444,
             "#bd3786"
            ],
            [
             0.5555555555555556,
             "#d8576b"
            ],
            [
             0.6666666666666666,
             "#ed7953"
            ],
            [
             0.7777777777777778,
             "#fb9f3a"
            ],
            [
             0.8888888888888888,
             "#fdca26"
            ],
            [
             1,
             "#f0f921"
            ]
           ]
          },
          "colorway": [
           "#636efa",
           "#EF553B",
           "#00cc96",
           "#ab63fa",
           "#FFA15A",
           "#19d3f3",
           "#FF6692",
           "#B6E880",
           "#FF97FF",
           "#FECB52"
          ],
          "font": {
           "color": "#2a3f5f"
          },
          "geo": {
           "bgcolor": "white",
           "lakecolor": "white",
           "landcolor": "#E5ECF6",
           "showlakes": true,
           "showland": true,
           "subunitcolor": "white"
          },
          "hoverlabel": {
           "align": "left"
          },
          "hovermode": "closest",
          "mapbox": {
           "style": "light"
          },
          "paper_bgcolor": "white",
          "plot_bgcolor": "#E5ECF6",
          "polar": {
           "angularaxis": {
            "gridcolor": "white",
            "linecolor": "white",
            "ticks": ""
           },
           "bgcolor": "#E5ECF6",
           "radialaxis": {
            "gridcolor": "white",
            "linecolor": "white",
            "ticks": ""
           }
          },
          "scene": {
           "xaxis": {
            "backgroundcolor": "#E5ECF6",
            "gridcolor": "white",
            "gridwidth": 2,
            "linecolor": "white",
            "showbackground": true,
            "ticks": "",
            "zerolinecolor": "white"
           },
           "yaxis": {
            "backgroundcolor": "#E5ECF6",
            "gridcolor": "white",
            "gridwidth": 2,
            "linecolor": "white",
            "showbackground": true,
            "ticks": "",
            "zerolinecolor": "white"
           },
           "zaxis": {
            "backgroundcolor": "#E5ECF6",
            "gridcolor": "white",
            "gridwidth": 2,
            "linecolor": "white",
            "showbackground": true,
            "ticks": "",
            "zerolinecolor": "white"
           }
          },
          "shapedefaults": {
           "line": {
            "color": "#2a3f5f"
           }
          },
          "ternary": {
           "aaxis": {
            "gridcolor": "white",
            "linecolor": "white",
            "ticks": ""
           },
           "baxis": {
            "gridcolor": "white",
            "linecolor": "white",
            "ticks": ""
           },
           "bgcolor": "#E5ECF6",
           "caxis": {
            "gridcolor": "white",
            "linecolor": "white",
            "ticks": ""
           }
          },
          "title": {
           "x": 0.05
          },
          "xaxis": {
           "automargin": true,
           "gridcolor": "white",
           "linecolor": "white",
           "ticks": "",
           "title": {
            "standoff": 15
           },
           "zerolinecolor": "white",
           "zerolinewidth": 2
          },
          "yaxis": {
           "automargin": true,
           "gridcolor": "white",
           "linecolor": "white",
           "ticks": "",
           "title": {
            "standoff": 15
           },
           "zerolinecolor": "white",
           "zerolinewidth": 2
          }
         }
        },
        "xaxis": {
         "autorange": true,
         "range": [
          -0.5,
          3.5
         ],
         "type": "category"
        },
        "yaxis": {
         "autorange": true,
         "range": [
          0,
          1748.421052631579
         ],
         "type": "linear"
        }
       }
      },
      "image/png": "[encoded data removed]",
      "text/html": [
       "<div>                            <div id=\"3b2259a1-158d-4b3e-98f6-350f01f30836\" class=\"plotly-graph-div\" style=\"height:525px; width:100%;\"></div>            <script type=\"text/javascript\">                require([\"plotly\"], function(Plotly) {                    window.PLOTLYENV=window.PLOTLYENV || {};                                    if (document.getElementById(\"3b2259a1-158d-4b3e-98f6-350f01f30836\")) {                    Plotly.newPlot(                        \"3b2259a1-158d-4b3e-98f6-350f01f30836\",                        [{\"name\":\"love\",\"x\":[\"pop\",\"rap\",\"rock\",\"soul\"],\"y\":[1573,790,447,1661],\"type\":\"bar\"},{\"name\":\"money\",\"x\":[\"pop\",\"rap\",\"rock\",\"soul\"],\"y\":[133,634,46,52],\"type\":\"bar\"},{\"name\":\"violence\",\"x\":[\"pop\",\"rap\",\"rock\",\"soul\"],\"y\":[159,649,145,33],\"type\":\"bar\"},{\"name\":\"drugs\",\"x\":[\"pop\",\"rap\",\"rock\",\"soul\"],\"y\":[9,97,18,4],\"type\":\"bar\"}],                        {\"template\":{\"data\":{\"histogram2dcontour\":[{\"type\":\"histogram2dcontour\",\"colorbar\":{\"outlinewidth\":0,\"ticks\":\"\"},\"colorscale\":[[0.0,\"#0d0887\"],[0.1111111111111111,\"#46039f\"],[0.2222222222222222,\"#7201a8\"],[0.3333333333333333,\"#9c179e\"],[0.4444444444444444,\"#bd3786\"],[0.5555555555555556,\"#d8576b\"],[0.6666666666666666,\"#ed7953\"],[0.7777777777777778,\"#fb9f3a\"],[0.8888888888888888,\"#fdca26\"],[1.0,\"#f0f921\"]]}],\"choropleth\":[{\"type\":\"choropleth\",\"colorbar\":{\"outlinewidth\":0,\"ticks\":\"\"}}],\"histogram2d\":[{\"type\":\"histogram2d\",\"colorbar\":{\"outlinewidth\":0,\"ticks\":\"\"},\"colorscale\":[[0.0,\"#0d0887\"],[0.1111111111111111,\"#46039f\"],[0.2222222222222222,\"#7201a8\"],[0.3333333333333333,\"#9c179e\"],[0.4444444444444444,\"#bd3786\"],[0.5555555555555556,\"#d8576b\"],[0.6666666666666666,\"#ed7953\"],[0.7777777777777778,\"#fb9f3a\"],[0.8888888888888888,\"#fdca26\"],[1.0,\"#f0f921\"]]}],\"heatmap\":[{\"type\":\"heatmap\",\"colorbar\":{\"outlinewidth\":0,\"ticks\":\"\"},\"colorscale\":[[0.0,\"#0d0887\"],[0.1111111111111111,\"#46039f\"],[0.2222222222222222,\"#7201a8\"],[0.3333333333333333,\"#9c179e\"],[0.4444444444444444,\"#bd3786\"],[0.5555555555555556,\"#d8576b\"],[0.6666666666666666,\"#ed7953\"],[0.7777777777777778,\"#fb9f3a\"],[0.8888888888888888,\"#fdca26\"],[1.0,\"#f0f921\"]]}],\"heatmapgl\":[{\"type\":\"heatmapgl\",\"colorbar\":{\"outlinewidth\":0,\"ticks\":\"\"},\"colorscale\":[[0.0,\"#0d0887\"],[0.1111111111111111,\"#46039f\"],[0.2222222222222222,\"#7201a8\"],[0.3333333333333333,\"#9c179e\"],[0.4444444444444444,\"#bd3786\"],[0.5555555555555556,\"#d8576b\"],[0.6666666666666666,\"#ed7953\"],[0.7777777777777778,\"#fb9f3a\"],[0.8888888888888888,\"#fdca26\"],[1.0,\"#f0f921\"]]}],\"contourcarpet\":[{\"type\":\"contourcarpet\",\"colorbar\":{\"outlinewidth\":0,\"ticks\":\"\"}}],\"contour\":[{\"type\":\"contour\",\"colorbar\":{\"outlinewidth\":0,\"ticks\":\"\"},\"colorscale\":[[0.0,\"#0d0887\"],[0.1111111111111111,\"#46039f\"],[0.2222222222222222,\"#7201a8\"],[0.3333333333333333,\"#9c179e\"],[0.4444444444444444,\"#bd3786\"],[0.5555555555555556,\"#d8576b\"],[0.6666666666666666,\"#ed7953\"],[0.7777777777777778,\"#fb9f3a\"],[0.8888888888888888,\"#fdca26\"],[1.0,\"#f0f921\"]]}],\"surface\":[{\"type\":\"surface\",\"colorbar\":{\"outlinewidth\":0,\"ticks\":\"\"},\"colorscale\":[[0.0,\"#0d0887\"],[0.1111111111111111,\"#46039f\"],[0.2222222222222222,\"#7201a8\"],[0.3333333333333333,\"#9c179e\"],[0.4444444444444444,\"#bd3786\"],[0.5555555555555556,\"#d8576b\"],[0.6666666666666666,\"#ed7953\"],[0.7777777777777778,\"#fb9f3a\"],[0.8888888888888888,\"#fdca26\"],[1.0,\"#f0f921\"]]}],\"mesh3d\":[{\"type\":\"mesh3d\",\"colorbar\":{\"outlinewidth\":0,\"ticks\":\"\"}}],\"scatter\":[{\"fillpattern\":{\"fillmode\":\"overlay\",\"size\":10,\"solidity\":0.2},\"type\":\"scatter\"}],\"parcoords\":[{\"type\":\"parcoords\",\"line\":{\"colorbar\":{\"outlinewidth\":0,\"ticks\":\"\"}}}],\"scatterpolargl\":[{\"type\":\"scatterpolargl\",\"marker\":{\"colorbar\":{\"outlinewidth\":0,\"ticks\":\"\"}}}],\"bar\":[{\"error_x\":{\"color\":\"#2a3f5f\"},\"error_y\":{\"color\":\"#2a3f5f\"},\"marker\":{\"line\":{\"color\":\"#E5ECF6\",\"width\":0.5},\"pattern\":{\"fillmode\":\"overlay\",\"size\":10,\"solidity\":0.2}},\"type\":\"bar\"}],\"scattergeo\":[{\"type\":\"scattergeo\",\"marker\":{\"colorbar\":{\"outlinewidth\":0,\"ticks\":\"\"}}}],\"scatterpolar\":[{\"type\":\"scatterpolar\",\"marker\":{\"colorbar\":{\"outlinewidth\":0,\"ticks\":\"\"}}}],\"histogram\":[{\"marker\":{\"pattern\":{\"fillmode\":\"overlay\",\"size\":10,\"solidity\":0.2}},\"type\":\"histogram\"}],\"scattergl\":[{\"type\":\"scattergl\",\"marker\":{\"colorbar\":{\"outlinewidth\":0,\"ticks\":\"\"}}}],\"scatter3d\":[{\"type\":\"scatter3d\",\"line\":{\"colorbar\":{\"outlinewidth\":0,\"ticks\":\"\"}},\"marker\":{\"colorbar\":{\"outlinewidth\":0,\"ticks\":\"\"}}}],\"scattermapbox\":[{\"type\":\"scattermapbox\",\"marker\":{\"colorbar\":{\"outlinewidth\":0,\"ticks\":\"\"}}}],\"scatterternary\":[{\"type\":\"scatterternary\",\"marker\":{\"colorbar\":{\"outlinewidth\":0,\"ticks\":\"\"}}}],\"scattercarpet\":[{\"type\":\"scattercarpet\",\"marker\":{\"colorbar\":{\"outlinewidth\":0,\"ticks\":\"\"}}}],\"carpet\":[{\"aaxis\":{\"endlinecolor\":\"#2a3f5f\",\"gridcolor\":\"white\",\"linecolor\":\"white\",\"minorgridcolor\":\"white\",\"startlinecolor\":\"#2a3f5f\"},\"baxis\":{\"endlinecolor\":\"#2a3f5f\",\"gridcolor\":\"white\",\"linecolor\":\"white\",\"minorgridcolor\":\"white\",\"startlinecolor\":\"#2a3f5f\"},\"type\":\"carpet\"}],\"table\":[{\"cells\":{\"fill\":{\"color\":\"#EBF0F8\"},\"line\":{\"color\":\"white\"}},\"header\":{\"fill\":{\"color\":\"#C8D4E3\"},\"line\":{\"color\":\"white\"}},\"type\":\"table\"}],\"barpolar\":[{\"marker\":{\"line\":{\"color\":\"#E5ECF6\",\"width\":0.5},\"pattern\":{\"fillmode\":\"overlay\",\"size\":10,\"solidity\":0.2}},\"type\":\"barpolar\"}],\"pie\":[{\"automargin\":true,\"type\":\"pie\"}]},\"layout\":{\"autotypenumbers\":\"strict\",\"colorway\":[\"#636efa\",\"#EF553B\",\"#00cc96\",\"#ab63fa\",\"#FFA15A\",\"#19d3f3\",\"#FF6692\",\"#B6E880\",\"#FF97FF\",\"#FECB52\"],\"font\":{\"color\":\"#2a3f5f\"},\"hovermode\":\"closest\",\"hoverlabel\":{\"align\":\"left\"},\"paper_bgcolor\":\"white\",\"plot_bgcolor\":\"#E5ECF6\",\"polar\":{\"bgcolor\":\"#E5ECF6\",\"angularaxis\":{\"gridcolor\":\"white\",\"linecolor\":\"white\",\"ticks\":\"\"},\"radialaxis\":{\"gridcolor\":\"white\",\"linecolor\":\"white\",\"ticks\":\"\"}},\"ternary\":{\"bgcolor\":\"#E5ECF6\",\"aaxis\":{\"gridcolor\":\"white\",\"linecolor\":\"white\",\"ticks\":\"\"},\"baxis\":{\"gridcolor\":\"white\",\"linecolor\":\"white\",\"ticks\":\"\"},\"caxis\":{\"gridcolor\":\"white\",\"linecolor\":\"white\",\"ticks\":\"\"}},\"coloraxis\":{\"colorbar\":{\"outlinewidth\":0,\"ticks\":\"\"}},\"colorscale\":{\"sequential\":[[0.0,\"#0d0887\"],[0.1111111111111111,\"#46039f\"],[0.2222222222222222,\"#7201a8\"],[0.3333333333333333,\"#9c179e\"],[0.4444444444444444,\"#bd3786\"],[0.5555555555555556,\"#d8576b\"],[0.6666666666666666,\"#ed7953\"],[0.7777777777777778,\"#fb9f3a\"],[0.8888888888888888,\"#fdca26\"],[1.0,\"#f0f921\"]],\"sequentialminus\":[[0.0,\"#0d0887\"],[0.1111111111111111,\"#46039f\"],[0.2222222222222222,\"#7201a8\"],[0.3333333333333333,\"#9c179e\"],[0.4444444444444444,\"#bd3786\"],[0.5555555555555556,\"#d8576b\"],[0.6666666666666666,\"#ed7953\"],[0.7777777777777778,\"#fb9f3a\"],[0.8888888888888888,\"#fdca26\"],[1.0,\"#f0f921\"]],\"diverging\":[[0,\"#8e0152\"],[0.1,\"#c51b7d\"],[0.2,\"#de77ae\"],[0.3,\"#f1b6da\"],[0.4,\"#fde0ef\"],[0.5,\"#f7f7f7\"],[0.6,\"#e6f5d0\"],[0.7,\"#b8e186\"],[0.8,\"#7fbc41\"],[0.9,\"#4d9221\"],[1,\"#276419\"]]},\"xaxis\":{\"gridcolor\":\"white\",\"linecolor\":\"white\",\"ticks\":\"\",\"title\":{\"standoff\":15},\"zerolinecolor\":\"white\",\"automargin\":true,\"zerolinewidth\":2},\"yaxis\":{\"gridcolor\":\"white\",\"linecolor\":\"white\",\"ticks\":\"\",\"title\":{\"standoff\":15},\"zerolinecolor\":\"white\",\"automargin\":true,\"zerolinewidth\":2},\"scene\":{\"xaxis\":{\"backgroundcolor\":\"#E5ECF6\",\"gridcolor\":\"white\",\"linecolor\":\"white\",\"showbackground\":true,\"ticks\":\"\",\"zerolinecolor\":\"white\",\"gridwidth\":2},\"yaxis\":{\"backgroundcolor\":\"#E5ECF6\",\"gridcolor\":\"white\",\"linecolor\":\"white\",\"showbackground\":true,\"ticks\":\"\",\"zerolinecolor\":\"white\",\"gridwidth\":2},\"zaxis\":{\"backgroundcolor\":\"#E5ECF6\",\"gridcolor\":\"white\",\"linecolor\":\"white\",\"showbackground\":true,\"ticks\":\"\",\"zerolinecolor\":\"white\",\"gridwidth\":2}},\"shapedefaults\":{\"line\":{\"color\":\"#2a3f5f\"}},\"annotationdefaults\":{\"arrowcolor\":\"#2a3f5f\",\"arrowhead\":0,\"arrowwidth\":1},\"geo\":{\"bgcolor\":\"white\",\"landcolor\":\"#E5ECF6\",\"subunitcolor\":\"white\",\"showland\":true,\"showlakes\":true,\"lakecolor\":\"white\"},\"title\":{\"x\":0.05},\"mapbox\":{\"style\":\"light\"}}}},                        {\"responsive\": true}                    ).then(function(){\n",
       "                            \n",
       "var gd = document.getElementById('3b2259a1-158d-4b3e-98f6-350f01f30836');\n",
       "var x = new MutationObserver(function (mutations, observer) {{\n",
       "        var display = window.getComputedStyle(gd).display;\n",
       "        if (!display || display === 'none') {{\n",
       "            console.log([gd, 'removed!']);\n",
       "            Plotly.purge(gd);\n",
       "            observer.disconnect();\n",
       "        }}\n",
       "}});\n",
       "\n",
       "// Listen for the removal of the full notebook cells\n",
       "var notebookContainer = gd.closest('#notebook-container');\n",
       "if (notebookContainer) {{\n",
       "    x.observe(notebookContainer, {childList: true});\n",
       "}}\n",
       "\n",
       "// Listen for the clearing of the current output cell\n",
       "var outputEl = gd.closest('.output');\n",
       "if (outputEl) {{\n",
       "    x.observe(outputEl, {childList: true});\n",
       "}}\n",
       "\n",
       "                        })                };                });            </script>        </div>"
      ]
     },
     "metadata": {},
     "output_type": "display_data"
    }
   ],
   "source": [
    "side_fig = graph_objects.Figure()\n",
    "side_fig.add_trace(graph_objects.Bar(y=loaded_sum_df['love'].values, x=loaded_sum_df.index, name='love'))\n",
    "side_fig.add_trace(graph_objects.Bar(y=loaded_sum_df['money'].values, x=loaded_sum_df.index, name='money'))\n",
    "side_fig.add_trace(graph_objects.Bar(y=loaded_sum_df['violence'].values, x=loaded_sum_df.index, name='violence'))\n",
    "side_fig.add_trace(graph_objects.Bar(y=loaded_sum_df['drugs'].values, x=loaded_sum_df.index, name='drugs'))\n",
    "side_fig.show()"
   ]
  }
 ],
 "metadata": {
  "kernelspec": {
   "display_name": "data_venv",
   "language": "python",
   "name": "data_venv"
  },
  "language_info": {
   "codemirror_mode": {
    "name": "ipython",
    "version": 3
   },
   "file_extension": ".py",
   "mimetype": "text/x-python",
   "name": "python",
   "nbconvert_exporter": "python",
   "pygments_lexer": "ipython3",
   "version": "3.10.9"
  }
 },
 "nbformat": 4,
 "nbformat_minor": 5
}
