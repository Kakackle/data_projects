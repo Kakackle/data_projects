{
 "cells": [
  {
   "cell_type": "code",
   "execution_count": null,
   "id": "41b84ea5-0b40-468c-8826-9f58f032b047",
   "metadata": {},
   "outputs": [],
   "source": [
    "import pandas as pd\n",
    "import plotly.express as px\n",
    "import matplotlib.pyplot as plt\n",
    "import seaborn as sns\n",
    "\n",
    "import plotly.graph_objects as graph_objects\n",
    "\n",
    "from plotly.subplots import make_subplots\n",
    "\n",
    "from wordcloud import WordCloud"
   ]
  },
  {
   "cell_type": "markdown",
   "id": "df4c998f-160c-47cb-b859-5c4ec1d9c0fa",
   "metadata": {},
   "source": [
    "### top words wordclouds"
   ]
  },
  {
   "cell_type": "code",
   "execution_count": null,
   "id": "6ba53f58-00cf-4e10-ae21-b2474e627712",
   "metadata": {},
   "outputs": [],
   "source": [
    "top_20_words_genre_df = pd.read_csv('dataframes/top_20_words_by_genre.csv')\n",
    "top_20_filtered_words_genre_df = pd.read_csv('dataframes/top_20_filtered_words_by_genre.csv')\n",
    "top_20_words_artist_df = pd.read_csv('dataframes/top_20_words_by_artist.csv')\n",
    "top_20_filtered_words_artist_df = pd.read_csv('dataframes/top_20_filtered_words_by_artist.csv')"
   ]
  },
  {
   "cell_type": "code",
   "execution_count": null,
   "id": "432197b6-04bb-42c2-b285-c37f2c2e52b7",
   "metadata": {},
   "outputs": [],
   "source": [
    "count_cols = []\n",
    "word_cols = []\n",
    "n = 20\n",
    "for ind in range(n):\n",
    "    word_cols.append(f'word{ind}')\n",
    "    count_cols.append(f'word{ind}_count')"
   ]
  },
  {
   "cell_type": "code",
   "execution_count": null,
   "id": "59eb7e76-1e13-4a79-9ee2-0cc2524eb97f",
   "metadata": {},
   "outputs": [],
   "source": [
    "top_20_words_genre_df.index"
   ]
  },
  {
   "cell_type": "code",
   "execution_count": null,
   "id": "e4a08a32-5016-42c3-a736-f5e4014d97dc",
   "metadata": {},
   "outputs": [],
   "source": [
    "max(top_20_words_genre_df.loc[0, [*count_cols]])"
   ]
  },
  {
   "cell_type": "code",
   "execution_count": null,
   "id": "1338761d-fcd5-4a2d-b0da-7355f741decb",
   "metadata": {},
   "outputs": [],
   "source": [
    "top_20_words_genre_df[[*count_cols]]"
   ]
  },
  {
   "cell_type": "code",
   "execution_count": null,
   "id": "ea0409fb-85df-49dc-a37c-ab9312716e36",
   "metadata": {},
   "outputs": [],
   "source": [
    "top_20_words_genre_df.rename(columns={'Unnamed: 0' : 'genre'}, inplace=True)\n",
    "top_20_filtered_words_genre_df.rename(columns={'Unnamed: 0' : 'genre'}, inplace=True)"
   ]
  },
  {
   "cell_type": "code",
   "execution_count": null,
   "id": "ec3348b7-deb8-4ee4-b265-34729d19be63",
   "metadata": {},
   "outputs": [],
   "source": [
    "top_20_words_genre_df.head()"
   ]
  },
  {
   "cell_type": "code",
   "execution_count": null,
   "id": "7a294308-48c6-48eb-b892-869ffc2bdea1",
   "metadata": {},
   "outputs": [],
   "source": [
    "genres = top_20_words_genre_df['genre'].unique()"
   ]
  },
  {
   "cell_type": "code",
   "execution_count": null,
   "id": "091401c2-a072-4f71-9a0f-b58022a71e49",
   "metadata": {},
   "outputs": [],
   "source": [
    "test_df = top_20_words_genre_df[top_20_words_genre_df['genre'] == genres[0]]"
   ]
  },
  {
   "cell_type": "code",
   "execution_count": null,
   "id": "fab1af03-2c2c-4f65-bf31-9bfecc5ac97d",
   "metadata": {},
   "outputs": [],
   "source": [
    "test_df.shape"
   ]
  },
  {
   "cell_type": "code",
   "execution_count": null,
   "id": "564895b5-6e88-4200-a4ef-9b9198970f71",
   "metadata": {},
   "outputs": [],
   "source": [
    "test_words = [test_df[word].values[0] for word in word_cols]"
   ]
  },
  {
   "cell_type": "code",
   "execution_count": null,
   "id": "f245dfb4-a32f-4b21-ac0c-bb08ecffd324",
   "metadata": {},
   "outputs": [],
   "source": [
    "test_counts = [test_df[count].values[0] for count in count_cols]"
   ]
  },
  {
   "cell_type": "code",
   "execution_count": null,
   "id": "7da18c77-c6db-4ce4-a01c-8d3a3e9f57fb",
   "metadata": {
    "scrolled": true
   },
   "outputs": [],
   "source": [
    "test_words"
   ]
  },
  {
   "cell_type": "code",
   "execution_count": null,
   "id": "4a5734af-58e7-43fe-82cc-95da0e8cec53",
   "metadata": {},
   "outputs": [],
   "source": [
    "d = {}\n",
    "for word, count in zip(test_words, test_counts):\n",
    "    d[word] = count"
   ]
  },
  {
   "cell_type": "code",
   "execution_count": null,
   "id": "85eead56-29a9-4a02-8114-35e2c6707d03",
   "metadata": {},
   "outputs": [],
   "source": [
    "wordcloud = WordCloud(background_color = \"white\", width=800, height=400)\n",
    "wordcloud.generate_from_frequencies(frequencies=d)"
   ]
  },
  {
   "cell_type": "code",
   "execution_count": null,
   "id": "dfe38815-2186-41c5-aa79-f59bae0d8779",
   "metadata": {
    "scrolled": true
   },
   "outputs": [],
   "source": [
    "fig = px.imshow(wordcloud)\n",
    "fig.show()"
   ]
  },
  {
   "cell_type": "code",
   "execution_count": null,
   "id": "4c1fcf0b-1645-404c-9b7d-ba2971c5d70a",
   "metadata": {},
   "outputs": [],
   "source": [
    "genre_wordclouds = []"
   ]
  },
  {
   "cell_type": "code",
   "execution_count": null,
   "id": "4790c6a2-d1c7-41a0-b194-a41d44f177b7",
   "metadata": {},
   "outputs": [],
   "source": [
    "for genre in genres:\n",
    "    genre_df = top_20_filtered_words_genre_df[top_20_filtered_words_genre_df['genre'] == genre]\n",
    "    genre_words = [genre_df[word].values[0] for word in word_cols]\n",
    "    genre_counts = [genre_df[count].values[0] for count in count_cols]\n",
    "    \n",
    "    d = {}\n",
    "    for word, count in zip(genre_words, genre_counts):\n",
    "        d[word] = count\n",
    "\n",
    "    wordcloud = WordCloud(background_color = \"white\", width=800, height=400)\n",
    "    wordcloud.generate_from_frequencies(frequencies=d)\n",
    "    genre_wordclouds.append(wordcloud)"
   ]
  },
  {
   "cell_type": "code",
   "execution_count": null,
   "id": "e80c6646-478b-490b-91f4-ecb5ba5c0970",
   "metadata": {
    "scrolled": true
   },
   "outputs": [],
   "source": [
    "fig = make_subplots(rows=4, cols=1, subplot_titles = genres)\n",
    "# for i in range(1,3):\n",
    "#     for j in range(1,3):\n",
    "for i, genre in enumerate(genres):\n",
    "    fig.add_trace(graph_objects.Image(z=genre_wordclouds[i]), row = i+1, col = 1)"
   ]
  },
  {
   "cell_type": "code",
   "execution_count": null,
   "id": "4c85d4d8-7ebe-4b90-bf04-cda545449968",
   "metadata": {
    "scrolled": true
   },
   "outputs": [],
   "source": [
    "fig.update_layout(height = 4 * 400)\n",
    "fig.show()"
   ]
  },
  {
   "cell_type": "markdown",
   "id": "3c886932-6acb-4946-925c-e289301e45a2",
   "metadata": {},
   "source": [
    "### top ngrams wordclouds"
   ]
  },
  {
   "cell_type": "code",
   "execution_count": null,
   "id": "1cc3e1dc-4423-494a-b1aa-23f65a4c5f8a",
   "metadata": {},
   "outputs": [],
   "source": [
    "artist_ngrams_df = pd.read_csv('dataframes/artist_ngrams.csv', index_col=0)\n",
    "genre_ngrams_df = pd.read_csv('dataframes/genre_ngrams.csv', index_col=0)"
   ]
  },
  {
   "cell_type": "code",
   "execution_count": null,
   "id": "93e32473-286a-4412-9430-326ad53df8c8",
   "metadata": {},
   "outputs": [],
   "source": [
    "artists = list(artist_ngrams_df['Artist'].unique())\n",
    "len(artists)"
   ]
  },
  {
   "cell_type": "code",
   "execution_count": null,
   "id": "0c461cff-e0d3-4a5e-8f49-075bd3612fe5",
   "metadata": {},
   "outputs": [],
   "source": [
    "test_df = artist_ngrams_df[artist_ngrams_df['Artist'] == artists[0]]"
   ]
  },
  {
   "cell_type": "code",
   "execution_count": null,
   "id": "61a4ba1c-5b03-485e-b245-b6fa81ee69af",
   "metadata": {},
   "outputs": [],
   "source": [
    "test_df"
   ]
  },
  {
   "cell_type": "code",
   "execution_count": null,
   "id": "45589abb-03e2-4fc8-bb6a-e671b391fad3",
   "metadata": {},
   "outputs": [],
   "source": [
    "ngram_lens = [2,3,4]\n",
    "ngrams_n = 20\n",
    "n = len(ngram_lens) * ngrams_n\n",
    "\n",
    "test_gram_wordclouds_fig = make_subplots(rows=4, cols=1, subplot_titles = ngram_lens)\n",
    "\n",
    "# for ind in range(n):\n",
    "for len_index, gram_len in enumerate(ngram_lens):\n",
    "    gram_count_cols = []\n",
    "    gram_cols = []\n",
    "    for ind in range(ngrams_n):\n",
    "        gram_cols.append(f'ngram_{gram_len}_{ind}')\n",
    "        gram_count_cols.append(f'count_{gram_len}_{ind}')\n",
    "        \n",
    "    gram_words = [test_df[word].values[0] for word in gram_cols]\n",
    "    gram_counts = [test_df[count].values[0] for count in gram_count_cols]\n",
    "        \n",
    "    d = {}\n",
    "    for word, count in zip(gram_words, gram_counts):\n",
    "        d[word] = count\n",
    "        \n",
    "    wordcloud = WordCloud(background_color = \"white\", width=800, height=400)\n",
    "    wordcloud.generate_from_frequencies(frequencies=d)\n",
    "    # print(f'ind: {ind+1}')\n",
    "    test_gram_wordclouds_fig.add_trace(graph_objects.Image(z=wordcloud), row=len_index+1, col=1)\n",
    "        # fig = px.imshow(wordcloud)\n",
    "        # fig.show()\n",
    "test_gram_wordclouds_fig.update_layout(height = 3*400)\n",
    "test_gram_wordclouds_fig.show()"
   ]
  },
  {
   "cell_type": "code",
   "execution_count": null,
   "id": "e0f541ff-8349-4dcb-a73a-3b1fa482b174",
   "metadata": {},
   "outputs": [],
   "source": [
    "import os\n",
    "os.getcwd()"
   ]
  },
  {
   "cell_type": "code",
   "execution_count": null,
   "id": "59f427eb-6560-4a11-9269-897a009176c9",
   "metadata": {},
   "outputs": [],
   "source": [
    "artist_sum_df = pd.read_csv('dataframes/group_stats/sum/combined_artists.csv', index_col=0)"
   ]
  },
  {
   "cell_type": "code",
   "execution_count": null,
   "id": "51e27866-e9b4-42ce-94f3-6bb4b4af4a99",
   "metadata": {},
   "outputs": [],
   "source": [
    "artist_mean_df = pd.read_csv('dataframes/group_stats/mean/combined_artists.csv', index_col=0)"
   ]
  },
  {
   "cell_type": "code",
   "execution_count": null,
   "id": "9735f3a5-0d76-497c-bbb3-660025a51f46",
   "metadata": {},
   "outputs": [],
   "source": [
    "topic_X = 'manual_joy_count'\n",
    "topic_Y = 'manual_sadness_count'\n",
    "colorby = 'genre'"
   ]
  },
  {
   "cell_type": "code",
   "execution_count": null,
   "id": "f183ca72-5dc4-40c7-ab95-48fa39f40157",
   "metadata": {},
   "outputs": [],
   "source": [
    "scatter_fig = px.scatter(artist_sum_df, x=topic_X, y=topic_Y, color=colorby)"
   ]
  },
  {
   "cell_type": "code",
   "execution_count": null,
   "id": "fc2f7cf5-f211-483c-aae0-707fed4d372e",
   "metadata": {},
   "outputs": [],
   "source": [
    "# scatter_fig.show()"
   ]
  },
  {
   "cell_type": "code",
   "execution_count": null,
   "id": "6101200e-d645-4cd2-a413-433fae66ea2b",
   "metadata": {},
   "outputs": [],
   "source": [
    "artist_mean_df.head()"
   ]
  },
  {
   "cell_type": "code",
   "execution_count": null,
   "id": "28ae94d8-08e9-45af-a2cd-99e7a60e0af6",
   "metadata": {},
   "outputs": [],
   "source": [
    "cols = [col for col in list(artist_mean_df.columns) if col.endswith('percent')]"
   ]
  },
  {
   "cell_type": "code",
   "execution_count": null,
   "id": "9e05d8f2-51de-4337-916f-da8403afa6cd",
   "metadata": {},
   "outputs": [],
   "source": [
    "cols"
   ]
  },
  {
   "cell_type": "code",
   "execution_count": null,
   "id": "137dee70-5504-458d-a19a-fade3e162548",
   "metadata": {},
   "outputs": [],
   "source": [
    "cols_no_gendered = [col for col in cols if not 'gendered' in col]"
   ]
  },
  {
   "cell_type": "code",
   "execution_count": null,
   "id": "226984c1-d99c-4993-8987-0f7011b7a86a",
   "metadata": {},
   "outputs": [],
   "source": [
    "gender_grouped = artist_mean_df[['gender', *cols]].groupby(['gender']).mean()"
   ]
  },
  {
   "cell_type": "code",
   "execution_count": null,
   "id": "b7edba05-c0fb-4986-8f0c-c4ef655e8087",
   "metadata": {},
   "outputs": [],
   "source": [
    "gender_grouped"
   ]
  },
  {
   "cell_type": "code",
   "execution_count": null,
   "id": "6acb5baa-9c65-4dd6-baaf-4946c64b9f01",
   "metadata": {},
   "outputs": [],
   "source": [
    "female_row = gender_grouped.loc['female', :]"
   ]
  },
  {
   "cell_type": "code",
   "execution_count": null,
   "id": "4967be3c-4a3f-4d9e-92bc-168a64a7dc32",
   "metadata": {},
   "outputs": [],
   "source": [
    "female_row = female_row * -1"
   ]
  },
  {
   "cell_type": "code",
   "execution_count": null,
   "id": "e0a4e639-884c-4e78-b7fd-0b787e6d1846",
   "metadata": {},
   "outputs": [],
   "source": [
    "female_row"
   ]
  },
  {
   "cell_type": "code",
   "execution_count": null,
   "id": "bce40f2b-7e15-4e00-8f2f-285950c97a7f",
   "metadata": {},
   "outputs": [],
   "source": [
    "male_row = gender_grouped.loc['male', :]"
   ]
  },
  {
   "cell_type": "code",
   "execution_count": null,
   "id": "a9e7da30-62a5-4bb7-b0a3-c4ac083baa0a",
   "metadata": {},
   "outputs": [],
   "source": [
    "spine_fig = graph_objects.Figure(\n",
    "    data = [\n",
    "        graph_objects.Bar(name='male',\n",
    "                          y=cols_no_gendered,\n",
    "                          x = male_row.tolist(),\n",
    "                          orientation='h',\n",
    "                          marker=dict(color='#DD5555',\n",
    "                                     line=dict(\n",
    "                                     color='rgba(0,0,0,1.0)', width=0.5)),\n",
    "                          hoverinfo='none'\n",
    "                         ),\n",
    "        graph_objects.Bar(name='female',\n",
    "                  y=cols_no_gendered,\n",
    "                  x = female_row.tolist(),\n",
    "                  orientation='h',\n",
    "                  marker=dict(color='#5555DD',\n",
    "                             line=dict(\n",
    "                             color='rgba(0,0,0,1.0)', width=0.5)),\n",
    "                  hoverinfo='none'\n",
    "                 ),\n",
    "        \n",
    "    ],\n",
    ")"
   ]
  },
  {
   "cell_type": "code",
   "execution_count": null,
   "id": "299a7e22-140a-4ae5-9ab7-2d53435c3cf4",
   "metadata": {},
   "outputs": [],
   "source": [
    "spine_fig.update_layout(barmode='relative')"
   ]
  },
  {
   "cell_type": "markdown",
   "id": "6d994630-98a0-4bf2-befb-238d30459800",
   "metadata": {},
   "source": [
    "### Artist metadata explorations"
   ]
  },
  {
   "cell_type": "code",
   "execution_count": null,
   "id": "6601541b-056a-46e9-bac1-872d490ef4d2",
   "metadata": {},
   "outputs": [],
   "source": [
    "df = pd.read_csv('dataframes/with_counts/combined_count.csv', index_col=0)"
   ]
  },
  {
   "cell_type": "code",
   "execution_count": null,
   "id": "fa9fcf7d-3a2b-468c-9c05-ff81559722c2",
   "metadata": {},
   "outputs": [],
   "source": [
    "df.head()"
   ]
  },
  {
   "cell_type": "code",
   "execution_count": null,
   "id": "f65ae8bb-9e08-458b-9fc8-3e64b75d62a9",
   "metadata": {},
   "outputs": [],
   "source": [
    "columns = ['unique_words', 'total_words', 'featured_count', 'producer_count', 'writer_count']"
   ]
  },
  {
   "cell_type": "code",
   "execution_count": null,
   "id": "c57bf62c-428d-4eab-a47f-8723112d153a",
   "metadata": {},
   "outputs": [],
   "source": [
    "mean_df = pd.read_csv('dataframes/group_stats/genre_mean_df.csv', index_col=0)"
   ]
  },
  {
   "cell_type": "code",
   "execution_count": null,
   "id": "5de27a9e-a8c5-4e09-b545-d3f3339a5e95",
   "metadata": {},
   "outputs": [],
   "source": [
    "px.bar(mean_df, x=mean_df.index, y=mean_df['unique_words'])"
   ]
  }
 ],
 "metadata": {
  "kernelspec": {
   "display_name": "data_venv",
   "language": "python",
   "name": "data_venv"
  },
  "language_info": {
   "codemirror_mode": {
    "name": "ipython",
    "version": 3
   },
   "file_extension": ".py",
   "mimetype": "text/x-python",
   "name": "python",
   "nbconvert_exporter": "python",
   "pygments_lexer": "ipython3",
   "version": "3.10.9"
  }
 },
 "nbformat": 4,
 "nbformat_minor": 5
}
