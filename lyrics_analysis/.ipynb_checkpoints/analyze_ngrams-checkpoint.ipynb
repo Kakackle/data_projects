{
 "cells": [
  {
   "cell_type": "code",
   "execution_count": 1,
   "id": "e1825991-96b9-459a-aeeb-4fc3ef753823",
   "metadata": {},
   "outputs": [],
   "source": [
    "import pandas as pd\n",
    "import plotly.express as px"
   ]
  },
  {
   "cell_type": "code",
   "execution_count": 2,
   "id": "41884cd2-6d24-4ddb-8915-e7b3aae084d4",
   "metadata": {},
   "outputs": [],
   "source": [
    "df_path = 'dataframes/artist_ngrams.csv'"
   ]
  },
  {
   "cell_type": "code",
   "execution_count": 3,
   "id": "57b851be-dc3e-414c-b7ed-bf2b418bafb3",
   "metadata": {},
   "outputs": [],
   "source": [
    "df = pd.read_csv(df_path, index_col = 0)"
   ]
  },
  {
   "cell_type": "code",
   "execution_count": 4,
   "id": "b5f3d724-1d14-48c5-a399-79a77068a860",
   "metadata": {},
   "outputs": [
    {
     "data": {
      "text/html": [
       "<div>\n",
       "<style scoped>\n",
       "    .dataframe tbody tr th:only-of-type {\n",
       "        vertical-align: middle;\n",
       "    }\n",
       "\n",
       "    .dataframe tbody tr th {\n",
       "        vertical-align: top;\n",
       "    }\n",
       "\n",
       "    .dataframe thead th {\n",
       "        text-align: right;\n",
       "    }\n",
       "</style>\n",
       "<table border=\"1\" class=\"dataframe\">\n",
       "  <thead>\n",
       "    <tr style=\"text-align: right;\">\n",
       "      <th></th>\n",
       "      <th>Artist</th>\n",
       "      <th>genre</th>\n",
       "      <th>gender</th>\n",
       "      <th>ngram_2</th>\n",
       "      <th>ngram_3</th>\n",
       "      <th>ngram_4</th>\n",
       "    </tr>\n",
       "  </thead>\n",
       "  <tbody>\n",
       "    <tr>\n",
       "      <th>0</th>\n",
       "      <td>Aaliyah</td>\n",
       "      <td>pop</td>\n",
       "      <td>female</td>\n",
       "      <td>[(('let', 'me'), 80), (('without', 'you'), 76)...</td>\n",
       "      <td>[(('let', 'me', 'see'), 42), (('me', 'see', 'y...</td>\n",
       "      <td>[(('let', 'me', 'see', 'you'), 41), (('baby', ...</td>\n",
       "    </tr>\n",
       "    <tr>\n",
       "      <th>1</th>\n",
       "      <td>Beyoncé</td>\n",
       "      <td>pop</td>\n",
       "      <td>female</td>\n",
       "      <td>[(('in', 'the'), 51), (('love', 'you'), 49), (...</td>\n",
       "      <td>[(('you', 'like', 'i'), 27), (('sorry', 'i', '...</td>\n",
       "      <td>[(('they', 'dont', 'love', 'you'), 24), (('don...</td>\n",
       "    </tr>\n",
       "    <tr>\n",
       "      <th>2</th>\n",
       "      <td>Britney Spears</td>\n",
       "      <td>pop</td>\n",
       "      <td>female</td>\n",
       "      <td>[(('get', 'it'), 49), (('you', 'want'), 47), (...</td>\n",
       "      <td>[(('it', 'get', 'it'), 38), (('get', 'it', 'ge...</td>\n",
       "      <td>[(('get', 'it', 'get', 'it'), 36), (('you', 'w...</td>\n",
       "    </tr>\n",
       "    <tr>\n",
       "      <th>3</th>\n",
       "      <td>Carly Rae Jepsen</td>\n",
       "      <td>pop</td>\n",
       "      <td>female</td>\n",
       "      <td>[(('gimmie', 'love'), 75), (('love', 'gimmie')...</td>\n",
       "      <td>[(('gimmie', 'love', 'gimmie'), 69), (('love',...</td>\n",
       "      <td>[(('gimmie', 'love', 'gimmie', 'love'), 63), (...</td>\n",
       "    </tr>\n",
       "    <tr>\n",
       "      <th>4</th>\n",
       "      <td>Charli XCX</td>\n",
       "      <td>pop</td>\n",
       "      <td>female</td>\n",
       "      <td>[(('it', 'i'), 273), (('i', 'got'), 192), (('g...</td>\n",
       "      <td>[(('i', 'got', 'it'), 186), (('got', 'it', 'i'...</td>\n",
       "      <td>[(('got', 'it', 'i', 'got'), 177), (('i', 'got...</td>\n",
       "    </tr>\n",
       "  </tbody>\n",
       "</table>\n",
       "</div>"
      ],
      "text/plain": [
       "             Artist genre  gender  \\\n",
       "0           Aaliyah   pop  female   \n",
       "1           Beyoncé   pop  female   \n",
       "2    Britney Spears   pop  female   \n",
       "3  Carly Rae Jepsen   pop  female   \n",
       "4        Charli XCX   pop  female   \n",
       "\n",
       "                                             ngram_2  \\\n",
       "0  [(('let', 'me'), 80), (('without', 'you'), 76)...   \n",
       "1  [(('in', 'the'), 51), (('love', 'you'), 49), (...   \n",
       "2  [(('get', 'it'), 49), (('you', 'want'), 47), (...   \n",
       "3  [(('gimmie', 'love'), 75), (('love', 'gimmie')...   \n",
       "4  [(('it', 'i'), 273), (('i', 'got'), 192), (('g...   \n",
       "\n",
       "                                             ngram_3  \\\n",
       "0  [(('let', 'me', 'see'), 42), (('me', 'see', 'y...   \n",
       "1  [(('you', 'like', 'i'), 27), (('sorry', 'i', '...   \n",
       "2  [(('it', 'get', 'it'), 38), (('get', 'it', 'ge...   \n",
       "3  [(('gimmie', 'love', 'gimmie'), 69), (('love',...   \n",
       "4  [(('i', 'got', 'it'), 186), (('got', 'it', 'i'...   \n",
       "\n",
       "                                             ngram_4  \n",
       "0  [(('let', 'me', 'see', 'you'), 41), (('baby', ...  \n",
       "1  [(('they', 'dont', 'love', 'you'), 24), (('don...  \n",
       "2  [(('get', 'it', 'get', 'it'), 36), (('you', 'w...  \n",
       "3  [(('gimmie', 'love', 'gimmie', 'love'), 63), (...  \n",
       "4  [(('got', 'it', 'i', 'got'), 177), (('i', 'got...  "
      ]
     },
     "execution_count": 4,
     "metadata": {},
     "output_type": "execute_result"
    }
   ],
   "source": [
    "df.head()"
   ]
  },
  {
   "cell_type": "markdown",
   "id": "8478c24d-4f40-4e7c-b9e8-41cfdac9915f",
   "metadata": {},
   "source": [
    "#### ========== tests =============="
   ]
  },
  {
   "cell_type": "code",
   "execution_count": 5,
   "id": "2625a5e9-0b25-42bf-9891-10494c45372f",
   "metadata": {},
   "outputs": [],
   "source": [
    "test_ng = df['ngram_2'][0]"
   ]
  },
  {
   "cell_type": "code",
   "execution_count": 6,
   "id": "d861c7d7-47b6-47d5-b0bd-914c26817510",
   "metadata": {},
   "outputs": [],
   "source": [
    "# test_ng = list(test_ng)"
   ]
  },
  {
   "cell_type": "code",
   "execution_count": 7,
   "id": "5214368a-457a-4c74-bae2-f8d304ad679a",
   "metadata": {},
   "outputs": [
    {
     "data": {
      "text/plain": [
       "\"[(('let', 'me'), 80), (('without', 'you'), 76), (('see', 'you'), 56), (('i', 'dont'), 51), (('it', 'baby'), 47), (('what', 'you'), 44), (('and', 'forth'), 44), (('me', 'see'), 43), (('come', 'over'), 42), (('for', 'you'), 40), (('you', 'i'), 39), (('tell', 'me'), 38), (('dont', 'wanna'), 38), (('try', 'again'), 38), (('step', 'to'), 37), (('can', 'i'), 36), (('love', 'it'), 36), (('baby', 'love'), 35), (('to', 'step'), 35), (('for', 'me'), 33)]\""
      ]
     },
     "execution_count": 7,
     "metadata": {},
     "output_type": "execute_result"
    }
   ],
   "source": [
    "test_ng"
   ]
  },
  {
   "cell_type": "code",
   "execution_count": 8,
   "id": "508ad8f2-baec-4ef5-bf7a-941dd88d918e",
   "metadata": {
    "scrolled": true
   },
   "outputs": [
    {
     "data": {
      "text/plain": [
       "[\"[(('let',\",\n",
       " \"'me'),\",\n",
       " '80),',\n",
       " \"(('without',\",\n",
       " \"'you'),\",\n",
       " '76),',\n",
       " \"(('see',\",\n",
       " \"'you'),\",\n",
       " '56),',\n",
       " \"(('i',\",\n",
       " \"'dont'),\",\n",
       " '51),',\n",
       " \"(('it',\",\n",
       " \"'baby'),\",\n",
       " '47),',\n",
       " \"(('what',\",\n",
       " \"'you'),\",\n",
       " '44),',\n",
       " \"(('and',\",\n",
       " \"'forth'),\",\n",
       " '44),',\n",
       " \"(('me',\",\n",
       " \"'see'),\",\n",
       " '43),',\n",
       " \"(('come',\",\n",
       " \"'over'),\",\n",
       " '42),',\n",
       " \"(('for',\",\n",
       " \"'you'),\",\n",
       " '40),',\n",
       " \"(('you',\",\n",
       " \"'i'),\",\n",
       " '39),',\n",
       " \"(('tell',\",\n",
       " \"'me'),\",\n",
       " '38),',\n",
       " \"(('dont',\",\n",
       " \"'wanna'),\",\n",
       " '38),',\n",
       " \"(('try',\",\n",
       " \"'again'),\",\n",
       " '38),',\n",
       " \"(('step',\",\n",
       " \"'to'),\",\n",
       " '37),',\n",
       " \"(('can',\",\n",
       " \"'i'),\",\n",
       " '36),',\n",
       " \"(('love',\",\n",
       " \"'it'),\",\n",
       " '36),',\n",
       " \"(('baby',\",\n",
       " \"'love'),\",\n",
       " '35),',\n",
       " \"(('to',\",\n",
       " \"'step'),\",\n",
       " '35),',\n",
       " \"(('for',\",\n",
       " \"'me'),\",\n",
       " '33)]']"
      ]
     },
     "execution_count": 8,
     "metadata": {},
     "output_type": "execute_result"
    }
   ],
   "source": [
    "test_ng.split()"
   ]
  },
  {
   "cell_type": "code",
   "execution_count": 9,
   "id": "06a74afc-ee63-48a7-bc4f-79f0c2483962",
   "metadata": {},
   "outputs": [],
   "source": [
    "import ast"
   ]
  },
  {
   "cell_type": "code",
   "execution_count": 10,
   "id": "58e6b62b-92a7-4289-aaf9-b303391440d7",
   "metadata": {},
   "outputs": [],
   "source": [
    "ng_ast = ast.literal_eval(test_ng)"
   ]
  },
  {
   "cell_type": "code",
   "execution_count": 11,
   "id": "65c4229b-c98c-4567-bbf1-bb02c0365173",
   "metadata": {
    "scrolled": true
   },
   "outputs": [
    {
     "data": {
      "text/plain": [
       "[(('let', 'me'), 80),\n",
       " (('without', 'you'), 76),\n",
       " (('see', 'you'), 56),\n",
       " (('i', 'dont'), 51),\n",
       " (('it', 'baby'), 47),\n",
       " (('what', 'you'), 44),\n",
       " (('and', 'forth'), 44),\n",
       " (('me', 'see'), 43),\n",
       " (('come', 'over'), 42),\n",
       " (('for', 'you'), 40),\n",
       " (('you', 'i'), 39),\n",
       " (('tell', 'me'), 38),\n",
       " (('dont', 'wanna'), 38),\n",
       " (('try', 'again'), 38),\n",
       " (('step', 'to'), 37),\n",
       " (('can', 'i'), 36),\n",
       " (('love', 'it'), 36),\n",
       " (('baby', 'love'), 35),\n",
       " (('to', 'step'), 35),\n",
       " (('for', 'me'), 33)]"
      ]
     },
     "execution_count": 11,
     "metadata": {},
     "output_type": "execute_result"
    }
   ],
   "source": [
    "ng_ast"
   ]
  },
  {
   "cell_type": "code",
   "execution_count": 12,
   "id": "d47f4302-619e-4247-91bc-bdd2504be200",
   "metadata": {},
   "outputs": [
    {
     "data": {
      "text/plain": [
       "'let me'"
      ]
     },
     "execution_count": 12,
     "metadata": {},
     "output_type": "execute_result"
    }
   ],
   "source": [
    "' '.join(ng_ast[0][0])"
   ]
  },
  {
   "cell_type": "code",
   "execution_count": 13,
   "id": "83b67188-9794-4375-b6f0-1c533aef735f",
   "metadata": {},
   "outputs": [
    {
     "name": "stdout",
     "output_type": "stream",
     "text": [
      "['let me', 'without you', 'see you', 'i dont', 'it baby', 'what you', 'and forth', 'me see', 'come over', 'for you', 'you i', 'tell me', 'dont wanna', 'try again', 'step to', 'can i', 'love it', 'baby love', 'to step', 'for me']\n",
      "[80, 76, 56, 51, 47, 44, 44, 43, 42, 40, 39, 38, 38, 38, 37, 36, 36, 35, 35, 33]\n"
     ]
    }
   ],
   "source": [
    "grams = []\n",
    "counts = []\n",
    "for gram in ng_ast:\n",
    "    text = ' '.join(gram[0])\n",
    "    grams.append(text)\n",
    "    counts.append(gram[1])\n",
    "\n",
    "print(grams)\n",
    "print(counts)"
   ]
  },
  {
   "cell_type": "code",
   "execution_count": 14,
   "id": "e5077a99-0e4b-4826-a6ce-a5dd596c5b10",
   "metadata": {},
   "outputs": [
    {
     "data": {
      "text/plain": [
       "20"
      ]
     },
     "execution_count": 14,
     "metadata": {},
     "output_type": "execute_result"
    }
   ],
   "source": [
    "len(grams)"
   ]
  },
  {
   "cell_type": "markdown",
   "id": "429fa7e2-e533-4fc0-8dba-c227ef224371",
   "metadata": {},
   "source": [
    "#### ========== end tests ==========="
   ]
  },
  {
   "cell_type": "code",
   "execution_count": 15,
   "id": "afba7dc0-c6f3-45ff-a6d5-3544bb15392f",
   "metadata": {},
   "outputs": [],
   "source": [
    "ngram_lens = [2,3,4]\n",
    "grams_len = len(grams)\n",
    "ngrams_cols = []\n",
    "ngrams_count_cols = []\n",
    "\n",
    "for n_len in ngram_lens:\n",
    "    for n in range(grams_len):\n",
    "        grams_name = f'ngram_{n_len}_{n}'\n",
    "        grams_count_name = f'count_{n_len}_{n}'\n",
    "        \n",
    "        ngrams_cols.append(grams_name)\n",
    "        ngrams_count_cols.append(grams_count_name)\n",
    "\n",
    "cols = [*ngrams_cols, *ngrams_count_cols]"
   ]
  },
  {
   "cell_type": "code",
   "execution_count": 16,
   "id": "3b0fcb0d-10db-46ca-bd07-6919715beec2",
   "metadata": {
    "scrolled": true
   },
   "outputs": [
    {
     "data": {
      "text/plain": [
       "120"
      ]
     },
     "execution_count": 16,
     "metadata": {},
     "output_type": "execute_result"
    }
   ],
   "source": [
    "len(cols)"
   ]
  },
  {
   "cell_type": "code",
   "execution_count": 17,
   "id": "c48fce83-c829-4e19-8976-c233b023df73",
   "metadata": {},
   "outputs": [],
   "source": [
    "artists = list(df['Artist'].unique())"
   ]
  },
  {
   "cell_type": "code",
   "execution_count": 18,
   "id": "a3b4bc5b-6b52-4c52-b032-692186ed9702",
   "metadata": {},
   "outputs": [
    {
     "data": {
      "text/plain": [
       "40"
      ]
     },
     "execution_count": 18,
     "metadata": {},
     "output_type": "execute_result"
    }
   ],
   "source": [
    "len(artists)"
   ]
  },
  {
   "cell_type": "code",
   "execution_count": 19,
   "id": "95d3ca85-a8c0-464f-9897-3d39f876ce32",
   "metadata": {
    "scrolled": true
   },
   "outputs": [
    {
     "name": "stderr",
     "output_type": "stream",
     "text": [
      "C:\\Users\\User\\AppData\\Local\\Temp\\ipykernel_1128\\2035638503.py:3: PerformanceWarning: DataFrame is highly fragmented.  This is usually the result of calling `frame.insert` many times, which has poor performance.  Consider joining all columns at once using pd.concat(axis=1) instead. To get a de-fragmented frame, use `newframe = frame.copy()`\n",
      "  df[col] = None\n",
      "C:\\Users\\User\\AppData\\Local\\Temp\\ipykernel_1128\\2035638503.py:3: PerformanceWarning: DataFrame is highly fragmented.  This is usually the result of calling `frame.insert` many times, which has poor performance.  Consider joining all columns at once using pd.concat(axis=1) instead. To get a de-fragmented frame, use `newframe = frame.copy()`\n",
      "  df[col] = None\n",
      "C:\\Users\\User\\AppData\\Local\\Temp\\ipykernel_1128\\2035638503.py:3: PerformanceWarning: DataFrame is highly fragmented.  This is usually the result of calling `frame.insert` many times, which has poor performance.  Consider joining all columns at once using pd.concat(axis=1) instead. To get a de-fragmented frame, use `newframe = frame.copy()`\n",
      "  df[col] = None\n",
      "C:\\Users\\User\\AppData\\Local\\Temp\\ipykernel_1128\\2035638503.py:3: PerformanceWarning: DataFrame is highly fragmented.  This is usually the result of calling `frame.insert` many times, which has poor performance.  Consider joining all columns at once using pd.concat(axis=1) instead. To get a de-fragmented frame, use `newframe = frame.copy()`\n",
      "  df[col] = None\n",
      "C:\\Users\\User\\AppData\\Local\\Temp\\ipykernel_1128\\2035638503.py:3: PerformanceWarning: DataFrame is highly fragmented.  This is usually the result of calling `frame.insert` many times, which has poor performance.  Consider joining all columns at once using pd.concat(axis=1) instead. To get a de-fragmented frame, use `newframe = frame.copy()`\n",
      "  df[col] = None\n",
      "C:\\Users\\User\\AppData\\Local\\Temp\\ipykernel_1128\\2035638503.py:3: PerformanceWarning: DataFrame is highly fragmented.  This is usually the result of calling `frame.insert` many times, which has poor performance.  Consider joining all columns at once using pd.concat(axis=1) instead. To get a de-fragmented frame, use `newframe = frame.copy()`\n",
      "  df[col] = None\n",
      "C:\\Users\\User\\AppData\\Local\\Temp\\ipykernel_1128\\2035638503.py:3: PerformanceWarning: DataFrame is highly fragmented.  This is usually the result of calling `frame.insert` many times, which has poor performance.  Consider joining all columns at once using pd.concat(axis=1) instead. To get a de-fragmented frame, use `newframe = frame.copy()`\n",
      "  df[col] = None\n",
      "C:\\Users\\User\\AppData\\Local\\Temp\\ipykernel_1128\\2035638503.py:3: PerformanceWarning: DataFrame is highly fragmented.  This is usually the result of calling `frame.insert` many times, which has poor performance.  Consider joining all columns at once using pd.concat(axis=1) instead. To get a de-fragmented frame, use `newframe = frame.copy()`\n",
      "  df[col] = None\n",
      "C:\\Users\\User\\AppData\\Local\\Temp\\ipykernel_1128\\2035638503.py:3: PerformanceWarning: DataFrame is highly fragmented.  This is usually the result of calling `frame.insert` many times, which has poor performance.  Consider joining all columns at once using pd.concat(axis=1) instead. To get a de-fragmented frame, use `newframe = frame.copy()`\n",
      "  df[col] = None\n",
      "C:\\Users\\User\\AppData\\Local\\Temp\\ipykernel_1128\\2035638503.py:3: PerformanceWarning: DataFrame is highly fragmented.  This is usually the result of calling `frame.insert` many times, which has poor performance.  Consider joining all columns at once using pd.concat(axis=1) instead. To get a de-fragmented frame, use `newframe = frame.copy()`\n",
      "  df[col] = None\n",
      "C:\\Users\\User\\AppData\\Local\\Temp\\ipykernel_1128\\2035638503.py:3: PerformanceWarning: DataFrame is highly fragmented.  This is usually the result of calling `frame.insert` many times, which has poor performance.  Consider joining all columns at once using pd.concat(axis=1) instead. To get a de-fragmented frame, use `newframe = frame.copy()`\n",
      "  df[col] = None\n",
      "C:\\Users\\User\\AppData\\Local\\Temp\\ipykernel_1128\\2035638503.py:3: PerformanceWarning: DataFrame is highly fragmented.  This is usually the result of calling `frame.insert` many times, which has poor performance.  Consider joining all columns at once using pd.concat(axis=1) instead. To get a de-fragmented frame, use `newframe = frame.copy()`\n",
      "  df[col] = None\n",
      "C:\\Users\\User\\AppData\\Local\\Temp\\ipykernel_1128\\2035638503.py:3: PerformanceWarning: DataFrame is highly fragmented.  This is usually the result of calling `frame.insert` many times, which has poor performance.  Consider joining all columns at once using pd.concat(axis=1) instead. To get a de-fragmented frame, use `newframe = frame.copy()`\n",
      "  df[col] = None\n",
      "C:\\Users\\User\\AppData\\Local\\Temp\\ipykernel_1128\\2035638503.py:3: PerformanceWarning: DataFrame is highly fragmented.  This is usually the result of calling `frame.insert` many times, which has poor performance.  Consider joining all columns at once using pd.concat(axis=1) instead. To get a de-fragmented frame, use `newframe = frame.copy()`\n",
      "  df[col] = None\n",
      "C:\\Users\\User\\AppData\\Local\\Temp\\ipykernel_1128\\2035638503.py:3: PerformanceWarning: DataFrame is highly fragmented.  This is usually the result of calling `frame.insert` many times, which has poor performance.  Consider joining all columns at once using pd.concat(axis=1) instead. To get a de-fragmented frame, use `newframe = frame.copy()`\n",
      "  df[col] = None\n",
      "C:\\Users\\User\\AppData\\Local\\Temp\\ipykernel_1128\\2035638503.py:3: PerformanceWarning: DataFrame is highly fragmented.  This is usually the result of calling `frame.insert` many times, which has poor performance.  Consider joining all columns at once using pd.concat(axis=1) instead. To get a de-fragmented frame, use `newframe = frame.copy()`\n",
      "  df[col] = None\n",
      "C:\\Users\\User\\AppData\\Local\\Temp\\ipykernel_1128\\2035638503.py:3: PerformanceWarning: DataFrame is highly fragmented.  This is usually the result of calling `frame.insert` many times, which has poor performance.  Consider joining all columns at once using pd.concat(axis=1) instead. To get a de-fragmented frame, use `newframe = frame.copy()`\n",
      "  df[col] = None\n",
      "C:\\Users\\User\\AppData\\Local\\Temp\\ipykernel_1128\\2035638503.py:3: PerformanceWarning: DataFrame is highly fragmented.  This is usually the result of calling `frame.insert` many times, which has poor performance.  Consider joining all columns at once using pd.concat(axis=1) instead. To get a de-fragmented frame, use `newframe = frame.copy()`\n",
      "  df[col] = None\n",
      "C:\\Users\\User\\AppData\\Local\\Temp\\ipykernel_1128\\2035638503.py:3: PerformanceWarning: DataFrame is highly fragmented.  This is usually the result of calling `frame.insert` many times, which has poor performance.  Consider joining all columns at once using pd.concat(axis=1) instead. To get a de-fragmented frame, use `newframe = frame.copy()`\n",
      "  df[col] = None\n",
      "C:\\Users\\User\\AppData\\Local\\Temp\\ipykernel_1128\\2035638503.py:3: PerformanceWarning: DataFrame is highly fragmented.  This is usually the result of calling `frame.insert` many times, which has poor performance.  Consider joining all columns at once using pd.concat(axis=1) instead. To get a de-fragmented frame, use `newframe = frame.copy()`\n",
      "  df[col] = None\n",
      "C:\\Users\\User\\AppData\\Local\\Temp\\ipykernel_1128\\2035638503.py:3: PerformanceWarning: DataFrame is highly fragmented.  This is usually the result of calling `frame.insert` many times, which has poor performance.  Consider joining all columns at once using pd.concat(axis=1) instead. To get a de-fragmented frame, use `newframe = frame.copy()`\n",
      "  df[col] = None\n"
     ]
    }
   ],
   "source": [
    "# prepare empty rows\n",
    "for col in cols:\n",
    "    df[col] = None"
   ]
  },
  {
   "cell_type": "code",
   "execution_count": 20,
   "id": "d3afb9c2-97aa-4242-9aa2-4502c3e6d889",
   "metadata": {},
   "outputs": [
    {
     "data": {
      "text/plain": [
       "Index(['Artist', 'genre', 'gender', 'ngram_2', 'ngram_3', 'ngram_4',\n",
       "       'ngram_2_0', 'ngram_2_1', 'ngram_2_2', 'ngram_2_3',\n",
       "       ...\n",
       "       'count_4_10', 'count_4_11', 'count_4_12', 'count_4_13', 'count_4_14',\n",
       "       'count_4_15', 'count_4_16', 'count_4_17', 'count_4_18', 'count_4_19'],\n",
       "      dtype='object', length=126)"
      ]
     },
     "execution_count": 20,
     "metadata": {},
     "output_type": "execute_result"
    }
   ],
   "source": [
    "df.columns"
   ]
  },
  {
   "cell_type": "code",
   "execution_count": 21,
   "id": "63ec56f7-4185-456c-8892-a4e07d01f9c6",
   "metadata": {
    "scrolled": true
   },
   "outputs": [
    {
     "name": "stderr",
     "output_type": "stream",
     "text": [
      "C:\\Users\\User\\AppData\\Local\\Temp\\ipykernel_1128\\681512402.py:15: SettingWithCopyWarning: \n",
      "A value is trying to be set on a copy of a slice from a DataFrame.\n",
      "Try using .loc[row_indexer,col_indexer] = value instead\n",
      "\n",
      "See the caveats in the documentation: https://pandas.pydata.org/pandas-docs/stable/user_guide/indexing.html#returning-a-view-versus-a-copy\n",
      "  grams_row[ ngrams_cols[calc_index] ] = gram_text\n",
      "C:\\Users\\User\\AppData\\Local\\Temp\\ipykernel_1128\\681512402.py:16: SettingWithCopyWarning: \n",
      "A value is trying to be set on a copy of a slice from a DataFrame.\n",
      "Try using .loc[row_indexer,col_indexer] = value instead\n",
      "\n",
      "See the caveats in the documentation: https://pandas.pydata.org/pandas-docs/stable/user_guide/indexing.html#returning-a-view-versus-a-copy\n",
      "  grams_row[ ngrams_count_cols[calc_index] ] = gram_count\n"
     ]
    }
   ],
   "source": [
    "# please = ''\n",
    "for artist in artists:\n",
    "    grams_row = df[df['Artist'] == artist]\n",
    "    # print(grams_row)\n",
    "    grams_row.reset_index(inplace=True, drop=True)\n",
    "    for n_len_index, n_len in enumerate(ngram_lens):\n",
    "        grams_str = grams_row[f'ngram_{n_len}'][0]\n",
    "        # please = grams_str\n",
    "        grams_list = ast.literal_eval(grams_str)\n",
    "        for n in range(grams_len):\n",
    "            gram_text = ' '.join(grams_list[n][0])\n",
    "            gram_count = grams_list[n][1]\n",
    "            calc_index = 20 * (n_len_index) + n\n",
    "            # print(calc_index)\n",
    "            grams_row[ ngrams_cols[calc_index] ] = gram_text\n",
    "            grams_row[ ngrams_count_cols[calc_index] ] = gram_count\n",
    "\n",
    "    df[df['Artist'] == artist] = grams_row"
   ]
  },
  {
   "cell_type": "code",
   "execution_count": 22,
   "id": "44b6705f-509c-4475-b0c6-c59f1f3a23a8",
   "metadata": {},
   "outputs": [
    {
     "data": {
      "text/html": [
       "<div>\n",
       "<style scoped>\n",
       "    .dataframe tbody tr th:only-of-type {\n",
       "        vertical-align: middle;\n",
       "    }\n",
       "\n",
       "    .dataframe tbody tr th {\n",
       "        vertical-align: top;\n",
       "    }\n",
       "\n",
       "    .dataframe thead th {\n",
       "        text-align: right;\n",
       "    }\n",
       "</style>\n",
       "<table border=\"1\" class=\"dataframe\">\n",
       "  <thead>\n",
       "    <tr style=\"text-align: right;\">\n",
       "      <th></th>\n",
       "      <th>Artist</th>\n",
       "      <th>genre</th>\n",
       "      <th>gender</th>\n",
       "      <th>ngram_2</th>\n",
       "      <th>ngram_3</th>\n",
       "      <th>ngram_4</th>\n",
       "      <th>ngram_2_0</th>\n",
       "      <th>ngram_2_1</th>\n",
       "      <th>ngram_2_2</th>\n",
       "      <th>ngram_2_3</th>\n",
       "      <th>...</th>\n",
       "      <th>count_4_10</th>\n",
       "      <th>count_4_11</th>\n",
       "      <th>count_4_12</th>\n",
       "      <th>count_4_13</th>\n",
       "      <th>count_4_14</th>\n",
       "      <th>count_4_15</th>\n",
       "      <th>count_4_16</th>\n",
       "      <th>count_4_17</th>\n",
       "      <th>count_4_18</th>\n",
       "      <th>count_4_19</th>\n",
       "    </tr>\n",
       "  </thead>\n",
       "  <tbody>\n",
       "    <tr>\n",
       "      <th>0</th>\n",
       "      <td>Aaliyah</td>\n",
       "      <td>pop</td>\n",
       "      <td>female</td>\n",
       "      <td>[(('let', 'me'), 80), (('without', 'you'), 76)...</td>\n",
       "      <td>[(('let', 'me', 'see'), 42), (('me', 'see', 'y...</td>\n",
       "      <td>[(('let', 'me', 'see', 'you'), 41), (('baby', ...</td>\n",
       "      <td>let me</td>\n",
       "      <td>without you</td>\n",
       "      <td>see you</td>\n",
       "      <td>i dont</td>\n",
       "      <td>...</td>\n",
       "      <td>25</td>\n",
       "      <td>25</td>\n",
       "      <td>25</td>\n",
       "      <td>23</td>\n",
       "      <td>22</td>\n",
       "      <td>22</td>\n",
       "      <td>21</td>\n",
       "      <td>21</td>\n",
       "      <td>20</td>\n",
       "      <td>18</td>\n",
       "    </tr>\n",
       "    <tr>\n",
       "      <th>1</th>\n",
       "      <td>NaN</td>\n",
       "      <td>NaN</td>\n",
       "      <td>NaN</td>\n",
       "      <td>NaN</td>\n",
       "      <td>NaN</td>\n",
       "      <td>NaN</td>\n",
       "      <td>NaN</td>\n",
       "      <td>NaN</td>\n",
       "      <td>NaN</td>\n",
       "      <td>NaN</td>\n",
       "      <td>...</td>\n",
       "      <td>NaN</td>\n",
       "      <td>NaN</td>\n",
       "      <td>NaN</td>\n",
       "      <td>NaN</td>\n",
       "      <td>NaN</td>\n",
       "      <td>NaN</td>\n",
       "      <td>NaN</td>\n",
       "      <td>NaN</td>\n",
       "      <td>NaN</td>\n",
       "      <td>NaN</td>\n",
       "    </tr>\n",
       "    <tr>\n",
       "      <th>2</th>\n",
       "      <td>NaN</td>\n",
       "      <td>NaN</td>\n",
       "      <td>NaN</td>\n",
       "      <td>NaN</td>\n",
       "      <td>NaN</td>\n",
       "      <td>NaN</td>\n",
       "      <td>NaN</td>\n",
       "      <td>NaN</td>\n",
       "      <td>NaN</td>\n",
       "      <td>NaN</td>\n",
       "      <td>...</td>\n",
       "      <td>NaN</td>\n",
       "      <td>NaN</td>\n",
       "      <td>NaN</td>\n",
       "      <td>NaN</td>\n",
       "      <td>NaN</td>\n",
       "      <td>NaN</td>\n",
       "      <td>NaN</td>\n",
       "      <td>NaN</td>\n",
       "      <td>NaN</td>\n",
       "      <td>NaN</td>\n",
       "    </tr>\n",
       "    <tr>\n",
       "      <th>3</th>\n",
       "      <td>NaN</td>\n",
       "      <td>NaN</td>\n",
       "      <td>NaN</td>\n",
       "      <td>NaN</td>\n",
       "      <td>NaN</td>\n",
       "      <td>NaN</td>\n",
       "      <td>NaN</td>\n",
       "      <td>NaN</td>\n",
       "      <td>NaN</td>\n",
       "      <td>NaN</td>\n",
       "      <td>...</td>\n",
       "      <td>NaN</td>\n",
       "      <td>NaN</td>\n",
       "      <td>NaN</td>\n",
       "      <td>NaN</td>\n",
       "      <td>NaN</td>\n",
       "      <td>NaN</td>\n",
       "      <td>NaN</td>\n",
       "      <td>NaN</td>\n",
       "      <td>NaN</td>\n",
       "      <td>NaN</td>\n",
       "    </tr>\n",
       "    <tr>\n",
       "      <th>4</th>\n",
       "      <td>NaN</td>\n",
       "      <td>NaN</td>\n",
       "      <td>NaN</td>\n",
       "      <td>NaN</td>\n",
       "      <td>NaN</td>\n",
       "      <td>NaN</td>\n",
       "      <td>NaN</td>\n",
       "      <td>NaN</td>\n",
       "      <td>NaN</td>\n",
       "      <td>NaN</td>\n",
       "      <td>...</td>\n",
       "      <td>NaN</td>\n",
       "      <td>NaN</td>\n",
       "      <td>NaN</td>\n",
       "      <td>NaN</td>\n",
       "      <td>NaN</td>\n",
       "      <td>NaN</td>\n",
       "      <td>NaN</td>\n",
       "      <td>NaN</td>\n",
       "      <td>NaN</td>\n",
       "      <td>NaN</td>\n",
       "    </tr>\n",
       "  </tbody>\n",
       "</table>\n",
       "<p>5 rows × 126 columns</p>\n",
       "</div>"
      ],
      "text/plain": [
       "    Artist genre  gender                                            ngram_2  \\\n",
       "0  Aaliyah   pop  female  [(('let', 'me'), 80), (('without', 'you'), 76)...   \n",
       "1      NaN   NaN     NaN                                                NaN   \n",
       "2      NaN   NaN     NaN                                                NaN   \n",
       "3      NaN   NaN     NaN                                                NaN   \n",
       "4      NaN   NaN     NaN                                                NaN   \n",
       "\n",
       "                                             ngram_3  \\\n",
       "0  [(('let', 'me', 'see'), 42), (('me', 'see', 'y...   \n",
       "1                                                NaN   \n",
       "2                                                NaN   \n",
       "3                                                NaN   \n",
       "4                                                NaN   \n",
       "\n",
       "                                             ngram_4 ngram_2_0    ngram_2_1  \\\n",
       "0  [(('let', 'me', 'see', 'you'), 41), (('baby', ...    let me  without you   \n",
       "1                                                NaN       NaN          NaN   \n",
       "2                                                NaN       NaN          NaN   \n",
       "3                                                NaN       NaN          NaN   \n",
       "4                                                NaN       NaN          NaN   \n",
       "\n",
       "  ngram_2_2 ngram_2_3  ... count_4_10 count_4_11 count_4_12 count_4_13  \\\n",
       "0   see you    i dont  ...         25         25         25         23   \n",
       "1       NaN       NaN  ...        NaN        NaN        NaN        NaN   \n",
       "2       NaN       NaN  ...        NaN        NaN        NaN        NaN   \n",
       "3       NaN       NaN  ...        NaN        NaN        NaN        NaN   \n",
       "4       NaN       NaN  ...        NaN        NaN        NaN        NaN   \n",
       "\n",
       "  count_4_14 count_4_15 count_4_16 count_4_17 count_4_18 count_4_19  \n",
       "0         22         22         21         21         20         18  \n",
       "1        NaN        NaN        NaN        NaN        NaN        NaN  \n",
       "2        NaN        NaN        NaN        NaN        NaN        NaN  \n",
       "3        NaN        NaN        NaN        NaN        NaN        NaN  \n",
       "4        NaN        NaN        NaN        NaN        NaN        NaN  \n",
       "\n",
       "[5 rows x 126 columns]"
      ]
     },
     "execution_count": 22,
     "metadata": {},
     "output_type": "execute_result"
    }
   ],
   "source": [
    "df.head()"
   ]
  },
  {
   "cell_type": "code",
   "execution_count": null,
   "id": "7b9a8f4a-2a47-44b5-9f42-c3782a51db50",
   "metadata": {},
   "outputs": [],
   "source": []
  }
 ],
 "metadata": {
  "kernelspec": {
   "display_name": "data_venv",
   "language": "python",
   "name": "data_venv"
  },
  "language_info": {
   "codemirror_mode": {
    "name": "ipython",
    "version": 3
   },
   "file_extension": ".py",
   "mimetype": "text/x-python",
   "name": "python",
   "nbconvert_exporter": "python",
   "pygments_lexer": "ipython3",
   "version": "3.10.9"
  }
 },
 "nbformat": 4,
 "nbformat_minor": 5
}
