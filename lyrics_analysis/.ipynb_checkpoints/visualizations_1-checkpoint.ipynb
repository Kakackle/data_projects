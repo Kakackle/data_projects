{
 "cells": [
  {
   "cell_type": "markdown",
   "id": "70f211cc-cdad-48d3-b365-202840fa567a",
   "metadata": {},
   "source": [
    "## Visualizations with dash\n",
    "\n",
    "### Dynamic multi-input etc\n",
    "* https://dash.plotly.com/advanced-callbacks\n",
    "* https://community.plotly.com/t/updating-a-dropdown-menus-contents-dynamically/4920/4\n",
    "* https://dash-example-index.herokuapp.com/?code=dcc.Dropdown\n",
    "* https://dash.plotly.com/dash-core-components/dropdown\n",
    "* https://dash-bootstrap-components.opensource.faculty.ai/examples/iris/"
   ]
  },
  {
   "cell_type": "code",
   "execution_count": null,
   "id": "b68704a1-4469-4a2a-8e03-aa2104e9e3f0",
   "metadata": {},
   "outputs": [],
   "source": [
    "from dash import Dash, html, dcc, callback, Output, Input\n",
    "import dash_bootstrap_components as dbc\n",
    "import plotly.express as px\n",
    "import pandas as pd\n",
    "\n",
    "from wordcloud import WordCloud\n",
    "from plotly.subplots import make_subplots\n",
    "import plotly.graph_objects as graph_objects"
   ]
  },
  {
   "cell_type": "markdown",
   "id": "a7a89b38-741f-42df-ba93-9bd188581ed0",
   "metadata": {},
   "source": [
    "### counts_df contains topic counts, topic percentages, POS counts,  emotions, sentiment, and data like producer count, artist metadata etc"
   ]
  },
  {
   "cell_type": "code",
   "execution_count": null,
   "id": "9ba6a485-d940-4060-838c-3f17b5a72777",
   "metadata": {},
   "outputs": [],
   "source": [
    "counts_df = pd.read_csv('dataframes/with_counts/combined_count.csv', index_col=0)"
   ]
  },
  {
   "cell_type": "code",
   "execution_count": null,
   "id": "ad3a1987-dd9e-47f8-9744-ebedc331d073",
   "metadata": {
    "scrolled": true
   },
   "outputs": [],
   "source": [
    "counts_df.head()"
   ]
  },
  {
   "cell_type": "code",
   "execution_count": null,
   "id": "f21dab65-3b1c-42a6-87c2-8c54cefbfbb8",
   "metadata": {
    "scrolled": true
   },
   "outputs": [],
   "source": [
    "list(counts_df.columns)"
   ]
  },
  {
   "cell_type": "markdown",
   "id": "9c2b9361-370a-441a-8c16-7643682c09e9",
   "metadata": {},
   "source": [
    "### top_20_filtered_words_genre/artist_df - contain top 20 most popular words for each artist / genre with extra filtered words removed:\n",
    "the extra filtered words are: ['dont', 'im', 'know', 'yeah']"
   ]
  },
  {
   "cell_type": "code",
   "execution_count": null,
   "id": "d3f7c918-32df-47b9-9aca-9a012a45f829",
   "metadata": {},
   "outputs": [],
   "source": [
    "top_20_filtered_words_genre_df = pd.read_csv('dataframes/top_20_filtered_words_by_genre.csv')\n",
    "top_20_filtered_words_artist_df = pd.read_csv('dataframes/top_20_filtered_words_by_artist.csv')"
   ]
  },
  {
   "cell_type": "code",
   "execution_count": null,
   "id": "b3b843ec-565a-405b-93c4-425e8c4ec212",
   "metadata": {},
   "outputs": [],
   "source": [
    "app = Dash(external_stylesheets=[dbc.themes.BOOTSTRAP])"
   ]
  },
  {
   "cell_type": "code",
   "execution_count": null,
   "id": "a7732c9b-9f92-4760-9938-4399cf1adea3",
   "metadata": {},
   "outputs": [],
   "source": [
    "artists = list(counts_df.Artist.unique())"
   ]
  },
  {
   "cell_type": "code",
   "execution_count": null,
   "id": "f5374e0d-f056-4130-bf6b-5a9ff1f5ccbd",
   "metadata": {},
   "outputs": [],
   "source": [
    "topics = [\n",
    " 'manual_love_count',\n",
    " 'manual_money_count',\n",
    " 'manual_violence_count',\n",
    " 'manual_drugs_count',\n",
    " 'manual_gendered_count',\n",
    " 'manual_sadness_count',\n",
    " 'manual_joy_count',\n",
    " 'manual_yes_count',\n",
    " 'manual_no_count'\n",
    "]"
   ]
  },
  {
   "cell_type": "code",
   "execution_count": null,
   "id": "cf707c31-659b-4fee-b802-25804479d99c",
   "metadata": {},
   "outputs": [],
   "source": [
    "# df[df['Artist'] == 'Al Green'].Year.unique()"
   ]
  },
  {
   "cell_type": "markdown",
   "id": "42bfc62c-5af9-4a38-bad7-d0d225147f88",
   "metadata": {},
   "source": [
    "### Topic graphs 1\n",
    "#### controls"
   ]
  },
  {
   "cell_type": "code",
   "execution_count": null,
   "id": "f715b0d9-4f30-4619-aca1-0815004785b7",
   "metadata": {},
   "outputs": [],
   "source": [
    "topic_controls = dbc.Card(\n",
    "    [\n",
    "        html.Div(\n",
    "            [\n",
    "            dbc.Label(\"Genre\"),\n",
    "            dcc.Dropdown(\n",
    "                id='topic-genre-selection',\n",
    "                value = 'soul',\n",
    "                options = list(counts_df.genre.unique()),\n",
    "                multi = True\n",
    "            )\n",
    "            ]),\n",
    "        html.Div(\n",
    "            [\n",
    "            dbc.Label(\"Artist\"),\n",
    "            # dcc.Dropdown(df.Artist.unique(), 'Al Green', id='topic-artist-selection')\n",
    "            dcc.Dropdown(\n",
    "                id='topic-artist-selection-dynamic',\n",
    "                value='Al Green',\n",
    "                multi = True\n",
    "            )\n",
    "            ]),\n",
    "        html.Div(\n",
    "            [\n",
    "            dbc.Label(\"Manual word topic\"),\n",
    "            dcc.Dropdown(topics, 'manual_love_count', id='topic-selection')\n",
    "            ]),\n",
    "        # html.Div(\n",
    "        #     [\n",
    "        #     dbc.Label(\"Year\"),\n",
    "        #     dcc.Dropdown(id='year-selection-dynamic')\n",
    "        #     ])\n",
    "    ],\n",
    "    body=True,\n",
    ")"
   ]
  },
  {
   "cell_type": "markdown",
   "id": "53999c60-d38e-48d6-a5ba-e5581b23833e",
   "metadata": {},
   "source": [
    "#### layout"
   ]
  },
  {
   "cell_type": "code",
   "execution_count": null,
   "id": "b2afa75b-9fc7-4210-a9e3-3bc1ac6a3b0d",
   "metadata": {},
   "outputs": [],
   "source": [
    "topic_container = dbc.Container([\n",
    "    html.H1(children = 'Genre and Artist manual topic counts by year', style={'textAlign': 'center'}),\n",
    "    # html.P(children=\"multi artist select result:\"),\n",
    "    html.P(id=\"multi-artist-dynamic-test\"),\n",
    "    # html.P(children=\"resultant df shape:\"),\n",
    "    html.P(id=\"topic-df-shape\"),\n",
    "    dbc.Row(\n",
    "        [\n",
    "            dbc.Col(topic_controls, md=4),\n",
    "            dbc.Col(dcc.Graph(id='topic-graph-content'), md=8),\n",
    "        ],\n",
    "        align=\"center\",\n",
    "    ),\n",
    "    # dbc.DropdownMenu(label=\"Artist\", id=\"artist-selection\", children=items),\n",
    "    # dbc.Select(id=\"artist-selection\", options=items),\n",
    "\n",
    "], fluid=True)"
   ]
  },
  {
   "cell_type": "markdown",
   "id": "311e1971-82b6-46f3-a0ba-7fe4567cb7f4",
   "metadata": {},
   "source": [
    "### genre wordclouds\n",
    "#### layout"
   ]
  },
  {
   "cell_type": "markdown",
   "id": "57560616-d9b5-4f51-bad8-e83c31b9f4b2",
   "metadata": {},
   "source": [
    "create the non-dynamic wordclouds"
   ]
  },
  {
   "cell_type": "code",
   "execution_count": null,
   "id": "973865d1-53d5-45a4-98a0-c69ef4b83b8f",
   "metadata": {},
   "outputs": [],
   "source": [
    "# setup\n",
    "top_20_filtered_words_genre_df.rename(columns={'Unnamed: 0' : 'genre'}, inplace=True)\n",
    "genres = top_20_filtered_words_genre_df['genre'].unique()\n",
    "\n",
    "# column access names\n",
    "count_cols = []\n",
    "word_cols = []\n",
    "n = 20\n",
    "for ind in range(n):\n",
    "    word_cols.append(f'word{ind}')\n",
    "    count_cols.append(f'word{ind}_count')"
   ]
  },
  {
   "cell_type": "code",
   "execution_count": null,
   "id": "cb955665-d5e7-486f-9d42-aeff1433e1a8",
   "metadata": {},
   "outputs": [],
   "source": [
    "genre_wordclouds = []\n",
    "genre_bars = []\n",
    "\n",
    "for genre in genres:\n",
    "    genre_df = top_20_filtered_words_genre_df[top_20_filtered_words_genre_df['genre'] == genre]\n",
    "    genre_words = [genre_df[word].values[0] for word in word_cols]\n",
    "    genre_counts = [genre_df[count].values[0] for count in count_cols]\n",
    "\n",
    "    genre_item = {\n",
    "        'genre': genre,\n",
    "        'words': genre_words,\n",
    "        'counts': genre_counts\n",
    "    }\n",
    "\n",
    "    genre_bars.append(genre_item)\n",
    "    \n",
    "    d = {}\n",
    "    for word, count in zip(genre_words, genre_counts):\n",
    "        d[word] = count\n",
    "\n",
    "    wordcloud = WordCloud(background_color = \"white\", width=800, height=400)\n",
    "    wordcloud.generate_from_frequencies(frequencies=d)\n",
    "    genre_wordclouds.append(wordcloud)"
   ]
  },
  {
   "cell_type": "code",
   "execution_count": null,
   "id": "c5ef383e-d434-4445-a890-95a194a124dd",
   "metadata": {},
   "outputs": [],
   "source": [
    "# genres"
   ]
  },
  {
   "cell_type": "code",
   "execution_count": null,
   "id": "5a956993-eb61-44c2-b96e-515a3a289100",
   "metadata": {},
   "outputs": [],
   "source": [
    "genre_titles = ['pop', 'pop', 'rock', 'rock', 'rap', 'rap', 'soul', 'soul']"
   ]
  },
  {
   "cell_type": "code",
   "execution_count": null,
   "id": "a2a0dbb1-2680-481b-8dae-34ba673f7398",
   "metadata": {
    "scrolled": true
   },
   "outputs": [],
   "source": [
    "genre_wordclouds_fig = make_subplots(rows=4, cols=2, subplot_titles = genre_titles)\n",
    "\n",
    "for i, genre in enumerate(genres):\n",
    "    genre_wordclouds_fig.add_trace(graph_objects.Image(z=genre_wordclouds[i]), row = i+1, col = 1)\n",
    "    genre_wordclouds_fig.add_trace(graph_objects.Bar(x=genre_bars[i]['words'], y=genre_bars[i]['counts'], showlegend = False), row=i+1, col=2,)\n",
    "genre_wordclouds_fig.update_layout(height = 4 * 400)"
   ]
  },
  {
   "cell_type": "code",
   "execution_count": null,
   "id": "cd6eeea7-865e-4219-b83a-0bbaccd6b1a5",
   "metadata": {},
   "outputs": [],
   "source": [
    "genre_wordcloud_container = dbc.Container([\n",
    "    html.H1(children = 'Top 20 (filtered) words by genre wordclouds', style={'textAlign': 'center'}),\n",
    "    dcc.Graph(id='genre-wordcloud-graph-content',\n",
    "             figure = genre_wordclouds_fig)\n",
    "    # dbc.Row(\n",
    "    #     [\n",
    "    #         dbc.Col(topic_controls, md=4),\n",
    "    #         dbc.Col(dcc.Graph(id='topic-graph-content'), md=8),\n",
    "    #     ],\n",
    "    #     align=\"center\",\n",
    "    # ),\n",
    "    # dbc.DropdownMenu(label=\"Artist\", id=\"artist-selection\", children=items),\n",
    "    # dbc.Select(id=\"artist-selection\", options=items),\n",
    "], fluid=True)"
   ]
  },
  {
   "cell_type": "markdown",
   "id": "d6a1a919-9bb2-4785-abb0-ed1f55ccffad",
   "metadata": {},
   "source": [
    "### Artist wordcloud dynamic"
   ]
  },
  {
   "cell_type": "markdown",
   "id": "61e763b1-7da5-4bce-8b5f-7cc6257d697c",
   "metadata": {},
   "source": [
    "#### controls"
   ]
  },
  {
   "cell_type": "code",
   "execution_count": null,
   "id": "c2375d1f-8318-4dfb-ba6f-c52489d58be3",
   "metadata": {},
   "outputs": [],
   "source": [
    "artist_wordcloud_controls = dbc.Card(\n",
    "    [\n",
    "        html.Div(\n",
    "            [\n",
    "            dbc.Label(\"Genre\"),\n",
    "            dcc.Dropdown(\n",
    "                id='wordcloud-genre-selection',\n",
    "                value = 'soul',\n",
    "                options = list(top_20_filtered_words_artist_df.genre.unique())\n",
    "            )\n",
    "            ]),\n",
    "        html.Div(\n",
    "            [\n",
    "            dbc.Label(\"Artist\"),\n",
    "            # dcc.Dropdown(df.Artist.unique(), 'Al Green', id='topic-artist-selection')\n",
    "            dcc.Dropdown(\n",
    "                id='wordcloud-artist-selection-dynamic',\n",
    "                value='Al Green'\n",
    "            )\n",
    "            ]),\n",
    "    ],\n",
    "    body=True,\n",
    ")"
   ]
  },
  {
   "cell_type": "code",
   "execution_count": null,
   "id": "b4aebb6f-5974-41e8-9057-5fa168d35b02",
   "metadata": {},
   "outputs": [],
   "source": [
    "artist_wordcloud_container = dbc.Container([\n",
    "    html.H1(children = 'Genre and Artist top words wordcloud dynamic', style={'textAlign': 'center'}),\n",
    "    html.P(id='wordcloud-df-shape'),\n",
    "    dbc.Row(\n",
    "        [\n",
    "            dbc.Col(artist_wordcloud_controls, md=4),\n",
    "            dbc.Col(dcc.Graph(id='artist-wordcloud-graph-content'), md=8),\n",
    "        ],\n",
    "        align=\"center\",\n",
    "    ),\n",
    "    # dbc.DropdownMenu(label=\"Artist\", id=\"artist-selection\", children=items),\n",
    "    # dbc.Select(id=\"artist-selection\", options=items),\n",
    "\n",
    "], fluid=True)"
   ]
  },
  {
   "cell_type": "code",
   "execution_count": null,
   "id": "175c152d-0a3d-47c7-961c-12cb7c7f44c5",
   "metadata": {},
   "outputs": [],
   "source": [
    "app.layout = dbc.Container([\n",
    "    topic_container,\n",
    "    html.Hr(),\n",
    "    # genre_wordcloud_container,\n",
    "    # html.Hr(),\n",
    "    artist_wordcloud_container,\n",
    "    html.Hr(),\n",
    "], fluid=True)"
   ]
  },
  {
   "cell_type": "markdown",
   "id": "8bd9750d-1d1c-4655-a25c-3269717098d5",
   "metadata": {},
   "source": [
    "#### Topic 1 controls callbacks"
   ]
  },
  {
   "cell_type": "code",
   "execution_count": null,
   "id": "03a61df7-8128-47f2-bb2e-88ba00c7f697",
   "metadata": {},
   "outputs": [],
   "source": [
    "# ========= topic graph by year with genre, artist, topic selection ===========\n",
    "@app.callback(\n",
    "    [\n",
    "        Output('topic-graph-content', 'figure'),\n",
    "        Output('topic-df-shape', 'children'),\n",
    "        Output('multi-artist-dynamic-test', 'children')\n",
    "    ],\n",
    "    [\n",
    "        Input('topic-genre-selection', 'value'),\n",
    "        Input('topic-artist-selection-dynamic', 'value'),\n",
    "        Input('topic-selection', 'value'),\n",
    "    ]\n",
    ")\n",
    "def update_topic_graph(genres, artists, topic):\n",
    "    genre_df = counts_df[counts_df['genre'].isin(genres)]\n",
    "    # in case there is only one artist selected\n",
    "    artists_list = [artist for artist in artists]\n",
    "    artists_df = genre_df[genre_df['Artist'].isin(artists_list)]\n",
    "    # dff = df[df.Artist == artist]\n",
    "    fig = px.bar(artists_df, x='Year', y=topic, color='genre',\n",
    "                hover_data = ['Artist'])\n",
    "    df_shape = artists_df.shape\n",
    "    \n",
    "    return fig, f'df shape: {df_shape}', f'artists list: {artists}'\n",
    "    # return fig\n",
    "\n",
    "# ========= set available artist options based on chosen genre =========\n",
    "@app.callback(\n",
    "    Output('topic-artist-selection-dynamic', 'options'),\n",
    "    Input('topic-genre-selection', 'value')\n",
    ")\n",
    "def set_dynamic_artist_options(genres):\n",
    "    options = dict()\n",
    "    for genre in genres:\n",
    "        genre_artists = list(counts_df[counts_df['genre'] == genre]['Artist'].unique())\n",
    "        for artist in genre_artists:\n",
    "            options[artist] = artist\n",
    "    return options\n",
    "\n",
    "# ======= choose from available dynamic options =========\n",
    "# has to be done manually due to dynamicity\n",
    "# also this is how to return multiple options\n",
    "# in case of one you'd have to take [0] of value from options\n",
    "@app.callback(\n",
    "    Output('topic-artist-selection-dynamic', 'value'),\n",
    "    Input('topic-artist-selection-dynamic', 'options')\n",
    ")\n",
    "def set_dynamic_artist_value(options):\n",
    "    # output = [option for option in options]\n",
    "    # return output\n",
    "    return options"
   ]
  },
  {
   "cell_type": "markdown",
   "id": "aea45ad1-6bbd-4a21-af67-389ce05ed133",
   "metadata": {},
   "source": [
    "#### artist wordcloud callbacks"
   ]
  },
  {
   "cell_type": "code",
   "execution_count": null,
   "id": "943e804c-3007-4216-9490-00c1ac3d7a08",
   "metadata": {},
   "outputs": [],
   "source": [
    "# top_20_filtered_words_artist_df.rename(columns={'':''}\n",
    "top_20_filtered_words_artist_df.columns"
   ]
  },
  {
   "cell_type": "code",
   "execution_count": null,
   "id": "573a01c1-bd28-4dd3-9692-8d684e7dd4e2",
   "metadata": {},
   "outputs": [],
   "source": [
    "# ========= topic graph by year with genre, artist, topic selection ===========\n",
    "@app.callback(\n",
    "    [\n",
    "        Output('artist-wordcloud-graph-content', 'figure'),\n",
    "        Output('wordcloud-df-shape', 'children')\n",
    "    ],\n",
    "    [\n",
    "        Input('wordcloud-genre-selection', 'value'),\n",
    "        Input('wordcloud-artist-selection-dynamic', 'value'),\n",
    "    ]\n",
    ")\n",
    "def update_artist_wordcloud_graph(genre, artist):\n",
    "    artist_df = top_20_filtered_words_artist_df[top_20_filtered_words_artist_df['Artist'] == artist]\n",
    "    # create wordcloud and bar graph\n",
    "    artist_words = [artist_df[word].values[0] for word in word_cols]\n",
    "    artist_counts = [artist_df[count].values[0] for count in count_cols]\n",
    "\n",
    "    d = {}\n",
    "    for word, count in zip(artist_words, artist_counts):\n",
    "        d[word] = count\n",
    "\n",
    "    wordcloud = WordCloud(background_color = \"white\", width=800, height=400)\n",
    "    wordcloud.generate_from_frequencies(frequencies=d)\n",
    "\n",
    "    artist_fig = make_subplots(rows=1, cols=2, subplot_titles = [f'{artist} wordcloud', f'{artist} bar'])\n",
    "\n",
    "    artist_fig.add_trace(graph_objects.Image(z=wordcloud), row = 1, col = 1)\n",
    "    artist_fig.add_trace(graph_objects.Bar(x=artist_words, y=artist_counts, showlegend = False), row=1, col=2,)\n",
    "    artist_fig.update_layout(height = 1 * 400)\n",
    "    df_shape = artist_df.shape\n",
    "    return artist_fig, f'df shape: {df_shape}'\n",
    "\n",
    "# ========= set available artist options based on chosen genre =========\n",
    "@app.callback(\n",
    "    Output('wordcloud-artist-selection-dynamic', 'options'),\n",
    "    Input('wordcloud-genre-selection', 'value')\n",
    ")\n",
    "def set_dynamic_artist_options(genre):\n",
    "    # options = dict()\n",
    "    # for genre in genres:\n",
    "    genre_artists = list(top_20_filtered_words_artist_df[top_20_filtered_words_artist_df['genre'] == genre]['Artist'].unique())\n",
    "    # for artist in genre_artists:\n",
    "    #     options[artist] = artist\n",
    "    # return options\n",
    "    options = [{\"label\": artist, \"value\": artist} for artist in genre_artists]\n",
    "    return options\n",
    "\n",
    "# ======= choose from available dynamic options =========\n",
    "# has to be done manually due to dynamicity\n",
    "# also this is how to return multiple options\n",
    "# in case of one you'd have to take [0] of value from options\n",
    "@app.callback(\n",
    "    Output('wordcloud-artist-selection-dynamic', 'value'),\n",
    "    Input('wordcloud-artist-selection-dynamic', 'options')\n",
    ")\n",
    "def set_dynamic_artist_value(options):\n",
    "    # output = [option for option in options]\n",
    "    # return output\n",
    "    # return options\n",
    "    return options[0]['value']"
   ]
  },
  {
   "cell_type": "code",
   "execution_count": null,
   "id": "90bdda00-c710-40ab-a300-6e635a5afb08",
   "metadata": {},
   "outputs": [],
   "source": [
    "app.run()"
   ]
  },
  {
   "cell_type": "markdown",
   "id": "c52280f7-67be-4de9-a5ef-19553e3e02c3",
   "metadata": {},
   "source": [
    "### ========== test =========="
   ]
  },
  {
   "cell_type": "code",
   "execution_count": null,
   "id": "1acd85d0-1cce-4aa2-82d0-a505248477a9",
   "metadata": {
    "scrolled": true
   },
   "outputs": [],
   "source": [
    "counts_df[counts_df['Artist'].isin(['A Tribe Called Quest', 'MF DOOM'])]"
   ]
  }
 ],
 "metadata": {
  "kernelspec": {
   "display_name": "data_venv",
   "language": "python",
   "name": "data_venv"
  },
  "language_info": {
   "codemirror_mode": {
    "name": "ipython",
    "version": 3
   },
   "file_extension": ".py",
   "mimetype": "text/x-python",
   "name": "python",
   "nbconvert_exporter": "python",
   "pygments_lexer": "ipython3",
   "version": "3.10.9"
  }
 },
 "nbformat": 4,
 "nbformat_minor": 5
}
