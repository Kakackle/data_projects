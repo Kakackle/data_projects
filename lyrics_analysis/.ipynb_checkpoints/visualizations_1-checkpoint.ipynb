{
 "cells": [
  {
   "cell_type": "markdown",
   "id": "70f211cc-cdad-48d3-b365-202840fa567a",
   "metadata": {},
   "source": [
    "# Visualizations with dash\n",
    "\n",
    "### Dynamic multi-input etc\n",
    "* https://dash.plotly.com/advanced-callbacks\n",
    "* https://community.plotly.com/t/updating-a-dropdown-menus-contents-dynamically/4920/4\n",
    "* https://dash-example-index.herokuapp.com/?code=dcc.Dropdown\n",
    "* https://dash.plotly.com/dash-core-components/dropdown\n",
    "* https://dash-bootstrap-components.opensource.faculty.ai/examples/iris/"
   ]
  },
  {
   "cell_type": "markdown",
   "id": "9c89121c-1ef8-4e61-87ab-50e2d9134f69",
   "metadata": {},
   "source": [
    "## Imports"
   ]
  },
  {
   "cell_type": "code",
   "execution_count": null,
   "id": "b68704a1-4469-4a2a-8e03-aa2104e9e3f0",
   "metadata": {},
   "outputs": [],
   "source": [
    "from dash import Dash, html, dcc, callback, Output, Input\n",
    "import dash_bootstrap_components as dbc\n",
    "import plotly.express as px\n",
    "import pandas as pd\n",
    "\n",
    "from wordcloud import WordCloud\n",
    "from plotly.subplots import make_subplots\n",
    "import plotly.graph_objects as graph_objects"
   ]
  },
  {
   "cell_type": "markdown",
   "id": "1f3bcc3d-19f5-4e16-afe8-de3697e6f819",
   "metadata": {},
   "source": [
    "## Dataframes etc"
   ]
  },
  {
   "cell_type": "markdown",
   "id": "a7a89b38-741f-42df-ba93-9bd188581ed0",
   "metadata": {},
   "source": [
    "### counts_df contains topic counts, topic percentages, POS counts,  emotions, sentiment, and data like producer count, artist metadata etc"
   ]
  },
  {
   "cell_type": "code",
   "execution_count": null,
   "id": "9ba6a485-d940-4060-838c-3f17b5a72777",
   "metadata": {},
   "outputs": [],
   "source": [
    "counts_df = pd.read_csv('dataframes/with_counts/combined_count.csv', index_col=0)"
   ]
  },
  {
   "cell_type": "code",
   "execution_count": null,
   "id": "ad3a1987-dd9e-47f8-9744-ebedc331d073",
   "metadata": {
    "scrolled": true
   },
   "outputs": [],
   "source": [
    "counts_df.head()"
   ]
  },
  {
   "cell_type": "code",
   "execution_count": null,
   "id": "f21dab65-3b1c-42a6-87c2-8c54cefbfbb8",
   "metadata": {
    "scrolled": true
   },
   "outputs": [],
   "source": [
    "list(counts_df.columns)"
   ]
  },
  {
   "cell_type": "markdown",
   "id": "9f6213d4-fa82-40f3-bfc9-3ef0d50c31f1",
   "metadata": {},
   "source": [
    "#### extra counts_df setup"
   ]
  },
  {
   "cell_type": "code",
   "execution_count": null,
   "id": "fa36014d-b546-4d6f-a97c-624ed8261bbe",
   "metadata": {},
   "outputs": [],
   "source": [
    "artists = list(counts_df.Artist.unique())"
   ]
  },
  {
   "cell_type": "code",
   "execution_count": null,
   "id": "fe31766a-bb79-47af-8ff3-45dec972b486",
   "metadata": {},
   "outputs": [],
   "source": [
    "topics = [\n",
    " 'manual_love_count',\n",
    " 'manual_money_count',\n",
    " 'manual_violence_count',\n",
    " 'manual_drugs_count',\n",
    " 'manual_gendered_count',\n",
    " 'manual_sadness_count',\n",
    " 'manual_joy_count',\n",
    " 'manual_yes_count',\n",
    " 'manual_no_count'\n",
    "]"
   ]
  },
  {
   "cell_type": "markdown",
   "id": "9c2b9361-370a-441a-8c16-7643682c09e9",
   "metadata": {},
   "source": [
    "### top_20_filtered_words_genre/artist_df - contain top 20 most popular words for each artist / genre with extra filtered words removed:\n",
    "the extra filtered words are: ['dont', 'im', 'know', 'yeah']"
   ]
  },
  {
   "cell_type": "code",
   "execution_count": null,
   "id": "d3f7c918-32df-47b9-9aca-9a012a45f829",
   "metadata": {},
   "outputs": [],
   "source": [
    "top_20_filtered_words_genre_df = pd.read_csv('dataframes/top_20_filtered_words_by_genre.csv')\n",
    "top_20_filtered_words_artist_df = pd.read_csv('dataframes/top_20_filtered_words_by_artist.csv')"
   ]
  },
  {
   "cell_type": "markdown",
   "id": "98e73fdb-4ca3-4f7a-8ded-92a178c757a5",
   "metadata": {},
   "source": [
    "### ngram dfs - top 20 ngrams and their frequencies for 3 ngram lenghts (2,3,4)"
   ]
  },
  {
   "cell_type": "code",
   "execution_count": null,
   "id": "1cd46acd-8981-4772-9ede-3e86aff3a99c",
   "metadata": {},
   "outputs": [],
   "source": [
    "artist_ngrams_df = pd.read_csv('dataframes/artist_ngrams.csv', index_col=0)\n",
    "genre_ngrams_df = pd.read_csv('dataframes/genre_ngrams.csv', index_col=0)"
   ]
  },
  {
   "cell_type": "markdown",
   "id": "8001d753-fdb3-41ad-a44a-775f3cc47e76",
   "metadata": {},
   "source": [
    "### genre groupby stats dfs"
   ]
  },
  {
   "cell_type": "code",
   "execution_count": null,
   "id": "f61b0592-bc65-4276-b736-a3e43684cfe0",
   "metadata": {},
   "outputs": [],
   "source": [
    "genre_mean_df = pd.read_csv('dataframes/group_stats/genre_mean_df.csv', index_col = 0)\n",
    "genre_sum_df = pd.read_csv('dataframes/group_stats/genre_sum_df.csv', index_col = 0)"
   ]
  },
  {
   "cell_type": "markdown",
   "id": "55f7457e-2caf-4e3e-a8fc-fbae0c81e9c9",
   "metadata": {},
   "source": [
    "### artist groupby stats dfs"
   ]
  },
  {
   "cell_type": "code",
   "execution_count": null,
   "id": "296d2fe2-9e81-4812-b413-fe106299cf49",
   "metadata": {
    "editable": true,
    "slideshow": {
     "slide_type": ""
    },
    "tags": []
   },
   "outputs": [],
   "source": [
    "artist_mean_df = pd.read_csv('dataframes/group_stats/mean/combined_artists.csv', index_col = 0)\n",
    "artist_sum_df = pd.read_csv('dataframes/group_stats/sum/combined_artists.csv', index_col = 0)"
   ]
  },
  {
   "cell_type": "markdown",
   "id": "4d520733-0825-427e-a1f3-7b52799df0ce",
   "metadata": {},
   "source": [
    "## App"
   ]
  },
  {
   "cell_type": "code",
   "execution_count": null,
   "id": "b3b843ec-565a-405b-93c4-425e8c4ec212",
   "metadata": {},
   "outputs": [],
   "source": [
    "app = Dash(external_stylesheets=[dbc.themes.BOOTSTRAP])"
   ]
  },
  {
   "cell_type": "markdown",
   "id": "8be385bd-4aa5-4290-a0d0-04fe4b39453f",
   "metadata": {},
   "source": [
    "## App graphs"
   ]
  },
  {
   "cell_type": "markdown",
   "id": "42bfc62c-5af9-4a38-bad7-d0d225147f88",
   "metadata": {},
   "source": [
    "### Topic counts from selected artists by year GRAPH\n",
    "#### [Topic counts from selected artists by year] controls"
   ]
  },
  {
   "cell_type": "code",
   "execution_count": null,
   "id": "f715b0d9-4f30-4619-aca1-0815004785b7",
   "metadata": {},
   "outputs": [],
   "source": [
    "topic_controls = dbc.Card(\n",
    "    [\n",
    "        html.Div(\n",
    "            [\n",
    "            dbc.Label(\"Genre\"),\n",
    "            dcc.Dropdown(\n",
    "                id='topic-genre-selection',\n",
    "                value = 'soul',\n",
    "                options = list(counts_df.genre.unique()),\n",
    "                multi = True\n",
    "            )\n",
    "            ]),\n",
    "        html.Div(\n",
    "            [\n",
    "            dbc.Label(\"Artist\"),\n",
    "            # dcc.Dropdown(df.Artist.unique(), 'Al Green', id='topic-artist-selection')\n",
    "            dcc.Dropdown(\n",
    "                id='topic-artist-selection-dynamic',\n",
    "                value='Al Green',\n",
    "                multi = True\n",
    "            )\n",
    "            ]),\n",
    "        html.Div(\n",
    "            [\n",
    "            dbc.Label(\"Manual word topic\"),\n",
    "            dcc.Dropdown(topics, 'manual_love_count', id='topic-selection')\n",
    "            ]),\n",
    "        # html.Div(\n",
    "        #     [\n",
    "        #     dbc.Label(\"Year\"),\n",
    "        #     dcc.Dropdown(id='year-selection-dynamic')\n",
    "        #     ])\n",
    "    ],\n",
    "    body=True,\n",
    ")"
   ]
  },
  {
   "cell_type": "markdown",
   "id": "53999c60-d38e-48d6-a5ba-e5581b23833e",
   "metadata": {},
   "source": [
    "#### [Topic counts from selected artists by year] layout"
   ]
  },
  {
   "cell_type": "code",
   "execution_count": null,
   "id": "b2afa75b-9fc7-4210-a9e3-3bc1ac6a3b0d",
   "metadata": {},
   "outputs": [],
   "source": [
    "topic_container = dbc.Container([\n",
    "    html.H1(children = 'Genre and Artist manual topic counts by year', style={'textAlign': 'center'}),\n",
    "    # html.P(children=\"multi artist select result:\"),\n",
    "    html.P(id=\"multi-artist-dynamic-test\"),\n",
    "    # html.P(children=\"resultant df shape:\"),\n",
    "    html.P(id=\"topic-df-shape\"),\n",
    "    dbc.Row(\n",
    "        [\n",
    "            dbc.Col(topic_controls, md=4),\n",
    "            dbc.Col(dcc.Graph(id='topic-graph-content'), md=8),\n",
    "        ],\n",
    "        align=\"center\",\n",
    "    ),\n",
    "    # dbc.DropdownMenu(label=\"Artist\", id=\"artist-selection\", children=items),\n",
    "    # dbc.Select(id=\"artist-selection\", options=items),\n",
    "\n",
    "], fluid=True)"
   ]
  },
  {
   "cell_type": "markdown",
   "id": "f8bbc667-98c1-4489-95de-713d7b13424f",
   "metadata": {},
   "source": [
    "#### [Topic counts from selected artists by year] controls callbacks"
   ]
  },
  {
   "cell_type": "code",
   "execution_count": null,
   "id": "b24a2ee1-d8af-4c33-acfc-6e1999c7aa36",
   "metadata": {},
   "outputs": [],
   "source": [
    "# ========= topic graph by year with genre, artist, topic selection ===========\n",
    "@app.callback(\n",
    "    [\n",
    "        Output('topic-graph-content', 'figure'),\n",
    "        Output('topic-df-shape', 'children'),\n",
    "        Output('multi-artist-dynamic-test', 'children')\n",
    "    ],\n",
    "    [\n",
    "        Input('topic-genre-selection', 'value'),\n",
    "        Input('topic-artist-selection-dynamic', 'value'),\n",
    "        Input('topic-selection', 'value'),\n",
    "    ]\n",
    ")\n",
    "def update_topic_graph(genres, artists, topic):\n",
    "    genre_df = counts_df[counts_df['genre'].isin(genres)]\n",
    "    # in case there is only one artist selected\n",
    "    artists_list = [artist for artist in artists]\n",
    "    artists_df = genre_df[genre_df['Artist'].isin(artists_list)]\n",
    "    # dff = df[df.Artist == artist]\n",
    "    fig = px.bar(artists_df, x='Year', y=topic, color='genre',\n",
    "                hover_data = ['Artist'])\n",
    "    df_shape = artists_df.shape\n",
    "    \n",
    "    return fig, f'df shape: {df_shape}', f'artists list: {artists}'\n",
    "    # return fig\n",
    "\n",
    "# ========= set available artist options based on chosen genre =========\n",
    "@app.callback(\n",
    "    Output('topic-artist-selection-dynamic', 'options'),\n",
    "    Input('topic-genre-selection', 'value')\n",
    ")\n",
    "def set_dynamic_artist_options(genres):\n",
    "    options = dict()\n",
    "    for genre in genres:\n",
    "        genre_artists = list(counts_df[counts_df['genre'] == genre]['Artist'].unique())\n",
    "        for artist in genre_artists:\n",
    "            options[artist] = artist\n",
    "    return options\n",
    "\n",
    "# ======= choose from available dynamic options =========\n",
    "# has to be done manually due to dynamicity\n",
    "# also this is how to return multiple options\n",
    "# in case of one you'd have to take [0] of value from options\n",
    "@app.callback(\n",
    "    Output('topic-artist-selection-dynamic', 'value'),\n",
    "    Input('topic-artist-selection-dynamic', 'options')\n",
    ")\n",
    "def set_dynamic_artist_value(options):\n",
    "    # output = [option for option in options]\n",
    "    # return output\n",
    "    return options"
   ]
  },
  {
   "cell_type": "markdown",
   "id": "7748e728-9c82-43b1-922b-8e3a9c9a53ef",
   "metadata": {},
   "source": [
    "### Topic counts /percentages comparison by genre bars"
   ]
  },
  {
   "cell_type": "markdown",
   "id": "c83915d7-e9ab-40d2-aaf3-502e290321b3",
   "metadata": {},
   "source": [
    "#### controls"
   ]
  },
  {
   "cell_type": "code",
   "execution_count": null,
   "id": "f4d4e495-3594-4fe3-9d37-9f4bf56b67b7",
   "metadata": {},
   "outputs": [],
   "source": [
    "bar_topic_controls = dbc.Card(\n",
    "    [\n",
    "        html.Div(\n",
    "            [\n",
    "            dbc.Label(\"Manual word topic\"),\n",
    "            dcc.Dropdown(options = topics,\n",
    "                        value = ['manual_love_count',],\n",
    "                        id='bar-topic-selection',\n",
    "                        multi=True)\n",
    "            ]),\n",
    "    ],\n",
    "    body=True,\n",
    ")"
   ]
  },
  {
   "cell_type": "markdown",
   "id": "1a49b9b3-5a69-4fb6-b7cb-4a1abcc3d35c",
   "metadata": {},
   "source": [
    "#### layout"
   ]
  },
  {
   "cell_type": "code",
   "execution_count": null,
   "id": "42acacc4-027f-4ef4-9236-f6c52410862f",
   "metadata": {
    "editable": true,
    "slideshow": {
     "slide_type": ""
    },
    "tags": []
   },
   "outputs": [],
   "source": [
    "bar_topic_container = dbc.Container([\n",
    "    html.H1(children = 'Genre topic bars comparison', style={'textAlign': 'center'}),\n",
    "    html.P(id=\"bar-topic-df-shape\"),\n",
    "    dbc.Row(\n",
    "        [\n",
    "            dbc.Col(bar_topic_controls, md=4),\n",
    "            dbc.Col(dcc.Graph(id='bar-topic-graph-content'), md=8),\n",
    "        ],\n",
    "        align=\"center\",\n",
    "    ),\n",
    "], fluid=True)"
   ]
  },
  {
   "cell_type": "markdown",
   "id": "8f8b832a-f991-4e41-b165-e1d70e539d21",
   "metadata": {},
   "source": [
    "#### callbacks"
   ]
  },
  {
   "cell_type": "code",
   "execution_count": null,
   "id": "dc06e77f-5f7e-4f07-9a38-9edeb873d426",
   "metadata": {
    "editable": true,
    "slideshow": {
     "slide_type": ""
    },
    "tags": []
   },
   "outputs": [],
   "source": [
    "# ========= topic graph by year with genre, artist, topic selection ===========\n",
    "@app.callback(\n",
    "    [\n",
    "        Output('bar-topic-graph-content', 'figure'),\n",
    "        Output('bar-topic-df-shape', 'children')\n",
    "    ],\n",
    "    [\n",
    "        Input('bar-topic-selection', 'value'),\n",
    "    ]\n",
    ")\n",
    "def update_bar_topic_graph(topics):\n",
    "    bar_fig = graph_objects.Figure()\n",
    "    # in case there is only one selected topic - turn input into a list:\n",
    "    topics_list = [topic for topic in topics]\n",
    "    for topic in topics_list:\n",
    "        bar_fig.add_trace(graph_objects.Bar(y=genre_sum_df[topic].values, x=genre_sum_df.index, name=topic))\n",
    "    \n",
    "    return bar_fig, f'topics: {topics} topics_list: {topics_list}'\n",
    "    # return fig\n"
   ]
  },
  {
   "cell_type": "code",
   "execution_count": null,
   "id": "fc4f6c32-798a-4d64-afd0-c20621c39f54",
   "metadata": {},
   "outputs": [],
   "source": [
    "# side_fig = graph_objects.Figure()\n",
    "# side_fig.add_trace(graph_objects.Bar(y=loaded_sum_df['love'].values, x=loaded_sum_df.index, name='love'))\n",
    "# side_fig.add_trace(graph_objects.Bar(y=loaded_sum_df['money'].values, x=loaded_sum_df.index, name='money'))\n",
    "# side_fig.add_trace(graph_objects.Bar(y=loaded_sum_df['violence'].values, x=loaded_sum_df.index, name='violence'))\n",
    "# side_fig.add_trace(graph_objects.Bar(y=loaded_sum_df['drugs'].values, x=loaded_sum_df.index, name='drugs'))\n",
    "# side_fig.show()"
   ]
  },
  {
   "cell_type": "markdown",
   "id": "65d0de76-58d4-4114-b5e0-c5a9c4665f31",
   "metadata": {},
   "source": [
    "### Topic counts /percentages comparison by artist bars (within genre)"
   ]
  },
  {
   "cell_type": "markdown",
   "id": "757ce8be-2c36-4855-b63a-139d987efc1b",
   "metadata": {},
   "source": [
    "#### controls"
   ]
  },
  {
   "cell_type": "code",
   "execution_count": null,
   "id": "f6c6a07f-86fc-4ede-8ae7-4ae68a4330ae",
   "metadata": {
    "editable": true,
    "slideshow": {
     "slide_type": ""
    },
    "tags": []
   },
   "outputs": [],
   "source": [
    "genres = artist_sum_df['genre'].unique()"
   ]
  },
  {
   "cell_type": "code",
   "execution_count": null,
   "id": "2527d714-48ac-41fa-99d9-0e1c81e8976e",
   "metadata": {},
   "outputs": [],
   "source": [
    "artist_bar_topic_controls = dbc.Card(\n",
    "    [\n",
    "        html.Div(\n",
    "            [\n",
    "            dbc.Label(\"Manual word topic\"),\n",
    "            dcc.Dropdown(options = topics,\n",
    "                        value = ['manual_love_count',],\n",
    "                        id='artist-bar-topic-selection',\n",
    "                        multi=True)\n",
    "            ]),\n",
    "        html.Div(\n",
    "            [\n",
    "            dbc.Label(\"Genre\"),\n",
    "            dcc.Dropdown(options = list(genres),\n",
    "                        value = ['pop',],\n",
    "                        id='artist-bar-genre-selection')\n",
    "            ]),\n",
    "    ],\n",
    "    body=True,\n",
    ")"
   ]
  },
  {
   "cell_type": "code",
   "execution_count": null,
   "id": "dbb83b20-f8ba-4d0b-ac5c-17b309059d92",
   "metadata": {},
   "outputs": [],
   "source": [
    "artist_bar_topic_container = dbc.Container([\n",
    "    html.H1(children = 'Within genre artists topic bars comparison', style={'textAlign': 'center'}),\n",
    "    html.P(id=\"artist-bar-topic-df-shape\"),\n",
    "    dbc.Row(\n",
    "        [\n",
    "            dbc.Col(artist_bar_topic_controls, md=4),\n",
    "            dbc.Col(dcc.Graph(id='artist-bar-topic-graph-content'), md=8),\n",
    "        ],\n",
    "        align=\"center\",\n",
    "    ),\n",
    "], fluid=True)"
   ]
  },
  {
   "cell_type": "code",
   "execution_count": null,
   "id": "3bcc26e1-42a1-4b18-b2f8-b08957f11ecf",
   "metadata": {},
   "outputs": [],
   "source": [
    "# ========= topic graph by year with genre, artist, topic selection ===========\n",
    "@app.callback(\n",
    "    [\n",
    "        Output('artist-bar-topic-graph-content', 'figure'),\n",
    "        Output('artist-bar-topic-df-shape', 'children')\n",
    "    ],\n",
    "    [\n",
    "        Input('artist-bar-topic-selection', 'value'),\n",
    "        Input('artist-bar-genre-selection', 'value'),\n",
    "    ]\n",
    ")\n",
    "def update_artist_bar_topic_graph(topics, genre):\n",
    "    bar_fig = graph_objects.Figure()\n",
    "    genre_df = artist_sum_df[artist_sum_df['genre'] == genre]\n",
    "    genre_artists = list(genre_df['Artist'].unique())\n",
    "    # in case there is only one selected topic - turn input into a list:\n",
    "    topics_list = [topic for topic in topics]\n",
    "    for topic in topics_list:\n",
    "        bar_fig.add_trace(graph_objects.Bar(y=genre_df[topic].values, x=genre_artists, name=topic))\n",
    "    \n",
    "    return bar_fig, f'topics: {topics} topics_list: {topics_list}'\n",
    "    # return fig"
   ]
  },
  {
   "cell_type": "markdown",
   "id": "0e05c082-15f6-4997-8a53-31dd7214d687",
   "metadata": {},
   "source": [
    "### scatter for artist / genre where x = one topic, y = second topic\n",
    "- colored by genre\r",
    " - colored by gender"
   ]
  },
  {
   "cell_type": "code",
   "execution_count": null,
   "id": "dca80539-bbdc-416f-8aa5-0aa64e1d4b1f",
   "metadata": {},
   "outputs": [],
   "source": [
    "topic_scatter_controls = dbc.Card(\n",
    "    [\n",
    "        html.Div(\n",
    "            [\n",
    "            dbc.Label(\"Manual word topic (Y)\"),\n",
    "            dcc.Dropdown(options = topics,\n",
    "                        value = 'manual_joy_count',\n",
    "                        id='scatter-topic-Y-selection')\n",
    "            ]),\n",
    "        html.Div(\n",
    "            [\n",
    "            dbc.Label(\"Manual word topic (X)\"),\n",
    "            dcc.Dropdown(options = topics,\n",
    "                        value = 'manual_sadness_count',\n",
    "                        id='scatter-topic-X-selection')\n",
    "            ]),\n",
    "        # html.Div(\n",
    "        #     [\n",
    "        #     dbc.Label(\"Artist\"),\n",
    "        #     dcc.Dropdown(options = artists,\n",
    "        #                 value = ['Al Green',],\n",
    "        #                 id='topic-scatter-artist-selection',\n",
    "        #                 multi=True)\n",
    "        #     ]),\n",
    "        html.Div(\n",
    "            [\n",
    "            dbc.Label(\"color by\"),\n",
    "            dcc.Dropdown(options = ['genre', 'gender'],\n",
    "                        value = 'genre',\n",
    "                        id='topic-scatter-color-selection')\n",
    "            ]),\n",
    "    ],\n",
    "    body=True,\n",
    ")"
   ]
  },
  {
   "cell_type": "code",
   "execution_count": null,
   "id": "7028b522-ac14-4a51-aab4-37b141fb8555",
   "metadata": {},
   "outputs": [],
   "source": [
    "topic_scatter_container = dbc.Container([\n",
    "    html.H1(children = 'scatter for all artists where x = one topic, y = second topic', style={'textAlign': 'center'}),\n",
    "    html.P(id=\"topic-scatter-df-shape\"),\n",
    "    dbc.Row(\n",
    "        [\n",
    "            dbc.Col(topic_scatter_controls, md=4),\n",
    "            dbc.Col(dcc.Graph(id='topic-scatter-graph-content'), md=8),\n",
    "        ],\n",
    "        align=\"center\",\n",
    "    ),\n",
    "], fluid=True)"
   ]
  },
  {
   "cell_type": "code",
   "execution_count": null,
   "id": "b6454c27-0f45-412a-99db-ce22e81f5ac8",
   "metadata": {},
   "outputs": [],
   "source": [
    "# ========= topic graph by year with genre, artist, topic selection ===========\n",
    "@app.callback(\n",
    "    [\n",
    "        Output('topic-scatter-graph-content', 'figure'),\n",
    "        Output('topic-scatter-df-shape', 'children')\n",
    "    ],\n",
    "    [\n",
    "        Input('scatter-topic-Y-selection', 'value'),\n",
    "        Input('scatter-topic-X-selection', 'value'),\n",
    "        Input('topic-scatter-color-selection', 'value'),\n",
    "    ]\n",
    ")\n",
    "def update_artist_bar_topic_graph(topic_X, topic_Y, colorby):\n",
    "    # artist_sum_df\n",
    "    # df_shape = artist_sum_df.shape\n",
    "    # scatter_fig = graph_objects.Figure()\n",
    "    scatter_fig = px.scatter(artist_sum_df, x=topic_X, y=topic_Y, color=colorby)\n",
    "    return scatter_fig, f'topic_X: {topic_X}, topic_Y: {topic_Y}, colorby: {colorby}'"
   ]
  },
  {
   "cell_type": "markdown",
   "id": "311e1971-82b6-46f3-a0ba-7fe4567cb7f4",
   "metadata": {},
   "source": [
    "### static genre wordclouds graph creation\n",
    "#### layout"
   ]
  },
  {
   "cell_type": "markdown",
   "id": "57560616-d9b5-4f51-bad8-e83c31b9f4b2",
   "metadata": {},
   "source": [
    "create the non-dynamic wordclouds"
   ]
  },
  {
   "cell_type": "code",
   "execution_count": null,
   "id": "973865d1-53d5-45a4-98a0-c69ef4b83b8f",
   "metadata": {},
   "outputs": [],
   "source": [
    "# setup\n",
    "top_20_filtered_words_genre_df.rename(columns={'Unnamed: 0' : 'genre'}, inplace=True)\n",
    "genres = top_20_filtered_words_genre_df['genre'].unique()\n",
    "\n",
    "# column access names\n",
    "count_cols = []\n",
    "word_cols = []\n",
    "n = 20\n",
    "for ind in range(n):\n",
    "    word_cols.append(f'word{ind}')\n",
    "    count_cols.append(f'word{ind}_count')"
   ]
  },
  {
   "cell_type": "code",
   "execution_count": null,
   "id": "cb955665-d5e7-486f-9d42-aeff1433e1a8",
   "metadata": {},
   "outputs": [],
   "source": [
    "genre_wordclouds = []\n",
    "genre_bars = []\n",
    "\n",
    "for genre in genres:\n",
    "    genre_df = top_20_filtered_words_genre_df[top_20_filtered_words_genre_df['genre'] == genre]\n",
    "    genre_words = [genre_df[word].values[0] for word in word_cols]\n",
    "    genre_counts = [genre_df[count].values[0] for count in count_cols]\n",
    "\n",
    "    genre_item = {\n",
    "        'genre': genre,\n",
    "        'words': genre_words,\n",
    "        'counts': genre_counts\n",
    "    }\n",
    "\n",
    "    genre_bars.append(genre_item)\n",
    "    \n",
    "    d = {}\n",
    "    for word, count in zip(genre_words, genre_counts):\n",
    "        d[word] = count\n",
    "\n",
    "    wordcloud = WordCloud(background_color = \"white\", width=800, height=400)\n",
    "    wordcloud.generate_from_frequencies(frequencies=d)\n",
    "    genre_wordclouds.append(wordcloud)"
   ]
  },
  {
   "cell_type": "code",
   "execution_count": null,
   "id": "5a956993-eb61-44c2-b96e-515a3a289100",
   "metadata": {},
   "outputs": [],
   "source": [
    "genre_titles = ['pop', 'pop', 'rock', 'rock', 'rap', 'rap', 'soul', 'soul']"
   ]
  },
  {
   "cell_type": "code",
   "execution_count": null,
   "id": "a2a0dbb1-2680-481b-8dae-34ba673f7398",
   "metadata": {
    "scrolled": true
   },
   "outputs": [],
   "source": [
    "genre_wordclouds_fig = make_subplots(rows=4, cols=2, subplot_titles = genre_titles)\n",
    "\n",
    "for i, genre in enumerate(genres):\n",
    "    genre_wordclouds_fig.add_trace(graph_objects.Image(z=genre_wordclouds[i]), row = i+1, col = 1)\n",
    "    genre_wordclouds_fig.add_trace(graph_objects.Bar(x=genre_bars[i]['words'], y=genre_bars[i]['counts'], showlegend = False), row=i+1, col=2,)\n",
    "genre_wordclouds_fig.update_layout(height = 4 * 400)"
   ]
  },
  {
   "cell_type": "markdown",
   "id": "af683122-fffe-4c5c-b1f9-667c9485e029",
   "metadata": {},
   "source": [
    "#### [static genre wordclouds] layout container"
   ]
  },
  {
   "cell_type": "code",
   "execution_count": null,
   "id": "cd6eeea7-865e-4219-b83a-0bbaccd6b1a5",
   "metadata": {},
   "outputs": [],
   "source": [
    "genre_wordcloud_container = dbc.Container([\n",
    "    html.H1(children = 'Top 20 (filtered) words by genre wordclouds', style={'textAlign': 'center'}),\n",
    "    dcc.Graph(id='genre-wordcloud-graph-content',\n",
    "             figure = genre_wordclouds_fig)\n",
    "], fluid=True)"
   ]
  },
  {
   "cell_type": "markdown",
   "id": "d6a1a919-9bb2-4785-abb0-ed1f55ccffad",
   "metadata": {},
   "source": [
    "### Dynamic Artist wordcloud graphs"
   ]
  },
  {
   "cell_type": "markdown",
   "id": "61e763b1-7da5-4bce-8b5f-7cc6257d697c",
   "metadata": {},
   "source": [
    "#### [Dynamic Artist wordcloud graphs] controls"
   ]
  },
  {
   "cell_type": "code",
   "execution_count": null,
   "id": "c2375d1f-8318-4dfb-ba6f-c52489d58be3",
   "metadata": {},
   "outputs": [],
   "source": [
    "artist_wordcloud_controls = dbc.Card(\n",
    "    [\n",
    "        html.Div(\n",
    "            [\n",
    "            dbc.Label(\"Genre\"),\n",
    "            dcc.Dropdown(\n",
    "                id='wordcloud-genre-selection',\n",
    "                value = 'soul',\n",
    "                options = list(top_20_filtered_words_artist_df.genre.unique())\n",
    "            )\n",
    "            ]),\n",
    "        html.Div(\n",
    "            [\n",
    "            dbc.Label(\"Artist\"),\n",
    "            # dcc.Dropdown(df.Artist.unique(), 'Al Green', id='topic-artist-selection')\n",
    "            dcc.Dropdown(\n",
    "                id='wordcloud-artist-selection-dynamic',\n",
    "                value='Al Green'\n",
    "            )\n",
    "            ]),\n",
    "    ],\n",
    "    body=True,\n",
    ")"
   ]
  },
  {
   "cell_type": "markdown",
   "id": "ae07e3ed-3b27-4361-ad4f-08b2c6027b3f",
   "metadata": {},
   "source": [
    "#### [Dynamic Artist wordcloud graphs] layout"
   ]
  },
  {
   "cell_type": "code",
   "execution_count": null,
   "id": "b4aebb6f-5974-41e8-9057-5fa168d35b02",
   "metadata": {},
   "outputs": [],
   "source": [
    "artist_wordcloud_container = dbc.Container([\n",
    "    html.H1(children = 'Genre and Artist top words wordcloud dynamic', style={'textAlign': 'center'}),\n",
    "    html.P(id='wordcloud-df-shape'),\n",
    "    dbc.Row(\n",
    "        [\n",
    "            dbc.Col(artist_wordcloud_controls, md=4),\n",
    "            dbc.Col(dcc.Graph(id='artist-wordcloud-graph-content'), md=8),\n",
    "        ],\n",
    "        align=\"center\",\n",
    "    ),\n",
    "    # dbc.DropdownMenu(label=\"Artist\", id=\"artist-selection\", children=items),\n",
    "    # dbc.Select(id=\"artist-selection\", options=items),\n",
    "\n",
    "], fluid=True)"
   ]
  },
  {
   "cell_type": "markdown",
   "id": "aea45ad1-6bbd-4a21-af67-389ce05ed133",
   "metadata": {},
   "source": [
    "#### [Dynamic Artist wordcloud graphs] controls callbacks"
   ]
  },
  {
   "cell_type": "code",
   "execution_count": null,
   "id": "358ef95a-7195-4da2-8d35-4f896866bff2",
   "metadata": {},
   "outputs": [],
   "source": [
    "# ========= artist wordcloud ===========\n",
    "@app.callback(\n",
    "    [\n",
    "        Output('artist-wordcloud-graph-content', 'figure'),\n",
    "        Output('wordcloud-df-shape', 'children')\n",
    "    ],\n",
    "    [\n",
    "        Input('wordcloud-genre-selection', 'value'),\n",
    "        Input('wordcloud-artist-selection-dynamic', 'value'),\n",
    "    ]\n",
    ")\n",
    "def update_artist_wordcloud_graph(genre, artist):\n",
    "    artist_df = top_20_filtered_words_artist_df[top_20_filtered_words_artist_df['Artist'] == artist]\n",
    "    # create wordcloud and bar graph\n",
    "    artist_words = [artist_df[word].values[0] for word in word_cols]\n",
    "    artist_counts = [artist_df[count].values[0] for count in count_cols]\n",
    "\n",
    "    d = {}\n",
    "    for word, count in zip(artist_words, artist_counts):\n",
    "        d[word] = count\n",
    "\n",
    "    wordcloud = WordCloud(background_color = \"white\", width=800, height=400)\n",
    "    wordcloud.generate_from_frequencies(frequencies=d)\n",
    "\n",
    "    artist_fig = make_subplots(rows=1, cols=2, subplot_titles = [f'{artist} wordcloud', f'{artist} bar'])\n",
    "\n",
    "    artist_fig.add_trace(graph_objects.Image(z=wordcloud), row = 1, col = 1)\n",
    "    artist_fig.add_trace(graph_objects.Bar(x=artist_words, y=artist_counts, showlegend = False), row=1, col=2,)\n",
    "    artist_fig.update_layout(height = 1 * 400)\n",
    "    df_shape = artist_df.shape\n",
    "    return artist_fig, f'df shape: {df_shape}'\n",
    "\n",
    "# ========= set available artist options based on chosen genre =========\n",
    "@app.callback(\n",
    "    Output('wordcloud-artist-selection-dynamic', 'options'),\n",
    "    Input('wordcloud-genre-selection', 'value')\n",
    ")\n",
    "def set_dynamic_artist_options(genre):\n",
    "    # options = dict()\n",
    "    # for genre in genres:\n",
    "    genre_artists = list(top_20_filtered_words_artist_df[top_20_filtered_words_artist_df['genre'] == genre]['Artist'].unique())\n",
    "    # for artist in genre_artists:\n",
    "    #     options[artist] = artist\n",
    "    # return options\n",
    "    options = [{\"label\": artist, \"value\": artist} for artist in genre_artists]\n",
    "    return options\n",
    "\n",
    "# ======= choose from available dynamic options =========\n",
    "# has to be done manually due to dynamicity\n",
    "# also this is how to return multiple options\n",
    "# in case of one you'd have to take [0] of value from options\n",
    "@app.callback(\n",
    "    Output('wordcloud-artist-selection-dynamic', 'value'),\n",
    "    Input('wordcloud-artist-selection-dynamic', 'options')\n",
    ")\n",
    "def set_dynamic_artist_value(options):\n",
    "    # output = [option for option in options]\n",
    "    # return output\n",
    "    # return options\n",
    "    return options[0]['value']"
   ]
  },
  {
   "cell_type": "markdown",
   "id": "302976e8-08b0-4ff9-bf4c-060c70eae530",
   "metadata": {},
   "source": [
    "### Dynamic artist ngram graphs"
   ]
  },
  {
   "cell_type": "markdown",
   "id": "b9f6d4de-0421-4056-ae38-352eee4bc379",
   "metadata": {},
   "source": [
    "#### [Dynamic artist ngram graphs] controls"
   ]
  },
  {
   "cell_type": "code",
   "execution_count": null,
   "id": "136cb29b-58c4-4eb3-aaeb-e849488f71ad",
   "metadata": {},
   "outputs": [],
   "source": [
    "ngram_artist_wordcloud_controls = dbc.Card(\n",
    "    [\n",
    "        html.Div(\n",
    "            [\n",
    "            dbc.Label(\"Genre\"),\n",
    "            dcc.Dropdown(\n",
    "                id='ngram-wordcloud-genre-selection',\n",
    "                value = 'soul',\n",
    "                options = list(artist_ngrams_df.genre.unique())\n",
    "            )\n",
    "            ]),\n",
    "        html.Div(\n",
    "            [\n",
    "            dbc.Label(\"Artist\"),\n",
    "            dcc.Dropdown(\n",
    "                id='ngram-wordcloud-artist-selection-dynamic',\n",
    "                value='Al Green'\n",
    "            )\n",
    "            ]),\n",
    "    ],\n",
    "    body=True,\n",
    ")"
   ]
  },
  {
   "cell_type": "markdown",
   "id": "948250a9-0e79-4347-a8f2-7b8a25e949d6",
   "metadata": {},
   "source": [
    "#### [Dynamic artist ngram graphs] layout"
   ]
  },
  {
   "cell_type": "code",
   "execution_count": null,
   "id": "7b117134-d7e5-42a5-bb94-2e2af2b0f17d",
   "metadata": {},
   "outputs": [],
   "source": [
    "ngram_artist_wordcloud_container = dbc.Container([\n",
    "    html.H1(children = 'Genre and Artist top ngram wordclouds dynamic', style={'textAlign': 'center'}),\n",
    "    html.P(id='ngram-wordcloud-df-shape'),\n",
    "    dbc.Row(\n",
    "        [\n",
    "            dbc.Col(ngram_artist_wordcloud_controls, md=4),\n",
    "            dbc.Col(dcc.Graph(id='ngram-artist-wordcloud-graph-content'), md=8),\n",
    "        ],\n",
    "        align=\"center\",\n",
    "    ),\n",
    "], fluid=True)"
   ]
  },
  {
   "cell_type": "markdown",
   "id": "04fec9d8-e342-45f2-8373-3a456a21c502",
   "metadata": {},
   "source": [
    "#### [Dynamic artist ngram graphs] controls callbacks"
   ]
  },
  {
   "cell_type": "code",
   "execution_count": null,
   "id": "62bc0f5d-5163-429f-b7ac-0d82cd488d04",
   "metadata": {},
   "outputs": [],
   "source": [
    "# ========= artist wordcloud ===========\n",
    "@app.callback(\n",
    "    [\n",
    "        Output('ngram-artist-wordcloud-graph-content', 'figure'),\n",
    "        Output('ngram-wordcloud-df-shape', 'children')\n",
    "    ],\n",
    "    [\n",
    "        Input('ngram-wordcloud-genre-selection', 'value'),\n",
    "        Input('ngram-wordcloud-artist-selection-dynamic', 'value'),\n",
    "    ]\n",
    ")\n",
    "def update_ngram_artist_wordcloud_graph(genre, artist):\n",
    "    artist_df = artist_ngrams_df[artist_ngrams_df['Artist'] == artist]\n",
    "    # create wordclouds for all ngram lens\n",
    "\n",
    "    ngram_lens = [2,3,4]\n",
    "    ngrams_n = 20\n",
    "    n = len(ngram_lens) * ngrams_n\n",
    "\n",
    "    gram_wordclouds_fig = make_subplots(rows=3, cols=2, subplot_titles = ngram_lens)\n",
    "\n",
    "    for len_index, gram_len in enumerate(ngram_lens):\n",
    "        gram_count_cols = []\n",
    "        gram_cols = []\n",
    "        for ind in range(ngrams_n):\n",
    "            gram_cols.append(f'ngram_{gram_len}_{ind}')\n",
    "            gram_count_cols.append(f'count_{gram_len}_{ind}')\n",
    "            \n",
    "        gram_words = [artist_df[word].values[0] for word in gram_cols]\n",
    "        gram_counts = [artist_df[count].values[0] for count in gram_count_cols]\n",
    "            \n",
    "        d = {}\n",
    "        for word, count in zip(gram_words, gram_counts):\n",
    "            d[word] = count\n",
    "            \n",
    "        wordcloud = WordCloud(background_color = \"white\", width=800, height=400)\n",
    "        wordcloud.generate_from_frequencies(frequencies=d)\n",
    "        \n",
    "        gram_wordclouds_fig.add_trace(graph_objects.Image(z=wordcloud), row=len_index+1, col=1)\n",
    "        gram_wordclouds_fig.add_trace(graph_objects.Bar(x=gram_words, y=gram_counts, showlegend = False), row=len_index+1, col=2)\n",
    "        \n",
    "    gram_wordclouds_fig.update_layout(height = 3*400)\n",
    "    # gram_wordclouds_fig.show()\n",
    "    df_shape = artist_df.shape\n",
    "    \n",
    "    return gram_wordclouds_fig, f'df shape: {df_shape}'\n",
    "\n",
    "# ========= set available artist options based on chosen genre =========\n",
    "@app.callback(\n",
    "    Output('ngram-wordcloud-artist-selection-dynamic', 'options'),\n",
    "    Input('ngram-wordcloud-genre-selection', 'value')\n",
    ")\n",
    "def set_ngram_dynamic_artist_options(genre):\n",
    "    genre_artists = list(artist_ngrams_df[artist_ngrams_df['genre'] == genre]['Artist'].unique())\n",
    "    options = [{\"label\": artist, \"value\": artist} for artist in genre_artists]\n",
    "    return options\n",
    "\n",
    "# ======= choose from available dynamic options =========\n",
    "@app.callback(\n",
    "    Output('ngram-wordcloud-artist-selection-dynamic', 'value'),\n",
    "    Input('ngram-wordcloud-artist-selection-dynamic', 'options')\n",
    ")\n",
    "def set_ngram_dynamic_artist_value(options):\n",
    "    return options[0]['value']"
   ]
  },
  {
   "cell_type": "markdown",
   "id": "a92db6a3-955f-42aa-9d0c-aabf06d23b9a",
   "metadata": {
    "editable": true,
    "slideshow": {
     "slide_type": ""
    },
    "tags": []
   },
   "source": [
    "## Whole App layout"
   ]
  },
  {
   "cell_type": "code",
   "execution_count": null,
   "id": "ff74e7b9-8723-4a11-958b-fd376318e133",
   "metadata": {},
   "outputs": [],
   "source": [
    "app.layout = dbc.Container([\n",
    "    topic_container,\n",
    "    html.Hr(),\n",
    "    bar_topic_container,\n",
    "    html.Hr(),\n",
    "    # genre_wordcloud_container,\n",
    "    # html.Hr(),\n",
    "    artist_wordcloud_container,\n",
    "    html.Hr(),\n",
    "    ngram_artist_wordcloud_container,\n",
    "    html.Hr(),\n",
    "    artist_bar_topic_container,\n",
    "    html.Hr(),\n",
    "    topic_scatter_container,\n",
    "    html.Hr()\n",
    "], fluid=True)"
   ]
  },
  {
   "cell_type": "code",
   "execution_count": null,
   "id": "90bdda00-c710-40ab-a300-6e635a5afb08",
   "metadata": {},
   "outputs": [],
   "source": [
    "app.run(debug=True)"
   ]
  },
  {
   "cell_type": "markdown",
   "id": "c52280f7-67be-4de9-a5ef-19553e3e02c3",
   "metadata": {},
   "source": [
    "### ========== test =========="
   ]
  },
  {
   "cell_type": "code",
   "execution_count": null,
   "id": "1acd85d0-1cce-4aa2-82d0-a505248477a9",
   "metadata": {
    "scrolled": true
   },
   "outputs": [],
   "source": [
    "counts_df[counts_df['Artist'].isin(['A Tribe Called Quest', 'MF DOOM'])]"
   ]
  },
  {
   "cell_type": "code",
   "execution_count": null,
   "id": "8b60341f-9eae-4cf2-a93d-b7abb582a148",
   "metadata": {},
   "outputs": [],
   "source": []
  }
 ],
 "metadata": {
  "kernelspec": {
   "display_name": "data_venv",
   "language": "python",
   "name": "data_venv"
  },
  "language_info": {
   "codemirror_mode": {
    "name": "ipython",
    "version": 3
   },
   "file_extension": ".py",
   "mimetype": "text/x-python",
   "name": "python",
   "nbconvert_exporter": "python",
   "pygments_lexer": "ipython3",
   "version": "3.10.9"
  }
 },
 "nbformat": 4,
 "nbformat_minor": 5
}
