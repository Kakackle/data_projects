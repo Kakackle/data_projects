{
 "cells": [
  {
   "cell_type": "code",
   "execution_count": 2,
   "id": "125c175d-f843-412f-9bfe-2ee8bcf17f1b",
   "metadata": {},
   "outputs": [],
   "source": [
    "import pandas as pd"
   ]
  },
  {
   "cell_type": "code",
   "execution_count": 3,
   "id": "c5b4f4c5-f06e-484a-96ad-109c29b79907",
   "metadata": {},
   "outputs": [],
   "source": [
    "df = pd.read_csv('dataframes/lyrics_combined.csv', index_col=0)"
   ]
  },
  {
   "cell_type": "code",
   "execution_count": 4,
   "id": "f62cf768-e230-4005-a92e-7b72ae71e159",
   "metadata": {},
   "outputs": [],
   "source": [
    "genres = list(df['genre'].unique())"
   ]
  },
  {
   "cell_type": "code",
   "execution_count": 5,
   "id": "926ed8fa-abec-48bb-a54d-1ceadb2c1950",
   "metadata": {},
   "outputs": [],
   "source": [
    "genres_lyrics_df = pd.DataFrame()"
   ]
  },
  {
   "cell_type": "code",
   "execution_count": 6,
   "id": "2b253e40-9557-45c7-935f-004db77796c6",
   "metadata": {},
   "outputs": [],
   "source": [
    "for genre in genres:\n",
    "    genre_df = df[df['genre'] == genre ]\n",
    "    genre_lyrics = ' '.join(genre_df['all_lyrics'].str.strip())\n",
    "    new_row = {\n",
    "        'all_lyrics': genre_lyrics,\n",
    "        'genre': genre\n",
    "    }\n",
    "    new_row_df = pd.DataFrame([new_row])\n",
    "    genres_lyrics_df = pd.concat([genres_lyrics_df, new_row_df])\n",
    "genres_lyrics_df.reset_index(inplace=True, drop=True)"
   ]
  },
  {
   "cell_type": "code",
   "execution_count": 9,
   "id": "6de6970c-336c-4741-aebe-e76a607c7281",
   "metadata": {},
   "outputs": [],
   "source": [
    "genres_lyrics_df.to_csv('dataframes/genre_lyrics_combined.csv')"
   ]
  }
 ],
 "metadata": {
  "kernelspec": {
   "display_name": "data_venv",
   "language": "python",
   "name": "data_venv"
  },
  "language_info": {
   "codemirror_mode": {
    "name": "ipython",
    "version": 3
   },
   "file_extension": ".py",
   "mimetype": "text/x-python",
   "name": "python",
   "nbconvert_exporter": "python",
   "pygments_lexer": "ipython3",
   "version": "3.10.9"
  }
 },
 "nbformat": 4,
 "nbformat_minor": 5
}
