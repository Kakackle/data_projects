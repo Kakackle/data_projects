{
 "cells": [
  {
   "cell_type": "code",
   "execution_count": 1,
   "id": "96cdb871-63af-4a4d-b921-423ce1c38ed4",
   "metadata": {},
   "outputs": [],
   "source": [
    "import pandas as pd\n",
    "import torch"
   ]
  },
  {
   "cell_type": "code",
   "execution_count": 2,
   "id": "1283ad86-df52-44f3-b0c8-112ba1ca2c46",
   "metadata": {
    "scrolled": true
   },
   "outputs": [
    {
     "name": "stderr",
     "output_type": "stream",
     "text": [
      "You are using the default legacy behaviour of the <class 'transformers.models.t5.tokenization_t5.T5Tokenizer'>. This is expected, and simply means that the `legacy` (previous) behavior will be used so nothing changes for you. If you want to use the new behaviour, set `legacy=False`. This should only be set if you understand what it means, and thouroughly read the reason why this was added as explained in https://github.com/huggingface/transformers/pull/24565\n",
      "C:\\Users\\User\\Desktop\\programowanie_web_etc\\python_projects\\data_projects\\venv\\lib\\site-packages\\transformers\\models\\auto\\modeling_auto.py:1564: FutureWarning: The class `AutoModelWithLMHead` is deprecated and will be removed in a future version. Please use `AutoModelForCausalLM` for causal language models, `AutoModelForMaskedLM` for masked language models and `AutoModelForSeq2SeqLM` for encoder-decoder models.\n",
      "  warnings.warn(\n"
     ]
    }
   ],
   "source": [
    "from transformers import AutoTokenizer, AutoModelWithLMHead\n",
    "\n",
    "tokenizer = AutoTokenizer.from_pretrained(\"mrm8488/t5-base-finetuned-emotion\")\n",
    "\n",
    "model = AutoModelWithLMHead.from_pretrained(\"mrm8488/t5-base-finetuned-emotion\")"
   ]
  },
  {
   "cell_type": "code",
   "execution_count": 3,
   "id": "eef9f96e-ad58-4665-9108-70f8551ad8db",
   "metadata": {},
   "outputs": [],
   "source": [
    "def get_emotion(text):\n",
    "  input_ids = tokenizer.encode(text + '</s>', return_tensors='pt')\n",
    "\n",
    "  output = model.generate(input_ids=input_ids,\n",
    "               max_length=2)\n",
    "  \n",
    "  dec = [tokenizer.decode(ids) for ids in output]\n",
    "  label = dec[0]\n",
    "  return label"
   ]
  },
  {
   "cell_type": "code",
   "execution_count": 4,
   "id": "f30048c4-6a4b-4ff5-aa68-796003f781a0",
   "metadata": {},
   "outputs": [
    {
     "data": {
      "text/plain": [
       "'<pad> joy'"
      ]
     },
     "execution_count": 4,
     "metadata": {},
     "output_type": "execute_result"
    }
   ],
   "source": [
    "get_emotion(\"i feel as if i havent blogged in ages are at least truly blogged i am doing an update cute\") # Output: 'joy'"
   ]
  },
  {
   "cell_type": "code",
   "execution_count": 5,
   "id": "038c82d6-9037-4f73-92c7-4d93c074437f",
   "metadata": {},
   "outputs": [
    {
     "data": {
      "text/plain": [
       "'<pad> sadness'"
      ]
     },
     "execution_count": 5,
     "metadata": {},
     "output_type": "execute_result"
    }
   ],
   "source": [
    "get_emotion(\"i have a feeling i kinda lost my best friend\") # Output: 'sadness'"
   ]
  },
  {
   "cell_type": "code",
   "execution_count": 6,
   "id": "ca9c1ba9-b21c-426e-a297-a57e5fb9ec6f",
   "metadata": {},
   "outputs": [],
   "source": [
    "df_path = 'dataframes/with_counts/combined_count.csv'"
   ]
  },
  {
   "cell_type": "code",
   "execution_count": 7,
   "id": "4903e88a-6751-4ca7-9880-2e46ac8c82c3",
   "metadata": {},
   "outputs": [],
   "source": [
    "df = pd.read_csv(df_path, index_col = 0)"
   ]
  },
  {
   "cell_type": "code",
   "execution_count": 8,
   "id": "8b2ce640-b76c-4461-b8d7-3272593a6f5b",
   "metadata": {},
   "outputs": [],
   "source": [
    "sample_lyrics = df.sample(5)['Song Lyrics'].str.lower()"
   ]
  },
  {
   "cell_type": "code",
   "execution_count": 9,
   "id": "b75f0579-8708-445b-91a8-1abaa62b107c",
   "metadata": {},
   "outputs": [
    {
     "data": {
      "text/plain": [
       "'sadness'"
      ]
     },
     "execution_count": 9,
     "metadata": {},
     "output_type": "execute_result"
    }
   ],
   "source": [
    "import re\n",
    "emotion_regex = re.compile('<pad>\\s(.*)')\n",
    "emotion_regex.findall('<pad> sadness')[0]"
   ]
  },
  {
   "cell_type": "code",
   "execution_count": 10,
   "id": "2c173a02-3bd6-4cd3-89a6-5b0035d1e211",
   "metadata": {
    "scrolled": true
   },
   "outputs": [
    {
     "name": "stdout",
     "output_type": "stream",
     "text": [
      "song:\n",
      " darling you send me darling you send me darling you send me honest you do honest you do honest you do woahohoh you thrill me darling you thrill me baby you you thrill me honest you do honest you do honest you do  at first i thought it was infatuation but it lasted so long so long now i find myself wanting i want you to marry me please take me home yeah yeah yeah yeah yeah yeah  you you send me darling you send me darling you send me honest you do honest you know ya did ya know ya did ya know ya do know youoohhoo send me you got everything it takes to wed me youoohhoo send me and when you do the things you do you know that send me dooohhoo send me honestly you send me you send me baby you send me you move me do you groove me do whoooo you send me ah yes ah yes ah yes thank you to send me guess im a a sinner make me a longer i i i i i i i just cant stand any it thrill me kill me oooh send me send me baby pretty baby oooh yeahyou might also like\n",
      "===================================\n",
      "emotion:\n",
      "<pad> love\n",
      "===================================\n",
      "===================================\n",
      "song:\n",
      " ive got another confession to make im your fool everyones got their chains to break holdin you were you born to resist or be abused  is someone getting the best the best the best the best of you is someone getting the best the best the best the best of you are you gone and on to someone new  i needed somewhere to hang my head without your noose you gave me something that i didnt have but had no use i was too weak to give in too strong to lose my heart is under arrest again but i break loose my head is giving me life or death but i cant choose i swear ill never give in i refuse you might also like is someone getting the best the best the best the best of you is someone getting the best the best the best the best of you has someone taken your faith its real the pain you feel you trust you must confess is someone getting the best the best the best the best of you oh oh oh oh oh  has someone taken your faith its real the pain you feel the life the love youd die to heal the hope that starts the broken hearts you trust you must confess is someone getting the best the best the best the best of you is someone getting the best the best the best the best of you ive got another confession my friend im no fool im getting tired of starting again somewhere new were you born to resist or be abused i swear ill never give in i refuse  is someone getting the best the best the best the best of you is someone getting the best the best the best the best of you has someone taken your faith its real the pain you feel you trust you must confess is someone getting the best the best the best the best of you oh\n",
      "===================================\n",
      "emotion:\n",
      "<pad> sadness\n",
      "===================================\n",
      "===================================\n"
     ]
    },
    {
     "name": "stderr",
     "output_type": "stream",
     "text": [
      "Token indices sequence length is longer than the specified maximum sequence length for this model (1706 > 512). Running this sequence through the model will result in indexing errors\n"
     ]
    },
    {
     "name": "stdout",
     "output_type": "stream",
     "text": [
      "song:\n",
      " calling all comas prisoner on the loose description the spitting image of me except for the heartshaped hole where the hope runs out  shock me awake and tear me apart pinned like a note in a hospital gown prisoner of sleep deeper down the rabbit hole never to be found again  where are you hiding my love cast off like a stone feelings raw and exposed when im out of control pieces were stolen from me or dare i say given away watching the water give in as i go down the drain i appear missing now  i go missing no longer exist one day i hope im someone youd miss you might also like shock me awake tear me apart pinned like a note in a hospital gown deeper asleep further down the rabbit hole never to be found  its only falling in love because you hit the ground  dancing on wire both ends are on fire cut me loose nowhere to run no more room to pretend wandering along the road in the summer night  i go missing no longer exist one day i hope im someone youd miss  shock me awake tear me apart pinned like a note in a hospital gown deeper asleep further down the rabbit hole never to be found confide with my toes on the edge its such a lovely view dont cry i never loved anything until i loved you inside im over the edge what can i do but shine i havent a thing unless i have you confide with my toes on the edge its such a lovely view dont cry i never loved anything until i loved you inside im over the edge what can i do but shine ive fallen through\n",
      "===================================\n",
      "emotion:\n",
      "<pad> sadness\n",
      "===================================\n",
      "===================================\n",
      "song:\n",
      " uh me and my niggas tryna get it ya bish ya bish ya bish hit the house lick tell me is you wit it ya bish ya bish ya bish home invasion was persuasive was persuasive was persuasive from nine to five i know its vacant ya bish ya bish ya bish dreams of livin life like rappers do like rappers do like rappers do back when condom wrappers wasnt cool they wasnt cool they wasnt cool i fucked sherane and went to tell my bros tell my bros tell my bros then usher raymond \"let it burn\" came on \"let burn\" came on \"let burn\" came on hot sauce all in our top ramen ya bish ya bish ya bish park the car then we start rhymin ya bish ya bish ya bish the only thing we had to free our mind free our mind free our mind then freeze that verse when we see dollar signs see dollar signs see dollar signs you lookin like a easy comeup ya bish ya bish ya bish a silver spoon i know you come from ya bish ya bish ya bish and thats a lifestyle that we never knew we never knew we never knew go at a reverend for the revenue  it go halle berry or hallelujah pick your poison tell me what you doin everybody gon respect the shooter but the one in front of the gun lives forever the one in front of the gun forever and i been hustlin allday thisaway thataway through canals and alleyways just to say money trees is the perfect place for shade and thats jus how i feel nah nah a dollar might just fuck your main bitch thats jus how i feel nah a dollar might say fuck them niggas that you came with thats jus how i feel nah nah a dollar might just make that lane switch thats jus how i feel nah a dollar might turn to a million and we all rich thats jus how i feel  dreams of livin life like rappers do like rappers do like rappers do bump that new e40 after school way after school way after school you know “big ballin with my homies” my homies earl stevens had us thinkin rational thinkin rational thats rational back to reality we poor ya bish ya bish ya bish another casualty at war ya bish ya bish ya bish two bullets in my uncle tony head my tony head my tony head he said one day ill be on tour ya bish ya bish ya bish that louis burgers never be the same wont be the same wont be the same a louis belt that never ease that pain wont ease that pain wont ease that pain but ima purchase when that day is jerkin that day is jerkin that day is jerkin pull off at churchs with pirellis skirtin pirellis skirtin pirellis skirtin gang signs out the window ya bish ya bish ya bish hopin all of em offend you ya bish ya bish ya bish they say your hood is a pot o gold a pot o gold a pot o gold and we gon crash it when nobodys home you might also like it go halle berry or hallelujah pick your poison tell me what you doin everybody gon respect the shooter but the one in front of the gun lives forever the one in front of the gun forever and i been hustlin allday thisaway thataway through canals and alleyways just to say money trees is the perfect place for shade and thats jus how i feel  nah nah a dollar might just fuck your main bitch thats jus how i feel nah a dollar might say fuck them niggas that you came with thats jus how i feel nah nah a dollar might just make that lane switch thats jus how i feel nah a dollar might turn to a million and we all rich thats jus how i feel be the last one out to get this dough no way love one of you bucket headed hoes no way hit the streets then we break the code no way hit the brakes when they on patrol no way be the last one out to get this dough no way love one of you bucket headed hoes no way hit the streets then we break the code no way hit the brakes when they on patrol no way magine rock up in them projects where them niggas pick your pockets santa claus dont miss them stockings liquors spillin pistols poppin bakin soda yola whippin aint no turkey on thanksgivin my homeboy just domed a nigga i just hope the lord forgive him pots with cocaine residue every day im hustlin what else is a thug to do when you eatin cheese from the government gotta provide for my daughter nem—get the fuck up out my way bish got that drum and i got them bands just like a parade bish drop that work up in the bushes hope them boys dont see my stash if they do tell the truth this the last time you might see my ass from the gardens where the grass aint cut them serpents lurkin blood bitches sellin pussy niggas sellin drugs but its all good broken promises steal your watch and tell you what time it is take your js and tell you to kick it where a foot locker is in the streets with a heater under my dungarees dreams of me gettin shaded under a money tree  it go halle berry or hallelujah pick your poison tell me what you doin everybody gon respect the shooter but the one in front of the gun lives forever the one in front of the gun forever and i been hustlin allday thisaway thataway through canals and alleyways just to say money trees is the perfect place for shade and thats jus how i feel  paula duckworth kendrick just bring my car back man ii called in for another appointment i figured you weren’t gonna be back here on time anyway look shit shit i just wanna get out the house man this man is on one he feelin good as a motherfucker shit i’m tryna get my thing goin too im going to merlin house just bring my car back shit he faded he feelin good look listen to him kenneth duckworth girl girl i want your body i want your body cause you got a big ol’ fat ass girl girl i want your body i want your body cause of that big ol’ fat ass girl i want your body cause of that big ol’— paula duckworth see he high as hell shit and he ain’t even trippin off them dominoes no more just bring the car back kenneth duckworth did somebody say dominoes \n",
      "===================================\n",
      "emotion:\n",
      "<pad> joy\n",
      "===================================\n",
      "===================================\n",
      "song:\n",
      " aouw ooh aouw  i took my baby on a saturday bang boy is that girl with you yes were one and the same  now i believe in miracles and a miracle has happened tonight hee but if youre thinking about my baby it dont matter if youre black or white ooh  they print my message in the saturday sun i had to tell em \"i aint second to none\"  and i told about equality and its true either youre wrong or youre right hee but if youre thinking about my baby it dont matter if youre black or white hoo you might also like gone witcha babe heehee  i am tired of this devil i am tired of this stuff i am tired of this business oh when the going gets rough i aint scared of your brother i aint scared of no sheets i aint scared of nobody girl when the going gets mean  protection for gangs clubs and nations causing grief in human relations its a turf war on a global scale id rather hear both sides of the tale see its not about races just places faces where your blood comes from is where your space is ive seen the bright get duller im not gonna spend my life being a color  dont tell me you agree with me when i saw you kicking dirt in my eye heehee but if youre thinking about my baby it dont matter if youre black or white i said if youre thinking of being my baby it dont matter if youre black or white i said if youre thinking of being my brother it dont matter if youre black or white  alright alright oohoohooh alright yeah yeah yeah yeah now alright alright oohoohooh shamone dont yeah yeah yeah yeah now alright its black its white its tough for you to beat that yeah yeah yeah its black its white hoo its black its white its tough for you to beat that yeah yeah yeah its black its white hoo\n",
      "===================================\n",
      "emotion:\n",
      "<pad> fear\n",
      "===================================\n",
      "===================================\n"
     ]
    }
   ],
   "source": [
    "for song in sample_lyrics:\n",
    "    song_emotion = get_emotion(song)\n",
    "    print('song:')\n",
    "    print(song)\n",
    "    print('===================================')\n",
    "    print('emotion:')\n",
    "    print(song_emotion)\n",
    "    print('===================================')\n",
    "    print('===================================')"
   ]
  },
  {
   "cell_type": "code",
   "execution_count": 11,
   "id": "67a71838-2dfc-487b-ba54-171e9cf99650",
   "metadata": {},
   "outputs": [],
   "source": [
    "def assign_emotion(row):\n",
    "    lyrics = row['Song Lyrics']\n",
    "    emotion = get_emotion(lyrics)\n",
    "    emotion = emotion_regex.findall(emotion)[0]\n",
    "    return emotion"
   ]
  },
  {
   "cell_type": "code",
   "execution_count": 12,
   "id": "dae25258-a540-48b6-b8f9-d1df64a7a24e",
   "metadata": {},
   "outputs": [],
   "source": [
    "def apply_emotion(df):\n",
    "    df['emotion'] = df.apply(\n",
    "        lambda row: assign_emotion(row),\n",
    "        axis = 1\n",
    "    )\n",
    "    return df"
   ]
  },
  {
   "cell_type": "code",
   "execution_count": 13,
   "id": "b597c838-1b59-4e9d-ac1e-c73f651839a9",
   "metadata": {},
   "outputs": [],
   "source": [
    "df = apply_emotion(df)"
   ]
  },
  {
   "cell_type": "code",
   "execution_count": 14,
   "id": "661ccb67-3b01-4881-9654-c12f6d8605d2",
   "metadata": {},
   "outputs": [
    {
     "data": {
      "text/html": [
       "<div>\n",
       "<style scoped>\n",
       "    .dataframe tbody tr th:only-of-type {\n",
       "        vertical-align: middle;\n",
       "    }\n",
       "\n",
       "    .dataframe tbody tr th {\n",
       "        vertical-align: top;\n",
       "    }\n",
       "\n",
       "    .dataframe thead th {\n",
       "        text-align: right;\n",
       "    }\n",
       "</style>\n",
       "<table border=\"1\" class=\"dataframe\">\n",
       "  <thead>\n",
       "    <tr style=\"text-align: right;\">\n",
       "      <th></th>\n",
       "      <th>Artist</th>\n",
       "      <th>Song Title</th>\n",
       "      <th>Full Title</th>\n",
       "      <th>Release Date</th>\n",
       "      <th>Year</th>\n",
       "      <th>Month</th>\n",
       "      <th>Day</th>\n",
       "      <th>Pageviews</th>\n",
       "      <th>url</th>\n",
       "      <th>featured_count</th>\n",
       "      <th>...</th>\n",
       "      <th>VBD</th>\n",
       "      <th>VBG</th>\n",
       "      <th>VBN</th>\n",
       "      <th>VBP</th>\n",
       "      <th>VBZ</th>\n",
       "      <th>WDT</th>\n",
       "      <th>WP</th>\n",
       "      <th>WP$</th>\n",
       "      <th>WRB</th>\n",
       "      <th>emotion</th>\n",
       "    </tr>\n",
       "  </thead>\n",
       "  <tbody>\n",
       "    <tr>\n",
       "      <th>687</th>\n",
       "      <td>Marvin Gaye</td>\n",
       "      <td>Got to Give It Up</td>\n",
       "      <td>Got to Give It Up by Marvin Gaye</td>\n",
       "      <td>1977-03-15</td>\n",
       "      <td>1977.0</td>\n",
       "      <td>3.0</td>\n",
       "      <td>15.0</td>\n",
       "      <td>80595</td>\n",
       "      <td>https://genius.com/Marvin-gaye-got-to-give-it-...</td>\n",
       "      <td>0</td>\n",
       "      <td>...</td>\n",
       "      <td>5</td>\n",
       "      <td>5</td>\n",
       "      <td>4</td>\n",
       "      <td>26</td>\n",
       "      <td>14</td>\n",
       "      <td>1</td>\n",
       "      <td>1</td>\n",
       "      <td>1</td>\n",
       "      <td>1</td>\n",
       "      <td>joy</td>\n",
       "    </tr>\n",
       "    <tr>\n",
       "      <th>278</th>\n",
       "      <td>Ice Cube</td>\n",
       "      <td>Ghetto Vet</td>\n",
       "      <td>Ghetto Vet by Ice Cube (Ft. Mack 10 &amp; Mr. Shor...</td>\n",
       "      <td>1998-11-17</td>\n",
       "      <td>1998.0</td>\n",
       "      <td>11.0</td>\n",
       "      <td>17.0</td>\n",
       "      <td>59946</td>\n",
       "      <td>https://genius.com/Ice-cube-ghetto-vet-lyrics</td>\n",
       "      <td>2</td>\n",
       "      <td>...</td>\n",
       "      <td>5</td>\n",
       "      <td>5</td>\n",
       "      <td>4</td>\n",
       "      <td>26</td>\n",
       "      <td>14</td>\n",
       "      <td>1</td>\n",
       "      <td>1</td>\n",
       "      <td>1</td>\n",
       "      <td>1</td>\n",
       "      <td>sadness</td>\n",
       "    </tr>\n",
       "    <tr>\n",
       "      <th>118</th>\n",
       "      <td>Dua Lipa</td>\n",
       "      <td>Lost in Your Light</td>\n",
       "      <td>Lost in Your Light by Dua Lipa (Ft. Miguel)</td>\n",
       "      <td>2017-04-21</td>\n",
       "      <td>2017.0</td>\n",
       "      <td>4.0</td>\n",
       "      <td>21.0</td>\n",
       "      <td>192653</td>\n",
       "      <td>https://genius.com/Dua-lipa-lost-in-your-light...</td>\n",
       "      <td>1</td>\n",
       "      <td>...</td>\n",
       "      <td>5</td>\n",
       "      <td>5</td>\n",
       "      <td>4</td>\n",
       "      <td>26</td>\n",
       "      <td>14</td>\n",
       "      <td>1</td>\n",
       "      <td>1</td>\n",
       "      <td>1</td>\n",
       "      <td>1</td>\n",
       "      <td>joy</td>\n",
       "    </tr>\n",
       "    <tr>\n",
       "      <th>666</th>\n",
       "      <td>Curtis Mayfield</td>\n",
       "      <td>Freddie’s Dead (Theme From Superfly)</td>\n",
       "      <td>Freddie's Dead (Theme From Superfly) by Curtis...</td>\n",
       "      <td>NaN</td>\n",
       "      <td>1972.0</td>\n",
       "      <td>7.0</td>\n",
       "      <td>NaN</td>\n",
       "      <td>16120</td>\n",
       "      <td>https://genius.com/Curtis-mayfield-freddies-de...</td>\n",
       "      <td>0</td>\n",
       "      <td>...</td>\n",
       "      <td>5</td>\n",
       "      <td>5</td>\n",
       "      <td>4</td>\n",
       "      <td>26</td>\n",
       "      <td>14</td>\n",
       "      <td>1</td>\n",
       "      <td>1</td>\n",
       "      <td>1</td>\n",
       "      <td>1</td>\n",
       "      <td>anger</td>\n",
       "    </tr>\n",
       "    <tr>\n",
       "      <th>423</th>\n",
       "      <td>Deep Purple</td>\n",
       "      <td>Perfect Strangers</td>\n",
       "      <td>Perfect Strangers by Deep Purple</td>\n",
       "      <td>1984-10-29</td>\n",
       "      <td>1984.0</td>\n",
       "      <td>10.0</td>\n",
       "      <td>29.0</td>\n",
       "      <td>73721</td>\n",
       "      <td>https://genius.com/Deep-purple-perfect-strange...</td>\n",
       "      <td>0</td>\n",
       "      <td>...</td>\n",
       "      <td>5</td>\n",
       "      <td>5</td>\n",
       "      <td>4</td>\n",
       "      <td>26</td>\n",
       "      <td>14</td>\n",
       "      <td>1</td>\n",
       "      <td>1</td>\n",
       "      <td>1</td>\n",
       "      <td>1</td>\n",
       "      <td>sadness</td>\n",
       "    </tr>\n",
       "  </tbody>\n",
       "</table>\n",
       "<p>5 rows × 73 columns</p>\n",
       "</div>"
      ],
      "text/plain": [
       "              Artist                            Song Title  \\\n",
       "687      Marvin Gaye                     Got to Give It Up   \n",
       "278         Ice Cube                            Ghetto Vet   \n",
       "118         Dua Lipa                    Lost in Your Light   \n",
       "666  Curtis Mayfield  Freddie’s Dead (Theme From Superfly)   \n",
       "423      Deep Purple                     Perfect Strangers   \n",
       "\n",
       "                                            Full Title Release Date    Year  \\\n",
       "687                   Got to Give It Up by Marvin Gaye   1977-03-15  1977.0   \n",
       "278  Ghetto Vet by Ice Cube (Ft. Mack 10 & Mr. Shor...   1998-11-17  1998.0   \n",
       "118        Lost in Your Light by Dua Lipa (Ft. Miguel)   2017-04-21  2017.0   \n",
       "666  Freddie's Dead (Theme From Superfly) by Curtis...          NaN  1972.0   \n",
       "423                   Perfect Strangers by Deep Purple   1984-10-29  1984.0   \n",
       "\n",
       "     Month   Day  Pageviews  \\\n",
       "687    3.0  15.0      80595   \n",
       "278   11.0  17.0      59946   \n",
       "118    4.0  21.0     192653   \n",
       "666    7.0   NaN      16120   \n",
       "423   10.0  29.0      73721   \n",
       "\n",
       "                                                   url  featured_count  ...  \\\n",
       "687  https://genius.com/Marvin-gaye-got-to-give-it-...               0  ...   \n",
       "278      https://genius.com/Ice-cube-ghetto-vet-lyrics               2  ...   \n",
       "118  https://genius.com/Dua-lipa-lost-in-your-light...               1  ...   \n",
       "666  https://genius.com/Curtis-mayfield-freddies-de...               0  ...   \n",
       "423  https://genius.com/Deep-purple-perfect-strange...               0  ...   \n",
       "\n",
       "     VBD  VBG VBN VBP VBZ WDT  WP  WP$  WRB  emotion  \n",
       "687    5    5   4  26  14   1   1    1    1      joy  \n",
       "278    5    5   4  26  14   1   1    1    1  sadness  \n",
       "118    5    5   4  26  14   1   1    1    1      joy  \n",
       "666    5    5   4  26  14   1   1    1    1    anger  \n",
       "423    5    5   4  26  14   1   1    1    1  sadness  \n",
       "\n",
       "[5 rows x 73 columns]"
      ]
     },
     "execution_count": 14,
     "metadata": {},
     "output_type": "execute_result"
    }
   ],
   "source": [
    "df.sample(5)"
   ]
  },
  {
   "cell_type": "code",
   "execution_count": 15,
   "id": "bef8674f-2572-4a04-b3d2-c6cf5445cfc0",
   "metadata": {},
   "outputs": [],
   "source": [
    "df.to_csv('dataframes/with_counts/combined_count.csv')"
   ]
  }
 ],
 "metadata": {
  "kernelspec": {
   "display_name": "data_venv",
   "language": "python",
   "name": "data_venv"
  },
  "language_info": {
   "codemirror_mode": {
    "name": "ipython",
    "version": 3
   },
   "file_extension": ".py",
   "mimetype": "text/x-python",
   "name": "python",
   "nbconvert_exporter": "python",
   "pygments_lexer": "ipython3",
   "version": "3.10.9"
  }
 },
 "nbformat": 4,
 "nbformat_minor": 5
}
