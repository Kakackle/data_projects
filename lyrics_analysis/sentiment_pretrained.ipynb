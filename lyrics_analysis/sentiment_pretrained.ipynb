{
 "cells": [
  {
   "cell_type": "code",
   "execution_count": 1,
   "id": "96cdb871-63af-4a4d-b921-423ce1c38ed4",
   "metadata": {},
   "outputs": [],
   "source": [
    "import pandas as pd\n",
    "import torch"
   ]
  },
  {
   "cell_type": "code",
   "execution_count": 2,
   "id": "1283ad86-df52-44f3-b0c8-112ba1ca2c46",
   "metadata": {
    "scrolled": true
   },
   "outputs": [
    {
     "name": "stderr",
     "output_type": "stream",
     "text": [
      "You are using the default legacy behaviour of the <class 'transformers.models.t5.tokenization_t5.T5Tokenizer'>. This is expected, and simply means that the `legacy` (previous) behavior will be used so nothing changes for you. If you want to use the new behaviour, set `legacy=False`. This should only be set if you understand what it means, and thouroughly read the reason why this was added as explained in https://github.com/huggingface/transformers/pull/24565\n",
      "C:\\Users\\User\\Desktop\\programowanie_web_etc\\python_projects\\data_projects\\venv\\lib\\site-packages\\transformers\\models\\auto\\modeling_auto.py:1564: FutureWarning: The class `AutoModelWithLMHead` is deprecated and will be removed in a future version. Please use `AutoModelForCausalLM` for causal language models, `AutoModelForMaskedLM` for masked language models and `AutoModelForSeq2SeqLM` for encoder-decoder models.\n",
      "  warnings.warn(\n"
     ]
    }
   ],
   "source": [
    "from transformers import AutoTokenizer, AutoModelWithLMHead\n",
    "\n",
    "tokenizer = AutoTokenizer.from_pretrained(\"mrm8488/t5-base-finetuned-emotion\")\n",
    "\n",
    "model = AutoModelWithLMHead.from_pretrained(\"mrm8488/t5-base-finetuned-emotion\")"
   ]
  },
  {
   "cell_type": "code",
   "execution_count": 3,
   "id": "eef9f96e-ad58-4665-9108-70f8551ad8db",
   "metadata": {},
   "outputs": [],
   "source": [
    "def get_emotion(text):\n",
    "  input_ids = tokenizer.encode(text + '</s>', return_tensors='pt')\n",
    "\n",
    "  output = model.generate(input_ids=input_ids,\n",
    "               max_length=2)\n",
    "  \n",
    "  dec = [tokenizer.decode(ids) for ids in output]\n",
    "  label = dec[0]\n",
    "  return label"
   ]
  },
  {
   "cell_type": "code",
   "execution_count": 4,
   "id": "f30048c4-6a4b-4ff5-aa68-796003f781a0",
   "metadata": {},
   "outputs": [
    {
     "data": {
      "text/plain": [
       "'<pad> joy'"
      ]
     },
     "execution_count": 4,
     "metadata": {},
     "output_type": "execute_result"
    }
   ],
   "source": [
    "get_emotion(\"i feel as if i havent blogged in ages are at least truly blogged i am doing an update cute\") # Output: 'joy'"
   ]
  },
  {
   "cell_type": "code",
   "execution_count": 5,
   "id": "038c82d6-9037-4f73-92c7-4d93c074437f",
   "metadata": {},
   "outputs": [
    {
     "data": {
      "text/plain": [
       "'<pad> sadness'"
      ]
     },
     "execution_count": 5,
     "metadata": {},
     "output_type": "execute_result"
    }
   ],
   "source": [
    "get_emotion(\"i have a feeling i kinda lost my best friend\") # Output: 'sadness'"
   ]
  },
  {
   "cell_type": "code",
   "execution_count": 6,
   "id": "ca9c1ba9-b21c-426e-a297-a57e5fb9ec6f",
   "metadata": {},
   "outputs": [],
   "source": [
    "df_path = 'dataframes/with_counts/combined_count.csv'"
   ]
  },
  {
   "cell_type": "code",
   "execution_count": 7,
   "id": "4903e88a-6751-4ca7-9880-2e46ac8c82c3",
   "metadata": {},
   "outputs": [],
   "source": [
    "df = pd.read_csv(df_path, index_col = 0)"
   ]
  },
  {
   "cell_type": "code",
   "execution_count": 8,
   "id": "8b2ce640-b76c-4461-b8d7-3272593a6f5b",
   "metadata": {},
   "outputs": [],
   "source": [
    "sample_lyrics = df.sample(5)['Song Lyrics'].str.lower()"
   ]
  },
  {
   "cell_type": "code",
   "execution_count": 9,
   "id": "b75f0579-8708-445b-91a8-1abaa62b107c",
   "metadata": {},
   "outputs": [
    {
     "data": {
      "text/plain": [
       "'sadness'"
      ]
     },
     "execution_count": 9,
     "metadata": {},
     "output_type": "execute_result"
    }
   ],
   "source": [
    "import re\n",
    "emotion_regex = re.compile('<pad>\\s(.*)')\n",
    "emotion_regex.findall('<pad> sadness')[0]"
   ]
  },
  {
   "cell_type": "code",
   "execution_count": 10,
   "id": "2c173a02-3bd6-4cd3-89a6-5b0035d1e211",
   "metadata": {
    "scrolled": true
   },
   "outputs": [
    {
     "name": "stderr",
     "output_type": "stream",
     "text": [
      "Token indices sequence length is longer than the specified maximum sequence length for this model (937 > 512). Running this sequence through the model will result in indexing errors\n"
     ]
    },
    {
     "name": "stdout",
     "output_type": "stream",
     "text": [
      "song:\n",
      " if you ever change your mind about leaving leaving me behind  baby bring it to me bring your sweet loving bring it on home to me yeah yeah yeah yeah yeah yeah  i know i laughed when you left but now i know i only hurt myself  baby bring it to me bring your sweet loving bring it on home to me yeah yeah yeah yeah yeah yeah  ill give you jewelry and money too that aint all that aint all ill do for you  baby if you bring it to me bring your sweet loving bring it on home to me yeah yeah yeah yeah yeah yeah you might also like you know ill always be your slave til im buried buried in my grave  oh honey bring it to me bring your sweet loving bring it on home to me yeah yeah yeah yeah yeah yeah  one more thing i tried to treat you right but you stayed out stayed out day and night  but i forgive you bring it to me bring your sweet loving bring it on home to me yeah yeah yeah yeah yeah yeah yeah yeah yeah yeah yeah yeah yeah yeah yeah yeah yeah yeah yeah yeah yeah\n",
      "===================================\n",
      "emotion:\n",
      "<pad> joy\n",
      "===================================\n",
      "===================================\n",
      "song:\n",
      " nobody pray for me it been that day for me way yeah yeah  ayy i remember syrup sandwiches and crime allowances finesse a nigga with some counterfeits but now im countin’ this parmesan where my accountant lives in fact im downin this d’ussé with my boo bae tastes like koolaid for the analysts girl i can buy your ass the world with my paystub ooh that pussy good wont you sit it on my taste bloods i get way too petty once you let me do the extras pull up on your block then break it down we playin tetris am to the pm pm to the am funk piss out your per diem you just gotta hate em funk if i quit your bm i still ride mercedes funk if i quit this season i still be the greatest funk my left stroke just went viral right stroke put lil baby in a spiral soprano c we like to keep it on a high note its levels to it you and i know  bitch be humble hol up bitch sit down hol up lil’ hol’ up lil bitch be humble hol’ up bitch sit down hol up sit down lil sit down lil bitch be humble hol’ up hol up bitch sit down hol up hol up lil bitch be humble lil bitch hol up bitch sit down hol up hol up hol up hol up be humble hol up hol up sit down hol up hol up lil hol up lil bitch be humble hol up bitch sit down hol up sit down lil sit down lil bitch be humble hol up hol up bitch sit down hol up hol up lil bitch be humble lil bitch hol up bitch sit down hol up hol up hol up hol up you might also like who that nigga thinkin that he frontin on manman manman get the fuck off my stage im the sandman sandman get the fuck off my dick that aint right i make a play fucking up your whole life im so fuckin sick and tired of the photoshop show me somethin natural like afro on richard pryor show me somethin natural like ass with some stretch marks still i take you down right on your mama couch in polo socks ayy this shit way too crazy ayy you do not amaze me ayy i blew cool from ac ayy obama just paged me ayy i dont fabricate it ayy most of yall be fakin ayy i stay modest bout it ayy she elaborate it ayy this that grey poupon that evian that ted talk ayy watch my soul speak you let the meds talk ayy if i kill a nigga it wont be the alcohol ayy im the realest nigga after all  bitch be humble hol up bitch sit down hol up lil hol up lil bitch be humble hol up bitch sit down hol up sit down lil sit down lil bitch be humble hol up hol up bitch sit down hol up hol up lil bitch be humble lil bitch hol up bitch sit down hol up hol up hol up hol up be humble hol up hol up sit down hol up hol up lil hol up lil bitch be humble hol up bitch sit down hol up sit down lil sit down lil bitch be humble hol up hol up bitch sit down hol up hol up lil bitch be humble lil bitch hol up bitch sit down hol up hol up hol up hol up1k\n",
      "===================================\n",
      "emotion:\n",
      "<pad> joy\n",
      "===================================\n",
      "===================================\n",
      "song:\n",
      " hello ive waited here for you everlong tonight i throw myself into and out of the red out of her head she sang  come down and waste away with me down with me slow how you wanted it to be im over my head out of her head she sang  and i wonder when i sing along with you  if everything could ever feel this real forever if anything could ever be this good again the only thing ill ever ask of you you gotta promise not to stop when i say when she sang  breathe out so i can breathe you in hold you in and now i know youve always been out of your head out of my head i sang you might also like and i wonder when i sing along with you  if everything could ever feel this real forever if anything could ever be this good again the only thing ill ever ask of you you gotta promise not to stop when i say when she sang  and i wonder  if everything could ever feel this real forever if anything could ever be this good again the only thing ill ever ask of you you gotta promise not to stop when i say when\n",
      "===================================\n",
      "emotion:\n",
      "<pad> joy\n",
      "===================================\n",
      "===================================\n",
      "song:\n",
      " luv madonna you you wanna  i see you coming and i dont wanna know your name luv madonna i see you coming and youre gonna have to change the game you you wanna would you like to try give me a reason why give me all that you got maybe youll do fine as long as you dont lie to me and pretend to be what you’re not  dont play the stupid game cause im a different kind of girl every record sounds the same youve got to step into my world  gimme all your lovin give me your love give me all your love today gimme all your lovin give me your love lets forget about time and dance our lives away you might also like luv madonna you you wanna  keep trying dont give up thats if you want it bad enough luv madonna its right in front of you now tell me what youre thinking of you you wanna in another place at a different time you can be my lucky star we can drink some wine burgundy is fine lets drink the bottle every drop  dont play the stupid game cause im a different kind of girl every record sounds the same youve got to step into my world  gimme all your lovin give me your love give me all your love today gimme all your lovin give me your love lets forget about time and dance our lives away gimme all your love give me all your love boy you can be my boy you can be my boy toy in the nick of time i can say a sicker rhyme cause its time for change like a nickel or a dime gimme all your love ugh im roman im a barbarian im conan you was sleeping on me you were dozin now move im goin in  you have all the luv i gave you everything you need now move now its up to you are you the one shall we proceed  move it licks im some swag shit no one gives you this its supersonic bionic uranium hit so i break em off tricks lets pray that it sticks ima say this once yeah i dont give a shit  dont play the stupid game cause im a different kind of girl every record sounds the same youve got to step into my world gimme all your lovin give me your love luv madonna gimme all your lovin give me your love you you wanna gimme all your lovin give me your love gimme all your love today gimme all your lovin give me your love lets forget about time and dance our lives away\n",
      "===================================\n",
      "emotion:\n",
      "<pad> joy\n",
      "===================================\n",
      "===================================\n",
      "song:\n",
      " contributorjust another day lyrics just another day that my lord my lord has kept me yes it is just another day that ive been in my saviors care yes it is wanna say he threw he threw his loving arms all around me yes he did and there i found i found peace and joy right there  another day just another day ive been workin just another day in gods vineyard just another day oh yeah just another day another day oh just another day you know he kept me just another day by his side just another day oh yeah just another day he said \"i know\" oh just another day \"just how hard\" just another day \"youve been laborin\" just another day mhm just another day he said \"i want you\" oh just another day \"to sit down\" just another day \"rest a while\" just another day oh just another day you might also like well when i just another day get on home just another day in my gods kingdom just another day oh yes just another day im gonna sit down just another day im gonna sit down just another day all around the throne just another day oh lord just another day and hell be there oh just another day be there with arms just another day spread wide open just another day yes he will just another day im gonna hear him say oh just another day \"my servant\" just another day \"welcome home\" just another day oh lord just another day  another day just another day ive been workin just another day in gods vineyard just another day yes i have just another day another day oh just another day you know he kept me just another day by his side just another day oh oh oh yeah just another day he said \"i know\" oh just another day \"just how hard\" just another day \"youve been laborin\" just another day mhm just another day he said \"i want you\" oh just another day \"to sit down\" just another day \"rest a while\" just another day with himembed\n",
      "===================================\n",
      "emotion:\n",
      "<pad> love\n",
      "===================================\n",
      "===================================\n"
     ]
    }
   ],
   "source": [
    "for song in sample_lyrics:\n",
    "    song_emotion = get_emotion(song)\n",
    "    print('song:')\n",
    "    print(song)\n",
    "    print('===================================')\n",
    "    print('emotion:')\n",
    "    print(song_emotion)\n",
    "    print('===================================')\n",
    "    print('===================================')"
   ]
  },
  {
   "cell_type": "code",
   "execution_count": 11,
   "id": "67a71838-2dfc-487b-ba54-171e9cf99650",
   "metadata": {},
   "outputs": [],
   "source": [
    "def assign_emotion(row):\n",
    "    lyrics = row['Song Lyrics']\n",
    "    emotion = get_emotion(lyrics)\n",
    "    emotion = emotion_regex.findall(emotion)[0]\n",
    "    return emotion"
   ]
  },
  {
   "cell_type": "code",
   "execution_count": 12,
   "id": "dae25258-a540-48b6-b8f9-d1df64a7a24e",
   "metadata": {},
   "outputs": [],
   "source": [
    "def apply_emotion(df):\n",
    "    df['emotion'] = df.apply(\n",
    "        lambda row: assign_emotion(row),\n",
    "        axis = 1\n",
    "    )\n",
    "    return df"
   ]
  },
  {
   "cell_type": "code",
   "execution_count": 13,
   "id": "b597c838-1b59-4e9d-ac1e-c73f651839a9",
   "metadata": {},
   "outputs": [],
   "source": [
    "df = apply_emotion(df)"
   ]
  },
  {
   "cell_type": "code",
   "execution_count": 14,
   "id": "661ccb67-3b01-4881-9654-c12f6d8605d2",
   "metadata": {},
   "outputs": [
    {
     "data": {
      "text/html": [
       "<div>\n",
       "<style scoped>\n",
       "    .dataframe tbody tr th:only-of-type {\n",
       "        vertical-align: middle;\n",
       "    }\n",
       "\n",
       "    .dataframe tbody tr th {\n",
       "        vertical-align: top;\n",
       "    }\n",
       "\n",
       "    .dataframe thead th {\n",
       "        text-align: right;\n",
       "    }\n",
       "</style>\n",
       "<table border=\"1\" class=\"dataframe\">\n",
       "  <thead>\n",
       "    <tr style=\"text-align: right;\">\n",
       "      <th></th>\n",
       "      <th>Artist</th>\n",
       "      <th>Song Title</th>\n",
       "      <th>Full Title</th>\n",
       "      <th>Release Date</th>\n",
       "      <th>Year</th>\n",
       "      <th>Month</th>\n",
       "      <th>Day</th>\n",
       "      <th>Pageviews</th>\n",
       "      <th>url</th>\n",
       "      <th>featured_count</th>\n",
       "      <th>...</th>\n",
       "      <th>VBG</th>\n",
       "      <th>VBN</th>\n",
       "      <th>VBP</th>\n",
       "      <th>VBZ</th>\n",
       "      <th>WDT</th>\n",
       "      <th>WP</th>\n",
       "      <th>WP$</th>\n",
       "      <th>WRB</th>\n",
       "      <th>genre</th>\n",
       "      <th>emotion</th>\n",
       "    </tr>\n",
       "  </thead>\n",
       "  <tbody>\n",
       "    <tr>\n",
       "      <th>78</th>\n",
       "      <td>Carly Rae Jepsen</td>\n",
       "      <td>Everywhere You Look (The Fuller House Theme)</td>\n",
       "      <td>Everywhere You Look (The Fuller House Theme) b...</td>\n",
       "      <td>2016-02-26</td>\n",
       "      <td>2016.0</td>\n",
       "      <td>2.0</td>\n",
       "      <td>26.0</td>\n",
       "      <td>36765</td>\n",
       "      <td>https://genius.com/Carly-rae-jepsen-everywhere...</td>\n",
       "      <td>0</td>\n",
       "      <td>...</td>\n",
       "      <td>5</td>\n",
       "      <td>4</td>\n",
       "      <td>26</td>\n",
       "      <td>14</td>\n",
       "      <td>1</td>\n",
       "      <td>1</td>\n",
       "      <td>1</td>\n",
       "      <td>1</td>\n",
       "      <td>pop</td>\n",
       "      <td>fear</td>\n",
       "    </tr>\n",
       "    <tr>\n",
       "      <th>446</th>\n",
       "      <td>Foo Fighters</td>\n",
       "      <td>The Sky Is a Neighborhood</td>\n",
       "      <td>The Sky Is a Neighborhood by Foo Fighters</td>\n",
       "      <td>2017-08-23</td>\n",
       "      <td>2017.0</td>\n",
       "      <td>8.0</td>\n",
       "      <td>23.0</td>\n",
       "      <td>201863</td>\n",
       "      <td>https://genius.com/Foo-fighters-the-sky-is-a-n...</td>\n",
       "      <td>0</td>\n",
       "      <td>...</td>\n",
       "      <td>5</td>\n",
       "      <td>4</td>\n",
       "      <td>26</td>\n",
       "      <td>14</td>\n",
       "      <td>1</td>\n",
       "      <td>1</td>\n",
       "      <td>1</td>\n",
       "      <td>1</td>\n",
       "      <td>rap</td>\n",
       "      <td>sadness</td>\n",
       "    </tr>\n",
       "    <tr>\n",
       "      <th>276</th>\n",
       "      <td>Ice Cube</td>\n",
       "      <td>Friday</td>\n",
       "      <td>Friday by Ice Cube</td>\n",
       "      <td>1995-04-11</td>\n",
       "      <td>1995.0</td>\n",
       "      <td>4.0</td>\n",
       "      <td>11.0</td>\n",
       "      <td>61913</td>\n",
       "      <td>https://genius.com/Ice-cube-friday-lyrics</td>\n",
       "      <td>0</td>\n",
       "      <td>...</td>\n",
       "      <td>5</td>\n",
       "      <td>4</td>\n",
       "      <td>26</td>\n",
       "      <td>14</td>\n",
       "      <td>1</td>\n",
       "      <td>1</td>\n",
       "      <td>1</td>\n",
       "      <td>1</td>\n",
       "      <td>rock</td>\n",
       "      <td>joy</td>\n",
       "    </tr>\n",
       "    <tr>\n",
       "      <th>294</th>\n",
       "      <td>JAY-Z</td>\n",
       "      <td>Family Feud</td>\n",
       "      <td>Family Feud by JAY-Z (Ft. Beyoncé)</td>\n",
       "      <td>2017-06-30</td>\n",
       "      <td>2017.0</td>\n",
       "      <td>6.0</td>\n",
       "      <td>30.0</td>\n",
       "      <td>944810</td>\n",
       "      <td>https://genius.com/Jay-z-family-feud-lyrics</td>\n",
       "      <td>1</td>\n",
       "      <td>...</td>\n",
       "      <td>5</td>\n",
       "      <td>4</td>\n",
       "      <td>26</td>\n",
       "      <td>14</td>\n",
       "      <td>1</td>\n",
       "      <td>1</td>\n",
       "      <td>1</td>\n",
       "      <td>1</td>\n",
       "      <td>rock</td>\n",
       "      <td>joy</td>\n",
       "    </tr>\n",
       "    <tr>\n",
       "      <th>254</th>\n",
       "      <td>Eminem</td>\n",
       "      <td>Superman</td>\n",
       "      <td>Superman by Eminem (Ft. Dina Rae)</td>\n",
       "      <td>2002-05-26</td>\n",
       "      <td>2002.0</td>\n",
       "      <td>5.0</td>\n",
       "      <td>26.0</td>\n",
       "      <td>3015114</td>\n",
       "      <td>https://genius.com/Eminem-superman-lyrics</td>\n",
       "      <td>1</td>\n",
       "      <td>...</td>\n",
       "      <td>5</td>\n",
       "      <td>4</td>\n",
       "      <td>26</td>\n",
       "      <td>14</td>\n",
       "      <td>1</td>\n",
       "      <td>1</td>\n",
       "      <td>1</td>\n",
       "      <td>1</td>\n",
       "      <td>rock</td>\n",
       "      <td>anger</td>\n",
       "    </tr>\n",
       "  </tbody>\n",
       "</table>\n",
       "<p>5 rows × 73 columns</p>\n",
       "</div>"
      ],
      "text/plain": [
       "               Artist                                    Song Title  \\\n",
       "78   Carly Rae Jepsen  Everywhere You Look (The Fuller House Theme)   \n",
       "446      Foo Fighters                     The Sky Is a Neighborhood   \n",
       "276          Ice Cube                                        Friday   \n",
       "294             JAY-Z                                   Family Feud   \n",
       "254            Eminem                                      Superman   \n",
       "\n",
       "                                            Full Title Release Date    Year  \\\n",
       "78   Everywhere You Look (The Fuller House Theme) b...   2016-02-26  2016.0   \n",
       "446          The Sky Is a Neighborhood by Foo Fighters   2017-08-23  2017.0   \n",
       "276                                 Friday by Ice Cube   1995-04-11  1995.0   \n",
       "294                 Family Feud by JAY-Z (Ft. Beyoncé)   2017-06-30  2017.0   \n",
       "254                  Superman by Eminem (Ft. Dina Rae)   2002-05-26  2002.0   \n",
       "\n",
       "     Month   Day  Pageviews  \\\n",
       "78     2.0  26.0      36765   \n",
       "446    8.0  23.0     201863   \n",
       "276    4.0  11.0      61913   \n",
       "294    6.0  30.0     944810   \n",
       "254    5.0  26.0    3015114   \n",
       "\n",
       "                                                   url  featured_count  ...  \\\n",
       "78   https://genius.com/Carly-rae-jepsen-everywhere...               0  ...   \n",
       "446  https://genius.com/Foo-fighters-the-sky-is-a-n...               0  ...   \n",
       "276          https://genius.com/Ice-cube-friday-lyrics               0  ...   \n",
       "294        https://genius.com/Jay-z-family-feud-lyrics               1  ...   \n",
       "254          https://genius.com/Eminem-superman-lyrics               1  ...   \n",
       "\n",
       "     VBG  VBN VBP VBZ WDT  WP  WP$  WRB  genre  emotion  \n",
       "78     5    4  26  14   1   1    1    1    pop     fear  \n",
       "446    5    4  26  14   1   1    1    1    rap  sadness  \n",
       "276    5    4  26  14   1   1    1    1   rock      joy  \n",
       "294    5    4  26  14   1   1    1    1   rock      joy  \n",
       "254    5    4  26  14   1   1    1    1   rock    anger  \n",
       "\n",
       "[5 rows x 73 columns]"
      ]
     },
     "execution_count": 14,
     "metadata": {},
     "output_type": "execute_result"
    }
   ],
   "source": [
    "df.sample(5)"
   ]
  },
  {
   "cell_type": "code",
   "execution_count": 15,
   "id": "bef8674f-2572-4a04-b3d2-c6cf5445cfc0",
   "metadata": {},
   "outputs": [],
   "source": [
    "df.to_csv('dataframes/with_counts/combined_count.csv')"
   ]
  }
 ],
 "metadata": {
  "kernelspec": {
   "display_name": "data_venv",
   "language": "python",
   "name": "data_venv"
  },
  "language_info": {
   "codemirror_mode": {
    "name": "ipython",
    "version": 3
   },
   "file_extension": ".py",
   "mimetype": "text/x-python",
   "name": "python",
   "nbconvert_exporter": "python",
   "pygments_lexer": "ipython3",
   "version": "3.10.9"
  }
 },
 "nbformat": 4,
 "nbformat_minor": 5
}
