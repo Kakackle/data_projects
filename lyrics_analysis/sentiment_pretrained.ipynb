{
 "cells": [
  {
   "cell_type": "code",
   "execution_count": 1,
   "id": "96cdb871-63af-4a4d-b921-423ce1c38ed4",
   "metadata": {},
   "outputs": [],
   "source": [
    "import pandas as pd\n",
    "import torch"
   ]
  },
  {
   "cell_type": "code",
   "execution_count": 2,
   "id": "1283ad86-df52-44f3-b0c8-112ba1ca2c46",
   "metadata": {
    "scrolled": true
   },
   "outputs": [
    {
     "name": "stderr",
     "output_type": "stream",
     "text": [
      "You are using the default legacy behaviour of the <class 'transformers.models.t5.tokenization_t5.T5Tokenizer'>. This is expected, and simply means that the `legacy` (previous) behavior will be used so nothing changes for you. If you want to use the new behaviour, set `legacy=False`. This should only be set if you understand what it means, and thouroughly read the reason why this was added as explained in https://github.com/huggingface/transformers/pull/24565\n",
      "C:\\Users\\User\\Desktop\\programowanie_web_etc\\python_projects\\data_projects\\venv\\lib\\site-packages\\transformers\\models\\auto\\modeling_auto.py:1564: FutureWarning: The class `AutoModelWithLMHead` is deprecated and will be removed in a future version. Please use `AutoModelForCausalLM` for causal language models, `AutoModelForMaskedLM` for masked language models and `AutoModelForSeq2SeqLM` for encoder-decoder models.\n",
      "  warnings.warn(\n"
     ]
    },
    {
     "data": {
      "application/vnd.jupyter.widget-view+json": {
       "model_id": "c957b0f851d445c8a0580c98ede2c7bd",
       "version_major": 2,
       "version_minor": 0
      },
      "text/plain": [
       "pytorch_model.bin:   0%|          | 0.00/892M [00:00<?, ?B/s]"
      ]
     },
     "metadata": {},
     "output_type": "display_data"
    },
    {
     "name": "stderr",
     "output_type": "stream",
     "text": [
      "C:\\Users\\User\\Desktop\\programowanie_web_etc\\python_projects\\data_projects\\venv\\lib\\site-packages\\huggingface_hub\\file_download.py:149: UserWarning: `huggingface_hub` cache-system uses symlinks by default to efficiently store duplicated files but your machine does not support them in C:\\Users\\User\\.cache\\huggingface\\hub\\models--mrm8488--t5-base-finetuned-emotion. Caching files will still work but in a degraded version that might require more space on your disk. This warning can be disabled by setting the `HF_HUB_DISABLE_SYMLINKS_WARNING` environment variable. For more details, see https://huggingface.co/docs/huggingface_hub/how-to-cache#limitations.\n",
      "To support symlinks on Windows, you either need to activate Developer Mode or to run Python as an administrator. In order to see activate developer mode, see this article: https://docs.microsoft.com/en-us/windows/apps/get-started/enable-your-device-for-development\n",
      "  warnings.warn(message)\n"
     ]
    }
   ],
   "source": [
    "from transformers import AutoTokenizer, AutoModelWithLMHead\n",
    "\n",
    "tokenizer = AutoTokenizer.from_pretrained(\"mrm8488/t5-base-finetuned-emotion\")\n",
    "\n",
    "model = AutoModelWithLMHead.from_pretrained(\"mrm8488/t5-base-finetuned-emotion\")"
   ]
  },
  {
   "cell_type": "code",
   "execution_count": 3,
   "id": "eef9f96e-ad58-4665-9108-70f8551ad8db",
   "metadata": {},
   "outputs": [],
   "source": [
    "def get_emotion(text):\n",
    "  input_ids = tokenizer.encode(text + '</s>', return_tensors='pt')\n",
    "\n",
    "  output = model.generate(input_ids=input_ids,\n",
    "               max_length=2)\n",
    "  \n",
    "  dec = [tokenizer.decode(ids) for ids in output]\n",
    "  label = dec[0]\n",
    "  return label"
   ]
  },
  {
   "cell_type": "code",
   "execution_count": 5,
   "id": "f30048c4-6a4b-4ff5-aa68-796003f781a0",
   "metadata": {},
   "outputs": [
    {
     "data": {
      "text/plain": [
       "'<pad> joy'"
      ]
     },
     "execution_count": 5,
     "metadata": {},
     "output_type": "execute_result"
    }
   ],
   "source": [
    "get_emotion(\"i feel as if i havent blogged in ages are at least truly blogged i am doing an update cute\") # Output: 'joy'"
   ]
  },
  {
   "cell_type": "code",
   "execution_count": 6,
   "id": "038c82d6-9037-4f73-92c7-4d93c074437f",
   "metadata": {},
   "outputs": [
    {
     "data": {
      "text/plain": [
       "'<pad> sadness'"
      ]
     },
     "execution_count": 6,
     "metadata": {},
     "output_type": "execute_result"
    }
   ],
   "source": [
    "get_emotion(\"i have a feeling i kinda lost my best friend\") # Output: 'sadness'"
   ]
  },
  {
   "cell_type": "code",
   "execution_count": 7,
   "id": "ca9c1ba9-b21c-426e-a297-a57e5fb9ec6f",
   "metadata": {},
   "outputs": [],
   "source": [
    "df_path = 'dataframes/with_counts/combined_count.csv'"
   ]
  },
  {
   "cell_type": "code",
   "execution_count": 8,
   "id": "4903e88a-6751-4ca7-9880-2e46ac8c82c3",
   "metadata": {},
   "outputs": [],
   "source": [
    "df = pd.read_csv(df_path, index_col = 0)"
   ]
  },
  {
   "cell_type": "code",
   "execution_count": 9,
   "id": "8b2ce640-b76c-4461-b8d7-3272593a6f5b",
   "metadata": {},
   "outputs": [],
   "source": [
    "sample_lyrics = df.sample(5)['Song Lyrics'].str.lower()"
   ]
  },
  {
   "cell_type": "code",
   "execution_count": 13,
   "id": "b75f0579-8708-445b-91a8-1abaa62b107c",
   "metadata": {},
   "outputs": [
    {
     "data": {
      "text/plain": [
       "'sadness'"
      ]
     },
     "execution_count": 13,
     "metadata": {},
     "output_type": "execute_result"
    }
   ],
   "source": [
    "import re\n",
    "emotion_regex = re.compile('<pad>\\s(.*)')\n",
    "emotion_regex.findall('<pad> sadness')[0]"
   ]
  },
  {
   "cell_type": "code",
   "execution_count": 10,
   "id": "2c173a02-3bd6-4cd3-89a6-5b0035d1e211",
   "metadata": {
    "scrolled": true
   },
   "outputs": [
    {
     "name": "stdout",
     "output_type": "stream",
     "text": [
      "song:\n",
      " creeping round my door i got a big surprise couldnt see a thing but open skies theyve taken her away where is she now  wish that she was here i wish shed hold my hand maybe she would laugh maybe understand why was i so cruel where is she now   acting like a fool i had to make her cry maybe im a leo but i aint a lion im hurtin oh so bad i want her nowyou might also like\n",
      "===================================\n",
      "emotion:\n",
      "<pad> anger\n",
      "===================================\n",
      "===================================\n",
      "song:\n",
      " get up get up get up get up wake up wake up wake up wake up oh baby now lets get down tonight ooh  baby im hot just like an oven heal me my darling i need some lovin heal me my darling and baby i cant hold it much longer heal me my darling its getting stronger and stronger heal me my darling  and when i get that feeling i want sexual healing sexual healing oh baby makes me feel so fine helps to relieve my mind sexual healing baby is good for me sexual healing is something thats good for me  whenever blue teardrops are falling and my emotional stability is leaving me there is something i can do i can get on the telephone and call you up baby and honey i know youll be there to relieve me the love you give to me will free me if you dont know the thing youre dealing oh i can tell you darling that its sexual healing you might also like get up get up get up get up lets make love tonight wake up wake up wake up wake up cause you do it right  baby i got sick this morning heal me my darling a sea was storming inside of me heal me my darling baby i think im capsizing heal me my darling the waves are rising and rising heal me my darling  and when i get that feeling i want sexual healing sexual healing is good for me makes me feel so fine its such a rush helps to relieve the mind and its good for us sexual healing baby its good for me sexual healing is something thats good for me  and its good for me and its so good to me my baby ohhh come take control just grab a hold of my body and mind soon well be making it honey oh were feeling fine youre my medicine open up and let me in darling youre so great i cant wait for you to operate heal me my darling i cant wait for you to operate  when i get this feeling heal me my darling i need sexual healing oh when i get this feeling heal me my darling i need sexual healing i gotta have sexual healing darling heal me my darling cause im all alone i need sexual healing darling heal me my darling til you come back home please dont procrastinate heal me my darling its not good to masturbate\n",
      "===================================\n",
      "emotion:\n",
      "<pad> joy\n",
      "===================================\n",
      "===================================\n",
      "song:\n",
      " lala la la la la lala la la la la  my cherie amour lovely as a summer day my cherie amour distant as the milky way my cherie amour pretty little one that i adore youre the only girl my heart beats for how i wish that you were mine  in a cafe or sometimes on a crowded street ive been near you but you never noticed me my cherie amour wont you tell me how could you ignore that behind that little smile i wore how i wish that you were mine  lala la la la la lala la la la la lala la la la la lala la la la la  maybe someday youll see my face among the crowd maybe someday ill share your little distant cloud oh cherie amour pretty little one that i adore youre the only girl my heart beats for how i wish that you were mine you might also like lala la la la la lala la la la la lala la la la la lala la la la la\n",
      "===================================\n",
      "emotion:\n",
      "<pad> joy\n",
      "===================================\n",
      "===================================\n"
     ]
    },
    {
     "name": "stderr",
     "output_type": "stream",
     "text": [
      "Token indices sequence length is longer than the specified maximum sequence length for this model (637 > 512). Running this sequence through the model will result in indexing errors\n"
     ]
    },
    {
     "name": "stdout",
     "output_type": "stream",
     "text": [
      "song:\n",
      "  you wanna know if i know why i cant say that i do dont understand the evil eye or how one becomes two and i just cant recall what started it all or how to begin in the end i aint here to break it just see how far it will bend again and again again and again  i wanna make it i wanna make it wit chu anytime anywhere i wanna make it again and again i wanna make it wit chu  sometimes the same is different but mostly its the same these mysteries of life that jus aint my thing if i told you that i knew about the sun and the moon id be untrue the only thing i know for sure is what i wanna do anytime anywhere and i say babe  i wanna make it again and again i wanna make it wit chu anytime anywhere i wanna make it again and again i wanna make it wit chu i wanna make it anytime anywhere i wanna make it wit chu yeah i wanna make it oohooh i wanna make it wit chu you might also like  i wanna make it again and again i wanna make it wit chu i wanna make it anytime anywhere i wanna make it wit chu i wanna make it again and again i wanna make it wit chu again and again and again and again and again i wanna make it\n",
      "===================================\n",
      "emotion:\n",
      "<pad> joy\n",
      "===================================\n",
      "===================================\n",
      "song:\n",
      " hey heyhey hey whats happenin hey brother whats happenin boy this is a groovy party hey how you doin man i can dig it yeah brother solid right on whats happenin hey man whats happening woo everything is everything were gonna do a get down today boy ill tell ya  mother mother theres too many of you crying brother brother brother theres far too many of you dying you know weve got to find a way to bring some loving here today yeah  father father we dont need to escalate you see war is not the answer for only love can conquer hate you know weve got to find a way to bring some loving here today oh oh you might also like picket lines sister and picket signs sister dont punish me sister with brutality sister talk to me sister so you can see sister oh whats going on whats going on whats going on whats going on yeah whats going on whats going on oh whats going on  ahahahah in the meantime right on baby woo right on baby woo ahyayayayayaya yayayayaya woo right on baby right on woo ahyayayayayayayayayayaya badaboodoo boobooboodoo boobooboo badaboobooboodoo boobooboobabado  mother mother everybody thinks were wrong oh but who are they to judge us simply cause our hair is long oh you know weve got to find a way to bring some understanding here today ohoh picket lines brother and picket signs brother dont punish me brother with brutality brother come on talk to me brother so you can see brother oh whats going on whats going on yeah whats going on whats going on tell me whats going on whats going on ill tell you whats going on whats going on  woooohoohooh right on baby right on ahyayayayayaya yayayayayayaya woo woo right on ahyayayayayayayayayayaya badaboodoo boobooboodoo badaboobooboodoo badadadadadada  woo right on baby come on right on ahyayayayayayayayayaya woo right on listen ahyayayayayayaya daboodoo boobooboodoo dabooboodoo boobooboo\n",
      "===================================\n",
      "emotion:\n",
      "<pad> love\n",
      "===================================\n",
      "===================================\n"
     ]
    }
   ],
   "source": [
    "for song in sample_lyrics:\n",
    "    song_emotion = get_emotion(song)\n",
    "    print('song:')\n",
    "    print(song)\n",
    "    print('===================================')\n",
    "    print('emotion:')\n",
    "    print(song_emotion)\n",
    "    print('===================================')\n",
    "    print('===================================')"
   ]
  },
  {
   "cell_type": "code",
   "execution_count": 14,
   "id": "67a71838-2dfc-487b-ba54-171e9cf99650",
   "metadata": {},
   "outputs": [],
   "source": [
    "def assign_emotion(row):\n",
    "    lyrics = row['Song Lyrics']\n",
    "    emotion = get_emotion(lyrics)\n",
    "    emotion = emotion_regex.findall(emotion)[0]\n",
    "    return emotion"
   ]
  },
  {
   "cell_type": "code",
   "execution_count": 17,
   "id": "dae25258-a540-48b6-b8f9-d1df64a7a24e",
   "metadata": {},
   "outputs": [],
   "source": [
    "def apply_emotion(df):\n",
    "    df['emotion'] = df.apply(\n",
    "        lambda row: assign_emotion(row),\n",
    "        axis = 1\n",
    "    )\n",
    "    return df"
   ]
  },
  {
   "cell_type": "code",
   "execution_count": 18,
   "id": "b597c838-1b59-4e9d-ac1e-c73f651839a9",
   "metadata": {},
   "outputs": [],
   "source": [
    "df = apply_emotion(df)"
   ]
  },
  {
   "cell_type": "code",
   "execution_count": 19,
   "id": "661ccb67-3b01-4881-9654-c12f6d8605d2",
   "metadata": {},
   "outputs": [
    {
     "data": {
      "text/html": [
       "<div>\n",
       "<style scoped>\n",
       "    .dataframe tbody tr th:only-of-type {\n",
       "        vertical-align: middle;\n",
       "    }\n",
       "\n",
       "    .dataframe tbody tr th {\n",
       "        vertical-align: top;\n",
       "    }\n",
       "\n",
       "    .dataframe thead th {\n",
       "        text-align: right;\n",
       "    }\n",
       "</style>\n",
       "<table border=\"1\" class=\"dataframe\">\n",
       "  <thead>\n",
       "    <tr style=\"text-align: right;\">\n",
       "      <th></th>\n",
       "      <th>Artist</th>\n",
       "      <th>Song Title</th>\n",
       "      <th>Full Title</th>\n",
       "      <th>Release Date</th>\n",
       "      <th>Year</th>\n",
       "      <th>Month</th>\n",
       "      <th>Day</th>\n",
       "      <th>Pageviews</th>\n",
       "      <th>url</th>\n",
       "      <th>featured_count</th>\n",
       "      <th>...</th>\n",
       "      <th>manual_love_word_percent</th>\n",
       "      <th>manual_money_word_percent</th>\n",
       "      <th>manual_violence_word_percent</th>\n",
       "      <th>manual_drugs_word_percent</th>\n",
       "      <th>manual_gendered_word_percent</th>\n",
       "      <th>manual_sadness_word_percent</th>\n",
       "      <th>manual_joy_word_percent</th>\n",
       "      <th>manual_yes_word_percent</th>\n",
       "      <th>manual_no_word_percent</th>\n",
       "      <th>emotion</th>\n",
       "    </tr>\n",
       "  </thead>\n",
       "  <tbody>\n",
       "    <tr>\n",
       "      <th>287</th>\n",
       "      <td>JAY-Z</td>\n",
       "      <td>Renegade</td>\n",
       "      <td>Renegade by JAY-Z (Ft. Eminem)</td>\n",
       "      <td>2001-09-11</td>\n",
       "      <td>2001.0</td>\n",
       "      <td>9.0</td>\n",
       "      <td>11.0</td>\n",
       "      <td>1362662</td>\n",
       "      <td>https://genius.com/Jay-z-renegade-lyrics</td>\n",
       "      <td>1</td>\n",
       "      <td>...</td>\n",
       "      <td>0.000</td>\n",
       "      <td>0.258</td>\n",
       "      <td>0.000</td>\n",
       "      <td>0.000</td>\n",
       "      <td>14.470</td>\n",
       "      <td>0.775</td>\n",
       "      <td>0.517</td>\n",
       "      <td>0.000</td>\n",
       "      <td>2.842</td>\n",
       "      <td>joy</td>\n",
       "    </tr>\n",
       "    <tr>\n",
       "      <th>392</th>\n",
       "      <td>Yasiin Bey</td>\n",
       "      <td>Sunshine</td>\n",
       "      <td>Sunshine by Yasiin Bey</td>\n",
       "      <td>2004-10-12</td>\n",
       "      <td>2004.0</td>\n",
       "      <td>10.0</td>\n",
       "      <td>12.0</td>\n",
       "      <td>50368</td>\n",
       "      <td>https://genius.com/Yasiin-bey-sunshine-lyrics</td>\n",
       "      <td>0</td>\n",
       "      <td>...</td>\n",
       "      <td>1.034</td>\n",
       "      <td>0.258</td>\n",
       "      <td>1.809</td>\n",
       "      <td>0.000</td>\n",
       "      <td>23.514</td>\n",
       "      <td>0.258</td>\n",
       "      <td>0.000</td>\n",
       "      <td>0.775</td>\n",
       "      <td>3.618</td>\n",
       "      <td>joy</td>\n",
       "    </tr>\n",
       "    <tr>\n",
       "      <th>475</th>\n",
       "      <td>Fugazi</td>\n",
       "      <td>Epic Problem</td>\n",
       "      <td>Epic Problem by Fugazi</td>\n",
       "      <td>2001-10-16</td>\n",
       "      <td>2001.0</td>\n",
       "      <td>10.0</td>\n",
       "      <td>16.0</td>\n",
       "      <td>11078</td>\n",
       "      <td>https://genius.com/Fugazi-epic-problem-lyrics</td>\n",
       "      <td>0</td>\n",
       "      <td>...</td>\n",
       "      <td>0.000</td>\n",
       "      <td>0.000</td>\n",
       "      <td>3.502</td>\n",
       "      <td>0.000</td>\n",
       "      <td>2.724</td>\n",
       "      <td>0.000</td>\n",
       "      <td>0.000</td>\n",
       "      <td>0.000</td>\n",
       "      <td>3.502</td>\n",
       "      <td>sadness</td>\n",
       "    </tr>\n",
       "    <tr>\n",
       "      <th>335</th>\n",
       "      <td>Kendrick Lamar</td>\n",
       "      <td>LOYALTY.</td>\n",
       "      <td>LOYALTY. by Kendrick Lamar (Ft. Rihanna)</td>\n",
       "      <td>2017-04-14</td>\n",
       "      <td>2017.0</td>\n",
       "      <td>4.0</td>\n",
       "      <td>14.0</td>\n",
       "      <td>2934448</td>\n",
       "      <td>https://genius.com/Kendrick-lamar-loyalty-lyrics</td>\n",
       "      <td>1</td>\n",
       "      <td>...</td>\n",
       "      <td>1.292</td>\n",
       "      <td>0.775</td>\n",
       "      <td>0.000</td>\n",
       "      <td>0.258</td>\n",
       "      <td>9.561</td>\n",
       "      <td>0.000</td>\n",
       "      <td>0.258</td>\n",
       "      <td>0.000</td>\n",
       "      <td>3.618</td>\n",
       "      <td>love</td>\n",
       "    </tr>\n",
       "    <tr>\n",
       "      <th>28</th>\n",
       "      <td>Beyoncé</td>\n",
       "      <td>Pray You Catch Me</td>\n",
       "      <td>Pray You Catch Me by Beyoncé</td>\n",
       "      <td>2016-04-23</td>\n",
       "      <td>2016.0</td>\n",
       "      <td>4.0</td>\n",
       "      <td>23.0</td>\n",
       "      <td>1314584</td>\n",
       "      <td>https://genius.com/Beyonce-pray-you-catch-me-l...</td>\n",
       "      <td>0</td>\n",
       "      <td>...</td>\n",
       "      <td>0.219</td>\n",
       "      <td>0.000</td>\n",
       "      <td>0.000</td>\n",
       "      <td>0.000</td>\n",
       "      <td>1.532</td>\n",
       "      <td>0.000</td>\n",
       "      <td>0.219</td>\n",
       "      <td>0.000</td>\n",
       "      <td>0.438</td>\n",
       "      <td>sadness</td>\n",
       "    </tr>\n",
       "  </tbody>\n",
       "</table>\n",
       "<p>5 rows × 36 columns</p>\n",
       "</div>"
      ],
      "text/plain": [
       "             Artist         Song Title  \\\n",
       "287           JAY-Z           Renegade   \n",
       "392      Yasiin Bey           Sunshine   \n",
       "475          Fugazi       Epic Problem   \n",
       "335  Kendrick Lamar           LOYALTY.   \n",
       "28          Beyoncé  Pray You Catch Me   \n",
       "\n",
       "                                   Full Title Release Date    Year  Month  \\\n",
       "287            Renegade by JAY-Z (Ft. Eminem)   2001-09-11  2001.0    9.0   \n",
       "392                    Sunshine by Yasiin Bey   2004-10-12  2004.0   10.0   \n",
       "475                    Epic Problem by Fugazi   2001-10-16  2001.0   10.0   \n",
       "335  LOYALTY. by Kendrick Lamar (Ft. Rihanna)   2017-04-14  2017.0    4.0   \n",
       "28               Pray You Catch Me by Beyoncé   2016-04-23  2016.0    4.0   \n",
       "\n",
       "      Day  Pageviews                                                url  \\\n",
       "287  11.0    1362662           https://genius.com/Jay-z-renegade-lyrics   \n",
       "392  12.0      50368      https://genius.com/Yasiin-bey-sunshine-lyrics   \n",
       "475  16.0      11078      https://genius.com/Fugazi-epic-problem-lyrics   \n",
       "335  14.0    2934448   https://genius.com/Kendrick-lamar-loyalty-lyrics   \n",
       "28   23.0    1314584  https://genius.com/Beyonce-pray-you-catch-me-l...   \n",
       "\n",
       "     featured_count  ...  manual_love_word_percent  manual_money_word_percent  \\\n",
       "287               1  ...                     0.000                      0.258   \n",
       "392               0  ...                     1.034                      0.258   \n",
       "475               0  ...                     0.000                      0.000   \n",
       "335               1  ...                     1.292                      0.775   \n",
       "28                0  ...                     0.219                      0.000   \n",
       "\n",
       "    manual_violence_word_percent manual_drugs_word_percent  \\\n",
       "287                        0.000                     0.000   \n",
       "392                        1.809                     0.000   \n",
       "475                        3.502                     0.000   \n",
       "335                        0.000                     0.258   \n",
       "28                         0.000                     0.000   \n",
       "\n",
       "    manual_gendered_word_percent  manual_sadness_word_percent  \\\n",
       "287                       14.470                        0.775   \n",
       "392                       23.514                        0.258   \n",
       "475                        2.724                        0.000   \n",
       "335                        9.561                        0.000   \n",
       "28                         1.532                        0.000   \n",
       "\n",
       "     manual_joy_word_percent  manual_yes_word_percent  manual_no_word_percent  \\\n",
       "287                    0.517                    0.000                   2.842   \n",
       "392                    0.000                    0.775                   3.618   \n",
       "475                    0.000                    0.000                   3.502   \n",
       "335                    0.258                    0.000                   3.618   \n",
       "28                     0.219                    0.000                   0.438   \n",
       "\n",
       "     emotion  \n",
       "287      joy  \n",
       "392      joy  \n",
       "475  sadness  \n",
       "335     love  \n",
       "28   sadness  \n",
       "\n",
       "[5 rows x 36 columns]"
      ]
     },
     "execution_count": 19,
     "metadata": {},
     "output_type": "execute_result"
    }
   ],
   "source": [
    "df.sample(5)"
   ]
  },
  {
   "cell_type": "code",
   "execution_count": 21,
   "id": "bef8674f-2572-4a04-b3d2-c6cf5445cfc0",
   "metadata": {},
   "outputs": [],
   "source": [
    "df.to_csv('dataframes/with_counts/combined_count.csv')"
   ]
  }
 ],
 "metadata": {
  "kernelspec": {
   "display_name": "data_venv",
   "language": "python",
   "name": "data_venv"
  },
  "language_info": {
   "codemirror_mode": {
    "name": "ipython",
    "version": 3
   },
   "file_extension": ".py",
   "mimetype": "text/x-python",
   "name": "python",
   "nbconvert_exporter": "python",
   "pygments_lexer": "ipython3",
   "version": "3.10.9"
  }
 },
 "nbformat": 4,
 "nbformat_minor": 5
}
