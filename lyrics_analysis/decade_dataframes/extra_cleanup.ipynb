{
 "cells": [
  {
   "cell_type": "markdown",
   "id": "cd08b62e-fbc9-4216-b7be-6f5e47b84770",
   "metadata": {},
   "source": [
    "### for some uneplainex reason asap rocky got into 1980s artists, even though he was not to be downloaded anywhere - some error with the wrapper"
   ]
  },
  {
   "cell_type": "code",
   "execution_count": 1,
   "id": "994c1501-7e0a-4a33-b469-5867880216c2",
   "metadata": {},
   "outputs": [],
   "source": [
    "import pandas as pd"
   ]
  },
  {
   "cell_type": "code",
   "execution_count": 2,
   "id": "b6c21370-86de-4f9a-b856-a8c4b7ab58fc",
   "metadata": {},
   "outputs": [],
   "source": [
    "cleaned_df_old = pd.read_csv('cleaned_df_rocky.csv', index_col=0)"
   ]
  },
  {
   "cell_type": "code",
   "execution_count": 3,
   "id": "4f2df48c-42cc-46ee-9d06-880373a5d641",
   "metadata": {},
   "outputs": [],
   "source": [
    "cleaned_df = cleaned_df_old[cleaned_df_old['Artist'] != 'A$AP Rocky']"
   ]
  },
  {
   "cell_type": "code",
   "execution_count": 4,
   "id": "21c540df-0a37-4eea-b53e-1d462e481e3a",
   "metadata": {},
   "outputs": [
    {
     "data": {
      "text/plain": [
       "array(['Beastie Boys', 'Big Daddy Kane', 'De La Soul', 'Eazy-E',\n",
       "       'Gang Starr', 'N.W.A', 'Public Enemy', 'Run–DMC', 'Slick Rick',\n",
       "       '2Pac', 'A Tribe Called Quest', 'Dr. Dre', 'Mobb Deep', 'Nas',\n",
       "       'OutKast', 'The Notorious B.I.G.', 'The Pharcyde', 'Yasiin Bey',\n",
       "       '50 Cent', 'Aesop Rock', 'Clipse', 'Deltron 3030', 'Eminem',\n",
       "       'JAY-Z', 'Kanye West', 'Kid Cudi', 'Lil Wayne', 'MF DOOM',\n",
       "       'Danny Brown', 'Denzel Curry', 'Earl Sweatshirt', 'Freddie Gibbs',\n",
       "       'Kendrick Lamar', 'Pusha T', 'Run The Jewels', 'Travis Scott',\n",
       "       'Tyler, The Creator', '21 Savage', '\\u200bbilly woods', 'Drake',\n",
       "       'J. Cole', 'JID', 'Lil Nas X', 'Lil Uzi Vert', 'Little Simz',\n",
       "       'Playboi Carti', 'Vince Staples'], dtype=object)"
      ]
     },
     "execution_count": 4,
     "metadata": {},
     "output_type": "execute_result"
    }
   ],
   "source": [
    "cleaned_df['Artist'].unique()"
   ]
  },
  {
   "cell_type": "code",
   "execution_count": 5,
   "id": "c35f2fab-c63f-459e-b194-9f1f8604cdab",
   "metadata": {},
   "outputs": [],
   "source": [
    "cleaned_df.to_csv('cleaned_df.csv')"
   ]
  },
  {
   "cell_type": "code",
   "execution_count": null,
   "id": "9ef12e2f-6238-4869-843a-6d463bf09522",
   "metadata": {},
   "outputs": [],
   "source": []
  }
 ],
 "metadata": {
  "kernelspec": {
   "display_name": "data_venv",
   "language": "python",
   "name": "data_venv"
  },
  "language_info": {
   "codemirror_mode": {
    "name": "ipython",
    "version": 3
   },
   "file_extension": ".py",
   "mimetype": "text/x-python",
   "name": "python",
   "nbconvert_exporter": "python",
   "pygments_lexer": "ipython3",
   "version": "3.10.9"
  }
 },
 "nbformat": 4,
 "nbformat_minor": 5
}
