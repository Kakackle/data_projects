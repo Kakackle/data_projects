{
 "cells": [
  {
   "cell_type": "markdown",
   "id": "a9f4be4f-325d-4dae-afc8-009200034f5b",
   "metadata": {},
   "source": [
    "### Try out sentence embeddings on sample sentences\n",
    "\n",
    "mostly from:\n",
    "\n",
    "https://www.kaggle.com/code/colinmorris/visualizing-embeddings-with-t-sne\n",
    "\n",
    "pretrained model from:\n",
    "\n",
    "https://www.analyticsvidhya.com/blog/2020/08/top-4-sentence-embedding-techniques-using-python/"
   ]
  },
  {
   "cell_type": "code",
   "execution_count": 1,
   "id": "62bd31b7-856c-4cdb-a475-554c29e5d2c8",
   "metadata": {},
   "outputs": [],
   "source": [
    "from sentence_transformers import SentenceTransformer"
   ]
  },
  {
   "cell_type": "code",
   "execution_count": 2,
   "id": "ec2670fb-9757-4c35-9174-b6330ae6cbb7",
   "metadata": {},
   "outputs": [],
   "source": [
    "sbert_model = SentenceTransformer('bert-base-nli-mean-tokens')"
   ]
  },
  {
   "cell_type": "code",
   "execution_count": 3,
   "id": "862920d0-ba6a-4b3f-8728-498e8f4f755f",
   "metadata": {},
   "outputs": [],
   "source": [
    "import pandas as pd"
   ]
  },
  {
   "cell_type": "code",
   "execution_count": 6,
   "id": "93b3c892-cb35-4ddc-9f49-ba80949be28d",
   "metadata": {},
   "outputs": [],
   "source": [
    "from scipy.spatial.distance import cosine as cosine"
   ]
  },
  {
   "cell_type": "code",
   "execution_count": 68,
   "id": "8ed7ab55-709d-4fff-8c22-84783ce95cf2",
   "metadata": {},
   "outputs": [],
   "source": [
    "df_path = 'dataframes/with_counts/combined_count.csv'"
   ]
  },
  {
   "cell_type": "code",
   "execution_count": 69,
   "id": "863e1b3b-97ab-4680-897f-26dda8a215e1",
   "metadata": {},
   "outputs": [],
   "source": [
    "df = pd.read_csv(df_path, index_col = 0)"
   ]
  },
  {
   "cell_type": "code",
   "execution_count": 41,
   "id": "6459a60d-beba-4117-9760-ef78a2ead09a",
   "metadata": {},
   "outputs": [
    {
     "data": {
      "text/plain": [
       "array(['Aaliyah', 'Beyoncé', 'Britney Spears', 'Carly Rae Jepsen',\n",
       "       'Charli XCX', 'Dua Lipa', 'Madonna', 'Michael Jackson',\n",
       "       'Olivia Rodrigo', 'Taylor Swift', '2Pac', 'A Tribe Called Quest',\n",
       "       'Eminem', 'Ice Cube', 'JAY-Z', 'Kanye West', 'Kendrick Lamar',\n",
       "       'MF DOOM', 'Nas', 'Yasiin Bey', 'Black Sabbath', 'Deep Purple',\n",
       "       'Foo Fighters', 'Fugazi', 'Led Zeppelin', 'Nirvana',\n",
       "       'Queens of the Stone Age', 'The Rolling Stones', 'The Strokes',\n",
       "       'The White Stripes', 'Al Green', 'Aretha Franklin',\n",
       "       'Clarence Carter', 'Curtis Mayfield', 'Marvin Gaye',\n",
       "       'Minnie Riperton', 'Nina Simone', 'Otis Redding', 'Sam Cooke',\n",
       "       'Stevie Wonder'], dtype=object)"
      ]
     },
     "execution_count": 41,
     "metadata": {},
     "output_type": "execute_result"
    }
   ],
   "source": [
    "df['Artist'].unique()"
   ]
  },
  {
   "cell_type": "code",
   "execution_count": 44,
   "id": "793f7373-9f38-47f6-b020-016ec4909e4d",
   "metadata": {
    "scrolled": true
   },
   "outputs": [],
   "source": [
    "test_df = df[(df['Artist'] == 'Aaliyah') | (df['Artist'] == 'Nirvana')]"
   ]
  },
  {
   "cell_type": "code",
   "execution_count": 45,
   "id": "a273ce39-33dd-4ef4-9093-9d44adef266f",
   "metadata": {},
   "outputs": [],
   "source": [
    "sample_sentences = list(test_df['Song Lyrics'].str.lower())"
   ]
  },
  {
   "cell_type": "code",
   "execution_count": 46,
   "id": "0f3b08f1-1747-43d0-9dab-5c08c9e37463",
   "metadata": {},
   "outputs": [],
   "source": [
    "sample_sentence_embeddings = sbert_model.encode(sample_sentences)"
   ]
  },
  {
   "cell_type": "code",
   "execution_count": 47,
   "id": "1fd30623-6ff0-4f8d-9583-7536d8e7553b",
   "metadata": {},
   "outputs": [
    {
     "data": {
      "text/plain": [
       "(40, 768)"
      ]
     },
     "execution_count": 47,
     "metadata": {},
     "output_type": "execute_result"
    }
   ],
   "source": [
    "sample_sentence_embeddings.shape"
   ]
  },
  {
   "cell_type": "code",
   "execution_count": 16,
   "id": "0d004436-7e5f-4370-845c-0d176f520886",
   "metadata": {},
   "outputs": [],
   "source": [
    "from sklearn.manifold import TSNE"
   ]
  },
  {
   "cell_type": "code",
   "execution_count": 48,
   "id": "a9e7d27f-fcd7-4900-95df-37bb5868f89b",
   "metadata": {},
   "outputs": [],
   "source": [
    "tsne = TSNE(random_state=1, n_iter=1000, metric=\"cosine\", perplexity = 10)"
   ]
  },
  {
   "cell_type": "code",
   "execution_count": 49,
   "id": "b54634d4-51ae-4d13-bd32-80dc44511a57",
   "metadata": {},
   "outputs": [],
   "source": [
    "tsne_embd = tsne.fit_transform(sample_sentence_embeddings)"
   ]
  },
  {
   "cell_type": "code",
   "execution_count": 50,
   "id": "b8522f5f-0036-4628-8dcd-71c675e8f282",
   "metadata": {},
   "outputs": [],
   "source": [
    "tsne_df = pd.DataFrame(columns=['x', 'y'])"
   ]
  },
  {
   "cell_type": "code",
   "execution_count": 51,
   "id": "03675065-d974-483d-b9a0-edacea83ef43",
   "metadata": {},
   "outputs": [],
   "source": [
    "tsne_df['x'] = tsne_embd[:, 0]\n",
    "tsne_df['y'] = tsne_embd[:, 1]"
   ]
  },
  {
   "cell_type": "code",
   "execution_count": 52,
   "id": "b8600b7b-1877-4e55-ab0f-aea382aa8b91",
   "metadata": {},
   "outputs": [
    {
     "data": {
      "text/plain": [
       "array([[-5.7948604,  2.7605186],\n",
       "       [ 4.7458453,  3.3323689],\n",
       "       [ 5.0397363,  2.9182332],\n",
       "       [ 1.5973285, -1.6567488],\n",
       "       [ 5.283419 , -1.3855382]], dtype=float32)"
      ]
     },
     "execution_count": 52,
     "metadata": {},
     "output_type": "execute_result"
    }
   ],
   "source": [
    "tsne_embd[:5]"
   ]
  },
  {
   "cell_type": "code",
   "execution_count": 28,
   "id": "ef577c08-1de5-4e03-91ce-c18d2da4dba5",
   "metadata": {},
   "outputs": [],
   "source": [
    "import matplotlib.pyplot as plt"
   ]
  },
  {
   "cell_type": "code",
   "execution_count": 53,
   "id": "653a3635-d32b-438b-a95d-75681def30c7",
   "metadata": {},
   "outputs": [
    {
     "data": {
      "image/png": "[encoded data removed]",
      "text/plain": [
       "<Figure size 1000x800 with 1 Axes>"
      ]
     },
     "metadata": {},
     "output_type": "display_data"
    }
   ],
   "source": [
    "FS = (10, 8)\n",
    "fig, ax = plt.subplots(figsize=FS)\n",
    "# Make points translucent so we can visually identify regions with a high density of overlapping points\n",
    "ax.scatter(tsne_df.x, tsne_df.y, alpha=.5);"
   ]
  },
  {
   "cell_type": "markdown",
   "id": "56377eb7-19ed-4278-a121-1a862083559b",
   "metadata": {},
   "source": [
    "dodawanie slow/tytulwo - dla kazdego slowa (tam) generowane / dobierane\n",
    "\n",
    "tutaj mozemy osobno generowac dla kazdego artysty / odbierac z wszystkich i kolorowac zaleznie od niego albo cos\n",
    "\n",
    "https://www.himandthyme.com/understanding-and-visualizing-word-embeddings-with-glove-and-word2vec/"
   ]
  },
  {
   "cell_type": "markdown",
   "id": "8b28e94d-52f2-4783-aa0b-6e718503aad3",
   "metadata": {},
   "source": [
    "kod:\n",
    "```\n",
    "import matplotlib.pyplot as plt\r\n",
    "from sklearn.manifold import TSNE\r\n",
    "\r\n",
    "def visualize_embeddings(embeddings, words):\r\n",
    "    tsne = TSNE(n_components=2, random_state=0, perplexity=len(words)-1)\r\n",
    "    embedding_vectors = np.array([embeddings[word] for word in words])\r\n",
    "    two_d_embeddings = tsne.fit_transform(embedding_vectors)\r\n",
    "\r\n",
    "    plt.figure(figsize=(8, 8))\r\n",
    "    for i, word in enumerate(words):\r\n",
    "        x, y = two_d_embeddings[i, :]\r\n",
    "        plt.scatter(x, y)\r\n",
    "        plt.annotate(word, (x, y), xytext=(5, 2), textcoords=\"offset points\", ha=\"right\", va=\"bottom\")\r\n",
    "    plt.show()\r\n",
    "\r\n",
    "# For GloVe\r\n",
    "glove_words = [word for word in preprocessed_tokens if word in glove_embeddings]\r\n",
    "visualize_embeddings(glove_embeddings, glove_words)\r\n",
    "\r\n",
    "# For Word2Vec\r\n",
    "word2vec_words = model.wv.index_to_key\r\n",
    "visualize_embeddings(mode\n",
    "```l.wv, word2vec_words)"
   ]
  },
  {
   "cell_type": "code",
   "execution_count": 55,
   "id": "aa6cd9b2-07e6-4eb7-8408-b35b7d42b097",
   "metadata": {},
   "outputs": [
    {
     "data": {
      "text/plain": [
       "(40, 2)"
      ]
     },
     "execution_count": 55,
     "metadata": {},
     "output_type": "execute_result"
    }
   ],
   "source": [
    "tsne_embd.shape"
   ]
  },
  {
   "cell_type": "markdown",
   "id": "fabd23c7-0d99-413e-a926-bbe7ab42669b",
   "metadata": {},
   "source": [
    "### Try to generate embeddings for whole artist corpuses"
   ]
  },
  {
   "cell_type": "code",
   "execution_count": 74,
   "id": "a54316a1-2749-4884-b505-370fafcdb507",
   "metadata": {},
   "outputs": [],
   "source": [
    "artists = list(df['Artist'].unique())"
   ]
  },
  {
   "cell_type": "code",
   "execution_count": 75,
   "id": "a038127f-99d0-4adf-9e71-3ba442cc47ce",
   "metadata": {
    "scrolled": true
   },
   "outputs": [
    {
     "data": {
      "text/plain": [
       "['Aaliyah',\n",
       " 'Beyoncé',\n",
       " 'Britney Spears',\n",
       " 'Carly Rae Jepsen',\n",
       " 'Charli XCX',\n",
       " 'Dua Lipa',\n",
       " 'Madonna',\n",
       " 'Michael Jackson',\n",
       " 'Olivia Rodrigo',\n",
       " 'Taylor Swift',\n",
       " '2Pac',\n",
       " 'A Tribe Called Quest',\n",
       " 'Eminem',\n",
       " 'Ice Cube',\n",
       " 'JAY-Z',\n",
       " 'Kanye West',\n",
       " 'Kendrick Lamar',\n",
       " 'MF DOOM',\n",
       " 'Nas',\n",
       " 'Yasiin Bey',\n",
       " 'Black Sabbath',\n",
       " 'Deep Purple',\n",
       " 'Foo Fighters',\n",
       " 'Fugazi',\n",
       " 'Led Zeppelin',\n",
       " 'Nirvana',\n",
       " 'Queens of the Stone Age',\n",
       " 'The Rolling Stones',\n",
       " 'The Strokes',\n",
       " 'The White Stripes',\n",
       " 'Al Green',\n",
       " 'Aretha Franklin',\n",
       " 'Clarence Carter',\n",
       " 'Curtis Mayfield',\n",
       " 'Marvin Gaye',\n",
       " 'Minnie Riperton',\n",
       " 'Nina Simone',\n",
       " 'Otis Redding',\n",
       " 'Sam Cooke',\n",
       " 'Stevie Wonder']"
      ]
     },
     "execution_count": 75,
     "metadata": {},
     "output_type": "execute_result"
    }
   ],
   "source": [
    "artists"
   ]
  },
  {
   "cell_type": "markdown",
   "id": "24e958eb-66c1-463b-af49-4d6e91d44e5c",
   "metadata": {},
   "source": [
    "#### Save Artists with their summed lyrics to a separate df file for ease of use"
   ]
  },
  {
   "cell_type": "code",
   "execution_count": 76,
   "id": "21bb7de5-1746-4ee7-9a68-232540dcbfca",
   "metadata": {},
   "outputs": [],
   "source": [
    "all_lyrics_df = pd.DataFrame(columns = ['Artist', 'all_lyrics', 'genre', 'gender'])\n",
    "\n",
    "for artist in artists:\n",
    "    artist_df = df[df['Artist'] == artist]\n",
    "    artist_lyrics = ' '.join(artist_df['Song Lyrics'].str.lower())\n",
    "    artist_df = artist_df.reset_index()\n",
    "    # print(artist_df.index)\n",
    "    genre = artist_df['genre'][0]\n",
    "    gender = artist_df['gender'][0]\n",
    "\n",
    "    new_row = {\n",
    "        'Artist': artist,\n",
    "        'all_lyrics': artist_lyrics,\n",
    "        'genre': genre,\n",
    "        'gender': gender\n",
    "    }\n",
    "\n",
    "    new_row_df = pd.DataFrame([new_row])\n",
    "    all_lyrics_df = pd.concat([all_lyrics_df, new_row_df])\n",
    "    "
   ]
  },
  {
   "cell_type": "code",
   "execution_count": 80,
   "id": "adea381b-e9ad-4643-acb1-5c9fccbe37cd",
   "metadata": {},
   "outputs": [],
   "source": [
    "all_lyrics_df.to_csv('dataframes/lyrics_combined.csv')"
   ]
  },
  {
   "cell_type": "code",
   "execution_count": null,
   "id": "221ab31a-a249-4600-a152-dfa4e5592508",
   "metadata": {},
   "outputs": [],
   "source": []
  },
  {
   "cell_type": "markdown",
   "id": "e07b9835-12f7-4f1b-b4ba-4715a3930a17",
   "metadata": {},
   "source": [
    "### ========== fixing the dataframe with counts by adding extra metadata about artists from cleaned_combined ========="
   ]
  },
  {
   "cell_type": "code",
   "execution_count": 62,
   "id": "b10a9fd7-11a6-48d1-8a27-400065178877",
   "metadata": {},
   "outputs": [],
   "source": [
    "clean_path = 'dataframes/genres/cleaned_combined.csv'"
   ]
  },
  {
   "cell_type": "code",
   "execution_count": 63,
   "id": "8ff2f343-0fb1-4131-8504-92825b068e80",
   "metadata": {},
   "outputs": [],
   "source": [
    "clean_df = pd.read_csv(clean_path, index_col=0)"
   ]
  },
  {
   "cell_type": "code",
   "execution_count": 64,
   "id": "13e61381-8c5f-4344-9c7b-03be92fd78d0",
   "metadata": {},
   "outputs": [],
   "source": [
    "counts_path = 'dataframes/with_counts/combined_count.csv'"
   ]
  },
  {
   "cell_type": "code",
   "execution_count": 65,
   "id": "b54d6312-4e46-44ac-8fc4-aa47af02301f",
   "metadata": {},
   "outputs": [],
   "source": [
    "counts_df = pd.read_csv(counts_path, index_col=0)"
   ]
  },
  {
   "cell_type": "code",
   "execution_count": 66,
   "id": "14424e98-a5d8-4d48-a9e5-fc7d76cee77e",
   "metadata": {},
   "outputs": [],
   "source": [
    "counts_df['genre'] = clean_df['genre']\n",
    "counts_df['gender'] = clean_df['gender']"
   ]
  },
  {
   "cell_type": "code",
   "execution_count": 67,
   "id": "ca5383da-627d-4a9a-a7cd-8794f85209f9",
   "metadata": {},
   "outputs": [],
   "source": [
    "counts_df.to_csv(counts_path)"
   ]
  }
 ],
 "metadata": {
  "kernelspec": {
   "display_name": "data_venv",
   "language": "python",
   "name": "data_venv"
  },
  "language_info": {
   "codemirror_mode": {
    "name": "ipython",
    "version": 3
   },
   "file_extension": ".py",
   "mimetype": "text/x-python",
   "name": "python",
   "nbconvert_exporter": "python",
   "pygments_lexer": "ipython3",
   "version": "3.10.9"
  }
 },
 "nbformat": 4,
 "nbformat_minor": 5
}
