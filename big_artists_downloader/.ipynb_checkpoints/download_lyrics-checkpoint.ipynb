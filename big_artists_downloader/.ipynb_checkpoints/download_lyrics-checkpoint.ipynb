{
 "cells": [
  {
   "cell_type": "markdown",
   "id": "201b9c48-b454-4402-a410-a1a01c0c8f45",
   "metadata": {},
   "source": [
    "## Download lyrics for specified list of artists\n",
    "with each artist list specified by name  \n",
    "\n",
    "Uses lyricsgenius package, which wraps around the genius.com API, therefore you need to create a developer account on the site and supply your public access token\n",
    "\n",
    "currently the results are saved as a json file to the folder the script is in\n",
    "\n",
    "FIX: "
   ]
  },
  {
   "cell_type": "code",
   "execution_count": 27,
   "id": "e213ca04-cba1-488e-abfc-835eedc50647",
   "metadata": {},
   "outputs": [],
   "source": [
    "from lyricsgenius import Genius"
   ]
  },
  {
   "cell_type": "code",
   "execution_count": 28,
   "id": "969db58d-ea2c-4590-b387-8655d130c13f",
   "metadata": {},
   "outputs": [],
   "source": [
    "token = \"b9lZQWs8rZ0Jhcd1rA9MWGmm5cQdvMCWnsdn7LvIjNYf_9tN2qreQmsJnCcOT9ap\""
   ]
  },
  {
   "cell_type": "code",
   "execution_count": 36,
   "id": "2b03d75a-578b-443f-b942-8ceb0e397c08",
   "metadata": {},
   "outputs": [],
   "source": [
    "artist_names = [\n",
    "    'a tribe called quest',\n",
    "    'mos def'\n",
    "]"
   ]
  },
  {
   "cell_type": "code",
   "execution_count": 32,
   "id": "2c9427be-eae7-431f-87b1-27e40d0e3c91",
   "metadata": {},
   "outputs": [],
   "source": [
    "max_songs = 20\n",
    "sort_by = 'popularity'\n",
    "excluded_terms = [\"(Remix)\", \"(Live)\", \"(Instrumental)\"]"
   ]
  },
  {
   "cell_type": "code",
   "execution_count": 33,
   "id": "16c0fff8-d256-4763-abfa-cfdf075abf68",
   "metadata": {},
   "outputs": [],
   "source": [
    "genius = Genius(token)\n",
    "\n",
    "# Turn off status messages\n",
    "genius.verbose = True\n",
    "\n",
    "# Remove section headers (e.g. [Chorus]) from lyrics when searching\n",
    "genius.remove_section_headers = True\n",
    "\n",
    "genius.skip_non_songs = True\n",
    "\n",
    "# Exclude songs with these words in their title\n",
    "genius.excluded_terms = excluded_terms\n",
    "\n",
    "genius.retries = 5"
   ]
  },
  {
   "cell_type": "code",
   "execution_count": null,
   "id": "9365b0cb-5989-4609-b96e-cf2181ab9f57",
   "metadata": {
    "scrolled": true
   },
   "outputs": [],
   "source": [
    "# artist_objects = [genius.search_artist(name, max_songs=max_songs) for name in artist_names]"
   ]
  },
  {
   "cell_type": "code",
   "execution_count": 37,
   "id": "de5b5baf-1a29-43ea-a71d-cf4e56d9f32a",
   "metadata": {},
   "outputs": [
    {
     "name": "stdout",
     "output_type": "stream",
     "text": [
      "Searching for songs by a tribe called quest...\n",
      "\n",
      "Changing artist name to 'A Tribe Called Quest'\n",
      "Song 1: \"Electric Relaxation\"\n",
      "Song 2: \"We the People....\"\n",
      "Song 3: \"Scenario\"\n",
      "Song 4: \"Can I Kick It?\"\n",
      "Song 5: \"Check the Rhime\"\n",
      "Song 6: \"Buggin’ Out\"\n",
      "Song 7: \"Bonita Applebum\"\n",
      "Song 8: \"Jazz (We’ve Got)\"\n",
      "Song 9: \"The Space Program\"\n",
      "Song 10: \"Award Tour\"\n",
      "Song 11: \"Excursions\"\n",
      "Song 12: \"Conrad Tokyo\"\n",
      "Song 13: \"Dis Generation\"\n",
      "Song 14: \"Hot Sex\"\n",
      "Song 15: \"The Donald\"\n",
      "Song 16: \"Find a Way\"\n",
      "Song 17: \"Kids...\"\n",
      "Song 18: \"Oh My God\"\n",
      "Song 19: \"Solid Wall of Sound\"\n",
      "Song 20: \"Butter\"\n",
      "\n",
      "Reached user-specified song limit (20).\n",
      "Done. Found 20 songs.\n",
      "Searching for songs by mos def...\n",
      "\n",
      "Changing artist name to 'Yasiin Bey'\n",
      "Song 1: \"Mathematics\"\n",
      "Song 2: \"Ms. Fat Booty\"\n",
      "Song 3: \"Auditorium\"\n",
      "\"Six Days (Remix)\" is not valid. Skipping.\n",
      "Song 4: \"Hip Hop\"\n",
      "Song 5: \"UMI Says\"\n",
      "Song 6: \"I’m Leaving\"\n",
      "Song 7: \"Fear Not of Man\"\n",
      "Song 8: \"Oh No!\"\n",
      "Song 9: \"Mr. Nigga\"\n",
      "Song 10: \"Brooklyn\"\n",
      "Song 11: \"Love\"\n",
      "\"Get By (Remix)\" is not valid. Skipping.\n",
      "Song 12: \"Speed Law\"\n",
      "Song 13: \"Sunshine\"\n",
      "Song 14: \"New World Water\"\n",
      "Song 15: \"Niggas In Poorest\"\n",
      "Song 16: \"Rock N Roll\"\n",
      "Song 17: \"Do It Now\"\n",
      "Song 18: \"Quiet Dog Bite Hard\"\n",
      "\"7 Days (DJ Premier Remix)\" is not valid. Skipping.\n",
      "Song 19: \"Know That\"\n",
      "Song 20: \"History\"\n",
      "\n",
      "Reached user-specified song limit (20).\n",
      "Done. Found 20 songs.\n"
     ]
    }
   ],
   "source": [
    "artist_objects = []\n",
    "for name in artist_names:\n",
    "    try:\n",
    "        artist_obj = genius.search_artist(name, max_songs=max_songs)\n",
    "        artist_objects.append(artist_obj)\n",
    "    except:\n",
    "        pass"
   ]
  },
  {
   "cell_type": "code",
   "execution_count": 39,
   "id": "6e74ac92-93d7-4de0-a004-a3766df79061",
   "metadata": {},
   "outputs": [
    {
     "name": "stdout",
     "output_type": "stream",
     "text": [
      "tmp_lyrics\\tmp_0_ATribeCalledQuest\n",
      "Wrote Lyrics_ATribeCalledQuest.json.\n",
      "tmp_lyrics\\tmp_1_YasiinBey\n",
      "Wrote Lyrics_YasiinBey.json.\n",
      "Time elapsed: 2.1298395262824165e-05 hours\n"
     ]
    }
   ],
   "source": [
    "genius.save_artists(artist_objects, overwrite=True)"
   ]
  }
 ],
 "metadata": {
  "kernelspec": {
   "display_name": "data_venv",
   "language": "python",
   "name": "data_venv"
  },
  "language_info": {
   "codemirror_mode": {
    "name": "ipython",
    "version": 3
   },
   "file_extension": ".py",
   "mimetype": "text/x-python",
   "name": "python",
   "nbconvert_exporter": "python",
   "pygments_lexer": "ipython3",
   "version": "3.10.9"
  }
 },
 "nbformat": 4,
 "nbformat_minor": 5
}
