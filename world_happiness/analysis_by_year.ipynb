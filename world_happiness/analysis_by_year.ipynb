{
 "cells": [
  {
   "cell_type": "markdown",
   "id": "c880c777-ce07-4e36-8098-3b6eb507cc9a",
   "metadata": {},
   "source": [
    "# World happiness data across years"
   ]
  },
  {
   "cell_type": "code",
   "execution_count": 18,
   "id": "2f31cb10-bebb-4547-b168-11c9224e68aa",
   "metadata": {},
   "outputs": [],
   "source": [
    "import pandas as pd\n",
    "import plotly.express as px\n",
    "import plotly.graph_objects as go\n",
    "from plotly.subplots import make_subplots"
   ]
  },
  {
   "cell_type": "code",
   "execution_count": 19,
   "id": "20de31b4-3b92-4324-9593-251d38d9b36c",
   "metadata": {},
   "outputs": [],
   "source": [
    "from dash import Dash, html, dcc, callback, Output, Input\n",
    "import dash_bootstrap_components as dbc"
   ]
  },
  {
   "cell_type": "markdown",
   "id": "c051021a-6642-4b02-b23f-256288db3a9e",
   "metadata": {
    "jp-MarkdownHeadingCollapsed": true
   },
   "source": [
    "### Dataframe explorations"
   ]
  },
  {
   "cell_type": "code",
   "execution_count": 5,
   "id": "bf560055-8e98-47ef-89c5-9686196acc7b",
   "metadata": {},
   "outputs": [],
   "source": [
    "df_05_to_20 = pd.read_csv('datafiles/world-happiness-report-2005-2020.csv')"
   ]
  },
  {
   "cell_type": "code",
   "execution_count": 6,
   "id": "18f22688-7997-4b2a-b2d5-03fb0cdd8fa8",
   "metadata": {
    "scrolled": true
   },
   "outputs": [
    {
     "data": {
      "text/html": [
       "<div>\n",
       "<style scoped>\n",
       "    .dataframe tbody tr th:only-of-type {\n",
       "        vertical-align: middle;\n",
       "    }\n",
       "\n",
       "    .dataframe tbody tr th {\n",
       "        vertical-align: top;\n",
       "    }\n",
       "\n",
       "    .dataframe thead th {\n",
       "        text-align: right;\n",
       "    }\n",
       "</style>\n",
       "<table border=\"1\" class=\"dataframe\">\n",
       "  <thead>\n",
       "    <tr style=\"text-align: right;\">\n",
       "      <th></th>\n",
       "      <th>Country name</th>\n",
       "      <th>year</th>\n",
       "      <th>Life Ladder</th>\n",
       "      <th>Log GDP per capita</th>\n",
       "      <th>Social support</th>\n",
       "      <th>Healthy life expectancy at birth</th>\n",
       "      <th>Freedom to make life choices</th>\n",
       "      <th>Generosity</th>\n",
       "      <th>Perceptions of corruption</th>\n",
       "      <th>Positive affect</th>\n",
       "      <th>Negative affect</th>\n",
       "    </tr>\n",
       "  </thead>\n",
       "  <tbody>\n",
       "    <tr>\n",
       "      <th>0</th>\n",
       "      <td>Afghanistan</td>\n",
       "      <td>2008</td>\n",
       "      <td>3.724</td>\n",
       "      <td>7.370</td>\n",
       "      <td>0.451</td>\n",
       "      <td>50.80</td>\n",
       "      <td>0.718</td>\n",
       "      <td>0.168</td>\n",
       "      <td>0.882</td>\n",
       "      <td>0.518</td>\n",
       "      <td>0.258</td>\n",
       "    </tr>\n",
       "    <tr>\n",
       "      <th>1</th>\n",
       "      <td>Afghanistan</td>\n",
       "      <td>2009</td>\n",
       "      <td>4.402</td>\n",
       "      <td>7.540</td>\n",
       "      <td>0.552</td>\n",
       "      <td>51.20</td>\n",
       "      <td>0.679</td>\n",
       "      <td>0.190</td>\n",
       "      <td>0.850</td>\n",
       "      <td>0.584</td>\n",
       "      <td>0.237</td>\n",
       "    </tr>\n",
       "    <tr>\n",
       "      <th>2</th>\n",
       "      <td>Afghanistan</td>\n",
       "      <td>2010</td>\n",
       "      <td>4.758</td>\n",
       "      <td>7.647</td>\n",
       "      <td>0.539</td>\n",
       "      <td>51.60</td>\n",
       "      <td>0.600</td>\n",
       "      <td>0.121</td>\n",
       "      <td>0.707</td>\n",
       "      <td>0.618</td>\n",
       "      <td>0.275</td>\n",
       "    </tr>\n",
       "    <tr>\n",
       "      <th>3</th>\n",
       "      <td>Afghanistan</td>\n",
       "      <td>2011</td>\n",
       "      <td>3.832</td>\n",
       "      <td>7.620</td>\n",
       "      <td>0.521</td>\n",
       "      <td>51.92</td>\n",
       "      <td>0.496</td>\n",
       "      <td>0.162</td>\n",
       "      <td>0.731</td>\n",
       "      <td>0.611</td>\n",
       "      <td>0.267</td>\n",
       "    </tr>\n",
       "    <tr>\n",
       "      <th>4</th>\n",
       "      <td>Afghanistan</td>\n",
       "      <td>2012</td>\n",
       "      <td>3.783</td>\n",
       "      <td>7.705</td>\n",
       "      <td>0.521</td>\n",
       "      <td>52.24</td>\n",
       "      <td>0.531</td>\n",
       "      <td>0.236</td>\n",
       "      <td>0.776</td>\n",
       "      <td>0.710</td>\n",
       "      <td>0.268</td>\n",
       "    </tr>\n",
       "    <tr>\n",
       "      <th>...</th>\n",
       "      <td>...</td>\n",
       "      <td>...</td>\n",
       "      <td>...</td>\n",
       "      <td>...</td>\n",
       "      <td>...</td>\n",
       "      <td>...</td>\n",
       "      <td>...</td>\n",
       "      <td>...</td>\n",
       "      <td>...</td>\n",
       "      <td>...</td>\n",
       "      <td>...</td>\n",
       "    </tr>\n",
       "    <tr>\n",
       "      <th>1944</th>\n",
       "      <td>Zimbabwe</td>\n",
       "      <td>2016</td>\n",
       "      <td>3.735</td>\n",
       "      <td>7.984</td>\n",
       "      <td>0.768</td>\n",
       "      <td>54.40</td>\n",
       "      <td>0.733</td>\n",
       "      <td>-0.095</td>\n",
       "      <td>0.724</td>\n",
       "      <td>0.738</td>\n",
       "      <td>0.209</td>\n",
       "    </tr>\n",
       "    <tr>\n",
       "      <th>1945</th>\n",
       "      <td>Zimbabwe</td>\n",
       "      <td>2017</td>\n",
       "      <td>3.638</td>\n",
       "      <td>8.016</td>\n",
       "      <td>0.754</td>\n",
       "      <td>55.00</td>\n",
       "      <td>0.753</td>\n",
       "      <td>-0.098</td>\n",
       "      <td>0.751</td>\n",
       "      <td>0.806</td>\n",
       "      <td>0.224</td>\n",
       "    </tr>\n",
       "    <tr>\n",
       "      <th>1946</th>\n",
       "      <td>Zimbabwe</td>\n",
       "      <td>2018</td>\n",
       "      <td>3.616</td>\n",
       "      <td>8.049</td>\n",
       "      <td>0.775</td>\n",
       "      <td>55.60</td>\n",
       "      <td>0.763</td>\n",
       "      <td>-0.068</td>\n",
       "      <td>0.844</td>\n",
       "      <td>0.710</td>\n",
       "      <td>0.212</td>\n",
       "    </tr>\n",
       "    <tr>\n",
       "      <th>1947</th>\n",
       "      <td>Zimbabwe</td>\n",
       "      <td>2019</td>\n",
       "      <td>2.694</td>\n",
       "      <td>7.950</td>\n",
       "      <td>0.759</td>\n",
       "      <td>56.20</td>\n",
       "      <td>0.632</td>\n",
       "      <td>-0.064</td>\n",
       "      <td>0.831</td>\n",
       "      <td>0.716</td>\n",
       "      <td>0.235</td>\n",
       "    </tr>\n",
       "    <tr>\n",
       "      <th>1948</th>\n",
       "      <td>Zimbabwe</td>\n",
       "      <td>2020</td>\n",
       "      <td>3.160</td>\n",
       "      <td>7.829</td>\n",
       "      <td>0.717</td>\n",
       "      <td>56.80</td>\n",
       "      <td>0.643</td>\n",
       "      <td>-0.009</td>\n",
       "      <td>0.789</td>\n",
       "      <td>0.703</td>\n",
       "      <td>0.346</td>\n",
       "    </tr>\n",
       "  </tbody>\n",
       "</table>\n",
       "<p>1949 rows × 11 columns</p>\n",
       "</div>"
      ],
      "text/plain": [
       "     Country name  year  Life Ladder  Log GDP per capita  Social support  \\\n",
       "0     Afghanistan  2008        3.724               7.370           0.451   \n",
       "1     Afghanistan  2009        4.402               7.540           0.552   \n",
       "2     Afghanistan  2010        4.758               7.647           0.539   \n",
       "3     Afghanistan  2011        3.832               7.620           0.521   \n",
       "4     Afghanistan  2012        3.783               7.705           0.521   \n",
       "...           ...   ...          ...                 ...             ...   \n",
       "1944     Zimbabwe  2016        3.735               7.984           0.768   \n",
       "1945     Zimbabwe  2017        3.638               8.016           0.754   \n",
       "1946     Zimbabwe  2018        3.616               8.049           0.775   \n",
       "1947     Zimbabwe  2019        2.694               7.950           0.759   \n",
       "1948     Zimbabwe  2020        3.160               7.829           0.717   \n",
       "\n",
       "      Healthy life expectancy at birth  Freedom to make life choices  \\\n",
       "0                                50.80                         0.718   \n",
       "1                                51.20                         0.679   \n",
       "2                                51.60                         0.600   \n",
       "3                                51.92                         0.496   \n",
       "4                                52.24                         0.531   \n",
       "...                                ...                           ...   \n",
       "1944                             54.40                         0.733   \n",
       "1945                             55.00                         0.753   \n",
       "1946                             55.60                         0.763   \n",
       "1947                             56.20                         0.632   \n",
       "1948                             56.80                         0.643   \n",
       "\n",
       "      Generosity  Perceptions of corruption  Positive affect  Negative affect  \n",
       "0          0.168                      0.882            0.518            0.258  \n",
       "1          0.190                      0.850            0.584            0.237  \n",
       "2          0.121                      0.707            0.618            0.275  \n",
       "3          0.162                      0.731            0.611            0.267  \n",
       "4          0.236                      0.776            0.710            0.268  \n",
       "...          ...                        ...              ...              ...  \n",
       "1944      -0.095                      0.724            0.738            0.209  \n",
       "1945      -0.098                      0.751            0.806            0.224  \n",
       "1946      -0.068                      0.844            0.710            0.212  \n",
       "1947      -0.064                      0.831            0.716            0.235  \n",
       "1948      -0.009                      0.789            0.703            0.346  \n",
       "\n",
       "[1949 rows x 11 columns]"
      ]
     },
     "execution_count": 6,
     "metadata": {},
     "output_type": "execute_result"
    }
   ],
   "source": [
    "df_05_to_20"
   ]
  },
  {
   "cell_type": "code",
   "execution_count": 7,
   "id": "7786353b-cdfb-44b2-96bf-10c003716946",
   "metadata": {},
   "outputs": [
    {
     "data": {
      "text/plain": [
       "166"
      ]
     },
     "execution_count": 7,
     "metadata": {},
     "output_type": "execute_result"
    }
   ],
   "source": [
    "len(df_05_to_20['Country name'].unique())"
   ]
  },
  {
   "cell_type": "code",
   "execution_count": 8,
   "id": "5671506a-5430-4c0e-84dc-e0f63aadab76",
   "metadata": {},
   "outputs": [],
   "source": [
    "df_2021 = pd.read_csv('datafiles/world-happiness-report-2021.csv')"
   ]
  },
  {
   "cell_type": "code",
   "execution_count": 9,
   "id": "64c8c043-4af5-483a-a73c-62df4cec293c",
   "metadata": {},
   "outputs": [],
   "source": [
    "df_2022 = pd.read_csv('datafiles/World Happiness Report 2022.csv')"
   ]
  },
  {
   "cell_type": "code",
   "execution_count": 10,
   "id": "e5241fb8-54fb-43d9-8567-0f348746b280",
   "metadata": {},
   "outputs": [],
   "source": [
    "df_2023 = pd.read_csv('datafiles/WHR2023.csv')"
   ]
  },
  {
   "cell_type": "code",
   "execution_count": 12,
   "id": "69cc5d4d-7609-4060-b51b-720760f11a92",
   "metadata": {},
   "outputs": [],
   "source": [
    "df_05_to_20_columns = df_05_to_20.columns\n",
    "df_2021_columns = df_2021.columns\n",
    "df_2022_columns = df_2022.columns\n",
    "df_2023_columns = df_2023.columns"
   ]
  },
  {
   "cell_type": "code",
   "execution_count": 13,
   "id": "f85245f0-3486-4116-aa32-38a6b7963144",
   "metadata": {},
   "outputs": [
    {
     "data": {
      "text/plain": [
       "Index(['Country name', 'year', 'Life Ladder', 'Log GDP per capita',\n",
       "       'Social support', 'Healthy life expectancy at birth',\n",
       "       'Freedom to make life choices', 'Generosity',\n",
       "       'Perceptions of corruption', 'Positive affect', 'Negative affect'],\n",
       "      dtype='object')"
      ]
     },
     "execution_count": 13,
     "metadata": {},
     "output_type": "execute_result"
    }
   ],
   "source": [
    "df_05_to_20_columns"
   ]
  },
  {
   "cell_type": "code",
   "execution_count": 14,
   "id": "2ca10496-23df-4335-a820-c11e0a3bacce",
   "metadata": {},
   "outputs": [
    {
     "data": {
      "text/plain": [
       "Index(['Country name', 'Regional indicator', 'Ladder score',\n",
       "       'Standard error of ladder score', 'upperwhisker', 'lowerwhisker',\n",
       "       'Logged GDP per capita', 'Social support', 'Healthy life expectancy',\n",
       "       'Freedom to make life choices', 'Generosity',\n",
       "       'Perceptions of corruption', 'Ladder score in Dystopia',\n",
       "       'Explained by: Log GDP per capita', 'Explained by: Social support',\n",
       "       'Explained by: Healthy life expectancy',\n",
       "       'Explained by: Freedom to make life choices',\n",
       "       'Explained by: Generosity', 'Explained by: Perceptions of corruption',\n",
       "       'Dystopia + residual'],\n",
       "      dtype='object')"
      ]
     },
     "execution_count": 14,
     "metadata": {},
     "output_type": "execute_result"
    }
   ],
   "source": [
    "df_2021_columns"
   ]
  },
  {
   "cell_type": "markdown",
   "id": "2c2acaeb-fc57-46bd-b067-ed39f1de0138",
   "metadata": {
    "jp-MarkdownHeadingCollapsed": true
   },
   "source": [
    "### Default dataframe: 2005 - 2022 with some nulls"
   ]
  },
  {
   "cell_type": "code",
   "execution_count": 62,
   "id": "a7a4bc02-b3dc-468c-8050-30abac0b2ba9",
   "metadata": {},
   "outputs": [],
   "source": [
    "df_05_22 = pd.read_csv('datafiles/regional20052022.csv')"
   ]
  },
  {
   "cell_type": "code",
   "execution_count": 16,
   "id": "91d97177-4ccb-40b9-a0fb-429f5a1c9f1c",
   "metadata": {},
   "outputs": [
    {
     "data": {
      "text/plain": [
       "165"
      ]
     },
     "execution_count": 16,
     "metadata": {},
     "output_type": "execute_result"
    }
   ],
   "source": [
    "len(df_05_22['Country Name'].unique())"
   ]
  },
  {
   "cell_type": "code",
   "execution_count": 17,
   "id": "4a69406b-a62a-4980-bfb6-841e8af02de6",
   "metadata": {
    "scrolled": true
   },
   "outputs": [
    {
     "data": {
      "text/plain": [
       "[2008,\n",
       " 2009,\n",
       " 2010,\n",
       " 2011,\n",
       " 2012,\n",
       " 2013,\n",
       " 2014,\n",
       " 2015,\n",
       " 2016,\n",
       " 2017,\n",
       " 2018,\n",
       " 2019,\n",
       " 2021,\n",
       " 2022,\n",
       " 2007,\n",
       " 2020,\n",
       " 2006,\n",
       " 2005]"
      ]
     },
     "execution_count": 17,
     "metadata": {},
     "output_type": "execute_result"
    }
   ],
   "source": [
    "list(df_05_22['Year'].unique())"
   ]
  },
  {
   "cell_type": "markdown",
   "id": "ae49f640-0c72-441f-993f-f531b435a055",
   "metadata": {
    "jp-MarkdownHeadingCollapsed": true
   },
   "source": [
    "### Default dataframe + 2023 (although lacking some data)"
   ]
  },
  {
   "cell_type": "code",
   "execution_count": 20,
   "id": "2ba3de27-f42e-400a-801c-86aa2b85a7e3",
   "metadata": {},
   "outputs": [
    {
     "data": {
      "text/plain": [
       "Index(['Country name', 'Ladder score', 'Standard error of ladder score',\n",
       "       'upperwhisker', 'lowerwhisker', 'Logged GDP per capita',\n",
       "       'Social support', 'Healthy life expectancy',\n",
       "       'Freedom to make life choices', 'Generosity',\n",
       "       'Perceptions of corruption', 'Ladder score in Dystopia',\n",
       "       'Explained by: Log GDP per capita', 'Explained by: Social support',\n",
       "       'Explained by: Healthy life expectancy',\n",
       "       'Explained by: Freedom to make life choices',\n",
       "       'Explained by: Generosity', 'Explained by: Perceptions of corruption',\n",
       "       'Dystopia + residual'],\n",
       "      dtype='object')"
      ]
     },
     "execution_count": 20,
     "metadata": {},
     "output_type": "execute_result"
    }
   ],
   "source": [
    "df_2023.columns"
   ]
  },
  {
   "cell_type": "code",
   "execution_count": 21,
   "id": "6619f47e-5468-4fc2-965d-e84980681831",
   "metadata": {},
   "outputs": [
    {
     "data": {
      "text/plain": [
       "Index(['Country Name', 'Regional Indicator', 'Year', 'Life Ladder',\n",
       "       'Log GDP Per Capita', 'Social Support',\n",
       "       'Healthy Life Expectancy At Birth', 'Freedom To Make Life Choices',\n",
       "       'Generosity', 'Perceptions Of Corruption', 'Positive Affect',\n",
       "       'Negative Affect', 'Confidence In National Government'],\n",
       "      dtype='object')"
      ]
     },
     "execution_count": 21,
     "metadata": {},
     "output_type": "execute_result"
    }
   ],
   "source": [
    "df_05_22.columns"
   ]
  },
  {
   "cell_type": "code",
   "execution_count": 32,
   "id": "6b85921b-041e-4491-97e8-f3511b7d69d5",
   "metadata": {},
   "outputs": [],
   "source": [
    "df_05_22_renamed = df_05_22.rename(columns={\n",
    "    'Country Name' : 'Country name',\n",
    "    'Life Ladder' : 'Ladder score',\n",
    "    'Log GDP Per Capita': 'Logged GDP per capita',\n",
    "    'Social Support': 'Social support',\n",
    "    'Healthy Life Expectancy At Birth': 'Healthy life expectancy',\n",
    "    'Freedom To Make Life Choices': 'Freedom to make life choices',\n",
    "    'Perceptions Of Corruption': 'Perceptions of corruption',\n",
    "})"
   ]
  },
  {
   "cell_type": "code",
   "execution_count": 28,
   "id": "e0b8d141-54f2-421f-8cd3-2226eaf28b15",
   "metadata": {},
   "outputs": [],
   "source": [
    "unified_columns = ['Country name', 'Ladder score', 'Logged GDP per capita',\n",
    "                  'Social support', 'Healthy life expectancy',\n",
    "                  'Freedom to make life choices', 'Perceptions of corruption', 'Year',\n",
    "                  'Regional Indicator']"
   ]
  },
  {
   "cell_type": "code",
   "execution_count": 26,
   "id": "4be74dd6-6f3a-47db-b9da-7f981bb5b30f",
   "metadata": {},
   "outputs": [],
   "source": [
    "combined_2023_df = pd.read_csv('datafiles/combined_df_2023.csv', index_col=0)"
   ]
  },
  {
   "cell_type": "code",
   "execution_count": 27,
   "id": "d751aa44-08b5-4166-81f1-18c4aad718f3",
   "metadata": {},
   "outputs": [
    {
     "data": {
      "text/plain": [
       "Index(['Country', 'Ladder score', 'Ladder score standard error',\n",
       "       'Ladder score upper whisker', 'Ladder score lower whisker',\n",
       "       'Logged GDP per capita', 'Social support', 'Life expectancy', 'Freedom',\n",
       "       'Generosity', 'Corruption perception', 'Political regime',\n",
       "       'Density (P/Km2)', 'Abbreviation', 'Agricultural Land( %)',\n",
       "       'Land Area(Km2)', 'Armed Forces size', 'Birth Rate', 'Co2-Emissions',\n",
       "       'CPI', 'CPI Change (%)', 'Fertility Rate', 'Forested Area (%)',\n",
       "       'Gasoline Price', 'GDP', 'Gross primary education enrollment (%)',\n",
       "       'Gross tertiary education enrollment (%)', 'Infant mortality',\n",
       "       'Maternal mortality ratio', 'Physicians per thousand', 'Population',\n",
       "       'Population: Labor force participation (%)', 'Tax revenue (%)',\n",
       "       'Unemployment rate', 'Urban_population', 'Latitude', 'Longitude',\n",
       "       'Regional Indicator', 'Starting a Business rank', 'Business days Men',\n",
       "       'Business days Women', 'Agriculture', 'Industry', 'Service',\n",
       "       'Literacy'],\n",
       "      dtype='object')"
      ]
     },
     "execution_count": 27,
     "metadata": {},
     "output_type": "execute_result"
    }
   ],
   "source": [
    "combined_2023_df.columns"
   ]
  },
  {
   "cell_type": "code",
   "execution_count": 29,
   "id": "7abf4f07-a3d0-4d3d-8d20-761de9c28496",
   "metadata": {},
   "outputs": [],
   "source": [
    "combined_2023_df['Year'] = 2023"
   ]
  },
  {
   "cell_type": "code",
   "execution_count": 41,
   "id": "29df7f63-a237-4e63-b81e-dd8a7338a6e4",
   "metadata": {},
   "outputs": [],
   "source": [
    "df_2023_renamed = combined_2023_df.rename(columns={\n",
    "    'Country' : 'Country name',\n",
    "    'Life expectancy': 'Healthy life expectancy',\n",
    "    'Freedom': 'Freedom to make life choices',\n",
    "    'Corruption perception': 'Perceptions of corruption',\n",
    "})"
   ]
  },
  {
   "cell_type": "code",
   "execution_count": 33,
   "id": "253c8f34-ad64-43cc-8ba5-729d253da4e3",
   "metadata": {},
   "outputs": [],
   "source": [
    "df_05_22_uni = df_05_22_renamed[[*unified_columns]]"
   ]
  },
  {
   "cell_type": "code",
   "execution_count": 42,
   "id": "30501b69-2a7e-42da-b419-ca3e74efbf95",
   "metadata": {},
   "outputs": [],
   "source": [
    "df_23_uni = df_2023_renamed[[*unified_columns]]"
   ]
  },
  {
   "cell_type": "code",
   "execution_count": 51,
   "id": "4a2397f0-3f45-415e-927e-9ca1c255c7c0",
   "metadata": {},
   "outputs": [],
   "source": [
    "df_05_23 = pd.concat([df_05_22_uni, df_23_uni], axis=0)"
   ]
  },
  {
   "cell_type": "code",
   "execution_count": 52,
   "id": "c1a45fb6-a9c8-48f0-9996-14575ff61255",
   "metadata": {},
   "outputs": [
    {
     "data": {
      "text/html": [
       "<div>\n",
       "<style scoped>\n",
       "    .dataframe tbody tr th:only-of-type {\n",
       "        vertical-align: middle;\n",
       "    }\n",
       "\n",
       "    .dataframe tbody tr th {\n",
       "        vertical-align: top;\n",
       "    }\n",
       "\n",
       "    .dataframe thead th {\n",
       "        text-align: right;\n",
       "    }\n",
       "</style>\n",
       "<table border=\"1\" class=\"dataframe\">\n",
       "  <thead>\n",
       "    <tr style=\"text-align: right;\">\n",
       "      <th></th>\n",
       "      <th>Country name</th>\n",
       "      <th>Ladder score</th>\n",
       "      <th>Logged GDP per capita</th>\n",
       "      <th>Social support</th>\n",
       "      <th>Healthy life expectancy</th>\n",
       "      <th>Freedom to make life choices</th>\n",
       "      <th>Perceptions of corruption</th>\n",
       "      <th>Year</th>\n",
       "      <th>Regional Indicator</th>\n",
       "    </tr>\n",
       "  </thead>\n",
       "  <tbody>\n",
       "    <tr>\n",
       "      <th>0</th>\n",
       "      <td>Afghanistan</td>\n",
       "      <td>3.723590</td>\n",
       "      <td>7.350416</td>\n",
       "      <td>0.450662</td>\n",
       "      <td>50.500000</td>\n",
       "      <td>0.718114</td>\n",
       "      <td>0.881686</td>\n",
       "      <td>2008</td>\n",
       "      <td>South Asia</td>\n",
       "    </tr>\n",
       "    <tr>\n",
       "      <th>1</th>\n",
       "      <td>Afghanistan</td>\n",
       "      <td>4.401778</td>\n",
       "      <td>7.508646</td>\n",
       "      <td>0.552308</td>\n",
       "      <td>50.799999</td>\n",
       "      <td>0.678896</td>\n",
       "      <td>0.850035</td>\n",
       "      <td>2009</td>\n",
       "      <td>South Asia</td>\n",
       "    </tr>\n",
       "    <tr>\n",
       "      <th>2</th>\n",
       "      <td>Afghanistan</td>\n",
       "      <td>4.758381</td>\n",
       "      <td>7.613900</td>\n",
       "      <td>0.539075</td>\n",
       "      <td>51.099998</td>\n",
       "      <td>0.600127</td>\n",
       "      <td>0.706766</td>\n",
       "      <td>2010</td>\n",
       "      <td>South Asia</td>\n",
       "    </tr>\n",
       "    <tr>\n",
       "      <th>3</th>\n",
       "      <td>Afghanistan</td>\n",
       "      <td>3.831719</td>\n",
       "      <td>7.581259</td>\n",
       "      <td>0.521104</td>\n",
       "      <td>51.400002</td>\n",
       "      <td>0.495901</td>\n",
       "      <td>0.731109</td>\n",
       "      <td>2011</td>\n",
       "      <td>South Asia</td>\n",
       "    </tr>\n",
       "    <tr>\n",
       "      <th>4</th>\n",
       "      <td>Afghanistan</td>\n",
       "      <td>3.782938</td>\n",
       "      <td>7.660506</td>\n",
       "      <td>0.520637</td>\n",
       "      <td>51.700001</td>\n",
       "      <td>0.530935</td>\n",
       "      <td>0.775620</td>\n",
       "      <td>2012</td>\n",
       "      <td>South Asia</td>\n",
       "    </tr>\n",
       "    <tr>\n",
       "      <th>...</th>\n",
       "      <td>...</td>\n",
       "      <td>...</td>\n",
       "      <td>...</td>\n",
       "      <td>...</td>\n",
       "      <td>...</td>\n",
       "      <td>...</td>\n",
       "      <td>...</td>\n",
       "      <td>...</td>\n",
       "      <td>...</td>\n",
       "    </tr>\n",
       "    <tr>\n",
       "      <th>132</th>\n",
       "      <td>Congo (Kinshasa)</td>\n",
       "      <td>3.207000</td>\n",
       "      <td>7.007000</td>\n",
       "      <td>0.652000</td>\n",
       "      <td>55.375000</td>\n",
       "      <td>0.664000</td>\n",
       "      <td>0.834000</td>\n",
       "      <td>2023</td>\n",
       "      <td>NaN</td>\n",
       "    </tr>\n",
       "    <tr>\n",
       "      <th>133</th>\n",
       "      <td>Zimbabwe</td>\n",
       "      <td>3.204000</td>\n",
       "      <td>7.641000</td>\n",
       "      <td>0.690000</td>\n",
       "      <td>54.050000</td>\n",
       "      <td>0.654000</td>\n",
       "      <td>0.766000</td>\n",
       "      <td>2023</td>\n",
       "      <td>Sub-Saharan Africa</td>\n",
       "    </tr>\n",
       "    <tr>\n",
       "      <th>134</th>\n",
       "      <td>Sierra Leone</td>\n",
       "      <td>3.138000</td>\n",
       "      <td>7.394000</td>\n",
       "      <td>0.555000</td>\n",
       "      <td>54.900000</td>\n",
       "      <td>0.660000</td>\n",
       "      <td>0.858000</td>\n",
       "      <td>2023</td>\n",
       "      <td>Sub-Saharan Africa</td>\n",
       "    </tr>\n",
       "    <tr>\n",
       "      <th>135</th>\n",
       "      <td>Lebanon</td>\n",
       "      <td>2.392000</td>\n",
       "      <td>9.478000</td>\n",
       "      <td>0.530000</td>\n",
       "      <td>66.149000</td>\n",
       "      <td>0.474000</td>\n",
       "      <td>0.891000</td>\n",
       "      <td>2023</td>\n",
       "      <td>Middle East and North Africa</td>\n",
       "    </tr>\n",
       "    <tr>\n",
       "      <th>136</th>\n",
       "      <td>Afghanistan</td>\n",
       "      <td>1.859000</td>\n",
       "      <td>7.324000</td>\n",
       "      <td>0.341000</td>\n",
       "      <td>54.712000</td>\n",
       "      <td>0.382000</td>\n",
       "      <td>0.847000</td>\n",
       "      <td>2023</td>\n",
       "      <td>South Asia</td>\n",
       "    </tr>\n",
       "  </tbody>\n",
       "</table>\n",
       "<p>2336 rows × 9 columns</p>\n",
       "</div>"
      ],
      "text/plain": [
       "         Country name  Ladder score  Logged GDP per capita  Social support  \\\n",
       "0         Afghanistan      3.723590               7.350416        0.450662   \n",
       "1         Afghanistan      4.401778               7.508646        0.552308   \n",
       "2         Afghanistan      4.758381               7.613900        0.539075   \n",
       "3         Afghanistan      3.831719               7.581259        0.521104   \n",
       "4         Afghanistan      3.782938               7.660506        0.520637   \n",
       "..                ...           ...                    ...             ...   \n",
       "132  Congo (Kinshasa)      3.207000               7.007000        0.652000   \n",
       "133          Zimbabwe      3.204000               7.641000        0.690000   \n",
       "134      Sierra Leone      3.138000               7.394000        0.555000   \n",
       "135           Lebanon      2.392000               9.478000        0.530000   \n",
       "136       Afghanistan      1.859000               7.324000        0.341000   \n",
       "\n",
       "     Healthy life expectancy  Freedom to make life choices  \\\n",
       "0                  50.500000                      0.718114   \n",
       "1                  50.799999                      0.678896   \n",
       "2                  51.099998                      0.600127   \n",
       "3                  51.400002                      0.495901   \n",
       "4                  51.700001                      0.530935   \n",
       "..                       ...                           ...   \n",
       "132                55.375000                      0.664000   \n",
       "133                54.050000                      0.654000   \n",
       "134                54.900000                      0.660000   \n",
       "135                66.149000                      0.474000   \n",
       "136                54.712000                      0.382000   \n",
       "\n",
       "     Perceptions of corruption  Year            Regional Indicator  \n",
       "0                     0.881686  2008                    South Asia  \n",
       "1                     0.850035  2009                    South Asia  \n",
       "2                     0.706766  2010                    South Asia  \n",
       "3                     0.731109  2011                    South Asia  \n",
       "4                     0.775620  2012                    South Asia  \n",
       "..                         ...   ...                           ...  \n",
       "132                   0.834000  2023                           NaN  \n",
       "133                   0.766000  2023            Sub-Saharan Africa  \n",
       "134                   0.858000  2023            Sub-Saharan Africa  \n",
       "135                   0.891000  2023  Middle East and North Africa  \n",
       "136                   0.847000  2023                    South Asia  \n",
       "\n",
       "[2336 rows x 9 columns]"
      ]
     },
     "execution_count": 52,
     "metadata": {},
     "output_type": "execute_result"
    }
   ],
   "source": [
    "df_05_23"
   ]
  },
  {
   "cell_type": "code",
   "execution_count": 53,
   "id": "327838e2-e706-4fdb-a381-68f53c57a23e",
   "metadata": {},
   "outputs": [
    {
     "data": {
      "text/plain": [
       "array([2008, 2009, 2010, 2011, 2012, 2013, 2014, 2015, 2016, 2017, 2018,\n",
       "       2019, 2021, 2022, 2007, 2020, 2006, 2005, 2023], dtype=int64)"
      ]
     },
     "execution_count": 53,
     "metadata": {},
     "output_type": "execute_result"
    }
   ],
   "source": [
    "df_05_23['Year'].unique()"
   ]
  },
  {
   "cell_type": "code",
   "execution_count": 54,
   "id": "450d6872-17b4-4d76-864b-43c6d5272eed",
   "metadata": {},
   "outputs": [],
   "source": [
    "df_05_23.to_csv('datafiles/world-05-23-unified.csv')"
   ]
  },
  {
   "cell_type": "markdown",
   "id": "2c833f5e-4578-489d-8b45-4e2b21fc3b18",
   "metadata": {
    "jp-MarkdownHeadingCollapsed": true
   },
   "source": [
    "### Up to 2022 explorations\n",
    "df_05_22"
   ]
  },
  {
   "cell_type": "code",
   "execution_count": 63,
   "id": "2689579f-06a7-4314-9933-f5acf6c9bc7c",
   "metadata": {},
   "outputs": [
    {
     "data": {
      "text/plain": [
       "Index(['Country Name', 'Regional Indicator', 'Year', 'Life Ladder',\n",
       "       'Log GDP Per Capita', 'Social Support',\n",
       "       'Healthy Life Expectancy At Birth', 'Freedom To Make Life Choices',\n",
       "       'Generosity', 'Perceptions Of Corruption', 'Positive Affect',\n",
       "       'Negative Affect', 'Confidence In National Government'],\n",
       "      dtype='object')"
      ]
     },
     "execution_count": 63,
     "metadata": {},
     "output_type": "execute_result"
    }
   ],
   "source": [
    "df_05_22.columns"
   ]
  },
  {
   "cell_type": "code",
   "execution_count": 75,
   "id": "4c9a0d89-f9ab-4475-a7ed-d41eaa528736",
   "metadata": {},
   "outputs": [
    {
     "data": {
      "text/html": [
       "<div>\n",
       "<style scoped>\n",
       "    .dataframe tbody tr th:only-of-type {\n",
       "        vertical-align: middle;\n",
       "    }\n",
       "\n",
       "    .dataframe tbody tr th {\n",
       "        vertical-align: top;\n",
       "    }\n",
       "\n",
       "    .dataframe thead th {\n",
       "        text-align: right;\n",
       "    }\n",
       "</style>\n",
       "<table border=\"1\" class=\"dataframe\">\n",
       "  <thead>\n",
       "    <tr style=\"text-align: right;\">\n",
       "      <th></th>\n",
       "      <th>Country Name</th>\n",
       "      <th>Regional Indicator</th>\n",
       "      <th>Year</th>\n",
       "      <th>Life Ladder</th>\n",
       "      <th>Log GDP Per Capita</th>\n",
       "      <th>Social Support</th>\n",
       "      <th>Healthy Life Expectancy At Birth</th>\n",
       "      <th>Freedom To Make Life Choices</th>\n",
       "      <th>Generosity</th>\n",
       "      <th>Perceptions Of Corruption</th>\n",
       "      <th>Positive Affect</th>\n",
       "      <th>Negative Affect</th>\n",
       "      <th>Confidence In National Government</th>\n",
       "    </tr>\n",
       "  </thead>\n",
       "  <tbody>\n",
       "    <tr>\n",
       "      <th>1354</th>\n",
       "      <td>Myanmar</td>\n",
       "      <td>Southeast Asia</td>\n",
       "      <td>2021</td>\n",
       "      <td>4.314040</td>\n",
       "      <td>8.302173</td>\n",
       "      <td>0.779576</td>\n",
       "      <td>61.549999</td>\n",
       "      <td>0.631394</td>\n",
       "      <td>0.511372</td>\n",
       "      <td>0.671063</td>\n",
       "      <td>0.636049</td>\n",
       "      <td>0.267806</td>\n",
       "      <td>0.305713</td>\n",
       "    </tr>\n",
       "    <tr>\n",
       "      <th>1472</th>\n",
       "      <td>North Macedonia</td>\n",
       "      <td>Central and Eastern Europe</td>\n",
       "      <td>2022</td>\n",
       "      <td>5.166882</td>\n",
       "      <td>9.733425</td>\n",
       "      <td>0.849509</td>\n",
       "      <td>66.699997</td>\n",
       "      <td>0.723089</td>\n",
       "      <td>0.071887</td>\n",
       "      <td>0.937215</td>\n",
       "      <td>0.554965</td>\n",
       "      <td>0.277091</td>\n",
       "      <td>NaN</td>\n",
       "    </tr>\n",
       "    <tr>\n",
       "      <th>128</th>\n",
       "      <td>Bahrain</td>\n",
       "      <td>Middle East and North Africa</td>\n",
       "      <td>2016</td>\n",
       "      <td>6.169673</td>\n",
       "      <td>10.789037</td>\n",
       "      <td>0.862700</td>\n",
       "      <td>66.125000</td>\n",
       "      <td>0.888691</td>\n",
       "      <td>0.083302</td>\n",
       "      <td>NaN</td>\n",
       "      <td>0.736220</td>\n",
       "      <td>0.283466</td>\n",
       "      <td>NaN</td>\n",
       "    </tr>\n",
       "    <tr>\n",
       "      <th>1406</th>\n",
       "      <td>New Zealand</td>\n",
       "      <td>North America and ANZ</td>\n",
       "      <td>2017</td>\n",
       "      <td>7.327183</td>\n",
       "      <td>10.650615</td>\n",
       "      <td>0.954921</td>\n",
       "      <td>70.050003</td>\n",
       "      <td>0.942279</td>\n",
       "      <td>0.288717</td>\n",
       "      <td>0.221887</td>\n",
       "      <td>0.762818</td>\n",
       "      <td>0.171717</td>\n",
       "      <td>0.609015</td>\n",
       "    </tr>\n",
       "    <tr>\n",
       "      <th>1655</th>\n",
       "      <td>Saudi Arabia</td>\n",
       "      <td>Middle East and North Africa</td>\n",
       "      <td>2013</td>\n",
       "      <td>6.495133</td>\n",
       "      <td>10.729292</td>\n",
       "      <td>0.826695</td>\n",
       "      <td>62.799999</td>\n",
       "      <td>0.661042</td>\n",
       "      <td>-0.082016</td>\n",
       "      <td>NaN</td>\n",
       "      <td>0.691166</td>\n",
       "      <td>0.275550</td>\n",
       "      <td>NaN</td>\n",
       "    </tr>\n",
       "  </tbody>\n",
       "</table>\n",
       "</div>"
      ],
      "text/plain": [
       "         Country Name            Regional Indicator  Year  Life Ladder  \\\n",
       "1354          Myanmar                Southeast Asia  2021     4.314040   \n",
       "1472  North Macedonia    Central and Eastern Europe  2022     5.166882   \n",
       "128           Bahrain  Middle East and North Africa  2016     6.169673   \n",
       "1406      New Zealand         North America and ANZ  2017     7.327183   \n",
       "1655     Saudi Arabia  Middle East and North Africa  2013     6.495133   \n",
       "\n",
       "      Log GDP Per Capita  Social Support  Healthy Life Expectancy At Birth  \\\n",
       "1354            8.302173        0.779576                         61.549999   \n",
       "1472            9.733425        0.849509                         66.699997   \n",
       "128            10.789037        0.862700                         66.125000   \n",
       "1406           10.650615        0.954921                         70.050003   \n",
       "1655           10.729292        0.826695                         62.799999   \n",
       "\n",
       "      Freedom To Make Life Choices  Generosity  Perceptions Of Corruption  \\\n",
       "1354                      0.631394    0.511372                   0.671063   \n",
       "1472                      0.723089    0.071887                   0.937215   \n",
       "128                       0.888691    0.083302                        NaN   \n",
       "1406                      0.942279    0.288717                   0.221887   \n",
       "1655                      0.661042   -0.082016                        NaN   \n",
       "\n",
       "      Positive Affect  Negative Affect  Confidence In National Government  \n",
       "1354         0.636049         0.267806                           0.305713  \n",
       "1472         0.554965         0.277091                                NaN  \n",
       "128          0.736220         0.283466                                NaN  \n",
       "1406         0.762818         0.171717                           0.609015  \n",
       "1655         0.691166         0.275550                                NaN  "
      ]
     },
     "execution_count": 75,
     "metadata": {},
     "output_type": "execute_result"
    }
   ],
   "source": [
    "df_05_22.sample(5)"
   ]
  },
  {
   "cell_type": "code",
   "execution_count": 76,
   "id": "74d7e9ab-f0fe-449e-9673-9796fb298e9e",
   "metadata": {},
   "outputs": [
    {
     "name": "stderr",
     "output_type": "stream",
     "text": [
      "C:\\Users\\User\\Desktop\\programowanie_web_etc\\python_projects\\data_projects\\venv\\lib\\site-packages\\plotly\\graph_objs\\_deprecations.py:378: DeprecationWarning:\n",
      "\n",
      "plotly.graph_objs.Line is deprecated.\n",
      "Please replace it with one of the following more specific types\n",
      "  - plotly.graph_objs.scatter.Line\n",
      "  - plotly.graph_objs.layout.shape.Line\n",
      "  - etc.\n",
      "\n",
      "\n"
     ]
    },
    {
     "data": {
      "application/vnd.plotly.v1+json": {
       "config": {
        "plotlyServerURL": "https://plot.ly"
       },
       "data": [
        {
         "name": "Finland",
         "type": "scatter",
         "x": [
          2006,
          2008,
          2010,
          2011,
          2012,
          2013,
          2014,
          2015,
          2016,
          2017,
          2018,
          2019,
          2020,
          2021,
          2022
         ],
         "y": [
          10.74531746,
          10.79585457,
          10.73366833,
          10.75419044,
          10.73535824,
          10.72169304,
          10.71390152,
          10.71602917,
          10.74088192,
          10.7699604,
          10.77996635,
          10.79103756,
          10.76730347,
          10.79452896,
          10.81419277
         ]
        },
        {
         "name": "Bolivia",
         "type": "scatter",
         "x": [
          2006,
          2007,
          2008,
          2009,
          2010,
          2011,
          2012,
          2013,
          2014,
          2015,
          2016,
          2017,
          2018,
          2019,
          2020,
          2021,
          2022
         ],
         "y": [
          8.670664787,
          8.697794914,
          8.74016571,
          8.756053925,
          8.779529572,
          8.813483238,
          8.84689045,
          8.896345139,
          8.933479309,
          8.965176582,
          8.991458893,
          9.017354012,
          9.043848038,
          9.051198006,
          8.94636631,
          8.99369812,
          9.014473915
         ]
        }
       ],
       "layout": {
        "autosize": true,
        "template": {
         "data": {
          "bar": [
           {
            "error_x": {
             "color": "#2a3f5f"
            },
            "error_y": {
             "color": "#2a3f5f"
            },
            "marker": {
             "line": {
              "color": "#E5ECF6",
              "width": 0.5
             },
             "pattern": {
              "fillmode": "overlay",
              "size": 10,
              "solidity": 0.2
             }
            },
            "type": "bar"
           }
          ],
          "barpolar": [
           {
            "marker": {
             "line": {
              "color": "#E5ECF6",
              "width": 0.5
             },
             "pattern": {
              "fillmode": "overlay",
              "size": 10,
              "solidity": 0.2
             }
            },
            "type": "barpolar"
           }
          ],
          "carpet": [
           {
            "aaxis": {
             "endlinecolor": "#2a3f5f",
             "gridcolor": "white",
             "linecolor": "white",
             "minorgridcolor": "white",
             "startlinecolor": "#2a3f5f"
            },
            "baxis": {
             "endlinecolor": "#2a3f5f",
             "gridcolor": "white",
             "linecolor": "white",
             "minorgridcolor": "white",
             "startlinecolor": "#2a3f5f"
            },
            "type": "carpet"
           }
          ],
          "choropleth": [
           {
            "colorbar": {
             "outlinewidth": 0,
             "ticks": ""
            },
            "type": "choropleth"
           }
          ],
          "contour": [
           {
            "colorbar": {
             "outlinewidth": 0,
             "ticks": ""
            },
            "colorscale": [
             [
              0,
              "#0d0887"
             ],
             [
              0.1111111111111111,
              "#46039f"
             ],
             [
              0.2222222222222222,
              "#7201a8"
             ],
             [
              0.3333333333333333,
              "#9c179e"
             ],
             [
              0.4444444444444444,
              "#bd3786"
             ],
             [
              0.5555555555555556,
              "#d8576b"
             ],
             [
              0.6666666666666666,
              "#ed7953"
             ],
             [
              0.7777777777777778,
              "#fb9f3a"
             ],
             [
              0.8888888888888888,
              "#fdca26"
             ],
             [
              1,
              "#f0f921"
             ]
            ],
            "type": "contour"
           }
          ],
          "contourcarpet": [
           {
            "colorbar": {
             "outlinewidth": 0,
             "ticks": ""
            },
            "type": "contourcarpet"
           }
          ],
          "heatmap": [
           {
            "colorbar": {
             "outlinewidth": 0,
             "ticks": ""
            },
            "colorscale": [
             [
              0,
              "#0d0887"
             ],
             [
              0.1111111111111111,
              "#46039f"
             ],
             [
              0.2222222222222222,
              "#7201a8"
             ],
             [
              0.3333333333333333,
              "#9c179e"
             ],
             [
              0.4444444444444444,
              "#bd3786"
             ],
             [
              0.5555555555555556,
              "#d8576b"
             ],
             [
              0.6666666666666666,
              "#ed7953"
             ],
             [
              0.7777777777777778,
              "#fb9f3a"
             ],
             [
              0.8888888888888888,
              "#fdca26"
             ],
             [
              1,
              "#f0f921"
             ]
            ],
            "type": "heatmap"
           }
          ],
          "heatmapgl": [
           {
            "colorbar": {
             "outlinewidth": 0,
             "ticks": ""
            },
            "colorscale": [
             [
              0,
              "#0d0887"
             ],
             [
              0.1111111111111111,
              "#46039f"
             ],
             [
              0.2222222222222222,
              "#7201a8"
             ],
             [
              0.3333333333333333,
              "#9c179e"
             ],
             [
              0.4444444444444444,
              "#bd3786"
             ],
             [
              0.5555555555555556,
              "#d8576b"
             ],
             [
              0.6666666666666666,
              "#ed7953"
             ],
             [
              0.7777777777777778,
              "#fb9f3a"
             ],
             [
              0.8888888888888888,
              "#fdca26"
             ],
             [
              1,
              "#f0f921"
             ]
            ],
            "type": "heatmapgl"
           }
          ],
          "histogram": [
           {
            "marker": {
             "pattern": {
              "fillmode": "overlay",
              "size": 10,
              "solidity": 0.2
             }
            },
            "type": "histogram"
           }
          ],
          "histogram2d": [
           {
            "colorbar": {
             "outlinewidth": 0,
             "ticks": ""
            },
            "colorscale": [
             [
              0,
              "#0d0887"
             ],
             [
              0.1111111111111111,
              "#46039f"
             ],
             [
              0.2222222222222222,
              "#7201a8"
             ],
             [
              0.3333333333333333,
              "#9c179e"
             ],
             [
              0.4444444444444444,
              "#bd3786"
             ],
             [
              0.5555555555555556,
              "#d8576b"
             ],
             [
              0.6666666666666666,
              "#ed7953"
             ],
             [
              0.7777777777777778,
              "#fb9f3a"
             ],
             [
              0.8888888888888888,
              "#fdca26"
             ],
             [
              1,
              "#f0f921"
             ]
            ],
            "type": "histogram2d"
           }
          ],
          "histogram2dcontour": [
           {
            "colorbar": {
             "outlinewidth": 0,
             "ticks": ""
            },
            "colorscale": [
             [
              0,
              "#0d0887"
             ],
             [
              0.1111111111111111,
              "#46039f"
             ],
             [
              0.2222222222222222,
              "#7201a8"
             ],
             [
              0.3333333333333333,
              "#9c179e"
             ],
             [
              0.4444444444444444,
              "#bd3786"
             ],
             [
              0.5555555555555556,
              "#d8576b"
             ],
             [
              0.6666666666666666,
              "#ed7953"
             ],
             [
              0.7777777777777778,
              "#fb9f3a"
             ],
             [
              0.8888888888888888,
              "#fdca26"
             ],
             [
              1,
              "#f0f921"
             ]
            ],
            "type": "histogram2dcontour"
           }
          ],
          "mesh3d": [
           {
            "colorbar": {
             "outlinewidth": 0,
             "ticks": ""
            },
            "type": "mesh3d"
           }
          ],
          "parcoords": [
           {
            "line": {
             "colorbar": {
              "outlinewidth": 0,
              "ticks": ""
             }
            },
            "type": "parcoords"
           }
          ],
          "pie": [
           {
            "automargin": true,
            "type": "pie"
           }
          ],
          "scatter": [
           {
            "fillpattern": {
             "fillmode": "overlay",
             "size": 10,
             "solidity": 0.2
            },
            "type": "scatter"
           }
          ],
          "scatter3d": [
           {
            "line": {
             "colorbar": {
              "outlinewidth": 0,
              "ticks": ""
             }
            },
            "marker": {
             "colorbar": {
              "outlinewidth": 0,
              "ticks": ""
             }
            },
            "type": "scatter3d"
           }
          ],
          "scattercarpet": [
           {
            "marker": {
             "colorbar": {
              "outlinewidth": 0,
              "ticks": ""
             }
            },
            "type": "scattercarpet"
           }
          ],
          "scattergeo": [
           {
            "marker": {
             "colorbar": {
              "outlinewidth": 0,
              "ticks": ""
             }
            },
            "type": "scattergeo"
           }
          ],
          "scattergl": [
           {
            "marker": {
             "colorbar": {
              "outlinewidth": 0,
              "ticks": ""
             }
            },
            "type": "scattergl"
           }
          ],
          "scattermapbox": [
           {
            "marker": {
             "colorbar": {
              "outlinewidth": 0,
              "ticks": ""
             }
            },
            "type": "scattermapbox"
           }
          ],
          "scatterpolar": [
           {
            "marker": {
             "colorbar": {
              "outlinewidth": 0,
              "ticks": ""
             }
            },
            "type": "scatterpolar"
           }
          ],
          "scatterpolargl": [
           {
            "marker": {
             "colorbar": {
              "outlinewidth": 0,
              "ticks": ""
             }
            },
            "type": "scatterpolargl"
           }
          ],
          "scatterternary": [
           {
            "marker": {
             "colorbar": {
              "outlinewidth": 0,
              "ticks": ""
             }
            },
            "type": "scatterternary"
           }
          ],
          "surface": [
           {
            "colorbar": {
             "outlinewidth": 0,
             "ticks": ""
            },
            "colorscale": [
             [
              0,
              "#0d0887"
             ],
             [
              0.1111111111111111,
              "#46039f"
             ],
             [
              0.2222222222222222,
              "#7201a8"
             ],
             [
              0.3333333333333333,
              "#9c179e"
             ],
             [
              0.4444444444444444,
              "#bd3786"
             ],
             [
              0.5555555555555556,
              "#d8576b"
             ],
             [
              0.6666666666666666,
              "#ed7953"
             ],
             [
              0.7777777777777778,
              "#fb9f3a"
             ],
             [
              0.8888888888888888,
              "#fdca26"
             ],
             [
              1,
              "#f0f921"
             ]
            ],
            "type": "surface"
           }
          ],
          "table": [
           {
            "cells": {
             "fill": {
              "color": "#EBF0F8"
             },
             "line": {
              "color": "white"
             }
            },
            "header": {
             "fill": {
              "color": "#C8D4E3"
             },
             "line": {
              "color": "white"
             }
            },
            "type": "table"
           }
          ]
         },
         "layout": {
          "annotationdefaults": {
           "arrowcolor": "#2a3f5f",
           "arrowhead": 0,
           "arrowwidth": 1
          },
          "autotypenumbers": "strict",
          "coloraxis": {
           "colorbar": {
            "outlinewidth": 0,
            "ticks": ""
           }
          },
          "colorscale": {
           "diverging": [
            [
             0,
             "#8e0152"
            ],
            [
             0.1,
             "#c51b7d"
            ],
            [
             0.2,
             "#de77ae"
            ],
            [
             0.3,
             "#f1b6da"
            ],
            [
             0.4,
             "#fde0ef"
            ],
            [
             0.5,
             "#f7f7f7"
            ],
            [
             0.6,
             "#e6f5d0"
            ],
            [
             0.7,
             "#b8e186"
            ],
            [
             0.8,
             "#7fbc41"
            ],
            [
             0.9,
             "#4d9221"
            ],
            [
             1,
             "#276419"
            ]
           ],
           "sequential": [
            [
             0,
             "#0d0887"
            ],
            [
             0.1111111111111111,
             "#46039f"
            ],
            [
             0.2222222222222222,
             "#7201a8"
            ],
            [
             0.3333333333333333,
             "#9c179e"
            ],
            [
             0.4444444444444444,
             "#bd3786"
            ],
            [
             0.5555555555555556,
             "#d8576b"
            ],
            [
             0.6666666666666666,
             "#ed7953"
            ],
            [
             0.7777777777777778,
             "#fb9f3a"
            ],
            [
             0.8888888888888888,
             "#fdca26"
            ],
            [
             1,
             "#f0f921"
            ]
           ],
           "sequentialminus": [
            [
             0,
             "#0d0887"
            ],
            [
             0.1111111111111111,
             "#46039f"
            ],
            [
             0.2222222222222222,
             "#7201a8"
            ],
            [
             0.3333333333333333,
             "#9c179e"
            ],
            [
             0.4444444444444444,
             "#bd3786"
            ],
            [
             0.5555555555555556,
             "#d8576b"
            ],
            [
             0.6666666666666666,
             "#ed7953"
            ],
            [
             0.7777777777777778,
             "#fb9f3a"
            ],
            [
             0.8888888888888888,
             "#fdca26"
            ],
            [
             1,
             "#f0f921"
            ]
           ]
          },
          "colorway": [
           "#636efa",
           "#EF553B",
           "#00cc96",
           "#ab63fa",
           "#FFA15A",
           "#19d3f3",
           "#FF6692",
           "#B6E880",
           "#FF97FF",
           "#FECB52"
          ],
          "font": {
           "color": "#2a3f5f"
          },
          "geo": {
           "bgcolor": "white",
           "lakecolor": "white",
           "landcolor": "#E5ECF6",
           "showlakes": true,
           "showland": true,
           "subunitcolor": "white"
          },
          "hoverlabel": {
           "align": "left"
          },
          "hovermode": "closest",
          "mapbox": {
           "style": "light"
          },
          "paper_bgcolor": "white",
          "plot_bgcolor": "#E5ECF6",
          "polar": {
           "angularaxis": {
            "gridcolor": "white",
            "linecolor": "white",
            "ticks": ""
           },
           "bgcolor": "#E5ECF6",
           "radialaxis": {
            "gridcolor": "white",
            "linecolor": "white",
            "ticks": ""
           }
          },
          "scene": {
           "xaxis": {
            "backgroundcolor": "#E5ECF6",
            "gridcolor": "white",
            "gridwidth": 2,
            "linecolor": "white",
            "showbackground": true,
            "ticks": "",
            "zerolinecolor": "white"
           },
           "yaxis": {
            "backgroundcolor": "#E5ECF6",
            "gridcolor": "white",
            "gridwidth": 2,
            "linecolor": "white",
            "showbackground": true,
            "ticks": "",
            "zerolinecolor": "white"
           },
           "zaxis": {
            "backgroundcolor": "#E5ECF6",
            "gridcolor": "white",
            "gridwidth": 2,
            "linecolor": "white",
            "showbackground": true,
            "ticks": "",
            "zerolinecolor": "white"
           }
          },
          "shapedefaults": {
           "line": {
            "color": "#2a3f5f"
           }
          },
          "ternary": {
           "aaxis": {
            "gridcolor": "white",
            "linecolor": "white",
            "ticks": ""
           },
           "baxis": {
            "gridcolor": "white",
            "linecolor": "white",
            "ticks": ""
           },
           "bgcolor": "#E5ECF6",
           "caxis": {
            "gridcolor": "white",
            "linecolor": "white",
            "ticks": ""
           }
          },
          "title": {
           "x": 0.05
          },
          "xaxis": {
           "automargin": true,
           "gridcolor": "white",
           "linecolor": "white",
           "ticks": "",
           "title": {
            "standoff": 15
           },
           "zerolinecolor": "white",
           "zerolinewidth": 2
          },
          "yaxis": {
           "automargin": true,
           "gridcolor": "white",
           "linecolor": "white",
           "ticks": "",
           "title": {
            "standoff": 15
           },
           "zerolinecolor": "white",
           "zerolinewidth": 2
          }
         }
        },
        "xaxis": {
         "autorange": true,
         "range": [
          2004.9570041608877,
          2023.0429958391123
         ],
         "type": "linear"
        },
        "yaxis": {
         "autorange": true,
         "range": [
          8.493771701024272,
          10.991085855975728
         ],
         "type": "linear"
        }
       }
      },
      "image/png": "[encoded data removed]",
      "text/html": [
       "<div>                            <div id=\"ca61c3a9-8dc0-485f-a427-13aa5f5ae462\" class=\"plotly-graph-div\" style=\"height:525px; width:100%;\"></div>            <script type=\"text/javascript\">                require([\"plotly\"], function(Plotly) {                    window.PLOTLYENV=window.PLOTLYENV || {};                                    if (document.getElementById(\"ca61c3a9-8dc0-485f-a427-13aa5f5ae462\")) {                    Plotly.newPlot(                        \"ca61c3a9-8dc0-485f-a427-13aa5f5ae462\",                        [{\"name\":\"Finland\",\"x\":[2006,2008,2010,2011,2012,2013,2014,2015,2016,2017,2018,2019,2020,2021,2022],\"y\":[10.74531746,10.79585457,10.73366833,10.75419044,10.73535824,10.72169304,10.71390152,10.71602917,10.74088192,10.7699604,10.77996635,10.79103756,10.76730347,10.79452896,10.81419277],\"type\":\"scatter\"},{\"name\":\"Bolivia\",\"x\":[2006,2007,2008,2009,2010,2011,2012,2013,2014,2015,2016,2017,2018,2019,2020,2021,2022],\"y\":[8.670664787,8.697794914,8.74016571,8.756053925,8.779529572,8.813483238,8.84689045,8.896345139,8.933479309,8.965176582,8.991458893,9.017354012,9.043848038,9.051198006,8.94636631,8.99369812,9.014473915],\"type\":\"scatter\"}],                        {\"template\":{\"data\":{\"histogram2dcontour\":[{\"type\":\"histogram2dcontour\",\"colorbar\":{\"outlinewidth\":0,\"ticks\":\"\"},\"colorscale\":[[0.0,\"#0d0887\"],[0.1111111111111111,\"#46039f\"],[0.2222222222222222,\"#7201a8\"],[0.3333333333333333,\"#9c179e\"],[0.4444444444444444,\"#bd3786\"],[0.5555555555555556,\"#d8576b\"],[0.6666666666666666,\"#ed7953\"],[0.7777777777777778,\"#fb9f3a\"],[0.8888888888888888,\"#fdca26\"],[1.0,\"#f0f921\"]]}],\"choropleth\":[{\"type\":\"choropleth\",\"colorbar\":{\"outlinewidth\":0,\"ticks\":\"\"}}],\"histogram2d\":[{\"type\":\"histogram2d\",\"colorbar\":{\"outlinewidth\":0,\"ticks\":\"\"},\"colorscale\":[[0.0,\"#0d0887\"],[0.1111111111111111,\"#46039f\"],[0.2222222222222222,\"#7201a8\"],[0.3333333333333333,\"#9c179e\"],[0.4444444444444444,\"#bd3786\"],[0.5555555555555556,\"#d8576b\"],[0.6666666666666666,\"#ed7953\"],[0.7777777777777778,\"#fb9f3a\"],[0.8888888888888888,\"#fdca26\"],[1.0,\"#f0f921\"]]}],\"heatmap\":[{\"type\":\"heatmap\",\"colorbar\":{\"outlinewidth\":0,\"ticks\":\"\"},\"colorscale\":[[0.0,\"#0d0887\"],[0.1111111111111111,\"#46039f\"],[0.2222222222222222,\"#7201a8\"],[0.3333333333333333,\"#9c179e\"],[0.4444444444444444,\"#bd3786\"],[0.5555555555555556,\"#d8576b\"],[0.6666666666666666,\"#ed7953\"],[0.7777777777777778,\"#fb9f3a\"],[0.8888888888888888,\"#fdca26\"],[1.0,\"#f0f921\"]]}],\"heatmapgl\":[{\"type\":\"heatmapgl\",\"colorbar\":{\"outlinewidth\":0,\"ticks\":\"\"},\"colorscale\":[[0.0,\"#0d0887\"],[0.1111111111111111,\"#46039f\"],[0.2222222222222222,\"#7201a8\"],[0.3333333333333333,\"#9c179e\"],[0.4444444444444444,\"#bd3786\"],[0.5555555555555556,\"#d8576b\"],[0.6666666666666666,\"#ed7953\"],[0.7777777777777778,\"#fb9f3a\"],[0.8888888888888888,\"#fdca26\"],[1.0,\"#f0f921\"]]}],\"contourcarpet\":[{\"type\":\"contourcarpet\",\"colorbar\":{\"outlinewidth\":0,\"ticks\":\"\"}}],\"contour\":[{\"type\":\"contour\",\"colorbar\":{\"outlinewidth\":0,\"ticks\":\"\"},\"colorscale\":[[0.0,\"#0d0887\"],[0.1111111111111111,\"#46039f\"],[0.2222222222222222,\"#7201a8\"],[0.3333333333333333,\"#9c179e\"],[0.4444444444444444,\"#bd3786\"],[0.5555555555555556,\"#d8576b\"],[0.6666666666666666,\"#ed7953\"],[0.7777777777777778,\"#fb9f3a\"],[0.8888888888888888,\"#fdca26\"],[1.0,\"#f0f921\"]]}],\"surface\":[{\"type\":\"surface\",\"colorbar\":{\"outlinewidth\":0,\"ticks\":\"\"},\"colorscale\":[[0.0,\"#0d0887\"],[0.1111111111111111,\"#46039f\"],[0.2222222222222222,\"#7201a8\"],[0.3333333333333333,\"#9c179e\"],[0.4444444444444444,\"#bd3786\"],[0.5555555555555556,\"#d8576b\"],[0.6666666666666666,\"#ed7953\"],[0.7777777777777778,\"#fb9f3a\"],[0.8888888888888888,\"#fdca26\"],[1.0,\"#f0f921\"]]}],\"mesh3d\":[{\"type\":\"mesh3d\",\"colorbar\":{\"outlinewidth\":0,\"ticks\":\"\"}}],\"scatter\":[{\"fillpattern\":{\"fillmode\":\"overlay\",\"size\":10,\"solidity\":0.2},\"type\":\"scatter\"}],\"parcoords\":[{\"type\":\"parcoords\",\"line\":{\"colorbar\":{\"outlinewidth\":0,\"ticks\":\"\"}}}],\"scatterpolargl\":[{\"type\":\"scatterpolargl\",\"marker\":{\"colorbar\":{\"outlinewidth\":0,\"ticks\":\"\"}}}],\"bar\":[{\"error_x\":{\"color\":\"#2a3f5f\"},\"error_y\":{\"color\":\"#2a3f5f\"},\"marker\":{\"line\":{\"color\":\"#E5ECF6\",\"width\":0.5},\"pattern\":{\"fillmode\":\"overlay\",\"size\":10,\"solidity\":0.2}},\"type\":\"bar\"}],\"scattergeo\":[{\"type\":\"scattergeo\",\"marker\":{\"colorbar\":{\"outlinewidth\":0,\"ticks\":\"\"}}}],\"scatterpolar\":[{\"type\":\"scatterpolar\",\"marker\":{\"colorbar\":{\"outlinewidth\":0,\"ticks\":\"\"}}}],\"histogram\":[{\"marker\":{\"pattern\":{\"fillmode\":\"overlay\",\"size\":10,\"solidity\":0.2}},\"type\":\"histogram\"}],\"scattergl\":[{\"type\":\"scattergl\",\"marker\":{\"colorbar\":{\"outlinewidth\":0,\"ticks\":\"\"}}}],\"scatter3d\":[{\"type\":\"scatter3d\",\"line\":{\"colorbar\":{\"outlinewidth\":0,\"ticks\":\"\"}},\"marker\":{\"colorbar\":{\"outlinewidth\":0,\"ticks\":\"\"}}}],\"scattermapbox\":[{\"type\":\"scattermapbox\",\"marker\":{\"colorbar\":{\"outlinewidth\":0,\"ticks\":\"\"}}}],\"scatterternary\":[{\"type\":\"scatterternary\",\"marker\":{\"colorbar\":{\"outlinewidth\":0,\"ticks\":\"\"}}}],\"scattercarpet\":[{\"type\":\"scattercarpet\",\"marker\":{\"colorbar\":{\"outlinewidth\":0,\"ticks\":\"\"}}}],\"carpet\":[{\"aaxis\":{\"endlinecolor\":\"#2a3f5f\",\"gridcolor\":\"white\",\"linecolor\":\"white\",\"minorgridcolor\":\"white\",\"startlinecolor\":\"#2a3f5f\"},\"baxis\":{\"endlinecolor\":\"#2a3f5f\",\"gridcolor\":\"white\",\"linecolor\":\"white\",\"minorgridcolor\":\"white\",\"startlinecolor\":\"#2a3f5f\"},\"type\":\"carpet\"}],\"table\":[{\"cells\":{\"fill\":{\"color\":\"#EBF0F8\"},\"line\":{\"color\":\"white\"}},\"header\":{\"fill\":{\"color\":\"#C8D4E3\"},\"line\":{\"color\":\"white\"}},\"type\":\"table\"}],\"barpolar\":[{\"marker\":{\"line\":{\"color\":\"#E5ECF6\",\"width\":0.5},\"pattern\":{\"fillmode\":\"overlay\",\"size\":10,\"solidity\":0.2}},\"type\":\"barpolar\"}],\"pie\":[{\"automargin\":true,\"type\":\"pie\"}]},\"layout\":{\"autotypenumbers\":\"strict\",\"colorway\":[\"#636efa\",\"#EF553B\",\"#00cc96\",\"#ab63fa\",\"#FFA15A\",\"#19d3f3\",\"#FF6692\",\"#B6E880\",\"#FF97FF\",\"#FECB52\"],\"font\":{\"color\":\"#2a3f5f\"},\"hovermode\":\"closest\",\"hoverlabel\":{\"align\":\"left\"},\"paper_bgcolor\":\"white\",\"plot_bgcolor\":\"#E5ECF6\",\"polar\":{\"bgcolor\":\"#E5ECF6\",\"angularaxis\":{\"gridcolor\":\"white\",\"linecolor\":\"white\",\"ticks\":\"\"},\"radialaxis\":{\"gridcolor\":\"white\",\"linecolor\":\"white\",\"ticks\":\"\"}},\"ternary\":{\"bgcolor\":\"#E5ECF6\",\"aaxis\":{\"gridcolor\":\"white\",\"linecolor\":\"white\",\"ticks\":\"\"},\"baxis\":{\"gridcolor\":\"white\",\"linecolor\":\"white\",\"ticks\":\"\"},\"caxis\":{\"gridcolor\":\"white\",\"linecolor\":\"white\",\"ticks\":\"\"}},\"coloraxis\":{\"colorbar\":{\"outlinewidth\":0,\"ticks\":\"\"}},\"colorscale\":{\"sequential\":[[0.0,\"#0d0887\"],[0.1111111111111111,\"#46039f\"],[0.2222222222222222,\"#7201a8\"],[0.3333333333333333,\"#9c179e\"],[0.4444444444444444,\"#bd3786\"],[0.5555555555555556,\"#d8576b\"],[0.6666666666666666,\"#ed7953\"],[0.7777777777777778,\"#fb9f3a\"],[0.8888888888888888,\"#fdca26\"],[1.0,\"#f0f921\"]],\"sequentialminus\":[[0.0,\"#0d0887\"],[0.1111111111111111,\"#46039f\"],[0.2222222222222222,\"#7201a8\"],[0.3333333333333333,\"#9c179e\"],[0.4444444444444444,\"#bd3786\"],[0.5555555555555556,\"#d8576b\"],[0.6666666666666666,\"#ed7953\"],[0.7777777777777778,\"#fb9f3a\"],[0.8888888888888888,\"#fdca26\"],[1.0,\"#f0f921\"]],\"diverging\":[[0,\"#8e0152\"],[0.1,\"#c51b7d\"],[0.2,\"#de77ae\"],[0.3,\"#f1b6da\"],[0.4,\"#fde0ef\"],[0.5,\"#f7f7f7\"],[0.6,\"#e6f5d0\"],[0.7,\"#b8e186\"],[0.8,\"#7fbc41\"],[0.9,\"#4d9221\"],[1,\"#276419\"]]},\"xaxis\":{\"gridcolor\":\"white\",\"linecolor\":\"white\",\"ticks\":\"\",\"title\":{\"standoff\":15},\"zerolinecolor\":\"white\",\"automargin\":true,\"zerolinewidth\":2},\"yaxis\":{\"gridcolor\":\"white\",\"linecolor\":\"white\",\"ticks\":\"\",\"title\":{\"standoff\":15},\"zerolinecolor\":\"white\",\"automargin\":true,\"zerolinewidth\":2},\"scene\":{\"xaxis\":{\"backgroundcolor\":\"#E5ECF6\",\"gridcolor\":\"white\",\"linecolor\":\"white\",\"showbackground\":true,\"ticks\":\"\",\"zerolinecolor\":\"white\",\"gridwidth\":2},\"yaxis\":{\"backgroundcolor\":\"#E5ECF6\",\"gridcolor\":\"white\",\"linecolor\":\"white\",\"showbackground\":true,\"ticks\":\"\",\"zerolinecolor\":\"white\",\"gridwidth\":2},\"zaxis\":{\"backgroundcolor\":\"#E5ECF6\",\"gridcolor\":\"white\",\"linecolor\":\"white\",\"showbackground\":true,\"ticks\":\"\",\"zerolinecolor\":\"white\",\"gridwidth\":2}},\"shapedefaults\":{\"line\":{\"color\":\"#2a3f5f\"}},\"annotationdefaults\":{\"arrowcolor\":\"#2a3f5f\",\"arrowhead\":0,\"arrowwidth\":1},\"geo\":{\"bgcolor\":\"white\",\"landcolor\":\"#E5ECF6\",\"subunitcolor\":\"white\",\"showland\":true,\"showlakes\":true,\"lakecolor\":\"white\"},\"title\":{\"x\":0.05},\"mapbox\":{\"style\":\"light\"}}}},                        {\"responsive\": true}                    ).then(function(){\n",
       "                            \n",
       "var gd = document.getElementById('ca61c3a9-8dc0-485f-a427-13aa5f5ae462');\n",
       "var x = new MutationObserver(function (mutations, observer) {{\n",
       "        var display = window.getComputedStyle(gd).display;\n",
       "        if (!display || display === 'none') {{\n",
       "            console.log([gd, 'removed!']);\n",
       "            Plotly.purge(gd);\n",
       "            observer.disconnect();\n",
       "        }}\n",
       "}});\n",
       "\n",
       "// Listen for the removal of the full notebook cells\n",
       "var notebookContainer = gd.closest('#notebook-container');\n",
       "if (notebookContainer) {{\n",
       "    x.observe(notebookContainer, {childList: true});\n",
       "}}\n",
       "\n",
       "// Listen for the clearing of the current output cell\n",
       "var outputEl = gd.closest('.output');\n",
       "if (outputEl) {{\n",
       "    x.observe(outputEl, {childList: true});\n",
       "}}\n",
       "\n",
       "                        })                };                });            </script>        </div>"
      ]
     },
     "metadata": {},
     "output_type": "display_data"
    }
   ],
   "source": [
    "gdp_year_fig = go.Figure()\n",
    "gdp_year_fig.add_trace(\n",
    "    go.Line(\n",
    "        x=df_05_22.query(\"`Country Name` == 'Finland'\")['Year'],\n",
    "        y=df_05_22.query(\"`Country Name` == 'Finland'\")['Log GDP Per Capita'],\n",
    "        name='Finland'\n",
    "    )\n",
    ")\n",
    "\n",
    "gdp_year_fig.add_trace(\n",
    "    go.Line(\n",
    "        x=df_05_22.query(\"`Country Name` == 'Bolivia'\")['Year'],\n",
    "        y=df_05_22.query(\"`Country Name` == 'Bolivia'\")['Log GDP Per Capita'],\n",
    "        name='Bolivia'\n",
    "    )\n",
    ")"
   ]
  },
  {
   "cell_type": "code",
   "execution_count": 78,
   "id": "be558e0c-6b4e-425b-b981-4525d71d10f2",
   "metadata": {},
   "outputs": [
    {
     "data": {
      "application/vnd.plotly.v1+json": {
       "config": {
        "plotlyServerURL": "https://plot.ly"
       },
       "data": [
        {
         "name": "New Zealand",
         "type": "scatter",
         "x": [
          2006,
          2007,
          2008,
          2010,
          2011,
          2012,
          2013,
          2014,
          2015,
          2016,
          2017,
          2018,
          2019,
          2020,
          2021,
          2022
         ],
         "y": [
          69.72000122,
          69.73999786,
          69.76000214,
          69.80000305,
          69.81999969,
          69.83999634,
          69.86000061,
          69.87999725,
          69.90000153,
          69.97499847,
          70.05000305,
          70.125,
          70.19999695,
          70.27500153,
          70.34999847,
          70.42500305
         ]
        },
        {
         "name": "Saudi Arabia",
         "type": "scatter",
         "x": [
          2005,
          2007,
          2008,
          2009,
          2010,
          2011,
          2012,
          2013,
          2014,
          2015,
          2016,
          2017,
          2018,
          2019,
          2020,
          2021,
          2022
         ],
         "y": [
          61.20000076,
          61.59999847,
          61.79999924,
          62,
          62.20000076,
          62.40000153,
          62.59999847,
          62.79999924,
          63,
          63.20000076,
          63.40000153,
          63.59999847,
          63.79999924,
          64,
          64.19999695,
          64.40000153,
          64.59999847
         ]
        }
       ],
       "layout": {
        "autosize": true,
        "template": {
         "data": {
          "bar": [
           {
            "error_x": {
             "color": "#2a3f5f"
            },
            "error_y": {
             "color": "#2a3f5f"
            },
            "marker": {
             "line": {
              "color": "#E5ECF6",
              "width": 0.5
             },
             "pattern": {
              "fillmode": "overlay",
              "size": 10,
              "solidity": 0.2
             }
            },
            "type": "bar"
           }
          ],
          "barpolar": [
           {
            "marker": {
             "line": {
              "color": "#E5ECF6",
              "width": 0.5
             },
             "pattern": {
              "fillmode": "overlay",
              "size": 10,
              "solidity": 0.2
             }
            },
            "type": "barpolar"
           }
          ],
          "carpet": [
           {
            "aaxis": {
             "endlinecolor": "#2a3f5f",
             "gridcolor": "white",
             "linecolor": "white",
             "minorgridcolor": "white",
             "startlinecolor": "#2a3f5f"
            },
            "baxis": {
             "endlinecolor": "#2a3f5f",
             "gridcolor": "white",
             "linecolor": "white",
             "minorgridcolor": "white",
             "startlinecolor": "#2a3f5f"
            },
            "type": "carpet"
           }
          ],
          "choropleth": [
           {
            "colorbar": {
             "outlinewidth": 0,
             "ticks": ""
            },
            "type": "choropleth"
           }
          ],
          "contour": [
           {
            "colorbar": {
             "outlinewidth": 0,
             "ticks": ""
            },
            "colorscale": [
             [
              0,
              "#0d0887"
             ],
             [
              0.1111111111111111,
              "#46039f"
             ],
             [
              0.2222222222222222,
              "#7201a8"
             ],
             [
              0.3333333333333333,
              "#9c179e"
             ],
             [
              0.4444444444444444,
              "#bd3786"
             ],
             [
              0.5555555555555556,
              "#d8576b"
             ],
             [
              0.6666666666666666,
              "#ed7953"
             ],
             [
              0.7777777777777778,
              "#fb9f3a"
             ],
             [
              0.8888888888888888,
              "#fdca26"
             ],
             [
              1,
              "#f0f921"
             ]
            ],
            "type": "contour"
           }
          ],
          "contourcarpet": [
           {
            "colorbar": {
             "outlinewidth": 0,
             "ticks": ""
            },
            "type": "contourcarpet"
           }
          ],
          "heatmap": [
           {
            "colorbar": {
             "outlinewidth": 0,
             "ticks": ""
            },
            "colorscale": [
             [
              0,
              "#0d0887"
             ],
             [
              0.1111111111111111,
              "#46039f"
             ],
             [
              0.2222222222222222,
              "#7201a8"
             ],
             [
              0.3333333333333333,
              "#9c179e"
             ],
             [
              0.4444444444444444,
              "#bd3786"
             ],
             [
              0.5555555555555556,
              "#d8576b"
             ],
             [
              0.6666666666666666,
              "#ed7953"
             ],
             [
              0.7777777777777778,
              "#fb9f3a"
             ],
             [
              0.8888888888888888,
              "#fdca26"
             ],
             [
              1,
              "#f0f921"
             ]
            ],
            "type": "heatmap"
           }
          ],
          "heatmapgl": [
           {
            "colorbar": {
             "outlinewidth": 0,
             "ticks": ""
            },
            "colorscale": [
             [
              0,
              "#0d0887"
             ],
             [
              0.1111111111111111,
              "#46039f"
             ],
             [
              0.2222222222222222,
              "#7201a8"
             ],
             [
              0.3333333333333333,
              "#9c179e"
             ],
             [
              0.4444444444444444,
              "#bd3786"
             ],
             [
              0.5555555555555556,
              "#d8576b"
             ],
             [
              0.6666666666666666,
              "#ed7953"
             ],
             [
              0.7777777777777778,
              "#fb9f3a"
             ],
             [
              0.8888888888888888,
              "#fdca26"
             ],
             [
              1,
              "#f0f921"
             ]
            ],
            "type": "heatmapgl"
           }
          ],
          "histogram": [
           {
            "marker": {
             "pattern": {
              "fillmode": "overlay",
              "size": 10,
              "solidity": 0.2
             }
            },
            "type": "histogram"
           }
          ],
          "histogram2d": [
           {
            "colorbar": {
             "outlinewidth": 0,
             "ticks": ""
            },
            "colorscale": [
             [
              0,
              "#0d0887"
             ],
             [
              0.1111111111111111,
              "#46039f"
             ],
             [
              0.2222222222222222,
              "#7201a8"
             ],
             [
              0.3333333333333333,
              "#9c179e"
             ],
             [
              0.4444444444444444,
              "#bd3786"
             ],
             [
              0.5555555555555556,
              "#d8576b"
             ],
             [
              0.6666666666666666,
              "#ed7953"
             ],
             [
              0.7777777777777778,
              "#fb9f3a"
             ],
             [
              0.8888888888888888,
              "#fdca26"
             ],
             [
              1,
              "#f0f921"
             ]
            ],
            "type": "histogram2d"
           }
          ],
          "histogram2dcontour": [
           {
            "colorbar": {
             "outlinewidth": 0,
             "ticks": ""
            },
            "colorscale": [
             [
              0,
              "#0d0887"
             ],
             [
              0.1111111111111111,
              "#46039f"
             ],
             [
              0.2222222222222222,
              "#7201a8"
             ],
             [
              0.3333333333333333,
              "#9c179e"
             ],
             [
              0.4444444444444444,
              "#bd3786"
             ],
             [
              0.5555555555555556,
              "#d8576b"
             ],
             [
              0.6666666666666666,
              "#ed7953"
             ],
             [
              0.7777777777777778,
              "#fb9f3a"
             ],
             [
              0.8888888888888888,
              "#fdca26"
             ],
             [
              1,
              "#f0f921"
             ]
            ],
            "type": "histogram2dcontour"
           }
          ],
          "mesh3d": [
           {
            "colorbar": {
             "outlinewidth": 0,
             "ticks": ""
            },
            "type": "mesh3d"
           }
          ],
          "parcoords": [
           {
            "line": {
             "colorbar": {
              "outlinewidth": 0,
              "ticks": ""
             }
            },
            "type": "parcoords"
           }
          ],
          "pie": [
           {
            "automargin": true,
            "type": "pie"
           }
          ],
          "scatter": [
           {
            "fillpattern": {
             "fillmode": "overlay",
             "size": 10,
             "solidity": 0.2
            },
            "type": "scatter"
           }
          ],
          "scatter3d": [
           {
            "line": {
             "colorbar": {
              "outlinewidth": 0,
              "ticks": ""
             }
            },
            "marker": {
             "colorbar": {
              "outlinewidth": 0,
              "ticks": ""
             }
            },
            "type": "scatter3d"
           }
          ],
          "scattercarpet": [
           {
            "marker": {
             "colorbar": {
              "outlinewidth": 0,
              "ticks": ""
             }
            },
            "type": "scattercarpet"
           }
          ],
          "scattergeo": [
           {
            "marker": {
             "colorbar": {
              "outlinewidth": 0,
              "ticks": ""
             }
            },
            "type": "scattergeo"
           }
          ],
          "scattergl": [
           {
            "marker": {
             "colorbar": {
              "outlinewidth": 0,
              "ticks": ""
             }
            },
            "type": "scattergl"
           }
          ],
          "scattermapbox": [
           {
            "marker": {
             "colorbar": {
              "outlinewidth": 0,
              "ticks": ""
             }
            },
            "type": "scattermapbox"
           }
          ],
          "scatterpolar": [
           {
            "marker": {
             "colorbar": {
              "outlinewidth": 0,
              "ticks": ""
             }
            },
            "type": "scatterpolar"
           }
          ],
          "scatterpolargl": [
           {
            "marker": {
             "colorbar": {
              "outlinewidth": 0,
              "ticks": ""
             }
            },
            "type": "scatterpolargl"
           }
          ],
          "scatterternary": [
           {
            "marker": {
             "colorbar": {
              "outlinewidth": 0,
              "ticks": ""
             }
            },
            "type": "scatterternary"
           }
          ],
          "surface": [
           {
            "colorbar": {
             "outlinewidth": 0,
             "ticks": ""
            },
            "colorscale": [
             [
              0,
              "#0d0887"
             ],
             [
              0.1111111111111111,
              "#46039f"
             ],
             [
              0.2222222222222222,
              "#7201a8"
             ],
             [
              0.3333333333333333,
              "#9c179e"
             ],
             [
              0.4444444444444444,
              "#bd3786"
             ],
             [
              0.5555555555555556,
              "#d8576b"
             ],
             [
              0.6666666666666666,
              "#ed7953"
             ],
             [
              0.7777777777777778,
              "#fb9f3a"
             ],
             [
              0.8888888888888888,
              "#fdca26"
             ],
             [
              1,
              "#f0f921"
             ]
            ],
            "type": "surface"
           }
          ],
          "table": [
           {
            "cells": {
             "fill": {
              "color": "#EBF0F8"
             },
             "line": {
              "color": "white"
             }
            },
            "header": {
             "fill": {
              "color": "#C8D4E3"
             },
             "line": {
              "color": "white"
             }
            },
            "type": "table"
           }
          ]
         },
         "layout": {
          "annotationdefaults": {
           "arrowcolor": "#2a3f5f",
           "arrowhead": 0,
           "arrowwidth": 1
          },
          "autotypenumbers": "strict",
          "coloraxis": {
           "colorbar": {
            "outlinewidth": 0,
            "ticks": ""
           }
          },
          "colorscale": {
           "diverging": [
            [
             0,
             "#8e0152"
            ],
            [
             0.1,
             "#c51b7d"
            ],
            [
             0.2,
             "#de77ae"
            ],
            [
             0.3,
             "#f1b6da"
            ],
            [
             0.4,
             "#fde0ef"
            ],
            [
             0.5,
             "#f7f7f7"
            ],
            [
             0.6,
             "#e6f5d0"
            ],
            [
             0.7,
             "#b8e186"
            ],
            [
             0.8,
             "#7fbc41"
            ],
            [
             0.9,
             "#4d9221"
            ],
            [
             1,
             "#276419"
            ]
           ],
           "sequential": [
            [
             0,
             "#0d0887"
            ],
            [
             0.1111111111111111,
             "#46039f"
            ],
            [
             0.2222222222222222,
             "#7201a8"
            ],
            [
             0.3333333333333333,
             "#9c179e"
            ],
            [
             0.4444444444444444,
             "#bd3786"
            ],
            [
             0.5555555555555556,
             "#d8576b"
            ],
            [
             0.6666666666666666,
             "#ed7953"
            ],
            [
             0.7777777777777778,
             "#fb9f3a"
            ],
            [
             0.8888888888888888,
             "#fdca26"
            ],
            [
             1,
             "#f0f921"
            ]
           ],
           "sequentialminus": [
            [
             0,
             "#0d0887"
            ],
            [
             0.1111111111111111,
             "#46039f"
            ],
            [
             0.2222222222222222,
             "#7201a8"
            ],
            [
             0.3333333333333333,
             "#9c179e"
            ],
            [
             0.4444444444444444,
             "#bd3786"
            ],
            [
             0.5555555555555556,
             "#d8576b"
            ],
            [
             0.6666666666666666,
             "#ed7953"
            ],
            [
             0.7777777777777778,
             "#fb9f3a"
            ],
            [
             0.8888888888888888,
             "#fdca26"
            ],
            [
             1,
             "#f0f921"
            ]
           ]
          },
          "colorway": [
           "#636efa",
           "#EF553B",
           "#00cc96",
           "#ab63fa",
           "#FFA15A",
           "#19d3f3",
           "#FF6692",
           "#B6E880",
           "#FF97FF",
           "#FECB52"
          ],
          "font": {
           "color": "#2a3f5f"
          },
          "geo": {
           "bgcolor": "white",
           "lakecolor": "white",
           "landcolor": "#E5ECF6",
           "showlakes": true,
           "showland": true,
           "subunitcolor": "white"
          },
          "hoverlabel": {
           "align": "left"
          },
          "hovermode": "closest",
          "mapbox": {
           "style": "light"
          },
          "paper_bgcolor": "white",
          "plot_bgcolor": "#E5ECF6",
          "polar": {
           "angularaxis": {
            "gridcolor": "white",
            "linecolor": "white",
            "ticks": ""
           },
           "bgcolor": "#E5ECF6",
           "radialaxis": {
            "gridcolor": "white",
            "linecolor": "white",
            "ticks": ""
           }
          },
          "scene": {
           "xaxis": {
            "backgroundcolor": "#E5ECF6",
            "gridcolor": "white",
            "gridwidth": 2,
            "linecolor": "white",
            "showbackground": true,
            "ticks": "",
            "zerolinecolor": "white"
           },
           "yaxis": {
            "backgroundcolor": "#E5ECF6",
            "gridcolor": "white",
            "gridwidth": 2,
            "linecolor": "white",
            "showbackground": true,
            "ticks": "",
            "zerolinecolor": "white"
           },
           "zaxis": {
            "backgroundcolor": "#E5ECF6",
            "gridcolor": "white",
            "gridwidth": 2,
            "linecolor": "white",
            "showbackground": true,
            "ticks": "",
            "zerolinecolor": "white"
           }
          },
          "shapedefaults": {
           "line": {
            "color": "#2a3f5f"
           }
          },
          "ternary": {
           "aaxis": {
            "gridcolor": "white",
            "linecolor": "white",
            "ticks": ""
           },
           "baxis": {
            "gridcolor": "white",
            "linecolor": "white",
            "ticks": ""
           },
           "bgcolor": "#E5ECF6",
           "caxis": {
            "gridcolor": "white",
            "linecolor": "white",
            "ticks": ""
           }
          },
          "title": {
           "x": 0.05
          },
          "xaxis": {
           "automargin": true,
           "gridcolor": "white",
           "linecolor": "white",
           "ticks": "",
           "title": {
            "standoff": 15
           },
           "zerolinecolor": "white",
           "zerolinewidth": 2
          },
          "yaxis": {
           "automargin": true,
           "gridcolor": "white",
           "linecolor": "white",
           "ticks": "",
           "title": {
            "standoff": 15
           },
           "zerolinecolor": "white",
           "zerolinewidth": 2
          }
         }
        },
        "xaxis": {
         "autorange": true,
         "range": [
          2003.8805287867556,
          2023.1194712132444
         ],
         "type": "linear"
        },
        "yaxis": {
         "autorange": true,
         "range": [
          60.43871416325243,
          71.18628964674757
         ],
         "type": "linear"
        }
       }
      },
      "image/png": "[encoded data removed]",
      "text/html": [
       "<div>                            <div id=\"a9e2a695-2782-4df1-8f22-85b47748bf6f\" class=\"plotly-graph-div\" style=\"height:525px; width:100%;\"></div>            <script type=\"text/javascript\">                require([\"plotly\"], function(Plotly) {                    window.PLOTLYENV=window.PLOTLYENV || {};                                    if (document.getElementById(\"a9e2a695-2782-4df1-8f22-85b47748bf6f\")) {                    Plotly.newPlot(                        \"a9e2a695-2782-4df1-8f22-85b47748bf6f\",                        [{\"name\":\"New Zealand\",\"x\":[2006,2007,2008,2010,2011,2012,2013,2014,2015,2016,2017,2018,2019,2020,2021,2022],\"y\":[69.72000122,69.73999786,69.76000214,69.80000305,69.81999969,69.83999634,69.86000061,69.87999725,69.90000153,69.97499847,70.05000305,70.125,70.19999695,70.27500153,70.34999847,70.42500305],\"type\":\"scatter\"},{\"name\":\"Saudi Arabia\",\"x\":[2005,2007,2008,2009,2010,2011,2012,2013,2014,2015,2016,2017,2018,2019,2020,2021,2022],\"y\":[61.20000076,61.59999847,61.79999924,62.0,62.20000076,62.40000153,62.59999847,62.79999924,63.0,63.20000076,63.40000153,63.59999847,63.79999924,64.0,64.19999695,64.40000153,64.59999847],\"type\":\"scatter\"}],                        {\"template\":{\"data\":{\"histogram2dcontour\":[{\"type\":\"histogram2dcontour\",\"colorbar\":{\"outlinewidth\":0,\"ticks\":\"\"},\"colorscale\":[[0.0,\"#0d0887\"],[0.1111111111111111,\"#46039f\"],[0.2222222222222222,\"#7201a8\"],[0.3333333333333333,\"#9c179e\"],[0.4444444444444444,\"#bd3786\"],[0.5555555555555556,\"#d8576b\"],[0.6666666666666666,\"#ed7953\"],[0.7777777777777778,\"#fb9f3a\"],[0.8888888888888888,\"#fdca26\"],[1.0,\"#f0f921\"]]}],\"choropleth\":[{\"type\":\"choropleth\",\"colorbar\":{\"outlinewidth\":0,\"ticks\":\"\"}}],\"histogram2d\":[{\"type\":\"histogram2d\",\"colorbar\":{\"outlinewidth\":0,\"ticks\":\"\"},\"colorscale\":[[0.0,\"#0d0887\"],[0.1111111111111111,\"#46039f\"],[0.2222222222222222,\"#7201a8\"],[0.3333333333333333,\"#9c179e\"],[0.4444444444444444,\"#bd3786\"],[0.5555555555555556,\"#d8576b\"],[0.6666666666666666,\"#ed7953\"],[0.7777777777777778,\"#fb9f3a\"],[0.8888888888888888,\"#fdca26\"],[1.0,\"#f0f921\"]]}],\"heatmap\":[{\"type\":\"heatmap\",\"colorbar\":{\"outlinewidth\":0,\"ticks\":\"\"},\"colorscale\":[[0.0,\"#0d0887\"],[0.1111111111111111,\"#46039f\"],[0.2222222222222222,\"#7201a8\"],[0.3333333333333333,\"#9c179e\"],[0.4444444444444444,\"#bd3786\"],[0.5555555555555556,\"#d8576b\"],[0.6666666666666666,\"#ed7953\"],[0.7777777777777778,\"#fb9f3a\"],[0.8888888888888888,\"#fdca26\"],[1.0,\"#f0f921\"]]}],\"heatmapgl\":[{\"type\":\"heatmapgl\",\"colorbar\":{\"outlinewidth\":0,\"ticks\":\"\"},\"colorscale\":[[0.0,\"#0d0887\"],[0.1111111111111111,\"#46039f\"],[0.2222222222222222,\"#7201a8\"],[0.3333333333333333,\"#9c179e\"],[0.4444444444444444,\"#bd3786\"],[0.5555555555555556,\"#d8576b\"],[0.6666666666666666,\"#ed7953\"],[0.7777777777777778,\"#fb9f3a\"],[0.8888888888888888,\"#fdca26\"],[1.0,\"#f0f921\"]]}],\"contourcarpet\":[{\"type\":\"contourcarpet\",\"colorbar\":{\"outlinewidth\":0,\"ticks\":\"\"}}],\"contour\":[{\"type\":\"contour\",\"colorbar\":{\"outlinewidth\":0,\"ticks\":\"\"},\"colorscale\":[[0.0,\"#0d0887\"],[0.1111111111111111,\"#46039f\"],[0.2222222222222222,\"#7201a8\"],[0.3333333333333333,\"#9c179e\"],[0.4444444444444444,\"#bd3786\"],[0.5555555555555556,\"#d8576b\"],[0.6666666666666666,\"#ed7953\"],[0.7777777777777778,\"#fb9f3a\"],[0.8888888888888888,\"#fdca26\"],[1.0,\"#f0f921\"]]}],\"surface\":[{\"type\":\"surface\",\"colorbar\":{\"outlinewidth\":0,\"ticks\":\"\"},\"colorscale\":[[0.0,\"#0d0887\"],[0.1111111111111111,\"#46039f\"],[0.2222222222222222,\"#7201a8\"],[0.3333333333333333,\"#9c179e\"],[0.4444444444444444,\"#bd3786\"],[0.5555555555555556,\"#d8576b\"],[0.6666666666666666,\"#ed7953\"],[0.7777777777777778,\"#fb9f3a\"],[0.8888888888888888,\"#fdca26\"],[1.0,\"#f0f921\"]]}],\"mesh3d\":[{\"type\":\"mesh3d\",\"colorbar\":{\"outlinewidth\":0,\"ticks\":\"\"}}],\"scatter\":[{\"fillpattern\":{\"fillmode\":\"overlay\",\"size\":10,\"solidity\":0.2},\"type\":\"scatter\"}],\"parcoords\":[{\"type\":\"parcoords\",\"line\":{\"colorbar\":{\"outlinewidth\":0,\"ticks\":\"\"}}}],\"scatterpolargl\":[{\"type\":\"scatterpolargl\",\"marker\":{\"colorbar\":{\"outlinewidth\":0,\"ticks\":\"\"}}}],\"bar\":[{\"error_x\":{\"color\":\"#2a3f5f\"},\"error_y\":{\"color\":\"#2a3f5f\"},\"marker\":{\"line\":{\"color\":\"#E5ECF6\",\"width\":0.5},\"pattern\":{\"fillmode\":\"overlay\",\"size\":10,\"solidity\":0.2}},\"type\":\"bar\"}],\"scattergeo\":[{\"type\":\"scattergeo\",\"marker\":{\"colorbar\":{\"outlinewidth\":0,\"ticks\":\"\"}}}],\"scatterpolar\":[{\"type\":\"scatterpolar\",\"marker\":{\"colorbar\":{\"outlinewidth\":0,\"ticks\":\"\"}}}],\"histogram\":[{\"marker\":{\"pattern\":{\"fillmode\":\"overlay\",\"size\":10,\"solidity\":0.2}},\"type\":\"histogram\"}],\"scattergl\":[{\"type\":\"scattergl\",\"marker\":{\"colorbar\":{\"outlinewidth\":0,\"ticks\":\"\"}}}],\"scatter3d\":[{\"type\":\"scatter3d\",\"line\":{\"colorbar\":{\"outlinewidth\":0,\"ticks\":\"\"}},\"marker\":{\"colorbar\":{\"outlinewidth\":0,\"ticks\":\"\"}}}],\"scattermapbox\":[{\"type\":\"scattermapbox\",\"marker\":{\"colorbar\":{\"outlinewidth\":0,\"ticks\":\"\"}}}],\"scatterternary\":[{\"type\":\"scatterternary\",\"marker\":{\"colorbar\":{\"outlinewidth\":0,\"ticks\":\"\"}}}],\"scattercarpet\":[{\"type\":\"scattercarpet\",\"marker\":{\"colorbar\":{\"outlinewidth\":0,\"ticks\":\"\"}}}],\"carpet\":[{\"aaxis\":{\"endlinecolor\":\"#2a3f5f\",\"gridcolor\":\"white\",\"linecolor\":\"white\",\"minorgridcolor\":\"white\",\"startlinecolor\":\"#2a3f5f\"},\"baxis\":{\"endlinecolor\":\"#2a3f5f\",\"gridcolor\":\"white\",\"linecolor\":\"white\",\"minorgridcolor\":\"white\",\"startlinecolor\":\"#2a3f5f\"},\"type\":\"carpet\"}],\"table\":[{\"cells\":{\"fill\":{\"color\":\"#EBF0F8\"},\"line\":{\"color\":\"white\"}},\"header\":{\"fill\":{\"color\":\"#C8D4E3\"},\"line\":{\"color\":\"white\"}},\"type\":\"table\"}],\"barpolar\":[{\"marker\":{\"line\":{\"color\":\"#E5ECF6\",\"width\":0.5},\"pattern\":{\"fillmode\":\"overlay\",\"size\":10,\"solidity\":0.2}},\"type\":\"barpolar\"}],\"pie\":[{\"automargin\":true,\"type\":\"pie\"}]},\"layout\":{\"autotypenumbers\":\"strict\",\"colorway\":[\"#636efa\",\"#EF553B\",\"#00cc96\",\"#ab63fa\",\"#FFA15A\",\"#19d3f3\",\"#FF6692\",\"#B6E880\",\"#FF97FF\",\"#FECB52\"],\"font\":{\"color\":\"#2a3f5f\"},\"hovermode\":\"closest\",\"hoverlabel\":{\"align\":\"left\"},\"paper_bgcolor\":\"white\",\"plot_bgcolor\":\"#E5ECF6\",\"polar\":{\"bgcolor\":\"#E5ECF6\",\"angularaxis\":{\"gridcolor\":\"white\",\"linecolor\":\"white\",\"ticks\":\"\"},\"radialaxis\":{\"gridcolor\":\"white\",\"linecolor\":\"white\",\"ticks\":\"\"}},\"ternary\":{\"bgcolor\":\"#E5ECF6\",\"aaxis\":{\"gridcolor\":\"white\",\"linecolor\":\"white\",\"ticks\":\"\"},\"baxis\":{\"gridcolor\":\"white\",\"linecolor\":\"white\",\"ticks\":\"\"},\"caxis\":{\"gridcolor\":\"white\",\"linecolor\":\"white\",\"ticks\":\"\"}},\"coloraxis\":{\"colorbar\":{\"outlinewidth\":0,\"ticks\":\"\"}},\"colorscale\":{\"sequential\":[[0.0,\"#0d0887\"],[0.1111111111111111,\"#46039f\"],[0.2222222222222222,\"#7201a8\"],[0.3333333333333333,\"#9c179e\"],[0.4444444444444444,\"#bd3786\"],[0.5555555555555556,\"#d8576b\"],[0.6666666666666666,\"#ed7953\"],[0.7777777777777778,\"#fb9f3a\"],[0.8888888888888888,\"#fdca26\"],[1.0,\"#f0f921\"]],\"sequentialminus\":[[0.0,\"#0d0887\"],[0.1111111111111111,\"#46039f\"],[0.2222222222222222,\"#7201a8\"],[0.3333333333333333,\"#9c179e\"],[0.4444444444444444,\"#bd3786\"],[0.5555555555555556,\"#d8576b\"],[0.6666666666666666,\"#ed7953\"],[0.7777777777777778,\"#fb9f3a\"],[0.8888888888888888,\"#fdca26\"],[1.0,\"#f0f921\"]],\"diverging\":[[0,\"#8e0152\"],[0.1,\"#c51b7d\"],[0.2,\"#de77ae\"],[0.3,\"#f1b6da\"],[0.4,\"#fde0ef\"],[0.5,\"#f7f7f7\"],[0.6,\"#e6f5d0\"],[0.7,\"#b8e186\"],[0.8,\"#7fbc41\"],[0.9,\"#4d9221\"],[1,\"#276419\"]]},\"xaxis\":{\"gridcolor\":\"white\",\"linecolor\":\"white\",\"ticks\":\"\",\"title\":{\"standoff\":15},\"zerolinecolor\":\"white\",\"automargin\":true,\"zerolinewidth\":2},\"yaxis\":{\"gridcolor\":\"white\",\"linecolor\":\"white\",\"ticks\":\"\",\"title\":{\"standoff\":15},\"zerolinecolor\":\"white\",\"automargin\":true,\"zerolinewidth\":2},\"scene\":{\"xaxis\":{\"backgroundcolor\":\"#E5ECF6\",\"gridcolor\":\"white\",\"linecolor\":\"white\",\"showbackground\":true,\"ticks\":\"\",\"zerolinecolor\":\"white\",\"gridwidth\":2},\"yaxis\":{\"backgroundcolor\":\"#E5ECF6\",\"gridcolor\":\"white\",\"linecolor\":\"white\",\"showbackground\":true,\"ticks\":\"\",\"zerolinecolor\":\"white\",\"gridwidth\":2},\"zaxis\":{\"backgroundcolor\":\"#E5ECF6\",\"gridcolor\":\"white\",\"linecolor\":\"white\",\"showbackground\":true,\"ticks\":\"\",\"zerolinecolor\":\"white\",\"gridwidth\":2}},\"shapedefaults\":{\"line\":{\"color\":\"#2a3f5f\"}},\"annotationdefaults\":{\"arrowcolor\":\"#2a3f5f\",\"arrowhead\":0,\"arrowwidth\":1},\"geo\":{\"bgcolor\":\"white\",\"landcolor\":\"#E5ECF6\",\"subunitcolor\":\"white\",\"showland\":true,\"showlakes\":true,\"lakecolor\":\"white\"},\"title\":{\"x\":0.05},\"mapbox\":{\"style\":\"light\"}}}},                        {\"responsive\": true}                    ).then(function(){\n",
       "                            \n",
       "var gd = document.getElementById('a9e2a695-2782-4df1-8f22-85b47748bf6f');\n",
       "var x = new MutationObserver(function (mutations, observer) {{\n",
       "        var display = window.getComputedStyle(gd).display;\n",
       "        if (!display || display === 'none') {{\n",
       "            console.log([gd, 'removed!']);\n",
       "            Plotly.purge(gd);\n",
       "            observer.disconnect();\n",
       "        }}\n",
       "}});\n",
       "\n",
       "// Listen for the removal of the full notebook cells\n",
       "var notebookContainer = gd.closest('#notebook-container');\n",
       "if (notebookContainer) {{\n",
       "    x.observe(notebookContainer, {childList: true});\n",
       "}}\n",
       "\n",
       "// Listen for the clearing of the current output cell\n",
       "var outputEl = gd.closest('.output');\n",
       "if (outputEl) {{\n",
       "    x.observe(outputEl, {childList: true});\n",
       "}}\n",
       "\n",
       "                        })                };                });            </script>        </div>"
      ]
     },
     "metadata": {},
     "output_type": "display_data"
    }
   ],
   "source": [
    "life_year_fig = go.Figure()\n",
    "life_year_fig.add_trace(\n",
    "    go.Line(\n",
    "        x=df_05_22.query(\"`Country Name` == 'New Zealand'\")['Year'],\n",
    "        y=df_05_22.query(\"`Country Name` == 'New Zealand'\")['Healthy Life Expectancy At Birth'],\n",
    "        name='New Zealand'\n",
    "    )\n",
    ")\n",
    "\n",
    "life_year_fig.add_trace(\n",
    "    go.Line(\n",
    "        x=df_05_22.query(\"`Country Name` == 'Saudi Arabia'\")['Year'],\n",
    "        y=df_05_22.query(\"`Country Name` == 'Saudi Arabia'\")['Healthy Life Expectancy At Birth'],\n",
    "        name='Saudi Arabia'\n",
    "    )\n",
    ")"
   ]
  },
  {
   "cell_type": "markdown",
   "id": "d5a6a90d-241c-45bd-b549-13a4cad3b8b5",
   "metadata": {},
   "source": [
    "## App"
   ]
  },
  {
   "cell_type": "code",
   "execution_count": 224,
   "id": "059d08d7-5aa1-4f7c-9f52-0c9c4e19dc83",
   "metadata": {},
   "outputs": [],
   "source": [
    "app = Dash(external_stylesheets=[dbc.themes.BOOTSTRAP])"
   ]
  },
  {
   "cell_type": "markdown",
   "id": "07b1ebed-4e7e-4464-ace8-63814d670602",
   "metadata": {},
   "source": [
    "### Metric per year for country in region"
   ]
  },
  {
   "cell_type": "code",
   "execution_count": 225,
   "id": "c155d1bf-d4d6-4478-a56d-9641208d5342",
   "metadata": {},
   "outputs": [],
   "source": [
    "regions = list(df_05_22['Regional Indicator'].dropna().unique())"
   ]
  },
  {
   "cell_type": "code",
   "execution_count": 226,
   "id": "4769bae1-f155-4c55-8e98-182da0adbde4",
   "metadata": {},
   "outputs": [
    {
     "data": {
      "text/plain": [
       "['South Asia',\n",
       " 'Central and Eastern Europe',\n",
       " 'Middle East and North Africa',\n",
       " 'Latin America and Caribbean',\n",
       " 'Commonwealth of Independent States',\n",
       " 'North America and ANZ',\n",
       " 'Western Europe',\n",
       " 'Sub-Saharan Africa',\n",
       " 'Southeast Asia',\n",
       " 'East Asia']"
      ]
     },
     "execution_count": 226,
     "metadata": {},
     "output_type": "execute_result"
    }
   ],
   "source": [
    "regions"
   ]
  },
  {
   "cell_type": "code",
   "execution_count": 227,
   "id": "10a37bee-0c6b-4eab-bd93-4e40b56eac99",
   "metadata": {},
   "outputs": [],
   "source": [
    "metrics = [\n",
    "    'Life Ladder', 'Log GDP Per Capita', 'Social Support',\n",
    "    'Healthy Life Expectancy At Birth', 'Freedom To Make Life Choices',\n",
    "    'Generosity', 'Perceptions Of Corruption', 'Positive Affect',\n",
    "    'Negative Affect', 'Confidence In National Government'\n",
    "]"
   ]
  },
  {
   "cell_type": "markdown",
   "id": "3acd7887-c9e7-4dea-a3fc-71480c5b7437",
   "metadata": {},
   "source": [
    "#### choose metric, region and countries and display for each year "
   ]
  },
  {
   "cell_type": "code",
   "execution_count": 228,
   "id": "0d9c9a71-7724-4c5a-87a2-2cdc33bf4686",
   "metadata": {},
   "outputs": [],
   "source": [
    "metric_year_country_controls = dbc.Card(\n",
    "    [\n",
    "        html.Div(\n",
    "            [\n",
    "            dbc.Label(\"Region\"),\n",
    "            dcc.Dropdown(\n",
    "                id='metric-year-region-selection',\n",
    "                value = ['Western Europe',],\n",
    "                options = regions,\n",
    "                multi = True\n",
    "            )\n",
    "            ]),\n",
    "        html.Div(\n",
    "            [\n",
    "            dbc.Label(\"Country\"),\n",
    "            dcc.Dropdown(\n",
    "                id='metric-year-country-selection',\n",
    "                multi=True\n",
    "            )\n",
    "            ]),\n",
    "        html.Div(\n",
    "            [\n",
    "            dbc.Label(\"Metric\"),\n",
    "            dcc.Dropdown(\n",
    "                id='metric-year-metric-selection',\n",
    "                value = 'Life Ladder',\n",
    "                options = metrics\n",
    "            )\n",
    "            ]),\n",
    "        # html.Div(\n",
    "        #     [\n",
    "        #     dbc.Label(\"Year\"),\n",
    "        #     dcc.Slider(\n",
    "        #         2005, 2022, 1,\n",
    "        #         value = 2005,\n",
    "        #         id='metric-year-year-selection',\n",
    "        #     )\n",
    "        #     ]),\n",
    "    ],\n",
    "    body=True,\n",
    ")"
   ]
  },
  {
   "cell_type": "code",
   "execution_count": 229,
   "id": "8680fcb0-4400-4c39-88b9-44928f75b248",
   "metadata": {},
   "outputs": [],
   "source": [
    "metric_year_country_container = dbc.Container([\n",
    "    html.H1(children = 'Metric for chosen year and country within region', style={'textAlign': 'center'}),\n",
    "    html.P(id='metric-year-country-shape'),\n",
    "    dbc.Row(\n",
    "        [\n",
    "            dbc.Col(metric_year_country_controls, md=4),\n",
    "            dbc.Col(dcc.Graph(id='metric-year-country-graph'), md=8),\n",
    "        ],\n",
    "        align=\"center\",\n",
    "    ),\n",
    "], fluid=True)"
   ]
  },
  {
   "cell_type": "code",
   "execution_count": 230,
   "id": "b6e3a8fc-4797-43ba-84e2-865a2c13c2b7",
   "metadata": {},
   "outputs": [],
   "source": [
    "@app.callback(\n",
    "    [\n",
    "        Output('metric-year-country-graph', 'figure'),\n",
    "        Output('metric-year-country-shape', 'children'),\n",
    "    ],\n",
    "    [\n",
    "        Input('metric-year-country-selection', 'value'),\n",
    "        Input('metric-year-metric-selection', 'value'),\n",
    "        # Input('metric-year-year-selection', 'value'),\n",
    "    ]\n",
    ")\n",
    "def update_metric_year_country_graph(countries, metric):\n",
    "    fig = go.Figure()\n",
    "\n",
    "    for country in countries:\n",
    "        country_df = df_05_22[df_05_22['Country Name'] == country]\n",
    "        fig.add_trace(\n",
    "            go.Line(x = country_df['Year'].values,\n",
    "                    y = country_df[metric].values,\n",
    "                    name = country\n",
    "                   )\n",
    "        )\n",
    "    # fig.update_layout(barmode='relative')\n",
    "    fig.update_layout(barmode='stack')\n",
    "    \n",
    "    # return fig, f'shape: {country_df.shape}'\n",
    "    return fig, f'countries: {countries}'\n",
    "\n",
    "@app.callback(\n",
    "    [\n",
    "        Output('metric-year-country-selection', 'options')\n",
    "    ],\n",
    "    [\n",
    "        Input('metric-year-region-selection', 'value')\n",
    "    ]\n",
    ")\n",
    "def set_dynamic_metric_year_country_options(regions):\n",
    "    options = dict()\n",
    "    for region in regions:\n",
    "        region_countries = list(df_05_22[df_05_22['Regional Indicator'] == region]['Country Name'].unique())\n",
    "    for country in region_countries:\n",
    "        options[country] = country\n",
    "    return [options]\n",
    "\n",
    "# ======= choose from available dynamic options =========\n",
    "# has to be done manually due to dynamicity\n",
    "# also this is how to return multiple options\n",
    "# in case of one you'd have to take [0] of value from options\n",
    "@app.callback(\n",
    "    Output('metric-year-country-selection', 'value'),\n",
    "    Input('metric-year-country-selection', 'options')\n",
    ")\n",
    "def set_dynamic_metric_year_country_value(options):\n",
    "    output = [option for option in options]\n",
    "    return output\n",
    "    # return options[0]['value']\n",
    "    # return options"
   ]
  },
  {
   "cell_type": "markdown",
   "id": "c5aabb7b-7261-4610-806d-c74bc1fbbe3d",
   "metadata": {},
   "source": [
    "#### Choose year and metric and display all regions"
   ]
  },
  {
   "cell_type": "code",
   "execution_count": 231,
   "id": "3619aa2d-1b6b-4eec-b682-e50699327b45",
   "metadata": {},
   "outputs": [],
   "source": [
    "metric_regions_controls = dbc.Card(\n",
    "    [\n",
    "        html.Div(\n",
    "            [\n",
    "            dbc.Label(\"Metric\"),\n",
    "            dcc.Dropdown(\n",
    "                id='metric-regions-metric-selection',\n",
    "                value = 'Life Ladder',\n",
    "                options = metrics\n",
    "            )\n",
    "            ]),\n",
    "        html.Div(\n",
    "            [\n",
    "            dbc.Label(\"Year\"),\n",
    "            dcc.Slider(\n",
    "                2005, 2022, 1,\n",
    "                value = 2012,\n",
    "                id='metric-regions-year-selection',\n",
    "            )\n",
    "            ]),\n",
    "    ],\n",
    "    body=True,\n",
    ")"
   ]
  },
  {
   "cell_type": "code",
   "execution_count": 232,
   "id": "51a21469-83b4-4ced-b94f-df7769999d84",
   "metadata": {},
   "outputs": [],
   "source": [
    "metric_regions_container = dbc.Container([\n",
    "    html.H1(children = 'Metric by regions for selected year', style={'textAlign': 'center'}),\n",
    "    html.P(id='metric-regions-test'),\n",
    "    dbc.Row(\n",
    "        [\n",
    "            dbc.Col(metric_regions_controls, md=4),\n",
    "            dbc.Col(dcc.Graph(id='metric-regions-graph'), md=8),\n",
    "        ],\n",
    "        align=\"center\",\n",
    "    ),\n",
    "], fluid=True)"
   ]
  },
  {
   "cell_type": "code",
   "execution_count": 233,
   "id": "a26f0e96-ac67-462f-84af-994fc498fa2f",
   "metadata": {},
   "outputs": [],
   "source": [
    "@app.callback(\n",
    "    [\n",
    "        Output('metric-regions-graph', 'figure')\n",
    "        ,Output('metric-regions-test', 'children')\n",
    "    ],\n",
    "    [\n",
    "        Input('metric-regions-metric-selection', 'value'),\n",
    "        Input('metric-regions-year-selection', 'value'),\n",
    "    ]\n",
    ")\n",
    "def update_metric_regions_graph(metric, year):\n",
    "    year_df = df_05_22[df_05_22['Year'] == year]\n",
    "    fig = px.bar(year_df, x = 'Regional Indicator', y = metric, barmode='stack') \n",
    "    # fig = px.scatter(df, y='Life expectancy', x=metric, hover_data='Country', color='Regional Indicator')\n",
    "    return fig, f'metric: {metric}'\n",
    "    # return fig"
   ]
  },
  {
   "cell_type": "markdown",
   "id": "2d74d8d9-478e-4b16-9afa-914208f5ad6e",
   "metadata": {},
   "source": [
    "### App layout and run"
   ]
  },
  {
   "cell_type": "code",
   "execution_count": 234,
   "id": "e32f2eea-eeb5-469d-9719-379e0d74b37c",
   "metadata": {},
   "outputs": [],
   "source": [
    "app.layout = dbc.Container([\n",
    "    metric_year_country_container,\n",
    "    html.Hr(),\n",
    "    metric_regions_container,\n",
    "    html.Hr()\n",
    "], fluid=True)"
   ]
  },
  {
   "cell_type": "code",
   "execution_count": 235,
   "id": "ac1d9ce9-22cd-4386-9823-f4f663af4cec",
   "metadata": {},
   "outputs": [
    {
     "data": {
      "text/html": [
       "\n",
       "        <iframe\n",
       "            width=\"100%\"\n",
       "            height=\"650\"\n",
       "            src=\"http://127.0.0.1:8051/\"\n",
       "            frameborder=\"0\"\n",
       "            allowfullscreen\n",
       "            \n",
       "        ></iframe>\n",
       "        "
      ],
      "text/plain": [
       "<IPython.lib.display.IFrame at 0x19fa9dca440>"
      ]
     },
     "metadata": {},
     "output_type": "display_data"
    },
    {
     "name": "stderr",
     "output_type": "stream",
     "text": [
      "C:\\Users\\User\\Desktop\\programowanie_web_etc\\python_projects\\data_projects\\venv\\lib\\site-packages\\plotly\\graph_objs\\_deprecations.py:378: DeprecationWarning:\n",
      "\n",
      "plotly.graph_objs.Line is deprecated.\n",
      "Please replace it with one of the following more specific types\n",
      "  - plotly.graph_objs.scatter.Line\n",
      "  - plotly.graph_objs.layout.shape.Line\n",
      "  - etc.\n",
      "\n",
      "\n"
     ]
    }
   ],
   "source": [
    "app.run(debug=True, port=8051)\n",
    "# app.run(port=8051)"
   ]
  },
  {
   "cell_type": "markdown",
   "id": "767f9611-4527-45bd-a9dd-25f5e63cd56f",
   "metadata": {},
   "source": [
    "### Some manual visualizations"
   ]
  },
  {
   "cell_type": "code",
   "execution_count": 236,
   "id": "120234cb-50de-4570-8748-1d5e74b2047d",
   "metadata": {},
   "outputs": [],
   "source": [
    "metrics_means = df_05_22.groupby(by=['Regional Indicator', 'Year'], as_index=False)[metrics].mean()"
   ]
  },
  {
   "cell_type": "code",
   "execution_count": 237,
   "id": "df6caed9-004a-4435-99a6-ffc822bd638e",
   "metadata": {
    "scrolled": true
   },
   "outputs": [
    {
     "data": {
      "text/html": [
       "<div>\n",
       "<style scoped>\n",
       "    .dataframe tbody tr th:only-of-type {\n",
       "        vertical-align: middle;\n",
       "    }\n",
       "\n",
       "    .dataframe tbody tr th {\n",
       "        vertical-align: top;\n",
       "    }\n",
       "\n",
       "    .dataframe thead th {\n",
       "        text-align: right;\n",
       "    }\n",
       "</style>\n",
       "<table border=\"1\" class=\"dataframe\">\n",
       "  <thead>\n",
       "    <tr style=\"text-align: right;\">\n",
       "      <th></th>\n",
       "      <th>Regional Indicator</th>\n",
       "      <th>Year</th>\n",
       "      <th>Life Ladder</th>\n",
       "      <th>Log GDP Per Capita</th>\n",
       "      <th>Social Support</th>\n",
       "      <th>Healthy Life Expectancy At Birth</th>\n",
       "      <th>Freedom To Make Life Choices</th>\n",
       "      <th>Generosity</th>\n",
       "      <th>Perceptions Of Corruption</th>\n",
       "      <th>Positive Affect</th>\n",
       "      <th>Negative Affect</th>\n",
       "      <th>Confidence In National Government</th>\n",
       "    </tr>\n",
       "  </thead>\n",
       "  <tbody>\n",
       "    <tr>\n",
       "      <th>0</th>\n",
       "      <td>Central and Eastern Europe</td>\n",
       "      <td>2005</td>\n",
       "      <td>5.276597</td>\n",
       "      <td>9.893333</td>\n",
       "      <td>0.896280</td>\n",
       "      <td>65.233332</td>\n",
       "      <td>0.759823</td>\n",
       "      <td>NaN</td>\n",
       "      <td>0.947542</td>\n",
       "      <td>0.588402</td>\n",
       "      <td>0.306151</td>\n",
       "      <td>0.234061</td>\n",
       "    </tr>\n",
       "    <tr>\n",
       "      <th>1</th>\n",
       "      <td>Central and Eastern Europe</td>\n",
       "      <td>2006</td>\n",
       "      <td>5.422188</td>\n",
       "      <td>10.147592</td>\n",
       "      <td>0.922932</td>\n",
       "      <td>65.312000</td>\n",
       "      <td>0.686988</td>\n",
       "      <td>-0.162401</td>\n",
       "      <td>0.870836</td>\n",
       "      <td>0.587992</td>\n",
       "      <td>0.263685</td>\n",
       "      <td>0.316057</td>\n",
       "    </tr>\n",
       "    <tr>\n",
       "      <th>2</th>\n",
       "      <td>Central and Eastern Europe</td>\n",
       "      <td>2007</td>\n",
       "      <td>5.056003</td>\n",
       "      <td>9.813169</td>\n",
       "      <td>0.851044</td>\n",
       "      <td>65.483077</td>\n",
       "      <td>0.563014</td>\n",
       "      <td>-0.121967</td>\n",
       "      <td>0.899774</td>\n",
       "      <td>0.563651</td>\n",
       "      <td>0.265359</td>\n",
       "      <td>0.328052</td>\n",
       "    </tr>\n",
       "    <tr>\n",
       "      <th>3</th>\n",
       "      <td>Central and Eastern Europe</td>\n",
       "      <td>2008</td>\n",
       "      <td>5.418225</td>\n",
       "      <td>9.868189</td>\n",
       "      <td>0.889164</td>\n",
       "      <td>64.646666</td>\n",
       "      <td>0.631166</td>\n",
       "      <td>-0.148831</td>\n",
       "      <td>0.849750</td>\n",
       "      <td>0.557046</td>\n",
       "      <td>0.256584</td>\n",
       "      <td>0.308070</td>\n",
       "    </tr>\n",
       "    <tr>\n",
       "      <th>4</th>\n",
       "      <td>Central and Eastern Europe</td>\n",
       "      <td>2009</td>\n",
       "      <td>5.180073</td>\n",
       "      <td>9.780750</td>\n",
       "      <td>0.838718</td>\n",
       "      <td>66.118462</td>\n",
       "      <td>0.546456</td>\n",
       "      <td>-0.113776</td>\n",
       "      <td>0.906335</td>\n",
       "      <td>0.546291</td>\n",
       "      <td>0.295847</td>\n",
       "      <td>0.219289</td>\n",
       "    </tr>\n",
       "    <tr>\n",
       "      <th>...</th>\n",
       "      <td>...</td>\n",
       "      <td>...</td>\n",
       "      <td>...</td>\n",
       "      <td>...</td>\n",
       "      <td>...</td>\n",
       "      <td>...</td>\n",
       "      <td>...</td>\n",
       "      <td>...</td>\n",
       "      <td>...</td>\n",
       "      <td>...</td>\n",
       "      <td>...</td>\n",
       "      <td>...</td>\n",
       "    </tr>\n",
       "    <tr>\n",
       "      <th>172</th>\n",
       "      <td>Western Europe</td>\n",
       "      <td>2018</td>\n",
       "      <td>6.965981</td>\n",
       "      <td>10.848434</td>\n",
       "      <td>0.915721</td>\n",
       "      <td>71.271052</td>\n",
       "      <td>0.849797</td>\n",
       "      <td>-0.006589</td>\n",
       "      <td>0.514867</td>\n",
       "      <td>0.702958</td>\n",
       "      <td>0.248889</td>\n",
       "      <td>0.518225</td>\n",
       "    </tr>\n",
       "    <tr>\n",
       "      <th>173</th>\n",
       "      <td>Western Europe</td>\n",
       "      <td>2019</td>\n",
       "      <td>7.014725</td>\n",
       "      <td>10.867792</td>\n",
       "      <td>0.919279</td>\n",
       "      <td>71.415000</td>\n",
       "      <td>0.864029</td>\n",
       "      <td>-0.007058</td>\n",
       "      <td>0.528199</td>\n",
       "      <td>0.707963</td>\n",
       "      <td>0.238768</td>\n",
       "      <td>0.513709</td>\n",
       "    </tr>\n",
       "    <tr>\n",
       "      <th>174</th>\n",
       "      <td>Western Europe</td>\n",
       "      <td>2020</td>\n",
       "      <td>6.919509</td>\n",
       "      <td>10.766903</td>\n",
       "      <td>0.919282</td>\n",
       "      <td>71.518420</td>\n",
       "      <td>0.864338</td>\n",
       "      <td>-0.039421</td>\n",
       "      <td>0.509762</td>\n",
       "      <td>0.694341</td>\n",
       "      <td>0.256354</td>\n",
       "      <td>0.587490</td>\n",
       "    </tr>\n",
       "    <tr>\n",
       "      <th>175</th>\n",
       "      <td>Western Europe</td>\n",
       "      <td>2021</td>\n",
       "      <td>6.921246</td>\n",
       "      <td>10.820962</td>\n",
       "      <td>0.905342</td>\n",
       "      <td>71.631581</td>\n",
       "      <td>0.838181</td>\n",
       "      <td>0.065898</td>\n",
       "      <td>0.516953</td>\n",
       "      <td>0.703043</td>\n",
       "      <td>0.250463</td>\n",
       "      <td>0.565763</td>\n",
       "    </tr>\n",
       "    <tr>\n",
       "      <th>176</th>\n",
       "      <td>Western Europe</td>\n",
       "      <td>2022</td>\n",
       "      <td>6.811595</td>\n",
       "      <td>10.919305</td>\n",
       "      <td>0.906772</td>\n",
       "      <td>71.741251</td>\n",
       "      <td>0.850923</td>\n",
       "      <td>0.092266</td>\n",
       "      <td>0.514868</td>\n",
       "      <td>0.700790</td>\n",
       "      <td>0.237226</td>\n",
       "      <td>NaN</td>\n",
       "    </tr>\n",
       "  </tbody>\n",
       "</table>\n",
       "<p>177 rows × 12 columns</p>\n",
       "</div>"
      ],
      "text/plain": [
       "             Regional Indicator  Year  Life Ladder  Log GDP Per Capita  \\\n",
       "0    Central and Eastern Europe  2005     5.276597            9.893333   \n",
       "1    Central and Eastern Europe  2006     5.422188           10.147592   \n",
       "2    Central and Eastern Europe  2007     5.056003            9.813169   \n",
       "3    Central and Eastern Europe  2008     5.418225            9.868189   \n",
       "4    Central and Eastern Europe  2009     5.180073            9.780750   \n",
       "..                          ...   ...          ...                 ...   \n",
       "172              Western Europe  2018     6.965981           10.848434   \n",
       "173              Western Europe  2019     7.014725           10.867792   \n",
       "174              Western Europe  2020     6.919509           10.766903   \n",
       "175              Western Europe  2021     6.921246           10.820962   \n",
       "176              Western Europe  2022     6.811595           10.919305   \n",
       "\n",
       "     Social Support  Healthy Life Expectancy At Birth  \\\n",
       "0          0.896280                         65.233332   \n",
       "1          0.922932                         65.312000   \n",
       "2          0.851044                         65.483077   \n",
       "3          0.889164                         64.646666   \n",
       "4          0.838718                         66.118462   \n",
       "..              ...                               ...   \n",
       "172        0.915721                         71.271052   \n",
       "173        0.919279                         71.415000   \n",
       "174        0.919282                         71.518420   \n",
       "175        0.905342                         71.631581   \n",
       "176        0.906772                         71.741251   \n",
       "\n",
       "     Freedom To Make Life Choices  Generosity  Perceptions Of Corruption  \\\n",
       "0                        0.759823         NaN                   0.947542   \n",
       "1                        0.686988   -0.162401                   0.870836   \n",
       "2                        0.563014   -0.121967                   0.899774   \n",
       "3                        0.631166   -0.148831                   0.849750   \n",
       "4                        0.546456   -0.113776                   0.906335   \n",
       "..                            ...         ...                        ...   \n",
       "172                      0.849797   -0.006589                   0.514867   \n",
       "173                      0.864029   -0.007058                   0.528199   \n",
       "174                      0.864338   -0.039421                   0.509762   \n",
       "175                      0.838181    0.065898                   0.516953   \n",
       "176                      0.850923    0.092266                   0.514868   \n",
       "\n",
       "     Positive Affect  Negative Affect  Confidence In National Government  \n",
       "0           0.588402         0.306151                           0.234061  \n",
       "1           0.587992         0.263685                           0.316057  \n",
       "2           0.563651         0.265359                           0.328052  \n",
       "3           0.557046         0.256584                           0.308070  \n",
       "4           0.546291         0.295847                           0.219289  \n",
       "..               ...              ...                                ...  \n",
       "172         0.702958         0.248889                           0.518225  \n",
       "173         0.707963         0.238768                           0.513709  \n",
       "174         0.694341         0.256354                           0.587490  \n",
       "175         0.703043         0.250463                           0.565763  \n",
       "176         0.700790         0.237226                                NaN  \n",
       "\n",
       "[177 rows x 12 columns]"
      ]
     },
     "execution_count": 237,
     "metadata": {},
     "output_type": "execute_result"
    }
   ],
   "source": [
    "metrics_means"
   ]
  },
  {
   "cell_type": "code",
   "execution_count": 239,
   "id": "6ba34183-c6ac-409f-a087-43cc7f2e19da",
   "metadata": {
    "scrolled": true
   },
   "outputs": [],
   "source": [
    "# metrics_means[metrics_means['Regional Indicator'] == 'Western Europe']"
   ]
  },
  {
   "cell_type": "code",
   "execution_count": 243,
   "id": "cf9f9715-8e56-4f06-be98-207ed06412e9",
   "metadata": {},
   "outputs": [
    {
     "name": "stderr",
     "output_type": "stream",
     "text": [
      "C:\\Users\\User\\Desktop\\programowanie_web_etc\\python_projects\\data_projects\\venv\\lib\\site-packages\\plotly\\graph_objs\\_deprecations.py:378: DeprecationWarning:\n",
      "\n",
      "plotly.graph_objs.Line is deprecated.\n",
      "Please replace it with one of the following more specific types\n",
      "  - plotly.graph_objs.scatter.Line\n",
      "  - plotly.graph_objs.layout.shape.Line\n",
      "  - etc.\n",
      "\n",
      "\n"
     ]
    }
   ],
   "source": [
    "means_fig = go.Figure()\n",
    "\n",
    "for region in regions:\n",
    "    region_df = metrics_means[metrics_means['Regional Indicator'] == region]\n",
    "    means_fig.add_trace(\n",
    "        go.Line(x=region_df['Year'], y=region_df['Life Ladder'], name=region)\n",
    "    )"
   ]
  },
  {
   "cell_type": "code",
   "execution_count": 247,
   "id": "c5c0e7bc-1c6a-4f97-a504-f5c0ff28f8b0",
   "metadata": {},
   "outputs": [
    {
     "data": {
      "application/vnd.plotly.v1+json": {
       "config": {
        "plotlyServerURL": "https://plot.ly"
       },
       "data": [
        {
         "name": "South Asia",
         "type": "scatter",
         "x": [
          2005,
          2006,
          2007,
          2008,
          2009,
          2010,
          2011,
          2012,
          2013,
          2014,
          2015,
          2016,
          2017,
          2018,
          2019,
          2020,
          2021,
          2022
         ],
         "y": [
          5.224657536,
          4.644593358,
          4.8937332154,
          4.534498850333333,
          4.723864793833333,
          4.7864754598333334,
          4.4515732925,
          4.4694885415,
          4.461233893833334,
          4.4782408875,
          4.5342743001666665,
          4.7207069398,
          4.3193514745,
          4.432261126285715,
          4.140469988166667,
          4.9777441978,
          3.8883647519999998,
          3.52319887275
         ]
        },
        {
         "name": "Central and Eastern Europe",
         "type": "scatter",
         "x": [
          2005,
          2006,
          2007,
          2008,
          2009,
          2010,
          2011,
          2012,
          2013,
          2014,
          2015,
          2016,
          2017,
          2018,
          2019,
          2020,
          2021,
          2022
         ],
         "y": [
          5.276597023,
          5.422188186600001,
          5.056003349428572,
          5.41822469225,
          5.180072648285715,
          5.102883952071429,
          5.210779935125,
          5.321611762125,
          5.2954644561875,
          5.3979580999375,
          5.408922016625,
          5.567118048625,
          5.7104454636875,
          5.858077019375,
          5.8851609825625,
          6.069687605,
          6.1897367478,
          6.052778124833334
         ]
        },
        {
         "name": "Middle East and North Africa",
         "type": "scatter",
         "x": [
          2005,
          2006,
          2007,
          2008,
          2009,
          2010,
          2011,
          2012,
          2013,
          2014,
          2015,
          2016,
          2017,
          2018,
          2019,
          2020,
          2021,
          2022
         ],
         "y": [
          5.8682988166,
          6.159072518,
          5.843313535,
          5.421159267428571,
          5.775860916454546,
          5.627873714076923,
          5.419439298714286,
          5.3335464478,
          5.5223224346153845,
          5.563490244153845,
          5.401570779928571,
          5.416839742733333,
          5.3095142364,
          5.084300536461539,
          5.375905786285714,
          5.183925251083333,
          5.072166421272727,
          5.038573927555556
         ]
        },
        {
         "name": "Latin America and Caribbean",
         "type": "scatter",
         "x": [
          2005,
          2006,
          2007,
          2008,
          2009,
          2010,
          2011,
          2012,
          2013,
          2014,
          2015,
          2016,
          2017,
          2018,
          2019,
          2020,
          2021,
          2022
         ],
         "y": [
          6.795683384,
          5.576129754444445,
          5.802009077647059,
          5.750263891736842,
          6.366542074388889,
          6.17966759831579,
          6.0457336188,
          6.089594840947368,
          6.1590315341999995,
          6.065303671400001,
          5.940901091263158,
          5.896981214157894,
          5.99267653225,
          5.951090772888889,
          6.117599713210526,
          5.6754920781875,
          5.942394706888889,
          6.196846685894737
         ]
        },
        {
         "name": "Commonwealth of Independent States",
         "type": "scatter",
         "x": [
          2006,
          2007,
          2008,
          2009,
          2010,
          2011,
          2012,
          2013,
          2014,
          2015,
          2016,
          2017,
          2018,
          2019,
          2020,
          2021,
          2022
         ],
         "y": [
          4.8347706360909095,
          4.8871736765,
          5.125530676363637,
          5.07079537725,
          4.930266293636364,
          5.0902786255,
          5.23564573125,
          5.293664654083334,
          5.3342439334166665,
          5.254741907166667,
          5.165872494333333,
          5.304230411833333,
          5.300795634666667,
          5.530862927333334,
          5.666615069,
          5.580663681000001,
          5.59164720775
         ]
        },
        {
         "name": "North America and ANZ",
         "type": "scatter",
         "x": [
          2005,
          2006,
          2007,
          2008,
          2009,
          2010,
          2011,
          2012,
          2013,
          2014,
          2015,
          2016,
          2017,
          2018,
          2019,
          2020,
          2021,
          2022
         ],
         "y": [
          7.3793683055,
          7.2434039115,
          7.471001148,
          7.35022950175,
          7.3229284285,
          7.371941447,
          7.28436160075,
          7.22164678575,
          7.37185001375,
          7.2624537945,
          7.25097525125,
          7.13105344775,
          7.24771201625,
          7.151365161,
          7.1229867935,
          7.1119356155,
          7.0367057325,
          6.90510201425
         ]
        },
        {
         "name": "Western Europe",
         "type": "scatter",
         "x": [
          2005,
          2006,
          2007,
          2008,
          2009,
          2010,
          2011,
          2012,
          2013,
          2014,
          2015,
          2016,
          2017,
          2018,
          2019,
          2020,
          2021,
          2022
         ],
         "y": [
          7.0830898284,
          6.881718397125,
          7.020117070777777,
          7.165480423,
          6.772409255692308,
          6.756547703470588,
          6.7788302758235295,
          6.7938446284,
          6.681948608777778,
          6.6715399591578946,
          6.73281049735,
          6.813916182450001,
          6.8919604778500005,
          6.965981458473685,
          7.0147254467,
          6.919508808473685,
          6.921245825947369,
          6.8115947962
         ]
        },
        {
         "name": "Sub-Saharan Africa",
         "type": "scatter",
         "x": [
          2006,
          2007,
          2008,
          2009,
          2010,
          2011,
          2012,
          2013,
          2014,
          2015,
          2016,
          2017,
          2018,
          2019,
          2020,
          2021,
          2022
         ],
         "y": [
          4.074250329590909,
          4.392296025631579,
          4.25440743452,
          4.321347851421053,
          4.189672178777778,
          4.417089528034483,
          4.25815250396,
          4.013812863,
          4.043510834266667,
          4.183244844931035,
          4.1748381852,
          4.427675868484849,
          4.543266548852941,
          4.499658865147059,
          4.76324032545,
          4.485699767652173,
          4.328292661185185
         ]
        },
        {
         "name": "Southeast Asia",
         "type": "scatter",
         "x": [
          2006,
          2007,
          2008,
          2009,
          2010,
          2011,
          2012,
          2013,
          2014,
          2015,
          2016,
          2017,
          2018,
          2019,
          2020,
          2021,
          2022
         ],
         "y": [
          5.239425778375,
          5.496604978875,
          5.309534073,
          5.2531694002857146,
          5.452007497857143,
          5.4762378336249995,
          5.1665698885,
          5.209553867625,
          5.584393918375,
          5.39950305225,
          5.260132176428571,
          5.193576038,
          5.4024257661111115,
          5.504394743222222,
          5.17019468525,
          5.441043271,
          5.52714812725
         ]
        },
        {
         "name": "East Asia",
         "type": "scatter",
         "x": [
          2005,
          2006,
          2007,
          2008,
          2009,
          2010,
          2011,
          2012,
          2013,
          2014,
          2015,
          2016,
          2017,
          2018,
          2019,
          2020,
          2021,
          2022
         ],
         "y": [
          6.515817165,
          5.39822757275,
          5.369348764250001,
          5.2207588355,
          5.33602643,
          5.547067165333334,
          5.843449989833332,
          5.593542099,
          5.6825068474,
          5.594324588666667,
          5.679316330000001,
          5.7197403905,
          5.656566858166666,
          5.739373684,
          5.785714705833333,
          5.9565829435,
          5.892710606166666,
          6.13075029875
         ]
        }
       ],
       "layout": {
        "height": 600,
        "template": {
         "data": {
          "bar": [
           {
            "error_x": {
             "color": "#2a3f5f"
            },
            "error_y": {
             "color": "#2a3f5f"
            },
            "marker": {
             "line": {
              "color": "#E5ECF6",
              "width": 0.5
             },
             "pattern": {
              "fillmode": "overlay",
              "size": 10,
              "solidity": 0.2
             }
            },
            "type": "bar"
           }
          ],
          "barpolar": [
           {
            "marker": {
             "line": {
              "color": "#E5ECF6",
              "width": 0.5
             },
             "pattern": {
              "fillmode": "overlay",
              "size": 10,
              "solidity": 0.2
             }
            },
            "type": "barpolar"
           }
          ],
          "carpet": [
           {
            "aaxis": {
             "endlinecolor": "#2a3f5f",
             "gridcolor": "white",
             "linecolor": "white",
             "minorgridcolor": "white",
             "startlinecolor": "#2a3f5f"
            },
            "baxis": {
             "endlinecolor": "#2a3f5f",
             "gridcolor": "white",
             "linecolor": "white",
             "minorgridcolor": "white",
             "startlinecolor": "#2a3f5f"
            },
            "type": "carpet"
           }
          ],
          "choropleth": [
           {
            "colorbar": {
             "outlinewidth": 0,
             "ticks": ""
            },
            "type": "choropleth"
           }
          ],
          "contour": [
           {
            "colorbar": {
             "outlinewidth": 0,
             "ticks": ""
            },
            "colorscale": [
             [
              0,
              "#0d0887"
             ],
             [
              0.1111111111111111,
              "#46039f"
             ],
             [
              0.2222222222222222,
              "#7201a8"
             ],
             [
              0.3333333333333333,
              "#9c179e"
             ],
             [
              0.4444444444444444,
              "#bd3786"
             ],
             [
              0.5555555555555556,
              "#d8576b"
             ],
             [
              0.6666666666666666,
              "#ed7953"
             ],
             [
              0.7777777777777778,
              "#fb9f3a"
             ],
             [
              0.8888888888888888,
              "#fdca26"
             ],
             [
              1,
              "#f0f921"
             ]
            ],
            "type": "contour"
           }
          ],
          "contourcarpet": [
           {
            "colorbar": {
             "outlinewidth": 0,
             "ticks": ""
            },
            "type": "contourcarpet"
           }
          ],
          "heatmap": [
           {
            "colorbar": {
             "outlinewidth": 0,
             "ticks": ""
            },
            "colorscale": [
             [
              0,
              "#0d0887"
             ],
             [
              0.1111111111111111,
              "#46039f"
             ],
             [
              0.2222222222222222,
              "#7201a8"
             ],
             [
              0.3333333333333333,
              "#9c179e"
             ],
             [
              0.4444444444444444,
              "#bd3786"
             ],
             [
              0.5555555555555556,
              "#d8576b"
             ],
             [
              0.6666666666666666,
              "#ed7953"
             ],
             [
              0.7777777777777778,
              "#fb9f3a"
             ],
             [
              0.8888888888888888,
              "#fdca26"
             ],
             [
              1,
              "#f0f921"
             ]
            ],
            "type": "heatmap"
           }
          ],
          "heatmapgl": [
           {
            "colorbar": {
             "outlinewidth": 0,
             "ticks": ""
            },
            "colorscale": [
             [
              0,
              "#0d0887"
             ],
             [
              0.1111111111111111,
              "#46039f"
             ],
             [
              0.2222222222222222,
              "#7201a8"
             ],
             [
              0.3333333333333333,
              "#9c179e"
             ],
             [
              0.4444444444444444,
              "#bd3786"
             ],
             [
              0.5555555555555556,
              "#d8576b"
             ],
             [
              0.6666666666666666,
              "#ed7953"
             ],
             [
              0.7777777777777778,
              "#fb9f3a"
             ],
             [
              0.8888888888888888,
              "#fdca26"
             ],
             [
              1,
              "#f0f921"
             ]
            ],
            "type": "heatmapgl"
           }
          ],
          "histogram": [
           {
            "marker": {
             "pattern": {
              "fillmode": "overlay",
              "size": 10,
              "solidity": 0.2
             }
            },
            "type": "histogram"
           }
          ],
          "histogram2d": [
           {
            "colorbar": {
             "outlinewidth": 0,
             "ticks": ""
            },
            "colorscale": [
             [
              0,
              "#0d0887"
             ],
             [
              0.1111111111111111,
              "#46039f"
             ],
             [
              0.2222222222222222,
              "#7201a8"
             ],
             [
              0.3333333333333333,
              "#9c179e"
             ],
             [
              0.4444444444444444,
              "#bd3786"
             ],
             [
              0.5555555555555556,
              "#d8576b"
             ],
             [
              0.6666666666666666,
              "#ed7953"
             ],
             [
              0.7777777777777778,
              "#fb9f3a"
             ],
             [
              0.8888888888888888,
              "#fdca26"
             ],
             [
              1,
              "#f0f921"
             ]
            ],
            "type": "histogram2d"
           }
          ],
          "histogram2dcontour": [
           {
            "colorbar": {
             "outlinewidth": 0,
             "ticks": ""
            },
            "colorscale": [
             [
              0,
              "#0d0887"
             ],
             [
              0.1111111111111111,
              "#46039f"
             ],
             [
              0.2222222222222222,
              "#7201a8"
             ],
             [
              0.3333333333333333,
              "#9c179e"
             ],
             [
              0.4444444444444444,
              "#bd3786"
             ],
             [
              0.5555555555555556,
              "#d8576b"
             ],
             [
              0.6666666666666666,
              "#ed7953"
             ],
             [
              0.7777777777777778,
              "#fb9f3a"
             ],
             [
              0.8888888888888888,
              "#fdca26"
             ],
             [
              1,
              "#f0f921"
             ]
            ],
            "type": "histogram2dcontour"
           }
          ],
          "mesh3d": [
           {
            "colorbar": {
             "outlinewidth": 0,
             "ticks": ""
            },
            "type": "mesh3d"
           }
          ],
          "parcoords": [
           {
            "line": {
             "colorbar": {
              "outlinewidth": 0,
              "ticks": ""
             }
            },
            "type": "parcoords"
           }
          ],
          "pie": [
           {
            "automargin": true,
            "type": "pie"
           }
          ],
          "scatter": [
           {
            "fillpattern": {
             "fillmode": "overlay",
             "size": 10,
             "solidity": 0.2
            },
            "type": "scatter"
           }
          ],
          "scatter3d": [
           {
            "line": {
             "colorbar": {
              "outlinewidth": 0,
              "ticks": ""
             }
            },
            "marker": {
             "colorbar": {
              "outlinewidth": 0,
              "ticks": ""
             }
            },
            "type": "scatter3d"
           }
          ],
          "scattercarpet": [
           {
            "marker": {
             "colorbar": {
              "outlinewidth": 0,
              "ticks": ""
             }
            },
            "type": "scattercarpet"
           }
          ],
          "scattergeo": [
           {
            "marker": {
             "colorbar": {
              "outlinewidth": 0,
              "ticks": ""
             }
            },
            "type": "scattergeo"
           }
          ],
          "scattergl": [
           {
            "marker": {
             "colorbar": {
              "outlinewidth": 0,
              "ticks": ""
             }
            },
            "type": "scattergl"
           }
          ],
          "scattermapbox": [
           {
            "marker": {
             "colorbar": {
              "outlinewidth": 0,
              "ticks": ""
             }
            },
            "type": "scattermapbox"
           }
          ],
          "scatterpolar": [
           {
            "marker": {
             "colorbar": {
              "outlinewidth": 0,
              "ticks": ""
             }
            },
            "type": "scatterpolar"
           }
          ],
          "scatterpolargl": [
           {
            "marker": {
             "colorbar": {
              "outlinewidth": 0,
              "ticks": ""
             }
            },
            "type": "scatterpolargl"
           }
          ],
          "scatterternary": [
           {
            "marker": {
             "colorbar": {
              "outlinewidth": 0,
              "ticks": ""
             }
            },
            "type": "scatterternary"
           }
          ],
          "surface": [
           {
            "colorbar": {
             "outlinewidth": 0,
             "ticks": ""
            },
            "colorscale": [
             [
              0,
              "#0d0887"
             ],
             [
              0.1111111111111111,
              "#46039f"
             ],
             [
              0.2222222222222222,
              "#7201a8"
             ],
             [
              0.3333333333333333,
              "#9c179e"
             ],
             [
              0.4444444444444444,
              "#bd3786"
             ],
             [
              0.5555555555555556,
              "#d8576b"
             ],
             [
              0.6666666666666666,
              "#ed7953"
             ],
             [
              0.7777777777777778,
              "#fb9f3a"
             ],
             [
              0.8888888888888888,
              "#fdca26"
             ],
             [
              1,
              "#f0f921"
             ]
            ],
            "type": "surface"
           }
          ],
          "table": [
           {
            "cells": {
             "fill": {
              "color": "#EBF0F8"
             },
             "line": {
              "color": "white"
             }
            },
            "header": {
             "fill": {
              "color": "#C8D4E3"
             },
             "line": {
              "color": "white"
             }
            },
            "type": "table"
           }
          ]
         },
         "layout": {
          "annotationdefaults": {
           "arrowcolor": "#2a3f5f",
           "arrowhead": 0,
           "arrowwidth": 1
          },
          "autotypenumbers": "strict",
          "coloraxis": {
           "colorbar": {
            "outlinewidth": 0,
            "ticks": ""
           }
          },
          "colorscale": {
           "diverging": [
            [
             0,
             "#8e0152"
            ],
            [
             0.1,
             "#c51b7d"
            ],
            [
             0.2,
             "#de77ae"
            ],
            [
             0.3,
             "#f1b6da"
            ],
            [
             0.4,
             "#fde0ef"
            ],
            [
             0.5,
             "#f7f7f7"
            ],
            [
             0.6,
             "#e6f5d0"
            ],
            [
             0.7,
             "#b8e186"
            ],
            [
             0.8,
             "#7fbc41"
            ],
            [
             0.9,
             "#4d9221"
            ],
            [
             1,
             "#276419"
            ]
           ],
           "sequential": [
            [
             0,
             "#0d0887"
            ],
            [
             0.1111111111111111,
             "#46039f"
            ],
            [
             0.2222222222222222,
             "#7201a8"
            ],
            [
             0.3333333333333333,
             "#9c179e"
            ],
            [
             0.4444444444444444,
             "#bd3786"
            ],
            [
             0.5555555555555556,
             "#d8576b"
            ],
            [
             0.6666666666666666,
             "#ed7953"
            ],
            [
             0.7777777777777778,
             "#fb9f3a"
            ],
            [
             0.8888888888888888,
             "#fdca26"
            ],
            [
             1,
             "#f0f921"
            ]
           ],
           "sequentialminus": [
            [
             0,
             "#0d0887"
            ],
            [
             0.1111111111111111,
             "#46039f"
            ],
            [
             0.2222222222222222,
             "#7201a8"
            ],
            [
             0.3333333333333333,
             "#9c179e"
            ],
            [
             0.4444444444444444,
             "#bd3786"
            ],
            [
             0.5555555555555556,
             "#d8576b"
            ],
            [
             0.6666666666666666,
             "#ed7953"
            ],
            [
             0.7777777777777778,
             "#fb9f3a"
            ],
            [
             0.8888888888888888,
             "#fdca26"
            ],
            [
             1,
             "#f0f921"
            ]
           ]
          },
          "colorway": [
           "#636efa",
           "#EF553B",
           "#00cc96",
           "#ab63fa",
           "#FFA15A",
           "#19d3f3",
           "#FF6692",
           "#B6E880",
           "#FF97FF",
           "#FECB52"
          ],
          "font": {
           "color": "#2a3f5f"
          },
          "geo": {
           "bgcolor": "white",
           "lakecolor": "white",
           "landcolor": "#E5ECF6",
           "showlakes": true,
           "showland": true,
           "subunitcolor": "white"
          },
          "hoverlabel": {
           "align": "left"
          },
          "hovermode": "closest",
          "mapbox": {
           "style": "light"
          },
          "paper_bgcolor": "white",
          "plot_bgcolor": "#E5ECF6",
          "polar": {
           "angularaxis": {
            "gridcolor": "white",
            "linecolor": "white",
            "ticks": ""
           },
           "bgcolor": "#E5ECF6",
           "radialaxis": {
            "gridcolor": "white",
            "linecolor": "white",
            "ticks": ""
           }
          },
          "scene": {
           "xaxis": {
            "backgroundcolor": "#E5ECF6",
            "gridcolor": "white",
            "gridwidth": 2,
            "linecolor": "white",
            "showbackground": true,
            "ticks": "",
            "zerolinecolor": "white"
           },
           "yaxis": {
            "backgroundcolor": "#E5ECF6",
            "gridcolor": "white",
            "gridwidth": 2,
            "linecolor": "white",
            "showbackground": true,
            "ticks": "",
            "zerolinecolor": "white"
           },
           "zaxis": {
            "backgroundcolor": "#E5ECF6",
            "gridcolor": "white",
            "gridwidth": 2,
            "linecolor": "white",
            "showbackground": true,
            "ticks": "",
            "zerolinecolor": "white"
           }
          },
          "shapedefaults": {
           "line": {
            "color": "#2a3f5f"
           }
          },
          "ternary": {
           "aaxis": {
            "gridcolor": "white",
            "linecolor": "white",
            "ticks": ""
           },
           "baxis": {
            "gridcolor": "white",
            "linecolor": "white",
            "ticks": ""
           },
           "bgcolor": "#E5ECF6",
           "caxis": {
            "gridcolor": "white",
            "linecolor": "white",
            "ticks": ""
           }
          },
          "title": {
           "x": 0.05
          },
          "xaxis": {
           "automargin": true,
           "gridcolor": "white",
           "linecolor": "white",
           "ticks": "",
           "title": {
            "standoff": 15
           },
           "zerolinecolor": "white",
           "zerolinewidth": 2
          },
          "yaxis": {
           "automargin": true,
           "gridcolor": "white",
           "linecolor": "white",
           "ticks": "",
           "title": {
            "standoff": 15
           },
           "zerolinecolor": "white",
           "zerolinewidth": 2
          }
         }
        },
        "title": {
         "text": "Ladder score over years regional means"
        },
        "width": 800,
        "xaxis": {
         "autorange": true,
         "range": [
          2003.871954380508,
          2023.128045619492
         ],
         "title": {
          "text": "Year"
         },
         "type": "linear"
        },
        "yaxis": {
         "autorange": true,
         "range": [
          3.259479287561235,
          7.734720733188765
         ],
         "title": {
          "text": "Life Ladder"
         },
         "type": "linear"
        }
       }
      },
      "image/png": "[encoded data removed]",
      "text/html": [
       "<div>                            <div id=\"d5e8dfdd-4e9c-4ad2-b38c-b2c319e9addc\" class=\"plotly-graph-div\" style=\"height:600px; width:800px;\"></div>            <script type=\"text/javascript\">                require([\"plotly\"], function(Plotly) {                    window.PLOTLYENV=window.PLOTLYENV || {};                                    if (document.getElementById(\"d5e8dfdd-4e9c-4ad2-b38c-b2c319e9addc\")) {                    Plotly.newPlot(                        \"d5e8dfdd-4e9c-4ad2-b38c-b2c319e9addc\",                        [{\"name\":\"South Asia\",\"x\":[2005,2006,2007,2008,2009,2010,2011,2012,2013,2014,2015,2016,2017,2018,2019,2020,2021,2022],\"y\":[5.224657536,4.644593358,4.8937332154,4.534498850333333,4.723864793833333,4.7864754598333334,4.4515732925,4.4694885415,4.461233893833334,4.4782408875,4.5342743001666665,4.7207069398,4.3193514745,4.432261126285715,4.140469988166667,4.9777441978,3.8883647519999998,3.52319887275],\"type\":\"scatter\"},{\"name\":\"Central and Eastern Europe\",\"x\":[2005,2006,2007,2008,2009,2010,2011,2012,2013,2014,2015,2016,2017,2018,2019,2020,2021,2022],\"y\":[5.276597023,5.422188186600001,5.056003349428572,5.41822469225,5.180072648285715,5.102883952071429,5.210779935125,5.321611762125,5.2954644561875,5.3979580999375,5.408922016625,5.567118048625,5.7104454636875,5.858077019375,5.8851609825625,6.069687605,6.1897367478,6.052778124833334],\"type\":\"scatter\"},{\"name\":\"Middle East and North Africa\",\"x\":[2005,2006,2007,2008,2009,2010,2011,2012,2013,2014,2015,2016,2017,2018,2019,2020,2021,2022],\"y\":[5.8682988166,6.159072518,5.843313535,5.421159267428571,5.775860916454546,5.627873714076923,5.419439298714286,5.3335464478,5.5223224346153845,5.563490244153845,5.401570779928571,5.416839742733333,5.3095142364,5.084300536461539,5.375905786285714,5.183925251083333,5.072166421272727,5.038573927555556],\"type\":\"scatter\"},{\"name\":\"Latin America and Caribbean\",\"x\":[2005,2006,2007,2008,2009,2010,2011,2012,2013,2014,2015,2016,2017,2018,2019,2020,2021,2022],\"y\":[6.795683384,5.576129754444445,5.802009077647059,5.750263891736842,6.366542074388889,6.17966759831579,6.0457336188,6.089594840947368,6.1590315341999995,6.065303671400001,5.940901091263158,5.896981214157894,5.99267653225,5.951090772888889,6.117599713210526,5.6754920781875,5.942394706888889,6.196846685894737],\"type\":\"scatter\"},{\"name\":\"Commonwealth of Independent States\",\"x\":[2006,2007,2008,2009,2010,2011,2012,2013,2014,2015,2016,2017,2018,2019,2020,2021,2022],\"y\":[4.8347706360909095,4.8871736765,5.125530676363637,5.07079537725,4.930266293636364,5.0902786255,5.23564573125,5.293664654083334,5.3342439334166665,5.254741907166667,5.165872494333333,5.304230411833333,5.300795634666667,5.530862927333334,5.666615069,5.580663681000001,5.59164720775],\"type\":\"scatter\"},{\"name\":\"North America and ANZ\",\"x\":[2005,2006,2007,2008,2009,2010,2011,2012,2013,2014,2015,2016,2017,2018,2019,2020,2021,2022],\"y\":[7.3793683055,7.2434039115,7.471001148,7.35022950175,7.3229284285,7.371941447,7.28436160075,7.22164678575,7.37185001375,7.2624537945,7.25097525125,7.13105344775,7.24771201625,7.151365161,7.1229867935,7.1119356155,7.0367057325,6.90510201425],\"type\":\"scatter\"},{\"name\":\"Western Europe\",\"x\":[2005,2006,2007,2008,2009,2010,2011,2012,2013,2014,2015,2016,2017,2018,2019,2020,2021,2022],\"y\":[7.0830898284,6.881718397125,7.020117070777777,7.165480423,6.772409255692308,6.756547703470588,6.7788302758235295,6.7938446284,6.681948608777778,6.6715399591578946,6.73281049735,6.813916182450001,6.8919604778500005,6.965981458473685,7.0147254467,6.919508808473685,6.921245825947369,6.8115947962],\"type\":\"scatter\"},{\"name\":\"Sub-Saharan Africa\",\"x\":[2006,2007,2008,2009,2010,2011,2012,2013,2014,2015,2016,2017,2018,2019,2020,2021,2022],\"y\":[4.074250329590909,4.392296025631579,4.25440743452,4.321347851421053,4.189672178777778,4.417089528034483,4.25815250396,4.013812863,4.043510834266667,4.183244844931035,4.1748381852,4.427675868484849,4.543266548852941,4.499658865147059,4.76324032545,4.485699767652173,4.328292661185185],\"type\":\"scatter\"},{\"name\":\"Southeast Asia\",\"x\":[2006,2007,2008,2009,2010,2011,2012,2013,2014,2015,2016,2017,2018,2019,2020,2021,2022],\"y\":[5.239425778375,5.496604978875,5.309534073,5.2531694002857146,5.452007497857143,5.4762378336249995,5.1665698885,5.209553867625,5.584393918375,5.39950305225,5.260132176428571,5.193576038,5.4024257661111115,5.504394743222222,5.17019468525,5.441043271,5.52714812725],\"type\":\"scatter\"},{\"name\":\"East Asia\",\"x\":[2005,2006,2007,2008,2009,2010,2011,2012,2013,2014,2015,2016,2017,2018,2019,2020,2021,2022],\"y\":[6.515817165,5.39822757275,5.369348764250001,5.2207588355,5.33602643,5.547067165333334,5.843449989833332,5.593542099,5.6825068474,5.594324588666667,5.679316330000001,5.7197403905,5.656566858166666,5.739373684,5.785714705833333,5.9565829435,5.892710606166666,6.13075029875],\"type\":\"scatter\"}],                        {\"template\":{\"data\":{\"histogram2dcontour\":[{\"type\":\"histogram2dcontour\",\"colorbar\":{\"outlinewidth\":0,\"ticks\":\"\"},\"colorscale\":[[0.0,\"#0d0887\"],[0.1111111111111111,\"#46039f\"],[0.2222222222222222,\"#7201a8\"],[0.3333333333333333,\"#9c179e\"],[0.4444444444444444,\"#bd3786\"],[0.5555555555555556,\"#d8576b\"],[0.6666666666666666,\"#ed7953\"],[0.7777777777777778,\"#fb9f3a\"],[0.8888888888888888,\"#fdca26\"],[1.0,\"#f0f921\"]]}],\"choropleth\":[{\"type\":\"choropleth\",\"colorbar\":{\"outlinewidth\":0,\"ticks\":\"\"}}],\"histogram2d\":[{\"type\":\"histogram2d\",\"colorbar\":{\"outlinewidth\":0,\"ticks\":\"\"},\"colorscale\":[[0.0,\"#0d0887\"],[0.1111111111111111,\"#46039f\"],[0.2222222222222222,\"#7201a8\"],[0.3333333333333333,\"#9c179e\"],[0.4444444444444444,\"#bd3786\"],[0.5555555555555556,\"#d8576b\"],[0.6666666666666666,\"#ed7953\"],[0.7777777777777778,\"#fb9f3a\"],[0.8888888888888888,\"#fdca26\"],[1.0,\"#f0f921\"]]}],\"heatmap\":[{\"type\":\"heatmap\",\"colorbar\":{\"outlinewidth\":0,\"ticks\":\"\"},\"colorscale\":[[0.0,\"#0d0887\"],[0.1111111111111111,\"#46039f\"],[0.2222222222222222,\"#7201a8\"],[0.3333333333333333,\"#9c179e\"],[0.4444444444444444,\"#bd3786\"],[0.5555555555555556,\"#d8576b\"],[0.6666666666666666,\"#ed7953\"],[0.7777777777777778,\"#fb9f3a\"],[0.8888888888888888,\"#fdca26\"],[1.0,\"#f0f921\"]]}],\"heatmapgl\":[{\"type\":\"heatmapgl\",\"colorbar\":{\"outlinewidth\":0,\"ticks\":\"\"},\"colorscale\":[[0.0,\"#0d0887\"],[0.1111111111111111,\"#46039f\"],[0.2222222222222222,\"#7201a8\"],[0.3333333333333333,\"#9c179e\"],[0.4444444444444444,\"#bd3786\"],[0.5555555555555556,\"#d8576b\"],[0.6666666666666666,\"#ed7953\"],[0.7777777777777778,\"#fb9f3a\"],[0.8888888888888888,\"#fdca26\"],[1.0,\"#f0f921\"]]}],\"contourcarpet\":[{\"type\":\"contourcarpet\",\"colorbar\":{\"outlinewidth\":0,\"ticks\":\"\"}}],\"contour\":[{\"type\":\"contour\",\"colorbar\":{\"outlinewidth\":0,\"ticks\":\"\"},\"colorscale\":[[0.0,\"#0d0887\"],[0.1111111111111111,\"#46039f\"],[0.2222222222222222,\"#7201a8\"],[0.3333333333333333,\"#9c179e\"],[0.4444444444444444,\"#bd3786\"],[0.5555555555555556,\"#d8576b\"],[0.6666666666666666,\"#ed7953\"],[0.7777777777777778,\"#fb9f3a\"],[0.8888888888888888,\"#fdca26\"],[1.0,\"#f0f921\"]]}],\"surface\":[{\"type\":\"surface\",\"colorbar\":{\"outlinewidth\":0,\"ticks\":\"\"},\"colorscale\":[[0.0,\"#0d0887\"],[0.1111111111111111,\"#46039f\"],[0.2222222222222222,\"#7201a8\"],[0.3333333333333333,\"#9c179e\"],[0.4444444444444444,\"#bd3786\"],[0.5555555555555556,\"#d8576b\"],[0.6666666666666666,\"#ed7953\"],[0.7777777777777778,\"#fb9f3a\"],[0.8888888888888888,\"#fdca26\"],[1.0,\"#f0f921\"]]}],\"mesh3d\":[{\"type\":\"mesh3d\",\"colorbar\":{\"outlinewidth\":0,\"ticks\":\"\"}}],\"scatter\":[{\"fillpattern\":{\"fillmode\":\"overlay\",\"size\":10,\"solidity\":0.2},\"type\":\"scatter\"}],\"parcoords\":[{\"type\":\"parcoords\",\"line\":{\"colorbar\":{\"outlinewidth\":0,\"ticks\":\"\"}}}],\"scatterpolargl\":[{\"type\":\"scatterpolargl\",\"marker\":{\"colorbar\":{\"outlinewidth\":0,\"ticks\":\"\"}}}],\"bar\":[{\"error_x\":{\"color\":\"#2a3f5f\"},\"error_y\":{\"color\":\"#2a3f5f\"},\"marker\":{\"line\":{\"color\":\"#E5ECF6\",\"width\":0.5},\"pattern\":{\"fillmode\":\"overlay\",\"size\":10,\"solidity\":0.2}},\"type\":\"bar\"}],\"scattergeo\":[{\"type\":\"scattergeo\",\"marker\":{\"colorbar\":{\"outlinewidth\":0,\"ticks\":\"\"}}}],\"scatterpolar\":[{\"type\":\"scatterpolar\",\"marker\":{\"colorbar\":{\"outlinewidth\":0,\"ticks\":\"\"}}}],\"histogram\":[{\"marker\":{\"pattern\":{\"fillmode\":\"overlay\",\"size\":10,\"solidity\":0.2}},\"type\":\"histogram\"}],\"scattergl\":[{\"type\":\"scattergl\",\"marker\":{\"colorbar\":{\"outlinewidth\":0,\"ticks\":\"\"}}}],\"scatter3d\":[{\"type\":\"scatter3d\",\"line\":{\"colorbar\":{\"outlinewidth\":0,\"ticks\":\"\"}},\"marker\":{\"colorbar\":{\"outlinewidth\":0,\"ticks\":\"\"}}}],\"scattermapbox\":[{\"type\":\"scattermapbox\",\"marker\":{\"colorbar\":{\"outlinewidth\":0,\"ticks\":\"\"}}}],\"scatterternary\":[{\"type\":\"scatterternary\",\"marker\":{\"colorbar\":{\"outlinewidth\":0,\"ticks\":\"\"}}}],\"scattercarpet\":[{\"type\":\"scattercarpet\",\"marker\":{\"colorbar\":{\"outlinewidth\":0,\"ticks\":\"\"}}}],\"carpet\":[{\"aaxis\":{\"endlinecolor\":\"#2a3f5f\",\"gridcolor\":\"white\",\"linecolor\":\"white\",\"minorgridcolor\":\"white\",\"startlinecolor\":\"#2a3f5f\"},\"baxis\":{\"endlinecolor\":\"#2a3f5f\",\"gridcolor\":\"white\",\"linecolor\":\"white\",\"minorgridcolor\":\"white\",\"startlinecolor\":\"#2a3f5f\"},\"type\":\"carpet\"}],\"table\":[{\"cells\":{\"fill\":{\"color\":\"#EBF0F8\"},\"line\":{\"color\":\"white\"}},\"header\":{\"fill\":{\"color\":\"#C8D4E3\"},\"line\":{\"color\":\"white\"}},\"type\":\"table\"}],\"barpolar\":[{\"marker\":{\"line\":{\"color\":\"#E5ECF6\",\"width\":0.5},\"pattern\":{\"fillmode\":\"overlay\",\"size\":10,\"solidity\":0.2}},\"type\":\"barpolar\"}],\"pie\":[{\"automargin\":true,\"type\":\"pie\"}]},\"layout\":{\"autotypenumbers\":\"strict\",\"colorway\":[\"#636efa\",\"#EF553B\",\"#00cc96\",\"#ab63fa\",\"#FFA15A\",\"#19d3f3\",\"#FF6692\",\"#B6E880\",\"#FF97FF\",\"#FECB52\"],\"font\":{\"color\":\"#2a3f5f\"},\"hovermode\":\"closest\",\"hoverlabel\":{\"align\":\"left\"},\"paper_bgcolor\":\"white\",\"plot_bgcolor\":\"#E5ECF6\",\"polar\":{\"bgcolor\":\"#E5ECF6\",\"angularaxis\":{\"gridcolor\":\"white\",\"linecolor\":\"white\",\"ticks\":\"\"},\"radialaxis\":{\"gridcolor\":\"white\",\"linecolor\":\"white\",\"ticks\":\"\"}},\"ternary\":{\"bgcolor\":\"#E5ECF6\",\"aaxis\":{\"gridcolor\":\"white\",\"linecolor\":\"white\",\"ticks\":\"\"},\"baxis\":{\"gridcolor\":\"white\",\"linecolor\":\"white\",\"ticks\":\"\"},\"caxis\":{\"gridcolor\":\"white\",\"linecolor\":\"white\",\"ticks\":\"\"}},\"coloraxis\":{\"colorbar\":{\"outlinewidth\":0,\"ticks\":\"\"}},\"colorscale\":{\"sequential\":[[0.0,\"#0d0887\"],[0.1111111111111111,\"#46039f\"],[0.2222222222222222,\"#7201a8\"],[0.3333333333333333,\"#9c179e\"],[0.4444444444444444,\"#bd3786\"],[0.5555555555555556,\"#d8576b\"],[0.6666666666666666,\"#ed7953\"],[0.7777777777777778,\"#fb9f3a\"],[0.8888888888888888,\"#fdca26\"],[1.0,\"#f0f921\"]],\"sequentialminus\":[[0.0,\"#0d0887\"],[0.1111111111111111,\"#46039f\"],[0.2222222222222222,\"#7201a8\"],[0.3333333333333333,\"#9c179e\"],[0.4444444444444444,\"#bd3786\"],[0.5555555555555556,\"#d8576b\"],[0.6666666666666666,\"#ed7953\"],[0.7777777777777778,\"#fb9f3a\"],[0.8888888888888888,\"#fdca26\"],[1.0,\"#f0f921\"]],\"diverging\":[[0,\"#8e0152\"],[0.1,\"#c51b7d\"],[0.2,\"#de77ae\"],[0.3,\"#f1b6da\"],[0.4,\"#fde0ef\"],[0.5,\"#f7f7f7\"],[0.6,\"#e6f5d0\"],[0.7,\"#b8e186\"],[0.8,\"#7fbc41\"],[0.9,\"#4d9221\"],[1,\"#276419\"]]},\"xaxis\":{\"gridcolor\":\"white\",\"linecolor\":\"white\",\"ticks\":\"\",\"title\":{\"standoff\":15},\"zerolinecolor\":\"white\",\"automargin\":true,\"zerolinewidth\":2},\"yaxis\":{\"gridcolor\":\"white\",\"linecolor\":\"white\",\"ticks\":\"\",\"title\":{\"standoff\":15},\"zerolinecolor\":\"white\",\"automargin\":true,\"zerolinewidth\":2},\"scene\":{\"xaxis\":{\"backgroundcolor\":\"#E5ECF6\",\"gridcolor\":\"white\",\"linecolor\":\"white\",\"showbackground\":true,\"ticks\":\"\",\"zerolinecolor\":\"white\",\"gridwidth\":2},\"yaxis\":{\"backgroundcolor\":\"#E5ECF6\",\"gridcolor\":\"white\",\"linecolor\":\"white\",\"showbackground\":true,\"ticks\":\"\",\"zerolinecolor\":\"white\",\"gridwidth\":2},\"zaxis\":{\"backgroundcolor\":\"#E5ECF6\",\"gridcolor\":\"white\",\"linecolor\":\"white\",\"showbackground\":true,\"ticks\":\"\",\"zerolinecolor\":\"white\",\"gridwidth\":2}},\"shapedefaults\":{\"line\":{\"color\":\"#2a3f5f\"}},\"annotationdefaults\":{\"arrowcolor\":\"#2a3f5f\",\"arrowhead\":0,\"arrowwidth\":1},\"geo\":{\"bgcolor\":\"white\",\"landcolor\":\"#E5ECF6\",\"subunitcolor\":\"white\",\"showland\":true,\"showlakes\":true,\"lakecolor\":\"white\"},\"title\":{\"x\":0.05},\"mapbox\":{\"style\":\"light\"}}},\"title\":{\"text\":\"Ladder score over years regional means\"},\"xaxis\":{\"title\":{\"text\":\"Year\"}},\"yaxis\":{\"title\":{\"text\":\"Life Ladder\"}},\"width\":800,\"height\":600},                        {\"responsive\": true}                    ).then(function(){\n",
       "                            \n",
       "var gd = document.getElementById('d5e8dfdd-4e9c-4ad2-b38c-b2c319e9addc');\n",
       "var x = new MutationObserver(function (mutations, observer) {{\n",
       "        var display = window.getComputedStyle(gd).display;\n",
       "        if (!display || display === 'none') {{\n",
       "            console.log([gd, 'removed!']);\n",
       "            Plotly.purge(gd);\n",
       "            observer.disconnect();\n",
       "        }}\n",
       "}});\n",
       "\n",
       "// Listen for the removal of the full notebook cells\n",
       "var notebookContainer = gd.closest('#notebook-container');\n",
       "if (notebookContainer) {{\n",
       "    x.observe(notebookContainer, {childList: true});\n",
       "}}\n",
       "\n",
       "// Listen for the clearing of the current output cell\n",
       "var outputEl = gd.closest('.output');\n",
       "if (outputEl) {{\n",
       "    x.observe(outputEl, {childList: true});\n",
       "}}\n",
       "\n",
       "                        })                };                });            </script>        </div>"
      ]
     },
     "metadata": {},
     "output_type": "display_data"
    }
   ],
   "source": [
    "means_fig.update_layout(\n",
    "    title = \"Ladder score over years regional means\",\n",
    "    xaxis_title=\"Year\",\n",
    "    yaxis_title=\"Life Ladder\",\n",
    "    width = 800,\n",
    "    height = 600\n",
    ")\n",
    "means_fig.show()"
   ]
  }
 ],
 "metadata": {
  "kernelspec": {
   "display_name": "data_venv",
   "language": "python",
   "name": "data_venv"
  },
  "language_info": {
   "codemirror_mode": {
    "name": "ipython",
    "version": 3
   },
   "file_extension": ".py",
   "mimetype": "text/x-python",
   "name": "python",
   "nbconvert_exporter": "python",
   "pygments_lexer": "ipython3",
   "version": "3.10.9"
  }
 },
 "nbformat": 4,
 "nbformat_minor": 5
}
