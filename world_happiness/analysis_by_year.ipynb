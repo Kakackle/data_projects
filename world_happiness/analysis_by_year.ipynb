{
 "cells": [
  {
   "cell_type": "markdown",
   "id": "c880c777-ce07-4e36-8098-3b6eb507cc9a",
   "metadata": {},
   "source": [
    "# World happiness data across years"
   ]
  },
  {
   "cell_type": "code",
   "execution_count": null,
   "id": "2f31cb10-bebb-4547-b168-11c9224e68aa",
   "metadata": {},
   "outputs": [],
   "source": [
    "import pandas as pd\n",
    "import plotly.express as px\n",
    "import plotly.graph_objects as go\n",
    "from plotly.subplots import make_subplots"
   ]
  },
  {
   "cell_type": "code",
   "execution_count": null,
   "id": "20de31b4-3b92-4324-9593-251d38d9b36c",
   "metadata": {},
   "outputs": [],
   "source": [
    "from dash import Dash, html, dcc, callback, Output, Input\n",
    "import dash_bootstrap_components as dbc"
   ]
  },
  {
   "cell_type": "markdown",
   "id": "c051021a-6642-4b02-b23f-256288db3a9e",
   "metadata": {
    "jp-MarkdownHeadingCollapsed": true
   },
   "source": [
    "### Dataframe explorations"
   ]
  },
  {
   "cell_type": "code",
   "execution_count": null,
   "id": "bf560055-8e98-47ef-89c5-9686196acc7b",
   "metadata": {},
   "outputs": [],
   "source": [
    "df_05_to_20 = pd.read_csv('datafiles/world-happiness-report-2005-2020.csv')"
   ]
  },
  {
   "cell_type": "code",
   "execution_count": null,
   "id": "18f22688-7997-4b2a-b2d5-03fb0cdd8fa8",
   "metadata": {
    "scrolled": true
   },
   "outputs": [],
   "source": [
    "df_05_to_20"
   ]
  },
  {
   "cell_type": "code",
   "execution_count": null,
   "id": "7786353b-cdfb-44b2-96bf-10c003716946",
   "metadata": {},
   "outputs": [],
   "source": [
    "len(df_05_to_20['Country name'].unique())"
   ]
  },
  {
   "cell_type": "code",
   "execution_count": null,
   "id": "5671506a-5430-4c0e-84dc-e0f63aadab76",
   "metadata": {},
   "outputs": [],
   "source": [
    "df_2021 = pd.read_csv('datafiles/world-happiness-report-2021.csv')"
   ]
  },
  {
   "cell_type": "code",
   "execution_count": null,
   "id": "64c8c043-4af5-483a-a73c-62df4cec293c",
   "metadata": {},
   "outputs": [],
   "source": [
    "df_2022 = pd.read_csv('datafiles/World Happiness Report 2022.csv')"
   ]
  },
  {
   "cell_type": "code",
   "execution_count": null,
   "id": "e5241fb8-54fb-43d9-8567-0f348746b280",
   "metadata": {},
   "outputs": [],
   "source": [
    "df_2023 = pd.read_csv('datafiles/WHR2023.csv')"
   ]
  },
  {
   "cell_type": "code",
   "execution_count": null,
   "id": "69cc5d4d-7609-4060-b51b-720760f11a92",
   "metadata": {},
   "outputs": [],
   "source": [
    "df_05_to_20_columns = df_05_to_20.columns\n",
    "df_2021_columns = df_2021.columns\n",
    "df_2022_columns = df_2022.columns\n",
    "df_2023_columns = df_2023.columns"
   ]
  },
  {
   "cell_type": "code",
   "execution_count": null,
   "id": "f85245f0-3486-4116-aa32-38a6b7963144",
   "metadata": {},
   "outputs": [],
   "source": [
    "df_05_to_20_columns"
   ]
  },
  {
   "cell_type": "code",
   "execution_count": null,
   "id": "2ca10496-23df-4335-a820-c11e0a3bacce",
   "metadata": {},
   "outputs": [],
   "source": [
    "df_2021_columns"
   ]
  },
  {
   "cell_type": "markdown",
   "id": "2c2acaeb-fc57-46bd-b067-ed39f1de0138",
   "metadata": {
    "jp-MarkdownHeadingCollapsed": true
   },
   "source": [
    "### Default dataframe: 2005 - 2022 with some nulls"
   ]
  },
  {
   "cell_type": "code",
   "execution_count": null,
   "id": "a7a4bc02-b3dc-468c-8050-30abac0b2ba9",
   "metadata": {},
   "outputs": [],
   "source": [
    "df_05_22 = pd.read_csv('datafiles/regional20052022.csv')"
   ]
  },
  {
   "cell_type": "code",
   "execution_count": null,
   "id": "91d97177-4ccb-40b9-a0fb-429f5a1c9f1c",
   "metadata": {},
   "outputs": [],
   "source": [
    "len(df_05_22['Country Name'].unique())"
   ]
  },
  {
   "cell_type": "code",
   "execution_count": null,
   "id": "4a69406b-a62a-4980-bfb6-841e8af02de6",
   "metadata": {
    "scrolled": true
   },
   "outputs": [],
   "source": [
    "list(df_05_22['Year'].unique())"
   ]
  },
  {
   "cell_type": "markdown",
   "id": "ae49f640-0c72-441f-993f-f531b435a055",
   "metadata": {
    "jp-MarkdownHeadingCollapsed": true
   },
   "source": [
    "### Default dataframe + 2023 (although lacking some data)"
   ]
  },
  {
   "cell_type": "code",
   "execution_count": null,
   "id": "2ba3de27-f42e-400a-801c-86aa2b85a7e3",
   "metadata": {},
   "outputs": [],
   "source": [
    "df_2023.columns"
   ]
  },
  {
   "cell_type": "code",
   "execution_count": null,
   "id": "6619f47e-5468-4fc2-965d-e84980681831",
   "metadata": {},
   "outputs": [],
   "source": [
    "df_05_22.columns"
   ]
  },
  {
   "cell_type": "code",
   "execution_count": null,
   "id": "6b85921b-041e-4491-97e8-f3511b7d69d5",
   "metadata": {},
   "outputs": [],
   "source": [
    "df_05_22_renamed = df_05_22.rename(columns={\n",
    "    'Country Name' : 'Country name',\n",
    "    'Life Ladder' : 'Ladder score',\n",
    "    'Log GDP Per Capita': 'Logged GDP per capita',\n",
    "    'Social Support': 'Social support',\n",
    "    'Healthy Life Expectancy At Birth': 'Healthy life expectancy',\n",
    "    'Freedom To Make Life Choices': 'Freedom to make life choices',\n",
    "    'Perceptions Of Corruption': 'Perceptions of corruption',\n",
    "})"
   ]
  },
  {
   "cell_type": "code",
   "execution_count": null,
   "id": "e0b8d141-54f2-421f-8cd3-2226eaf28b15",
   "metadata": {},
   "outputs": [],
   "source": [
    "unified_columns = ['Country name', 'Ladder score', 'Logged GDP per capita',\n",
    "                  'Social support', 'Healthy life expectancy',\n",
    "                  'Freedom to make life choices', 'Perceptions of corruption', 'Year',\n",
    "                  'Regional Indicator']"
   ]
  },
  {
   "cell_type": "code",
   "execution_count": null,
   "id": "4be74dd6-6f3a-47db-b9da-7f981bb5b30f",
   "metadata": {},
   "outputs": [],
   "source": [
    "combined_2023_df = pd.read_csv('datafiles/combined_df_2023.csv', index_col=0)"
   ]
  },
  {
   "cell_type": "code",
   "execution_count": null,
   "id": "d751aa44-08b5-4166-81f1-18c4aad718f3",
   "metadata": {},
   "outputs": [],
   "source": [
    "combined_2023_df.columns"
   ]
  },
  {
   "cell_type": "code",
   "execution_count": null,
   "id": "7abf4f07-a3d0-4d3d-8d20-761de9c28496",
   "metadata": {},
   "outputs": [],
   "source": [
    "combined_2023_df['Year'] = 2023"
   ]
  },
  {
   "cell_type": "code",
   "execution_count": null,
   "id": "29df7f63-a237-4e63-b81e-dd8a7338a6e4",
   "metadata": {},
   "outputs": [],
   "source": [
    "df_2023_renamed = combined_2023_df.rename(columns={\n",
    "    'Country' : 'Country name',\n",
    "    'Life expectancy': 'Healthy life expectancy',\n",
    "    'Freedom': 'Freedom to make life choices',\n",
    "    'Corruption perception': 'Perceptions of corruption',\n",
    "})"
   ]
  },
  {
   "cell_type": "code",
   "execution_count": null,
   "id": "253c8f34-ad64-43cc-8ba5-729d253da4e3",
   "metadata": {},
   "outputs": [],
   "source": [
    "df_05_22_uni = df_05_22_renamed[[*unified_columns]]"
   ]
  },
  {
   "cell_type": "code",
   "execution_count": null,
   "id": "30501b69-2a7e-42da-b419-ca3e74efbf95",
   "metadata": {},
   "outputs": [],
   "source": [
    "df_23_uni = df_2023_renamed[[*unified_columns]]"
   ]
  },
  {
   "cell_type": "code",
   "execution_count": null,
   "id": "4a2397f0-3f45-415e-927e-9ca1c255c7c0",
   "metadata": {},
   "outputs": [],
   "source": [
    "df_05_23 = pd.concat([df_05_22_uni, df_23_uni], axis=0)"
   ]
  },
  {
   "cell_type": "code",
   "execution_count": null,
   "id": "c1a45fb6-a9c8-48f0-9996-14575ff61255",
   "metadata": {},
   "outputs": [],
   "source": [
    "df_05_23"
   ]
  },
  {
   "cell_type": "code",
   "execution_count": null,
   "id": "327838e2-e706-4fdb-a381-68f53c57a23e",
   "metadata": {},
   "outputs": [],
   "source": [
    "df_05_23['Year'].unique()"
   ]
  },
  {
   "cell_type": "code",
   "execution_count": null,
   "id": "450d6872-17b4-4d76-864b-43c6d5272eed",
   "metadata": {},
   "outputs": [],
   "source": [
    "df_05_23.to_csv('datafiles/world-05-23-unified.csv')"
   ]
  },
  {
   "cell_type": "markdown",
   "id": "2c833f5e-4578-489d-8b45-4e2b21fc3b18",
   "metadata": {
    "jp-MarkdownHeadingCollapsed": true
   },
   "source": [
    "### Up to 2022 explorations\n",
    "df_05_22"
   ]
  },
  {
   "cell_type": "code",
   "execution_count": null,
   "id": "2689579f-06a7-4314-9933-f5acf6c9bc7c",
   "metadata": {},
   "outputs": [],
   "source": [
    "df_05_22.columns"
   ]
  },
  {
   "cell_type": "code",
   "execution_count": null,
   "id": "4c9a0d89-f9ab-4475-a7ed-d41eaa528736",
   "metadata": {},
   "outputs": [],
   "source": [
    "df_05_22.sample(5)"
   ]
  },
  {
   "cell_type": "code",
   "execution_count": null,
   "id": "74d7e9ab-f0fe-449e-9673-9796fb298e9e",
   "metadata": {},
   "outputs": [],
   "source": [
    "gdp_year_fig = go.Figure()\n",
    "gdp_year_fig.add_trace(\n",
    "    go.Line(\n",
    "        x=df_05_22.query(\"`Country Name` == 'Finland'\")['Year'],\n",
    "        y=df_05_22.query(\"`Country Name` == 'Finland'\")['Log GDP Per Capita'],\n",
    "        name='Finland'\n",
    "    )\n",
    ")\n",
    "\n",
    "gdp_year_fig.add_trace(\n",
    "    go.Line(\n",
    "        x=df_05_22.query(\"`Country Name` == 'Bolivia'\")['Year'],\n",
    "        y=df_05_22.query(\"`Country Name` == 'Bolivia'\")['Log GDP Per Capita'],\n",
    "        name='Bolivia'\n",
    "    )\n",
    ")"
   ]
  },
  {
   "cell_type": "code",
   "execution_count": null,
   "id": "be558e0c-6b4e-425b-b981-4525d71d10f2",
   "metadata": {},
   "outputs": [],
   "source": [
    "life_year_fig = go.Figure()\n",
    "life_year_fig.add_trace(\n",
    "    go.Line(\n",
    "        x=df_05_22.query(\"`Country Name` == 'New Zealand'\")['Year'],\n",
    "        y=df_05_22.query(\"`Country Name` == 'New Zealand'\")['Healthy Life Expectancy At Birth'],\n",
    "        name='New Zealand'\n",
    "    )\n",
    ")\n",
    "\n",
    "life_year_fig.add_trace(\n",
    "    go.Line(\n",
    "        x=df_05_22.query(\"`Country Name` == 'Saudi Arabia'\")['Year'],\n",
    "        y=df_05_22.query(\"`Country Name` == 'Saudi Arabia'\")['Healthy Life Expectancy At Birth'],\n",
    "        name='Saudi Arabia'\n",
    "    )\n",
    ")"
   ]
  },
  {
   "cell_type": "markdown",
   "id": "d5a6a90d-241c-45bd-b549-13a4cad3b8b5",
   "metadata": {},
   "source": [
    "## App"
   ]
  },
  {
   "cell_type": "code",
   "execution_count": null,
   "id": "059d08d7-5aa1-4f7c-9f52-0c9c4e19dc83",
   "metadata": {},
   "outputs": [],
   "source": [
    "app = Dash(external_stylesheets=[dbc.themes.BOOTSTRAP])"
   ]
  },
  {
   "cell_type": "markdown",
   "id": "07b1ebed-4e7e-4464-ace8-63814d670602",
   "metadata": {},
   "source": [
    "### Metric per year for country in region"
   ]
  },
  {
   "cell_type": "code",
   "execution_count": null,
   "id": "c155d1bf-d4d6-4478-a56d-9641208d5342",
   "metadata": {},
   "outputs": [],
   "source": [
    "regions = list(df_05_22['Regional Indicator'].dropna().unique())"
   ]
  },
  {
   "cell_type": "code",
   "execution_count": null,
   "id": "4769bae1-f155-4c55-8e98-182da0adbde4",
   "metadata": {},
   "outputs": [],
   "source": [
    "regions"
   ]
  },
  {
   "cell_type": "code",
   "execution_count": null,
   "id": "10a37bee-0c6b-4eab-bd93-4e40b56eac99",
   "metadata": {},
   "outputs": [],
   "source": [
    "metrics = [\n",
    "    'Life Ladder', 'Log GDP Per Capita', 'Social Support',\n",
    "    'Healthy Life Expectancy At Birth', 'Freedom To Make Life Choices',\n",
    "    'Generosity', 'Perceptions Of Corruption', 'Positive Affect',\n",
    "    'Negative Affect', 'Confidence In National Government'\n",
    "]"
   ]
  },
  {
   "cell_type": "markdown",
   "id": "3acd7887-c9e7-4dea-a3fc-71480c5b7437",
   "metadata": {},
   "source": [
    "#### choose metric, region and countries and display for each year "
   ]
  },
  {
   "cell_type": "code",
   "execution_count": null,
   "id": "0d9c9a71-7724-4c5a-87a2-2cdc33bf4686",
   "metadata": {},
   "outputs": [],
   "source": [
    "metric_year_country_controls = dbc.Card(\n",
    "    [\n",
    "        html.Div(\n",
    "            [\n",
    "            dbc.Label(\"Region\"),\n",
    "            dcc.Dropdown(\n",
    "                id='metric-year-region-selection',\n",
    "                value = ['Western Europe',],\n",
    "                options = regions,\n",
    "                multi = True\n",
    "            )\n",
    "            ]),\n",
    "        html.Div(\n",
    "            [\n",
    "            dbc.Label(\"Country\"),\n",
    "            dcc.Dropdown(\n",
    "                id='metric-year-country-selection',\n",
    "                multi=True\n",
    "            )\n",
    "            ]),\n",
    "        html.Div(\n",
    "            [\n",
    "            dbc.Label(\"Metric\"),\n",
    "            dcc.Dropdown(\n",
    "                id='metric-year-metric-selection',\n",
    "                value = 'Life Ladder',\n",
    "                options = metrics\n",
    "            )\n",
    "            ]),\n",
    "        # html.Div(\n",
    "        #     [\n",
    "        #     dbc.Label(\"Year\"),\n",
    "        #     dcc.Slider(\n",
    "        #         2005, 2022, 1,\n",
    "        #         value = 2005,\n",
    "        #         id='metric-year-year-selection',\n",
    "        #     )\n",
    "        #     ]),\n",
    "    ],\n",
    "    body=True,\n",
    ")"
   ]
  },
  {
   "cell_type": "code",
   "execution_count": null,
   "id": "8680fcb0-4400-4c39-88b9-44928f75b248",
   "metadata": {},
   "outputs": [],
   "source": [
    "metric_year_country_container = dbc.Container([\n",
    "    html.H1(children = 'Metric for chosen year and country within region', style={'textAlign': 'center'}),\n",
    "    html.P(id='metric-year-country-shape'),\n",
    "    dbc.Row(\n",
    "        [\n",
    "            dbc.Col(metric_year_country_controls, md=4),\n",
    "            dbc.Col(dcc.Graph(id='metric-year-country-graph'), md=8),\n",
    "        ],\n",
    "        align=\"center\",\n",
    "    ),\n",
    "], fluid=True)"
   ]
  },
  {
   "cell_type": "code",
   "execution_count": null,
   "id": "b6e3a8fc-4797-43ba-84e2-865a2c13c2b7",
   "metadata": {},
   "outputs": [],
   "source": [
    "@app.callback(\n",
    "    [\n",
    "        Output('metric-year-country-graph', 'figure'),\n",
    "        Output('metric-year-country-shape', 'children'),\n",
    "    ],\n",
    "    [\n",
    "        Input('metric-year-country-selection', 'value'),\n",
    "        Input('metric-year-metric-selection', 'value'),\n",
    "        # Input('metric-year-year-selection', 'value'),\n",
    "    ]\n",
    ")\n",
    "def update_metric_year_country_graph(countries, metric):\n",
    "    fig = go.Figure()\n",
    "\n",
    "    for country in countries:\n",
    "        country_df = df_05_22[df_05_22['Country Name'] == country]\n",
    "        fig.add_trace(\n",
    "            go.Line(x = country_df['Year'].values,\n",
    "                    y = country_df[metric].values,\n",
    "                    name = country\n",
    "                   )\n",
    "        )\n",
    "    # fig.update_layout(barmode='relative')\n",
    "    fig.update_layout(barmode='stack')\n",
    "    \n",
    "    # return fig, f'shape: {country_df.shape}'\n",
    "    return fig, f'countries: {countries}'\n",
    "\n",
    "@app.callback(\n",
    "    [\n",
    "        Output('metric-year-country-selection', 'options')\n",
    "    ],\n",
    "    [\n",
    "        Input('metric-year-region-selection', 'value')\n",
    "    ]\n",
    ")\n",
    "def set_dynamic_metric_year_country_options(regions):\n",
    "    options = dict()\n",
    "    for region in regions:\n",
    "        region_countries = list(df_05_22[df_05_22['Regional Indicator'] == region]['Country Name'].unique())\n",
    "    for country in region_countries:\n",
    "        options[country] = country\n",
    "    return [options]\n",
    "\n",
    "# ======= choose from available dynamic options =========\n",
    "# has to be done manually due to dynamicity\n",
    "# also this is how to return multiple options\n",
    "# in case of one you'd have to take [0] of value from options\n",
    "@app.callback(\n",
    "    Output('metric-year-country-selection', 'value'),\n",
    "    Input('metric-year-country-selection', 'options')\n",
    ")\n",
    "def set_dynamic_metric_year_country_value(options):\n",
    "    output = [option for option in options]\n",
    "    return output\n",
    "    # return options[0]['value']\n",
    "    # return options"
   ]
  },
  {
   "cell_type": "markdown",
   "id": "c5aabb7b-7261-4610-806d-c74bc1fbbe3d",
   "metadata": {},
   "source": [
    "#### Choose year and metric and display all regions"
   ]
  },
  {
   "cell_type": "code",
   "execution_count": null,
   "id": "3619aa2d-1b6b-4eec-b682-e50699327b45",
   "metadata": {},
   "outputs": [],
   "source": [
    "metric_regions_controls = dbc.Card(\n",
    "    [\n",
    "        html.Div(\n",
    "            [\n",
    "            dbc.Label(\"Metric\"),\n",
    "            dcc.Dropdown(\n",
    "                id='metric-regions-metric-selection',\n",
    "                value = 'Life Ladder',\n",
    "                options = metrics\n",
    "            )\n",
    "            ]),\n",
    "        html.Div(\n",
    "            [\n",
    "            dbc.Label(\"Year\"),\n",
    "            dcc.Slider(\n",
    "                2005, 2022, 1,\n",
    "                value = 2012,\n",
    "                id='metric-regions-year-selection',\n",
    "            )\n",
    "            ]),\n",
    "    ],\n",
    "    body=True,\n",
    ")"
   ]
  },
  {
   "cell_type": "code",
   "execution_count": null,
   "id": "51a21469-83b4-4ced-b94f-df7769999d84",
   "metadata": {},
   "outputs": [],
   "source": [
    "metric_regions_container = dbc.Container([\n",
    "    html.H1(children = 'Metric by regions for selected year', style={'textAlign': 'center'}),\n",
    "    html.P(id='metric-regions-test'),\n",
    "    dbc.Row(\n",
    "        [\n",
    "            dbc.Col(metric_regions_controls, md=4),\n",
    "            dbc.Col(dcc.Graph(id='metric-regions-graph'), md=8),\n",
    "        ],\n",
    "        align=\"center\",\n",
    "    ),\n",
    "], fluid=True)"
   ]
  },
  {
   "cell_type": "code",
   "execution_count": null,
   "id": "a26f0e96-ac67-462f-84af-994fc498fa2f",
   "metadata": {},
   "outputs": [],
   "source": [
    "@app.callback(\n",
    "    [\n",
    "        Output('metric-regions-graph', 'figure')\n",
    "        ,Output('metric-regions-test', 'children')\n",
    "    ],\n",
    "    [\n",
    "        Input('metric-regions-metric-selection', 'value'),\n",
    "        Input('metric-regions-year-selection', 'value'),\n",
    "    ]\n",
    ")\n",
    "def update_metric_regions_graph(metric, year):\n",
    "    year_df = df_05_22[df_05_22['Year'] == year]\n",
    "    fig = px.bar(year_df, x = 'Regional Indicator', y = metric, barmode='stack') \n",
    "    # fig = px.scatter(df, y='Life expectancy', x=metric, hover_data='Country', color='Regional Indicator')\n",
    "    return fig, f'metric: {metric}'\n",
    "    # return fig"
   ]
  },
  {
   "cell_type": "markdown",
   "id": "2d74d8d9-478e-4b16-9afa-914208f5ad6e",
   "metadata": {},
   "source": [
    "### App layout and run"
   ]
  },
  {
   "cell_type": "code",
   "execution_count": null,
   "id": "e32f2eea-eeb5-469d-9719-379e0d74b37c",
   "metadata": {},
   "outputs": [],
   "source": [
    "app.layout = dbc.Container([\n",
    "    metric_year_country_container,\n",
    "    html.Hr(),\n",
    "    metric_regions_container,\n",
    "    html.Hr()\n",
    "], fluid=True)"
   ]
  },
  {
   "cell_type": "code",
   "execution_count": null,
   "id": "ac1d9ce9-22cd-4386-9823-f4f663af4cec",
   "metadata": {},
   "outputs": [],
   "source": [
    "app.run(debug=True, port=8051)\n",
    "# app.run(port=8051)"
   ]
  },
  {
   "cell_type": "markdown",
   "id": "767f9611-4527-45bd-a9dd-25f5e63cd56f",
   "metadata": {},
   "source": [
    "### Some manual visualizations"
   ]
  },
  {
   "cell_type": "code",
   "execution_count": null,
   "id": "120234cb-50de-4570-8748-1d5e74b2047d",
   "metadata": {},
   "outputs": [],
   "source": [
    "metrics_means = df_05_22.groupby(by=['Regional Indicator', 'Year'], as_index=False)[metrics].mean()"
   ]
  },
  {
   "cell_type": "code",
   "execution_count": null,
   "id": "df6caed9-004a-4435-99a6-ffc822bd638e",
   "metadata": {
    "scrolled": true
   },
   "outputs": [],
   "source": [
    "metrics_means"
   ]
  },
  {
   "cell_type": "code",
   "execution_count": null,
   "id": "6ba34183-c6ac-409f-a087-43cc7f2e19da",
   "metadata": {
    "scrolled": true
   },
   "outputs": [],
   "source": [
    "# metrics_means[metrics_means['Regional Indicator'] == 'Western Europe']"
   ]
  },
  {
   "cell_type": "code",
   "execution_count": null,
   "id": "cf9f9715-8e56-4f06-be98-207ed06412e9",
   "metadata": {},
   "outputs": [],
   "source": [
    "means_fig = go.Figure()\n",
    "\n",
    "for region in regions:\n",
    "    region_df = metrics_means[metrics_means['Regional Indicator'] == region]\n",
    "    means_fig.add_trace(\n",
    "        go.Line(x=region_df['Year'], y=region_df['Life Ladder'], name=region)\n",
    "    )"
   ]
  },
  {
   "cell_type": "code",
   "execution_count": null,
   "id": "c5c0e7bc-1c6a-4f97-a504-f5c0ff28f8b0",
   "metadata": {},
   "outputs": [],
   "source": [
    "means_fig.update_layout(\n",
    "    title = \"Ladder score over years regional means\",\n",
    "    xaxis_title=\"Year\",\n",
    "    yaxis_title=\"Life Ladder\",\n",
    "    width = 800,\n",
    "    height = 600,\n",
    "    legend_title = \"Regions\"\n",
    ")\n",
    "means_fig.show()"
   ]
  },
  {
   "cell_type": "markdown",
   "id": "b7e43057-6933-410a-a4b1-78e168dad9eb",
   "metadata": {},
   "source": [
    "### Animations"
   ]
  },
  {
   "cell_type": "code",
   "execution_count": null,
   "id": "9c9a7909-fca5-42c6-8543-5b222a49fba9",
   "metadata": {},
   "outputs": [],
   "source": [
    "metrics"
   ]
  },
  {
   "cell_type": "code",
   "execution_count": null,
   "id": "db14cca3-925d-4c0f-a48e-70b3ef2c2231",
   "metadata": {},
   "outputs": [],
   "source": [
    "px.scatter(metrics_means, x='Log GDP Per Capita', y='Healthy Life Expectancy At Birth',\n",
    "          size='Life Ladder', animation_frame='Year', color='Regional Indicator',\n",
    "          height=600, width=800)"
   ]
  }
 ],
 "metadata": {
  "kernelspec": {
   "display_name": "data_venv",
   "language": "python",
   "name": "data_venv"
  },
  "language_info": {
   "codemirror_mode": {
    "name": "ipython",
    "version": 3
   },
   "file_extension": ".py",
   "mimetype": "text/x-python",
   "name": "python",
   "nbconvert_exporter": "python",
   "pygments_lexer": "ipython3",
   "version": "3.10.9"
  }
 },
 "nbformat": 4,
 "nbformat_minor": 5
}
