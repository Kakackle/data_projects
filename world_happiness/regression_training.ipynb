{
 "cells": [
  {
   "cell_type": "markdown",
   "id": "2a584abb-c2da-4a03-a3f9-9f108626d232",
   "metadata": {},
   "source": [
    "### Some regression predictions on ladder score and life expectancy\n",
    "perchance"
   ]
  },
  {
   "cell_type": "code",
   "execution_count": null,
   "id": "cadd4ae7-ab44-4972-830a-5290a5fc05b6",
   "metadata": {},
   "outputs": [],
   "source": [
    "import pandas as pd\n",
    "import plotly.express as px\n",
    "import plotly.graph_objects as go\n",
    "from plotly.subplots import make_subplots"
   ]
  },
  {
   "cell_type": "code",
   "execution_count": null,
   "id": "43d497ec-6e7a-48be-9d18-2c4b09004051",
   "metadata": {},
   "outputs": [],
   "source": [
    "from sklearn.linear_model import LinearRegression\n",
    "from sklearn.model_selection import train_test_split\n",
    "from sklearn.svm import SVR"
   ]
  },
  {
   "cell_type": "code",
   "execution_count": null,
   "id": "36216f2e-0cc7-4871-9d82-9042430cc873",
   "metadata": {},
   "outputs": [],
   "source": [
    "metrics = [\n",
    "    'Life Ladder', 'Log GDP Per Capita', 'Social Support',\n",
    "    'Healthy Life Expectancy At Birth', 'Freedom To Make Life Choices',\n",
    "    'Generosity', 'Perceptions Of Corruption', 'Positive Affect',\n",
    "    'Negative Affect', 'Confidence In National Government'\n",
    "]"
   ]
  },
  {
   "cell_type": "code",
   "execution_count": null,
   "id": "2d83ed79-60df-4917-8f62-24c29c4269c7",
   "metadata": {},
   "outputs": [],
   "source": [
    "metrics_ladder = [\n",
    "    'Log GDP Per Capita', 'Social Support',\n",
    "    'Healthy Life Expectancy At Birth', 'Freedom To Make Life Choices',\n",
    "    'Generosity', 'Perceptions Of Corruption', 'Positive Affect',\n",
    "    'Negative Affect', 'Confidence In National Government'\n",
    "]"
   ]
  },
  {
   "cell_type": "code",
   "execution_count": null,
   "id": "805387a1-75c8-4d69-b278-92f79cb5ebf8",
   "metadata": {},
   "outputs": [],
   "source": [
    "metrics_life = metrics = [\n",
    "    'Life Ladder', 'Log GDP Per Capita', 'Social Support',\n",
    "    'Freedom To Make Life Choices',\n",
    "    'Generosity', 'Perceptions Of Corruption', 'Positive Affect',\n",
    "    'Negative Affect', 'Confidence In National Government'\n",
    "]"
   ]
  },
  {
   "cell_type": "code",
   "execution_count": null,
   "id": "95b0358b-e01f-4b03-9b93-2f48a6f4d361",
   "metadata": {},
   "outputs": [],
   "source": [
    "df = pd.read_csv('datafiles/regional20052022.csv', index_col=0)"
   ]
  },
  {
   "cell_type": "code",
   "execution_count": null,
   "id": "06cb09ff-7c95-4379-9be9-c63057f664f5",
   "metadata": {},
   "outputs": [],
   "source": [
    "df.head()"
   ]
  },
  {
   "cell_type": "code",
   "execution_count": null,
   "id": "81a58111-7a4c-4c61-a06c-4415fb633b6d",
   "metadata": {},
   "outputs": [],
   "source": [
    "df.isna().sum()"
   ]
  },
  {
   "cell_type": "code",
   "execution_count": null,
   "id": "88ecede8-9bed-46a3-ae7c-f5066da8106d",
   "metadata": {},
   "outputs": [],
   "source": [
    "df_dropped = df.dropna()"
   ]
  },
  {
   "cell_type": "markdown",
   "id": "721dd778-3b34-404c-bf67-71f98c04f8b4",
   "metadata": {},
   "source": [
    "### Basic LinearRegression train on metrics"
   ]
  },
  {
   "cell_type": "code",
   "execution_count": null,
   "id": "69e2e1a9-27eb-447a-82af-2a8049a2d682",
   "metadata": {},
   "outputs": [],
   "source": [
    "X = df_dropped[[*metrics_ladder]]\n",
    "y = df_dropped['Life Ladder']"
   ]
  },
  {
   "cell_type": "code",
   "execution_count": null,
   "id": "ff098de1-59d6-4df3-a202-96a4f35c6c10",
   "metadata": {},
   "outputs": [],
   "source": [
    "model = LinearRegression()\n",
    "model.fit(X, y)\n",
    "y_pred = model.predict(X)"
   ]
  },
  {
   "cell_type": "code",
   "execution_count": null,
   "id": "68ecd175-a705-4880-9159-6983fdc02cb4",
   "metadata": {},
   "outputs": [],
   "source": [
    "fig = px.scatter(x=y, y=y_pred, labels={'x': 'ground truth', 'y': 'prediction'})\n",
    "fig.add_shape(\n",
    "    type=\"line\", line=dict(dash='dash'),\n",
    "    x0=y.min(), y0=y.min(),\n",
    "    x1=y.max(), y1=y.max()\n",
    ")\n",
    "fig.show()"
   ]
  },
  {
   "cell_type": "markdown",
   "id": "f3b3f516-cdba-467e-b3fc-95971ad47216",
   "metadata": {},
   "source": [
    "### With train and test split and extra visualizations"
   ]
  },
  {
   "cell_type": "code",
   "execution_count": null,
   "id": "12e121fd-2cdc-4719-a077-e56c55bb80e2",
   "metadata": {
    "scrolled": true
   },
   "outputs": [],
   "source": [
    "# Split data into training and test splits\n",
    "train_idx, test_idx = train_test_split(df_dropped.index, test_size=.25, random_state=0)\n",
    "df_dropped['split'] = 'train'\n",
    "df_dropped.loc[test_idx, 'split'] = 'test'"
   ]
  },
  {
   "cell_type": "code",
   "execution_count": null,
   "id": "027d1db1-db1a-4a23-801e-e17f7e58a481",
   "metadata": {},
   "outputs": [],
   "source": [
    "X = df_dropped[[*metrics_ladder]]\n",
    "y = df_dropped['Life Ladder']\n",
    "X_train = df_dropped.loc[train_idx, [*metrics_ladder]]\n",
    "y_train = df_dropped.loc[train_idx, 'Life Ladder']"
   ]
  },
  {
   "cell_type": "code",
   "execution_count": null,
   "id": "8d214ae3-0aa6-49e4-95d1-bb43d2312000",
   "metadata": {},
   "outputs": [],
   "source": [
    "model = LinearRegression()\n",
    "model.fit(X_train, y_train)\n",
    "df_dropped['prediction'] = model.predict(X)"
   ]
  },
  {
   "cell_type": "code",
   "execution_count": null,
   "id": "9ae22804-20a0-4b4e-9251-250264b3f999",
   "metadata": {},
   "outputs": [],
   "source": [
    "fig = px.scatter(\n",
    "    df_dropped, x='Life Ladder', y='prediction',\n",
    "    marginal_x='histogram', marginal_y='histogram',\n",
    "    color='split', trendline='ols'\n",
    ")\n",
    "fig.update_traces(histnorm='probability', selector={'type':'histogram'})\n",
    "fig.add_shape(\n",
    "    type=\"line\", line=dict(dash='dash'),\n",
    "    x0=y.min(), y0=y.min(),\n",
    "    x1=y.max(), y1=y.max()\n",
    ")\n",
    "\n",
    "fig.show()"
   ]
  },
  {
   "cell_type": "markdown",
   "id": "6e02210a-fff5-43b3-8040-557a9144ec71",
   "metadata": {},
   "source": [
    "### visualize coefficients"
   ]
  },
  {
   "cell_type": "code",
   "execution_count": null,
   "id": "66b8a2e3-bb72-4baf-9f34-b06248ea6952",
   "metadata": {},
   "outputs": [],
   "source": [
    "colors = ['Positive' if c > 0 else 'Negative' for c in model.coef_]\n",
    "\n",
    "fig = px.bar(\n",
    "    x=X.columns, y=model.coef_, color=colors,\n",
    "    color_discrete_sequence=['red', 'blue'],\n",
    "    labels=dict(x='Feature', y='Linear coefficient'),\n",
    "    title='Weight of each feature for predicting petal width'\n",
    ")\n",
    "fig.show()"
   ]
  },
  {
   "cell_type": "markdown",
   "id": "694d76bd-1ac5-471b-859f-0da50598ade1",
   "metadata": {},
   "source": [
    "### Predicting life expectancy"
   ]
  },
  {
   "cell_type": "code",
   "execution_count": null,
   "id": "19a07e6b-2f75-468b-8f8c-a6fd6bcb475e",
   "metadata": {},
   "outputs": [],
   "source": [
    "metrics_life"
   ]
  },
  {
   "cell_type": "code",
   "execution_count": null,
   "id": "16d244a1-8bc4-48ca-ae66-fe832c7c6491",
   "metadata": {},
   "outputs": [],
   "source": [
    "# Split data into training and test splits\n",
    "X_life = df_dropped[[*metrics_life]]\n",
    "y_life = df_dropped['Healthy Life Expectancy At Birth']\n",
    "X_train_life = df_dropped.loc[train_idx, [*metrics_life]]\n",
    "y_train_life = df_dropped.loc[train_idx, 'Healthy Life Expectancy At Birth']\n",
    "\n",
    "# model_life = LinearRegression()\n",
    "model_life = SVR(C=1.)\n",
    "model_life.fit(X_train_life, y_train_life)\n",
    "df_dropped['prediction_life'] = model_life.predict(X_life)\n",
    "\n",
    "fig = px.scatter(\n",
    "    df_dropped, x='Healthy Life Expectancy At Birth', y='prediction_life',\n",
    "    marginal_x='histogram', marginal_y='histogram',\n",
    "    color='split', trendline='ols'\n",
    ")\n",
    "fig.update_traces(histnorm='probability', selector={'type':'histogram'})\n",
    "fig.add_shape(\n",
    "    type=\"line\", line=dict(dash='dash'),\n",
    "    x0=y.min(), y0=y.min(),\n",
    "    x1=y.max(), y1=y.max()\n",
    ")\n",
    "\n",
    "fig.show()"
   ]
  }
 ],
 "metadata": {
  "kernelspec": {
   "display_name": "data_venv",
   "language": "python",
   "name": "data_venv"
  },
  "language_info": {
   "codemirror_mode": {
    "name": "ipython",
    "version": 3
   },
   "file_extension": ".py",
   "mimetype": "text/x-python",
   "name": "python",
   "nbconvert_exporter": "python",
   "pygments_lexer": "ipython3",
   "version": "3.10.9"
  }
 },
 "nbformat": 4,
 "nbformat_minor": 5
}
