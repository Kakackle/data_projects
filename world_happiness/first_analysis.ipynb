{
 "cells": [
  {
   "cell_type": "code",
   "execution_count": null,
   "id": "e3f57acc-872b-483c-9194-c1cd361f87c7",
   "metadata": {},
   "outputs": [],
   "source": [
    "import pandas as pd\n",
    "import os\n",
    "import plotly.express as px\n",
    "from plotly import graph_objects as go\n",
    "from plotly.subplots import make_subplots\n",
    "\n",
    "from dash import Dash, html, dcc, callback, Output, Input\n",
    "import dash_bootstrap_components as dbc\n"
   ]
  },
  {
   "cell_type": "markdown",
   "id": "21140b5e-a464-4e92-afc4-76673b551a8e",
   "metadata": {},
   "source": [
    "### Single year (2023) explorations"
   ]
  },
  {
   "cell_type": "code",
   "execution_count": null,
   "id": "b01db2b2-69e1-4ad9-8c1b-fae9f9802ce2",
   "metadata": {},
   "outputs": [],
   "source": [
    "df = pd.read_csv('datafiles/combined_df_2023.csv', index_col = 0)"
   ]
  },
  {
   "cell_type": "code",
   "execution_count": null,
   "id": "dcc47aa1-415a-4cd6-a45d-48fc4528c599",
   "metadata": {},
   "outputs": [],
   "source": [
    "df.head()"
   ]
  },
  {
   "cell_type": "code",
   "execution_count": null,
   "id": "e894b461-6533-40a6-a493-e0a0abe5271e",
   "metadata": {},
   "outputs": [],
   "source": [
    "df.columns"
   ]
  },
  {
   "cell_type": "markdown",
   "id": "b65fa490-7511-4fe9-8c66-7373d64e4afd",
   "metadata": {
    "jp-MarkdownHeadingCollapsed": true
   },
   "source": [
    "### Sorting by ladder score"
   ]
  },
  {
   "cell_type": "code",
   "execution_count": null,
   "id": "aa33a061-3e38-4210-82ef-5e2e643de006",
   "metadata": {},
   "outputs": [],
   "source": [
    "ladder_sorted_df = df.sort_values(by=['Ladder score'], ascending=False)"
   ]
  },
  {
   "cell_type": "code",
   "execution_count": null,
   "id": "08bfc0b5-1b24-4f6a-a40b-8f2eed2a69a3",
   "metadata": {
    "scrolled": true
   },
   "outputs": [],
   "source": [
    "top_10_countries = ladder_sorted_df.head(10)\n",
    "bottom_10_countries = ladder_sorted_df.tail(10)"
   ]
  },
  {
   "cell_type": "code",
   "execution_count": null,
   "id": "9554cba0-c379-4370-ad5c-ebbc5d15b42e",
   "metadata": {
    "scrolled": true
   },
   "outputs": [],
   "source": [
    "bottom_10_countries"
   ]
  },
  {
   "cell_type": "markdown",
   "id": "b56ca8b6-f38f-4776-adfe-19030f98cd3c",
   "metadata": {},
   "source": [
    "### Grouping by regions and numeric cols definition"
   ]
  },
  {
   "cell_type": "code",
   "execution_count": null,
   "id": "e81c3cc1-0a7f-45ce-948f-00b0e88270a6",
   "metadata": {},
   "outputs": [],
   "source": [
    "grouped_regions = df.groupby(by=['Regional Indicator'], as_index=False)"
   ]
  },
  {
   "cell_type": "code",
   "execution_count": null,
   "id": "ecce225a-43c5-45e0-ad7a-3ccef3e09c7e",
   "metadata": {},
   "outputs": [],
   "source": [
    "from pandas.api.types import is_numeric_dtype"
   ]
  },
  {
   "cell_type": "code",
   "execution_count": null,
   "id": "3d023563-d8e4-46d7-b83b-46ada7e3d396",
   "metadata": {},
   "outputs": [],
   "source": [
    "numeric_cols = []\n",
    "non_numeric_cols = []"
   ]
  },
  {
   "cell_type": "code",
   "execution_count": null,
   "id": "8bb60e5b-4115-4b07-9cb5-247f6a73c1fb",
   "metadata": {},
   "outputs": [],
   "source": [
    "for col in df.columns:\n",
    "    if is_numeric_dtype(df[col]):\n",
    "        numeric_cols.append(col)\n",
    "    else:\n",
    "        non_numeric_cols.append(col)    "
   ]
  },
  {
   "cell_type": "code",
   "execution_count": null,
   "id": "801caa6f-25a4-4299-9ff5-28a9c14d1cbd",
   "metadata": {
    "scrolled": true
   },
   "outputs": [],
   "source": [
    "numeric_cols"
   ]
  },
  {
   "cell_type": "code",
   "execution_count": null,
   "id": "22235cca-08cc-4ee8-898d-5d590ad76db5",
   "metadata": {
    "scrolled": true
   },
   "outputs": [],
   "source": [
    "grouped_regions.dtypes"
   ]
  },
  {
   "cell_type": "code",
   "execution_count": null,
   "id": "fabe2730-62b7-4aa4-8459-54bfe3101c92",
   "metadata": {},
   "outputs": [],
   "source": [
    "grouped_regions_mean = grouped_regions[[*numeric_cols]].mean()"
   ]
  },
  {
   "cell_type": "code",
   "execution_count": null,
   "id": "f63675b0-8235-41c4-987f-9d4eca4210d0",
   "metadata": {},
   "outputs": [],
   "source": [
    "grouped_regions_mean.sort_values(by=\"Ladder score\", inplace=True, ascending=False)"
   ]
  },
  {
   "cell_type": "code",
   "execution_count": null,
   "id": "2a9096a1-415e-40bc-ac46-ae0d96bac514",
   "metadata": {
    "scrolled": true
   },
   "outputs": [],
   "source": [
    "grouped_regions_mean"
   ]
  },
  {
   "cell_type": "markdown",
   "id": "5105a988-31a2-43f5-a509-2faa7b02d1c5",
   "metadata": {},
   "source": [
    "#### Ladder score and GDP for each country bar-line"
   ]
  },
  {
   "cell_type": "code",
   "execution_count": null,
   "id": "e702ba7d-1b6a-4f8a-ac1b-3141b7117bfc",
   "metadata": {},
   "outputs": [],
   "source": [
    "ladder_gdp_fig = px.bar(grouped_regions_mean, y='Ladder score', x='Regional Indicator')\n",
    "ladder_gdp_fig.add_trace(go.Scatter(x=grouped_regions_mean['Regional Indicator'],\n",
    "                                    y=grouped_regions_mean['Logged GDP per capita'],\n",
    "                                    line=dict(color='#ff7f0e'),\n",
    "                                    name='GDP',\n",
    "                                    mode='lines'))"
   ]
  },
  {
   "cell_type": "markdown",
   "id": "243be357-aba7-44df-9272-6ac39e7775f9",
   "metadata": {},
   "source": [
    "### ========== Dash app =========="
   ]
  },
  {
   "cell_type": "code",
   "execution_count": null,
   "id": "e6e5317f-e194-47ad-b71d-7d314973c1c2",
   "metadata": {},
   "outputs": [],
   "source": [
    "app = Dash(external_stylesheets=[dbc.themes.BOOTSTRAP])"
   ]
  },
  {
   "cell_type": "markdown",
   "id": "8edb7066-17ee-4bc6-ae49-269b690ab770",
   "metadata": {},
   "source": [
    "#### graph column/options definitions"
   ]
  },
  {
   "cell_type": "code",
   "execution_count": null,
   "id": "7ef3470a-9c08-4de1-a98e-42db45477496",
   "metadata": {},
   "outputs": [],
   "source": [
    "df_columns = list(df.columns)\n",
    "except_columns = ['Ladder score standard error',\n",
    "       'Ladder score upper whisker', 'Ladder score lower whisker',\n",
    "        'Regional Indicator']\n",
    "# columns for metric graphs\n",
    "metric_graph_columns = [col for col in df_columns if col not in except_columns]"
   ]
  },
  {
   "cell_type": "code",
   "execution_count": null,
   "id": "dc19f5bd-c1ac-4009-858e-7018050efe26",
   "metadata": {},
   "outputs": [],
   "source": []
  },
  {
   "cell_type": "markdown",
   "id": "50379d3e-9577-4b7e-a1fe-0f9c46e69e22",
   "metadata": {},
   "source": [
    "#### Metric vs ladder score for every country scatter"
   ]
  },
  {
   "cell_type": "code",
   "execution_count": null,
   "id": "14ec56b9-430a-4c7b-a3cc-89e31de58704",
   "metadata": {},
   "outputs": [],
   "source": [
    "metric_vs_ladder_controls = dbc.Card(\n",
    "    [\n",
    "        html.Div(\n",
    "            [\n",
    "            dbc.Label(\"Metric\"),\n",
    "            dcc.Dropdown(\n",
    "                id='metric-vs-ladder-selection',\n",
    "                value = 'Social support',\n",
    "                options = [col for col in metric_graph_columns if col != 'Ladder score']\n",
    "            )\n",
    "            ]),\n",
    "    ],\n",
    "    body=True,\n",
    ")"
   ]
  },
  {
   "cell_type": "code",
   "execution_count": null,
   "id": "7d1ad00a-3c83-4d20-b676-86bde546b381",
   "metadata": {},
   "outputs": [],
   "source": [
    "metric_vs_ladder_container = dbc.Container([\n",
    "    html.H1(children = 'Chosen metric vs ladder score', style={'textAlign': 'center'}),\n",
    "    html.P(id='metric-vs-ladder-test'),\n",
    "    dbc.Row(\n",
    "        [\n",
    "            dbc.Col(metric_vs_ladder_controls, md=4),\n",
    "            dbc.Col(dcc.Graph(id='metric-vs-ladder-graph'), md=8),\n",
    "        ],\n",
    "        align=\"center\",\n",
    "    ),\n",
    "], fluid=True)"
   ]
  },
  {
   "cell_type": "code",
   "execution_count": null,
   "id": "fc14437e-5ee5-4e0e-8cf4-3f4ba847a837",
   "metadata": {},
   "outputs": [],
   "source": [
    "@app.callback(\n",
    "    [\n",
    "        Output('metric-vs-ladder-graph', 'figure'),\n",
    "        Output('metric-vs-ladder-test', 'children')\n",
    "    ],\n",
    "    [\n",
    "        Input('metric-vs-ladder-selection', 'value'),\n",
    "    ]\n",
    ")\n",
    "def update_metric_vs_ladder_graph(metric):\n",
    "    fig = px.scatter(df, y='Ladder score', x=metric, hover_data='Country', color='Regional Indicator',)\n",
    "    return fig, f'metric: {metric}'\n",
    "    # return fig"
   ]
  },
  {
   "cell_type": "markdown",
   "id": "9100438c-7fbd-4913-a4a6-564ecfa900b8",
   "metadata": {},
   "source": [
    "#### Metric vs life expectancy for every country scatter"
   ]
  },
  {
   "cell_type": "code",
   "execution_count": null,
   "id": "232271ab-0499-43c1-829e-60708d601453",
   "metadata": {},
   "outputs": [],
   "source": [
    "metric_vs_life_controls = dbc.Card(\n",
    "    [\n",
    "        html.Div(\n",
    "            [\n",
    "            dbc.Label(\"Metric\"),\n",
    "            dcc.Dropdown(\n",
    "                id='metric-vs-life-selection',\n",
    "                value = 'Social support',\n",
    "                options = [col for col in metric_graph_columns if col != 'Life expectancy']\n",
    "            )\n",
    "            ]),\n",
    "    ],\n",
    "    body=True,\n",
    ")"
   ]
  },
  {
   "cell_type": "code",
   "execution_count": null,
   "id": "fb8319a7-f7d6-4369-905c-25f4f29c67cc",
   "metadata": {},
   "outputs": [],
   "source": [
    "metric_vs_life_container = dbc.Container([\n",
    "    html.H1(children = 'Chosen metric vs life expectancy', style={'textAlign': 'center'}),\n",
    "    html.P(id='metric-vs-life-test'),\n",
    "    dbc.Row(\n",
    "        [\n",
    "            dbc.Col(metric_vs_life_controls, md=4),\n",
    "            dbc.Col(dcc.Graph(id='metric-vs-life-graph'), md=8),\n",
    "        ],\n",
    "        align=\"center\",\n",
    "    ),\n",
    "], fluid=True)"
   ]
  },
  {
   "cell_type": "code",
   "execution_count": null,
   "id": "120be5ff-5d94-4c33-bfb0-197a680b676c",
   "metadata": {},
   "outputs": [],
   "source": [
    "@app.callback(\n",
    "    [\n",
    "        Output('metric-vs-life-graph', 'figure')\n",
    "        ,Output('metric-vs-life-test', 'children')\n",
    "    ],\n",
    "    [\n",
    "        Input('metric-vs-life-selection', 'value'),\n",
    "    ]\n",
    ")\n",
    "def update_metric_vs_life_graph(metric):\n",
    "    fig = px.scatter(df, y='Life expectancy', x=metric, hover_data='Country', color='Regional Indicator')\n",
    "    return fig, f'metric: {metric}'\n",
    "    # return fig"
   ]
  },
  {
   "cell_type": "code",
   "execution_count": null,
   "id": "dae30094-6f6b-4028-8739-5daab6c0969a",
   "metadata": {},
   "outputs": [],
   "source": [
    "# px.scatter(df, y='Ladder score', x='Social support', hover_data='Country', color='Regional Indicator', trendline='ols')"
   ]
  },
  {
   "cell_type": "markdown",
   "id": "89a9f2dd-efdd-4908-bd63-816442c18872",
   "metadata": {},
   "source": [
    "#### Within region two metric choosable scatter for countries within chosen region"
   ]
  },
  {
   "cell_type": "code",
   "execution_count": null,
   "id": "85d4b583-cfeb-4fb4-b738-01969a501281",
   "metadata": {},
   "outputs": [],
   "source": [
    "region_xy_controls = dbc.Card(\n",
    "    [\n",
    "        html.Div(\n",
    "            [\n",
    "            dbc.Label(\"Regional Indicator\"),\n",
    "            dcc.Dropdown(\n",
    "                id='region-region-selection',\n",
    "                value = 'Western Europe',\n",
    "                options = list(df['Regional Indicator'].unique())\n",
    "            )\n",
    "            ]),\n",
    "        html.Div(\n",
    "            [\n",
    "            dbc.Label(\"Metric x\"),\n",
    "            dcc.Dropdown(\n",
    "                id='region-x-selection',\n",
    "                value = 'Social support',\n",
    "                options = metric_graph_columns\n",
    "            )\n",
    "            ]),\n",
    "        html.Div(\n",
    "            [\n",
    "            dbc.Label(\"Metric y\"),\n",
    "            dcc.Dropdown(\n",
    "                id='region-y-selection',\n",
    "                value = 'Freedom',\n",
    "                options = metric_graph_columns\n",
    "            )\n",
    "            ]),\n",
    "    ],\n",
    "    body=True,\n",
    ")"
   ]
  },
  {
   "cell_type": "code",
   "execution_count": null,
   "id": "0f5f3081-53e9-4586-a00f-1a60f577318a",
   "metadata": {},
   "outputs": [],
   "source": [
    "region_xy_container = dbc.Container([\n",
    "    html.H1(children = 'Within region two metric choosable scatter for countries within chosen region', style={'textAlign': 'center'}),\n",
    "    html.P(id='region-xy-test'),\n",
    "    dbc.Row(\n",
    "        [\n",
    "            dbc.Col(region_xy_controls, md=4),\n",
    "            dbc.Col(dcc.Graph(id='region-xy-graph'), md=8),\n",
    "        ],\n",
    "        align=\"center\",\n",
    "    ),\n",
    "], fluid=True)"
   ]
  },
  {
   "cell_type": "code",
   "execution_count": null,
   "id": "d6bed055-e205-4eee-9dac-6cf31fc97c6e",
   "metadata": {},
   "outputs": [],
   "source": [
    "@app.callback(\n",
    "    [\n",
    "        Output('region-xy-graph', 'figure'),\n",
    "        Output('region-xy-test', 'children'),\n",
    "    ],\n",
    "    [\n",
    "        Input('region-region-selection', 'value'),\n",
    "        Input('region-x-selection', 'value'),\n",
    "        Input('region-y-selection', 'value'),\n",
    "    ]\n",
    ")\n",
    "def update_region_xy_graph(region, metric_x, metric_y):\n",
    "    region_df = df[df['Regional Indicator'] == region]\n",
    "    fig = px.scatter(region_df, y=metric_y, x=metric_x, hover_data='Country', color='Regional Indicator',\n",
    "                    trendline = 'ols')\n",
    "    return fig, f'region df shape: {region_df.shape}'\n",
    "    # return fig"
   ]
  },
  {
   "cell_type": "markdown",
   "id": "29cda612-a62c-4f47-b6a2-203077e67a7f",
   "metadata": {},
   "source": [
    "### Static comparisons"
   ]
  },
  {
   "cell_type": "markdown",
   "id": "d8dac275-1e0e-4bd3-8b60-a458bdf7998f",
   "metadata": {
    "jp-MarkdownHeadingCollapsed": true
   },
   "source": [
    "##### dataframe fixes"
   ]
  },
  {
   "cell_type": "code",
   "execution_count": null,
   "id": "21a1e9c4-74bf-40ea-8a99-f2e9a8a5a50e",
   "metadata": {},
   "outputs": [],
   "source": [
    "# df[df['Urban_population'].isna()]['Country']"
   ]
  },
  {
   "cell_type": "code",
   "execution_count": null,
   "id": "388befd8-e10b-401a-8a5f-7400e9292f0d",
   "metadata": {},
   "outputs": [],
   "source": [
    "# df['Urban_population'] = df['Urban_population'].str.replace(',', '')"
   ]
  },
  {
   "cell_type": "code",
   "execution_count": null,
   "id": "9ca673e8-79bb-4c6e-a6f9-dbeda70c6d51",
   "metadata": {},
   "outputs": [],
   "source": [
    "# df['Urban_population'] = df['Urban_population'].astype(float) / 1000000"
   ]
  },
  {
   "cell_type": "code",
   "execution_count": null,
   "id": "a137e24f-40d8-4f57-a588-28d8e24abc32",
   "metadata": {},
   "outputs": [],
   "source": [
    "# df['Gross primary education enrollment (%)'] = df['Gross primary education enrollment (%)'].str.replace('%', '').astype(float)"
   ]
  },
  {
   "cell_type": "code",
   "execution_count": null,
   "id": "e06f552c-615d-4234-986a-613c4b537706",
   "metadata": {},
   "outputs": [],
   "source": [
    "# df['Gross tertiary education enrollment (%)'] = df['Gross tertiary education enrollment (%)'].str.replace('%', '').astype(float)"
   ]
  },
  {
   "cell_type": "code",
   "execution_count": null,
   "id": "c21729c0-b8af-4d3d-89b8-0ddcba7840c2",
   "metadata": {
    "scrolled": true
   },
   "outputs": [],
   "source": [
    "# df['Forested Area (%)'] = df['Forested Area (%)'].str.replace('%', '').astype(float)"
   ]
  },
  {
   "cell_type": "code",
   "execution_count": null,
   "id": "4c10f19e-ad04-49a9-b961-cf1cbbf13e6f",
   "metadata": {},
   "outputs": [],
   "source": [
    "# df['Co2-Emissions'] = df['Co2-Emissions'].str.replace('NaN', '0')"
   ]
  },
  {
   "cell_type": "code",
   "execution_count": null,
   "id": "9ed9d0eb-fa0f-403f-a669-b38cb481e2f6",
   "metadata": {},
   "outputs": [],
   "source": [
    "# df['Co2-Emissions'] = pd.to_numeric(df['Co2-Emissions'], errors='coerce')"
   ]
  },
  {
   "cell_type": "code",
   "execution_count": null,
   "id": "3cd12098-8bd8-4a2f-ae30-3f28a4494a52",
   "metadata": {},
   "outputs": [],
   "source": [
    "df.to_csv('datafiles/combined_df_2023.csv')"
   ]
  },
  {
   "cell_type": "markdown",
   "id": "60de8508-b859-49f9-b591-a34f7d276699",
   "metadata": {},
   "source": [
    "##### figures"
   ]
  },
  {
   "cell_type": "code",
   "execution_count": null,
   "id": "9d700d28-528e-4b1a-b0b0-70afae26310d",
   "metadata": {},
   "outputs": [],
   "source": [
    "physicians_vs_mortality_fig = px.scatter(df, x='Physicians per thousand', y='Infant mortality', color='Regional Indicator', trendline='ols')\n",
    "urbanpop_vs_primary_enrollment_fig = px.scatter(df, x='Urban_population', y='Gross primary education enrollment (%)',\n",
    "                                                color='Regional Indicator', trendline='ols')\n",
    "urbanpop_vs_tertiary_enrollment_fig = px.scatter(df, x='Urban_population', y='Gross tertiary education enrollment (%)',\n",
    "                                                color='Regional Indicator', trendline='ols')\n",
    "\n",
    "forestation_vs_co2_fig = px.scatter(df, x='Forested Area (%)', y='Co2-Emissions', color='Regional Indicator', trendline='ols')\n",
    "gasoline_vs_co2_fig = px.scatter(df, x='Gasoline Price', y='Co2-Emissions', color='Regional Indicator', trendline='ols')\n",
    "armed_vs_co2_fig = px.scatter(df, x='Armed Forces size', y='Co2-Emissions', color='Regional Indicator', trendline='ols')\n",
    "density_vs_co2_fig = px.scatter(df, x='Density (P/Km2)', y='Co2-Emissions', color='Regional Indicator', trendline='ols')\n",
    "\n",
    "# density_vs_co2_fig = px.scatter(df, x='Density (P/Km2)', y='Co2-Emissions', color='Regional Indicator', trendline='ols')\n",
    "gdp_vs_businessrank_fig = px.scatter(df, x='Logged GDP per capita', y='Starting a Business rank', color='Regional Indicator', trendline='ols')"
   ]
  },
  {
   "cell_type": "code",
   "execution_count": null,
   "id": "02d972c2-29ae-45dc-84d8-18f7d2fa4636",
   "metadata": {},
   "outputs": [],
   "source": [
    "physicians_vs_mortality_fig_size = px.scatter(df, x='Physicians per thousand', y='Infant mortality', color='Regional Indicator', trendline='ols',\n",
    "                                             size='Ladder score')\n",
    "urbanpop_vs_primary_enrollment_fig_size = px.scatter(df, x='Urban_population', y='Gross primary education enrollment (%)',\n",
    "                                                color='Regional Indicator', trendline='ols', size='Ladder score')\n",
    "urbanpop_vs_tertiary_enrollment_fig_size = px.scatter(df, x='Urban_population', y='Gross tertiary education enrollment (%)',\n",
    "                                                color='Regional Indicator', trendline='ols', size='Ladder score')\n",
    "\n",
    "forestation_vs_co2_fig_size = px.scatter(df, x='Forested Area (%)', y='Co2-Emissions', color='Regional Indicator', trendline='ols',\n",
    "                                        size='Ladder score')\n",
    "gasoline_vs_co2_fig_size = px.scatter(df, x='Gasoline Price', y='Co2-Emissions', color='Regional Indicator', trendline='ols', size='Ladder score')\n",
    "armed_vs_co2_fig_size = px.scatter(df, x='Armed Forces size', y='Co2-Emissions', color='Regional Indicator', trendline='ols', size='Ladder score')\n",
    "density_vs_co2_fig_size = px.scatter(df, x='Density (P/Km2)', y='Co2-Emissions', color='Regional Indicator', trendline='ols', size='Ladder score')\n",
    "\n",
    "gdp_vs_businessrank_fig_size = px.scatter(df, x='Logged GDP per capita', y='Starting a Business rank', color='Regional Indicator', trendline='ols', size='Ladder score')"
   ]
  },
  {
   "cell_type": "code",
   "execution_count": null,
   "id": "2ded866b-03fe-4217-bb03-7e0725da02a3",
   "metadata": {},
   "outputs": [],
   "source": [
    "static_figures = [\n",
    "    physicians_vs_mortality_fig,\n",
    "    urbanpop_vs_primary_enrollment_fig,\n",
    "    urbanpop_vs_tertiary_enrollment_fig,\n",
    "    forestation_vs_co2_fig,\n",
    "    gasoline_vs_co2_fig,\n",
    "    armed_vs_co2_fig,\n",
    "    density_vs_co2_fig,\n",
    "    gdp_vs_businessrank_fig\n",
    "]"
   ]
  },
  {
   "cell_type": "code",
   "execution_count": null,
   "id": "576857f0-4060-4476-a8dc-d2097afa8f85",
   "metadata": {},
   "outputs": [],
   "source": [
    "static_figures_size = [\n",
    "    physicians_vs_mortality_fig_size,\n",
    "    urbanpop_vs_primary_enrollment_fig_size,\n",
    "    urbanpop_vs_tertiary_enrollment_fig_size,\n",
    "    forestation_vs_co2_fig_size,\n",
    "    gasoline_vs_co2_fig_size,\n",
    "    armed_vs_co2_fig_size,\n",
    "    density_vs_co2_fig_size,\n",
    "    gdp_vs_businessrank_fig_size\n",
    "]"
   ]
  },
  {
   "cell_type": "markdown",
   "id": "05b3a02d-0999-43b5-9e98-381f3015ba31",
   "metadata": {},
   "source": [
    "##### static figures layout"
   ]
  },
  {
   "cell_type": "code",
   "execution_count": null,
   "id": "598a50f1-2d08-4570-be63-6385ebace50d",
   "metadata": {},
   "outputs": [],
   "source": [
    "static_figures_rows = []\n",
    "\n",
    "len_static = len(static_figures)\n",
    "\n",
    "for fig_index in range(len_static//2):\n",
    "    static_figures_row = dbc.Row(\n",
    "        [\n",
    "            dbc.Col(dcc.Graph(id=f'static-graph-{fig_index*2}', figure=static_figures[fig_index*2])),\n",
    "            dbc.Col(dcc.Graph(id=f'static-graph-{fig_index*2 + 1}', figure=static_figures[fig_index*2 + 1])),\n",
    "        ],\n",
    "        align=\"center\",\n",
    "    )\n",
    "    static_figures_rows.append(static_figures_row)\n",
    "\n",
    "static_figures_container = dbc.Container([\n",
    "    html.H1(children = 'Static figures', style={'textAlign': 'center'}),\n",
    "    # html.P(id='region-xy-test'),\n",
    "    *static_figures_rows,\n",
    "], fluid=True)"
   ]
  },
  {
   "cell_type": "markdown",
   "id": "e9935fa7-cc75-42d2-a15f-62d4cbb639ed",
   "metadata": {},
   "source": [
    "##### corr matrix"
   ]
  },
  {
   "cell_type": "code",
   "execution_count": null,
   "id": "727e94a5-046a-4d99-a939-843b959f9000",
   "metadata": {},
   "outputs": [],
   "source": [
    "corr_except = ['Ladder score lower whisker', 'Ladder score upper whisker', 'Ladder score stanard error']\n",
    "corr_columns = [col for col in numeric_cols if col not in corr_except]\n",
    "df_corr = df[numeric_cols].corr()\n",
    "\n",
    "corr_map = go.Heatmap(x=df_corr.columns, y=df_corr.columns, z=df_corr,\n",
    "                     colorscale=px.colors.diverging.RdBu)\n",
    "\n",
    "corr_title = 'Correlation Matrix'\n",
    "\n",
    "corr_layout = go.Layout(\n",
    "    title_text=corr_title,  \n",
    "    width=900, \n",
    "    height=900,\n",
    "    xaxis_showgrid=False,\n",
    "    yaxis_showgrid=False,\n",
    "    # yaxis_autorange='reversed'\n",
    ")\n",
    "corr_fig=go.Figure(data=[corr_map], layout=corr_layout)"
   ]
  },
  {
   "cell_type": "code",
   "execution_count": null,
   "id": "c4b0f3a9-6582-42f3-8366-4bf94189f531",
   "metadata": {},
   "outputs": [],
   "source": [
    "corr_container = dbc.Container([\n",
    "    html.H1(children = 'Correlation matrix', style={'textAlign': 'center'}),\n",
    "    dcc.Graph(id='corr-graph-content',\n",
    "             figure = corr_fig)\n",
    "], fluid=True)"
   ]
  },
  {
   "cell_type": "markdown",
   "id": "02faab46-91e4-4a3d-90ba-e3863c81fcd0",
   "metadata": {},
   "source": [
    "##### histogram multi-figure"
   ]
  },
  {
   "cell_type": "code",
   "execution_count": null,
   "id": "c32bbd1d-e2db-4200-be25-7c4224d7fffe",
   "metadata": {},
   "outputs": [],
   "source": [
    "# to_hist_cols = ['Infant']"
   ]
  },
  {
   "cell_type": "markdown",
   "id": "f9b63dd4-1b67-4128-b095-00f01fff8637",
   "metadata": {},
   "source": [
    "### Histogram multi-figure"
   ]
  },
  {
   "cell_type": "code",
   "execution_count": null,
   "id": "7e989707-80fd-40cd-9d8b-0de212620c98",
   "metadata": {},
   "outputs": [],
   "source": [
    "metric_hist_controls = dbc.Card(\n",
    "    [\n",
    "        html.Div(\n",
    "            [\n",
    "            dbc.Label(\"Metric\"),\n",
    "            dcc.Dropdown(\n",
    "                id='hist-metric-selection',\n",
    "                value = 'Social support',\n",
    "                options = [col for col in metric_graph_columns if col != 'Ladder score']\n",
    "            )\n",
    "            ]),\n",
    "    ],\n",
    "    body=True,\n",
    ")"
   ]
  },
  {
   "cell_type": "code",
   "execution_count": null,
   "id": "e6fa8ed1-d94a-4264-ba2b-7f910193ccb5",
   "metadata": {},
   "outputs": [],
   "source": [
    "metric_hist_container = dbc.Container([\n",
    "    html.H1(children = 'Metric histogram', style={'textAlign': 'center'}),\n",
    "    html.P(id='hist-metric-test'),\n",
    "    dbc.Row(\n",
    "        [\n",
    "            dbc.Col(metric_hist_controls, md=4),\n",
    "            dbc.Col(dcc.Graph(id='hist-metric-graph'), md=8),\n",
    "        ],\n",
    "        align=\"center\",\n",
    "    ),\n",
    "], fluid=True)"
   ]
  },
  {
   "cell_type": "code",
   "execution_count": null,
   "id": "4c32c74e-6864-47b7-98a6-f00113c510e5",
   "metadata": {},
   "outputs": [],
   "source": [
    "@app.callback(\n",
    "    [\n",
    "        Output('hist-metric-graph', 'figure'),\n",
    "        Output('hist-metric-test', 'children')\n",
    "    ],\n",
    "    [\n",
    "        Input('hist-metric-selection', 'value'),\n",
    "    ]\n",
    ")\n",
    "def update_hist_metric_graph(metric):\n",
    "    # fig = px.scatter(df, y='Ladder score', x=metric, hover_data='Country', color='Regional Indicator',)\n",
    "    fig = px.histogram(df, x=metric, color='Regional Indicator')\n",
    "    return fig, f'metric: {metric}'\n",
    "    # return fig"
   ]
  },
  {
   "cell_type": "markdown",
   "id": "3ca9493e-c7cf-4c1e-a2c4-1d170b715ba2",
   "metadata": {},
   "source": [
    "### Spine graphs by spreads / relation to median"
   ]
  },
  {
   "cell_type": "code",
   "execution_count": null,
   "id": "08455d45-80e4-4715-98f6-0907f8c5b615",
   "metadata": {},
   "outputs": [],
   "source": [
    "df.describe()"
   ]
  },
  {
   "cell_type": "code",
   "execution_count": null,
   "id": "3ad2db1e-5678-4e2b-907c-08c224cd5b04",
   "metadata": {},
   "outputs": [],
   "source": [
    "spine_columns = ['Social support', 'Life expectancy', 'Freedom', 'Urban_population']"
   ]
  },
  {
   "cell_type": "code",
   "execution_count": null,
   "id": "53460207-81d7-4e8d-b594-613a659381e3",
   "metadata": {},
   "outputs": [],
   "source": [
    "social_median = df['Social support'].median()\n",
    "life_median = df['Life expectancy'].median()\n",
    "freedom_median = df['Freedom'].median()\n",
    "urban_median = df['Urban_population'].median()"
   ]
  },
  {
   "cell_type": "code",
   "execution_count": null,
   "id": "cb8f90f0-6875-4b84-bcd5-2a66811fcfef",
   "metadata": {},
   "outputs": [],
   "source": [
    "medians = [social_median, life_median, freedom_median, urban_median]"
   ]
  },
  {
   "cell_type": "code",
   "execution_count": null,
   "id": "c75fa693-8b3a-46d5-b9dc-2fcea1e082e2",
   "metadata": {},
   "outputs": [],
   "source": [
    "median_columns = [f'{col} above median' for col in spine_columns]"
   ]
  },
  {
   "cell_type": "code",
   "execution_count": null,
   "id": "f54a7212-c45d-4ba7-9b16-d15a69e415fc",
   "metadata": {},
   "outputs": [],
   "source": [
    "median_columns"
   ]
  },
  {
   "cell_type": "code",
   "execution_count": null,
   "id": "ddcaa3af-b78b-4a8e-a54f-34d6ac821949",
   "metadata": {},
   "outputs": [],
   "source": [
    "for col_index, col in enumerate(median_columns):\n",
    "    df[col] = df.apply(\n",
    "    lambda row: True if row[spine_columns[col_index]] > medians[col_index] else False,\n",
    "    axis = 1\n",
    "    )"
   ]
  },
  {
   "cell_type": "code",
   "execution_count": null,
   "id": "600ab9c8-faf5-41de-af81-344bc0a6cae5",
   "metadata": {},
   "outputs": [],
   "source": [
    "median_col_True_means = []\n",
    "for col in median_columns:\n",
    "    median_mean = df[df[col] == True]['Ladder score'].mean()\n",
    "    median_col_True_means.append(median_mean)"
   ]
  },
  {
   "cell_type": "code",
   "execution_count": null,
   "id": "5ce73d8d-12e3-469b-8ebd-da9f6edd75d7",
   "metadata": {},
   "outputs": [],
   "source": [
    "median_col_False_means = []\n",
    "for col in median_columns:\n",
    "    median_mean = df[df[col] == False]['Ladder score'].mean()\n",
    "    median_col_False_means.append(median_mean)"
   ]
  },
  {
   "cell_type": "code",
   "execution_count": null,
   "id": "dee5c776-5942-4f3b-9a00-dc92fc33ee55",
   "metadata": {},
   "outputs": [],
   "source": [
    "median_col_False_means = [col * -1 for col in median_col_False_means]"
   ]
  },
  {
   "cell_type": "code",
   "execution_count": null,
   "id": "348b321b-0cd0-465e-b635-89aa81a43957",
   "metadata": {
    "scrolled": true
   },
   "outputs": [],
   "source": [
    "# ladder_above_median_freedom = df[df['Freedom above median'] == True]['Ladder score'].mean()"
   ]
  },
  {
   "cell_type": "code",
   "execution_count": null,
   "id": "68258930-c525-420b-9072-0f461111c45c",
   "metadata": {},
   "outputs": [],
   "source": [
    "# ladder_above_median_freedom"
   ]
  },
  {
   "cell_type": "code",
   "execution_count": null,
   "id": "7a6ade82-e007-4d7b-81aa-bb2740750a21",
   "metadata": {},
   "outputs": [],
   "source": [
    "# px.bar(y=[ladder_above_median_freedom,], x=['Freedom',])"
   ]
  },
  {
   "cell_type": "code",
   "execution_count": null,
   "id": "7fa3d23b-c83b-4307-b5fe-548834723d9e",
   "metadata": {},
   "outputs": [],
   "source": [
    "ladder_vs_medians_fig = go.Figure(\n",
    "    data = [\n",
    "        go.Bar(name = 'above median',\n",
    "               y = spine_columns,\n",
    "               x = median_col_True_means,\n",
    "               orientation='h',\n",
    "                marker=dict(color='#DD5555',\n",
    "                line=dict(\n",
    "                color='rgba(0,0,0,1.0)', width=0.5)),\n",
    "                hoverinfo='none'\n",
    "              ),\n",
    "        go.Bar(name = 'below median',\n",
    "               y = spine_columns,\n",
    "               x = median_col_False_means,\n",
    "               orientation='h',\n",
    "                marker=dict(color='#5555DD',\n",
    "                line=dict(\n",
    "                color='rgba(0,0,0,1.0)', width=0.5)),\n",
    "                hoverinfo='none'\n",
    "              ),\n",
    "    ],\n",
    ")\n",
    "ladder_vs_medians_fig.update_layout(barmode='relative')"
   ]
  },
  {
   "cell_type": "code",
   "execution_count": null,
   "id": "0fdb67e1-938c-48ec-b99f-2066b9ec0e80",
   "metadata": {},
   "outputs": [],
   "source": [
    "median_col_False_means = [col * -1 for col in median_col_False_means]"
   ]
  },
  {
   "cell_type": "code",
   "execution_count": null,
   "id": "ffd2c6d4-d160-49b6-bb21-fd26169000e8",
   "metadata": {},
   "outputs": [],
   "source": [
    "median_vs_ladder_vertical_fig = go.Figure(\n",
    "    data = [\n",
    "        go.Bar(name = 'above median', x = spine_columns, y = median_col_True_means),\n",
    "        go.Bar(name = 'below median', x = spine_columns, y = median_col_False_means),\n",
    "    ],\n",
    ")\n",
    "median_vs_ladder_vertical_fig.update_layout(barmode='group',\n",
    "                                           yaxis_title=\"Ladder score\",\n",
    "                                           xaxis_title=\"Metric\")"
   ]
  },
  {
   "cell_type": "code",
   "execution_count": null,
   "id": "e31a4a06-9bd0-4681-8af6-6f6ee5d5adc2",
   "metadata": {},
   "outputs": [],
   "source": [
    "median_vs_ladder_container = dbc.Container([\n",
    "    html.H1(children = 'Spine graphs by spreads', style={'textAlign': 'center'}),\n",
    "    dcc.Graph(id='median-vs-ladder-graph-content',\n",
    "             figure = median_vs_ladder_vertical_fig)\n",
    "], fluid=True)"
   ]
  },
  {
   "cell_type": "markdown",
   "id": "6c8fe595-c4c1-4ede-bdf6-d04dda7e9045",
   "metadata": {
    "jp-MarkdownHeadingCollapsed": true
   },
   "source": [
    "### Radar plots "
   ]
  },
  {
   "cell_type": "code",
   "execution_count": null,
   "id": "a2ed9539-6259-4720-bab5-1bd682c58773",
   "metadata": {},
   "outputs": [],
   "source": [
    "# px.line_polar(r=median_col_True_means, theta = spine_columns)\n",
    "grouped_by_region = df.groupby(by='Regional Indicator')[numeric_cols]"
   ]
  },
  {
   "cell_type": "code",
   "execution_count": null,
   "id": "653b0c86-599c-4f94-b6c2-14f632a2d3d6",
   "metadata": {},
   "outputs": [],
   "source": [
    "grouped_by_region_means = grouped_by_region.mean()"
   ]
  },
  {
   "cell_type": "code",
   "execution_count": null,
   "id": "23bea749-ea90-4548-9aa6-53b07a442705",
   "metadata": {
    "scrolled": true
   },
   "outputs": [],
   "source": [
    "grouped_by_region_means"
   ]
  },
  {
   "cell_type": "code",
   "execution_count": null,
   "id": "957d6937-9857-4019-8658-92873eb7909f",
   "metadata": {},
   "outputs": [],
   "source": [
    "work_means = grouped_by_region_means[['Agriculture', 'Industry', 'Service']]"
   ]
  },
  {
   "cell_type": "code",
   "execution_count": null,
   "id": "d2e76994-2871-42f5-abb5-f9fc3d974ad1",
   "metadata": {},
   "outputs": [],
   "source": [
    "work_means.loc['Central and Eastern Europe', :].values"
   ]
  },
  {
   "cell_type": "code",
   "execution_count": null,
   "id": "6b04eb5e-e856-4347-86f6-d17691582314",
   "metadata": {},
   "outputs": [],
   "source": [
    "work_means_regions = list(work_means.index)[1:]"
   ]
  },
  {
   "cell_type": "code",
   "execution_count": null,
   "id": "8d48bbda-29c4-43cd-82ef-dc1d14ff33e8",
   "metadata": {},
   "outputs": [],
   "source": [
    "radar_colors = ['#466365', '#B49A67', '#01BAEF', '#ED4D6E', '#BAA5FF', '#FFB627', '#98CE00', '#DD1C1A', '#CC7178']"
   ]
  },
  {
   "cell_type": "code",
   "execution_count": null,
   "id": "56cd004f-c0fc-4d7f-bf1b-18b1735d5608",
   "metadata": {},
   "outputs": [],
   "source": [
    "work_radar_fig = px.line_polar(\n",
    "    theta = ['Agriculture', 'Industry', 'Service'], r = work_means.loc[list(work_means.index)[0], :].values,\n",
    "    line_close=True\n",
    ")"
   ]
  },
  {
   "cell_type": "code",
   "execution_count": null,
   "id": "9bf40b14-5f6c-49b1-9ecd-6a9b84fc4e9b",
   "metadata": {},
   "outputs": [],
   "source": [
    "for r_index, region in enumerate(work_means_regions):\n",
    "    # work_radar_fig.add_trace(\n",
    "    #     px.line_polar(\n",
    "    #     theta = ['Agriculture', 'Industry', 'Service'], r = work_means.loc[region, :].values,\n",
    "    #     line_close=True, mark).data[0]\n",
    "    # )\n",
    "    work_radar_fig.add_trace(\n",
    "        go.Scatterpolar(\n",
    "          r=work_means.loc[region, :].values,\n",
    "          theta=['Agriculture', 'Industry', 'Service'],\n",
    "          name=region\n",
    "    )\n",
    "    )"
   ]
  },
  {
   "cell_type": "code",
   "execution_count": null,
   "id": "b8443895-29ff-49ae-9345-982242b62154",
   "metadata": {},
   "outputs": [],
   "source": [
    "work_means"
   ]
  },
  {
   "cell_type": "code",
   "execution_count": null,
   "id": "1623e0b7-63f3-4513-97db-6e4a244ac23d",
   "metadata": {},
   "outputs": [],
   "source": [
    "work_radar_fig"
   ]
  },
  {
   "cell_type": "code",
   "execution_count": null,
   "id": "921156b0-a77b-4665-9769-44f3a913b4e9",
   "metadata": {
    "scrolled": true
   },
   "outputs": [],
   "source": [
    "# parallel_fig = px.parallel_coordinates(work_means, color = work_means.index, dimensions = work_means.columns,\n",
    "#                                        color_continuous_scale=px.colors.diverging.Tealrose)"
   ]
  },
  {
   "cell_type": "code",
   "execution_count": null,
   "id": "957dae98-ae46-42cc-9f01-fcd23a08ae8e",
   "metadata": {},
   "outputs": [],
   "source": [
    "parallel_fig = px.parallel_coordinates(work_means, dimensions = work_means.columns,\n",
    "                                       color_continuous_scale=px.colors.diverging.Tealrose)"
   ]
  },
  {
   "cell_type": "code",
   "execution_count": null,
   "id": "18c24c0e-52ec-4ff4-8106-f5fc2debb132",
   "metadata": {},
   "outputs": [],
   "source": [
    "parallel_fig.show()"
   ]
  },
  {
   "cell_type": "markdown",
   "id": "8824414c-5c10-466f-b200-25e6fa1c4ac1",
   "metadata": {},
   "source": [
    "### Percentage donuts / histograms"
   ]
  },
  {
   "cell_type": "code",
   "execution_count": null,
   "id": "0facbd34-5b14-4cec-b819-b0fdaf5df27c",
   "metadata": {},
   "outputs": [],
   "source": [
    "# forest_cuts = pd.cut(x=df['Forested Area (%)'].values, bins=10)"
   ]
  },
  {
   "cell_type": "code",
   "execution_count": null,
   "id": "2cedd693-16b5-4e13-bc6a-ac4c975088df",
   "metadata": {
    "scrolled": true
   },
   "outputs": [],
   "source": [
    "# forest_cuts.to_list()"
   ]
  },
  {
   "cell_type": "code",
   "execution_count": null,
   "id": "3e443b28-791e-478f-92d5-d63a3a93c861",
   "metadata": {},
   "outputs": [],
   "source": [
    "# cuts_fig = go.Figure(data=[go.Pie(values=forest_cuts, hole=.3)])"
   ]
  },
  {
   "cell_type": "code",
   "execution_count": null,
   "id": "3c3884a8-b19a-43b5-857c-de1e40328995",
   "metadata": {},
   "outputs": [],
   "source": [
    "px.histogram(df, x='Forested Area (%)', nbins=10, color='Regional Indicator')"
   ]
  },
  {
   "cell_type": "code",
   "execution_count": null,
   "id": "be650490-d215-4d75-a738-2cccaf20fbe3",
   "metadata": {},
   "outputs": [],
   "source": [
    "forest_vs_agriculture_hist_fig = go.Figure()"
   ]
  },
  {
   "cell_type": "code",
   "execution_count": null,
   "id": "b99c94b6-e0c6-4a8d-85bc-993e5fb2b5e0",
   "metadata": {},
   "outputs": [],
   "source": [
    "forest_vs_agriculture_hist_fig.add_trace(\n",
    "    # px.histogram(df, x='Forested Area (%)', nbins=10).data[0]\n",
    "    go.Histogram(x=df['Forested Area (%)'], nbinsx = 10, name='Forested Area (%)')\n",
    ")\n",
    "forest_vs_agriculture_hist_fig.add_trace(\n",
    "    # px.histogram(df, x='Agriculture', nbins=10).data[0]\n",
    "    go.Histogram(x=df['Agriculture']*100, nbinsx = 10, name='Agriculture')\n",
    ")\n",
    "\n",
    "forest_vs_agriculture_hist_fig.update_layout(barmode='overlay')\n",
    "forest_vs_agriculture_hist_fig.update_traces(opacity=0.75)\n",
    "forest_vs_agriculture_hist_fig.show()"
   ]
  },
  {
   "cell_type": "code",
   "execution_count": null,
   "id": "44c93fd6-4552-4e8c-8f80-1c48255b347c",
   "metadata": {},
   "outputs": [],
   "source": [
    "forest_vs_industry_hist_fig = go.Figure()\n",
    "forest_vs_industry_hist_fig.add_trace(\n",
    "    # px.histogram(df, x='Forested Area (%)', nbins=10).data[0]\n",
    "    go.Histogram(x=df['Forested Area (%)'], nbinsx = 10, name='Forested Area (%)')\n",
    ")\n",
    "forest_vs_industry_hist_fig.add_trace(\n",
    "    # px.histogram(df, x='Agriculture', nbins=10).data[0]\n",
    "    go.Histogram(x=df['Industry']*100, nbinsx = 10, name='Industry')\n",
    ")\n",
    "\n",
    "forest_vs_industry_hist_fig.update_layout(barmode='overlay')\n",
    "forest_vs_industry_hist_fig.update_traces(opacity=0.75)\n",
    "forest_vs_industry_hist_fig.show()"
   ]
  },
  {
   "cell_type": "code",
   "execution_count": null,
   "id": "851db1cc-7d06-4981-bbb7-d63df57420b6",
   "metadata": {},
   "outputs": [],
   "source": [
    "hist_with_boxes = px.histogram(df, x='Ladder score', color='Regional Indicator',\n",
    "             marginal='violin', height=800)\n",
    "hist_with_boxes"
   ]
  },
  {
   "cell_type": "markdown",
   "id": "6ec5cfa8-b65d-4b38-9b1e-498260008197",
   "metadata": {},
   "source": [
    "### Latitude , longitude"
   ]
  },
  {
   "cell_type": "code",
   "execution_count": null,
   "id": "7e664cf1-c3f5-4730-bf77-67988a17e833",
   "metadata": {},
   "outputs": [],
   "source": [
    "px.scatter(df, x='Latitude', y='Agriculture')"
   ]
  },
  {
   "cell_type": "code",
   "execution_count": null,
   "id": "54fe8134-bd80-4118-a6bb-937ed3d41985",
   "metadata": {},
   "outputs": [],
   "source": [
    "px.scatter(df, x='Longitude', y='Agriculture', color='Regional Indicator')"
   ]
  },
  {
   "cell_type": "code",
   "execution_count": null,
   "id": "327dd793-3c57-4037-8e34-98418057ebaa",
   "metadata": {},
   "outputs": [],
   "source": [
    "px.scatter(df, x='Longitude', y='Latitude', size=df['Agriculture'].fillna(0), color='Regional Indicator')"
   ]
  },
  {
   "cell_type": "markdown",
   "id": "83be0672-4639-42e9-abd0-7ccaa1bce7aa",
   "metadata": {},
   "source": [
    "### Choropleth"
   ]
  },
  {
   "cell_type": "code",
   "execution_count": null,
   "id": "30172f2f-9b35-40fa-b720-20d5861d7fe1",
   "metadata": {},
   "outputs": [],
   "source": [
    "# get ISO codes\n",
    "iso_df = pd.read_csv('datafiles/world_countries_with_sectors.csv')\n",
    "iso_df_to_merge = iso_df[['Country', 'Code']]"
   ]
  },
  {
   "cell_type": "code",
   "execution_count": null,
   "id": "a6822522-29a3-4d9f-82a7-aa0924fdd072",
   "metadata": {},
   "outputs": [],
   "source": [
    "df_with_iso = df.merge(iso_df_to_merge, how='left', on='Country')"
   ]
  },
  {
   "cell_type": "code",
   "execution_count": null,
   "id": "daefa137-3240-4eb9-82c8-586a4948ccd2",
   "metadata": {},
   "outputs": [],
   "source": [
    "ladder_choropleth = px.choropleth(df_with_iso, locations='Code', color='Ladder score',\n",
    "             hover_name='Country', color_continuous_scale=px.colors.sequential.Plasma,\n",
    "             width=800, height=600)"
   ]
  },
  {
   "cell_type": "code",
   "execution_count": null,
   "id": "4976a37f-17a3-4754-b2e5-e51acde8c417",
   "metadata": {},
   "outputs": [],
   "source": [
    "life_choropleth = px.choropleth(df_with_iso, locations='Code', color='Life expectancy',\n",
    "             hover_name='Country', color_continuous_scale=px.colors.sequential.Plasma,\n",
    "             width=800, height=600)\n",
    "life_choropleth.show()"
   ]
  },
  {
   "cell_type": "code",
   "execution_count": null,
   "id": "3c8ed79a-db7c-448a-a88e-d3b42fe5112d",
   "metadata": {},
   "outputs": [],
   "source": [
    "gdp_choropleth = px.choropleth(df_with_iso, locations='Code', color='Logged GDP per capita',\n",
    "             hover_name='Country', color_continuous_scale=px.colors.sequential.Plasma,\n",
    "             width=800, height=600)\n",
    "gdp_choropleth.show()"
   ]
  },
  {
   "cell_type": "code",
   "execution_count": null,
   "id": "cac1fa4b-cd74-4b64-8fdd-9b35a0c80d74",
   "metadata": {},
   "outputs": [],
   "source": [
    "life_bubble_map = px.scatter_geo(df_with_iso, locations='Code', color='Regional Indicator',\n",
    "                                hover_name='Country', size='Life expectancy',\n",
    "                                projection='natural earth')\n",
    "life_bubble_map.show()"
   ]
  },
  {
   "cell_type": "markdown",
   "id": "b063fb35-8083-4753-a2bb-23cd1148604c",
   "metadata": {},
   "source": [
    "### ternary?"
   ]
  },
  {
   "cell_type": "code",
   "execution_count": null,
   "id": "74cba15d-670a-40f1-b83d-0115937bf9dc",
   "metadata": {},
   "outputs": [],
   "source": [
    "px.scatter_ternary(df, a='Agriculture', b='Service', c='Industry', hover_name='Country',\n",
    "                   size='Ladder score', size_max=15, color='Regional Indicator')\n",
    "                  # color_discrete_map = {}"
   ]
  },
  {
   "cell_type": "markdown",
   "id": "f928499c-3f41-41d9-a6d2-d5a9ac8d1887",
   "metadata": {},
   "source": [
    "### others"
   ]
  },
  {
   "cell_type": "code",
   "execution_count": null,
   "id": "f23825a1-00a3-47cd-8c6b-77f1c5aa1ee2",
   "metadata": {},
   "outputs": [],
   "source": [
    "df[['Logged GDP per capita', 'Life expectancy', 'Population']].dtypes"
   ]
  },
  {
   "cell_type": "code",
   "execution_count": null,
   "id": "29bd8bb1-9c7f-40d4-9149-75b5d43365e1",
   "metadata": {},
   "outputs": [],
   "source": [
    "df['Population'] = pd.to_numeric(df['Population'].str.replace(',', ''), errors='coerce')"
   ]
  },
  {
   "cell_type": "code",
   "execution_count": null,
   "id": "7b155c4b-8de8-4178-a278-9ddfc306063b",
   "metadata": {},
   "outputs": [],
   "source": [
    "px.scatter(df, x='Logged GDP per capita', y='Life expectancy', size=df['Population'].fillna(0), color='Regional Indicator',\n",
    "          hover_name='Country', size_max=15)"
   ]
  },
  {
   "cell_type": "markdown",
   "id": "08c08ab4-5d33-4506-b531-86d5c17abe47",
   "metadata": {},
   "source": [
    "### App layout and run"
   ]
  },
  {
   "cell_type": "code",
   "execution_count": null,
   "id": "77d94767-7781-44f4-9091-12744b5cb300",
   "metadata": {},
   "outputs": [],
   "source": [
    "app.layout = dbc.Container([\n",
    "    metric_vs_ladder_container,\n",
    "    html.Hr(),\n",
    "    metric_vs_life_container,\n",
    "    html.Hr(),\n",
    "    region_xy_container,\n",
    "    html.Hr(),\n",
    "    metric_hist_container,\n",
    "    html.Hr(),\n",
    "    static_figures_container,\n",
    "    html.Hr(),\n",
    "    corr_container,\n",
    "    html.Hr(),\n",
    "    median_vs_ladder_container,\n",
    "    html.Hr(),\n",
    "], fluid=True)"
   ]
  },
  {
   "cell_type": "code",
   "execution_count": null,
   "id": "c9e0a48f-2a13-4f70-9052-d7c17994c9e4",
   "metadata": {},
   "outputs": [],
   "source": [
    "app.run(debug=True)"
   ]
  },
  {
   "cell_type": "code",
   "execution_count": null,
   "id": "e6ce0868-1ce4-4f05-ba14-d9264a0ddea2",
   "metadata": {},
   "outputs": [],
   "source": []
  },
  {
   "cell_type": "markdown",
   "id": "f6daadaa-0321-404b-8cb9-dcc521cdfe0d",
   "metadata": {},
   "source": [
    "### ========== tests ============"
   ]
  },
  {
   "cell_type": "markdown",
   "id": "63f6900d-8b8f-48be-99e3-428cd9df5a75",
   "metadata": {},
   "source": [
    "#### Trendline fig"
   ]
  },
  {
   "cell_type": "code",
   "execution_count": null,
   "id": "e09f9832-2b14-4c13-98f1-e16f1c4890b1",
   "metadata": {},
   "outputs": [],
   "source": [
    "trend_fig = px.scatter(df, x='Infant mortality', y='Physicians per thousand', trendline = 'ols')\n",
    "trend_fig.show()"
   ]
  },
  {
   "cell_type": "code",
   "execution_count": null,
   "id": "9e0e251f-2286-4bc0-9097-a2f7332b6855",
   "metadata": {
    "scrolled": true
   },
   "outputs": [],
   "source": [
    "results = px.get_trendline_results(trend_fig)\n",
    "results = results.iloc[0][\"px_fit_results\"].summary()\n",
    "print(results)"
   ]
  },
  {
   "cell_type": "markdown",
   "id": "1d636f31-0a3a-4584-9f21-65bad28712ab",
   "metadata": {},
   "source": [
    "#### Overall trendline fig"
   ]
  },
  {
   "cell_type": "code",
   "execution_count": null,
   "id": "56f5ae90-5444-46ae-8fb3-91b930c6c5ae",
   "metadata": {},
   "outputs": [],
   "source": [
    "overall_fig = px.scatter(df, y='Life expectancy', x='Agriculture', hover_data='Country', color='Regional Indicator',\n",
    "                        trendline='ols', trendline_scope='overall')\n",
    "overall_fig.show()"
   ]
  },
  {
   "cell_type": "markdown",
   "id": "e1795956-4273-4092-a936-3c4c44d9416f",
   "metadata": {},
   "source": [
    "#### size_fig"
   ]
  },
  {
   "cell_type": "code",
   "execution_count": null,
   "id": "566b1a1c-4ed5-4af4-a821-33cc4b190dbf",
   "metadata": {},
   "outputs": [],
   "source": [
    "size_fig = px.scatter(df, x=\"Logged GDP per capita\", y=\"Life expectancy\", size=\"Ladder score\",\n",
    "                 color=\"Regional Indicator\", hover_data='Country')"
   ]
  },
  {
   "cell_type": "code",
   "execution_count": null,
   "id": "49b3abdc-75bb-4d22-933d-cfe65ae9e097",
   "metadata": {},
   "outputs": [],
   "source": [
    "size_fig.show()"
   ]
  },
  {
   "cell_type": "markdown",
   "id": "e26f6386-bcbc-4677-983b-6a5df9d6cf87",
   "metadata": {},
   "source": [
    "#### dataframe with more data"
   ]
  },
  {
   "cell_type": "code",
   "execution_count": null,
   "id": "288de80c-0b23-460f-a106-cb52c3702afc",
   "metadata": {},
   "outputs": [],
   "source": [
    "world_df = pd.read_csv('datafiles/world-data-2023.csv')"
   ]
  },
  {
   "cell_type": "code",
   "execution_count": null,
   "id": "cec863e0-d6ff-42d0-9600-07507e6e5182",
   "metadata": {},
   "outputs": [],
   "source": [
    "world_df.columns"
   ]
  },
  {
   "cell_type": "code",
   "execution_count": null,
   "id": "c4e40dc5-c513-49f6-9b8c-254c186f58bb",
   "metadata": {},
   "outputs": [],
   "source": [
    "world_df"
   ]
  },
  {
   "cell_type": "code",
   "execution_count": null,
   "id": "7005923f-2757-4171-84ae-65b0a39bdc5d",
   "metadata": {},
   "outputs": [],
   "source": [
    "px.scatter(world_df, x='Physicians per thousand', y='Infant mortality', trendline='ols')"
   ]
  },
  {
   "cell_type": "code",
   "execution_count": null,
   "id": "0639387f-4d36-41e1-840a-9e155e3240f7",
   "metadata": {
    "scrolled": true
   },
   "outputs": [],
   "source": [
    "list(world_df['Country'])"
   ]
  },
  {
   "cell_type": "code",
   "execution_count": null,
   "id": "700ae3b9-23e3-48a3-9683-9e3ae523a0fa",
   "metadata": {
    "scrolled": true
   },
   "outputs": [],
   "source": [
    "metric_graph_columns"
   ]
  },
  {
   "cell_type": "code",
   "execution_count": null,
   "id": "11bff63b-4dec-47e2-a41b-cec7a734c4d6",
   "metadata": {},
   "outputs": [],
   "source": [
    "corr_except = ['Ladder score lower whisker', 'Ladder score upper whisker', 'Ladder score stanard error']"
   ]
  },
  {
   "cell_type": "code",
   "execution_count": null,
   "id": "053daabb-de13-49e4-b119-dc4ecea991b1",
   "metadata": {},
   "outputs": [],
   "source": [
    "corr_columns = [col for col in numeric_cols if col not in corr_except]"
   ]
  },
  {
   "cell_type": "code",
   "execution_count": null,
   "id": "18bc11e5-fc90-424f-b550-895a1ce9c025",
   "metadata": {},
   "outputs": [],
   "source": [
    "df_corr = df[numeric_cols].corr()"
   ]
  },
  {
   "cell_type": "code",
   "execution_count": null,
   "id": "42f2d54a-365a-4c00-852f-bfdf0d89231e",
   "metadata": {},
   "outputs": [],
   "source": [
    "# corr_map = go.Heatmap(x=df_corr.columns, y=df_corr.columns, z = df_corr,\n",
    "#                       colorscale=px.colors.diverging.RdBu,\n",
    "#                       zmin=-1, zmax=1)\n",
    "corr_map = go.Heatmap(x=df_corr.columns, y=df_corr.columns, z=df_corr,\n",
    "                     colorscale=px.colors.diverging.RdBu)"
   ]
  },
  {
   "cell_type": "code",
   "execution_count": null,
   "id": "f322b204-bb2f-4556-a288-4f42e5bbbcd2",
   "metadata": {},
   "outputs": [],
   "source": [
    "corr_title = 'Correlation Matrix'\n",
    "\n",
    "layout = go.Layout(\n",
    "    title_text=corr_title,  \n",
    "    width=900, \n",
    "    height=900,\n",
    "    xaxis_showgrid=False,\n",
    "    yaxis_showgrid=False,\n",
    "    # yaxis_autorange='reversed'\n",
    ")\n",
    "corr_fig=go.Figure(data=[corr_map], layout=layout)"
   ]
  },
  {
   "cell_type": "code",
   "execution_count": null,
   "id": "a3a39243-c195-405e-afea-3562c89589cd",
   "metadata": {},
   "outputs": [],
   "source": [
    "fig=go.Figure(data=[corr_map], layout=layout)"
   ]
  },
  {
   "cell_type": "code",
   "execution_count": null,
   "id": "e174394c-5e2b-4f88-8264-8ffc223ed87f",
   "metadata": {},
   "outputs": [],
   "source": [
    "fig.show()"
   ]
  },
  {
   "cell_type": "code",
   "execution_count": null,
   "id": "449777cd-79e6-436e-aa03-df575657a7b4",
   "metadata": {},
   "outputs": [],
   "source": [
    "import plotly.io as pio"
   ]
  }
 ],
 "metadata": {
  "kernelspec": {
   "display_name": "data_venv",
   "language": "python",
   "name": "data_venv"
  },
  "language_info": {
   "codemirror_mode": {
    "name": "ipython",
    "version": 3
   },
   "file_extension": ".py",
   "mimetype": "text/x-python",
   "name": "python",
   "nbconvert_exporter": "python",
   "pygments_lexer": "ipython3",
   "version": "3.10.9"
  }
 },
 "nbformat": 4,
 "nbformat_minor": 5
}
