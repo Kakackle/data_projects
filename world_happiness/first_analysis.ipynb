{
 "cells": [
  {
   "cell_type": "code",
   "execution_count": 1,
   "id": "e3f57acc-872b-483c-9194-c1cd361f87c7",
   "metadata": {},
   "outputs": [],
   "source": [
    "import pandas as pd\n",
    "import os\n",
    "import plotly.express as px"
   ]
  },
  {
   "cell_type": "code",
   "execution_count": 2,
   "id": "b01db2b2-69e1-4ad9-8c1b-fae9f9802ce2",
   "metadata": {},
   "outputs": [],
   "source": [
    "df = pd.read_csv('datafiles/world-happiness-report-2021.csv')"
   ]
  },
  {
   "cell_type": "code",
   "execution_count": 3,
   "id": "dcc47aa1-415a-4cd6-a45d-48fc4528c599",
   "metadata": {},
   "outputs": [
    {
     "data": {
      "text/html": [
       "<div>\n",
       "<style scoped>\n",
       "    .dataframe tbody tr th:only-of-type {\n",
       "        vertical-align: middle;\n",
       "    }\n",
       "\n",
       "    .dataframe tbody tr th {\n",
       "        vertical-align: top;\n",
       "    }\n",
       "\n",
       "    .dataframe thead th {\n",
       "        text-align: right;\n",
       "    }\n",
       "</style>\n",
       "<table border=\"1\" class=\"dataframe\">\n",
       "  <thead>\n",
       "    <tr style=\"text-align: right;\">\n",
       "      <th></th>\n",
       "      <th>Country name</th>\n",
       "      <th>Regional indicator</th>\n",
       "      <th>Ladder score</th>\n",
       "      <th>Standard error of ladder score</th>\n",
       "      <th>upperwhisker</th>\n",
       "      <th>lowerwhisker</th>\n",
       "      <th>Logged GDP per capita</th>\n",
       "      <th>Social support</th>\n",
       "      <th>Healthy life expectancy</th>\n",
       "      <th>Freedom to make life choices</th>\n",
       "      <th>Generosity</th>\n",
       "      <th>Perceptions of corruption</th>\n",
       "      <th>Ladder score in Dystopia</th>\n",
       "      <th>Explained by: Log GDP per capita</th>\n",
       "      <th>Explained by: Social support</th>\n",
       "      <th>Explained by: Healthy life expectancy</th>\n",
       "      <th>Explained by: Freedom to make life choices</th>\n",
       "      <th>Explained by: Generosity</th>\n",
       "      <th>Explained by: Perceptions of corruption</th>\n",
       "      <th>Dystopia + residual</th>\n",
       "    </tr>\n",
       "  </thead>\n",
       "  <tbody>\n",
       "    <tr>\n",
       "      <th>0</th>\n",
       "      <td>Finland</td>\n",
       "      <td>Western Europe</td>\n",
       "      <td>7.842</td>\n",
       "      <td>0.032</td>\n",
       "      <td>7.904</td>\n",
       "      <td>7.780</td>\n",
       "      <td>10.775</td>\n",
       "      <td>0.954</td>\n",
       "      <td>72.0</td>\n",
       "      <td>0.949</td>\n",
       "      <td>-0.098</td>\n",
       "      <td>0.186</td>\n",
       "      <td>2.43</td>\n",
       "      <td>1.446</td>\n",
       "      <td>1.106</td>\n",
       "      <td>0.741</td>\n",
       "      <td>0.691</td>\n",
       "      <td>0.124</td>\n",
       "      <td>0.481</td>\n",
       "      <td>3.253</td>\n",
       "    </tr>\n",
       "    <tr>\n",
       "      <th>1</th>\n",
       "      <td>Denmark</td>\n",
       "      <td>Western Europe</td>\n",
       "      <td>7.620</td>\n",
       "      <td>0.035</td>\n",
       "      <td>7.687</td>\n",
       "      <td>7.552</td>\n",
       "      <td>10.933</td>\n",
       "      <td>0.954</td>\n",
       "      <td>72.7</td>\n",
       "      <td>0.946</td>\n",
       "      <td>0.030</td>\n",
       "      <td>0.179</td>\n",
       "      <td>2.43</td>\n",
       "      <td>1.502</td>\n",
       "      <td>1.108</td>\n",
       "      <td>0.763</td>\n",
       "      <td>0.686</td>\n",
       "      <td>0.208</td>\n",
       "      <td>0.485</td>\n",
       "      <td>2.868</td>\n",
       "    </tr>\n",
       "    <tr>\n",
       "      <th>2</th>\n",
       "      <td>Switzerland</td>\n",
       "      <td>Western Europe</td>\n",
       "      <td>7.571</td>\n",
       "      <td>0.036</td>\n",
       "      <td>7.643</td>\n",
       "      <td>7.500</td>\n",
       "      <td>11.117</td>\n",
       "      <td>0.942</td>\n",
       "      <td>74.4</td>\n",
       "      <td>0.919</td>\n",
       "      <td>0.025</td>\n",
       "      <td>0.292</td>\n",
       "      <td>2.43</td>\n",
       "      <td>1.566</td>\n",
       "      <td>1.079</td>\n",
       "      <td>0.816</td>\n",
       "      <td>0.653</td>\n",
       "      <td>0.204</td>\n",
       "      <td>0.413</td>\n",
       "      <td>2.839</td>\n",
       "    </tr>\n",
       "    <tr>\n",
       "      <th>3</th>\n",
       "      <td>Iceland</td>\n",
       "      <td>Western Europe</td>\n",
       "      <td>7.554</td>\n",
       "      <td>0.059</td>\n",
       "      <td>7.670</td>\n",
       "      <td>7.438</td>\n",
       "      <td>10.878</td>\n",
       "      <td>0.983</td>\n",
       "      <td>73.0</td>\n",
       "      <td>0.955</td>\n",
       "      <td>0.160</td>\n",
       "      <td>0.673</td>\n",
       "      <td>2.43</td>\n",
       "      <td>1.482</td>\n",
       "      <td>1.172</td>\n",
       "      <td>0.772</td>\n",
       "      <td>0.698</td>\n",
       "      <td>0.293</td>\n",
       "      <td>0.170</td>\n",
       "      <td>2.967</td>\n",
       "    </tr>\n",
       "    <tr>\n",
       "      <th>4</th>\n",
       "      <td>Netherlands</td>\n",
       "      <td>Western Europe</td>\n",
       "      <td>7.464</td>\n",
       "      <td>0.027</td>\n",
       "      <td>7.518</td>\n",
       "      <td>7.410</td>\n",
       "      <td>10.932</td>\n",
       "      <td>0.942</td>\n",
       "      <td>72.4</td>\n",
       "      <td>0.913</td>\n",
       "      <td>0.175</td>\n",
       "      <td>0.338</td>\n",
       "      <td>2.43</td>\n",
       "      <td>1.501</td>\n",
       "      <td>1.079</td>\n",
       "      <td>0.753</td>\n",
       "      <td>0.647</td>\n",
       "      <td>0.302</td>\n",
       "      <td>0.384</td>\n",
       "      <td>2.798</td>\n",
       "    </tr>\n",
       "  </tbody>\n",
       "</table>\n",
       "</div>"
      ],
      "text/plain": [
       "  Country name Regional indicator  Ladder score  \\\n",
       "0      Finland     Western Europe         7.842   \n",
       "1      Denmark     Western Europe         7.620   \n",
       "2  Switzerland     Western Europe         7.571   \n",
       "3      Iceland     Western Europe         7.554   \n",
       "4  Netherlands     Western Europe         7.464   \n",
       "\n",
       "   Standard error of ladder score  upperwhisker  lowerwhisker  \\\n",
       "0                           0.032         7.904         7.780   \n",
       "1                           0.035         7.687         7.552   \n",
       "2                           0.036         7.643         7.500   \n",
       "3                           0.059         7.670         7.438   \n",
       "4                           0.027         7.518         7.410   \n",
       "\n",
       "   Logged GDP per capita  Social support  Healthy life expectancy  \\\n",
       "0                 10.775           0.954                     72.0   \n",
       "1                 10.933           0.954                     72.7   \n",
       "2                 11.117           0.942                     74.4   \n",
       "3                 10.878           0.983                     73.0   \n",
       "4                 10.932           0.942                     72.4   \n",
       "\n",
       "   Freedom to make life choices  Generosity  Perceptions of corruption  \\\n",
       "0                         0.949      -0.098                      0.186   \n",
       "1                         0.946       0.030                      0.179   \n",
       "2                         0.919       0.025                      0.292   \n",
       "3                         0.955       0.160                      0.673   \n",
       "4                         0.913       0.175                      0.338   \n",
       "\n",
       "   Ladder score in Dystopia  Explained by: Log GDP per capita  \\\n",
       "0                      2.43                             1.446   \n",
       "1                      2.43                             1.502   \n",
       "2                      2.43                             1.566   \n",
       "3                      2.43                             1.482   \n",
       "4                      2.43                             1.501   \n",
       "\n",
       "   Explained by: Social support  Explained by: Healthy life expectancy  \\\n",
       "0                         1.106                                  0.741   \n",
       "1                         1.108                                  0.763   \n",
       "2                         1.079                                  0.816   \n",
       "3                         1.172                                  0.772   \n",
       "4                         1.079                                  0.753   \n",
       "\n",
       "   Explained by: Freedom to make life choices  Explained by: Generosity  \\\n",
       "0                                       0.691                     0.124   \n",
       "1                                       0.686                     0.208   \n",
       "2                                       0.653                     0.204   \n",
       "3                                       0.698                     0.293   \n",
       "4                                       0.647                     0.302   \n",
       "\n",
       "   Explained by: Perceptions of corruption  Dystopia + residual  \n",
       "0                                    0.481                3.253  \n",
       "1                                    0.485                2.868  \n",
       "2                                    0.413                2.839  \n",
       "3                                    0.170                2.967  \n",
       "4                                    0.384                2.798  "
      ]
     },
     "execution_count": 3,
     "metadata": {},
     "output_type": "execute_result"
    }
   ],
   "source": [
    "df.head()"
   ]
  },
  {
   "cell_type": "code",
   "execution_count": 8,
   "id": "566b1a1c-4ed5-4af4-a821-33cc4b190dbf",
   "metadata": {},
   "outputs": [],
   "source": [
    "fig = px.scatter(df, x=\"Logged GDP per capita\", y=\"Healthy life expectancy\", size=\"Social support\", color=\"Regional indicator\")"
   ]
  },
  {
   "cell_type": "code",
   "execution_count": 9,
   "id": "49b3abdc-75bb-4d22-933d-cfe65ae9e097",
   "metadata": {},
   "outputs": [
    {
     "data": {
      "application/vnd.plotly.v1+json": {
       "config": {
        "plotlyServerURL": "https://plot.ly"
       },
       "data": [
        {
         "hovertemplate": "Regional indicator=Western Europe<br>Logged GDP per capita=%{x}<br>Healthy life expectancy=%{y}<br>Social support=%{marker.size}<extra></extra>",
         "legendgroup": "Western Europe",
         "marker": {
          "color": "#636efa",
          "size": [
           0.954,
           0.954,
           0.942,
           0.983,
           0.942,
           0.954,
           0.934,
           0.908,
           0.934,
           0.903,
           0.947,
           0.934,
           0.906,
           0.942,
           0.931,
           0.932,
           0.88,
           0.802,
           0.879,
           0.823,
           0.82
          ],
          "sizemode": "area",
          "sizeref": 0.0024575,
          "symbol": "circle"
         },
         "mode": "markers",
         "name": "Western Europe",
         "orientation": "v",
         "showlegend": true,
         "type": "scatter",
         "x": [
          10.775,
          10.933,
          11.117,
          10.878,
          10.932,
          11.053,
          10.867,
          11.647,
          10.906,
          10.873,
          11.342,
          10.707,
          10.823,
          10.704,
          10.674,
          10.571,
          10.623,
          10.576,
          10.421,
          10.279,
          10.576
         ],
         "xaxis": "x",
         "y": [
          72,
          72.7,
          74.4,
          73,
          72.4,
          73.3,
          72.7,
          72.6,
          73.3,
          72.5,
          72.4,
          72.5,
          72.199,
          74,
          72.2,
          74.7,
          73.8,
          73.898,
          72.6,
          72.6,
          73.898
         ],
         "yaxis": "y"
        },
        {
         "hovertemplate": "Regional indicator=North America and ANZ<br>Logged GDP per capita=%{x}<br>Healthy life expectancy=%{y}<br>Social support=%{marker.size}<extra></extra>",
         "legendgroup": "North America and ANZ",
         "marker": {
          "color": "#EF553B",
          "size": [
           0.948,
           0.94,
           0.926,
           0.92
          ],
          "sizemode": "area",
          "sizeref": 0.0024575,
          "symbol": "circle"
         },
         "mode": "markers",
         "name": "North America and ANZ",
         "orientation": "v",
         "showlegend": true,
         "type": "scatter",
         "x": [
          10.643,
          10.796,
          10.776,
          11.023
         ],
         "xaxis": "x",
         "y": [
          73.4,
          73.9,
          73.8,
          68.2
         ],
         "yaxis": "y"
        },
        {
         "hovertemplate": "Regional indicator=Middle East and North Africa<br>Logged GDP per capita=%{x}<br>Healthy life expectancy=%{y}<br>Social support=%{marker.size}<extra></extra>",
         "legendgroup": "Middle East and North Africa",
         "marker": {
          "color": "#00cc96",
          "size": [
           0.939,
           0.862,
           0.844,
           0.891,
           0.843,
           0.827,
           0.822,
           0.56,
           0.802,
           0.746,
           0.71,
           0.691,
           0.848,
           0.826,
           0.767,
           0.75,
           0.832
          ],
          "sizemode": "area",
          "sizeref": 0.0024575,
          "symbol": "circle"
         },
         "mode": "markers",
         "name": "Middle East and North Africa",
         "orientation": "v",
         "showlegend": true,
         "type": "scatter",
         "x": [
          10.575,
          10.669,
          11.085,
          10.743,
          10.817,
          9.622,
          10.24,
          8.903,
          9.342,
          9.24,
          9.584,
          9.266,
          9.626,
          8.485,
          9.182,
          9.367,
          7.578
         ],
         "xaxis": "x",
         "y": [
          73.503,
          69.495,
          67.333,
          66.603,
          66.9,
          62.3,
          67.199,
          66.208,
          66.005,
          60.583,
          66.3,
          67.201,
          67.355,
          62.25,
          67,
          61.998,
          57.122
         ],
         "yaxis": "y"
        },
        {
         "hovertemplate": "Regional indicator=Latin America and Caribbean<br>Logged GDP per capita=%{x}<br>Healthy life expectancy=%{y}<br>Social support=%{marker.size}<extra></extra>",
         "legendgroup": "Latin America and Caribbean",
         "marker": {
          "color": "#ab63fa",
          "size": [
           0.891,
           0.813,
           0.925,
           0.882,
           0.831,
           0.877,
           0.896,
           0.882,
           0.762,
           0.847,
           0.864,
           0.898,
           0.812,
           0.832,
           0.821,
           0.81,
           0.893,
           0.853,
           0.861,
           0.54
          ],
          "sizemode": "area",
          "sizeref": 0.0024575,
          "symbol": "circle"
         },
         "mode": "markers",
         "name": "Latin America and Caribbean",
         "orientation": "v",
         "showlegend": true,
         "type": "scatter",
         "x": [
          9.88,
          9.053,
          9.966,
          9.577,
          9.859,
          9.186,
          10.35,
          10.071,
          9.054,
          9.557,
          8.62,
          9.962,
          8.648,
          9.458,
          9.313,
          9.046,
          9.448,
          9.802,
          9.073,
          7.477
         ],
         "xaxis": "x",
         "y": [
          71.4,
          64.958,
          69.1,
          66.601,
          68.597,
          67.5,
          69.652,
          70,
          66.402,
          68.001,
          67.657,
          69,
          67.3,
          68.25,
          68.8,
          63.901,
          65.9,
          66.102,
          66.7,
          55.7
         ],
         "yaxis": "y"
        },
        {
         "hovertemplate": "Regional indicator=Central and Eastern Europe<br>Logged GDP per capita=%{x}<br>Healthy life expectancy=%{y}<br>Social support=%{marker.size}<extra></extra>",
         "legendgroup": "Central and Eastern Europe",
         "marker": {
          "color": "#FFA15A",
          "size": [
           0.947,
           0.948,
           0.821,
           0.936,
           0.935,
           0.941,
           0.898,
           0.832,
           0.873,
           0.927,
           0.943,
           0.924,
           0.87,
           0.858,
           0.931,
           0.697,
           0.805
          ],
          "sizemode": "area",
          "sizeref": 0.0024575,
          "symbol": "circle"
         },
         "mode": "markers",
         "name": "Central and Eastern Europe",
         "orientation": "v",
         "showlegend": true,
         "type": "scatter",
         "x": [
          10.556,
          10.529,
          9.318,
          10.369,
          10.499,
          10.481,
          10.382,
          10.284,
          9.787,
          10.315,
          10.358,
          10.217,
          9.59,
          9.94,
          10.016,
          9.52,
          9.693
         ],
         "xaxis": "x",
         "y": [
          70.807,
          71.4,
          63.813,
          69.201,
          67.906,
          68.8,
          69.702,
          67.355,
          68.6,
          67.1,
          68,
          70.799,
          68.098,
          68.699,
          67,
          68.999,
          65.474
         ],
         "yaxis": "y"
        },
        {
         "hovertemplate": "Regional indicator=East Asia<br>Logged GDP per capita=%{x}<br>Healthy life expectancy=%{y}<br>Social support=%{marker.size}<extra></extra>",
         "legendgroup": "East Asia",
         "marker": {
          "color": "#19d3f3",
          "size": [
           0.898,
           0.884,
           0.799,
           0.935,
           0.836,
           0.811
          ],
          "sizemode": "area",
          "sizeref": 0.0024575,
          "symbol": "circle"
         },
         "mode": "markers",
         "name": "East Asia",
         "orientation": "v",
         "showlegend": true,
         "type": "scatter",
         "x": [
          10.871,
          10.611,
          10.651,
          9.4,
          11,
          9.673
         ],
         "xaxis": "x",
         "y": [
          69.6,
          75.1,
          73.9,
          62.5,
          76.82,
          69.593
         ],
         "yaxis": "y"
        },
        {
         "hovertemplate": "Regional indicator=Southeast Asia<br>Logged GDP per capita=%{x}<br>Healthy life expectancy=%{y}<br>Social support=%{marker.size}<extra></extra>",
         "legendgroup": "Southeast Asia",
         "marker": {
          "color": "#FF6692",
          "size": [
           0.915,
           0.888,
           0.83,
           0.85,
           0.817,
           0.811,
           0.728,
           0.765,
           0.779
          ],
          "sizemode": "area",
          "sizeref": 0.0024575,
          "symbol": "circle"
         },
         "mode": "markers",
         "name": "Southeast Asia",
         "orientation": "v",
         "showlegend": true,
         "type": "scatter",
         "x": [
          11.488,
          9.805,
          9.076,
          8.973,
          10.238,
          9.365,
          8.947,
          8.36,
          8.541
         ],
         "xaxis": "x",
         "y": [
          76.953,
          67.401,
          62,
          68.034,
          67.102,
          62.236,
          58.968,
          62,
          59.302
         ],
         "yaxis": "y"
        },
        {
         "hovertemplate": "Regional indicator=Commonwealth of Independent States<br>Logged GDP per capita=%{x}<br>Healthy life expectancy=%{y}<br>Social support=%{marker.size}<extra></extra>",
         "legendgroup": "Commonwealth of Independent States",
         "marker": {
          "color": "#B6E880",
          "size": [
           0.918,
           0.952,
           0.857,
           0.893,
           0.91,
           0.903,
           0.86,
           0.799,
           0.836,
           0.983,
           0.671,
           0.888
          ],
          "sizemode": "area",
          "sizeref": 0.0024575,
          "symbol": "circle"
         },
         "mode": "markers",
         "name": "Commonwealth of Independent States",
         "orientation": "v",
         "showlegend": true,
         "type": "scatter",
         "x": [
          8.836,
          10.155,
          9.454,
          8.538,
          9.853,
          10.189,
          8.091,
          9.487,
          9.569,
          9.629,
          9.585,
          9.436
         ],
         "xaxis": "x",
         "y": [
          65.255,
          65.2,
          65.699,
          64.401,
          66.253,
          64.703,
          64.281,
          67.055,
          65.656,
          62.409,
          64.3,
          64.902
         ],
         "yaxis": "y"
        },
        {
         "hovertemplate": "Regional indicator=Sub-Saharan Africa<br>Logged GDP per capita=%{x}<br>Healthy life expectancy=%{y}<br>Social support=%{marker.size}<extra></extra>",
         "legendgroup": "Sub-Saharan Africa",
         "marker": {
          "color": "#FF97FF",
          "size": [
           0.905,
           0.636,
           0.644,
           0.71,
           0.71,
           0.727,
           0.641,
           0.69,
           0.489,
           0.639,
           0.86,
           0.776,
           0.672,
           0.744,
           0.74,
           0.724,
           0.781,
           0.72,
           0.688,
           0.818,
           0.619,
           0.77,
           0.626,
           0.764,
           0.795,
           0.686,
           0.569,
           0.708,
           0.63,
           0.49,
           0.702,
           0.537,
           0.787,
           0.784,
           0.552,
           0.75
          ],
          "sizemode": "area",
          "sizeref": 0.0024575,
          "symbol": "circle"
         },
         "mode": "markers",
         "name": "Sub-Saharan Africa",
         "orientation": "v",
         "showlegend": true,
         "type": "scatter",
         "x": [
          10.008,
          8.117,
          8.551,
          8.189,
          8.118,
          8.58,
          7.098,
          7.686,
          8.087,
          7.838,
          9.403,
          9.603,
          7.678,
          7.158,
          8.533,
          7.744,
          7.677,
          7.288,
          8.361,
          9.161,
          7.364,
          9.065,
          8.031,
          7.694,
          8.542,
          7.396,
          7.362,
          8.145,
          7.434,
          6.635,
          7.876,
          6.958,
          7.926,
          9.782,
          7.676,
          7.943
         ],
         "xaxis": "x",
         "y": [
          66.701,
          58.221,
          50.114,
          53.515,
          59.802,
          57.586,
          53.78,
          55.16,
          54.713,
          55.008,
          56.904,
          59.962,
          54.151,
          54.706,
          50.102,
          51.969,
          56.101,
          56.498,
          60.704,
          56.799,
          48.478,
          50.833,
          57.349,
          59,
          57.161,
          59.305,
          54.914,
          55.809,
          51.651,
          53.4,
          57.999,
          57.948,
          48.7,
          59.269,
          61.4,
          56.201
         ],
         "yaxis": "y"
        },
        {
         "hovertemplate": "Regional indicator=South Asia<br>Logged GDP per capita=%{x}<br>Healthy life expectancy=%{y}<br>Social support=%{marker.size}<extra></extra>",
         "legendgroup": "South Asia",
         "marker": {
          "color": "#FECB52",
          "size": [
           0.774,
           0.913,
           0.693,
           0.651,
           0.827,
           0.603,
           0.463
          ],
          "sizemode": "area",
          "sizeref": 0.0024575,
          "symbol": "circle"
         },
         "mode": "markers",
         "name": "South Asia",
         "orientation": "v",
         "showlegend": true,
         "type": "scatter",
         "x": [
          8.12,
          9.826,
          8.454,
          8.458,
          9.47,
          8.755,
          7.695
         ],
         "xaxis": "x",
         "y": [
          64.233,
          70.6,
          64.8,
          58.709,
          67.299,
          60.633,
          52.493
         ],
         "yaxis": "y"
        }
       ],
       "layout": {
        "autosize": true,
        "legend": {
         "itemsizing": "constant",
         "title": {
          "text": "Regional indicator"
         },
         "tracegroupgap": 0
        },
        "margin": {
         "t": 60
        },
        "template": {
         "data": {
          "bar": [
           {
            "error_x": {
             "color": "#2a3f5f"
            },
            "error_y": {
             "color": "#2a3f5f"
            },
            "marker": {
             "line": {
              "color": "#E5ECF6",
              "width": 0.5
             },
             "pattern": {
              "fillmode": "overlay",
              "size": 10,
              "solidity": 0.2
             }
            },
            "type": "bar"
           }
          ],
          "barpolar": [
           {
            "marker": {
             "line": {
              "color": "#E5ECF6",
              "width": 0.5
             },
             "pattern": {
              "fillmode": "overlay",
              "size": 10,
              "solidity": 0.2
             }
            },
            "type": "barpolar"
           }
          ],
          "carpet": [
           {
            "aaxis": {
             "endlinecolor": "#2a3f5f",
             "gridcolor": "white",
             "linecolor": "white",
             "minorgridcolor": "white",
             "startlinecolor": "#2a3f5f"
            },
            "baxis": {
             "endlinecolor": "#2a3f5f",
             "gridcolor": "white",
             "linecolor": "white",
             "minorgridcolor": "white",
             "startlinecolor": "#2a3f5f"
            },
            "type": "carpet"
           }
          ],
          "choropleth": [
           {
            "colorbar": {
             "outlinewidth": 0,
             "ticks": ""
            },
            "type": "choropleth"
           }
          ],
          "contour": [
           {
            "colorbar": {
             "outlinewidth": 0,
             "ticks": ""
            },
            "colorscale": [
             [
              0,
              "#0d0887"
             ],
             [
              0.1111111111111111,
              "#46039f"
             ],
             [
              0.2222222222222222,
              "#7201a8"
             ],
             [
              0.3333333333333333,
              "#9c179e"
             ],
             [
              0.4444444444444444,
              "#bd3786"
             ],
             [
              0.5555555555555556,
              "#d8576b"
             ],
             [
              0.6666666666666666,
              "#ed7953"
             ],
             [
              0.7777777777777778,
              "#fb9f3a"
             ],
             [
              0.8888888888888888,
              "#fdca26"
             ],
             [
              1,
              "#f0f921"
             ]
            ],
            "type": "contour"
           }
          ],
          "contourcarpet": [
           {
            "colorbar": {
             "outlinewidth": 0,
             "ticks": ""
            },
            "type": "contourcarpet"
           }
          ],
          "heatmap": [
           {
            "colorbar": {
             "outlinewidth": 0,
             "ticks": ""
            },
            "colorscale": [
             [
              0,
              "#0d0887"
             ],
             [
              0.1111111111111111,
              "#46039f"
             ],
             [
              0.2222222222222222,
              "#7201a8"
             ],
             [
              0.3333333333333333,
              "#9c179e"
             ],
             [
              0.4444444444444444,
              "#bd3786"
             ],
             [
              0.5555555555555556,
              "#d8576b"
             ],
             [
              0.6666666666666666,
              "#ed7953"
             ],
             [
              0.7777777777777778,
              "#fb9f3a"
             ],
             [
              0.8888888888888888,
              "#fdca26"
             ],
             [
              1,
              "#f0f921"
             ]
            ],
            "type": "heatmap"
           }
          ],
          "heatmapgl": [
           {
            "colorbar": {
             "outlinewidth": 0,
             "ticks": ""
            },
            "colorscale": [
             [
              0,
              "#0d0887"
             ],
             [
              0.1111111111111111,
              "#46039f"
             ],
             [
              0.2222222222222222,
              "#7201a8"
             ],
             [
              0.3333333333333333,
              "#9c179e"
             ],
             [
              0.4444444444444444,
              "#bd3786"
             ],
             [
              0.5555555555555556,
              "#d8576b"
             ],
             [
              0.6666666666666666,
              "#ed7953"
             ],
             [
              0.7777777777777778,
              "#fb9f3a"
             ],
             [
              0.8888888888888888,
              "#fdca26"
             ],
             [
              1,
              "#f0f921"
             ]
            ],
            "type": "heatmapgl"
           }
          ],
          "histogram": [
           {
            "marker": {
             "pattern": {
              "fillmode": "overlay",
              "size": 10,
              "solidity": 0.2
             }
            },
            "type": "histogram"
           }
          ],
          "histogram2d": [
           {
            "colorbar": {
             "outlinewidth": 0,
             "ticks": ""
            },
            "colorscale": [
             [
              0,
              "#0d0887"
             ],
             [
              0.1111111111111111,
              "#46039f"
             ],
             [
              0.2222222222222222,
              "#7201a8"
             ],
             [
              0.3333333333333333,
              "#9c179e"
             ],
             [
              0.4444444444444444,
              "#bd3786"
             ],
             [
              0.5555555555555556,
              "#d8576b"
             ],
             [
              0.6666666666666666,
              "#ed7953"
             ],
             [
              0.7777777777777778,
              "#fb9f3a"
             ],
             [
              0.8888888888888888,
              "#fdca26"
             ],
             [
              1,
              "#f0f921"
             ]
            ],
            "type": "histogram2d"
           }
          ],
          "histogram2dcontour": [
           {
            "colorbar": {
             "outlinewidth": 0,
             "ticks": ""
            },
            "colorscale": [
             [
              0,
              "#0d0887"
             ],
             [
              0.1111111111111111,
              "#46039f"
             ],
             [
              0.2222222222222222,
              "#7201a8"
             ],
             [
              0.3333333333333333,
              "#9c179e"
             ],
             [
              0.4444444444444444,
              "#bd3786"
             ],
             [
              0.5555555555555556,
              "#d8576b"
             ],
             [
              0.6666666666666666,
              "#ed7953"
             ],
             [
              0.7777777777777778,
              "#fb9f3a"
             ],
             [
              0.8888888888888888,
              "#fdca26"
             ],
             [
              1,
              "#f0f921"
             ]
            ],
            "type": "histogram2dcontour"
           }
          ],
          "mesh3d": [
           {
            "colorbar": {
             "outlinewidth": 0,
             "ticks": ""
            },
            "type": "mesh3d"
           }
          ],
          "parcoords": [
           {
            "line": {
             "colorbar": {
              "outlinewidth": 0,
              "ticks": ""
             }
            },
            "type": "parcoords"
           }
          ],
          "pie": [
           {
            "automargin": true,
            "type": "pie"
           }
          ],
          "scatter": [
           {
            "fillpattern": {
             "fillmode": "overlay",
             "size": 10,
             "solidity": 0.2
            },
            "type": "scatter"
           }
          ],
          "scatter3d": [
           {
            "line": {
             "colorbar": {
              "outlinewidth": 0,
              "ticks": ""
             }
            },
            "marker": {
             "colorbar": {
              "outlinewidth": 0,
              "ticks": ""
             }
            },
            "type": "scatter3d"
           }
          ],
          "scattercarpet": [
           {
            "marker": {
             "colorbar": {
              "outlinewidth": 0,
              "ticks": ""
             }
            },
            "type": "scattercarpet"
           }
          ],
          "scattergeo": [
           {
            "marker": {
             "colorbar": {
              "outlinewidth": 0,
              "ticks": ""
             }
            },
            "type": "scattergeo"
           }
          ],
          "scattergl": [
           {
            "marker": {
             "colorbar": {
              "outlinewidth": 0,
              "ticks": ""
             }
            },
            "type": "scattergl"
           }
          ],
          "scattermapbox": [
           {
            "marker": {
             "colorbar": {
              "outlinewidth": 0,
              "ticks": ""
             }
            },
            "type": "scattermapbox"
           }
          ],
          "scatterpolar": [
           {
            "marker": {
             "colorbar": {
              "outlinewidth": 0,
              "ticks": ""
             }
            },
            "type": "scatterpolar"
           }
          ],
          "scatterpolargl": [
           {
            "marker": {
             "colorbar": {
              "outlinewidth": 0,
              "ticks": ""
             }
            },
            "type": "scatterpolargl"
           }
          ],
          "scatterternary": [
           {
            "marker": {
             "colorbar": {
              "outlinewidth": 0,
              "ticks": ""
             }
            },
            "type": "scatterternary"
           }
          ],
          "surface": [
           {
            "colorbar": {
             "outlinewidth": 0,
             "ticks": ""
            },
            "colorscale": [
             [
              0,
              "#0d0887"
             ],
             [
              0.1111111111111111,
              "#46039f"
             ],
             [
              0.2222222222222222,
              "#7201a8"
             ],
             [
              0.3333333333333333,
              "#9c179e"
             ],
             [
              0.4444444444444444,
              "#bd3786"
             ],
             [
              0.5555555555555556,
              "#d8576b"
             ],
             [
              0.6666666666666666,
              "#ed7953"
             ],
             [
              0.7777777777777778,
              "#fb9f3a"
             ],
             [
              0.8888888888888888,
              "#fdca26"
             ],
             [
              1,
              "#f0f921"
             ]
            ],
            "type": "surface"
           }
          ],
          "table": [
           {
            "cells": {
             "fill": {
              "color": "#EBF0F8"
             },
             "line": {
              "color": "white"
             }
            },
            "header": {
             "fill": {
              "color": "#C8D4E3"
             },
             "line": {
              "color": "white"
             }
            },
            "type": "table"
           }
          ]
         },
         "layout": {
          "annotationdefaults": {
           "arrowcolor": "#2a3f5f",
           "arrowhead": 0,
           "arrowwidth": 1
          },
          "autotypenumbers": "strict",
          "coloraxis": {
           "colorbar": {
            "outlinewidth": 0,
            "ticks": ""
           }
          },
          "colorscale": {
           "diverging": [
            [
             0,
             "#8e0152"
            ],
            [
             0.1,
             "#c51b7d"
            ],
            [
             0.2,
             "#de77ae"
            ],
            [
             0.3,
             "#f1b6da"
            ],
            [
             0.4,
             "#fde0ef"
            ],
            [
             0.5,
             "#f7f7f7"
            ],
            [
             0.6,
             "#e6f5d0"
            ],
            [
             0.7,
             "#b8e186"
            ],
            [
             0.8,
             "#7fbc41"
            ],
            [
             0.9,
             "#4d9221"
            ],
            [
             1,
             "#276419"
            ]
           ],
           "sequential": [
            [
             0,
             "#0d0887"
            ],
            [
             0.1111111111111111,
             "#46039f"
            ],
            [
             0.2222222222222222,
             "#7201a8"
            ],
            [
             0.3333333333333333,
             "#9c179e"
            ],
            [
             0.4444444444444444,
             "#bd3786"
            ],
            [
             0.5555555555555556,
             "#d8576b"
            ],
            [
             0.6666666666666666,
             "#ed7953"
            ],
            [
             0.7777777777777778,
             "#fb9f3a"
            ],
            [
             0.8888888888888888,
             "#fdca26"
            ],
            [
             1,
             "#f0f921"
            ]
           ],
           "sequentialminus": [
            [
             0,
             "#0d0887"
            ],
            [
             0.1111111111111111,
             "#46039f"
            ],
            [
             0.2222222222222222,
             "#7201a8"
            ],
            [
             0.3333333333333333,
             "#9c179e"
            ],
            [
             0.4444444444444444,
             "#bd3786"
            ],
            [
             0.5555555555555556,
             "#d8576b"
            ],
            [
             0.6666666666666666,
             "#ed7953"
            ],
            [
             0.7777777777777778,
             "#fb9f3a"
            ],
            [
             0.8888888888888888,
             "#fdca26"
            ],
            [
             1,
             "#f0f921"
            ]
           ]
          },
          "colorway": [
           "#636efa",
           "#EF553B",
           "#00cc96",
           "#ab63fa",
           "#FFA15A",
           "#19d3f3",
           "#FF6692",
           "#B6E880",
           "#FF97FF",
           "#FECB52"
          ],
          "font": {
           "color": "#2a3f5f"
          },
          "geo": {
           "bgcolor": "white",
           "lakecolor": "white",
           "landcolor": "#E5ECF6",
           "showlakes": true,
           "showland": true,
           "subunitcolor": "white"
          },
          "hoverlabel": {
           "align": "left"
          },
          "hovermode": "closest",
          "mapbox": {
           "style": "light"
          },
          "paper_bgcolor": "white",
          "plot_bgcolor": "#E5ECF6",
          "polar": {
           "angularaxis": {
            "gridcolor": "white",
            "linecolor": "white",
            "ticks": ""
           },
           "bgcolor": "#E5ECF6",
           "radialaxis": {
            "gridcolor": "white",
            "linecolor": "white",
            "ticks": ""
           }
          },
          "scene": {
           "xaxis": {
            "backgroundcolor": "#E5ECF6",
            "gridcolor": "white",
            "gridwidth": 2,
            "linecolor": "white",
            "showbackground": true,
            "ticks": "",
            "zerolinecolor": "white"
           },
           "yaxis": {
            "backgroundcolor": "#E5ECF6",
            "gridcolor": "white",
            "gridwidth": 2,
            "linecolor": "white",
            "showbackground": true,
            "ticks": "",
            "zerolinecolor": "white"
           },
           "zaxis": {
            "backgroundcolor": "#E5ECF6",
            "gridcolor": "white",
            "gridwidth": 2,
            "linecolor": "white",
            "showbackground": true,
            "ticks": "",
            "zerolinecolor": "white"
           }
          },
          "shapedefaults": {
           "line": {
            "color": "#2a3f5f"
           }
          },
          "ternary": {
           "aaxis": {
            "gridcolor": "white",
            "linecolor": "white",
            "ticks": ""
           },
           "baxis": {
            "gridcolor": "white",
            "linecolor": "white",
            "ticks": ""
           },
           "bgcolor": "#E5ECF6",
           "caxis": {
            "gridcolor": "white",
            "linecolor": "white",
            "ticks": ""
           }
          },
          "title": {
           "x": 0.05
          },
          "xaxis": {
           "automargin": true,
           "gridcolor": "white",
           "linecolor": "white",
           "ticks": "",
           "title": {
            "standoff": 15
           },
           "zerolinecolor": "white",
           "zerolinewidth": 2
          },
          "yaxis": {
           "automargin": true,
           "gridcolor": "white",
           "linecolor": "white",
           "ticks": "",
           "title": {
            "standoff": 15
           },
           "zerolinecolor": "white",
           "zerolinewidth": 2
          }
         }
        },
        "xaxis": {
         "anchor": "y",
         "autorange": true,
         "domain": [
          0,
          1
         ],
         "range": [
          6.12652780334711,
          12.228937459575718
         ],
         "title": {
          "text": "Logged GDP per capita"
         },
         "type": "linear"
        },
        "yaxis": {
         "anchor": "x",
         "autorange": true,
         "domain": [
          0,
          1
         ],
         "range": [
          44.485868517624155,
          81.35266778008094
         ],
         "title": {
          "text": "Healthy life expectancy"
         },
         "type": "linear"
        }
       }
      },
      "image/png": "[encoded data removed]",
      "text/html": [
       "<div>                            <div id=\"cd1dea3c-2cd3-4ca0-8405-48f96a4acb09\" class=\"plotly-graph-div\" style=\"height:525px; width:100%;\"></div>            <script type=\"text/javascript\">                require([\"plotly\"], function(Plotly) {                    window.PLOTLYENV=window.PLOTLYENV || {};                                    if (document.getElementById(\"cd1dea3c-2cd3-4ca0-8405-48f96a4acb09\")) {                    Plotly.newPlot(                        \"cd1dea3c-2cd3-4ca0-8405-48f96a4acb09\",                        [{\"hovertemplate\":\"Regional indicator=Western Europe\\u003cbr\\u003eLogged GDP per capita=%{x}\\u003cbr\\u003eHealthy life expectancy=%{y}\\u003cbr\\u003eSocial support=%{marker.size}\\u003cextra\\u003e\\u003c\\u002fextra\\u003e\",\"legendgroup\":\"Western Europe\",\"marker\":{\"color\":\"#636efa\",\"size\":[0.954,0.954,0.942,0.983,0.942,0.954,0.934,0.908,0.934,0.903,0.947,0.934,0.906,0.942,0.931,0.932,0.88,0.802,0.879,0.823,0.82],\"sizemode\":\"area\",\"sizeref\":0.0024575,\"symbol\":\"circle\"},\"mode\":\"markers\",\"name\":\"Western Europe\",\"orientation\":\"v\",\"showlegend\":true,\"x\":[10.775,10.933,11.117,10.878,10.932,11.053,10.867,11.647,10.906,10.873,11.342,10.707,10.823,10.704,10.674,10.571,10.623,10.576,10.421,10.279,10.576],\"xaxis\":\"x\",\"y\":[72.0,72.7,74.4,73.0,72.4,73.3,72.7,72.6,73.3,72.5,72.4,72.5,72.199,74.0,72.2,74.7,73.8,73.898,72.6,72.6,73.898],\"yaxis\":\"y\",\"type\":\"scatter\"},{\"hovertemplate\":\"Regional indicator=North America and ANZ\\u003cbr\\u003eLogged GDP per capita=%{x}\\u003cbr\\u003eHealthy life expectancy=%{y}\\u003cbr\\u003eSocial support=%{marker.size}\\u003cextra\\u003e\\u003c\\u002fextra\\u003e\",\"legendgroup\":\"North America and ANZ\",\"marker\":{\"color\":\"#EF553B\",\"size\":[0.948,0.94,0.926,0.92],\"sizemode\":\"area\",\"sizeref\":0.0024575,\"symbol\":\"circle\"},\"mode\":\"markers\",\"name\":\"North America and ANZ\",\"orientation\":\"v\",\"showlegend\":true,\"x\":[10.643,10.796,10.776,11.023],\"xaxis\":\"x\",\"y\":[73.4,73.9,73.8,68.2],\"yaxis\":\"y\",\"type\":\"scatter\"},{\"hovertemplate\":\"Regional indicator=Middle East and North Africa\\u003cbr\\u003eLogged GDP per capita=%{x}\\u003cbr\\u003eHealthy life expectancy=%{y}\\u003cbr\\u003eSocial support=%{marker.size}\\u003cextra\\u003e\\u003c\\u002fextra\\u003e\",\"legendgroup\":\"Middle East and North Africa\",\"marker\":{\"color\":\"#00cc96\",\"size\":[0.939,0.862,0.844,0.891,0.843,0.827,0.822,0.56,0.802,0.746,0.71,0.691,0.848,0.826,0.767,0.75,0.832],\"sizemode\":\"area\",\"sizeref\":0.0024575,\"symbol\":\"circle\"},\"mode\":\"markers\",\"name\":\"Middle East and North Africa\",\"orientation\":\"v\",\"showlegend\":true,\"x\":[10.575,10.669,11.085,10.743,10.817,9.622,10.24,8.903,9.342,9.24,9.584,9.266,9.626,8.485,9.182,9.367,7.578],\"xaxis\":\"x\",\"y\":[73.503,69.495,67.333,66.603,66.9,62.3,67.199,66.208,66.005,60.583,66.3,67.201,67.355,62.25,67.0,61.998,57.122],\"yaxis\":\"y\",\"type\":\"scatter\"},{\"hovertemplate\":\"Regional indicator=Latin America and Caribbean\\u003cbr\\u003eLogged GDP per capita=%{x}\\u003cbr\\u003eHealthy life expectancy=%{y}\\u003cbr\\u003eSocial support=%{marker.size}\\u003cextra\\u003e\\u003c\\u002fextra\\u003e\",\"legendgroup\":\"Latin America and Caribbean\",\"marker\":{\"color\":\"#ab63fa\",\"size\":[0.891,0.813,0.925,0.882,0.831,0.877,0.896,0.882,0.762,0.847,0.864,0.898,0.812,0.832,0.821,0.81,0.893,0.853,0.861,0.54],\"sizemode\":\"area\",\"sizeref\":0.0024575,\"symbol\":\"circle\"},\"mode\":\"markers\",\"name\":\"Latin America and Caribbean\",\"orientation\":\"v\",\"showlegend\":true,\"x\":[9.88,9.053,9.966,9.577,9.859,9.186,10.35,10.071,9.054,9.557,8.62,9.962,8.648,9.458,9.313,9.046,9.448,9.802,9.073,7.477],\"xaxis\":\"x\",\"y\":[71.4,64.958,69.1,66.601,68.597,67.5,69.652,70.0,66.402,68.001,67.657,69.0,67.3,68.25,68.8,63.901,65.9,66.102,66.7,55.7],\"yaxis\":\"y\",\"type\":\"scatter\"},{\"hovertemplate\":\"Regional indicator=Central and Eastern Europe\\u003cbr\\u003eLogged GDP per capita=%{x}\\u003cbr\\u003eHealthy life expectancy=%{y}\\u003cbr\\u003eSocial support=%{marker.size}\\u003cextra\\u003e\\u003c\\u002fextra\\u003e\",\"legendgroup\":\"Central and Eastern Europe\",\"marker\":{\"color\":\"#FFA15A\",\"size\":[0.947,0.948,0.821,0.936,0.935,0.941,0.898,0.832,0.873,0.927,0.943,0.924,0.87,0.858,0.931,0.697,0.805],\"sizemode\":\"area\",\"sizeref\":0.0024575,\"symbol\":\"circle\"},\"mode\":\"markers\",\"name\":\"Central and Eastern Europe\",\"orientation\":\"v\",\"showlegend\":true,\"x\":[10.556,10.529,9.318,10.369,10.499,10.481,10.382,10.284,9.787,10.315,10.358,10.217,9.59,9.94,10.016,9.52,9.693],\"xaxis\":\"x\",\"y\":[70.807,71.4,63.813,69.201,67.906,68.8,69.702,67.355,68.6,67.1,68.0,70.799,68.098,68.699,67.0,68.999,65.474],\"yaxis\":\"y\",\"type\":\"scatter\"},{\"hovertemplate\":\"Regional indicator=East Asia\\u003cbr\\u003eLogged GDP per capita=%{x}\\u003cbr\\u003eHealthy life expectancy=%{y}\\u003cbr\\u003eSocial support=%{marker.size}\\u003cextra\\u003e\\u003c\\u002fextra\\u003e\",\"legendgroup\":\"East Asia\",\"marker\":{\"color\":\"#19d3f3\",\"size\":[0.898,0.884,0.799,0.935,0.836,0.811],\"sizemode\":\"area\",\"sizeref\":0.0024575,\"symbol\":\"circle\"},\"mode\":\"markers\",\"name\":\"East Asia\",\"orientation\":\"v\",\"showlegend\":true,\"x\":[10.871,10.611,10.651,9.4,11.0,9.673],\"xaxis\":\"x\",\"y\":[69.6,75.1,73.9,62.5,76.82,69.593],\"yaxis\":\"y\",\"type\":\"scatter\"},{\"hovertemplate\":\"Regional indicator=Southeast Asia\\u003cbr\\u003eLogged GDP per capita=%{x}\\u003cbr\\u003eHealthy life expectancy=%{y}\\u003cbr\\u003eSocial support=%{marker.size}\\u003cextra\\u003e\\u003c\\u002fextra\\u003e\",\"legendgroup\":\"Southeast Asia\",\"marker\":{\"color\":\"#FF6692\",\"size\":[0.915,0.888,0.83,0.85,0.817,0.811,0.728,0.765,0.779],\"sizemode\":\"area\",\"sizeref\":0.0024575,\"symbol\":\"circle\"},\"mode\":\"markers\",\"name\":\"Southeast Asia\",\"orientation\":\"v\",\"showlegend\":true,\"x\":[11.488,9.805,9.076,8.973,10.238,9.365,8.947,8.36,8.541],\"xaxis\":\"x\",\"y\":[76.953,67.401,62.0,68.034,67.102,62.236,58.968,62.0,59.302],\"yaxis\":\"y\",\"type\":\"scatter\"},{\"hovertemplate\":\"Regional indicator=Commonwealth of Independent States\\u003cbr\\u003eLogged GDP per capita=%{x}\\u003cbr\\u003eHealthy life expectancy=%{y}\\u003cbr\\u003eSocial support=%{marker.size}\\u003cextra\\u003e\\u003c\\u002fextra\\u003e\",\"legendgroup\":\"Commonwealth of Independent States\",\"marker\":{\"color\":\"#B6E880\",\"size\":[0.918,0.952,0.857,0.893,0.91,0.903,0.86,0.799,0.836,0.983,0.671,0.888],\"sizemode\":\"area\",\"sizeref\":0.0024575,\"symbol\":\"circle\"},\"mode\":\"markers\",\"name\":\"Commonwealth of Independent States\",\"orientation\":\"v\",\"showlegend\":true,\"x\":[8.836,10.155,9.454,8.538,9.853,10.189,8.091,9.487,9.569,9.629,9.585,9.436],\"xaxis\":\"x\",\"y\":[65.255,65.2,65.699,64.401,66.253,64.703,64.281,67.055,65.656,62.409,64.3,64.902],\"yaxis\":\"y\",\"type\":\"scatter\"},{\"hovertemplate\":\"Regional indicator=Sub-Saharan Africa\\u003cbr\\u003eLogged GDP per capita=%{x}\\u003cbr\\u003eHealthy life expectancy=%{y}\\u003cbr\\u003eSocial support=%{marker.size}\\u003cextra\\u003e\\u003c\\u002fextra\\u003e\",\"legendgroup\":\"Sub-Saharan Africa\",\"marker\":{\"color\":\"#FF97FF\",\"size\":[0.905,0.636,0.644,0.71,0.71,0.727,0.641,0.69,0.489,0.639,0.86,0.776,0.672,0.744,0.74,0.724,0.781,0.72,0.688,0.818,0.619,0.77,0.626,0.764,0.795,0.686,0.569,0.708,0.63,0.49,0.702,0.537,0.787,0.784,0.552,0.75],\"sizemode\":\"area\",\"sizeref\":0.0024575,\"symbol\":\"circle\"},\"mode\":\"markers\",\"name\":\"Sub-Saharan Africa\",\"orientation\":\"v\",\"showlegend\":true,\"x\":[10.008,8.117,8.551,8.189,8.118,8.58,7.098,7.686,8.087,7.838,9.403,9.603,7.678,7.158,8.533,7.744,7.677,7.288,8.361,9.161,7.364,9.065,8.031,7.694,8.542,7.396,7.362,8.145,7.434,6.635,7.876,6.958,7.926,9.782,7.676,7.943],\"xaxis\":\"x\",\"y\":[66.701,58.221,50.114,53.515,59.802,57.586,53.78,55.16,54.713,55.008,56.904,59.962,54.151,54.706,50.102,51.969,56.101,56.498,60.704,56.799,48.478,50.833,57.349,59.0,57.161,59.305,54.914,55.809,51.651,53.4,57.999,57.948,48.7,59.269,61.4,56.201],\"yaxis\":\"y\",\"type\":\"scatter\"},{\"hovertemplate\":\"Regional indicator=South Asia\\u003cbr\\u003eLogged GDP per capita=%{x}\\u003cbr\\u003eHealthy life expectancy=%{y}\\u003cbr\\u003eSocial support=%{marker.size}\\u003cextra\\u003e\\u003c\\u002fextra\\u003e\",\"legendgroup\":\"South Asia\",\"marker\":{\"color\":\"#FECB52\",\"size\":[0.774,0.913,0.693,0.651,0.827,0.603,0.463],\"sizemode\":\"area\",\"sizeref\":0.0024575,\"symbol\":\"circle\"},\"mode\":\"markers\",\"name\":\"South Asia\",\"orientation\":\"v\",\"showlegend\":true,\"x\":[8.12,9.826,8.454,8.458,9.47,8.755,7.695],\"xaxis\":\"x\",\"y\":[64.233,70.6,64.8,58.709,67.299,60.633,52.493],\"yaxis\":\"y\",\"type\":\"scatter\"}],                        {\"template\":{\"data\":{\"histogram2dcontour\":[{\"type\":\"histogram2dcontour\",\"colorbar\":{\"outlinewidth\":0,\"ticks\":\"\"},\"colorscale\":[[0.0,\"#0d0887\"],[0.1111111111111111,\"#46039f\"],[0.2222222222222222,\"#7201a8\"],[0.3333333333333333,\"#9c179e\"],[0.4444444444444444,\"#bd3786\"],[0.5555555555555556,\"#d8576b\"],[0.6666666666666666,\"#ed7953\"],[0.7777777777777778,\"#fb9f3a\"],[0.8888888888888888,\"#fdca26\"],[1.0,\"#f0f921\"]]}],\"choropleth\":[{\"type\":\"choropleth\",\"colorbar\":{\"outlinewidth\":0,\"ticks\":\"\"}}],\"histogram2d\":[{\"type\":\"histogram2d\",\"colorbar\":{\"outlinewidth\":0,\"ticks\":\"\"},\"colorscale\":[[0.0,\"#0d0887\"],[0.1111111111111111,\"#46039f\"],[0.2222222222222222,\"#7201a8\"],[0.3333333333333333,\"#9c179e\"],[0.4444444444444444,\"#bd3786\"],[0.5555555555555556,\"#d8576b\"],[0.6666666666666666,\"#ed7953\"],[0.7777777777777778,\"#fb9f3a\"],[0.8888888888888888,\"#fdca26\"],[1.0,\"#f0f921\"]]}],\"heatmap\":[{\"type\":\"heatmap\",\"colorbar\":{\"outlinewidth\":0,\"ticks\":\"\"},\"colorscale\":[[0.0,\"#0d0887\"],[0.1111111111111111,\"#46039f\"],[0.2222222222222222,\"#7201a8\"],[0.3333333333333333,\"#9c179e\"],[0.4444444444444444,\"#bd3786\"],[0.5555555555555556,\"#d8576b\"],[0.6666666666666666,\"#ed7953\"],[0.7777777777777778,\"#fb9f3a\"],[0.8888888888888888,\"#fdca26\"],[1.0,\"#f0f921\"]]}],\"heatmapgl\":[{\"type\":\"heatmapgl\",\"colorbar\":{\"outlinewidth\":0,\"ticks\":\"\"},\"colorscale\":[[0.0,\"#0d0887\"],[0.1111111111111111,\"#46039f\"],[0.2222222222222222,\"#7201a8\"],[0.3333333333333333,\"#9c179e\"],[0.4444444444444444,\"#bd3786\"],[0.5555555555555556,\"#d8576b\"],[0.6666666666666666,\"#ed7953\"],[0.7777777777777778,\"#fb9f3a\"],[0.8888888888888888,\"#fdca26\"],[1.0,\"#f0f921\"]]}],\"contourcarpet\":[{\"type\":\"contourcarpet\",\"colorbar\":{\"outlinewidth\":0,\"ticks\":\"\"}}],\"contour\":[{\"type\":\"contour\",\"colorbar\":{\"outlinewidth\":0,\"ticks\":\"\"},\"colorscale\":[[0.0,\"#0d0887\"],[0.1111111111111111,\"#46039f\"],[0.2222222222222222,\"#7201a8\"],[0.3333333333333333,\"#9c179e\"],[0.4444444444444444,\"#bd3786\"],[0.5555555555555556,\"#d8576b\"],[0.6666666666666666,\"#ed7953\"],[0.7777777777777778,\"#fb9f3a\"],[0.8888888888888888,\"#fdca26\"],[1.0,\"#f0f921\"]]}],\"surface\":[{\"type\":\"surface\",\"colorbar\":{\"outlinewidth\":0,\"ticks\":\"\"},\"colorscale\":[[0.0,\"#0d0887\"],[0.1111111111111111,\"#46039f\"],[0.2222222222222222,\"#7201a8\"],[0.3333333333333333,\"#9c179e\"],[0.4444444444444444,\"#bd3786\"],[0.5555555555555556,\"#d8576b\"],[0.6666666666666666,\"#ed7953\"],[0.7777777777777778,\"#fb9f3a\"],[0.8888888888888888,\"#fdca26\"],[1.0,\"#f0f921\"]]}],\"mesh3d\":[{\"type\":\"mesh3d\",\"colorbar\":{\"outlinewidth\":0,\"ticks\":\"\"}}],\"scatter\":[{\"fillpattern\":{\"fillmode\":\"overlay\",\"size\":10,\"solidity\":0.2},\"type\":\"scatter\"}],\"parcoords\":[{\"type\":\"parcoords\",\"line\":{\"colorbar\":{\"outlinewidth\":0,\"ticks\":\"\"}}}],\"scatterpolargl\":[{\"type\":\"scatterpolargl\",\"marker\":{\"colorbar\":{\"outlinewidth\":0,\"ticks\":\"\"}}}],\"bar\":[{\"error_x\":{\"color\":\"#2a3f5f\"},\"error_y\":{\"color\":\"#2a3f5f\"},\"marker\":{\"line\":{\"color\":\"#E5ECF6\",\"width\":0.5},\"pattern\":{\"fillmode\":\"overlay\",\"size\":10,\"solidity\":0.2}},\"type\":\"bar\"}],\"scattergeo\":[{\"type\":\"scattergeo\",\"marker\":{\"colorbar\":{\"outlinewidth\":0,\"ticks\":\"\"}}}],\"scatterpolar\":[{\"type\":\"scatterpolar\",\"marker\":{\"colorbar\":{\"outlinewidth\":0,\"ticks\":\"\"}}}],\"histogram\":[{\"marker\":{\"pattern\":{\"fillmode\":\"overlay\",\"size\":10,\"solidity\":0.2}},\"type\":\"histogram\"}],\"scattergl\":[{\"type\":\"scattergl\",\"marker\":{\"colorbar\":{\"outlinewidth\":0,\"ticks\":\"\"}}}],\"scatter3d\":[{\"type\":\"scatter3d\",\"line\":{\"colorbar\":{\"outlinewidth\":0,\"ticks\":\"\"}},\"marker\":{\"colorbar\":{\"outlinewidth\":0,\"ticks\":\"\"}}}],\"scattermapbox\":[{\"type\":\"scattermapbox\",\"marker\":{\"colorbar\":{\"outlinewidth\":0,\"ticks\":\"\"}}}],\"scatterternary\":[{\"type\":\"scatterternary\",\"marker\":{\"colorbar\":{\"outlinewidth\":0,\"ticks\":\"\"}}}],\"scattercarpet\":[{\"type\":\"scattercarpet\",\"marker\":{\"colorbar\":{\"outlinewidth\":0,\"ticks\":\"\"}}}],\"carpet\":[{\"aaxis\":{\"endlinecolor\":\"#2a3f5f\",\"gridcolor\":\"white\",\"linecolor\":\"white\",\"minorgridcolor\":\"white\",\"startlinecolor\":\"#2a3f5f\"},\"baxis\":{\"endlinecolor\":\"#2a3f5f\",\"gridcolor\":\"white\",\"linecolor\":\"white\",\"minorgridcolor\":\"white\",\"startlinecolor\":\"#2a3f5f\"},\"type\":\"carpet\"}],\"table\":[{\"cells\":{\"fill\":{\"color\":\"#EBF0F8\"},\"line\":{\"color\":\"white\"}},\"header\":{\"fill\":{\"color\":\"#C8D4E3\"},\"line\":{\"color\":\"white\"}},\"type\":\"table\"}],\"barpolar\":[{\"marker\":{\"line\":{\"color\":\"#E5ECF6\",\"width\":0.5},\"pattern\":{\"fillmode\":\"overlay\",\"size\":10,\"solidity\":0.2}},\"type\":\"barpolar\"}],\"pie\":[{\"automargin\":true,\"type\":\"pie\"}]},\"layout\":{\"autotypenumbers\":\"strict\",\"colorway\":[\"#636efa\",\"#EF553B\",\"#00cc96\",\"#ab63fa\",\"#FFA15A\",\"#19d3f3\",\"#FF6692\",\"#B6E880\",\"#FF97FF\",\"#FECB52\"],\"font\":{\"color\":\"#2a3f5f\"},\"hovermode\":\"closest\",\"hoverlabel\":{\"align\":\"left\"},\"paper_bgcolor\":\"white\",\"plot_bgcolor\":\"#E5ECF6\",\"polar\":{\"bgcolor\":\"#E5ECF6\",\"angularaxis\":{\"gridcolor\":\"white\",\"linecolor\":\"white\",\"ticks\":\"\"},\"radialaxis\":{\"gridcolor\":\"white\",\"linecolor\":\"white\",\"ticks\":\"\"}},\"ternary\":{\"bgcolor\":\"#E5ECF6\",\"aaxis\":{\"gridcolor\":\"white\",\"linecolor\":\"white\",\"ticks\":\"\"},\"baxis\":{\"gridcolor\":\"white\",\"linecolor\":\"white\",\"ticks\":\"\"},\"caxis\":{\"gridcolor\":\"white\",\"linecolor\":\"white\",\"ticks\":\"\"}},\"coloraxis\":{\"colorbar\":{\"outlinewidth\":0,\"ticks\":\"\"}},\"colorscale\":{\"sequential\":[[0.0,\"#0d0887\"],[0.1111111111111111,\"#46039f\"],[0.2222222222222222,\"#7201a8\"],[0.3333333333333333,\"#9c179e\"],[0.4444444444444444,\"#bd3786\"],[0.5555555555555556,\"#d8576b\"],[0.6666666666666666,\"#ed7953\"],[0.7777777777777778,\"#fb9f3a\"],[0.8888888888888888,\"#fdca26\"],[1.0,\"#f0f921\"]],\"sequentialminus\":[[0.0,\"#0d0887\"],[0.1111111111111111,\"#46039f\"],[0.2222222222222222,\"#7201a8\"],[0.3333333333333333,\"#9c179e\"],[0.4444444444444444,\"#bd3786\"],[0.5555555555555556,\"#d8576b\"],[0.6666666666666666,\"#ed7953\"],[0.7777777777777778,\"#fb9f3a\"],[0.8888888888888888,\"#fdca26\"],[1.0,\"#f0f921\"]],\"diverging\":[[0,\"#8e0152\"],[0.1,\"#c51b7d\"],[0.2,\"#de77ae\"],[0.3,\"#f1b6da\"],[0.4,\"#fde0ef\"],[0.5,\"#f7f7f7\"],[0.6,\"#e6f5d0\"],[0.7,\"#b8e186\"],[0.8,\"#7fbc41\"],[0.9,\"#4d9221\"],[1,\"#276419\"]]},\"xaxis\":{\"gridcolor\":\"white\",\"linecolor\":\"white\",\"ticks\":\"\",\"title\":{\"standoff\":15},\"zerolinecolor\":\"white\",\"automargin\":true,\"zerolinewidth\":2},\"yaxis\":{\"gridcolor\":\"white\",\"linecolor\":\"white\",\"ticks\":\"\",\"title\":{\"standoff\":15},\"zerolinecolor\":\"white\",\"automargin\":true,\"zerolinewidth\":2},\"scene\":{\"xaxis\":{\"backgroundcolor\":\"#E5ECF6\",\"gridcolor\":\"white\",\"linecolor\":\"white\",\"showbackground\":true,\"ticks\":\"\",\"zerolinecolor\":\"white\",\"gridwidth\":2},\"yaxis\":{\"backgroundcolor\":\"#E5ECF6\",\"gridcolor\":\"white\",\"linecolor\":\"white\",\"showbackground\":true,\"ticks\":\"\",\"zerolinecolor\":\"white\",\"gridwidth\":2},\"zaxis\":{\"backgroundcolor\":\"#E5ECF6\",\"gridcolor\":\"white\",\"linecolor\":\"white\",\"showbackground\":true,\"ticks\":\"\",\"zerolinecolor\":\"white\",\"gridwidth\":2}},\"shapedefaults\":{\"line\":{\"color\":\"#2a3f5f\"}},\"annotationdefaults\":{\"arrowcolor\":\"#2a3f5f\",\"arrowhead\":0,\"arrowwidth\":1},\"geo\":{\"bgcolor\":\"white\",\"landcolor\":\"#E5ECF6\",\"subunitcolor\":\"white\",\"showland\":true,\"showlakes\":true,\"lakecolor\":\"white\"},\"title\":{\"x\":0.05},\"mapbox\":{\"style\":\"light\"}}},\"xaxis\":{\"anchor\":\"y\",\"domain\":[0.0,1.0],\"title\":{\"text\":\"Logged GDP per capita\"}},\"yaxis\":{\"anchor\":\"x\",\"domain\":[0.0,1.0],\"title\":{\"text\":\"Healthy life expectancy\"}},\"legend\":{\"title\":{\"text\":\"Regional indicator\"},\"tracegroupgap\":0,\"itemsizing\":\"constant\"},\"margin\":{\"t\":60}},                        {\"responsive\": true}                    ).then(function(){\n",
       "                            \n",
       "var gd = document.getElementById('cd1dea3c-2cd3-4ca0-8405-48f96a4acb09');\n",
       "var x = new MutationObserver(function (mutations, observer) {{\n",
       "        var display = window.getComputedStyle(gd).display;\n",
       "        if (!display || display === 'none') {{\n",
       "            console.log([gd, 'removed!']);\n",
       "            Plotly.purge(gd);\n",
       "            observer.disconnect();\n",
       "        }}\n",
       "}});\n",
       "\n",
       "// Listen for the removal of the full notebook cells\n",
       "var notebookContainer = gd.closest('#notebook-container');\n",
       "if (notebookContainer) {{\n",
       "    x.observe(notebookContainer, {childList: true});\n",
       "}}\n",
       "\n",
       "// Listen for the clearing of the current output cell\n",
       "var outputEl = gd.closest('.output');\n",
       "if (outputEl) {{\n",
       "    x.observe(outputEl, {childList: true});\n",
       "}}\n",
       "\n",
       "                        })                };                });            </script>        </div>"
      ]
     },
     "metadata": {},
     "output_type": "display_data"
    }
   ],
   "source": [
    "fig.show()"
   ]
  },
  {
   "cell_type": "code",
   "execution_count": 11,
   "id": "8e9cc8bb-afea-45cf-bf8b-a9bf614982e2",
   "metadata": {},
   "outputs": [],
   "source": [
    "df_bigger = pd.read_csv('datafiles/world-happiness-report.csv')"
   ]
  },
  {
   "cell_type": "code",
   "execution_count": 22,
   "id": "c97249d0-7c26-4f9c-a510-734712222b55",
   "metadata": {},
   "outputs": [
    {
     "data": {
      "text/html": [
       "<div>\n",
       "<style scoped>\n",
       "    .dataframe tbody tr th:only-of-type {\n",
       "        vertical-align: middle;\n",
       "    }\n",
       "\n",
       "    .dataframe tbody tr th {\n",
       "        vertical-align: top;\n",
       "    }\n",
       "\n",
       "    .dataframe thead th {\n",
       "        text-align: right;\n",
       "    }\n",
       "</style>\n",
       "<table border=\"1\" class=\"dataframe\">\n",
       "  <thead>\n",
       "    <tr style=\"text-align: right;\">\n",
       "      <th></th>\n",
       "      <th>Country name</th>\n",
       "      <th>year</th>\n",
       "      <th>Life Ladder</th>\n",
       "      <th>Log GDP per capita</th>\n",
       "      <th>Social support</th>\n",
       "      <th>Healthy life expectancy at birth</th>\n",
       "      <th>Freedom to make life choices</th>\n",
       "      <th>Generosity</th>\n",
       "      <th>Perceptions of corruption</th>\n",
       "      <th>Positive affect</th>\n",
       "      <th>Negative affect</th>\n",
       "    </tr>\n",
       "  </thead>\n",
       "  <tbody>\n",
       "    <tr>\n",
       "      <th>1944</th>\n",
       "      <td>Zimbabwe</td>\n",
       "      <td>2016</td>\n",
       "      <td>3.735</td>\n",
       "      <td>7.984</td>\n",
       "      <td>0.768</td>\n",
       "      <td>54.4</td>\n",
       "      <td>0.733</td>\n",
       "      <td>-0.095</td>\n",
       "      <td>0.724</td>\n",
       "      <td>0.738</td>\n",
       "      <td>0.209</td>\n",
       "    </tr>\n",
       "    <tr>\n",
       "      <th>1945</th>\n",
       "      <td>Zimbabwe</td>\n",
       "      <td>2017</td>\n",
       "      <td>3.638</td>\n",
       "      <td>8.016</td>\n",
       "      <td>0.754</td>\n",
       "      <td>55.0</td>\n",
       "      <td>0.753</td>\n",
       "      <td>-0.098</td>\n",
       "      <td>0.751</td>\n",
       "      <td>0.806</td>\n",
       "      <td>0.224</td>\n",
       "    </tr>\n",
       "    <tr>\n",
       "      <th>1946</th>\n",
       "      <td>Zimbabwe</td>\n",
       "      <td>2018</td>\n",
       "      <td>3.616</td>\n",
       "      <td>8.049</td>\n",
       "      <td>0.775</td>\n",
       "      <td>55.6</td>\n",
       "      <td>0.763</td>\n",
       "      <td>-0.068</td>\n",
       "      <td>0.844</td>\n",
       "      <td>0.710</td>\n",
       "      <td>0.212</td>\n",
       "    </tr>\n",
       "    <tr>\n",
       "      <th>1947</th>\n",
       "      <td>Zimbabwe</td>\n",
       "      <td>2019</td>\n",
       "      <td>2.694</td>\n",
       "      <td>7.950</td>\n",
       "      <td>0.759</td>\n",
       "      <td>56.2</td>\n",
       "      <td>0.632</td>\n",
       "      <td>-0.064</td>\n",
       "      <td>0.831</td>\n",
       "      <td>0.716</td>\n",
       "      <td>0.235</td>\n",
       "    </tr>\n",
       "    <tr>\n",
       "      <th>1948</th>\n",
       "      <td>Zimbabwe</td>\n",
       "      <td>2020</td>\n",
       "      <td>3.160</td>\n",
       "      <td>7.829</td>\n",
       "      <td>0.717</td>\n",
       "      <td>56.8</td>\n",
       "      <td>0.643</td>\n",
       "      <td>-0.009</td>\n",
       "      <td>0.789</td>\n",
       "      <td>0.703</td>\n",
       "      <td>0.346</td>\n",
       "    </tr>\n",
       "  </tbody>\n",
       "</table>\n",
       "</div>"
      ],
      "text/plain": [
       "     Country name  year  Life Ladder  Log GDP per capita  Social support  \\\n",
       "1944     Zimbabwe  2016        3.735               7.984           0.768   \n",
       "1945     Zimbabwe  2017        3.638               8.016           0.754   \n",
       "1946     Zimbabwe  2018        3.616               8.049           0.775   \n",
       "1947     Zimbabwe  2019        2.694               7.950           0.759   \n",
       "1948     Zimbabwe  2020        3.160               7.829           0.717   \n",
       "\n",
       "      Healthy life expectancy at birth  Freedom to make life choices  \\\n",
       "1944                              54.4                         0.733   \n",
       "1945                              55.0                         0.753   \n",
       "1946                              55.6                         0.763   \n",
       "1947                              56.2                         0.632   \n",
       "1948                              56.8                         0.643   \n",
       "\n",
       "      Generosity  Perceptions of corruption  Positive affect  Negative affect  \n",
       "1944      -0.095                      0.724            0.738            0.209  \n",
       "1945      -0.098                      0.751            0.806            0.224  \n",
       "1946      -0.068                      0.844            0.710            0.212  \n",
       "1947      -0.064                      0.831            0.716            0.235  \n",
       "1948      -0.009                      0.789            0.703            0.346  "
      ]
     },
     "execution_count": 22,
     "metadata": {},
     "output_type": "execute_result"
    }
   ],
   "source": [
    "df_bigger.tail()"
   ]
  },
  {
   "cell_type": "code",
   "execution_count": 16,
   "id": "47d1dcfe-54af-48c7-b10d-8d5c25a4cf98",
   "metadata": {},
   "outputs": [],
   "source": [
    "years = df_bigger.year.unique()"
   ]
  },
  {
   "cell_type": "code",
   "execution_count": 17,
   "id": "b1c085da-8097-4bf4-a4cc-3a45b92175e8",
   "metadata": {},
   "outputs": [],
   "source": [
    "years.sort()"
   ]
  },
  {
   "cell_type": "code",
   "execution_count": 18,
   "id": "e2b0fb12-68b1-4474-b1eb-38a30116a0ff",
   "metadata": {},
   "outputs": [
    {
     "data": {
      "text/plain": [
       "array([2005, 2006, 2007, 2008, 2009, 2010, 2011, 2012, 2013, 2014, 2015,\n",
       "       2016, 2017, 2018, 2019, 2020], dtype=int64)"
      ]
     },
     "execution_count": 18,
     "metadata": {},
     "output_type": "execute_result"
    }
   ],
   "source": [
    "years"
   ]
  }
 ],
 "metadata": {
  "kernelspec": {
   "display_name": "data_venv",
   "language": "python",
   "name": "data_venv"
  },
  "language_info": {
   "codemirror_mode": {
    "name": "ipython",
    "version": 3
   },
   "file_extension": ".py",
   "mimetype": "text/x-python",
   "name": "python",
   "nbconvert_exporter": "python",
   "pygments_lexer": "ipython3",
   "version": "3.10.9"
  }
 },
 "nbformat": 4,
 "nbformat_minor": 5
}
