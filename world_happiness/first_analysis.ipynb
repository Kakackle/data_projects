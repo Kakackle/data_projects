{
 "cells": [
  {
   "cell_type": "code",
   "execution_count": 2,
   "id": "e3f57acc-872b-483c-9194-c1cd361f87c7",
   "metadata": {},
   "outputs": [],
   "source": [
    "import pandas as pd\n",
    "import os\n",
    "import plotly.express as px"
   ]
  },
  {
   "cell_type": "markdown",
   "id": "21140b5e-a464-4e92-afc4-76673b551a8e",
   "metadata": {},
   "source": [
    "### Single year (2023) explorations"
   ]
  },
  {
   "cell_type": "code",
   "execution_count": 10,
   "id": "b01db2b2-69e1-4ad9-8c1b-fae9f9802ce2",
   "metadata": {},
   "outputs": [],
   "source": [
    "df = pd.read_csv('datafiles/combined_df_2023.csv', index_col = 0)"
   ]
  },
  {
   "cell_type": "code",
   "execution_count": 11,
   "id": "dcc47aa1-415a-4cd6-a45d-48fc4528c599",
   "metadata": {},
   "outputs": [
    {
     "data": {
      "text/html": [
       "<div>\n",
       "<style scoped>\n",
       "    .dataframe tbody tr th:only-of-type {\n",
       "        vertical-align: middle;\n",
       "    }\n",
       "\n",
       "    .dataframe tbody tr th {\n",
       "        vertical-align: top;\n",
       "    }\n",
       "\n",
       "    .dataframe thead th {\n",
       "        text-align: right;\n",
       "    }\n",
       "</style>\n",
       "<table border=\"1\" class=\"dataframe\">\n",
       "  <thead>\n",
       "    <tr style=\"text-align: right;\">\n",
       "      <th></th>\n",
       "      <th>Country</th>\n",
       "      <th>Ladder score</th>\n",
       "      <th>Ladder score standard error</th>\n",
       "      <th>Ladder score upper whisker</th>\n",
       "      <th>Ladder score lower whisker</th>\n",
       "      <th>Logged GDP per capita</th>\n",
       "      <th>Social support</th>\n",
       "      <th>Life expectancy</th>\n",
       "      <th>Freedom</th>\n",
       "      <th>Generosity</th>\n",
       "      <th>...</th>\n",
       "      <th>Longitude</th>\n",
       "      <th>Political regime</th>\n",
       "      <th>Regional Indicator</th>\n",
       "      <th>Starting a Business rank</th>\n",
       "      <th>Business days Men</th>\n",
       "      <th>Business days Women</th>\n",
       "      <th>Agriculture</th>\n",
       "      <th>Industry</th>\n",
       "      <th>Service</th>\n",
       "      <th>Literacy</th>\n",
       "    </tr>\n",
       "  </thead>\n",
       "  <tbody>\n",
       "    <tr>\n",
       "      <th>0</th>\n",
       "      <td>Finland</td>\n",
       "      <td>7.804</td>\n",
       "      <td>0.036</td>\n",
       "      <td>7.875</td>\n",
       "      <td>7.733</td>\n",
       "      <td>10.792</td>\n",
       "      <td>0.969</td>\n",
       "      <td>71.150</td>\n",
       "      <td>0.961</td>\n",
       "      <td>-0.019</td>\n",
       "      <td>...</td>\n",
       "      <td>25.748151</td>\n",
       "      <td>liberal democracy</td>\n",
       "      <td>Western Europe</td>\n",
       "      <td>21.0</td>\n",
       "      <td>13.0</td>\n",
       "      <td>13.0</td>\n",
       "      <td>0.028</td>\n",
       "      <td>0.295</td>\n",
       "      <td>0.676</td>\n",
       "      <td>100.0</td>\n",
       "    </tr>\n",
       "    <tr>\n",
       "      <th>1</th>\n",
       "      <td>Denmark</td>\n",
       "      <td>7.586</td>\n",
       "      <td>0.041</td>\n",
       "      <td>7.667</td>\n",
       "      <td>7.506</td>\n",
       "      <td>10.962</td>\n",
       "      <td>0.954</td>\n",
       "      <td>71.250</td>\n",
       "      <td>0.934</td>\n",
       "      <td>0.134</td>\n",
       "      <td>...</td>\n",
       "      <td>9.501785</td>\n",
       "      <td>liberal democracy</td>\n",
       "      <td>Western Europe</td>\n",
       "      <td>28.0</td>\n",
       "      <td>3.5</td>\n",
       "      <td>3.5</td>\n",
       "      <td>0.018</td>\n",
       "      <td>0.246</td>\n",
       "      <td>0.735</td>\n",
       "      <td>100.0</td>\n",
       "    </tr>\n",
       "    <tr>\n",
       "      <th>2</th>\n",
       "      <td>Iceland</td>\n",
       "      <td>7.530</td>\n",
       "      <td>0.049</td>\n",
       "      <td>7.625</td>\n",
       "      <td>7.434</td>\n",
       "      <td>10.896</td>\n",
       "      <td>0.983</td>\n",
       "      <td>72.050</td>\n",
       "      <td>0.936</td>\n",
       "      <td>0.211</td>\n",
       "      <td>...</td>\n",
       "      <td>-19.020835</td>\n",
       "      <td>liberal democracy</td>\n",
       "      <td>Western Europe</td>\n",
       "      <td>42.0</td>\n",
       "      <td>11.5</td>\n",
       "      <td>11.5</td>\n",
       "      <td>0.086</td>\n",
       "      <td>0.150</td>\n",
       "      <td>0.765</td>\n",
       "      <td>99.9</td>\n",
       "    </tr>\n",
       "    <tr>\n",
       "      <th>3</th>\n",
       "      <td>Israel</td>\n",
       "      <td>7.473</td>\n",
       "      <td>0.032</td>\n",
       "      <td>7.535</td>\n",
       "      <td>7.411</td>\n",
       "      <td>10.639</td>\n",
       "      <td>0.943</td>\n",
       "      <td>72.697</td>\n",
       "      <td>0.809</td>\n",
       "      <td>-0.023</td>\n",
       "      <td>...</td>\n",
       "      <td>34.851612</td>\n",
       "      <td>liberal democracy</td>\n",
       "      <td>Middle East and North Africa</td>\n",
       "      <td>19.0</td>\n",
       "      <td>11.0</td>\n",
       "      <td>11.0</td>\n",
       "      <td>0.026</td>\n",
       "      <td>0.317</td>\n",
       "      <td>0.657</td>\n",
       "      <td>95.4</td>\n",
       "    </tr>\n",
       "    <tr>\n",
       "      <th>4</th>\n",
       "      <td>Netherlands</td>\n",
       "      <td>7.403</td>\n",
       "      <td>0.029</td>\n",
       "      <td>7.460</td>\n",
       "      <td>7.346</td>\n",
       "      <td>10.942</td>\n",
       "      <td>0.930</td>\n",
       "      <td>71.550</td>\n",
       "      <td>0.887</td>\n",
       "      <td>0.213</td>\n",
       "      <td>...</td>\n",
       "      <td>5.291266</td>\n",
       "      <td>liberal democracy</td>\n",
       "      <td>Western Europe</td>\n",
       "      <td>18.0</td>\n",
       "      <td>3.5</td>\n",
       "      <td>3.5</td>\n",
       "      <td>0.021</td>\n",
       "      <td>0.244</td>\n",
       "      <td>0.736</td>\n",
       "      <td>99.0</td>\n",
       "    </tr>\n",
       "  </tbody>\n",
       "</table>\n",
       "<p>5 rows × 45 columns</p>\n",
       "</div>"
      ],
      "text/plain": [
       "       Country  Ladder score  Ladder score standard error  \\\n",
       "0      Finland         7.804                        0.036   \n",
       "1      Denmark         7.586                        0.041   \n",
       "2      Iceland         7.530                        0.049   \n",
       "3       Israel         7.473                        0.032   \n",
       "4  Netherlands         7.403                        0.029   \n",
       "\n",
       "   Ladder score upper whisker  Ladder score lower whisker  \\\n",
       "0                       7.875                       7.733   \n",
       "1                       7.667                       7.506   \n",
       "2                       7.625                       7.434   \n",
       "3                       7.535                       7.411   \n",
       "4                       7.460                       7.346   \n",
       "\n",
       "   Logged GDP per capita  Social support  Life expectancy  Freedom  \\\n",
       "0                 10.792           0.969           71.150    0.961   \n",
       "1                 10.962           0.954           71.250    0.934   \n",
       "2                 10.896           0.983           72.050    0.936   \n",
       "3                 10.639           0.943           72.697    0.809   \n",
       "4                 10.942           0.930           71.550    0.887   \n",
       "\n",
       "   Generosity  ...  Longitude   Political regime  \\\n",
       "0      -0.019  ...  25.748151  liberal democracy   \n",
       "1       0.134  ...   9.501785  liberal democracy   \n",
       "2       0.211  ... -19.020835  liberal democracy   \n",
       "3      -0.023  ...  34.851612  liberal democracy   \n",
       "4       0.213  ...   5.291266  liberal democracy   \n",
       "\n",
       "             Regional Indicator Starting a Business rank Business days Men  \\\n",
       "0                Western Europe                     21.0              13.0   \n",
       "1                Western Europe                     28.0               3.5   \n",
       "2                Western Europe                     42.0              11.5   \n",
       "3  Middle East and North Africa                     19.0              11.0   \n",
       "4                Western Europe                     18.0               3.5   \n",
       "\n",
       "  Business days Women  Agriculture Industry Service Literacy  \n",
       "0                13.0        0.028    0.295   0.676    100.0  \n",
       "1                 3.5        0.018    0.246   0.735    100.0  \n",
       "2                11.5        0.086    0.150   0.765     99.9  \n",
       "3                11.0        0.026    0.317   0.657     95.4  \n",
       "4                 3.5        0.021    0.244   0.736     99.0  \n",
       "\n",
       "[5 rows x 45 columns]"
      ]
     },
     "execution_count": 11,
     "metadata": {},
     "output_type": "execute_result"
    }
   ],
   "source": [
    "df.head()"
   ]
  },
  {
   "cell_type": "code",
   "execution_count": 18,
   "id": "e894b461-6533-40a6-a493-e0a0abe5271e",
   "metadata": {},
   "outputs": [
    {
     "data": {
      "text/plain": [
       "Index(['Country', 'Ladder score', 'Ladder score standard error',\n",
       "       'Ladder score upper whisker', 'Ladder score lower whisker',\n",
       "       'Logged GDP per capita', 'Social support', 'Life expectancy', 'Freedom',\n",
       "       'Generosity', 'Corruption perception', 'Density (P/Km2)',\n",
       "       'Abbreviation', 'Agricultural Land( %)', 'Land Area(Km2)',\n",
       "       'Armed Forces size', 'Birth Rate', 'Co2-Emissions', 'CPI',\n",
       "       'CPI Change (%)', 'Fertility Rate', 'Forested Area (%)',\n",
       "       'Gasoline Price', 'GDP', 'Gross primary education enrollment (%)',\n",
       "       'Gross tertiary education enrollment (%)', 'Infant mortality',\n",
       "       'Maternal mortality ratio', 'Physicians per thousand', 'Population',\n",
       "       'Population: Labor force participation (%)', 'Tax revenue (%)',\n",
       "       'Unemployment rate', 'Urban_population', 'Latitude', 'Longitude',\n",
       "       'Political regime', 'Regional Indicator', 'Starting a Business rank',\n",
       "       'Business days Men', 'Business days Women', 'Agriculture', 'Industry',\n",
       "       'Service', 'Literacy'],\n",
       "      dtype='object')"
      ]
     },
     "execution_count": 18,
     "metadata": {},
     "output_type": "execute_result"
    }
   ],
   "source": [
    "df.columns"
   ]
  },
  {
   "cell_type": "code",
   "execution_count": 15,
   "id": "566b1a1c-4ed5-4af4-a821-33cc4b190dbf",
   "metadata": {},
   "outputs": [],
   "source": [
    "fig = px.scatter(df, x=\"Logged GDP per capita\", y=\"Life expectancy\", size=\"Social support\",\n",
    "                 color=\"Regional Indicator\", hover_data='Country')"
   ]
  },
  {
   "cell_type": "code",
   "execution_count": 16,
   "id": "49b3abdc-75bb-4d22-933d-cfe65ae9e097",
   "metadata": {},
   "outputs": [
    {
     "data": {
      "application/vnd.plotly.v1+json": {
       "config": {
        "plotlyServerURL": "https://plot.ly"
       },
       "data": [
        {
         "customdata": [
          [
           "Finland"
          ],
          [
           "Denmark"
          ],
          [
           "Iceland"
          ],
          [
           "Netherlands"
          ],
          [
           "Sweden"
          ],
          [
           "Norway"
          ],
          [
           "Switzerland"
          ],
          [
           "Luxembourg"
          ],
          [
           "Austria"
          ],
          [
           "Ireland"
          ],
          [
           "Germany"
          ],
          [
           "Belgium"
          ],
          [
           "United Kingdom"
          ],
          [
           "France"
          ],
          [
           "Spain"
          ],
          [
           "Italy"
          ],
          [
           "Malta"
          ],
          [
           "Cyprus"
          ],
          [
           "Portugal"
          ],
          [
           "Greece"
          ]
         ],
         "hovertemplate": "Regional Indicator=Western Europe<br>Logged GDP per capita=%{x}<br>Life expectancy=%{y}<br>Social support=%{marker.size}<br>Country=%{customdata[0]}<extra></extra>",
         "legendgroup": "Western Europe",
         "marker": {
          "color": "#636efa",
          "size": [
           0.969,
           0.954,
           0.983,
           0.93,
           0.939,
           0.943,
           0.92,
           0.879,
           0.888,
           0.905,
           0.896,
           0.915,
           0.882,
           0.909,
           0.932,
           0.882,
           0.923,
           0.826,
           0.878,
           0.835
          ],
          "sizemode": "area",
          "sizeref": 0.0024575,
          "symbol": "circle"
         },
         "mode": "markers",
         "name": "Western Europe",
         "orientation": "v",
         "showlegend": true,
         "type": "scatter",
         "x": [
          10.792,
          10.962,
          10.896,
          10.942,
          10.883,
          11.088,
          11.164,
          11.66,
          10.899,
          11.527,
          10.879,
          10.844,
          10.704,
          10.701,
          10.54,
          10.634,
          10.661,
          10.611,
          10.429,
          10.288
         ],
         "xaxis": "x",
         "y": [
          71.15,
          71.25,
          72.05,
          71.55,
          72.15,
          71.5,
          72.9,
          71.675,
          71.15,
          71.3,
          71.3,
          70.899,
          70.3,
          72.3,
          72.35,
          72.05,
          71.6,
          72.802,
          71.25,
          71.15
         ],
         "yaxis": "y"
        },
        {
         "customdata": [
          [
           "Israel"
          ],
          [
           "United Arab Emirates"
          ],
          [
           "Saudi Arabia"
          ],
          [
           "Morocco"
          ],
          [
           "Iran"
          ],
          [
           "Tunisia"
          ],
          [
           "Egypt"
          ],
          [
           "Jordan"
          ],
          [
           "Lebanon"
          ]
         ],
         "hovertemplate": "Regional Indicator=Middle East and North Africa<br>Logged GDP per capita=%{x}<br>Life expectancy=%{y}<br>Social support=%{marker.size}<br>Country=%{customdata[0]}<extra></extra>",
         "legendgroup": "Middle East and North Africa",
         "marker": {
          "color": "#EF553B",
          "size": [
           0.943,
           0.826,
           0.884,
           0.553,
           0.778,
           0.73,
           0.726,
           0.729,
           0.53
          ],
          "sizemode": "area",
          "sizeref": 0.0024575,
          "symbol": "circle"
         },
         "mode": "markers",
         "name": "Middle East and North Africa",
         "orientation": "v",
         "showlegend": true,
         "type": "scatter",
         "x": [
          10.639,
          11.145,
          10.715,
          8.973,
          9.61,
          9.244,
          9.367,
          9.13,
          9.478
         ],
         "xaxis": "x",
         "y": [
          72.697,
          66.243,
          64.399,
          63.901,
          66.6,
          67,
          63.503,
          67.6,
          66.149
         ],
         "yaxis": "y"
        },
        {
         "customdata": [
          [
           "New Zealand"
          ],
          [
           "Australia"
          ],
          [
           "Canada"
          ],
          [
           "United States"
          ]
         ],
         "hovertemplate": "Regional Indicator=North America and ANZ<br>Logged GDP per capita=%{x}<br>Life expectancy=%{y}<br>Social support=%{marker.size}<br>Country=%{customdata[0]}<extra></extra>",
         "legendgroup": "North America and ANZ",
         "marker": {
          "color": "#00cc96",
          "size": [
           0.952,
           0.934,
           0.929,
           0.919
          ],
          "sizemode": "area",
          "sizeref": 0.0024575,
          "symbol": "circle"
         },
         "mode": "markers",
         "name": "North America and ANZ",
         "orientation": "v",
         "showlegend": true,
         "type": "scatter",
         "x": [
          10.662,
          10.821,
          10.773,
          11.048
         ],
         "xaxis": "x",
         "y": [
          70.35,
          71.05,
          71.4,
          65.85
         ],
         "yaxis": "y"
        },
        {
         "customdata": [
          [
           "Lithuania"
          ],
          [
           "Slovenia"
          ],
          [
           "Romania"
          ],
          [
           "Estonia"
          ],
          [
           "Kosovo"
          ],
          [
           "Poland"
          ],
          [
           "Latvia"
          ],
          [
           "Croatia"
          ],
          [
           "Hungary"
          ],
          [
           "Bulgaria"
          ],
          [
           "Albania"
          ],
          [
           "North Macedonia"
          ]
         ],
         "hovertemplate": "Regional Indicator=Central and Eastern Europe<br>Logged GDP per capita=%{x}<br>Life expectancy=%{y}<br>Social support=%{marker.size}<br>Country=%{customdata[0]}<extra></extra>",
         "legendgroup": "Central and Eastern Europe",
         "marker": {
          "color": "#FFA15A",
          "size": [
           0.939,
           0.951,
           0.848,
           0.946,
           0.844,
           0.925,
           0.937,
           0.917,
           0.943,
           0.918,
           0.718,
           0.805
          ],
          "sizemode": "area",
          "sizeref": 0.0024575,
          "symbol": "circle"
         },
         "mode": "markers",
         "name": "Central and Eastern Europe",
         "orientation": "v",
         "showlegend": true,
         "type": "scatter",
         "x": [
          10.568,
          10.588,
          10.339,
          10.541,
          9.359,
          10.453,
          10.37,
          10.341,
          10.419,
          10.087,
          9.567,
          9.703
         ],
         "xaxis": "x",
         "y": [
          67.397,
          71.052,
          67.051,
          69.65,
          65.195,
          69.049,
          66.4,
          68.95,
          67.5,
          66.5,
          69.15,
          66.5
         ],
         "yaxis": "y"
        },
        {
         "customdata": [
          [
           "Costa Rica"
          ],
          [
           "Uruguay"
          ],
          [
           "Chile"
          ],
          [
           "Mexico"
          ],
          [
           "Panama"
          ],
          [
           "Nicaragua"
          ],
          [
           "Guatemala"
          ],
          [
           "Brazil"
          ],
          [
           "El Salvador"
          ],
          [
           "Argentina"
          ],
          [
           "Honduras"
          ],
          [
           "Paraguay"
          ],
          [
           "Jamaica"
          ],
          [
           "Bolivia"
          ],
          [
           "Colombia"
          ],
          [
           "Dominican Republic"
          ],
          [
           "Ecuador"
          ],
          [
           "Peru"
          ],
          [
           "Venezuela"
          ]
         ],
         "hovertemplate": "Regional Indicator=Latin America and Caribbean<br>Logged GDP per capita=%{x}<br>Life expectancy=%{y}<br>Social support=%{marker.size}<br>Country=%{customdata[0]}<extra></extra>",
         "legendgroup": "Latin America and Caribbean",
         "marker": {
          "color": "#19d3f3",
          "size": [
           0.872,
           0.913,
           0.889,
           0.804,
           0.896,
           0.853,
           0.812,
           0.836,
           0.755,
           0.891,
           0.766,
           0.906,
           0.867,
           0.811,
           0.822,
           0.827,
           0.806,
           0.798,
           0.839
          ],
          "sizemode": "area",
          "sizeref": 0.0024575,
          "symbol": "circle"
         },
         "mode": "markers",
         "name": "Latin America and Caribbean",
         "orientation": "v",
         "showlegend": true,
         "type": "scatter",
         "x": [
          9.952,
          10.037,
          10.114,
          9.85,
          10.305,
          8.618,
          9.116,
          9.582,
          9.089,
          9.959,
          8.635,
          9.51,
          9.165,
          8.985,
          9.584,
          9.811,
          9.27,
          9.402,
          5.527
         ],
         "xaxis": "x",
         "y": [
          70,
          67.5,
          70.3,
          65.8,
          68.95,
          65.65,
          62.9,
          65.749,
          65.597,
          67.2,
          64.063,
          65.9,
          66.6,
          63.599,
          69.35,
          64.399,
          69,
          69.85,
          64.05
         ],
         "yaxis": "y"
        },
        {
         "customdata": [
          [
           "Taiwan Province of China"
          ],
          [
           "Japan"
          ],
          [
           "South Korea"
          ],
          [
           "Mongolia"
          ]
         ],
         "hovertemplate": "Regional Indicator=East Asia<br>Logged GDP per capita=%{x}<br>Life expectancy=%{y}<br>Social support=%{marker.size}<br>Country=%{customdata[0]}<extra></extra>",
         "legendgroup": "East Asia",
         "marker": {
          "color": "#FF6692",
          "size": [
           0.884,
           0.894,
           0.812,
           0.933
          ],
          "sizemode": "area",
          "sizeref": 0.0024575,
          "symbol": "circle"
         },
         "mode": "markers",
         "name": "East Asia",
         "orientation": "v",
         "showlegend": true,
         "type": "scatter",
         "x": [
          10.797,
          10.616,
          10.693,
          9.372
         ],
         "xaxis": "x",
         "y": [
          69.6,
          74.349,
          73.65,
          60.5
         ],
         "yaxis": "y"
        },
        {
         "customdata": [
          [
           "Kazakhstan"
          ],
          [
           "Uzbekistan"
          ],
          [
           "Kyrgyzstan"
          ],
          [
           "Moldova"
          ],
          [
           "Russia"
          ],
          [
           "Armenia"
          ],
          [
           "Georgia"
          ],
          [
           "Ukraine"
          ]
         ],
         "hovertemplate": "Regional Indicator=Commonwealth of Independent States<br>Logged GDP per capita=%{x}<br>Life expectancy=%{y}<br>Social support=%{marker.size}<br>Country=%{customdata[0]}<extra></extra>",
         "legendgroup": "Commonwealth of Independent States",
         "marker": {
          "color": "#B6E880",
          "size": [
           0.931,
           0.875,
           0.911,
           0.857,
           0.889,
           0.79,
           0.716,
           0.878
          ],
          "sizemode": "area",
          "sizeref": 0.0024575,
          "symbol": "circle"
         },
         "mode": "markers",
         "name": "Commonwealth of Independent States",
         "orientation": "v",
         "showlegend": true,
         "type": "scatter",
         "x": [
          10.166,
          8.948,
          8.486,
          9.499,
          10.21,
          9.615,
          9.646,
          9.314
         ],
         "xaxis": "x",
         "y": [
          65.802,
          65.301,
          66.852,
          65.299,
          64.947,
          67.789,
          64.95,
          64.55
         ],
         "yaxis": "y"
        },
        {
         "customdata": [
          [
           "Mauritius"
          ],
          [
           "Congo (Brazzaville)"
          ],
          [
           "Guinea"
          ],
          [
           "Ivory Coast"
          ],
          [
           "Gabon"
          ],
          [
           "Cameroon"
          ],
          [
           "Mozambique"
          ],
          [
           "Senegal"
          ],
          [
           "Mauritania"
          ],
          [
           "Namibia"
          ],
          [
           "Ghana"
          ],
          [
           "Niger"
          ],
          [
           "Kenya"
          ],
          [
           "Chad"
          ],
          [
           "Benin"
          ],
          [
           "Gambia"
          ],
          [
           "Mali"
          ],
          [
           "Togo"
          ],
          [
           "Ethiopia"
          ],
          [
           "Liberia"
          ],
          [
           "Madagascar"
          ],
          [
           "Tanzania"
          ],
          [
           "Comoros"
          ],
          [
           "Malawi"
          ],
          [
           "Botswana"
          ],
          [
           "Zimbabwe"
          ],
          [
           "Sierra Leone"
          ]
         ],
         "hovertemplate": "Regional Indicator=Sub-Saharan Africa<br>Logged GDP per capita=%{x}<br>Life expectancy=%{y}<br>Social support=%{marker.size}<br>Country=%{customdata[0]}<extra></extra>",
         "legendgroup": "Sub-Saharan Africa",
         "marker": {
          "color": "#FF97FF",
          "size": [
           0.888,
           0.605,
           0.649,
           0.572,
           0.746,
           0.686,
           0.692,
           0.629,
           0.644,
           0.787,
           0.641,
           0.59,
           0.69,
           0.722,
           0.437,
           0.584,
           0.593,
           0.595,
           0.782,
           0.596,
           0.65,
           0.653,
           0.471,
           0.531,
           0.753,
           0.69,
           0.555
          ],
          "sizemode": "area",
          "sizeref": 0.0024575,
          "symbol": "circle"
         },
         "mode": "markers",
         "name": "Sub-Saharan Africa",
         "orientation": "v",
         "showlegend": true,
         "type": "scatter",
         "x": [
          9.957,
          8.095,
          7.88,
          8.576,
          9.537,
          8.217,
          7.116,
          8.155,
          8.591,
          9.121,
          8.596,
          7.091,
          8.458,
          7.261,
          8.103,
          7.648,
          7.655,
          7.673,
          7.739,
          7.277,
          7.29,
          7.857,
          8.075,
          7.302,
          9.629,
          7.641,
          7.394
         ],
         "xaxis": "x",
         "y": [
          63.85,
          56.85,
          54.185,
          55.953,
          58.252,
          55.847,
          51.53,
          59.999,
          60.475,
          56.851,
          58.763,
          56.55,
          58.499,
          53.125,
          56.095,
          57.9,
          55.403,
          57.449,
          60.698,
          56.7,
          58.05,
          59.401,
          59.425,
          58.475,
          54.725,
          54.05,
          54.9
         ],
         "yaxis": "y"
        },
        {
         "customdata": [
          [
           "Thailand"
          ],
          [
           "Vietnam"
          ],
          [
           "Indonesia"
          ],
          [
           "Cambodia"
          ]
         ],
         "hovertemplate": "Regional Indicator=Southeast Asia<br>Logged GDP per capita=%{x}<br>Life expectancy=%{y}<br>Social support=%{marker.size}<br>Country=%{customdata[0]}<extra></extra>",
         "legendgroup": "Southeast Asia",
         "marker": {
          "color": "#FECB52",
          "size": [
           0.874,
           0.821,
           0.804,
           0.747
          ],
          "sizemode": "area",
          "sizeref": 0.0024575,
          "symbol": "circle"
         },
         "mode": "markers",
         "name": "Southeast Asia",
         "orientation": "v",
         "showlegend": true,
         "type": "scatter",
         "x": [
          9.751,
          9.287,
          9.385,
          8.385
         ],
         "xaxis": "x",
         "y": [
          68.45,
          65.502,
          63.048,
          61.9
         ],
         "yaxis": "y"
        },
        {
         "customdata": [
          [
           "Nepal"
          ],
          [
           "Bangladesh"
          ],
          [
           "India"
          ],
          [
           "Afghanistan"
          ]
         ],
         "hovertemplate": "Regional Indicator=South Asia<br>Logged GDP per capita=%{x}<br>Life expectancy=%{y}<br>Social support=%{marker.size}<br>Country=%{customdata[0]}<extra></extra>",
         "legendgroup": "South Asia",
         "marker": {
          "color": "#636efa",
          "size": [
           0.748,
           0.544,
           0.608,
           0.341
          ],
          "sizemode": "area",
          "sizeref": 0.0024575,
          "symbol": "circle"
         },
         "mode": "markers",
         "name": "South Asia",
         "orientation": "v",
         "showlegend": true,
         "type": "scatter",
         "x": [
          8.256,
          8.685,
          8.759,
          7.324
         ],
         "xaxis": "x",
         "y": [
          61.847,
          64.548,
          60.777,
          54.712
         ],
         "yaxis": "y"
        }
       ],
       "layout": {
        "autosize": true,
        "legend": {
         "itemsizing": "constant",
         "title": {
          "text": "Regional Indicator"
         },
         "tracegroupgap": 0
        },
        "margin": {
         "t": 60
        },
        "template": {
         "data": {
          "bar": [
           {
            "error_x": {
             "color": "#2a3f5f"
            },
            "error_y": {
             "color": "#2a3f5f"
            },
            "marker": {
             "line": {
              "color": "#E5ECF6",
              "width": 0.5
             },
             "pattern": {
              "fillmode": "overlay",
              "size": 10,
              "solidity": 0.2
             }
            },
            "type": "bar"
           }
          ],
          "barpolar": [
           {
            "marker": {
             "line": {
              "color": "#E5ECF6",
              "width": 0.5
             },
             "pattern": {
              "fillmode": "overlay",
              "size": 10,
              "solidity": 0.2
             }
            },
            "type": "barpolar"
           }
          ],
          "carpet": [
           {
            "aaxis": {
             "endlinecolor": "#2a3f5f",
             "gridcolor": "white",
             "linecolor": "white",
             "minorgridcolor": "white",
             "startlinecolor": "#2a3f5f"
            },
            "baxis": {
             "endlinecolor": "#2a3f5f",
             "gridcolor": "white",
             "linecolor": "white",
             "minorgridcolor": "white",
             "startlinecolor": "#2a3f5f"
            },
            "type": "carpet"
           }
          ],
          "choropleth": [
           {
            "colorbar": {
             "outlinewidth": 0,
             "ticks": ""
            },
            "type": "choropleth"
           }
          ],
          "contour": [
           {
            "colorbar": {
             "outlinewidth": 0,
             "ticks": ""
            },
            "colorscale": [
             [
              0,
              "#0d0887"
             ],
             [
              0.1111111111111111,
              "#46039f"
             ],
             [
              0.2222222222222222,
              "#7201a8"
             ],
             [
              0.3333333333333333,
              "#9c179e"
             ],
             [
              0.4444444444444444,
              "#bd3786"
             ],
             [
              0.5555555555555556,
              "#d8576b"
             ],
             [
              0.6666666666666666,
              "#ed7953"
             ],
             [
              0.7777777777777778,
              "#fb9f3a"
             ],
             [
              0.8888888888888888,
              "#fdca26"
             ],
             [
              1,
              "#f0f921"
             ]
            ],
            "type": "contour"
           }
          ],
          "contourcarpet": [
           {
            "colorbar": {
             "outlinewidth": 0,
             "ticks": ""
            },
            "type": "contourcarpet"
           }
          ],
          "heatmap": [
           {
            "colorbar": {
             "outlinewidth": 0,
             "ticks": ""
            },
            "colorscale": [
             [
              0,
              "#0d0887"
             ],
             [
              0.1111111111111111,
              "#46039f"
             ],
             [
              0.2222222222222222,
              "#7201a8"
             ],
             [
              0.3333333333333333,
              "#9c179e"
             ],
             [
              0.4444444444444444,
              "#bd3786"
             ],
             [
              0.5555555555555556,
              "#d8576b"
             ],
             [
              0.6666666666666666,
              "#ed7953"
             ],
             [
              0.7777777777777778,
              "#fb9f3a"
             ],
             [
              0.8888888888888888,
              "#fdca26"
             ],
             [
              1,
              "#f0f921"
             ]
            ],
            "type": "heatmap"
           }
          ],
          "heatmapgl": [
           {
            "colorbar": {
             "outlinewidth": 0,
             "ticks": ""
            },
            "colorscale": [
             [
              0,
              "#0d0887"
             ],
             [
              0.1111111111111111,
              "#46039f"
             ],
             [
              0.2222222222222222,
              "#7201a8"
             ],
             [
              0.3333333333333333,
              "#9c179e"
             ],
             [
              0.4444444444444444,
              "#bd3786"
             ],
             [
              0.5555555555555556,
              "#d8576b"
             ],
             [
              0.6666666666666666,
              "#ed7953"
             ],
             [
              0.7777777777777778,
              "#fb9f3a"
             ],
             [
              0.8888888888888888,
              "#fdca26"
             ],
             [
              1,
              "#f0f921"
             ]
            ],
            "type": "heatmapgl"
           }
          ],
          "histogram": [
           {
            "marker": {
             "pattern": {
              "fillmode": "overlay",
              "size": 10,
              "solidity": 0.2
             }
            },
            "type": "histogram"
           }
          ],
          "histogram2d": [
           {
            "colorbar": {
             "outlinewidth": 0,
             "ticks": ""
            },
            "colorscale": [
             [
              0,
              "#0d0887"
             ],
             [
              0.1111111111111111,
              "#46039f"
             ],
             [
              0.2222222222222222,
              "#7201a8"
             ],
             [
              0.3333333333333333,
              "#9c179e"
             ],
             [
              0.4444444444444444,
              "#bd3786"
             ],
             [
              0.5555555555555556,
              "#d8576b"
             ],
             [
              0.6666666666666666,
              "#ed7953"
             ],
             [
              0.7777777777777778,
              "#fb9f3a"
             ],
             [
              0.8888888888888888,
              "#fdca26"
             ],
             [
              1,
              "#f0f921"
             ]
            ],
            "type": "histogram2d"
           }
          ],
          "histogram2dcontour": [
           {
            "colorbar": {
             "outlinewidth": 0,
             "ticks": ""
            },
            "colorscale": [
             [
              0,
              "#0d0887"
             ],
             [
              0.1111111111111111,
              "#46039f"
             ],
             [
              0.2222222222222222,
              "#7201a8"
             ],
             [
              0.3333333333333333,
              "#9c179e"
             ],
             [
              0.4444444444444444,
              "#bd3786"
             ],
             [
              0.5555555555555556,
              "#d8576b"
             ],
             [
              0.6666666666666666,
              "#ed7953"
             ],
             [
              0.7777777777777778,
              "#fb9f3a"
             ],
             [
              0.8888888888888888,
              "#fdca26"
             ],
             [
              1,
              "#f0f921"
             ]
            ],
            "type": "histogram2dcontour"
           }
          ],
          "mesh3d": [
           {
            "colorbar": {
             "outlinewidth": 0,
             "ticks": ""
            },
            "type": "mesh3d"
           }
          ],
          "parcoords": [
           {
            "line": {
             "colorbar": {
              "outlinewidth": 0,
              "ticks": ""
             }
            },
            "type": "parcoords"
           }
          ],
          "pie": [
           {
            "automargin": true,
            "type": "pie"
           }
          ],
          "scatter": [
           {
            "fillpattern": {
             "fillmode": "overlay",
             "size": 10,
             "solidity": 0.2
            },
            "type": "scatter"
           }
          ],
          "scatter3d": [
           {
            "line": {
             "colorbar": {
              "outlinewidth": 0,
              "ticks": ""
             }
            },
            "marker": {
             "colorbar": {
              "outlinewidth": 0,
              "ticks": ""
             }
            },
            "type": "scatter3d"
           }
          ],
          "scattercarpet": [
           {
            "marker": {
             "colorbar": {
              "outlinewidth": 0,
              "ticks": ""
             }
            },
            "type": "scattercarpet"
           }
          ],
          "scattergeo": [
           {
            "marker": {
             "colorbar": {
              "outlinewidth": 0,
              "ticks": ""
             }
            },
            "type": "scattergeo"
           }
          ],
          "scattergl": [
           {
            "marker": {
             "colorbar": {
              "outlinewidth": 0,
              "ticks": ""
             }
            },
            "type": "scattergl"
           }
          ],
          "scattermapbox": [
           {
            "marker": {
             "colorbar": {
              "outlinewidth": 0,
              "ticks": ""
             }
            },
            "type": "scattermapbox"
           }
          ],
          "scatterpolar": [
           {
            "marker": {
             "colorbar": {
              "outlinewidth": 0,
              "ticks": ""
             }
            },
            "type": "scatterpolar"
           }
          ],
          "scatterpolargl": [
           {
            "marker": {
             "colorbar": {
              "outlinewidth": 0,
              "ticks": ""
             }
            },
            "type": "scatterpolargl"
           }
          ],
          "scatterternary": [
           {
            "marker": {
             "colorbar": {
              "outlinewidth": 0,
              "ticks": ""
             }
            },
            "type": "scatterternary"
           }
          ],
          "surface": [
           {
            "colorbar": {
             "outlinewidth": 0,
             "ticks": ""
            },
            "colorscale": [
             [
              0,
              "#0d0887"
             ],
             [
              0.1111111111111111,
              "#46039f"
             ],
             [
              0.2222222222222222,
              "#7201a8"
             ],
             [
              0.3333333333333333,
              "#9c179e"
             ],
             [
              0.4444444444444444,
              "#bd3786"
             ],
             [
              0.5555555555555556,
              "#d8576b"
             ],
             [
              0.6666666666666666,
              "#ed7953"
             ],
             [
              0.7777777777777778,
              "#fb9f3a"
             ],
             [
              0.8888888888888888,
              "#fdca26"
             ],
             [
              1,
              "#f0f921"
             ]
            ],
            "type": "surface"
           }
          ],
          "table": [
           {
            "cells": {
             "fill": {
              "color": "#EBF0F8"
             },
             "line": {
              "color": "white"
             }
            },
            "header": {
             "fill": {
              "color": "#C8D4E3"
             },
             "line": {
              "color": "white"
             }
            },
            "type": "table"
           }
          ]
         },
         "layout": {
          "annotationdefaults": {
           "arrowcolor": "#2a3f5f",
           "arrowhead": 0,
           "arrowwidth": 1
          },
          "autotypenumbers": "strict",
          "coloraxis": {
           "colorbar": {
            "outlinewidth": 0,
            "ticks": ""
           }
          },
          "colorscale": {
           "diverging": [
            [
             0,
             "#8e0152"
            ],
            [
             0.1,
             "#c51b7d"
            ],
            [
             0.2,
             "#de77ae"
            ],
            [
             0.3,
             "#f1b6da"
            ],
            [
             0.4,
             "#fde0ef"
            ],
            [
             0.5,
             "#f7f7f7"
            ],
            [
             0.6,
             "#e6f5d0"
            ],
            [
             0.7,
             "#b8e186"
            ],
            [
             0.8,
             "#7fbc41"
            ],
            [
             0.9,
             "#4d9221"
            ],
            [
             1,
             "#276419"
            ]
           ],
           "sequential": [
            [
             0,
             "#0d0887"
            ],
            [
             0.1111111111111111,
             "#46039f"
            ],
            [
             0.2222222222222222,
             "#7201a8"
            ],
            [
             0.3333333333333333,
             "#9c179e"
            ],
            [
             0.4444444444444444,
             "#bd3786"
            ],
            [
             0.5555555555555556,
             "#d8576b"
            ],
            [
             0.6666666666666666,
             "#ed7953"
            ],
            [
             0.7777777777777778,
             "#fb9f3a"
            ],
            [
             0.8888888888888888,
             "#fdca26"
            ],
            [
             1,
             "#f0f921"
            ]
           ],
           "sequentialminus": [
            [
             0,
             "#0d0887"
            ],
            [
             0.1111111111111111,
             "#46039f"
            ],
            [
             0.2222222222222222,
             "#7201a8"
            ],
            [
             0.3333333333333333,
             "#9c179e"
            ],
            [
             0.4444444444444444,
             "#bd3786"
            ],
            [
             0.5555555555555556,
             "#d8576b"
            ],
            [
             0.6666666666666666,
             "#ed7953"
            ],
            [
             0.7777777777777778,
             "#fb9f3a"
            ],
            [
             0.8888888888888888,
             "#fdca26"
            ],
            [
             1,
             "#f0f921"
            ]
           ]
          },
          "colorway": [
           "#636efa",
           "#EF553B",
           "#00cc96",
           "#ab63fa",
           "#FFA15A",
           "#19d3f3",
           "#FF6692",
           "#B6E880",
           "#FF97FF",
           "#FECB52"
          ],
          "font": {
           "color": "#2a3f5f"
          },
          "geo": {
           "bgcolor": "white",
           "lakecolor": "white",
           "landcolor": "#E5ECF6",
           "showlakes": true,
           "showland": true,
           "subunitcolor": "white"
          },
          "hoverlabel": {
           "align": "left"
          },
          "hovermode": "closest",
          "mapbox": {
           "style": "light"
          },
          "paper_bgcolor": "white",
          "plot_bgcolor": "#E5ECF6",
          "polar": {
           "angularaxis": {
            "gridcolor": "white",
            "linecolor": "white",
            "ticks": ""
           },
           "bgcolor": "#E5ECF6",
           "radialaxis": {
            "gridcolor": "white",
            "linecolor": "white",
            "ticks": ""
           }
          },
          "scene": {
           "xaxis": {
            "backgroundcolor": "#E5ECF6",
            "gridcolor": "white",
            "gridwidth": 2,
            "linecolor": "white",
            "showbackground": true,
            "ticks": "",
            "zerolinecolor": "white"
           },
           "yaxis": {
            "backgroundcolor": "#E5ECF6",
            "gridcolor": "white",
            "gridwidth": 2,
            "linecolor": "white",
            "showbackground": true,
            "ticks": "",
            "zerolinecolor": "white"
           },
           "zaxis": {
            "backgroundcolor": "#E5ECF6",
            "gridcolor": "white",
            "gridwidth": 2,
            "linecolor": "white",
            "showbackground": true,
            "ticks": "",
            "zerolinecolor": "white"
           }
          },
          "shapedefaults": {
           "line": {
            "color": "#2a3f5f"
           }
          },
          "ternary": {
           "aaxis": {
            "gridcolor": "white",
            "linecolor": "white",
            "ticks": ""
           },
           "baxis": {
            "gridcolor": "white",
            "linecolor": "white",
            "ticks": ""
           },
           "bgcolor": "#E5ECF6",
           "caxis": {
            "gridcolor": "white",
            "linecolor": "white",
            "ticks": ""
           }
          },
          "title": {
           "x": 0.05
          },
          "xaxis": {
           "automargin": true,
           "gridcolor": "white",
           "linecolor": "white",
           "ticks": "",
           "title": {
            "standoff": 15
           },
           "zerolinecolor": "white",
           "zerolinewidth": 2
          },
          "yaxis": {
           "automargin": true,
           "gridcolor": "white",
           "linecolor": "white",
           "ticks": "",
           "title": {
            "standoff": 15
           },
           "zerolinecolor": "white",
           "zerolinewidth": 2
          }
         }
        },
        "xaxis": {
         "anchor": "y",
         "autorange": true,
         "domain": [
          0,
          1
         ],
         "range": [
          4.80200034584849,
          12.393138408706431
         ],
         "title": {
          "text": "Logged GDP per capita"
         },
         "type": "linear"
        },
        "yaxis": {
         "anchor": "x",
         "autorange": true,
         "domain": [
          0,
          1
         ],
         "range": [
          48.266142883046356,
          77.85663458198916
         ],
         "title": {
          "text": "Life expectancy"
         },
         "type": "linear"
        }
       }
      },
      "image/png": "[encoded data removed]",
      "text/html": [
       "<div>                            <div id=\"dc2eeb03-5809-4d0a-8e5a-5c2e05e72745\" class=\"plotly-graph-div\" style=\"height:525px; width:100%;\"></div>            <script type=\"text/javascript\">                require([\"plotly\"], function(Plotly) {                    window.PLOTLYENV=window.PLOTLYENV || {};                                    if (document.getElementById(\"dc2eeb03-5809-4d0a-8e5a-5c2e05e72745\")) {                    Plotly.newPlot(                        \"dc2eeb03-5809-4d0a-8e5a-5c2e05e72745\",                        [{\"customdata\":[[\"Finland\"],[\"Denmark\"],[\"Iceland\"],[\"Netherlands\"],[\"Sweden\"],[\"Norway\"],[\"Switzerland\"],[\"Luxembourg\"],[\"Austria\"],[\"Ireland\"],[\"Germany\"],[\"Belgium\"],[\"United Kingdom\"],[\"France\"],[\"Spain\"],[\"Italy\"],[\"Malta\"],[\"Cyprus\"],[\"Portugal\"],[\"Greece\"]],\"hovertemplate\":\"Regional Indicator=Western Europe\\u003cbr\\u003eLogged GDP per capita=%{x}\\u003cbr\\u003eLife expectancy=%{y}\\u003cbr\\u003eSocial support=%{marker.size}\\u003cbr\\u003eCountry=%{customdata[0]}\\u003cextra\\u003e\\u003c\\u002fextra\\u003e\",\"legendgroup\":\"Western Europe\",\"marker\":{\"color\":\"#636efa\",\"size\":[0.969,0.954,0.983,0.93,0.939,0.943,0.92,0.879,0.888,0.905,0.896,0.915,0.882,0.909,0.932,0.882,0.923,0.826,0.878,0.835],\"sizemode\":\"area\",\"sizeref\":0.0024575,\"symbol\":\"circle\"},\"mode\":\"markers\",\"name\":\"Western Europe\",\"orientation\":\"v\",\"showlegend\":true,\"x\":[10.792,10.962,10.896,10.942,10.883,11.088,11.164,11.66,10.899,11.527,10.879,10.844,10.704,10.701,10.54,10.634,10.661,10.611,10.429,10.288],\"xaxis\":\"x\",\"y\":[71.15,71.25,72.05,71.55,72.15,71.5,72.9,71.675,71.15,71.3,71.3,70.899,70.3,72.3,72.35,72.05,71.6,72.802,71.25,71.15],\"yaxis\":\"y\",\"type\":\"scatter\"},{\"customdata\":[[\"Israel\"],[\"United Arab Emirates\"],[\"Saudi Arabia\"],[\"Morocco\"],[\"Iran\"],[\"Tunisia\"],[\"Egypt\"],[\"Jordan\"],[\"Lebanon\"]],\"hovertemplate\":\"Regional Indicator=Middle East and North Africa\\u003cbr\\u003eLogged GDP per capita=%{x}\\u003cbr\\u003eLife expectancy=%{y}\\u003cbr\\u003eSocial support=%{marker.size}\\u003cbr\\u003eCountry=%{customdata[0]}\\u003cextra\\u003e\\u003c\\u002fextra\\u003e\",\"legendgroup\":\"Middle East and North Africa\",\"marker\":{\"color\":\"#EF553B\",\"size\":[0.943,0.826,0.884,0.553,0.778,0.73,0.726,0.729,0.53],\"sizemode\":\"area\",\"sizeref\":0.0024575,\"symbol\":\"circle\"},\"mode\":\"markers\",\"name\":\"Middle East and North Africa\",\"orientation\":\"v\",\"showlegend\":true,\"x\":[10.639,11.145,10.715,8.973,9.61,9.244,9.367,9.13,9.478],\"xaxis\":\"x\",\"y\":[72.697,66.243,64.399,63.901,66.6,67.0,63.503,67.6,66.149],\"yaxis\":\"y\",\"type\":\"scatter\"},{\"customdata\":[[\"New Zealand\"],[\"Australia\"],[\"Canada\"],[\"United States\"]],\"hovertemplate\":\"Regional Indicator=North America and ANZ\\u003cbr\\u003eLogged GDP per capita=%{x}\\u003cbr\\u003eLife expectancy=%{y}\\u003cbr\\u003eSocial support=%{marker.size}\\u003cbr\\u003eCountry=%{customdata[0]}\\u003cextra\\u003e\\u003c\\u002fextra\\u003e\",\"legendgroup\":\"North America and ANZ\",\"marker\":{\"color\":\"#00cc96\",\"size\":[0.952,0.934,0.929,0.919],\"sizemode\":\"area\",\"sizeref\":0.0024575,\"symbol\":\"circle\"},\"mode\":\"markers\",\"name\":\"North America and ANZ\",\"orientation\":\"v\",\"showlegend\":true,\"x\":[10.662,10.821,10.773,11.048],\"xaxis\":\"x\",\"y\":[70.35,71.05,71.4,65.85],\"yaxis\":\"y\",\"type\":\"scatter\"},{\"customdata\":[[\"Lithuania\"],[\"Slovenia\"],[\"Romania\"],[\"Estonia\"],[\"Kosovo\"],[\"Poland\"],[\"Latvia\"],[\"Croatia\"],[\"Hungary\"],[\"Bulgaria\"],[\"Albania\"],[\"North Macedonia\"]],\"hovertemplate\":\"Regional Indicator=Central and Eastern Europe\\u003cbr\\u003eLogged GDP per capita=%{x}\\u003cbr\\u003eLife expectancy=%{y}\\u003cbr\\u003eSocial support=%{marker.size}\\u003cbr\\u003eCountry=%{customdata[0]}\\u003cextra\\u003e\\u003c\\u002fextra\\u003e\",\"legendgroup\":\"Central and Eastern Europe\",\"marker\":{\"color\":\"#FFA15A\",\"size\":[0.939,0.951,0.848,0.946,0.844,0.925,0.937,0.917,0.943,0.918,0.718,0.805],\"sizemode\":\"area\",\"sizeref\":0.0024575,\"symbol\":\"circle\"},\"mode\":\"markers\",\"name\":\"Central and Eastern Europe\",\"orientation\":\"v\",\"showlegend\":true,\"x\":[10.568,10.588,10.339,10.541,9.359,10.453,10.37,10.341,10.419,10.087,9.567,9.703],\"xaxis\":\"x\",\"y\":[67.397,71.052,67.051,69.65,65.195,69.049,66.4,68.95,67.5,66.5,69.15,66.5],\"yaxis\":\"y\",\"type\":\"scatter\"},{\"customdata\":[[\"Costa Rica\"],[\"Uruguay\"],[\"Chile\"],[\"Mexico\"],[\"Panama\"],[\"Nicaragua\"],[\"Guatemala\"],[\"Brazil\"],[\"El Salvador\"],[\"Argentina\"],[\"Honduras\"],[\"Paraguay\"],[\"Jamaica\"],[\"Bolivia\"],[\"Colombia\"],[\"Dominican Republic\"],[\"Ecuador\"],[\"Peru\"],[\"Venezuela\"]],\"hovertemplate\":\"Regional Indicator=Latin America and Caribbean\\u003cbr\\u003eLogged GDP per capita=%{x}\\u003cbr\\u003eLife expectancy=%{y}\\u003cbr\\u003eSocial support=%{marker.size}\\u003cbr\\u003eCountry=%{customdata[0]}\\u003cextra\\u003e\\u003c\\u002fextra\\u003e\",\"legendgroup\":\"Latin America and Caribbean\",\"marker\":{\"color\":\"#19d3f3\",\"size\":[0.872,0.913,0.889,0.804,0.896,0.853,0.812,0.836,0.755,0.891,0.766,0.906,0.867,0.811,0.822,0.827,0.806,0.798,0.839],\"sizemode\":\"area\",\"sizeref\":0.0024575,\"symbol\":\"circle\"},\"mode\":\"markers\",\"name\":\"Latin America and Caribbean\",\"orientation\":\"v\",\"showlegend\":true,\"x\":[9.952,10.037,10.114,9.85,10.305,8.618,9.116,9.582,9.089,9.959,8.635,9.51,9.165,8.985,9.584,9.811,9.27,9.402,5.527],\"xaxis\":\"x\",\"y\":[70.0,67.5,70.3,65.8,68.95,65.65,62.9,65.749,65.597,67.2,64.063,65.9,66.6,63.599,69.35,64.399,69.0,69.85,64.05],\"yaxis\":\"y\",\"type\":\"scatter\"},{\"customdata\":[[\"Taiwan Province of China\"],[\"Japan\"],[\"South Korea\"],[\"Mongolia\"]],\"hovertemplate\":\"Regional Indicator=East Asia\\u003cbr\\u003eLogged GDP per capita=%{x}\\u003cbr\\u003eLife expectancy=%{y}\\u003cbr\\u003eSocial support=%{marker.size}\\u003cbr\\u003eCountry=%{customdata[0]}\\u003cextra\\u003e\\u003c\\u002fextra\\u003e\",\"legendgroup\":\"East Asia\",\"marker\":{\"color\":\"#FF6692\",\"size\":[0.884,0.894,0.812,0.933],\"sizemode\":\"area\",\"sizeref\":0.0024575,\"symbol\":\"circle\"},\"mode\":\"markers\",\"name\":\"East Asia\",\"orientation\":\"v\",\"showlegend\":true,\"x\":[10.797,10.616,10.693,9.372],\"xaxis\":\"x\",\"y\":[69.6,74.349,73.65,60.5],\"yaxis\":\"y\",\"type\":\"scatter\"},{\"customdata\":[[\"Kazakhstan\"],[\"Uzbekistan\"],[\"Kyrgyzstan\"],[\"Moldova\"],[\"Russia\"],[\"Armenia\"],[\"Georgia\"],[\"Ukraine\"]],\"hovertemplate\":\"Regional Indicator=Commonwealth of Independent States\\u003cbr\\u003eLogged GDP per capita=%{x}\\u003cbr\\u003eLife expectancy=%{y}\\u003cbr\\u003eSocial support=%{marker.size}\\u003cbr\\u003eCountry=%{customdata[0]}\\u003cextra\\u003e\\u003c\\u002fextra\\u003e\",\"legendgroup\":\"Commonwealth of Independent States\",\"marker\":{\"color\":\"#B6E880\",\"size\":[0.931,0.875,0.911,0.857,0.889,0.79,0.716,0.878],\"sizemode\":\"area\",\"sizeref\":0.0024575,\"symbol\":\"circle\"},\"mode\":\"markers\",\"name\":\"Commonwealth of Independent States\",\"orientation\":\"v\",\"showlegend\":true,\"x\":[10.166,8.948,8.486,9.499,10.21,9.615,9.646,9.314],\"xaxis\":\"x\",\"y\":[65.802,65.301,66.852,65.299,64.947,67.789,64.95,64.55],\"yaxis\":\"y\",\"type\":\"scatter\"},{\"customdata\":[[\"Mauritius\"],[\"Congo (Brazzaville)\"],[\"Guinea\"],[\"Ivory Coast\"],[\"Gabon\"],[\"Cameroon\"],[\"Mozambique\"],[\"Senegal\"],[\"Mauritania\"],[\"Namibia\"],[\"Ghana\"],[\"Niger\"],[\"Kenya\"],[\"Chad\"],[\"Benin\"],[\"Gambia\"],[\"Mali\"],[\"Togo\"],[\"Ethiopia\"],[\"Liberia\"],[\"Madagascar\"],[\"Tanzania\"],[\"Comoros\"],[\"Malawi\"],[\"Botswana\"],[\"Zimbabwe\"],[\"Sierra Leone\"]],\"hovertemplate\":\"Regional Indicator=Sub-Saharan Africa\\u003cbr\\u003eLogged GDP per capita=%{x}\\u003cbr\\u003eLife expectancy=%{y}\\u003cbr\\u003eSocial support=%{marker.size}\\u003cbr\\u003eCountry=%{customdata[0]}\\u003cextra\\u003e\\u003c\\u002fextra\\u003e\",\"legendgroup\":\"Sub-Saharan Africa\",\"marker\":{\"color\":\"#FF97FF\",\"size\":[0.888,0.605,0.649,0.572,0.746,0.686,0.692,0.629,0.644,0.787,0.641,0.59,0.69,0.722,0.437,0.584,0.593,0.595,0.782,0.596,0.65,0.653,0.471,0.531,0.753,0.69,0.555],\"sizemode\":\"area\",\"sizeref\":0.0024575,\"symbol\":\"circle\"},\"mode\":\"markers\",\"name\":\"Sub-Saharan Africa\",\"orientation\":\"v\",\"showlegend\":true,\"x\":[9.957,8.095,7.88,8.576,9.537,8.217,7.116,8.155,8.591,9.121,8.596,7.091,8.458,7.261,8.103,7.648,7.655,7.673,7.739,7.277,7.29,7.857,8.075,7.302,9.629,7.641,7.394],\"xaxis\":\"x\",\"y\":[63.85,56.85,54.185,55.953,58.252,55.847,51.53,59.999,60.475,56.851,58.763,56.55,58.499,53.125,56.095,57.9,55.403,57.449,60.698,56.7,58.05,59.401,59.425,58.475,54.725,54.05,54.9],\"yaxis\":\"y\",\"type\":\"scatter\"},{\"customdata\":[[\"Thailand\"],[\"Vietnam\"],[\"Indonesia\"],[\"Cambodia\"]],\"hovertemplate\":\"Regional Indicator=Southeast Asia\\u003cbr\\u003eLogged GDP per capita=%{x}\\u003cbr\\u003eLife expectancy=%{y}\\u003cbr\\u003eSocial support=%{marker.size}\\u003cbr\\u003eCountry=%{customdata[0]}\\u003cextra\\u003e\\u003c\\u002fextra\\u003e\",\"legendgroup\":\"Southeast Asia\",\"marker\":{\"color\":\"#FECB52\",\"size\":[0.874,0.821,0.804,0.747],\"sizemode\":\"area\",\"sizeref\":0.0024575,\"symbol\":\"circle\"},\"mode\":\"markers\",\"name\":\"Southeast Asia\",\"orientation\":\"v\",\"showlegend\":true,\"x\":[9.751,9.287,9.385,8.385],\"xaxis\":\"x\",\"y\":[68.45,65.502,63.048,61.9],\"yaxis\":\"y\",\"type\":\"scatter\"},{\"customdata\":[[\"Nepal\"],[\"Bangladesh\"],[\"India\"],[\"Afghanistan\"]],\"hovertemplate\":\"Regional Indicator=South Asia\\u003cbr\\u003eLogged GDP per capita=%{x}\\u003cbr\\u003eLife expectancy=%{y}\\u003cbr\\u003eSocial support=%{marker.size}\\u003cbr\\u003eCountry=%{customdata[0]}\\u003cextra\\u003e\\u003c\\u002fextra\\u003e\",\"legendgroup\":\"South Asia\",\"marker\":{\"color\":\"#636efa\",\"size\":[0.748,0.544,0.608,0.341],\"sizemode\":\"area\",\"sizeref\":0.0024575,\"symbol\":\"circle\"},\"mode\":\"markers\",\"name\":\"South Asia\",\"orientation\":\"v\",\"showlegend\":true,\"x\":[8.256,8.685,8.759,7.324],\"xaxis\":\"x\",\"y\":[61.847,64.548,60.777,54.712],\"yaxis\":\"y\",\"type\":\"scatter\"}],                        {\"template\":{\"data\":{\"histogram2dcontour\":[{\"type\":\"histogram2dcontour\",\"colorbar\":{\"outlinewidth\":0,\"ticks\":\"\"},\"colorscale\":[[0.0,\"#0d0887\"],[0.1111111111111111,\"#46039f\"],[0.2222222222222222,\"#7201a8\"],[0.3333333333333333,\"#9c179e\"],[0.4444444444444444,\"#bd3786\"],[0.5555555555555556,\"#d8576b\"],[0.6666666666666666,\"#ed7953\"],[0.7777777777777778,\"#fb9f3a\"],[0.8888888888888888,\"#fdca26\"],[1.0,\"#f0f921\"]]}],\"choropleth\":[{\"type\":\"choropleth\",\"colorbar\":{\"outlinewidth\":0,\"ticks\":\"\"}}],\"histogram2d\":[{\"type\":\"histogram2d\",\"colorbar\":{\"outlinewidth\":0,\"ticks\":\"\"},\"colorscale\":[[0.0,\"#0d0887\"],[0.1111111111111111,\"#46039f\"],[0.2222222222222222,\"#7201a8\"],[0.3333333333333333,\"#9c179e\"],[0.4444444444444444,\"#bd3786\"],[0.5555555555555556,\"#d8576b\"],[0.6666666666666666,\"#ed7953\"],[0.7777777777777778,\"#fb9f3a\"],[0.8888888888888888,\"#fdca26\"],[1.0,\"#f0f921\"]]}],\"heatmap\":[{\"type\":\"heatmap\",\"colorbar\":{\"outlinewidth\":0,\"ticks\":\"\"},\"colorscale\":[[0.0,\"#0d0887\"],[0.1111111111111111,\"#46039f\"],[0.2222222222222222,\"#7201a8\"],[0.3333333333333333,\"#9c179e\"],[0.4444444444444444,\"#bd3786\"],[0.5555555555555556,\"#d8576b\"],[0.6666666666666666,\"#ed7953\"],[0.7777777777777778,\"#fb9f3a\"],[0.8888888888888888,\"#fdca26\"],[1.0,\"#f0f921\"]]}],\"heatmapgl\":[{\"type\":\"heatmapgl\",\"colorbar\":{\"outlinewidth\":0,\"ticks\":\"\"},\"colorscale\":[[0.0,\"#0d0887\"],[0.1111111111111111,\"#46039f\"],[0.2222222222222222,\"#7201a8\"],[0.3333333333333333,\"#9c179e\"],[0.4444444444444444,\"#bd3786\"],[0.5555555555555556,\"#d8576b\"],[0.6666666666666666,\"#ed7953\"],[0.7777777777777778,\"#fb9f3a\"],[0.8888888888888888,\"#fdca26\"],[1.0,\"#f0f921\"]]}],\"contourcarpet\":[{\"type\":\"contourcarpet\",\"colorbar\":{\"outlinewidth\":0,\"ticks\":\"\"}}],\"contour\":[{\"type\":\"contour\",\"colorbar\":{\"outlinewidth\":0,\"ticks\":\"\"},\"colorscale\":[[0.0,\"#0d0887\"],[0.1111111111111111,\"#46039f\"],[0.2222222222222222,\"#7201a8\"],[0.3333333333333333,\"#9c179e\"],[0.4444444444444444,\"#bd3786\"],[0.5555555555555556,\"#d8576b\"],[0.6666666666666666,\"#ed7953\"],[0.7777777777777778,\"#fb9f3a\"],[0.8888888888888888,\"#fdca26\"],[1.0,\"#f0f921\"]]}],\"surface\":[{\"type\":\"surface\",\"colorbar\":{\"outlinewidth\":0,\"ticks\":\"\"},\"colorscale\":[[0.0,\"#0d0887\"],[0.1111111111111111,\"#46039f\"],[0.2222222222222222,\"#7201a8\"],[0.3333333333333333,\"#9c179e\"],[0.4444444444444444,\"#bd3786\"],[0.5555555555555556,\"#d8576b\"],[0.6666666666666666,\"#ed7953\"],[0.7777777777777778,\"#fb9f3a\"],[0.8888888888888888,\"#fdca26\"],[1.0,\"#f0f921\"]]}],\"mesh3d\":[{\"type\":\"mesh3d\",\"colorbar\":{\"outlinewidth\":0,\"ticks\":\"\"}}],\"scatter\":[{\"fillpattern\":{\"fillmode\":\"overlay\",\"size\":10,\"solidity\":0.2},\"type\":\"scatter\"}],\"parcoords\":[{\"type\":\"parcoords\",\"line\":{\"colorbar\":{\"outlinewidth\":0,\"ticks\":\"\"}}}],\"scatterpolargl\":[{\"type\":\"scatterpolargl\",\"marker\":{\"colorbar\":{\"outlinewidth\":0,\"ticks\":\"\"}}}],\"bar\":[{\"error_x\":{\"color\":\"#2a3f5f\"},\"error_y\":{\"color\":\"#2a3f5f\"},\"marker\":{\"line\":{\"color\":\"#E5ECF6\",\"width\":0.5},\"pattern\":{\"fillmode\":\"overlay\",\"size\":10,\"solidity\":0.2}},\"type\":\"bar\"}],\"scattergeo\":[{\"type\":\"scattergeo\",\"marker\":{\"colorbar\":{\"outlinewidth\":0,\"ticks\":\"\"}}}],\"scatterpolar\":[{\"type\":\"scatterpolar\",\"marker\":{\"colorbar\":{\"outlinewidth\":0,\"ticks\":\"\"}}}],\"histogram\":[{\"marker\":{\"pattern\":{\"fillmode\":\"overlay\",\"size\":10,\"solidity\":0.2}},\"type\":\"histogram\"}],\"scattergl\":[{\"type\":\"scattergl\",\"marker\":{\"colorbar\":{\"outlinewidth\":0,\"ticks\":\"\"}}}],\"scatter3d\":[{\"type\":\"scatter3d\",\"line\":{\"colorbar\":{\"outlinewidth\":0,\"ticks\":\"\"}},\"marker\":{\"colorbar\":{\"outlinewidth\":0,\"ticks\":\"\"}}}],\"scattermapbox\":[{\"type\":\"scattermapbox\",\"marker\":{\"colorbar\":{\"outlinewidth\":0,\"ticks\":\"\"}}}],\"scatterternary\":[{\"type\":\"scatterternary\",\"marker\":{\"colorbar\":{\"outlinewidth\":0,\"ticks\":\"\"}}}],\"scattercarpet\":[{\"type\":\"scattercarpet\",\"marker\":{\"colorbar\":{\"outlinewidth\":0,\"ticks\":\"\"}}}],\"carpet\":[{\"aaxis\":{\"endlinecolor\":\"#2a3f5f\",\"gridcolor\":\"white\",\"linecolor\":\"white\",\"minorgridcolor\":\"white\",\"startlinecolor\":\"#2a3f5f\"},\"baxis\":{\"endlinecolor\":\"#2a3f5f\",\"gridcolor\":\"white\",\"linecolor\":\"white\",\"minorgridcolor\":\"white\",\"startlinecolor\":\"#2a3f5f\"},\"type\":\"carpet\"}],\"table\":[{\"cells\":{\"fill\":{\"color\":\"#EBF0F8\"},\"line\":{\"color\":\"white\"}},\"header\":{\"fill\":{\"color\":\"#C8D4E3\"},\"line\":{\"color\":\"white\"}},\"type\":\"table\"}],\"barpolar\":[{\"marker\":{\"line\":{\"color\":\"#E5ECF6\",\"width\":0.5},\"pattern\":{\"fillmode\":\"overlay\",\"size\":10,\"solidity\":0.2}},\"type\":\"barpolar\"}],\"pie\":[{\"automargin\":true,\"type\":\"pie\"}]},\"layout\":{\"autotypenumbers\":\"strict\",\"colorway\":[\"#636efa\",\"#EF553B\",\"#00cc96\",\"#ab63fa\",\"#FFA15A\",\"#19d3f3\",\"#FF6692\",\"#B6E880\",\"#FF97FF\",\"#FECB52\"],\"font\":{\"color\":\"#2a3f5f\"},\"hovermode\":\"closest\",\"hoverlabel\":{\"align\":\"left\"},\"paper_bgcolor\":\"white\",\"plot_bgcolor\":\"#E5ECF6\",\"polar\":{\"bgcolor\":\"#E5ECF6\",\"angularaxis\":{\"gridcolor\":\"white\",\"linecolor\":\"white\",\"ticks\":\"\"},\"radialaxis\":{\"gridcolor\":\"white\",\"linecolor\":\"white\",\"ticks\":\"\"}},\"ternary\":{\"bgcolor\":\"#E5ECF6\",\"aaxis\":{\"gridcolor\":\"white\",\"linecolor\":\"white\",\"ticks\":\"\"},\"baxis\":{\"gridcolor\":\"white\",\"linecolor\":\"white\",\"ticks\":\"\"},\"caxis\":{\"gridcolor\":\"white\",\"linecolor\":\"white\",\"ticks\":\"\"}},\"coloraxis\":{\"colorbar\":{\"outlinewidth\":0,\"ticks\":\"\"}},\"colorscale\":{\"sequential\":[[0.0,\"#0d0887\"],[0.1111111111111111,\"#46039f\"],[0.2222222222222222,\"#7201a8\"],[0.3333333333333333,\"#9c179e\"],[0.4444444444444444,\"#bd3786\"],[0.5555555555555556,\"#d8576b\"],[0.6666666666666666,\"#ed7953\"],[0.7777777777777778,\"#fb9f3a\"],[0.8888888888888888,\"#fdca26\"],[1.0,\"#f0f921\"]],\"sequentialminus\":[[0.0,\"#0d0887\"],[0.1111111111111111,\"#46039f\"],[0.2222222222222222,\"#7201a8\"],[0.3333333333333333,\"#9c179e\"],[0.4444444444444444,\"#bd3786\"],[0.5555555555555556,\"#d8576b\"],[0.6666666666666666,\"#ed7953\"],[0.7777777777777778,\"#fb9f3a\"],[0.8888888888888888,\"#fdca26\"],[1.0,\"#f0f921\"]],\"diverging\":[[0,\"#8e0152\"],[0.1,\"#c51b7d\"],[0.2,\"#de77ae\"],[0.3,\"#f1b6da\"],[0.4,\"#fde0ef\"],[0.5,\"#f7f7f7\"],[0.6,\"#e6f5d0\"],[0.7,\"#b8e186\"],[0.8,\"#7fbc41\"],[0.9,\"#4d9221\"],[1,\"#276419\"]]},\"xaxis\":{\"gridcolor\":\"white\",\"linecolor\":\"white\",\"ticks\":\"\",\"title\":{\"standoff\":15},\"zerolinecolor\":\"white\",\"automargin\":true,\"zerolinewidth\":2},\"yaxis\":{\"gridcolor\":\"white\",\"linecolor\":\"white\",\"ticks\":\"\",\"title\":{\"standoff\":15},\"zerolinecolor\":\"white\",\"automargin\":true,\"zerolinewidth\":2},\"scene\":{\"xaxis\":{\"backgroundcolor\":\"#E5ECF6\",\"gridcolor\":\"white\",\"linecolor\":\"white\",\"showbackground\":true,\"ticks\":\"\",\"zerolinecolor\":\"white\",\"gridwidth\":2},\"yaxis\":{\"backgroundcolor\":\"#E5ECF6\",\"gridcolor\":\"white\",\"linecolor\":\"white\",\"showbackground\":true,\"ticks\":\"\",\"zerolinecolor\":\"white\",\"gridwidth\":2},\"zaxis\":{\"backgroundcolor\":\"#E5ECF6\",\"gridcolor\":\"white\",\"linecolor\":\"white\",\"showbackground\":true,\"ticks\":\"\",\"zerolinecolor\":\"white\",\"gridwidth\":2}},\"shapedefaults\":{\"line\":{\"color\":\"#2a3f5f\"}},\"annotationdefaults\":{\"arrowcolor\":\"#2a3f5f\",\"arrowhead\":0,\"arrowwidth\":1},\"geo\":{\"bgcolor\":\"white\",\"landcolor\":\"#E5ECF6\",\"subunitcolor\":\"white\",\"showland\":true,\"showlakes\":true,\"lakecolor\":\"white\"},\"title\":{\"x\":0.05},\"mapbox\":{\"style\":\"light\"}}},\"xaxis\":{\"anchor\":\"y\",\"domain\":[0.0,1.0],\"title\":{\"text\":\"Logged GDP per capita\"}},\"yaxis\":{\"anchor\":\"x\",\"domain\":[0.0,1.0],\"title\":{\"text\":\"Life expectancy\"}},\"legend\":{\"title\":{\"text\":\"Regional Indicator\"},\"tracegroupgap\":0,\"itemsizing\":\"constant\"},\"margin\":{\"t\":60}},                        {\"responsive\": true}                    ).then(function(){\n",
       "                            \n",
       "var gd = document.getElementById('dc2eeb03-5809-4d0a-8e5a-5c2e05e72745');\n",
       "var x = new MutationObserver(function (mutations, observer) {{\n",
       "        var display = window.getComputedStyle(gd).display;\n",
       "        if (!display || display === 'none') {{\n",
       "            console.log([gd, 'removed!']);\n",
       "            Plotly.purge(gd);\n",
       "            observer.disconnect();\n",
       "        }}\n",
       "}});\n",
       "\n",
       "// Listen for the removal of the full notebook cells\n",
       "var notebookContainer = gd.closest('#notebook-container');\n",
       "if (notebookContainer) {{\n",
       "    x.observe(notebookContainer, {childList: true});\n",
       "}}\n",
       "\n",
       "// Listen for the clearing of the current output cell\n",
       "var outputEl = gd.closest('.output');\n",
       "if (outputEl) {{\n",
       "    x.observe(outputEl, {childList: true});\n",
       "}}\n",
       "\n",
       "                        })                };                });            </script>        </div>"
      ]
     },
     "metadata": {},
     "output_type": "display_data"
    }
   ],
   "source": [
    "fig.show()"
   ]
  }
 ],
 "metadata": {
  "kernelspec": {
   "display_name": "data_venv",
   "language": "python",
   "name": "data_venv"
  },
  "language_info": {
   "codemirror_mode": {
    "name": "ipython",
    "version": 3
   },
   "file_extension": ".py",
   "mimetype": "text/x-python",
   "name": "python",
   "nbconvert_exporter": "python",
   "pygments_lexer": "ipython3",
   "version": "3.10.9"
  }
 },
 "nbformat": 4,
 "nbformat_minor": 5
}
