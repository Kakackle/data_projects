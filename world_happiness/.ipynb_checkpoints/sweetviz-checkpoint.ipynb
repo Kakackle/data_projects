{
 "cells": [
  {
   "cell_type": "markdown",
   "id": "cf026761-b5b0-445b-8c8b-eff424282e83",
   "metadata": {},
   "source": [
    "# Sweetviz tests"
   ]
  },
  {
   "cell_type": "code",
   "execution_count": 1,
   "id": "758f33a4-dc5d-4dc7-9145-fed3ab408367",
   "metadata": {},
   "outputs": [],
   "source": [
    "import pandas as pd"
   ]
  },
  {
   "cell_type": "code",
   "execution_count": 2,
   "id": "12f1dc0a-cd73-48d2-909a-278195d8c8ce",
   "metadata": {},
   "outputs": [],
   "source": [
    "import sweetviz"
   ]
  },
  {
   "cell_type": "code",
   "execution_count": null,
   "id": "8c1a3d0b-ff27-49c7-9418-138575316507",
   "metadata": {},
   "outputs": [],
   "source": [
    "df = "
   ]
  }
 ],
 "metadata": {
  "kernelspec": {
   "display_name": "data_venv",
   "language": "python",
   "name": "data_venv"
  },
  "language_info": {
   "codemirror_mode": {
    "name": "ipython",
    "version": 3
   },
   "file_extension": ".py",
   "mimetype": "text/x-python",
   "name": "python",
   "nbconvert_exporter": "python",
   "pygments_lexer": "ipython3",
   "version": "3.10.9"
  }
 },
 "nbformat": 4,
 "nbformat_minor": 5
}
