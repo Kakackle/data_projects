{
 "cells": [
  {
   "cell_type": "code",
   "execution_count": null,
   "id": "e3f57acc-872b-483c-9194-c1cd361f87c7",
   "metadata": {},
   "outputs": [],
   "source": [
    "import pandas as pd\n",
    "import os\n",
    "import plotly.express as px\n",
    "from plotly import graph_objects as go\n",
    "from plotly.subplots import make_subplots\n",
    "\n",
    "from dash import Dash, html, dcc, callback, Output, Input\n",
    "import dash_bootstrap_components as dbc\n"
   ]
  },
  {
   "cell_type": "markdown",
   "id": "21140b5e-a464-4e92-afc4-76673b551a8e",
   "metadata": {},
   "source": [
    "### Single year (2023) explorations"
   ]
  },
  {
   "cell_type": "code",
   "execution_count": null,
   "id": "b01db2b2-69e1-4ad9-8c1b-fae9f9802ce2",
   "metadata": {},
   "outputs": [],
   "source": [
    "df = pd.read_csv('datafiles/combined_df_2023.csv', index_col = 0)"
   ]
  },
  {
   "cell_type": "code",
   "execution_count": null,
   "id": "dcc47aa1-415a-4cd6-a45d-48fc4528c599",
   "metadata": {},
   "outputs": [],
   "source": [
    "df.head()"
   ]
  },
  {
   "cell_type": "code",
   "execution_count": null,
   "id": "e894b461-6533-40a6-a493-e0a0abe5271e",
   "metadata": {},
   "outputs": [],
   "source": [
    "df.columns"
   ]
  },
  {
   "cell_type": "code",
   "execution_count": null,
   "id": "aa33a061-3e38-4210-82ef-5e2e643de006",
   "metadata": {},
   "outputs": [],
   "source": [
    "ladder_sorted_df = df.sort_values(by=['Ladder score'], ascending=False)"
   ]
  },
  {
   "cell_type": "code",
   "execution_count": null,
   "id": "08bfc0b5-1b24-4f6a-a40b-8f2eed2a69a3",
   "metadata": {
    "scrolled": true
   },
   "outputs": [],
   "source": [
    "top_10_countries = ladder_sorted_df.head(10)\n",
    "bottom_10_countries = ladder_sorted_df.tail(10)"
   ]
  },
  {
   "cell_type": "code",
   "execution_count": null,
   "id": "9554cba0-c379-4370-ad5c-ebbc5d15b42e",
   "metadata": {
    "scrolled": true
   },
   "outputs": [],
   "source": [
    "bottom_10_countries"
   ]
  },
  {
   "cell_type": "code",
   "execution_count": null,
   "id": "e81c3cc1-0a7f-45ce-948f-00b0e88270a6",
   "metadata": {},
   "outputs": [],
   "source": [
    "grouped_regions = df.groupby(by=['Regional Indicator'], as_index=False)"
   ]
  },
  {
   "cell_type": "code",
   "execution_count": null,
   "id": "ecce225a-43c5-45e0-ad7a-3ccef3e09c7e",
   "metadata": {},
   "outputs": [],
   "source": [
    "from pandas.api.types import is_numeric_dtype"
   ]
  },
  {
   "cell_type": "code",
   "execution_count": null,
   "id": "3d023563-d8e4-46d7-b83b-46ada7e3d396",
   "metadata": {},
   "outputs": [],
   "source": [
    "numeric_cols = []\n",
    "non_numeric_cols = []"
   ]
  },
  {
   "cell_type": "code",
   "execution_count": null,
   "id": "8bb60e5b-4115-4b07-9cb5-247f6a73c1fb",
   "metadata": {},
   "outputs": [],
   "source": [
    "for col in df.columns:\n",
    "    if is_numeric_dtype(df[col]):\n",
    "        numeric_cols.append(col)\n",
    "    else:\n",
    "        non_numeric_cols.append(col)    "
   ]
  },
  {
   "cell_type": "code",
   "execution_count": null,
   "id": "801caa6f-25a4-4299-9ff5-28a9c14d1cbd",
   "metadata": {},
   "outputs": [],
   "source": [
    "numeric_cols"
   ]
  },
  {
   "cell_type": "code",
   "execution_count": null,
   "id": "22235cca-08cc-4ee8-898d-5d590ad76db5",
   "metadata": {
    "scrolled": true
   },
   "outputs": [],
   "source": [
    "grouped_regions.dtypes"
   ]
  },
  {
   "cell_type": "code",
   "execution_count": null,
   "id": "fabe2730-62b7-4aa4-8459-54bfe3101c92",
   "metadata": {},
   "outputs": [],
   "source": [
    "grouped_regions_mean = grouped_regions[[*numeric_cols]].mean()"
   ]
  },
  {
   "cell_type": "code",
   "execution_count": null,
   "id": "f63675b0-8235-41c4-987f-9d4eca4210d0",
   "metadata": {},
   "outputs": [],
   "source": [
    "grouped_regions_mean.sort_values(by=\"Ladder score\", inplace=True, ascending=False)"
   ]
  },
  {
   "cell_type": "code",
   "execution_count": null,
   "id": "2a9096a1-415e-40bc-ac46-ae0d96bac514",
   "metadata": {},
   "outputs": [],
   "source": [
    "grouped_regions_mean"
   ]
  },
  {
   "cell_type": "code",
   "execution_count": null,
   "id": "b5f3095f-c7df-40c2-b508-7066c6a3ff39",
   "metadata": {},
   "outputs": [],
   "source": [
    "#ff7f0e"
   ]
  },
  {
   "cell_type": "code",
   "execution_count": null,
   "id": "4d9f6b29-22d3-4f17-a20e-d96fc72c8947",
   "metadata": {},
   "outputs": [],
   "source": [
    "# ladder_gdp_fig = px.bar(grouped_regions_mean, y='Ladder score', x='Regional Indicator')\n",
    "# ladder_gdp_fig.add_trace(px.scatter(grouped_regions_mean, x='Regional Indicator', y='Logged GDP per capita',\n",
    "#                                 line=dict(color='#ff7f0e')).data[0])"
   ]
  },
  {
   "cell_type": "code",
   "execution_count": null,
   "id": "e702ba7d-1b6a-4f8a-ac1b-3141b7117bfc",
   "metadata": {},
   "outputs": [],
   "source": [
    "ladder_gdp_fig = px.bar(grouped_regions_mean, y='Ladder score', x='Regional Indicator')\n",
    "ladder_gdp_fig.add_trace(go.Scatter(x=grouped_regions_mean['Regional Indicator'],\n",
    "                                    y=grouped_regions_mean['Logged GDP per capita'],\n",
    "                                    line=dict(color='#ff7f0e'),\n",
    "                                    name='GDP',\n",
    "                                    mode='lines'))"
   ]
  },
  {
   "cell_type": "markdown",
   "id": "243be357-aba7-44df-9272-6ac39e7775f9",
   "metadata": {},
   "source": [
    "### ========== Dash app =========="
   ]
  },
  {
   "cell_type": "code",
   "execution_count": null,
   "id": "e6e5317f-e194-47ad-b71d-7d314973c1c2",
   "metadata": {},
   "outputs": [],
   "source": [
    "app = Dash(external_stylesheets=[dbc.themes.BOOTSTRAP])"
   ]
  },
  {
   "cell_type": "markdown",
   "id": "50379d3e-9577-4b7e-a1fe-0f9c46e69e22",
   "metadata": {},
   "source": [
    "#### Metric vs ladder score"
   ]
  },
  {
   "cell_type": "code",
   "execution_count": null,
   "id": "14ec56b9-430a-4c7b-a3cc-89e31de58704",
   "metadata": {},
   "outputs": [],
   "source": [
    "metric_vs_ladder_controls = dbc.Card(\n",
    "    [\n",
    "        html.Div(\n",
    "            [\n",
    "            dbc.Label(\"Metric\"),\n",
    "            dcc.Dropdown(\n",
    "                id='metric-vs-ladder-selection',\n",
    "                value = 'Social support',\n",
    "                options = list(df.columns)\n",
    "            )\n",
    "            ]),\n",
    "    ],\n",
    "    body=True,\n",
    ")"
   ]
  },
  {
   "cell_type": "code",
   "execution_count": null,
   "id": "7d1ad00a-3c83-4d20-b676-86bde546b381",
   "metadata": {},
   "outputs": [],
   "source": [
    "metric_vs_ladder_container = dbc.Container([\n",
    "    html.H1(children = 'Chosen metric vs ladder score', style={'textAlign': 'center'}),\n",
    "    html.P(id='metric-vs-ladder-test'),\n",
    "    dbc.Row(\n",
    "        [\n",
    "            dbc.Col(metric_vs_ladder_controls, md=4),\n",
    "            dbc.Col(dcc.Graph(id='metric-vs-ladder-graph'), md=8),\n",
    "        ],\n",
    "        align=\"center\",\n",
    "    ),\n",
    "], fluid=True)"
   ]
  },
  {
   "cell_type": "code",
   "execution_count": null,
   "id": "fc14437e-5ee5-4e0e-8cf4-3f4ba847a837",
   "metadata": {},
   "outputs": [],
   "source": [
    "@app.callback(\n",
    "    [\n",
    "        Output('metric-vs-ladder-graph', 'figure'),\n",
    "        Output('metric-vs-ladder-test', 'children')\n",
    "    ],\n",
    "    [\n",
    "        Input('metric-vs-ladder-selection', 'value'),\n",
    "    ]\n",
    ")\n",
    "def update_metric_vs_ladder_graph(metric):\n",
    "    fig = px.scatter(df, y='Ladder score', x=metric, hover_data='Country', color='Regional Indicator',\n",
    "                    trendline='ols')\n",
    "    return fig, f'metric: {metric}'"
   ]
  },
  {
   "cell_type": "markdown",
   "id": "9100438c-7fbd-4913-a4a6-564ecfa900b8",
   "metadata": {},
   "source": [
    "#### Metric vs life expectancy"
   ]
  },
  {
   "cell_type": "code",
   "execution_count": null,
   "id": "232271ab-0499-43c1-829e-60708d601453",
   "metadata": {},
   "outputs": [],
   "source": [
    "metric_vs_life_controls = dbc.Card(\n",
    "    [\n",
    "        html.Div(\n",
    "            [\n",
    "            dbc.Label(\"Metric\"),\n",
    "            dcc.Dropdown(\n",
    "                id='metric-vs-life-selection',\n",
    "                value = 'Social support',\n",
    "                options = list(df.columns)\n",
    "            )\n",
    "            ]),\n",
    "    ],\n",
    "    body=True,\n",
    ")"
   ]
  },
  {
   "cell_type": "code",
   "execution_count": null,
   "id": "fb8319a7-f7d6-4369-905c-25f4f29c67cc",
   "metadata": {},
   "outputs": [],
   "source": [
    "metric_vs_life_container = dbc.Container([\n",
    "    html.H1(children = 'Chosen metric vs life expectancy', style={'textAlign': 'center'}),\n",
    "    html.P(id='metric-vs-life-test'),\n",
    "    dbc.Row(\n",
    "        [\n",
    "            dbc.Col(metric_vs_life_controls, md=4),\n",
    "            dbc.Col(dcc.Graph(id='metric-vs-life-graph'), md=8),\n",
    "        ],\n",
    "        align=\"center\",\n",
    "    ),\n",
    "], fluid=True)"
   ]
  },
  {
   "cell_type": "code",
   "execution_count": null,
   "id": "120be5ff-5d94-4c33-bfb0-197a680b676c",
   "metadata": {},
   "outputs": [],
   "source": [
    "@app.callback(\n",
    "    [\n",
    "        Output('metric-vs-life-graph', 'figure')\n",
    "        ,Output('metric-vs-life-test', 'children')\n",
    "    ],\n",
    "    [\n",
    "        Input('metric-vs-life-selection', 'value'),\n",
    "    ]\n",
    ")\n",
    "def update_metric_vs_ladder_graph(metric):\n",
    "    fig = px.scatter(df, y='Life expectancy', x=metric, hover_data='Country', color='Regional Indicator')\n",
    "    return fig, f'metric: {metric}'"
   ]
  },
  {
   "cell_type": "code",
   "execution_count": null,
   "id": "dae30094-6f6b-4028-8739-5daab6c0969a",
   "metadata": {},
   "outputs": [],
   "source": [
    "# px.scatter(df, y='Ladder score', x='Social support', hover_data='Country', color='Regional Indicator', trendline='ols')"
   ]
  },
  {
   "cell_type": "code",
   "execution_count": null,
   "id": "77d94767-7781-44f4-9091-12744b5cb300",
   "metadata": {},
   "outputs": [],
   "source": [
    "app.layout = dbc.Container([\n",
    "    metric_vs_ladder_container,\n",
    "    html.Hr(),\n",
    "    metric_vs_life_container,\n",
    "    html.Hr(),\n",
    "], fluid=True)"
   ]
  },
  {
   "cell_type": "code",
   "execution_count": null,
   "id": "c9e0a48f-2a13-4f70-9052-d7c17994c9e4",
   "metadata": {
    "scrolled": true
   },
   "outputs": [],
   "source": [
    "app.run(debug=True)"
   ]
  },
  {
   "cell_type": "code",
   "execution_count": null,
   "id": "e09f9832-2b14-4c13-98f1-e16f1c4890b1",
   "metadata": {},
   "outputs": [],
   "source": [
    "px.scatter(df, x='Infant mortality', y='Physicians per thousand')"
   ]
  },
  {
   "cell_type": "markdown",
   "id": "e1795956-4273-4092-a936-3c4c44d9416f",
   "metadata": {},
   "source": [
    "### ========== tests ==========="
   ]
  },
  {
   "cell_type": "code",
   "execution_count": null,
   "id": "566b1a1c-4ed5-4af4-a821-33cc4b190dbf",
   "metadata": {},
   "outputs": [],
   "source": [
    "fig = px.scatter(df, x=\"Logged GDP per capita\", y=\"Life expectancy\", size=\"Social support\",\n",
    "                 color=\"Regional Indicator\", hover_data='Country')"
   ]
  },
  {
   "cell_type": "code",
   "execution_count": null,
   "id": "49b3abdc-75bb-4d22-933d-cfe65ae9e097",
   "metadata": {},
   "outputs": [],
   "source": [
    "fig.show()"
   ]
  }
 ],
 "metadata": {
  "kernelspec": {
   "display_name": "data_venv",
   "language": "python",
   "name": "data_venv"
  },
  "language_info": {
   "codemirror_mode": {
    "name": "ipython",
    "version": 3
   },
   "file_extension": ".py",
   "mimetype": "text/x-python",
   "name": "python",
   "nbconvert_exporter": "python",
   "pygments_lexer": "ipython3",
   "version": "3.10.9"
  }
 },
 "nbformat": 4,
 "nbformat_minor": 5
}
